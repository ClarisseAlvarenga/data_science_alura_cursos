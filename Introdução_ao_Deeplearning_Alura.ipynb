{
  "nbformat": 4,
  "nbformat_minor": 0,
  "metadata": {
    "colab": {
      "name": "Introdução ao Deeplearning - Alura.ipynb",
      "provenance": [],
      "authorship_tag": "ABX9TyNHZXtuNIRzeiZvRGQJiPIx",
      "include_colab_link": true
    },
    "kernelspec": {
      "name": "python3",
      "display_name": "Python 3"
    },
    "language_info": {
      "name": "python"
    }
  },
  "cells": [
    {
      "cell_type": "markdown",
      "metadata": {
        "id": "view-in-github",
        "colab_type": "text"
      },
      "source": [
        "<a href=\"https://colab.research.google.com/github/ClarisseAlvarenga/data_science_alura_cursos/blob/master/Introdu%C3%A7%C3%A3o_ao_Deeplearning_Alura.ipynb\" target=\"_parent\"><img src=\"https://colab.research.google.com/assets/colab-badge.svg\" alt=\"Open In Colab\"/></a>"
      ]
    },
    {
      "cell_type": "markdown",
      "metadata": {
        "id": "avd8eUpqBzeI"
      },
      "source": [
        "# **DEEPLEARNING PARTE 1- INTRODUÇÃO COM KERAS** "
      ]
    },
    {
      "cell_type": "code",
      "metadata": {
        "id": "IJ62kumSld9P"
      },
      "source": [
        "#importando bibliotecas\n",
        "import tensorflow\n",
        "from tensorflow import keras\n",
        "import matplotlib.pyplot as plt\n",
        "import numpy as np\n",
        "from tensorflow.keras.models import load_model\n"
      ],
      "execution_count": 25,
      "outputs": []
    },
    {
      "cell_type": "markdown",
      "metadata": {
        "id": "Xi8KaVcTB8Ew"
      },
      "source": [
        "## **AULA 01 - Conhecendo o conjunto de dados**"
      ]
    },
    {
      "cell_type": "code",
      "metadata": {
        "colab": {
          "base_uri": "https://localhost:8080/"
        },
        "id": "GXoxBFRlBoX8",
        "outputId": "883ff722-7447-4a2c-b997-10ac65f3baf1"
      },
      "source": [
        "#baixando o dataset\n",
        "dataset = keras.datasets.fashion_mnist\n",
        "#carregando as tuplas de dados\n",
        "((imagens_treino,identificacoes_treino), (imagens_teste, identificacoes_teste)) = dataset.load_data()\n",
        "len(imagens_treino)"
      ],
      "execution_count": 26,
      "outputs": [
        {
          "output_type": "execute_result",
          "data": {
            "text/plain": [
              "60000"
            ]
          },
          "metadata": {
            "tags": []
          },
          "execution_count": 26
        }
      ]
    },
    {
      "cell_type": "code",
      "metadata": {
        "colab": {
          "base_uri": "https://localhost:8080/"
        },
        "id": "nyWyPSCNluzS",
        "outputId": "ff36a72c-d286-4536-9c01-f075e8a4cf12"
      },
      "source": [
        "#neste caso nós temos 60000 imagens em 28 linhas e 28 colunas de dimensão\n",
        "imagens_treino.shape"
      ],
      "execution_count": 27,
      "outputs": [
        {
          "output_type": "execute_result",
          "data": {
            "text/plain": [
              "(60000, 28, 28)"
            ]
          },
          "metadata": {
            "tags": []
          },
          "execution_count": 27
        }
      ]
    },
    {
      "cell_type": "code",
      "metadata": {
        "colab": {
          "base_uri": "https://localhost:8080/"
        },
        "id": "n11GSMr7n-fW",
        "outputId": "f76ac4bf-b596-4610-e71f-d8a233717333"
      },
      "source": [
        "#podemos ver que é um array de uma dimensão\n",
        "identificacoes_treino.shape"
      ],
      "execution_count": 28,
      "outputs": [
        {
          "output_type": "execute_result",
          "data": {
            "text/plain": [
              "(60000,)"
            ]
          },
          "metadata": {
            "tags": []
          },
          "execution_count": 28
        }
      ]
    },
    {
      "cell_type": "code",
      "metadata": {
        "colab": {
          "base_uri": "https://localhost:8080/",
          "height": 299
        },
        "id": "qShrS1c_oK3b",
        "outputId": "a20929ee-e4b2-4f55-be6f-20023f8acd19"
      },
      "source": [
        "#visualizar uma imagem do dataset\n",
        "plt.imshow(imagens_treino[0])\n",
        "plt.title(identificacoes_treino[0])"
      ],
      "execution_count": 29,
      "outputs": [
        {
          "output_type": "execute_result",
          "data": {
            "text/plain": [
              "Text(0.5, 1.0, '9')"
            ]
          },
          "metadata": {
            "tags": []
          },
          "execution_count": 29
        },
        {
          "output_type": "display_data",
          "data": {
            "image/png": "[encoded data removed]",
            "text/plain": [
              "<Figure size 432x288 with 1 Axes>"
            ]
          },
          "metadata": {
            "tags": [],
            "needs_background": "light"
          }
        }
      ]
    },
    {
      "cell_type": "code",
      "metadata": {
        "id": "pAIv-giGomgL",
        "colab": {
          "base_uri": "https://localhost:8080/"
        },
        "outputId": "0921e523-5f07-4df8-e600-b804ee1000a7"
      },
      "source": [
        "identificacoes_treino.min()"
      ],
      "execution_count": 30,
      "outputs": [
        {
          "output_type": "execute_result",
          "data": {
            "text/plain": [
              "0"
            ]
          },
          "metadata": {
            "tags": []
          },
          "execution_count": 30
        }
      ]
    },
    {
      "cell_type": "code",
      "metadata": {
        "colab": {
          "base_uri": "https://localhost:8080/"
        },
        "id": "8DaK39vbsNaT",
        "outputId": "d61ffa3a-a8a1-4042-9fad-6dbc28be5cb8"
      },
      "source": [
        "identificacoes_treino.max()"
      ],
      "execution_count": 31,
      "outputs": [
        {
          "output_type": "execute_result",
          "data": {
            "text/plain": [
              "9"
            ]
          },
          "metadata": {
            "tags": []
          },
          "execution_count": 31
        }
      ]
    },
    {
      "cell_type": "code",
      "metadata": {
        "id": "DQSTfWgisWYC"
      },
      "source": [
        "#criando variáveis para visualização\n",
        "total_de_classificacoes = 10\n",
        "nomes_de_classificacoes = ['Camiseta','Calça','Pullover','Vestido','Casaco',\n",
        "                           'Sandália','Camisa', 'Tênis', 'Bolsa', 'Bota']"
      ],
      "execution_count": 32,
      "outputs": []
    },
    {
      "cell_type": "code",
      "metadata": {
        "colab": {
          "base_uri": "https://localhost:8080/",
          "height": 240
        },
        "id": "W42MP_dvsgea",
        "outputId": "37fb3bd2-604a-49ee-d6bf-3c9ee2a51021"
      },
      "source": [
        "#exibir os dados\n",
        "for imagem in range(10):\n",
        "  plt.subplot(2,5,imagem+1)\n",
        "  plt.imshow(imagens_treino[imagem])\n",
        "\n",
        "  plt.title(nomes_de_classificacoes[identificacoes_treino[imagem]])\n"
      ],
      "execution_count": 33,
      "outputs": [
        {
          "output_type": "display_data",
          "data": {
            "image/png": "[encoded data removed]",
            "text/plain": [
              "<Figure size 432x288 with 10 Axes>"
            ]
          },
          "metadata": {
            "tags": [],
            "needs_background": "light"
          }
        }
      ]
    },
    {
      "cell_type": "code",
      "metadata": {
        "id": "1CDWrDeUs8Ex"
      },
      "source": [
        "classificacoes = {0 :\t'T-shirt/top',1 :\t'Trouser', 2 :\t'Pullover', 3\t: 'Dress', 4\t: 'Coat',\n",
        "        5\t: 'Sandal', 6\t: 'Shirt', 7\t: 'Sneaker', 8\t: 'Bag', 9\t: 'Ankle boot'}"
      ],
      "execution_count": 34,
      "outputs": []
    },
    {
      "cell_type": "code",
      "metadata": {
        "colab": {
          "base_uri": "https://localhost:8080/",
          "height": 265
        },
        "id": "8s_UtiC-gr20",
        "outputId": "7fda3ca7-0c28-4321-b423-ba5c137ed579"
      },
      "source": [
        "plt.imshow(imagens_treino[0])\n",
        "plt.colorbar();"
      ],
      "execution_count": 35,
      "outputs": [
        {
          "output_type": "display_data",
          "data": {
            "image/png": "[encoded data removed]",
            "text/plain": [
              "<Figure size 432x288 with 2 Axes>"
            ]
          },
          "metadata": {
            "tags": [],
            "needs_background": "light"
          }
        }
      ]
    },
    {
      "cell_type": "markdown",
      "metadata": {
        "id": "UFh81fZ-wB2I"
      },
      "source": [
        "## **AULA 02 - Começando a montar o modelo**"
      ]
    },
    {
      "cell_type": "markdown",
      "metadata": {
        "id": "gTqkW14JyNlA"
      },
      "source": [
        "### Camada 0\n",
        "\n",
        "Modelo é uma sequência, com entrada, processamento e saída"
      ]
    },
    {
      "cell_type": "code",
      "metadata": {
        "id": "ETaY0R90uMrw"
      },
      "source": [
        "modelo = keras.Sequential([\n",
        "                            keras.layers.Flatten(input_shape=(28,28))\n",
        "  #processamento\n",
        "  #saida\n",
        "])\n",
        "\n"
      ],
      "execution_count": 36,
      "outputs": []
    },
    {
      "cell_type": "markdown",
      "metadata": {
        "id": "hLWJOX1HozRa"
      },
      "source": [
        "## **AULA 03 - Adicionando camadas ocultas**"
      ]
    },
    {
      "cell_type": "code",
      "metadata": {
        "id": "_JJaaFG10Fyx",
        "colab": {
          "base_uri": "https://localhost:8080/"
        },
        "outputId": "43009621-825b-4b11-93a9-9febeb758ee2"
      },
      "source": [
        "#alterando as imagens de treino para facilitar o uso no modelo, normalizando as imagens \n",
        "imagens_treino = imagens_treino/float(255)\n",
        "#modelo multi-camadas\n",
        "modelo = keras.Sequential([ keras.layers.Flatten(input_shape=(28,28)), #entrada\n",
        "                            keras.layers.Dense(256, activation=tensorflow.nn.relu),#processamento\n",
        "                            keras.layers.Dense(10, activation=tensorflow.nn.softmax)])#saída \n",
        "\n",
        "#no Keras é necessário compilar o modelo antes de treiná-lo\n",
        "modelo.compile(optimizer='adam', \n",
        "               loss='sparse_categorical_crossentropy')\n",
        "\n",
        "modelo.fit(imagens_treino, identificacoes_treino)"
      ],
      "execution_count": 37,
      "outputs": [
        {
          "output_type": "stream",
          "text": [
            "1875/1875 [==============================] - 5s 3ms/step - loss: 0.4861\n"
          ],
          "name": "stdout"
        },
        {
          "output_type": "execute_result",
          "data": {
            "text/plain": [
              "<tensorflow.python.keras.callbacks.History at 0x7fbc55307250>"
            ]
          },
          "metadata": {
            "tags": []
          },
          "execution_count": 37
        }
      ]
    },
    {
      "cell_type": "markdown",
      "metadata": {
        "id": "sA5e3fFpiFWh"
      },
      "source": [
        "## **AULA 04 -Ensinando o modelo**"
      ]
    },
    {
      "cell_type": "code",
      "metadata": {
        "colab": {
          "base_uri": "https://localhost:8080/"
        },
        "id": "PXA0xVrMfTAl",
        "outputId": "506ee7b8-e7e9-4159-d59f-bcf986b9c737"
      },
      "source": [
        "#modelo multi-camadas (aumentando o número de camadas)\n",
        "modelo = keras.Sequential([ keras.layers.Flatten(input_shape=(28,28)), #entrada\n",
        "                           #camadas ocultas\n",
        "                            keras.layers.Dense(256, activation=tensorflow.nn.relu),\n",
        "                            keras.layers.Dropout(0.2),#processamento\n",
        "                            #keras.layers.Dense(128, activation=tensorflow.nn.relu), # a adição dessas camadas não melhorou o modelo neste caso\n",
        "                            #keras.layers.Dense(64, activation=tensorflow.nn.relu),\n",
        "                            #camada de saída\n",
        "                            keras.layers.Dense(10, activation=tensorflow.nn.softmax)])#saída \n",
        "\n",
        "#no Keras é necessário compilar o modelo antes de treiná-lo\n",
        "modelo.compile(optimizer='adam', \n",
        "               loss='sparse_categorical_crossentropy',\n",
        "               metrics= 'accuracy')\n",
        "#aumentando o número de treinos\n",
        "historico = modelo.fit(imagens_treino, identificacoes_treino, epochs=5, validation_split=0.2)"
      ],
      "execution_count": 38,
      "outputs": [
        {
          "output_type": "stream",
          "text": [
            "Epoch 1/5\n",
            "1500/1500 [==============================] - 5s 3ms/step - loss: 0.5284 - accuracy: 0.8125 - val_loss: 0.4146 - val_accuracy: 0.8512\n",
            "Epoch 2/5\n",
            "1500/1500 [==============================] - 5s 3ms/step - loss: 0.3999 - accuracy: 0.8551 - val_loss: 0.3856 - val_accuracy: 0.8605\n",
            "Epoch 3/5\n",
            "1500/1500 [==============================] - 5s 3ms/step - loss: 0.3640 - accuracy: 0.8670 - val_loss: 0.3419 - val_accuracy: 0.8768\n",
            "Epoch 4/5\n",
            "1500/1500 [==============================] - 5s 3ms/step - loss: 0.3403 - accuracy: 0.8733 - val_loss: 0.3704 - val_accuracy: 0.8621\n",
            "Epoch 5/5\n",
            "1500/1500 [==============================] - 5s 3ms/step - loss: 0.3226 - accuracy: 0.8808 - val_loss: 0.3318 - val_accuracy: 0.8797\n"
          ],
          "name": "stdout"
        }
      ]
    },
    {
      "cell_type": "code",
      "metadata": {
        "id": "-Zo_ybrO2cr7"
      },
      "source": [
        "#salvando o modelo\n",
        "modelo.save('modelo.h5')\n",
        "#carregando o modelo\n",
        "modelo_salvo = load_model('modelo.h5')"
      ],
      "execution_count": 39,
      "outputs": []
    },
    {
      "cell_type": "markdown",
      "metadata": {
        "id": "T2WvDSv-ngpx"
      },
      "source": [
        "## **AULA 05 - Medindo o Resultado do Modelo**"
      ]
    },
    {
      "cell_type": "code",
      "metadata": {
        "id": "k55zIKdEiZjc"
      },
      "source": [
        "#testando o modelo\n",
        "testes = modelo.predict(imagens_teste)"
      ],
      "execution_count": 40,
      "outputs": []
    },
    {
      "cell_type": "code",
      "metadata": {
        "colab": {
          "base_uri": "https://localhost:8080/"
        },
        "id": "Q_GLJoPHn-uk",
        "outputId": "f79b222d-62e5-416a-9d5d-d76db9a26de9"
      },
      "source": [
        "#inspecionando o primeiro item dos testes\n",
        "testes[1]"
      ],
      "execution_count": 41,
      "outputs": [
        {
          "output_type": "execute_result",
          "data": {
            "text/plain": [
              "array([0., 0., 1., 0., 0., 0., 0., 0., 0., 0.], dtype=float32)"
            ]
          },
          "metadata": {
            "tags": []
          },
          "execution_count": 41
        }
      ]
    },
    {
      "cell_type": "code",
      "metadata": {
        "colab": {
          "base_uri": "https://localhost:8080/"
        },
        "id": "jgmoGG-OoE07",
        "outputId": "81d5c5b2-488b-41a0-c6d4-8563b3d5b70d"
      },
      "source": [
        "#visualizando o maior número e sua posição usando o numpy\n",
        "print(f'resultado teste: {np.argmax(testes[1])}')\n",
        "print(f'número da imagem de teste: {identificacoes_teste[2]}')"
      ],
      "execution_count": 42,
      "outputs": [
        {
          "output_type": "stream",
          "text": [
            "resultado teste: 2\n",
            "número da imagem de teste: 1\n"
          ],
          "name": "stdout"
        }
      ]
    },
    {
      "cell_type": "code",
      "metadata": {
        "colab": {
          "base_uri": "https://localhost:8080/"
        },
        "id": "EIx4-MBDooqd",
        "outputId": "4bf66970-1ac0-4845-c249-94e043db9a08"
      },
      "source": [
        "#criando uma função de avaliação do modelo\n",
        "perda_teste, acuracia_teste = modelo.evaluate(imagens_teste,identificacoes_teste)\n",
        "print(f'perda do teste: {perda_teste}')\n",
        "print(f'acurácia do teste: {acuracia_teste}')"
      ],
      "execution_count": 43,
      "outputs": [
        {
          "output_type": "stream",
          "text": [
            "313/313 [==============================] - 1s 2ms/step - loss: 41.8203 - accuracy: 0.8680\n",
            "perda do teste: 41.82029342651367\n",
            "acurácia do teste: 0.8679999709129333\n"
          ],
          "name": "stdout"
        }
      ]
    },
    {
      "cell_type": "code",
      "metadata": {
        "colab": {
          "base_uri": "https://localhost:8080/"
        },
        "id": "kMxRc-mxpObM",
        "outputId": "f750cbba-2432-4544-c0e0-a32d801d6db2"
      },
      "source": [
        "imagens_treino.shape"
      ],
      "execution_count": 44,
      "outputs": [
        {
          "output_type": "execute_result",
          "data": {
            "text/plain": [
              "(60000, 28, 28)"
            ]
          },
          "metadata": {
            "tags": []
          },
          "execution_count": 44
        }
      ]
    },
    {
      "cell_type": "code",
      "metadata": {
        "colab": {
          "base_uri": "https://localhost:8080/",
          "height": 299
        },
        "id": "IKmoU9jQv-rC",
        "outputId": "811d4eaf-61c2-4101-e0e8-876e386a9404"
      },
      "source": [
        "plt.plot(historico.history['accuracy'])\n",
        "plt.plot(historico.history['val_accuracy'])\n",
        "plt.title('Acurácia por Épocas')\n",
        "plt.xlabel('Épocas')\n",
        "plt.ylabel('Acurácia')\n",
        "plt.legend(['treino','validação']);"
      ],
      "execution_count": 45,
      "outputs": [
        {
          "output_type": "display_data",
          "data": {
            "image/png": "[encoded data removed]",
            "text/plain": [
              "<Figure size 432x288 with 1 Axes>"
            ]
          },
          "metadata": {
            "tags": [],
            "needs_background": "light"
          }
        }
      ]
    },
    {
      "cell_type": "code",
      "metadata": {
        "colab": {
          "base_uri": "https://localhost:8080/",
          "height": 299
        },
        "id": "FFExwzrfqIxh",
        "outputId": "6defd512-6232-42ac-d32e-eedaf98fe2af"
      },
      "source": [
        "plt.plot(historico.history['loss'])\n",
        "plt.plot(historico.history['val_loss'])\n",
        "plt.title('Perda por Épocas')\n",
        "plt.xlabel('Épocas')\n",
        "plt.ylabel('Perda')\n",
        "plt.legend(['treino','validação']);"
      ],
      "execution_count": 46,
      "outputs": [
        {
          "output_type": "display_data",
          "data": {
            "image/png": "[encoded data removed]",
            "text/plain": [
              "<Figure size 432x288 with 1 Axes>"
            ]
          },
          "metadata": {
            "tags": [],
            "needs_background": "light"
          }
        }
      ]
    },
    {
      "cell_type": "code",
      "metadata": {
        "id": "_7PinfC3xp8o"
      },
      "source": [
        "testes_modelo_salvo = modelo_salvo.predict(imagens_teste)"
      ],
      "execution_count": 47,
      "outputs": []
    },
    {
      "cell_type": "code",
      "metadata": {
        "colab": {
          "base_uri": "https://localhost:8080/"
        },
        "id": "lEeB1DY23FXY",
        "outputId": "6a81499a-1255-48eb-cba9-8dd502172359"
      },
      "source": [
        "#visualizando o maior número e sua posição usando o numpy\n",
        "print(f'resultado teste: {np.argmax(testes_modelo_salvo[1])}')\n",
        "print(f'número da imagem de teste: {identificacoes_teste[1]}')"
      ],
      "execution_count": 48,
      "outputs": [
        {
          "output_type": "stream",
          "text": [
            "resultado teste: 2\n",
            "número da imagem de teste: 2\n"
          ],
          "name": "stdout"
        }
      ]
    },
    {
      "cell_type": "code",
      "metadata": {
        "id": "e-vj8Zu73Mgo"
      },
      "source": [
        ""
      ],
      "execution_count": 48,
      "outputs": []
    }
  ]
}