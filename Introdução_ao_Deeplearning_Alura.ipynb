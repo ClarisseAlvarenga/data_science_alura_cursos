{
  "nbformat": 4,
  "nbformat_minor": 0,
  "metadata": {
    "colab": {
      "name": "Introdução ao Deeplearning - Alura.ipynb",
      "provenance": [],
      "toc_visible": true,
      "authorship_tag": "ABX9TyMA3lGeHatp63DpMHD9KQ08",
      "include_colab_link": true
    },
    "kernelspec": {
      "name": "python3",
      "display_name": "Python 3"
    },
    "language_info": {
      "name": "python"
    }
  },
  "cells": [
    {
      "cell_type": "markdown",
      "metadata": {
        "id": "view-in-github",
        "colab_type": "text"
      },
      "source": [
        "<a href=\"https://colab.research.google.com/github/ClarisseAlvarenga/data_science_alura_cursos/blob/master/Introdu%C3%A7%C3%A3o_ao_Deeplearning_Alura.ipynb\" target=\"_parent\"><img src=\"https://colab.research.google.com/assets/colab-badge.svg\" alt=\"Open In Colab\"/></a>"
      ]
    },
    {
      "cell_type": "markdown",
      "metadata": {
        "id": "avd8eUpqBzeI"
      },
      "source": [
        "# **DEEPLEARNING PARTE 1- INTRODUÇÃO COM KERAS** "
      ]
    },
    {
      "cell_type": "code",
      "metadata": {
        "id": "IJ62kumSld9P"
      },
      "source": [
        "#importando bibliotecas\n",
        "import tensorflow\n",
        "from tensorflow import keras\n",
        "import matplotlib.pyplot as plt\n",
        "import numpy as np\n",
        "from tensorflow.keras.models import load_model\n"
      ],
      "execution_count": null,
      "outputs": []
    },
    {
      "cell_type": "markdown",
      "metadata": {
        "id": "Xi8KaVcTB8Ew"
      },
      "source": [
        "## **AULA 01 - Conhecendo o conjunto de dados**"
      ]
    },
    {
      "cell_type": "code",
      "metadata": {
        "id": "GXoxBFRlBoX8"
      },
      "source": [
        "#baixando o dataset\n",
        "dataset = keras.datasets.fashion_mnist\n",
        "#carregando as tuplas de dados\n",
        "((imagens_treino,identificacoes_treino), (imagens_teste, identificacoes_teste)) = dataset.load_data()\n",
        "len(imagens_treino)"
      ],
      "execution_count": null,
      "outputs": []
    },
    {
      "cell_type": "code",
      "metadata": {
        "id": "nyWyPSCNluzS"
      },
      "source": [
        "#neste caso nós temos 60000 imagens em 28 linhas e 28 colunas de dimensão\n",
        "imagens_treino.shape"
      ],
      "execution_count": null,
      "outputs": []
    },
    {
      "cell_type": "code",
      "metadata": {
        "id": "n11GSMr7n-fW"
      },
      "source": [
        "#podemos ver que é um array de uma dimensão\n",
        "identificacoes_treino.shape"
      ],
      "execution_count": null,
      "outputs": []
    },
    {
      "cell_type": "code",
      "metadata": {
        "id": "qShrS1c_oK3b"
      },
      "source": [
        "#visualizar uma imagem do dataset\n",
        "plt.imshow(imagens_treino[0])\n",
        "plt.title(identificacoes_treino[0])"
      ],
      "execution_count": null,
      "outputs": []
    },
    {
      "cell_type": "code",
      "metadata": {
        "id": "pAIv-giGomgL"
      },
      "source": [
        "identificacoes_treino.min()"
      ],
      "execution_count": null,
      "outputs": []
    },
    {
      "cell_type": "code",
      "metadata": {
        "id": "8DaK39vbsNaT"
      },
      "source": [
        "identificacoes_treino.max()"
      ],
      "execution_count": null,
      "outputs": []
    },
    {
      "cell_type": "code",
      "metadata": {
        "id": "DQSTfWgisWYC"
      },
      "source": [
        "#criando variáveis para visualização\n",
        "total_de_classificacoes = 10\n",
        "nomes_de_classificacoes = ['Camiseta','Calça','Pullover','Vestido','Casaco',\n",
        "                           'Sandália','Camisa', 'Tênis', 'Bolsa', 'Bota']"
      ],
      "execution_count": null,
      "outputs": []
    },
    {
      "cell_type": "code",
      "metadata": {
        "id": "W42MP_dvsgea"
      },
      "source": [
        "#exibir os dados\n",
        "for imagem in range(10):\n",
        "  plt.subplot(2,5,imagem+1)\n",
        "  plt.imshow(imagens_treino[imagem])\n",
        "\n",
        "  plt.title(nomes_de_classificacoes[identificacoes_treino[imagem]])\n"
      ],
      "execution_count": null,
      "outputs": []
    },
    {
      "cell_type": "code",
      "metadata": {
        "id": "1CDWrDeUs8Ex"
      },
      "source": [
        "classificacoes = {0 :\t'T-shirt/top',1 :\t'Trouser', 2 :\t'Pullover', 3\t: 'Dress', 4\t: 'Coat',\n",
        "        5\t: 'Sandal', 6\t: 'Shirt', 7\t: 'Sneaker', 8\t: 'Bag', 9\t: 'Ankle boot'}"
      ],
      "execution_count": null,
      "outputs": []
    },
    {
      "cell_type": "code",
      "metadata": {
        "id": "8s_UtiC-gr20"
      },
      "source": [
        "plt.imshow(imagens_treino[0])\n",
        "plt.colorbar();"
      ],
      "execution_count": null,
      "outputs": []
    },
    {
      "cell_type": "markdown",
      "metadata": {
        "id": "UFh81fZ-wB2I"
      },
      "source": [
        "## **AULA 02 - Começando a montar o modelo**"
      ]
    },
    {
      "cell_type": "markdown",
      "metadata": {
        "id": "gTqkW14JyNlA"
      },
      "source": [
        "### Camada 0\n",
        "\n",
        "Modelo é uma sequência, com entrada, processamento e saída"
      ]
    },
    {
      "cell_type": "code",
      "metadata": {
        "id": "ETaY0R90uMrw"
      },
      "source": [
        "modelo = keras.Sequential([\n",
        "                            keras.layers.Flatten(input_shape=(28,28))\n",
        "  #processamento\n",
        "  #saida\n",
        "])\n",
        "\n"
      ],
      "execution_count": null,
      "outputs": []
    },
    {
      "cell_type": "markdown",
      "metadata": {
        "id": "hLWJOX1HozRa"
      },
      "source": [
        "## **AULA 03 - Adicionando camadas ocultas**"
      ]
    },
    {
      "cell_type": "code",
      "metadata": {
        "id": "_JJaaFG10Fyx"
      },
      "source": [
        "#alterando as imagens de treino para facilitar o uso no modelo, normalizando as imagens \n",
        "imagens_treino = imagens_treino/float(255)\n",
        "#modelo multi-camadas\n",
        "modelo = keras.Sequential([ keras.layers.Flatten(input_shape=(28,28)), #entrada\n",
        "                            keras.layers.Dense(256, activation=tensorflow.nn.relu),#processamento\n",
        "                            keras.layers.Dense(10, activation=tensorflow.nn.softmax)])#saída \n",
        "\n",
        "#no Keras é necessário compilar o modelo antes de treiná-lo\n",
        "modelo.compile(optimizer='adam', \n",
        "               loss='sparse_categorical_crossentropy')\n",
        "\n",
        "modelo.fit(imagens_treino, identificacoes_treino)"
      ],
      "execution_count": null,
      "outputs": []
    },
    {
      "cell_type": "markdown",
      "metadata": {
        "id": "sA5e3fFpiFWh"
      },
      "source": [
        "## **AULA 04 -Ensinando o modelo**"
      ]
    },
    {
      "cell_type": "code",
      "metadata": {
        "id": "PXA0xVrMfTAl"
      },
      "source": [
        "#modelo multi-camadas (aumentando o número de camadas)\n",
        "modelo = keras.Sequential([ keras.layers.Flatten(input_shape=(28,28)), #entrada\n",
        "                           #camadas ocultas\n",
        "                            keras.layers.Dense(256, activation=tensorflow.nn.relu),\n",
        "                            keras.layers.Dropout(0.2),#processamento\n",
        "                            #keras.layers.Dense(128, activation=tensorflow.nn.relu), # a adição dessas camadas não melhorou o modelo neste caso\n",
        "                            #keras.layers.Dense(64, activation=tensorflow.nn.relu),\n",
        "                            #camada de saída\n",
        "                            keras.layers.Dense(10, activation=tensorflow.nn.softmax)])#saída \n",
        "\n",
        "#no Keras é necessário compilar o modelo antes de treiná-lo\n",
        "adam = keras.optimizers.Adam(learning_rate=0.002)\n",
        "callbacks =[ keras.callbacks.EarlyStopping(monitor = 'val_loss'),\n",
        "            keras.callbacks.ModelCheckpoint(filepath='melhor_modelo.hdf5',monitor='val_loss', save_best_only=True)]\n",
        "modelo.compile(optimizer=adam, \n",
        "               loss='sparse_categorical_crossentropy',\n",
        "               metrics= 'accuracy')\n",
        "#aumentando o número de treinos\n",
        "historico = modelo.fit(imagens_treino, identificacoes_treino,\n",
        "                       epochs=5, validation_split=0.2, callbacks=callbacks)"
      ],
      "execution_count": null,
      "outputs": []
    },
    {
      "cell_type": "code",
      "metadata": {
        "id": "-Zo_ybrO2cr7"
      },
      "source": [
        "#salvando o modelo\n",
        "modelo.save('modelo.h5')\n",
        "#carregando o modelo\n",
        "modelo_salvo = load_model('modelo.h5')"
      ],
      "execution_count": null,
      "outputs": []
    },
    {
      "cell_type": "markdown",
      "metadata": {
        "id": "T2WvDSv-ngpx"
      },
      "source": [
        "## **AULA 05 - Medindo o Resultado do Modelo**"
      ]
    },
    {
      "cell_type": "code",
      "metadata": {
        "id": "k55zIKdEiZjc"
      },
      "source": [
        "#testando o modelo\n",
        "testes = modelo.predict(imagens_teste)"
      ],
      "execution_count": null,
      "outputs": []
    },
    {
      "cell_type": "code",
      "metadata": {
        "id": "Q_GLJoPHn-uk"
      },
      "source": [
        "#inspecionando o primeiro item dos testes\n",
        "testes[1]"
      ],
      "execution_count": null,
      "outputs": []
    },
    {
      "cell_type": "code",
      "metadata": {
        "id": "jgmoGG-OoE07"
      },
      "source": [
        "#visualizando o maior número e sua posição usando o numpy\n",
        "print(f'resultado teste: {np.argmax(testes[1])}')\n",
        "print(f'número da imagem de teste: {identificacoes_teste[2]}')"
      ],
      "execution_count": null,
      "outputs": []
    },
    {
      "cell_type": "code",
      "metadata": {
        "id": "EIx4-MBDooqd"
      },
      "source": [
        "#criando uma função de avaliação do modelo\n",
        "perda_teste, acuracia_teste = modelo.evaluate(imagens_teste,identificacoes_teste)\n",
        "print(f'perda do teste: {perda_teste}')\n",
        "print(f'acurácia do teste: {acuracia_teste}')"
      ],
      "execution_count": null,
      "outputs": []
    },
    {
      "cell_type": "code",
      "metadata": {
        "id": "kMxRc-mxpObM"
      },
      "source": [
        "imagens_treino.shape"
      ],
      "execution_count": null,
      "outputs": []
    },
    {
      "cell_type": "code",
      "metadata": {
        "id": "IKmoU9jQv-rC"
      },
      "source": [
        "plt.plot(historico.history['accuracy'])\n",
        "plt.plot(historico.history['val_accuracy'])\n",
        "plt.title('Acurácia por Épocas')\n",
        "plt.xlabel('Épocas')\n",
        "plt.ylabel('Acurácia')\n",
        "plt.legend(['treino','validação']);"
      ],
      "execution_count": null,
      "outputs": []
    },
    {
      "cell_type": "code",
      "metadata": {
        "id": "FFExwzrfqIxh"
      },
      "source": [
        "plt.plot(historico.history['loss'])\n",
        "plt.plot(historico.history['val_loss'])\n",
        "plt.title('Perda por Épocas')\n",
        "plt.xlabel('Épocas')\n",
        "plt.ylabel('Perda')\n",
        "plt.legend(['treino','validação']);"
      ],
      "execution_count": null,
      "outputs": []
    },
    {
      "cell_type": "code",
      "metadata": {
        "id": "_7PinfC3xp8o"
      },
      "source": [
        "testes_modelo_salvo = modelo_salvo.predict(imagens_teste)"
      ],
      "execution_count": null,
      "outputs": []
    },
    {
      "cell_type": "code",
      "metadata": {
        "id": "lEeB1DY23FXY"
      },
      "source": [
        "#visualizando o maior número e sua posição usando o numpy\n",
        "print(f'resultado teste: {np.argmax(testes_modelo_salvo[1])}')\n",
        "print(f'número da imagem de teste: {identificacoes_teste[1]}')"
      ],
      "execution_count": null,
      "outputs": []
    },
    {
      "cell_type": "markdown",
      "metadata": {
        "id": "jfd5b_d7suHv"
      },
      "source": [
        "# **DEEPLEARNING PARTE 2- COMO A REDE APRENDE** "
      ]
    },
    {
      "cell_type": "markdown",
      "metadata": {
        "id": "KoYxFW7nFw12"
      },
      "source": [
        "## **AULA 01 - Indo por dentro da rede neural**"
      ]
    },
    {
      "cell_type": "code",
      "metadata": {
        "id": "e-vj8Zu73Mgo"
      },
      "source": [
        "#resumo do modelo\n",
        "sumario_do_modelo = modelo.summary()\n",
        "sumario_do_modelo"
      ],
      "execution_count": null,
      "outputs": []
    },
    {
      "cell_type": "code",
      "metadata": {
        "id": "w_SOzyJzEqfw"
      },
      "source": [
        "#pesos e vieses da camada um (Dense)\n",
        "pesos_camada_dense = modelo.layers[1].get_weights()\n",
        "pesos_camada_dense"
      ],
      "execution_count": null,
      "outputs": []
    },
    {
      "cell_type": "markdown",
      "metadata": {
        "id": "MEU-B3cqFu2N"
      },
      "source": [
        "## **AULA 02 - Estudando os pesos e vieses**"
      ]
    },
    {
      "cell_type": "code",
      "metadata": {
        "id": "tPpqmulsFV9P"
      },
      "source": [
        "#pesos e vieses da camada um (Dense)\n",
        "pesos_camada_dense = modelo.layers[1].get_weights()[0]\n",
        "vieses_camada_dense = modelo.layers[1].get_weights()[1]"
      ],
      "execution_count": null,
      "outputs": []
    },
    {
      "cell_type": "code",
      "metadata": {
        "id": "mNj7I3tUHn0r"
      },
      "source": [
        "#alterando os pesos para 0 e conferindo como o modelo se comporta\n",
        "pesos_camada_dense.shape\n",
        "pesos_camada_dense_zerados = np.zeros((784,256))"
      ],
      "execution_count": null,
      "outputs": []
    },
    {
      "cell_type": "code",
      "metadata": {
        "id": "PzOwy5n5J9JV"
      },
      "source": [
        "pesos_camada_dense_zerados"
      ],
      "execution_count": null,
      "outputs": []
    },
    {
      "cell_type": "code",
      "metadata": {
        "id": "YX8-M-hlKQEK"
      },
      "source": [
        "modelo.layers[1].set_weights([pesos_camada_dense_zerados,vieses_camada_dense])"
      ],
      "execution_count": null,
      "outputs": []
    },
    {
      "cell_type": "code",
      "metadata": {
        "id": "Tex79qwFKvX5"
      },
      "source": [
        ""
      ],
      "execution_count": null,
      "outputs": []
    },
    {
      "cell_type": "code",
      "metadata": {
        "id": "jOVkhvPZLB_5"
      },
      "source": [
        "#no Keras é necessário compilar o modelo antes de treiná-lo\n",
        "modelo.compile(optimizer='adam', \n",
        "               loss='sparse_categorical_crossentropy',\n",
        "               metrics= 'accuracy')\n",
        "#aumentando o número de treinos\n",
        "historico = modelo.fit(imagens_treino, identificacoes_treino, epochs=5, validation_split=0.2)"
      ],
      "execution_count": null,
      "outputs": []
    },
    {
      "cell_type": "code",
      "metadata": {
        "id": "lwoeiqqhLVwA"
      },
      "source": [
        "plt.plot(historico.history['accuracy'])\n",
        "plt.plot(historico.history['val_accuracy'])\n",
        "plt.title('Acurácia por Épocas')\n",
        "plt.xlabel('Épocas')\n",
        "plt.ylabel('Acurácia')\n",
        "plt.legend(['treino','validação']);"
      ],
      "execution_count": null,
      "outputs": []
    },
    {
      "cell_type": "code",
      "metadata": {
        "id": "f4h0lwJJXY8s"
      },
      "source": [
        "plt.plot(historico.history['loss'])\n",
        "plt.plot(historico.history['val_loss'])\n",
        "plt.title('Perda por Épocas')\n",
        "plt.xlabel('Épocas')\n",
        "plt.ylabel('Perda')\n",
        "plt.legend(['treino','validação']);"
      ],
      "execution_count": null,
      "outputs": []
    },
    {
      "cell_type": "code",
      "metadata": {
        "id": "HebLy7WIXhco"
      },
      "source": [
        "pesos_camada_dense_aleatorios = np.random.rand(784,256)"
      ],
      "execution_count": null,
      "outputs": []
    },
    {
      "cell_type": "code",
      "metadata": {
        "id": "OXtjSHneY-Gf"
      },
      "source": [
        "modelo.layers[1].set_weights([pesos_camada_dense_aleatorios,vieses_camada_dense])"
      ],
      "execution_count": null,
      "outputs": []
    },
    {
      "cell_type": "code",
      "metadata": {
        "id": "UT93gOBMZJup"
      },
      "source": [
        "#no Keras é necessário compilar o modelo antes de treiná-lo\n",
        "modelo.compile(optimizer='adam', \n",
        "               loss='sparse_categorical_crossentropy',\n",
        "               metrics= 'accuracy')\n",
        "#aumentando o número de treinos\n",
        "historico = modelo.fit(imagens_treino, identificacoes_treino, epochs=5, validation_split=0.2)"
      ],
      "execution_count": null,
      "outputs": []
    },
    {
      "cell_type": "code",
      "metadata": {
        "id": "Lg10JQmOZOcM"
      },
      "source": [
        "plt.plot(historico.history['accuracy'])\n",
        "plt.plot(historico.history['val_accuracy'])\n",
        "plt.title('Acurácia por Épocas')\n",
        "plt.xlabel('Épocas')\n",
        "plt.ylabel('Acurácia')\n",
        "plt.legend(['treino','validação']);"
      ],
      "execution_count": null,
      "outputs": []
    },
    {
      "cell_type": "code",
      "metadata": {
        "id": "ITV1zflOZPGz"
      },
      "source": [
        "plt.plot(historico.history['loss'])\n",
        "plt.plot(historico.history['val_loss'])\n",
        "plt.title('Perda por Épocas')\n",
        "plt.xlabel('Épocas')\n",
        "plt.ylabel('Perda')\n",
        "plt.legend(['treino','validação']);"
      ],
      "execution_count": null,
      "outputs": []
    },
    {
      "cell_type": "code",
      "metadata": {
        "id": "HkTk4MBOZgzt"
      },
      "source": [
        "modelo.get_config()"
      ],
      "execution_count": null,
      "outputs": []
    },
    {
      "cell_type": "code",
      "metadata": {
        "id": "dh_3pZixarmi"
      },
      "source": [
        "vieses_camada_dense.shape"
      ],
      "execution_count": null,
      "outputs": []
    },
    {
      "cell_type": "code",
      "metadata": {
        "id": "91KelRNpF8vG"
      },
      "source": [
        "vieses_camada_dense_zerados = np.zeros((256,))"
      ],
      "execution_count": null,
      "outputs": []
    },
    {
      "cell_type": "code",
      "metadata": {
        "id": "ikFJTgrCGHSW"
      },
      "source": [
        "modelo.layers[1].set_weights([pesos_camada_dense_zerados,vieses_camada_dense_zerados])"
      ],
      "execution_count": null,
      "outputs": []
    },
    {
      "cell_type": "code",
      "metadata": {
        "id": "QCZIj6SaGRx7"
      },
      "source": [
        "#no Keras é necessário compilar o modelo antes de treiná-lo\n",
        "modelo.compile(optimizer='adam', \n",
        "               loss='sparse_categorical_crossentropy',\n",
        "               metrics= 'accuracy')\n",
        "#aumentando o número de treinos\n",
        "historico = modelo.fit(imagens_treino, identificacoes_treino, epochs=5, validation_split=0.2)"
      ],
      "execution_count": null,
      "outputs": []
    },
    {
      "cell_type": "code",
      "metadata": {
        "id": "zQy4PvsHGVvT"
      },
      "source": [
        "plt.plot(historico.history['accuracy'])\n",
        "plt.plot(historico.history['val_accuracy'])\n",
        "plt.title('Acurácia por Épocas')\n",
        "plt.xlabel('Épocas')\n",
        "plt.ylabel('Acurácia')\n",
        "plt.legend(['treino','validação']);"
      ],
      "execution_count": null,
      "outputs": []
    },
    {
      "cell_type": "code",
      "metadata": {
        "id": "kJ4ZEBLLGhG9"
      },
      "source": [
        "plt.plot(historico.history['loss'])\n",
        "plt.plot(historico.history['val_loss'])\n",
        "plt.title('Perda por Épocas')\n",
        "plt.xlabel('Épocas')\n",
        "plt.ylabel('Perda')\n",
        "plt.legend(['treino','validação']);"
      ],
      "execution_count": null,
      "outputs": []
    },
    {
      "cell_type": "code",
      "metadata": {
        "id": "ooffvOJiGj49"
      },
      "source": [
        "modelo.layers[1].set_weights([pesos_camada_dense_aleatorios,vieses_camada_dense_zerados])"
      ],
      "execution_count": null,
      "outputs": []
    },
    {
      "cell_type": "code",
      "metadata": {
        "id": "XvOSs6_UHKRS"
      },
      "source": [
        "#no Keras é necessário compilar o modelo antes de treiná-lo\n",
        "modelo.compile(optimizer='adam', \n",
        "               loss='sparse_categorical_crossentropy',\n",
        "               metrics= 'accuracy')\n",
        "#aumentando o número de treinos\n",
        "historico = modelo.fit(imagens_treino, identificacoes_treino, epochs=5, validation_split=0.2)"
      ],
      "execution_count": null,
      "outputs": []
    },
    {
      "cell_type": "code",
      "metadata": {
        "id": "7OZFty8-HMjn"
      },
      "source": [
        "plt.plot(historico.history['accuracy'])\n",
        "plt.plot(historico.history['val_accuracy'])\n",
        "plt.title('Acurácia por Épocas')\n",
        "plt.xlabel('Épocas')\n",
        "plt.ylabel('Acurácia')\n",
        "plt.legend(['treino','validação']);"
      ],
      "execution_count": null,
      "outputs": []
    },
    {
      "cell_type": "code",
      "metadata": {
        "id": "GkpybzBsHPAZ"
      },
      "source": [
        "plt.plot(historico.history['loss'])\n",
        "plt.plot(historico.history['val_loss'])\n",
        "plt.title('Perda por Épocas')\n",
        "plt.xlabel('Épocas')\n",
        "plt.ylabel('Perda')\n",
        "plt.legend(['treino','validação']);"
      ],
      "execution_count": null,
      "outputs": []
    },
    {
      "cell_type": "markdown",
      "metadata": {
        "id": "xYGyMWFZfAUi"
      },
      "source": [
        "##**AULA 04 - Como um modelo fica ótimo**"
      ]
    },
    {
      "cell_type": "code",
      "metadata": {
        "id": "GNmXVhX1HRGp"
      },
      "source": [
        "modelo.get_config()"
      ],
      "execution_count": null,
      "outputs": []
    },
    {
      "cell_type": "code",
      "metadata": {
        "id": "UUHxDcPgIfUh"
      },
      "source": [
        "#calculo Glorot\n",
        "#sqrt(6 / (unidades_de_entrada_do_kernel + unidades_de_saída_do_kernel )) "
      ],
      "execution_count": null,
      "outputs": []
    },
    {
      "cell_type": "markdown",
      "metadata": {
        "id": "mIWqCvj1exME"
      },
      "source": [
        "##**AULA 05 - Testando os hiperparâmetros da rede**"
      ]
    },
    {
      "cell_type": "code",
      "metadata": {
        "id": "rPRuM4WZN0dj"
      },
      "source": [
        ""
      ],
      "execution_count": null,
      "outputs": []
    }
  ]
}