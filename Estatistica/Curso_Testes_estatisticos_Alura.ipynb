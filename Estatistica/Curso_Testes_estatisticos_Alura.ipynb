{
  "nbformat": 4,
  "nbformat_minor": 0,
  "metadata": {
    "colab": {
      "name": "Curso_Testes_estatisticos_Alura.ipynb",
      "provenance": [],
      "authorship_tag": "ABX9TyOWxgYDD7l7eW87h8Q9Gppg",
      "include_colab_link": true
    },
    "kernelspec": {
      "name": "python3",
      "display_name": "Python 3"
    }
  },
  "cells": [
    {
      "cell_type": "markdown",
      "metadata": {
        "id": "view-in-github",
        "colab_type": "text"
      },
      "source": [
        "<a href=\"https://colab.research.google.com/github/ClarisseAlvarenga/data_science_alura_cursos/blob/master/Curso_Testes_estatisticos_Alura.ipynb\" target=\"_parent\"><img src=\"https://colab.research.google.com/assets/colab-badge.svg\" alt=\"Open In Colab\"/></a>"
      ]
    },
    {
      "cell_type": "code",
      "metadata": {
        "id": "eJ8HyR5C5sMV",
        "colab_type": "code",
        "colab": {
          "base_uri": "https://localhost:8080/",
          "height": 51
        },
        "outputId": "cf034a8f-ab53-412c-8ca2-bf2961ae1d25"
      },
      "source": [
        "import pandas as pd\n",
        "import matplotlib.pyplot as plt\n",
        "import seaborn as sns\n",
        "import numpy as np\n"
      ],
      "execution_count": 1,
      "outputs": [
        {
          "output_type": "stream",
          "text": [
            "/usr/local/lib/python3.6/dist-packages/statsmodels/tools/_testing.py:19: FutureWarning: pandas.util.testing is deprecated. Use the functions in the public API at pandas.testing instead.\n",
            "  import pandas.util.testing as tm\n"
          ],
          "name": "stderr"
        }
      ]
    },
    {
      "cell_type": "markdown",
      "metadata": {
        "id": "R3Dm-q-SHdEf",
        "colab_type": "text"
      },
      "source": [
        "## Aula 01 - Conhecendo e Explorando os dados"
      ]
    },
    {
      "cell_type": "code",
      "metadata": {
        "id": "QvQ8tuKU6sY-",
        "colab_type": "code",
        "colab": {
          "base_uri": "https://localhost:8080/",
          "height": 717
        },
        "outputId": "c59d41a9-24d6-44a6-efde-f7a4baeea021"
      },
      "source": [
        "#Visualizando os dados do TMDB\n",
        "tmdb = pd.read_csv('/content/tmdb_5000_movies.csv')\n",
        "tmdb.head()"
      ],
      "execution_count": 2,
      "outputs": [
        {
          "output_type": "execute_result",
          "data": {
            "text/html": [
              "<div>\n",
              "<style scoped>\n",
              "    .dataframe tbody tr th:only-of-type {\n",
              "        vertical-align: middle;\n",
              "    }\n",
              "\n",
              "    .dataframe tbody tr th {\n",
              "        vertical-align: top;\n",
              "    }\n",
              "\n",
              "    .dataframe thead th {\n",
              "        text-align: right;\n",
              "    }\n",
              "</style>\n",
              "<table border=\"1\" class=\"dataframe\">\n",
              "  <thead>\n",
              "    <tr style=\"text-align: right;\">\n",
              "      <th></th>\n",
              "      <th>budget</th>\n",
              "      <th>genres</th>\n",
              "      <th>homepage</th>\n",
              "      <th>id</th>\n",
              "      <th>keywords</th>\n",
              "      <th>original_language</th>\n",
              "      <th>original_title</th>\n",
              "      <th>overview</th>\n",
              "      <th>popularity</th>\n",
              "      <th>production_companies</th>\n",
              "      <th>production_countries</th>\n",
              "      <th>release_date</th>\n",
              "      <th>revenue</th>\n",
              "      <th>runtime</th>\n",
              "      <th>spoken_languages</th>\n",
              "      <th>status</th>\n",
              "      <th>tagline</th>\n",
              "      <th>title</th>\n",
              "      <th>vote_average</th>\n",
              "      <th>vote_count</th>\n",
              "    </tr>\n",
              "  </thead>\n",
              "  <tbody>\n",
              "    <tr>\n",
              "      <th>0</th>\n",
              "      <td>237000000</td>\n",
              "      <td>[{\"id\": 28, \"name\": \"Action\"}, {\"id\": 12, \"nam...</td>\n",
              "      <td>http://www.avatarmovie.com/</td>\n",
              "      <td>19995</td>\n",
              "      <td>[{\"id\": 1463, \"name\": \"culture clash\"}, {\"id\":...</td>\n",
              "      <td>en</td>\n",
              "      <td>Avatar</td>\n",
              "      <td>In the 22nd century, a paraplegic Marine is di...</td>\n",
              "      <td>150.437577</td>\n",
              "      <td>[{\"name\": \"Ingenious Film Partners\", \"id\": 289...</td>\n",
              "      <td>[{\"iso_3166_1\": \"US\", \"name\": \"United States o...</td>\n",
              "      <td>2009-12-10</td>\n",
              "      <td>2787965087</td>\n",
              "      <td>162.0</td>\n",
              "      <td>[{\"iso_639_1\": \"en\", \"name\": \"English\"}, {\"iso...</td>\n",
              "      <td>Released</td>\n",
              "      <td>Enter the World of Pandora.</td>\n",
              "      <td>Avatar</td>\n",
              "      <td>7.2</td>\n",
              "      <td>11800</td>\n",
              "    </tr>\n",
              "    <tr>\n",
              "      <th>1</th>\n",
              "      <td>300000000</td>\n",
              "      <td>[{\"id\": 12, \"name\": \"Adventure\"}, {\"id\": 14, \"...</td>\n",
              "      <td>http://disney.go.com/disneypictures/pirates/</td>\n",
              "      <td>285</td>\n",
              "      <td>[{\"id\": 270, \"name\": \"ocean\"}, {\"id\": 726, \"na...</td>\n",
              "      <td>en</td>\n",
              "      <td>Pirates of the Caribbean: At World's End</td>\n",
              "      <td>Captain Barbossa, long believed to be dead, ha...</td>\n",
              "      <td>139.082615</td>\n",
              "      <td>[{\"name\": \"Walt Disney Pictures\", \"id\": 2}, {\"...</td>\n",
              "      <td>[{\"iso_3166_1\": \"US\", \"name\": \"United States o...</td>\n",
              "      <td>2007-05-19</td>\n",
              "      <td>961000000</td>\n",
              "      <td>169.0</td>\n",
              "      <td>[{\"iso_639_1\": \"en\", \"name\": \"English\"}]</td>\n",
              "      <td>Released</td>\n",
              "      <td>At the end of the world, the adventure begins.</td>\n",
              "      <td>Pirates of the Caribbean: At World's End</td>\n",
              "      <td>6.9</td>\n",
              "      <td>4500</td>\n",
              "    </tr>\n",
              "    <tr>\n",
              "      <th>2</th>\n",
              "      <td>245000000</td>\n",
              "      <td>[{\"id\": 28, \"name\": \"Action\"}, {\"id\": 12, \"nam...</td>\n",
              "      <td>http://www.sonypictures.com/movies/spectre/</td>\n",
              "      <td>206647</td>\n",
              "      <td>[{\"id\": 470, \"name\": \"spy\"}, {\"id\": 818, \"name...</td>\n",
              "      <td>en</td>\n",
              "      <td>Spectre</td>\n",
              "      <td>A cryptic message from Bond’s past sends him o...</td>\n",
              "      <td>107.376788</td>\n",
              "      <td>[{\"name\": \"Columbia Pictures\", \"id\": 5}, {\"nam...</td>\n",
              "      <td>[{\"iso_3166_1\": \"GB\", \"name\": \"United Kingdom\"...</td>\n",
              "      <td>2015-10-26</td>\n",
              "      <td>880674609</td>\n",
              "      <td>148.0</td>\n",
              "      <td>[{\"iso_639_1\": \"fr\", \"name\": \"Fran\\u00e7ais\"},...</td>\n",
              "      <td>Released</td>\n",
              "      <td>A Plan No One Escapes</td>\n",
              "      <td>Spectre</td>\n",
              "      <td>6.3</td>\n",
              "      <td>4466</td>\n",
              "    </tr>\n",
              "    <tr>\n",
              "      <th>3</th>\n",
              "      <td>250000000</td>\n",
              "      <td>[{\"id\": 28, \"name\": \"Action\"}, {\"id\": 80, \"nam...</td>\n",
              "      <td>http://www.thedarkknightrises.com/</td>\n",
              "      <td>49026</td>\n",
              "      <td>[{\"id\": 849, \"name\": \"dc comics\"}, {\"id\": 853,...</td>\n",
              "      <td>en</td>\n",
              "      <td>The Dark Knight Rises</td>\n",
              "      <td>Following the death of District Attorney Harve...</td>\n",
              "      <td>112.312950</td>\n",
              "      <td>[{\"name\": \"Legendary Pictures\", \"id\": 923}, {\"...</td>\n",
              "      <td>[{\"iso_3166_1\": \"US\", \"name\": \"United States o...</td>\n",
              "      <td>2012-07-16</td>\n",
              "      <td>1084939099</td>\n",
              "      <td>165.0</td>\n",
              "      <td>[{\"iso_639_1\": \"en\", \"name\": \"English\"}]</td>\n",
              "      <td>Released</td>\n",
              "      <td>The Legend Ends</td>\n",
              "      <td>The Dark Knight Rises</td>\n",
              "      <td>7.6</td>\n",
              "      <td>9106</td>\n",
              "    </tr>\n",
              "    <tr>\n",
              "      <th>4</th>\n",
              "      <td>260000000</td>\n",
              "      <td>[{\"id\": 28, \"name\": \"Action\"}, {\"id\": 12, \"nam...</td>\n",
              "      <td>http://movies.disney.com/john-carter</td>\n",
              "      <td>49529</td>\n",
              "      <td>[{\"id\": 818, \"name\": \"based on novel\"}, {\"id\":...</td>\n",
              "      <td>en</td>\n",
              "      <td>John Carter</td>\n",
              "      <td>John Carter is a war-weary, former military ca...</td>\n",
              "      <td>43.926995</td>\n",
              "      <td>[{\"name\": \"Walt Disney Pictures\", \"id\": 2}]</td>\n",
              "      <td>[{\"iso_3166_1\": \"US\", \"name\": \"United States o...</td>\n",
              "      <td>2012-03-07</td>\n",
              "      <td>284139100</td>\n",
              "      <td>132.0</td>\n",
              "      <td>[{\"iso_639_1\": \"en\", \"name\": \"English\"}]</td>\n",
              "      <td>Released</td>\n",
              "      <td>Lost in our world, found in another.</td>\n",
              "      <td>John Carter</td>\n",
              "      <td>6.1</td>\n",
              "      <td>2124</td>\n",
              "    </tr>\n",
              "  </tbody>\n",
              "</table>\n",
              "</div>"
            ],
            "text/plain": [
              "      budget  ... vote_count\n",
              "0  237000000  ...      11800\n",
              "1  300000000  ...       4500\n",
              "2  245000000  ...       4466\n",
              "3  250000000  ...       9106\n",
              "4  260000000  ...       2124\n",
              "\n",
              "[5 rows x 20 columns]"
            ]
          },
          "metadata": {
            "tags": []
          },
          "execution_count": 2
        }
      ]
    },
    {
      "cell_type": "code",
      "metadata": {
        "id": "ksBSsFey8HjZ",
        "colab_type": "code",
        "colab": {
          "base_uri": "https://localhost:8080/",
          "height": 297
        },
        "outputId": "dcfdc3c3-6e93-4b09-e733-fbfacac6d62f"
      },
      "source": [
        "#vendo a descrição destes dados (média, mediana, quartis, desvio padrão, etc)\n",
        "tmdb.describe()"
      ],
      "execution_count": 3,
      "outputs": [
        {
          "output_type": "execute_result",
          "data": {
            "text/html": [
              "<div>\n",
              "<style scoped>\n",
              "    .dataframe tbody tr th:only-of-type {\n",
              "        vertical-align: middle;\n",
              "    }\n",
              "\n",
              "    .dataframe tbody tr th {\n",
              "        vertical-align: top;\n",
              "    }\n",
              "\n",
              "    .dataframe thead th {\n",
              "        text-align: right;\n",
              "    }\n",
              "</style>\n",
              "<table border=\"1\" class=\"dataframe\">\n",
              "  <thead>\n",
              "    <tr style=\"text-align: right;\">\n",
              "      <th></th>\n",
              "      <th>budget</th>\n",
              "      <th>id</th>\n",
              "      <th>popularity</th>\n",
              "      <th>revenue</th>\n",
              "      <th>runtime</th>\n",
              "      <th>vote_average</th>\n",
              "      <th>vote_count</th>\n",
              "    </tr>\n",
              "  </thead>\n",
              "  <tbody>\n",
              "    <tr>\n",
              "      <th>count</th>\n",
              "      <td>4.803000e+03</td>\n",
              "      <td>4803.000000</td>\n",
              "      <td>4803.000000</td>\n",
              "      <td>4.803000e+03</td>\n",
              "      <td>4801.000000</td>\n",
              "      <td>4803.000000</td>\n",
              "      <td>4803.000000</td>\n",
              "    </tr>\n",
              "    <tr>\n",
              "      <th>mean</th>\n",
              "      <td>2.904504e+07</td>\n",
              "      <td>57165.484281</td>\n",
              "      <td>21.492301</td>\n",
              "      <td>8.226064e+07</td>\n",
              "      <td>106.875859</td>\n",
              "      <td>6.092172</td>\n",
              "      <td>690.217989</td>\n",
              "    </tr>\n",
              "    <tr>\n",
              "      <th>std</th>\n",
              "      <td>4.072239e+07</td>\n",
              "      <td>88694.614033</td>\n",
              "      <td>31.816650</td>\n",
              "      <td>1.628571e+08</td>\n",
              "      <td>22.611935</td>\n",
              "      <td>1.194612</td>\n",
              "      <td>1234.585891</td>\n",
              "    </tr>\n",
              "    <tr>\n",
              "      <th>min</th>\n",
              "      <td>0.000000e+00</td>\n",
              "      <td>5.000000</td>\n",
              "      <td>0.000000</td>\n",
              "      <td>0.000000e+00</td>\n",
              "      <td>0.000000</td>\n",
              "      <td>0.000000</td>\n",
              "      <td>0.000000</td>\n",
              "    </tr>\n",
              "    <tr>\n",
              "      <th>25%</th>\n",
              "      <td>7.900000e+05</td>\n",
              "      <td>9014.500000</td>\n",
              "      <td>4.668070</td>\n",
              "      <td>0.000000e+00</td>\n",
              "      <td>94.000000</td>\n",
              "      <td>5.600000</td>\n",
              "      <td>54.000000</td>\n",
              "    </tr>\n",
              "    <tr>\n",
              "      <th>50%</th>\n",
              "      <td>1.500000e+07</td>\n",
              "      <td>14629.000000</td>\n",
              "      <td>12.921594</td>\n",
              "      <td>1.917000e+07</td>\n",
              "      <td>103.000000</td>\n",
              "      <td>6.200000</td>\n",
              "      <td>235.000000</td>\n",
              "    </tr>\n",
              "    <tr>\n",
              "      <th>75%</th>\n",
              "      <td>4.000000e+07</td>\n",
              "      <td>58610.500000</td>\n",
              "      <td>28.313505</td>\n",
              "      <td>9.291719e+07</td>\n",
              "      <td>118.000000</td>\n",
              "      <td>6.800000</td>\n",
              "      <td>737.000000</td>\n",
              "    </tr>\n",
              "    <tr>\n",
              "      <th>max</th>\n",
              "      <td>3.800000e+08</td>\n",
              "      <td>459488.000000</td>\n",
              "      <td>875.581305</td>\n",
              "      <td>2.787965e+09</td>\n",
              "      <td>338.000000</td>\n",
              "      <td>10.000000</td>\n",
              "      <td>13752.000000</td>\n",
              "    </tr>\n",
              "  </tbody>\n",
              "</table>\n",
              "</div>"
            ],
            "text/plain": [
              "             budget             id  ...  vote_average    vote_count\n",
              "count  4.803000e+03    4803.000000  ...   4803.000000   4803.000000\n",
              "mean   2.904504e+07   57165.484281  ...      6.092172    690.217989\n",
              "std    4.072239e+07   88694.614033  ...      1.194612   1234.585891\n",
              "min    0.000000e+00       5.000000  ...      0.000000      0.000000\n",
              "25%    7.900000e+05    9014.500000  ...      5.600000     54.000000\n",
              "50%    1.500000e+07   14629.000000  ...      6.200000    235.000000\n",
              "75%    4.000000e+07   58610.500000  ...      6.800000    737.000000\n",
              "max    3.800000e+08  459488.000000  ...     10.000000  13752.000000\n",
              "\n",
              "[8 rows x 7 columns]"
            ]
          },
          "metadata": {
            "tags": []
          },
          "execution_count": 3
        }
      ]
    },
    {
      "cell_type": "code",
      "metadata": {
        "id": "BAAv9J6W9PTU",
        "colab_type": "code",
        "colab": {
          "base_uri": "https://localhost:8080/",
          "height": 312
        },
        "outputId": "273b488e-6f82-4107-d0d7-f93af819c9af"
      },
      "source": [
        "#visualizando a distribuição\n",
        "ax = sns.distplot(tmdb.vote_average)\n",
        "ax.set(xlabel='nota média', ylabel='densidade')\n",
        "ax.set_title('Média de votos em filmes no TMDB 5000')"
      ],
      "execution_count": 4,
      "outputs": [
        {
          "output_type": "execute_result",
          "data": {
            "text/plain": [
              "Text(0.5, 1.0, 'Média de votos em filmes no TMDB 5000')"
            ]
          },
          "metadata": {
            "tags": []
          },
          "execution_count": 4
        },
        {
          "output_type": "display_data",
          "data": {
            "image/png": "[encoded data removed]",
            "text/plain": [
              "<Figure size 432x288 with 1 Axes>"
            ]
          },
          "metadata": {
            "tags": [],
            "needs_background": "light"
          }
        }
      ]
    },
    {
      "cell_type": "code",
      "metadata": {
        "id": "5lxSctqy9YRv",
        "colab_type": "code",
        "colab": {
          "base_uri": "https://localhost:8080/",
          "height": 312
        },
        "outputId": "0e3a22b7-7ccb-43e6-f8ed-4a984f5b1e3a"
      },
      "source": [
        "#visualizando a média de votos sem a linha de KDE\n",
        "ax = sns.distplot(tmdb.vote_average, norm_hist=False, kde=False)\n",
        "ax.set(xlabel='nota média', ylabel='frequencia')\n",
        "ax.set_title('Média de votos em filmes no TMDB 5000')"
      ],
      "execution_count": 5,
      "outputs": [
        {
          "output_type": "execute_result",
          "data": {
            "text/plain": [
              "Text(0.5, 1.0, 'Média de votos em filmes no TMDB 5000')"
            ]
          },
          "metadata": {
            "tags": []
          },
          "execution_count": 5
        },
        {
          "output_type": "display_data",
          "data": {
            "image/png": "[encoded data removed]",
            "text/plain": [
              "<Figure size 432x288 with 1 Axes>"
            ]
          },
          "metadata": {
            "tags": [],
            "needs_background": "light"
          }
        }
      ]
    },
    {
      "cell_type": "code",
      "metadata": {
        "id": "FV1xJ9GJ-EBQ",
        "colab_type": "code",
        "colab": {
          "base_uri": "https://localhost:8080/",
          "height": 410
        },
        "outputId": "cc782425-9195-4c7b-a91f-19914c2e3e71"
      },
      "source": [
        "#Vendo o BoxPlot da média dos filmes no TMDB\n",
        "plt.figure(figsize=(12,6))\n",
        "ax = sns.boxplot(tmdb.vote_average)\n",
        "ax.set(xlabel='nota média')\n",
        "ax.set_title('Distribuição de nota média dos filmes do TMDB 5000', fontsize=20)\n",
        "plt.show()\n"
      ],
      "execution_count": 6,
      "outputs": [
        {
          "output_type": "display_data",
          "data": {
            "image/png": "[encoded data removed]",
            "text/plain": [
              "<Figure size 864x432 with 1 Axes>"
            ]
          },
          "metadata": {
            "tags": [],
            "needs_background": "light"
          }
        }
      ]
    },
    {
      "cell_type": "code",
      "metadata": {
        "id": "8PDlEBro-gnd",
        "colab_type": "code",
        "colab": {
          "base_uri": "https://localhost:8080/",
          "height": 649
        },
        "outputId": "7e7f77ba-1350-426e-e7e4-747c6c0b970a"
      },
      "source": [
        "#Visualizando filmes com média 0\n",
        "tmdb.query(\"vote_average == 0\").head()"
      ],
      "execution_count": 7,
      "outputs": [
        {
          "output_type": "execute_result",
          "data": {
            "text/html": [
              "<div>\n",
              "<style scoped>\n",
              "    .dataframe tbody tr th:only-of-type {\n",
              "        vertical-align: middle;\n",
              "    }\n",
              "\n",
              "    .dataframe tbody tr th {\n",
              "        vertical-align: top;\n",
              "    }\n",
              "\n",
              "    .dataframe thead th {\n",
              "        text-align: right;\n",
              "    }\n",
              "</style>\n",
              "<table border=\"1\" class=\"dataframe\">\n",
              "  <thead>\n",
              "    <tr style=\"text-align: right;\">\n",
              "      <th></th>\n",
              "      <th>budget</th>\n",
              "      <th>genres</th>\n",
              "      <th>homepage</th>\n",
              "      <th>id</th>\n",
              "      <th>keywords</th>\n",
              "      <th>original_language</th>\n",
              "      <th>original_title</th>\n",
              "      <th>overview</th>\n",
              "      <th>popularity</th>\n",
              "      <th>production_companies</th>\n",
              "      <th>production_countries</th>\n",
              "      <th>release_date</th>\n",
              "      <th>revenue</th>\n",
              "      <th>runtime</th>\n",
              "      <th>spoken_languages</th>\n",
              "      <th>status</th>\n",
              "      <th>tagline</th>\n",
              "      <th>title</th>\n",
              "      <th>vote_average</th>\n",
              "      <th>vote_count</th>\n",
              "    </tr>\n",
              "  </thead>\n",
              "  <tbody>\n",
              "    <tr>\n",
              "      <th>1464</th>\n",
              "      <td>0</td>\n",
              "      <td>[{\"id\": 18, \"name\": \"Drama\"}, {\"id\": 80, \"name...</td>\n",
              "      <td>NaN</td>\n",
              "      <td>310706</td>\n",
              "      <td>[]</td>\n",
              "      <td>en</td>\n",
              "      <td>Black Water Transit</td>\n",
              "      <td>In this action thriller set in post-Katrina Ne...</td>\n",
              "      <td>0.126738</td>\n",
              "      <td>[{\"name\": \"Capitol Films\", \"id\": 826}]</td>\n",
              "      <td>[{\"iso_3166_1\": \"US\", \"name\": \"United States o...</td>\n",
              "      <td>2009-05-13</td>\n",
              "      <td>0</td>\n",
              "      <td>100.0</td>\n",
              "      <td>[{\"iso_639_1\": \"en\", \"name\": \"English\"}]</td>\n",
              "      <td>Released</td>\n",
              "      <td>NaN</td>\n",
              "      <td>Black Water Transit</td>\n",
              "      <td>0.0</td>\n",
              "      <td>0</td>\n",
              "    </tr>\n",
              "    <tr>\n",
              "      <th>3669</th>\n",
              "      <td>0</td>\n",
              "      <td>[{\"id\": 35, \"name\": \"Comedy\"}, {\"id\": 18, \"nam...</td>\n",
              "      <td>http://www.romeothemovie.com/</td>\n",
              "      <td>113406</td>\n",
              "      <td>[]</td>\n",
              "      <td>en</td>\n",
              "      <td>Should've Been Romeo</td>\n",
              "      <td>A self-centered, middle-aged pitchman for a po...</td>\n",
              "      <td>0.407030</td>\n",
              "      <td>[{\"name\": \"Phillybrook Films\", \"id\": 65147}]</td>\n",
              "      <td>[{\"iso_3166_1\": \"US\", \"name\": \"United States o...</td>\n",
              "      <td>2012-04-28</td>\n",
              "      <td>0</td>\n",
              "      <td>0.0</td>\n",
              "      <td>[{\"iso_639_1\": \"en\", \"name\": \"English\"}]</td>\n",
              "      <td>Released</td>\n",
              "      <td>Even Shakespeare didn't see this one coming.</td>\n",
              "      <td>Should've Been Romeo</td>\n",
              "      <td>0.0</td>\n",
              "      <td>0</td>\n",
              "    </tr>\n",
              "    <tr>\n",
              "      <th>3670</th>\n",
              "      <td>0</td>\n",
              "      <td>[{\"id\": 10751, \"name\": \"Family\"}]</td>\n",
              "      <td>NaN</td>\n",
              "      <td>447027</td>\n",
              "      <td>[]</td>\n",
              "      <td>en</td>\n",
              "      <td>Running Forever</td>\n",
              "      <td>After being estranged since her mother's death...</td>\n",
              "      <td>0.028756</td>\n",
              "      <td>[{\"name\": \"New Kingdom Pictures\", \"id\": 41671}]</td>\n",
              "      <td>[{\"iso_3166_1\": \"US\", \"name\": \"United States o...</td>\n",
              "      <td>2015-10-27</td>\n",
              "      <td>0</td>\n",
              "      <td>88.0</td>\n",
              "      <td>[]</td>\n",
              "      <td>Released</td>\n",
              "      <td>NaN</td>\n",
              "      <td>Running Forever</td>\n",
              "      <td>0.0</td>\n",
              "      <td>0</td>\n",
              "    </tr>\n",
              "    <tr>\n",
              "      <th>3852</th>\n",
              "      <td>0</td>\n",
              "      <td>[{\"id\": 18, \"name\": \"Drama\"}]</td>\n",
              "      <td>NaN</td>\n",
              "      <td>395766</td>\n",
              "      <td>[{\"id\": 11162, \"name\": \"miniseries\"}]</td>\n",
              "      <td>en</td>\n",
              "      <td>The Secret</td>\n",
              "      <td>The Secret is the story of a real-life double ...</td>\n",
              "      <td>0.042346</td>\n",
              "      <td>[]</td>\n",
              "      <td>[]</td>\n",
              "      <td>2016-04-29</td>\n",
              "      <td>0</td>\n",
              "      <td>200.0</td>\n",
              "      <td>[]</td>\n",
              "      <td>Released</td>\n",
              "      <td>NaN</td>\n",
              "      <td>The Secret</td>\n",
              "      <td>0.0</td>\n",
              "      <td>0</td>\n",
              "    </tr>\n",
              "    <tr>\n",
              "      <th>3855</th>\n",
              "      <td>3500000</td>\n",
              "      <td>[{\"id\": 99, \"name\": \"Documentary\"}]</td>\n",
              "      <td>http://www.timetochoose.com</td>\n",
              "      <td>370662</td>\n",
              "      <td>[{\"id\": 2210, \"name\": \"climate change\"}, {\"id\"...</td>\n",
              "      <td>en</td>\n",
              "      <td>Time to Choose</td>\n",
              "      <td>Academy Award® winning director Charles Fergus...</td>\n",
              "      <td>1.618138</td>\n",
              "      <td>[{\"name\": \"Representational Pictures\", \"id\": 8...</td>\n",
              "      <td>[{\"iso_3166_1\": \"US\", \"name\": \"United States o...</td>\n",
              "      <td>2015-09-04</td>\n",
              "      <td>0</td>\n",
              "      <td>100.0</td>\n",
              "      <td>[{\"iso_639_1\": \"en\", \"name\": \"English\"}]</td>\n",
              "      <td>Released</td>\n",
              "      <td>Climate change for good.</td>\n",
              "      <td>Time to Choose</td>\n",
              "      <td>0.0</td>\n",
              "      <td>0</td>\n",
              "    </tr>\n",
              "  </tbody>\n",
              "</table>\n",
              "</div>"
            ],
            "text/plain": [
              "       budget  ... vote_count\n",
              "1464        0  ...          0\n",
              "3669        0  ...          0\n",
              "3670        0  ...          0\n",
              "3852        0  ...          0\n",
              "3855  3500000  ...          0\n",
              "\n",
              "[5 rows x 20 columns]"
            ]
          },
          "metadata": {
            "tags": []
          },
          "execution_count": 7
        }
      ]
    },
    {
      "cell_type": "code",
      "metadata": {
        "id": "KG9GEH9TAoXJ",
        "colab_type": "code",
        "colab": {
          "base_uri": "https://localhost:8080/",
          "height": 499
        },
        "outputId": "bd204c32-7d82-47f4-f4b3-c0dbb93d8dc4"
      },
      "source": [
        "#visualizando filmes com mais de 10 votos\n",
        "tmdb.query(\"vote_average == 10\")"
      ],
      "execution_count": 8,
      "outputs": [
        {
          "output_type": "execute_result",
          "data": {
            "text/html": [
              "<div>\n",
              "<style scoped>\n",
              "    .dataframe tbody tr th:only-of-type {\n",
              "        vertical-align: middle;\n",
              "    }\n",
              "\n",
              "    .dataframe tbody tr th {\n",
              "        vertical-align: top;\n",
              "    }\n",
              "\n",
              "    .dataframe thead th {\n",
              "        text-align: right;\n",
              "    }\n",
              "</style>\n",
              "<table border=\"1\" class=\"dataframe\">\n",
              "  <thead>\n",
              "    <tr style=\"text-align: right;\">\n",
              "      <th></th>\n",
              "      <th>budget</th>\n",
              "      <th>genres</th>\n",
              "      <th>homepage</th>\n",
              "      <th>id</th>\n",
              "      <th>keywords</th>\n",
              "      <th>original_language</th>\n",
              "      <th>original_title</th>\n",
              "      <th>overview</th>\n",
              "      <th>popularity</th>\n",
              "      <th>production_companies</th>\n",
              "      <th>production_countries</th>\n",
              "      <th>release_date</th>\n",
              "      <th>revenue</th>\n",
              "      <th>runtime</th>\n",
              "      <th>spoken_languages</th>\n",
              "      <th>status</th>\n",
              "      <th>tagline</th>\n",
              "      <th>title</th>\n",
              "      <th>vote_average</th>\n",
              "      <th>vote_count</th>\n",
              "    </tr>\n",
              "  </thead>\n",
              "  <tbody>\n",
              "    <tr>\n",
              "      <th>3519</th>\n",
              "      <td>0</td>\n",
              "      <td>[{\"id\": 35, \"name\": \"Comedy\"}]</td>\n",
              "      <td>NaN</td>\n",
              "      <td>89861</td>\n",
              "      <td>[{\"id\": 131, \"name\": \"italy\"}, {\"id\": 8250, \"n...</td>\n",
              "      <td>en</td>\n",
              "      <td>Stiff Upper Lips</td>\n",
              "      <td>Stiff Upper Lips is a broad parody of British ...</td>\n",
              "      <td>0.356495</td>\n",
              "      <td>[]</td>\n",
              "      <td>[{\"iso_3166_1\": \"GB\", \"name\": \"United Kingdom\"...</td>\n",
              "      <td>1998-06-12</td>\n",
              "      <td>0</td>\n",
              "      <td>99.0</td>\n",
              "      <td>[{\"iso_639_1\": \"en\", \"name\": \"English\"}]</td>\n",
              "      <td>Released</td>\n",
              "      <td>NaN</td>\n",
              "      <td>Stiff Upper Lips</td>\n",
              "      <td>10.0</td>\n",
              "      <td>1</td>\n",
              "    </tr>\n",
              "    <tr>\n",
              "      <th>4045</th>\n",
              "      <td>0</td>\n",
              "      <td>[{\"id\": 35, \"name\": \"Comedy\"}, {\"id\": 18, \"nam...</td>\n",
              "      <td>NaN</td>\n",
              "      <td>78373</td>\n",
              "      <td>[{\"id\": 1415, \"name\": \"small town\"}, {\"id\": 15...</td>\n",
              "      <td>en</td>\n",
              "      <td>Dancer, Texas Pop. 81</td>\n",
              "      <td>Four guys, best friends, have grown up togethe...</td>\n",
              "      <td>0.376662</td>\n",
              "      <td>[{\"name\": \"HSX Films\", \"id\": 4714}, {\"name\": \"...</td>\n",
              "      <td>[{\"iso_3166_1\": \"US\", \"name\": \"United States o...</td>\n",
              "      <td>1998-05-01</td>\n",
              "      <td>565592</td>\n",
              "      <td>97.0</td>\n",
              "      <td>[{\"iso_639_1\": \"en\", \"name\": \"English\"}]</td>\n",
              "      <td>Released</td>\n",
              "      <td>in the middle of nowhere they had everything</td>\n",
              "      <td>Dancer, Texas Pop. 81</td>\n",
              "      <td>10.0</td>\n",
              "      <td>1</td>\n",
              "    </tr>\n",
              "    <tr>\n",
              "      <th>4247</th>\n",
              "      <td>1</td>\n",
              "      <td>[{\"id\": 10749, \"name\": \"Romance\"}, {\"id\": 35, ...</td>\n",
              "      <td>NaN</td>\n",
              "      <td>361505</td>\n",
              "      <td>[]</td>\n",
              "      <td>en</td>\n",
              "      <td>Me You and Five Bucks</td>\n",
              "      <td>A womanizing yet lovable loser, Charlie, a wai...</td>\n",
              "      <td>0.094105</td>\n",
              "      <td>[]</td>\n",
              "      <td>[]</td>\n",
              "      <td>2015-07-07</td>\n",
              "      <td>0</td>\n",
              "      <td>90.0</td>\n",
              "      <td>[]</td>\n",
              "      <td>Released</td>\n",
              "      <td>A story about second, second chances</td>\n",
              "      <td>Me You and Five Bucks</td>\n",
              "      <td>10.0</td>\n",
              "      <td>2</td>\n",
              "    </tr>\n",
              "    <tr>\n",
              "      <th>4662</th>\n",
              "      <td>0</td>\n",
              "      <td>[{\"id\": 35, \"name\": \"Comedy\"}]</td>\n",
              "      <td>NaN</td>\n",
              "      <td>40963</td>\n",
              "      <td>[{\"id\": 10183, \"name\": \"independent film\"}]</td>\n",
              "      <td>en</td>\n",
              "      <td>Little Big Top</td>\n",
              "      <td>An aging out of work clown returns to his smal...</td>\n",
              "      <td>0.092100</td>\n",
              "      <td>[{\"name\": \"Fly High Films\", \"id\": 24248}]</td>\n",
              "      <td>[{\"iso_3166_1\": \"US\", \"name\": \"United States o...</td>\n",
              "      <td>2006-01-01</td>\n",
              "      <td>0</td>\n",
              "      <td>0.0</td>\n",
              "      <td>[{\"iso_639_1\": \"en\", \"name\": \"English\"}]</td>\n",
              "      <td>Rumored</td>\n",
              "      <td>NaN</td>\n",
              "      <td>Little Big Top</td>\n",
              "      <td>10.0</td>\n",
              "      <td>1</td>\n",
              "    </tr>\n",
              "  </tbody>\n",
              "</table>\n",
              "</div>"
            ],
            "text/plain": [
              "      budget  ... vote_count\n",
              "3519       0  ...          1\n",
              "4045       0  ...          1\n",
              "4247       1  ...          2\n",
              "4662       0  ...          1\n",
              "\n",
              "[4 rows x 20 columns]"
            ]
          },
          "metadata": {
            "tags": []
          },
          "execution_count": 8
        }
      ]
    },
    {
      "cell_type": "code",
      "metadata": {
        "id": "gaeOdVmSAHmS",
        "colab_type": "code",
        "colab": {
          "base_uri": "https://localhost:8080/",
          "height": 297
        },
        "outputId": "642b415b-e53c-46ba-e9f9-41f1f3c4206d"
      },
      "source": [
        "#Criando um novo dataframe, excluindo aqueles filmes com menos de 10 votos, para diminuir o ruído em nossa distribuição\n",
        "tmdb_com_mais_de_10_votos = tmdb.query(\"vote_count >= 10\")\n",
        "tmdb_com_mais_de_10_votos.describe()"
      ],
      "execution_count": 9,
      "outputs": [
        {
          "output_type": "execute_result",
          "data": {
            "text/html": [
              "<div>\n",
              "<style scoped>\n",
              "    .dataframe tbody tr th:only-of-type {\n",
              "        vertical-align: middle;\n",
              "    }\n",
              "\n",
              "    .dataframe tbody tr th {\n",
              "        vertical-align: top;\n",
              "    }\n",
              "\n",
              "    .dataframe thead th {\n",
              "        text-align: right;\n",
              "    }\n",
              "</style>\n",
              "<table border=\"1\" class=\"dataframe\">\n",
              "  <thead>\n",
              "    <tr style=\"text-align: right;\">\n",
              "      <th></th>\n",
              "      <th>budget</th>\n",
              "      <th>id</th>\n",
              "      <th>popularity</th>\n",
              "      <th>revenue</th>\n",
              "      <th>runtime</th>\n",
              "      <th>vote_average</th>\n",
              "      <th>vote_count</th>\n",
              "    </tr>\n",
              "  </thead>\n",
              "  <tbody>\n",
              "    <tr>\n",
              "      <th>count</th>\n",
              "      <td>4.392000e+03</td>\n",
              "      <td>4392.000000</td>\n",
              "      <td>4392.000000</td>\n",
              "      <td>4.392000e+03</td>\n",
              "      <td>4391.000000</td>\n",
              "      <td>4392.000000</td>\n",
              "      <td>4392.000000</td>\n",
              "    </tr>\n",
              "    <tr>\n",
              "      <th>mean</th>\n",
              "      <td>3.164545e+07</td>\n",
              "      <td>49204.119991</td>\n",
              "      <td>23.448815</td>\n",
              "      <td>8.990969e+07</td>\n",
              "      <td>108.430881</td>\n",
              "      <td>6.226935</td>\n",
              "      <td>754.441712</td>\n",
              "    </tr>\n",
              "    <tr>\n",
              "      <th>std</th>\n",
              "      <td>4.162736e+07</td>\n",
              "      <td>80136.249777</td>\n",
              "      <td>32.592158</td>\n",
              "      <td>1.682870e+08</td>\n",
              "      <td>21.014719</td>\n",
              "      <td>0.893215</td>\n",
              "      <td>1272.263761</td>\n",
              "    </tr>\n",
              "    <tr>\n",
              "      <th>min</th>\n",
              "      <td>0.000000e+00</td>\n",
              "      <td>5.000000</td>\n",
              "      <td>0.011697</td>\n",
              "      <td>0.000000e+00</td>\n",
              "      <td>0.000000</td>\n",
              "      <td>1.900000</td>\n",
              "      <td>10.000000</td>\n",
              "    </tr>\n",
              "    <tr>\n",
              "      <th>25%</th>\n",
              "      <td>2.895962e+06</td>\n",
              "      <td>8403.500000</td>\n",
              "      <td>6.512166</td>\n",
              "      <td>1.365700e+04</td>\n",
              "      <td>95.000000</td>\n",
              "      <td>5.700000</td>\n",
              "      <td>83.750000</td>\n",
              "    </tr>\n",
              "    <tr>\n",
              "      <th>50%</th>\n",
              "      <td>1.700000e+07</td>\n",
              "      <td>13084.500000</td>\n",
              "      <td>14.827784</td>\n",
              "      <td>2.685837e+07</td>\n",
              "      <td>105.000000</td>\n",
              "      <td>6.300000</td>\n",
              "      <td>288.500000</td>\n",
              "    </tr>\n",
              "    <tr>\n",
              "      <th>75%</th>\n",
              "      <td>4.200000e+07</td>\n",
              "      <td>46831.250000</td>\n",
              "      <td>30.258282</td>\n",
              "      <td>1.022818e+08</td>\n",
              "      <td>118.500000</td>\n",
              "      <td>6.800000</td>\n",
              "      <td>831.000000</td>\n",
              "    </tr>\n",
              "    <tr>\n",
              "      <th>max</th>\n",
              "      <td>3.800000e+08</td>\n",
              "      <td>417859.000000</td>\n",
              "      <td>875.581305</td>\n",
              "      <td>2.787965e+09</td>\n",
              "      <td>338.000000</td>\n",
              "      <td>8.500000</td>\n",
              "      <td>13752.000000</td>\n",
              "    </tr>\n",
              "  </tbody>\n",
              "</table>\n",
              "</div>"
            ],
            "text/plain": [
              "             budget             id  ...  vote_average    vote_count\n",
              "count  4.392000e+03    4392.000000  ...   4392.000000   4392.000000\n",
              "mean   3.164545e+07   49204.119991  ...      6.226935    754.441712\n",
              "std    4.162736e+07   80136.249777  ...      0.893215   1272.263761\n",
              "min    0.000000e+00       5.000000  ...      1.900000     10.000000\n",
              "25%    2.895962e+06    8403.500000  ...      5.700000     83.750000\n",
              "50%    1.700000e+07   13084.500000  ...      6.300000    288.500000\n",
              "75%    4.200000e+07   46831.250000  ...      6.800000    831.000000\n",
              "max    3.800000e+08  417859.000000  ...      8.500000  13752.000000\n",
              "\n",
              "[8 rows x 7 columns]"
            ]
          },
          "metadata": {
            "tags": []
          },
          "execution_count": 9
        }
      ]
    },
    {
      "cell_type": "code",
      "metadata": {
        "id": "zUPIVpI6BL6L",
        "colab_type": "code",
        "colab": {
          "base_uri": "https://localhost:8080/",
          "height": 410
        },
        "outputId": "082e0499-061a-4e3c-bcd2-b0fa0b99beb6"
      },
      "source": [
        "#Fazendo um novo boxplot, retirando os filmes com menos de 10 votos\n",
        "plt.figure(figsize=(12,6))\n",
        "ax = sns.boxplot(tmdb_com_mais_de_10_votos.vote_average)\n",
        "ax.set(xlabel='nota média')\n",
        "ax.set_title('Distribuição de nota média dos filmes com 10 ou mais votos do TMDB 5000 ', fontsize=20)\n",
        "plt.show()"
      ],
      "execution_count": 10,
      "outputs": [
        {
          "output_type": "display_data",
          "data": {
            "image/png": "[encoded data removed]",
            "text/plain": [
              "<Figure size 864x432 with 1 Axes>"
            ]
          },
          "metadata": {
            "tags": [],
            "needs_background": "light"
          }
        }
      ]
    },
    {
      "cell_type": "code",
      "metadata": {
        "id": "VO1ibmxEBkH4",
        "colab_type": "code",
        "colab": {
          "base_uri": "https://localhost:8080/",
          "height": 421
        },
        "outputId": "859a0603-81c4-4938-b3a6-e5ed92979b00"
      },
      "source": [
        "#Visualizando a nova distribuição\n",
        "plt.figure(figsize=(12,6))\n",
        "ax = sns.distplot(tmdb_com_mais_de_10_votos.vote_average)\n",
        "ax.set(xlabel='nota média', ylabel='densidade')\n",
        "ax.set_title('Média de votos em filmes no TMDB 5000')"
      ],
      "execution_count": 11,
      "outputs": [
        {
          "output_type": "execute_result",
          "data": {
            "text/plain": [
              "Text(0.5, 1.0, 'Média de votos em filmes no TMDB 5000')"
            ]
          },
          "metadata": {
            "tags": []
          },
          "execution_count": 11
        },
        {
          "output_type": "display_data",
          "data": {
            "image/png": "[encoded data removed]",
            "text/plain": [
              "<Figure size 864x432 with 1 Axes>"
            ]
          },
          "metadata": {
            "tags": [],
            "needs_background": "light"
          }
        }
      ]
    },
    {
      "cell_type": "markdown",
      "metadata": {
        "id": "yUzleesJIfd1",
        "colab_type": "text"
      },
      "source": [
        "## Aula 02 - Explorando a distribuição das Amostras"
      ]
    },
    {
      "cell_type": "markdown",
      "metadata": {
        "id": "eWaXt5cUDCDF",
        "colab_type": "text"
      },
      "source": [
        "## Analisando o MovieLens"
      ]
    },
    {
      "cell_type": "code",
      "metadata": {
        "id": "PJ1_JVTfCDB3",
        "colab_type": "code",
        "colab": {
          "base_uri": "https://localhost:8080/",
          "height": 204
        },
        "outputId": "83fef67a-2e41-4aa6-8e49-af3663e45333"
      },
      "source": [
        "notas = pd.read_csv('ratings.csv')\n",
        "notas.head()"
      ],
      "execution_count": 12,
      "outputs": [
        {
          "output_type": "execute_result",
          "data": {
            "text/html": [
              "<div>\n",
              "<style scoped>\n",
              "    .dataframe tbody tr th:only-of-type {\n",
              "        vertical-align: middle;\n",
              "    }\n",
              "\n",
              "    .dataframe tbody tr th {\n",
              "        vertical-align: top;\n",
              "    }\n",
              "\n",
              "    .dataframe thead th {\n",
              "        text-align: right;\n",
              "    }\n",
              "</style>\n",
              "<table border=\"1\" class=\"dataframe\">\n",
              "  <thead>\n",
              "    <tr style=\"text-align: right;\">\n",
              "      <th></th>\n",
              "      <th>userId</th>\n",
              "      <th>movieId</th>\n",
              "      <th>rating</th>\n",
              "      <th>timestamp</th>\n",
              "    </tr>\n",
              "  </thead>\n",
              "  <tbody>\n",
              "    <tr>\n",
              "      <th>0</th>\n",
              "      <td>1</td>\n",
              "      <td>1</td>\n",
              "      <td>4.0</td>\n",
              "      <td>964982703</td>\n",
              "    </tr>\n",
              "    <tr>\n",
              "      <th>1</th>\n",
              "      <td>1</td>\n",
              "      <td>3</td>\n",
              "      <td>4.0</td>\n",
              "      <td>964981247</td>\n",
              "    </tr>\n",
              "    <tr>\n",
              "      <th>2</th>\n",
              "      <td>1</td>\n",
              "      <td>6</td>\n",
              "      <td>4.0</td>\n",
              "      <td>964982224</td>\n",
              "    </tr>\n",
              "    <tr>\n",
              "      <th>3</th>\n",
              "      <td>1</td>\n",
              "      <td>47</td>\n",
              "      <td>5.0</td>\n",
              "      <td>964983815</td>\n",
              "    </tr>\n",
              "    <tr>\n",
              "      <th>4</th>\n",
              "      <td>1</td>\n",
              "      <td>50</td>\n",
              "      <td>5.0</td>\n",
              "      <td>964982931</td>\n",
              "    </tr>\n",
              "  </tbody>\n",
              "</table>\n",
              "</div>"
            ],
            "text/plain": [
              "   userId  movieId  rating  timestamp\n",
              "0       1        1     4.0  964982703\n",
              "1       1        3     4.0  964981247\n",
              "2       1        6     4.0  964982224\n",
              "3       1       47     5.0  964983815\n",
              "4       1       50     5.0  964982931"
            ]
          },
          "metadata": {
            "tags": []
          },
          "execution_count": 12
        }
      ]
    },
    {
      "cell_type": "code",
      "metadata": {
        "id": "HCMRcJ4bDKPm",
        "colab_type": "code",
        "colab": {
          "base_uri": "https://localhost:8080/",
          "height": 136
        },
        "outputId": "c841d02b-aaed-4689-8899-5a770efe5d95"
      },
      "source": [
        "nota_media_por_filme = notas.groupby('movieId').mean()['rating']\n",
        "nota_media_por_filme.head()"
      ],
      "execution_count": 13,
      "outputs": [
        {
          "output_type": "execute_result",
          "data": {
            "text/plain": [
              "movieId\n",
              "1    3.920930\n",
              "2    3.431818\n",
              "3    3.259615\n",
              "4    2.357143\n",
              "5    3.071429\n",
              "Name: rating, dtype: float64"
            ]
          },
          "metadata": {
            "tags": []
          },
          "execution_count": 13
        }
      ]
    },
    {
      "cell_type": "code",
      "metadata": {
        "id": "F0aJvKexDUrV",
        "colab_type": "code",
        "colab": {
          "base_uri": "https://localhost:8080/",
          "height": 421
        },
        "outputId": "41318a5d-9d7a-40c3-afc8-75618ce97178"
      },
      "source": [
        "plt.figure(figsize=(12,6))\n",
        "ax = sns.distplot(nota_media_por_filme.values)\n",
        "ax.set(xlabel='nota média', ylabel='densidade')\n",
        "ax.set_title('Média de votos em filmes no MovieLens 100mil')"
      ],
      "execution_count": 14,
      "outputs": [
        {
          "output_type": "execute_result",
          "data": {
            "text/plain": [
              "Text(0.5, 1.0, 'Média de votos em filmes no MovieLens 100mil')"
            ]
          },
          "metadata": {
            "tags": []
          },
          "execution_count": 14
        },
        {
          "output_type": "display_data",
          "data": {
            "image/png": "[encoded data removed]",
            "text/plain": [
              "<Figure size 864x432 with 1 Axes>"
            ]
          },
          "metadata": {
            "tags": [],
            "needs_background": "light"
          }
        }
      ]
    },
    {
      "cell_type": "code",
      "metadata": {
        "id": "QD09CLwmDsPs",
        "colab_type": "code",
        "colab": {
          "base_uri": "https://localhost:8080/",
          "height": 204
        },
        "outputId": "d83af292-c407-4755-d226-39cf3908a684"
      },
      "source": [
        "notas.head()"
      ],
      "execution_count": 15,
      "outputs": [
        {
          "output_type": "execute_result",
          "data": {
            "text/html": [
              "<div>\n",
              "<style scoped>\n",
              "    .dataframe tbody tr th:only-of-type {\n",
              "        vertical-align: middle;\n",
              "    }\n",
              "\n",
              "    .dataframe tbody tr th {\n",
              "        vertical-align: top;\n",
              "    }\n",
              "\n",
              "    .dataframe thead th {\n",
              "        text-align: right;\n",
              "    }\n",
              "</style>\n",
              "<table border=\"1\" class=\"dataframe\">\n",
              "  <thead>\n",
              "    <tr style=\"text-align: right;\">\n",
              "      <th></th>\n",
              "      <th>userId</th>\n",
              "      <th>movieId</th>\n",
              "      <th>rating</th>\n",
              "      <th>timestamp</th>\n",
              "    </tr>\n",
              "  </thead>\n",
              "  <tbody>\n",
              "    <tr>\n",
              "      <th>0</th>\n",
              "      <td>1</td>\n",
              "      <td>1</td>\n",
              "      <td>4.0</td>\n",
              "      <td>964982703</td>\n",
              "    </tr>\n",
              "    <tr>\n",
              "      <th>1</th>\n",
              "      <td>1</td>\n",
              "      <td>3</td>\n",
              "      <td>4.0</td>\n",
              "      <td>964981247</td>\n",
              "    </tr>\n",
              "    <tr>\n",
              "      <th>2</th>\n",
              "      <td>1</td>\n",
              "      <td>6</td>\n",
              "      <td>4.0</td>\n",
              "      <td>964982224</td>\n",
              "    </tr>\n",
              "    <tr>\n",
              "      <th>3</th>\n",
              "      <td>1</td>\n",
              "      <td>47</td>\n",
              "      <td>5.0</td>\n",
              "      <td>964983815</td>\n",
              "    </tr>\n",
              "    <tr>\n",
              "      <th>4</th>\n",
              "      <td>1</td>\n",
              "      <td>50</td>\n",
              "      <td>5.0</td>\n",
              "      <td>964982931</td>\n",
              "    </tr>\n",
              "  </tbody>\n",
              "</table>\n",
              "</div>"
            ],
            "text/plain": [
              "   userId  movieId  rating  timestamp\n",
              "0       1        1     4.0  964982703\n",
              "1       1        3     4.0  964981247\n",
              "2       1        6     4.0  964982224\n",
              "3       1       47     5.0  964983815\n",
              "4       1       50     5.0  964982931"
            ]
          },
          "metadata": {
            "tags": []
          },
          "execution_count": 15
        }
      ]
    },
    {
      "cell_type": "code",
      "metadata": {
        "id": "lA7xhinxD-M0",
        "colab_type": "code",
        "colab": {
          "base_uri": "https://localhost:8080/",
          "height": 450
        },
        "outputId": "2b71dd18-21ea-4aa7-8c24-e2a3c88b9115"
      },
      "source": [
        "quantidade_de_votos_por_filme = notas.groupby(\"movieId\").count()\n",
        "quantidade_de_votos_por_filme.query(\"rating >= 10\")"
      ],
      "execution_count": 16,
      "outputs": [
        {
          "output_type": "execute_result",
          "data": {
            "text/html": [
              "<div>\n",
              "<style scoped>\n",
              "    .dataframe tbody tr th:only-of-type {\n",
              "        vertical-align: middle;\n",
              "    }\n",
              "\n",
              "    .dataframe tbody tr th {\n",
              "        vertical-align: top;\n",
              "    }\n",
              "\n",
              "    .dataframe thead th {\n",
              "        text-align: right;\n",
              "    }\n",
              "</style>\n",
              "<table border=\"1\" class=\"dataframe\">\n",
              "  <thead>\n",
              "    <tr style=\"text-align: right;\">\n",
              "      <th></th>\n",
              "      <th>userId</th>\n",
              "      <th>rating</th>\n",
              "      <th>timestamp</th>\n",
              "    </tr>\n",
              "    <tr>\n",
              "      <th>movieId</th>\n",
              "      <th></th>\n",
              "      <th></th>\n",
              "      <th></th>\n",
              "    </tr>\n",
              "  </thead>\n",
              "  <tbody>\n",
              "    <tr>\n",
              "      <th>1</th>\n",
              "      <td>215</td>\n",
              "      <td>215</td>\n",
              "      <td>215</td>\n",
              "    </tr>\n",
              "    <tr>\n",
              "      <th>2</th>\n",
              "      <td>110</td>\n",
              "      <td>110</td>\n",
              "      <td>110</td>\n",
              "    </tr>\n",
              "    <tr>\n",
              "      <th>3</th>\n",
              "      <td>52</td>\n",
              "      <td>52</td>\n",
              "      <td>52</td>\n",
              "    </tr>\n",
              "    <tr>\n",
              "      <th>5</th>\n",
              "      <td>49</td>\n",
              "      <td>49</td>\n",
              "      <td>49</td>\n",
              "    </tr>\n",
              "    <tr>\n",
              "      <th>6</th>\n",
              "      <td>102</td>\n",
              "      <td>102</td>\n",
              "      <td>102</td>\n",
              "    </tr>\n",
              "    <tr>\n",
              "      <th>...</th>\n",
              "      <td>...</td>\n",
              "      <td>...</td>\n",
              "      <td>...</td>\n",
              "    </tr>\n",
              "    <tr>\n",
              "      <th>174055</th>\n",
              "      <td>13</td>\n",
              "      <td>13</td>\n",
              "      <td>13</td>\n",
              "    </tr>\n",
              "    <tr>\n",
              "      <th>176371</th>\n",
              "      <td>18</td>\n",
              "      <td>18</td>\n",
              "      <td>18</td>\n",
              "    </tr>\n",
              "    <tr>\n",
              "      <th>177765</th>\n",
              "      <td>13</td>\n",
              "      <td>13</td>\n",
              "      <td>13</td>\n",
              "    </tr>\n",
              "    <tr>\n",
              "      <th>179819</th>\n",
              "      <td>12</td>\n",
              "      <td>12</td>\n",
              "      <td>12</td>\n",
              "    </tr>\n",
              "    <tr>\n",
              "      <th>187593</th>\n",
              "      <td>12</td>\n",
              "      <td>12</td>\n",
              "      <td>12</td>\n",
              "    </tr>\n",
              "  </tbody>\n",
              "</table>\n",
              "<p>2269 rows × 3 columns</p>\n",
              "</div>"
            ],
            "text/plain": [
              "         userId  rating  timestamp\n",
              "movieId                           \n",
              "1           215     215        215\n",
              "2           110     110        110\n",
              "3            52      52         52\n",
              "5            49      49         49\n",
              "6           102     102        102\n",
              "...         ...     ...        ...\n",
              "174055       13      13         13\n",
              "176371       18      18         18\n",
              "177765       13      13         13\n",
              "179819       12      12         12\n",
              "187593       12      12         12\n",
              "\n",
              "[2269 rows x 3 columns]"
            ]
          },
          "metadata": {
            "tags": []
          },
          "execution_count": 16
        }
      ]
    },
    {
      "cell_type": "code",
      "metadata": {
        "id": "X87lB_EbEDkk",
        "colab_type": "code",
        "colab": {
          "base_uri": "https://localhost:8080/",
          "height": 34
        },
        "outputId": "39f2d01e-0df0-4276-b3a8-a7cce9022323"
      },
      "source": [
        "quantidade_de_votos_por_filme.shape"
      ],
      "execution_count": 17,
      "outputs": [
        {
          "output_type": "execute_result",
          "data": {
            "text/plain": [
              "(9724, 3)"
            ]
          },
          "metadata": {
            "tags": []
          },
          "execution_count": 17
        }
      ]
    },
    {
      "cell_type": "code",
      "metadata": {
        "id": "UQWA7qP4ExjS",
        "colab_type": "code",
        "colab": {
          "base_uri": "https://localhost:8080/",
          "height": 119
        },
        "outputId": "7abdf85f-b2d4-49c7-db3c-1f35a0642daa"
      },
      "source": [
        "filmes_com_pelo_menos_10_votos = quantidade_de_votos_por_filme.query(\"rating >= 10\").index\n",
        "filmes_com_pelo_menos_10_votos\n"
      ],
      "execution_count": 18,
      "outputs": [
        {
          "output_type": "execute_result",
          "data": {
            "text/plain": [
              "Int64Index([     1,      2,      3,      5,      6,      7,      9,     10,\n",
              "                11,     12,\n",
              "            ...\n",
              "            166461, 166528, 166643, 168250, 168252, 174055, 176371, 177765,\n",
              "            179819, 187593],\n",
              "           dtype='int64', name='movieId', length=2269)"
            ]
          },
          "metadata": {
            "tags": []
          },
          "execution_count": 18
        }
      ]
    },
    {
      "cell_type": "code",
      "metadata": {
        "id": "sLWP8tZmFdwk",
        "colab_type": "code",
        "colab": {
          "base_uri": "https://localhost:8080/",
          "height": 136
        },
        "outputId": "a320c454-d716-4484-8cbd-c7a4b6a1dc16"
      },
      "source": [
        "#buscando por indice\n",
        "nota_media_dos_filmes_com_pelo_menos_10_votos = nota_media_por_filme.loc[filmes_com_pelo_menos_10_votos]\n",
        "nota_media_dos_filmes_com_pelo_menos_10_votos.head()"
      ],
      "execution_count": 19,
      "outputs": [
        {
          "output_type": "execute_result",
          "data": {
            "text/plain": [
              "movieId\n",
              "1    3.920930\n",
              "2    3.431818\n",
              "3    3.259615\n",
              "5    3.071429\n",
              "6    3.946078\n",
              "Name: rating, dtype: float64"
            ]
          },
          "metadata": {
            "tags": []
          },
          "execution_count": 19
        }
      ]
    },
    {
      "cell_type": "code",
      "metadata": {
        "id": "eyyMU0nsGoES",
        "colab_type": "code",
        "colab": {
          "base_uri": "https://localhost:8080/",
          "height": 421
        },
        "outputId": "02f096fc-70ec-4283-997e-4ef646233aca"
      },
      "source": [
        "plt.figure(figsize=(12,6))\n",
        "ax = sns.distplot(nota_media_dos_filmes_com_pelo_menos_10_votos.values)\n",
        "ax.set(xlabel='nota média', ylabel='densidade')\n",
        "ax.set_title('Média de votos em filmes no MovieLens 100mil com 10 ou mais votos')"
      ],
      "execution_count": 20,
      "outputs": [
        {
          "output_type": "execute_result",
          "data": {
            "text/plain": [
              "Text(0.5, 1.0, 'Média de votos em filmes no MovieLens 100mil com 10 ou mais votos')"
            ]
          },
          "metadata": {
            "tags": []
          },
          "execution_count": 20
        },
        {
          "output_type": "display_data",
          "data": {
            "image/png": "[encoded data removed]",
            "text/plain": [
              "<Figure size 864x432 with 1 Axes>"
            ]
          },
          "metadata": {
            "tags": [],
            "needs_background": "light"
          }
        }
      ]
    },
    {
      "cell_type": "code",
      "metadata": {
        "id": "nOi0NlGBHFY2",
        "colab_type": "code",
        "colab": {
          "base_uri": "https://localhost:8080/",
          "height": 410
        },
        "outputId": "fd5a6f24-60f6-4694-e56d-3a9a35e4e5f5"
      },
      "source": [
        "plt.figure(figsize=(12,6))\n",
        "ax = sns.boxplot(nota_media_dos_filmes_com_pelo_menos_10_votos.values)\n",
        "ax.set(xlabel='nota média')\n",
        "ax.set_title('Distribuição de nota média dos filmes com 10 ou mais votos do MovieLens 100k ', fontsize=20)\n",
        "plt.show()"
      ],
      "execution_count": 21,
      "outputs": [
        {
          "output_type": "display_data",
          "data": {
            "image/png": "[encoded data removed]",
            "text/plain": [
              "<Figure size 864x432 with 1 Axes>"
            ]
          },
          "metadata": {
            "tags": [],
            "needs_background": "light"
          }
        }
      ]
    },
    {
      "cell_type": "code",
      "metadata": {
        "id": "a6aUXOhbHeDt",
        "colab_type": "code",
        "colab": {
          "base_uri": "https://localhost:8080/",
          "height": 421
        },
        "outputId": "0ecd8a75-0684-4d4f-e2cb-34beed4cc5b5"
      },
      "source": [
        "#histograma com cumulative do matplotlib\n",
        "plt.figure(figsize=(12,6))\n",
        "ax = sns.distplot(nota_media_dos_filmes_com_pelo_menos_10_votos.values, hist_kws={'cumulative': True}, kde_kws={'cumulative': True})\n",
        "ax.set(xlabel='nota média', ylabel='% acumulada de filmes')\n",
        "ax.set_title('Média de votos em filmes no MovieLens 100mil com 10 ou mais votos')"
      ],
      "execution_count": 22,
      "outputs": [
        {
          "output_type": "execute_result",
          "data": {
            "text/plain": [
              "Text(0.5, 1.0, 'Média de votos em filmes no MovieLens 100mil com 10 ou mais votos')"
            ]
          },
          "metadata": {
            "tags": []
          },
          "execution_count": 22
        },
        {
          "output_type": "display_data",
          "data": {
            "image/png": "[encoded data removed]",
            "text/plain": [
              "<Figure size 864x432 with 1 Axes>"
            ]
          },
          "metadata": {
            "tags": [],
            "needs_background": "light"
          }
        }
      ]
    },
    {
      "cell_type": "code",
      "metadata": {
        "id": "2uvM7XO1JJsU",
        "colab_type": "code",
        "colab": {
          "base_uri": "https://localhost:8080/",
          "height": 421
        },
        "outputId": "f01ed966-24dd-4d8c-cc11-9780c6d54149"
      },
      "source": [
        "#histograma com cumulative do matplotlib\n",
        "plt.figure(figsize=(12,6))\n",
        "ax = sns.distplot(tmdb_com_mais_de_10_votos.vote_average, hist_kws={'cumulative': True}, kde_kws={'cumulative': True})\n",
        "ax.set(xlabel='nota média', ylabel='% acumulada de filmes')\n",
        "ax.set_title('Média de votos em filmes no TMDB 5000 com 10 ou mais votos')"
      ],
      "execution_count": 23,
      "outputs": [
        {
          "output_type": "execute_result",
          "data": {
            "text/plain": [
              "Text(0.5, 1.0, 'Média de votos em filmes no TMDB 5000 com 10 ou mais votos')"
            ]
          },
          "metadata": {
            "tags": []
          },
          "execution_count": 23
        },
        {
          "output_type": "display_data",
          "data": {
            "image/png": "[encoded data removed]",
            "text/plain": [
              "<Figure size 864x432 with 1 Axes>"
            ]
          },
          "metadata": {
            "tags": [],
            "needs_background": "light"
          }
        }
      ]
    },
    {
      "cell_type": "markdown",
      "metadata": {
        "id": "LhOVjF-fKT21",
        "colab_type": "text"
      },
      "source": [
        "### Analisando a distribuição dos dados capturados de outros campos do TMDB"
      ]
    },
    {
      "cell_type": "code",
      "metadata": {
        "id": "tYDAgxnbJ4AS",
        "colab_type": "code",
        "colab": {
          "base_uri": "https://localhost:8080/",
          "height": 0
        },
        "outputId": "3d2f2987-01a6-424b-f643-1b4f6b2d8d75"
      },
      "source": [
        "tmdb_com_mais_de_10_votos.head()"
      ],
      "execution_count": 24,
      "outputs": [
        {
          "output_type": "execute_result",
          "data": {
            "text/html": [
              "<div>\n",
              "<style scoped>\n",
              "    .dataframe tbody tr th:only-of-type {\n",
              "        vertical-align: middle;\n",
              "    }\n",
              "\n",
              "    .dataframe tbody tr th {\n",
              "        vertical-align: top;\n",
              "    }\n",
              "\n",
              "    .dataframe thead th {\n",
              "        text-align: right;\n",
              "    }\n",
              "</style>\n",
              "<table border=\"1\" class=\"dataframe\">\n",
              "  <thead>\n",
              "    <tr style=\"text-align: right;\">\n",
              "      <th></th>\n",
              "      <th>budget</th>\n",
              "      <th>genres</th>\n",
              "      <th>homepage</th>\n",
              "      <th>id</th>\n",
              "      <th>keywords</th>\n",
              "      <th>original_language</th>\n",
              "      <th>original_title</th>\n",
              "      <th>overview</th>\n",
              "      <th>popularity</th>\n",
              "      <th>production_companies</th>\n",
              "      <th>production_countries</th>\n",
              "      <th>release_date</th>\n",
              "      <th>revenue</th>\n",
              "      <th>runtime</th>\n",
              "      <th>spoken_languages</th>\n",
              "      <th>status</th>\n",
              "      <th>tagline</th>\n",
              "      <th>title</th>\n",
              "      <th>vote_average</th>\n",
              "      <th>vote_count</th>\n",
              "    </tr>\n",
              "  </thead>\n",
              "  <tbody>\n",
              "    <tr>\n",
              "      <th>0</th>\n",
              "      <td>237000000</td>\n",
              "      <td>[{\"id\": 28, \"name\": \"Action\"}, {\"id\": 12, \"nam...</td>\n",
              "      <td>http://www.avatarmovie.com/</td>\n",
              "      <td>19995</td>\n",
              "      <td>[{\"id\": 1463, \"name\": \"culture clash\"}, {\"id\":...</td>\n",
              "      <td>en</td>\n",
              "      <td>Avatar</td>\n",
              "      <td>In the 22nd century, a paraplegic Marine is di...</td>\n",
              "      <td>150.437577</td>\n",
              "      <td>[{\"name\": \"Ingenious Film Partners\", \"id\": 289...</td>\n",
              "      <td>[{\"iso_3166_1\": \"US\", \"name\": \"United States o...</td>\n",
              "      <td>2009-12-10</td>\n",
              "      <td>2787965087</td>\n",
              "      <td>162.0</td>\n",
              "      <td>[{\"iso_639_1\": \"en\", \"name\": \"English\"}, {\"iso...</td>\n",
              "      <td>Released</td>\n",
              "      <td>Enter the World of Pandora.</td>\n",
              "      <td>Avatar</td>\n",
              "      <td>7.2</td>\n",
              "      <td>11800</td>\n",
              "    </tr>\n",
              "    <tr>\n",
              "      <th>1</th>\n",
              "      <td>300000000</td>\n",
              "      <td>[{\"id\": 12, \"name\": \"Adventure\"}, {\"id\": 14, \"...</td>\n",
              "      <td>http://disney.go.com/disneypictures/pirates/</td>\n",
              "      <td>285</td>\n",
              "      <td>[{\"id\": 270, \"name\": \"ocean\"}, {\"id\": 726, \"na...</td>\n",
              "      <td>en</td>\n",
              "      <td>Pirates of the Caribbean: At World's End</td>\n",
              "      <td>Captain Barbossa, long believed to be dead, ha...</td>\n",
              "      <td>139.082615</td>\n",
              "      <td>[{\"name\": \"Walt Disney Pictures\", \"id\": 2}, {\"...</td>\n",
              "      <td>[{\"iso_3166_1\": \"US\", \"name\": \"United States o...</td>\n",
              "      <td>2007-05-19</td>\n",
              "      <td>961000000</td>\n",
              "      <td>169.0</td>\n",
              "      <td>[{\"iso_639_1\": \"en\", \"name\": \"English\"}]</td>\n",
              "      <td>Released</td>\n",
              "      <td>At the end of the world, the adventure begins.</td>\n",
              "      <td>Pirates of the Caribbean: At World's End</td>\n",
              "      <td>6.9</td>\n",
              "      <td>4500</td>\n",
              "    </tr>\n",
              "    <tr>\n",
              "      <th>2</th>\n",
              "      <td>245000000</td>\n",
              "      <td>[{\"id\": 28, \"name\": \"Action\"}, {\"id\": 12, \"nam...</td>\n",
              "      <td>http://www.sonypictures.com/movies/spectre/</td>\n",
              "      <td>206647</td>\n",
              "      <td>[{\"id\": 470, \"name\": \"spy\"}, {\"id\": 818, \"name...</td>\n",
              "      <td>en</td>\n",
              "      <td>Spectre</td>\n",
              "      <td>A cryptic message from Bond’s past sends him o...</td>\n",
              "      <td>107.376788</td>\n",
              "      <td>[{\"name\": \"Columbia Pictures\", \"id\": 5}, {\"nam...</td>\n",
              "      <td>[{\"iso_3166_1\": \"GB\", \"name\": \"United Kingdom\"...</td>\n",
              "      <td>2015-10-26</td>\n",
              "      <td>880674609</td>\n",
              "      <td>148.0</td>\n",
              "      <td>[{\"iso_639_1\": \"fr\", \"name\": \"Fran\\u00e7ais\"},...</td>\n",
              "      <td>Released</td>\n",
              "      <td>A Plan No One Escapes</td>\n",
              "      <td>Spectre</td>\n",
              "      <td>6.3</td>\n",
              "      <td>4466</td>\n",
              "    </tr>\n",
              "    <tr>\n",
              "      <th>3</th>\n",
              "      <td>250000000</td>\n",
              "      <td>[{\"id\": 28, \"name\": \"Action\"}, {\"id\": 80, \"nam...</td>\n",
              "      <td>http://www.thedarkknightrises.com/</td>\n",
              "      <td>49026</td>\n",
              "      <td>[{\"id\": 849, \"name\": \"dc comics\"}, {\"id\": 853,...</td>\n",
              "      <td>en</td>\n",
              "      <td>The Dark Knight Rises</td>\n",
              "      <td>Following the death of District Attorney Harve...</td>\n",
              "      <td>112.312950</td>\n",
              "      <td>[{\"name\": \"Legendary Pictures\", \"id\": 923}, {\"...</td>\n",
              "      <td>[{\"iso_3166_1\": \"US\", \"name\": \"United States o...</td>\n",
              "      <td>2012-07-16</td>\n",
              "      <td>1084939099</td>\n",
              "      <td>165.0</td>\n",
              "      <td>[{\"iso_639_1\": \"en\", \"name\": \"English\"}]</td>\n",
              "      <td>Released</td>\n",
              "      <td>The Legend Ends</td>\n",
              "      <td>The Dark Knight Rises</td>\n",
              "      <td>7.6</td>\n",
              "      <td>9106</td>\n",
              "    </tr>\n",
              "    <tr>\n",
              "      <th>4</th>\n",
              "      <td>260000000</td>\n",
              "      <td>[{\"id\": 28, \"name\": \"Action\"}, {\"id\": 12, \"nam...</td>\n",
              "      <td>http://movies.disney.com/john-carter</td>\n",
              "      <td>49529</td>\n",
              "      <td>[{\"id\": 818, \"name\": \"based on novel\"}, {\"id\":...</td>\n",
              "      <td>en</td>\n",
              "      <td>John Carter</td>\n",
              "      <td>John Carter is a war-weary, former military ca...</td>\n",
              "      <td>43.926995</td>\n",
              "      <td>[{\"name\": \"Walt Disney Pictures\", \"id\": 2}]</td>\n",
              "      <td>[{\"iso_3166_1\": \"US\", \"name\": \"United States o...</td>\n",
              "      <td>2012-03-07</td>\n",
              "      <td>284139100</td>\n",
              "      <td>132.0</td>\n",
              "      <td>[{\"iso_639_1\": \"en\", \"name\": \"English\"}]</td>\n",
              "      <td>Released</td>\n",
              "      <td>Lost in our world, found in another.</td>\n",
              "      <td>John Carter</td>\n",
              "      <td>6.1</td>\n",
              "      <td>2124</td>\n",
              "    </tr>\n",
              "  </tbody>\n",
              "</table>\n",
              "</div>"
            ],
            "text/plain": [
              "      budget  ... vote_count\n",
              "0  237000000  ...      11800\n",
              "1  300000000  ...       4500\n",
              "2  245000000  ...       4466\n",
              "3  250000000  ...       9106\n",
              "4  260000000  ...       2124\n",
              "\n",
              "[5 rows x 20 columns]"
            ]
          },
          "metadata": {
            "tags": []
          },
          "execution_count": 24
        }
      ]
    },
    {
      "cell_type": "code",
      "metadata": {
        "id": "_eMzIQ8YKaKq",
        "colab_type": "code",
        "colab": {
          "base_uri": "https://localhost:8080/",
          "height": 0
        },
        "outputId": "1deb50c3-a844-4724-ae83-fea99f95c01e"
      },
      "source": [
        "plt.figure(figsize=(12,6))\n",
        "ax = sns.distplot(tmdb_com_mais_de_10_votos.vote_count)\n",
        "ax.set(xlabel='Quantidade de votos', ylabel='densidade')\n",
        "ax.set_title('Quantidade de votos em filmes no TMDB 5000 com 10 ou mais votos')"
      ],
      "execution_count": 25,
      "outputs": [
        {
          "output_type": "execute_result",
          "data": {
            "text/plain": [
              "Text(0.5, 1.0, 'Quantidade de votos em filmes no TMDB 5000 com 10 ou mais votos')"
            ]
          },
          "metadata": {
            "tags": []
          },
          "execution_count": 25
        },
        {
          "output_type": "display_data",
          "data": {
            "image/png": "[encoded data removed]",
            "text/plain": [
              "<Figure size 864x432 with 1 Axes>"
            ]
          },
          "metadata": {
            "tags": [],
            "needs_background": "light"
          }
        }
      ]
    },
    {
      "cell_type": "code",
      "metadata": {
        "id": "h0r8CRifKuFg",
        "colab_type": "code",
        "colab": {
          "base_uri": "https://localhost:8080/",
          "height": 0
        },
        "outputId": "e400550b-65bb-4c73-f632-c1b7a190b869"
      },
      "source": [
        "#orçamento\n",
        "plt.figure(figsize=(12,6))\n",
        "ax = sns.distplot(tmdb.query(\"budget > 0\").budget)\n",
        "ax.set(xlabel='Gastos', ylabel='densidade')\n",
        "ax.set_title('Gastos dos filmes no TMDB 5000')"
      ],
      "execution_count": 26,
      "outputs": [
        {
          "output_type": "execute_result",
          "data": {
            "text/plain": [
              "Text(0.5, 1.0, 'Gastos dos filmes no TMDB 5000')"
            ]
          },
          "metadata": {
            "tags": []
          },
          "execution_count": 26
        },
        {
          "output_type": "display_data",
          "data": {
            "image/png": "[encoded data removed]",
            "text/plain": [
              "<Figure size 864x432 with 1 Axes>"
            ]
          },
          "metadata": {
            "tags": [],
            "needs_background": "light"
          }
        }
      ]
    },
    {
      "cell_type": "code",
      "metadata": {
        "id": "rYMEHaCZLUsL",
        "colab_type": "code",
        "colab": {
          "base_uri": "https://localhost:8080/",
          "height": 0
        },
        "outputId": "63456833-fbca-4c22-9991-e900c4d00420"
      },
      "source": [
        "#popularidade\n",
        "plt.figure(figsize=(12,6))\n",
        "ax = sns.distplot(tmdb.popularity)\n",
        "ax.set(xlabel='Popularidade', ylabel='densidade')\n",
        "ax.set_title('Popularidade dos filmes no TMDB 5000')"
      ],
      "execution_count": 27,
      "outputs": [
        {
          "output_type": "execute_result",
          "data": {
            "text/plain": [
              "Text(0.5, 1.0, 'Popularidade dos filmes no TMDB 5000')"
            ]
          },
          "metadata": {
            "tags": []
          },
          "execution_count": 27
        },
        {
          "output_type": "display_data",
          "data": {
            "image/png": "[encoded data removed]",
            "text/plain": [
              "<Figure size 864x432 with 1 Axes>"
            ]
          },
          "metadata": {
            "tags": [],
            "needs_background": "light"
          }
        }
      ]
    },
    {
      "cell_type": "code",
      "metadata": {
        "id": "zN6SfZyhL-RW",
        "colab_type": "code",
        "colab": {
          "base_uri": "https://localhost:8080/",
          "height": 0
        },
        "outputId": "b9e1ef78-fb35-44f0-c38b-66f327f7c3a2"
      },
      "source": [
        "#tempo de duração - cumulativo\n",
        "plt.figure(figsize=(12,6))\n",
        "ax = sns.distplot(tmdb.query(\"runtime >0\").runtime.dropna(), hist_kws={'cumulative': True}, kde_kws={'cumulative':True})\n",
        "ax.set(xlabel='Duração do Filme', ylabel='Proporção')\n",
        "ax.set_title('Duração dos filmes no TMDB 5000')"
      ],
      "execution_count": 28,
      "outputs": [
        {
          "output_type": "execute_result",
          "data": {
            "text/plain": [
              "Text(0.5, 1.0, 'Duração dos filmes no TMDB 5000')"
            ]
          },
          "metadata": {
            "tags": []
          },
          "execution_count": 28
        },
        {
          "output_type": "display_data",
          "data": {
            "image/png": "[encoded data removed]",
            "text/plain": [
              "<Figure size 864x432 with 1 Axes>"
            ]
          },
          "metadata": {
            "tags": [],
            "needs_background": "light"
          }
        }
      ]
    },
    {
      "cell_type": "code",
      "metadata": {
        "id": "BNzPCWCaMMdW",
        "colab_type": "code",
        "colab": {
          "base_uri": "https://localhost:8080/",
          "height": 0
        },
        "outputId": "5650c1ee-79d9-468a-bec6-7ca61cc30e1a"
      },
      "source": [
        "tmdb.runtime.isna().sum()"
      ],
      "execution_count": 29,
      "outputs": [
        {
          "output_type": "execute_result",
          "data": {
            "text/plain": [
              "2"
            ]
          },
          "metadata": {
            "tags": []
          },
          "execution_count": 29
        }
      ]
    },
    {
      "cell_type": "code",
      "metadata": {
        "id": "VBzsyJvXMX92",
        "colab_type": "code",
        "colab": {
          "base_uri": "https://localhost:8080/",
          "height": 0
        },
        "outputId": "121d9056-0c5c-4d1f-bb74-6e411aaf5a31"
      },
      "source": [
        "#tempo de duração - Histograma normal\n",
        "plt.figure(figsize=(12,6))\n",
        "ax = sns.distplot(tmdb.query(\"runtime >0\").runtime.dropna())\n",
        "ax.set(xlabel='Duração do Filme', ylabel='densidade')\n",
        "ax.set_title('Duração dos filmes no TMDB 5000')"
      ],
      "execution_count": 30,
      "outputs": [
        {
          "output_type": "execute_result",
          "data": {
            "text/plain": [
              "Text(0.5, 1.0, 'Duração dos filmes no TMDB 5000')"
            ]
          },
          "metadata": {
            "tags": []
          },
          "execution_count": 30
        },
        {
          "output_type": "display_data",
          "data": {
            "image/png": "[encoded data removed]",
            "text/plain": [
              "<Figure size 864x432 with 1 Axes>"
            ]
          },
          "metadata": {
            "tags": [],
            "needs_background": "light"
          }
        }
      ]
    },
    {
      "cell_type": "code",
      "metadata": {
        "id": "vJYxYH5JMjAl",
        "colab_type": "code",
        "colab": {
          "base_uri": "https://localhost:8080/",
          "height": 0
        },
        "outputId": "9375116f-3729-4403-b21a-f99d7ca0313f"
      },
      "source": [
        "tmdb.query(\"runtime >0\").runtime.dropna().quantile(0.8)"
      ],
      "execution_count": 31,
      "outputs": [
        {
          "output_type": "execute_result",
          "data": {
            "text/plain": [
              "121.0"
            ]
          },
          "metadata": {
            "tags": []
          },
          "execution_count": 31
        }
      ]
    },
    {
      "cell_type": "markdown",
      "metadata": {
        "id": "zvuy5WvJ-IZM",
        "colab_type": "text"
      },
      "source": [
        "## Aula 03 - Efeito do tamanho de uma amostra"
      ]
    },
    {
      "cell_type": "markdown",
      "metadata": {
        "id": "J4d9mYpU-RPB",
        "colab_type": "text"
      },
      "source": [
        "### MovieLens, média dos filmes com mais de 10 votos"
      ]
    },
    {
      "cell_type": "code",
      "metadata": {
        "id": "ni9F5FXeNuFN",
        "colab_type": "code",
        "colab": {
          "base_uri": "https://localhost:8080/",
          "height": 0
        },
        "outputId": "e805d831-6274-4826-b3ed-a78450c771e0"
      },
      "source": [
        "nota_media_dos_filmes_com_pelo_menos_10_votos"
      ],
      "execution_count": 32,
      "outputs": [
        {
          "output_type": "execute_result",
          "data": {
            "text/plain": [
              "movieId\n",
              "1         3.920930\n",
              "2         3.431818\n",
              "3         3.259615\n",
              "5         3.071429\n",
              "6         3.946078\n",
              "            ...   \n",
              "174055    3.423077\n",
              "176371    3.805556\n",
              "177765    3.538462\n",
              "179819    3.125000\n",
              "187593    3.875000\n",
              "Name: rating, Length: 2269, dtype: float64"
            ]
          },
          "metadata": {
            "tags": []
          },
          "execution_count": 32
        }
      ]
    },
    {
      "cell_type": "code",
      "metadata": {
        "id": "0ybHyRws-e5L",
        "colab_type": "code",
        "colab": {
          "base_uri": "https://localhost:8080/",
          "height": 0
        },
        "outputId": "b4021919-ef09-4df9-ac8c-a8049062c346"
      },
      "source": [
        " #Média dos filmes com pelo menos 10 votos\n",
        " nota_media_dos_filmes_com_pelo_menos_10_votos.mean()"
      ],
      "execution_count": 33,
      "outputs": [
        {
          "output_type": "execute_result",
          "data": {
            "text/plain": [
              "3.4320503405352603"
            ]
          },
          "metadata": {
            "tags": []
          },
          "execution_count": 33
        }
      ]
    },
    {
      "cell_type": "code",
      "metadata": {
        "id": "gveyke4Z-k3a",
        "colab_type": "code",
        "colab": {
          "base_uri": "https://localhost:8080/",
          "height": 0
        },
        "outputId": "f2913619-2a79-4f97-f1fd-531b4f73e639"
      },
      "source": [
        "#vendo a média pelo número de amostras\n",
        "np.random.seed(75243)\n",
        "temp = nota_media_dos_filmes_com_pelo_menos_10_votos.sample(frac=1)\n",
        "#maneira menos verbosa de fazer um for no python\n",
        "medias = [temp[0:i].mean() for i in range(1, len(temp))]\n",
        "\n",
        "plt.figure(figsize=(12,6))\n",
        "plt.plot(medias)\n"
      ],
      "execution_count": 34,
      "outputs": [
        {
          "output_type": "execute_result",
          "data": {
            "text/plain": [
              "[<matplotlib.lines.Line2D at 0x7f7f8d630748>]"
            ]
          },
          "metadata": {
            "tags": []
          },
          "execution_count": 34
        },
        {
          "output_type": "display_data",
          "data": {
            "image/png": "[encoded data removed]",
            "text/plain": [
              "<Figure size 864x432 with 1 Axes>"
            ]
          },
          "metadata": {
            "tags": [],
            "needs_background": "light"
          }
        }
      ]
    },
    {
      "cell_type": "markdown",
      "metadata": {
        "id": "a91PgwYWCJ1L",
        "colab_type": "text"
      },
      "source": [
        "### Medindo um intervalo de confiança para poder generalizar o resultado de uma amostra"
      ]
    },
    {
      "cell_type": "code",
      "metadata": {
        "id": "G7VGWa54_p1I",
        "colab_type": "code",
        "colab": {}
      },
      "source": [
        "#dado meu conjunto de dados e considerando que é uma distribuição normal e com n suficiente, este é o intervalo de confiança desta amostra\n",
        "from statsmodels.stats.weightstats import zconfint, DescrStatsW, ztest"
      ],
      "execution_count": 35,
      "outputs": []
    },
    {
      "cell_type": "code",
      "metadata": {
        "id": "fLd6riIGCh2b",
        "colab_type": "code",
        "colab": {
          "base_uri": "https://localhost:8080/",
          "height": 0
        },
        "outputId": "469023e4-f1cf-4f13-8233-853d3246de82"
      },
      "source": [
        "zconfint(nota_media_dos_filmes_com_pelo_menos_10_votos)"
      ],
      "execution_count": 36,
      "outputs": [
        {
          "output_type": "execute_result",
          "data": {
            "text/plain": [
              "(3.4112459477469557, 3.452854733323563)"
            ]
          },
          "metadata": {
            "tags": []
          },
          "execution_count": 36
        }
      ]
    },
    {
      "cell_type": "code",
      "metadata": {
        "id": "SHeF0c6BCpPC",
        "colab_type": "code",
        "colab": {}
      },
      "source": [
        "#calculando o intervalo de confiança usando um teste T - o T foi feito para amostras pequenas\n",
        "descr_todos_com_10_votos = DescrStatsW(nota_media_dos_filmes_com_pelo_menos_10_votos)"
      ],
      "execution_count": 37,
      "outputs": []
    },
    {
      "cell_type": "code",
      "metadata": {
        "id": "3NwsOjhdC4zp",
        "colab_type": "code",
        "colab": {
          "base_uri": "https://localhost:8080/",
          "height": 0
        },
        "outputId": "f987e9a4-4f92-43a0-976c-f1bab88bab16"
      },
      "source": [
        "#usando a significancia de 5%\n",
        "descr_todos_com_10_votos.tconfint_mean(0.05)"
      ],
      "execution_count": 38,
      "outputs": [
        {
          "output_type": "execute_result",
          "data": {
            "text/plain": [
              "(3.411234839229381, 3.4528658418411395)"
            ]
          },
          "metadata": {
            "tags": []
          },
          "execution_count": 38
        }
      ]
    },
    {
      "cell_type": "markdown",
      "metadata": {
        "id": "8VBI9EEUEBof",
        "colab_type": "text"
      },
      "source": [
        "## Aula 04  - ZTest e TTest"
      ]
    },
    {
      "cell_type": "markdown",
      "metadata": {
        "id": "fiLcwENVELRg",
        "colab_type": "text"
      },
      "source": [
        "### Analisando o filme 1"
      ]
    },
    {
      "cell_type": "code",
      "metadata": {
        "id": "2y3oL2-FC6HS",
        "colab_type": "code",
        "colab": {
          "base_uri": "https://localhost:8080/",
          "height": 80
        },
        "outputId": "3ab78af3-e69b-4542-fe28-b401a1d7859d"
      },
      "source": [
        "#comparando médias\n",
        "filmes = pd.read_csv('movies.csv')\n",
        "filmes.query('movieId ==1')\n"
      ],
      "execution_count": 39,
      "outputs": [
        {
          "output_type": "execute_result",
          "data": {
            "text/html": [
              "<div>\n",
              "<style scoped>\n",
              "    .dataframe tbody tr th:only-of-type {\n",
              "        vertical-align: middle;\n",
              "    }\n",
              "\n",
              "    .dataframe tbody tr th {\n",
              "        vertical-align: top;\n",
              "    }\n",
              "\n",
              "    .dataframe thead th {\n",
              "        text-align: right;\n",
              "    }\n",
              "</style>\n",
              "<table border=\"1\" class=\"dataframe\">\n",
              "  <thead>\n",
              "    <tr style=\"text-align: right;\">\n",
              "      <th></th>\n",
              "      <th>movieId</th>\n",
              "      <th>title</th>\n",
              "      <th>genres</th>\n",
              "    </tr>\n",
              "  </thead>\n",
              "  <tbody>\n",
              "    <tr>\n",
              "      <th>0</th>\n",
              "      <td>1</td>\n",
              "      <td>Toy Story (1995)</td>\n",
              "      <td>Adventure|Animation|Children|Comedy|Fantasy</td>\n",
              "    </tr>\n",
              "  </tbody>\n",
              "</table>\n",
              "</div>"
            ],
            "text/plain": [
              "   movieId             title                                       genres\n",
              "0        1  Toy Story (1995)  Adventure|Animation|Children|Comedy|Fantasy"
            ]
          },
          "metadata": {
            "tags": []
          },
          "execution_count": 39
        }
      ]
    },
    {
      "cell_type": "code",
      "metadata": {
        "id": "t3W0SLsCC_ux",
        "colab_type": "code",
        "colab": {
          "base_uri": "https://localhost:8080/",
          "height": 204
        },
        "outputId": "1a2b0b58-cc2b-4bd7-dd01-3433fa311520"
      },
      "source": [
        "notas_1 = notas.query('movieId ==1')\n",
        "notas_1.head()"
      ],
      "execution_count": 40,
      "outputs": [
        {
          "output_type": "execute_result",
          "data": {
            "text/html": [
              "<div>\n",
              "<style scoped>\n",
              "    .dataframe tbody tr th:only-of-type {\n",
              "        vertical-align: middle;\n",
              "    }\n",
              "\n",
              "    .dataframe tbody tr th {\n",
              "        vertical-align: top;\n",
              "    }\n",
              "\n",
              "    .dataframe thead th {\n",
              "        text-align: right;\n",
              "    }\n",
              "</style>\n",
              "<table border=\"1\" class=\"dataframe\">\n",
              "  <thead>\n",
              "    <tr style=\"text-align: right;\">\n",
              "      <th></th>\n",
              "      <th>userId</th>\n",
              "      <th>movieId</th>\n",
              "      <th>rating</th>\n",
              "      <th>timestamp</th>\n",
              "    </tr>\n",
              "  </thead>\n",
              "  <tbody>\n",
              "    <tr>\n",
              "      <th>0</th>\n",
              "      <td>1</td>\n",
              "      <td>1</td>\n",
              "      <td>4.0</td>\n",
              "      <td>964982703</td>\n",
              "    </tr>\n",
              "    <tr>\n",
              "      <th>516</th>\n",
              "      <td>5</td>\n",
              "      <td>1</td>\n",
              "      <td>4.0</td>\n",
              "      <td>847434962</td>\n",
              "    </tr>\n",
              "    <tr>\n",
              "      <th>874</th>\n",
              "      <td>7</td>\n",
              "      <td>1</td>\n",
              "      <td>4.5</td>\n",
              "      <td>1106635946</td>\n",
              "    </tr>\n",
              "    <tr>\n",
              "      <th>1434</th>\n",
              "      <td>15</td>\n",
              "      <td>1</td>\n",
              "      <td>2.5</td>\n",
              "      <td>1510577970</td>\n",
              "    </tr>\n",
              "    <tr>\n",
              "      <th>1667</th>\n",
              "      <td>17</td>\n",
              "      <td>1</td>\n",
              "      <td>4.5</td>\n",
              "      <td>1305696483</td>\n",
              "    </tr>\n",
              "  </tbody>\n",
              "</table>\n",
              "</div>"
            ],
            "text/plain": [
              "      userId  movieId  rating   timestamp\n",
              "0          1        1     4.0   964982703\n",
              "516        5        1     4.0   847434962\n",
              "874        7        1     4.5  1106635946\n",
              "1434      15        1     2.5  1510577970\n",
              "1667      17        1     4.5  1305696483"
            ]
          },
          "metadata": {
            "tags": []
          },
          "execution_count": 40
        }
      ]
    },
    {
      "cell_type": "code",
      "metadata": {
        "id": "XBgqxGiXDBA5",
        "colab_type": "code",
        "colab": {
          "base_uri": "https://localhost:8080/",
          "height": 421
        },
        "outputId": "93ce3f52-d18e-4104-e75a-e482342186cf"
      },
      "source": [
        "#histograma do ToyStory\n",
        "plt.figure(figsize=(12,6))\n",
        "ax = sns.distplot(notas_1.rating)\n",
        "ax.set(xlabel='Nota', ylabel='densidade')\n",
        "ax.set_title('Distribuição de notas para o filme Toy Story')"
      ],
      "execution_count": 41,
      "outputs": [
        {
          "output_type": "execute_result",
          "data": {
            "text/plain": [
              "Text(0.5, 1.0, 'Distribuição de notas para o filme Toy Story')"
            ]
          },
          "metadata": {
            "tags": []
          },
          "execution_count": 41
        },
        {
          "output_type": "display_data",
          "data": {
            "image/png": "[encoded data removed]",
            "text/plain": [
              "<Figure size 864x432 with 1 Axes>"
            ]
          },
          "metadata": {
            "tags": [],
            "needs_background": "light"
          }
        }
      ]
    },
    {
      "cell_type": "code",
      "metadata": {
        "id": "4ZY_1c8yFAvu",
        "colab_type": "code",
        "colab": {
          "base_uri": "https://localhost:8080/",
          "height": 409
        },
        "outputId": "27c39aa7-1268-4496-941d-d8a428098c3d"
      },
      "source": [
        "plt.figure(figsize=(12,6))\n",
        "ax = sns.boxplot(notas_1.rating)\n",
        "ax.set(xlabel='Notas')\n",
        "ax.set_title('Distribuição de notas para o filme Toy Story ', fontsize=20)\n",
        "plt.show()"
      ],
      "execution_count": 42,
      "outputs": [
        {
          "output_type": "display_data",
          "data": {
            "image/png": "[encoded data removed]",
            "text/plain": [
              "<Figure size 864x432 with 1 Axes>"
            ]
          },
          "metadata": {
            "tags": [],
            "needs_background": "light"
          }
        }
      ]
    },
    {
      "cell_type": "code",
      "metadata": {
        "id": "n_7f8XeYFZEt",
        "colab_type": "code",
        "colab": {
          "base_uri": "https://localhost:8080/",
          "height": 34
        },
        "outputId": "fbe71c23-aa72-40d0-b81c-8609a978d2a0"
      },
      "source": [
        "notas_1.rating.mean()"
      ],
      "execution_count": 43,
      "outputs": [
        {
          "output_type": "execute_result",
          "data": {
            "text/plain": [
              "3.9209302325581397"
            ]
          },
          "metadata": {
            "tags": []
          },
          "execution_count": 43
        }
      ]
    },
    {
      "cell_type": "code",
      "metadata": {
        "id": "lScIc7IvF5Oc",
        "colab_type": "code",
        "colab": {
          "base_uri": "https://localhost:8080/",
          "height": 34
        },
        "outputId": "15288cf9-5cfe-42ed-823a-66bbb8bc28f4"
      },
      "source": [
        "notas_1.shape"
      ],
      "execution_count": 44,
      "outputs": [
        {
          "output_type": "execute_result",
          "data": {
            "text/plain": [
              "(215, 4)"
            ]
          },
          "metadata": {
            "tags": []
          },
          "execution_count": 44
        }
      ]
    },
    {
      "cell_type": "code",
      "metadata": {
        "id": "pLzbwuhfGJDC",
        "colab_type": "code",
        "colab": {
          "base_uri": "https://localhost:8080/",
          "height": 34
        },
        "outputId": "59260a9c-5890-4e3f-958c-732b9ceebd23"
      },
      "source": [
        "#intervalo de confiança de 5%\n",
        "zconfint(notas_1.rating)"
      ],
      "execution_count": 45,
      "outputs": [
        {
          "output_type": "execute_result",
          "data": {
            "text/plain": [
              "(3.8093359183563402, 4.032524546759939)"
            ]
          },
          "metadata": {
            "tags": []
          },
          "execution_count": 45
        }
      ]
    },
    {
      "cell_type": "code",
      "metadata": {
        "id": "gygnErZOGO1U",
        "colab_type": "code",
        "colab": {
          "base_uri": "https://localhost:8080/",
          "height": 51
        },
        "outputId": "89303a64-9bb0-4db5-e3ff-472e35503a9b"
      },
      "source": [
        "#Hipótese nula: As notas do Toy Story tem a mesma média da média total\n",
        "z_teste, p_valor = ztest(notas_1.rating, value=nota_media_dos_filmes_com_pelo_menos_10_votos.mean())\n",
        "print(z_teste)\n",
        "print(p_valor)"
      ],
      "execution_count": 46,
      "outputs": [
        {
          "output_type": "stream",
          "text": [
            "8.586342305916716\n",
            "8.978190401886942e-18\n"
          ],
          "name": "stdout"
        }
      ]
    },
    {
      "cell_type": "code",
      "metadata": {
        "id": "ZsV_BNA3Gw5b",
        "colab_type": "code",
        "colab": {
          "base_uri": "https://localhost:8080/",
          "height": 34
        },
        "outputId": "e5e976b6-07e5-4b0c-c78d-e2d6ad436d7f"
      },
      "source": [
        "#teste de hipótese: se p_valor < =  significancia (neste caso 5%, rejeitamos a hipótese nula)\n",
        "#teste bastante sensível no big Data - talvez sensível demais\n",
        "p_valor <= 0.05"
      ],
      "execution_count": 47,
      "outputs": [
        {
          "output_type": "execute_result",
          "data": {
            "text/plain": [
              "True"
            ]
          },
          "metadata": {
            "tags": []
          },
          "execution_count": 47
        }
      ]
    },
    {
      "cell_type": "code",
      "metadata": {
        "id": "A0PpLcETHPYQ",
        "colab_type": "code",
        "colab": {
          "base_uri": "https://localhost:8080/",
          "height": 391
        },
        "outputId": "de5bdae6-bb10-4363-fb1d-3ab82d3ee79e"
      },
      "source": [
        "#fazendo o plot do tamanho das amostras\n",
        "#vendo a média pelo número de amostras\n",
        "np.random.seed(75241)\n",
        "temp = notas_1.sample(frac=1)['rating']\n",
        "#maneira menos verbosa de fazer um for no python\n",
        "medias = [temp[0:i].mean() for i in range(1, len(temp))]\n",
        "\n",
        "plt.figure(figsize=(12,6))\n",
        "plt.plot(medias)\n",
        "\n"
      ],
      "execution_count": 48,
      "outputs": [
        {
          "output_type": "execute_result",
          "data": {
            "text/plain": [
              "[<matplotlib.lines.Line2D at 0x7f7f8d460160>]"
            ]
          },
          "metadata": {
            "tags": []
          },
          "execution_count": 48
        },
        {
          "output_type": "display_data",
          "data": {
            "image/png": "[encoded data removed]",
            "text/plain": [
              "<Figure size 864x432 with 1 Axes>"
            ]
          },
          "metadata": {
            "tags": [],
            "needs_background": "light"
          }
        }
      ]
    },
    {
      "cell_type": "code",
      "metadata": {
        "id": "AkUnIVKXIAtw",
        "colab_type": "code",
        "colab": {
          "base_uri": "https://localhost:8080/",
          "height": 1000
        },
        "outputId": "30b8b90f-5512-4804-8bb6-ae143c7965d5"
      },
      "source": [
        "#aplicando o ZTest com poucas amostras\n",
        "\n",
        "np.random.seed(75241)\n",
        "temp = notas_1.sample(frac=1)['rating']\n",
        "def calcula_teste(i):\n",
        "  media = temp[0:i].mean()\n",
        "  stat, p_value = ztest(temp[0:i], value = nota_media_dos_filmes_com_pelo_menos_10_votos.mean())\n",
        "  return (i, media,p_value)\n",
        "\n",
        "#maneira menos verbosa de fazer um for no python\n",
        "valores = np.array([calcula_teste(i) for i in range(2, len(temp))])\n",
        "valores\n",
        "\n"
      ],
      "execution_count": 49,
      "outputs": [
        {
          "output_type": "execute_result",
          "data": {
            "text/plain": [
              "array([[2.00000000e+00, 4.50000000e+00, 3.26876211e-02],\n",
              "       [3.00000000e+00, 4.00000000e+00, 3.25254351e-01],\n",
              "       [4.00000000e+00, 3.87500000e+00, 2.99521970e-01],\n",
              "       [5.00000000e+00, 3.90000000e+00, 1.58267818e-01],\n",
              "       [6.00000000e+00, 3.91666667e+00, 7.40693646e-02],\n",
              "       [7.00000000e+00, 3.92857143e+00, 3.05837219e-02],\n",
              "       [8.00000000e+00, 4.06250000e+00, 8.54684682e-03],\n",
              "       [9.00000000e+00, 3.94444444e+00, 3.43513698e-02],\n",
              "       [1.00000000e+01, 3.60000000e+00, 6.79775744e-01],\n",
              "       [1.10000000e+01, 3.59090909e+00, 6.66104056e-01],\n",
              "       [1.20000000e+01, 3.50000000e+00, 8.45259443e-01],\n",
              "       [1.30000000e+01, 3.50000000e+00, 8.31972270e-01],\n",
              "       [1.40000000e+01, 3.53571429e+00, 7.28503654e-01],\n",
              "       [1.50000000e+01, 3.60000000e+00, 5.56156495e-01],\n",
              "       [1.60000000e+01, 3.56250000e+00, 6.28416636e-01],\n",
              "       [1.70000000e+01, 3.64705882e+00, 4.20561961e-01],\n",
              "       [1.80000000e+01, 3.72222222e+00, 2.69271809e-01],\n",
              "       [1.90000000e+01, 3.68421053e+00, 3.15739563e-01],\n",
              "       [2.00000000e+01, 3.65000000e+00, 3.65581172e-01],\n",
              "       [2.10000000e+01, 3.57142857e+00, 5.65017036e-01],\n",
              "       [2.20000000e+01, 3.59090909e+00, 4.93088509e-01],\n",
              "       [2.30000000e+01, 3.60869565e+00, 4.26582466e-01],\n",
              "       [2.40000000e+01, 3.62500000e+00, 3.65783375e-01],\n",
              "       [2.50000000e+01, 3.64000000e+00, 3.10828735e-01],\n",
              "       [2.60000000e+01, 3.65384615e+00, 2.61717590e-01],\n",
              "       [2.70000000e+01, 3.64814815e+00, 2.55999905e-01],\n",
              "       [2.80000000e+01, 3.69642857e+00, 1.63141374e-01],\n",
              "       [2.90000000e+01, 3.74137931e+00, 1.00549868e-01],\n",
              "       [3.00000000e+01, 3.73333333e+00, 9.81271883e-02],\n",
              "       [3.10000000e+01, 3.74193548e+00, 7.89487789e-02],\n",
              "       [3.20000000e+01, 3.67187500e+00, 1.93890494e-01],\n",
              "       [3.30000000e+01, 3.66666667e+00, 1.89944353e-01],\n",
              "       [3.40000000e+01, 3.70588235e+00, 1.24004788e-01],\n",
              "       [3.50000000e+01, 3.74285714e+00, 7.87082134e-02],\n",
              "       [3.60000000e+01, 3.72222222e+00, 9.35357606e-02],\n",
              "       [3.70000000e+01, 3.70270270e+00, 1.10135903e-01],\n",
              "       [3.80000000e+01, 3.73684211e+00, 7.02939802e-02],\n",
              "       [3.90000000e+01, 3.74358974e+00, 5.77196007e-02],\n",
              "       [4.00000000e+01, 3.72500000e+00, 6.89566996e-02],\n",
              "       [4.10000000e+01, 3.75609756e+00, 4.30276969e-02],\n",
              "       [4.20000000e+01, 3.78571429e+00, 2.61926823e-02],\n",
              "       [4.30000000e+01, 3.81395349e+00, 1.55599321e-02],\n",
              "       [4.40000000e+01, 3.81818182e+00, 1.23327254e-02],\n",
              "       [4.50000000e+01, 3.82222222e+00, 9.71325070e-03],\n",
              "       [4.60000000e+01, 3.80434783e+00, 1.22604041e-02],\n",
              "       [4.70000000e+01, 3.78723404e+00, 1.52990593e-02],\n",
              "       [4.80000000e+01, 3.81250000e+00, 8.96618888e-03],\n",
              "       [4.90000000e+01, 3.80612245e+00, 8.76688400e-03],\n",
              "       [5.00000000e+01, 3.81000000e+00, 6.89753729e-03],\n",
              "       [5.10000000e+01, 3.81372549e+00, 5.39451616e-03],\n",
              "       [5.20000000e+01, 3.81730769e+00, 4.19384423e-03],\n",
              "       [5.30000000e+01, 3.80188679e+00, 5.38521229e-03],\n",
              "       [5.40000000e+01, 3.80555556e+00, 4.19576337e-03],\n",
              "       [5.50000000e+01, 3.79090909e+00, 5.36835295e-03],\n",
              "       [5.60000000e+01, 3.77678571e+00, 6.79420566e-03],\n",
              "       [5.70000000e+01, 3.76315789e+00, 8.51222020e-03],\n",
              "       [5.80000000e+01, 3.78448276e+00, 4.97555857e-03],\n",
              "       [5.90000000e+01, 3.78813559e+00, 3.90405043e-03],\n",
              "       [6.00000000e+01, 3.80833333e+00, 2.21691552e-03],\n",
              "       [6.10000000e+01, 3.81147541e+00, 1.71348566e-03],\n",
              "       [6.20000000e+01, 3.79838710e+00, 2.21854683e-03],\n",
              "       [6.30000000e+01, 3.79365079e+00, 2.16670911e-03],\n",
              "       [6.40000000e+01, 3.78906250e+00, 2.11557430e-03],\n",
              "       [6.50000000e+01, 3.79230769e+00, 1.63816969e-03],\n",
              "       [6.60000000e+01, 3.78030303e+00, 2.11290472e-03],\n",
              "       [6.70000000e+01, 3.78358209e+00, 1.63917965e-03],\n",
              "       [6.80000000e+01, 3.77205882e+00, 2.10787701e-03],\n",
              "       [6.90000000e+01, 3.77536232e+00, 1.63820801e-03],\n",
              "       [7.00000000e+01, 3.77857143e+00, 1.26670468e-03],\n",
              "       [7.10000000e+01, 3.76056338e+00, 2.24260477e-03],\n",
              "       [7.20000000e+01, 3.76388889e+00, 1.75250848e-03],\n",
              "       [7.30000000e+01, 3.77397260e+00, 1.13652508e-03],\n",
              "       [7.40000000e+01, 3.79054054e+00, 6.36108591e-04],\n",
              "       [7.50000000e+01, 3.80666667e+00, 3.50424452e-04],\n",
              "       [7.60000000e+01, 3.81578947e+00, 2.18415198e-04],\n",
              "       [7.70000000e+01, 3.81168831e+00, 2.13338973e-04],\n",
              "       [7.80000000e+01, 3.81410256e+00, 1.60742377e-04],\n",
              "       [7.90000000e+01, 3.81645570e+00, 1.20536162e-04],\n",
              "       [8.00000000e+01, 3.83125000e+00, 6.35513542e-05],\n",
              "       [8.10000000e+01, 3.84567901e+00, 3.30072293e-05],\n",
              "       [8.20000000e+01, 3.84146341e+00, 3.23040037e-05],\n",
              "       [8.30000000e+01, 3.84337349e+00, 2.37455688e-05],\n",
              "       [8.40000000e+01, 3.85714286e+00, 1.20770733e-05],\n",
              "       [8.50000000e+01, 3.84705882e+00, 1.70886732e-05],\n",
              "       [8.60000000e+01, 3.83139535e+00, 3.60818562e-05],\n",
              "       [8.70000000e+01, 3.83333333e+00, 2.68125761e-05],\n",
              "       [8.80000000e+01, 3.82386364e+00, 3.68156251e-05],\n",
              "       [8.90000000e+01, 3.80898876e+00, 7.31387061e-05],\n",
              "       [9.00000000e+01, 3.81111111e+00, 5.52560685e-05],\n",
              "       [9.10000000e+01, 3.81318681e+00, 4.15721710e-05],\n",
              "       [9.20000000e+01, 3.82065217e+00, 2.54050853e-05],\n",
              "       [9.30000000e+01, 3.82258065e+00, 1.89116132e-05],\n",
              "       [9.40000000e+01, 3.82446809e+00, 1.40192848e-05],\n",
              "       [9.50000000e+01, 3.81578947e+00, 1.93002452e-05],\n",
              "       [9.60000000e+01, 3.81770833e+00, 1.43371543e-05],\n",
              "       [9.70000000e+01, 3.82989691e+00, 7.47044036e-06],\n",
              "       [9.80000000e+01, 3.84183673e+00, 3.84367982e-06],\n",
              "       [9.90000000e+01, 3.82323232e+00, 1.31018810e-05],\n",
              "       [1.00000000e+02, 3.81500000e+00, 1.77381032e-05],\n",
              "       [1.01000000e+02, 3.79702970e+00, 5.15631924e-05],\n",
              "       [1.02000000e+02, 3.79901961e+00, 3.95691655e-05],\n",
              "       [1.03000000e+02, 3.78155340e+00, 1.05324901e-04],\n",
              "       [1.04000000e+02, 3.78365385e+00, 8.20734096e-05],\n",
              "       [1.05000000e+02, 3.78571429e+00, 6.37366680e-05],\n",
              "       [1.06000000e+02, 3.78773585e+00, 4.93276207e-05],\n",
              "       [1.07000000e+02, 3.79439252e+00, 3.15851049e-05],\n",
              "       [1.08000000e+02, 3.78240741e+00, 5.74119565e-05],\n",
              "       [1.09000000e+02, 3.78440367e+00, 4.45206381e-05],\n",
              "       [1.10000000e+02, 3.79545455e+00, 2.50349980e-05],\n",
              "       [1.11000000e+02, 3.80180180e+00, 1.59338365e-05],\n",
              "       [1.12000000e+02, 3.80357143e+00, 1.21816761e-05],\n",
              "       [1.13000000e+02, 3.80530973e+00, 9.28238515e-06],\n",
              "       [1.14000000e+02, 3.80701754e+00, 7.04980010e-06],\n",
              "       [1.15000000e+02, 3.80869565e+00, 5.33651295e-06],\n",
              "       [1.16000000e+02, 3.80172414e+00, 7.13242034e-06],\n",
              "       [1.17000000e+02, 3.81196581e+00, 3.87772396e-06],\n",
              "       [1.18000000e+02, 3.80932203e+00, 3.78902454e-06],\n",
              "       [1.19000000e+02, 3.80672269e+00, 3.70165239e-06],\n",
              "       [1.20000000e+02, 3.80416667e+00, 3.61562445e-06],\n",
              "       [1.21000000e+02, 3.80991736e+00, 2.23440902e-06],\n",
              "       [1.22000000e+02, 3.81967213e+00, 1.19359214e-06],\n",
              "       [1.23000000e+02, 3.82113821e+00, 8.90777191e-07],\n",
              "       [1.24000000e+02, 3.81451613e+00, 1.21655280e-06],\n",
              "       [1.25000000e+02, 3.80800000e+00, 1.64920292e-06],\n",
              "       [1.26000000e+02, 3.80952381e+00, 1.23839020e-06],\n",
              "       [1.27000000e+02, 3.79921260e+00, 2.44470905e-06],\n",
              "       [1.28000000e+02, 3.80859375e+00, 1.32596263e-06],\n",
              "       [1.29000000e+02, 3.80232558e+00, 1.77997168e-06],\n",
              "       [1.30000000e+02, 3.78846154e+00, 5.10674028e-06],\n",
              "       [1.31000000e+02, 3.78625954e+00, 4.98691373e-06],\n",
              "       [1.32000000e+02, 3.79545455e+00, 2.77994027e-06],\n",
              "       [1.33000000e+02, 3.79323308e+00, 2.71524721e-06],\n",
              "       [1.34000000e+02, 3.79477612e+00, 2.07587279e-06],\n",
              "       [1.35000000e+02, 3.78518519e+00, 3.86981827e-06],\n",
              "       [1.36000000e+02, 3.78676471e+00, 2.97715011e-06],\n",
              "       [1.37000000e+02, 3.78467153e+00, 2.90685530e-06],\n",
              "       [1.38000000e+02, 3.78623188e+00, 2.22997826e-06],\n",
              "       [1.39000000e+02, 3.78057554e+00, 2.92302054e-06],\n",
              "       [1.40000000e+02, 3.78571429e+00, 1.86173699e-06],\n",
              "       [1.41000000e+02, 3.78014184e+00, 2.44185078e-06],\n",
              "       [1.42000000e+02, 3.78169014e+00, 1.87434966e-06],\n",
              "       [1.43000000e+02, 3.78321678e+00, 1.43481293e-06],\n",
              "       [1.44000000e+02, 3.78472222e+00, 1.09534891e-06],\n",
              "       [1.45000000e+02, 3.78620690e+00, 8.33914593e-07],\n",
              "       [1.46000000e+02, 3.79452055e+00, 4.56541001e-07],\n",
              "       [1.47000000e+02, 3.80272109e+00, 2.47810681e-07],\n",
              "       [1.48000000e+02, 3.80405405e+00, 1.86476315e-07],\n",
              "       [1.49000000e+02, 3.80536913e+00, 1.39944973e-07],\n",
              "       [1.50000000e+02, 3.80666667e+00, 1.04741879e-07],\n",
              "       [1.51000000e+02, 3.81456954e+00, 5.56387382e-08],\n",
              "       [1.52000000e+02, 3.82236842e+00, 2.93105574e-08],\n",
              "       [1.53000000e+02, 3.82352941e+00, 2.16910698e-08],\n",
              "       [1.54000000e+02, 3.82792208e+00, 1.29653324e-08],\n",
              "       [1.55000000e+02, 3.83548387e+00, 6.69721359e-09],\n",
              "       [1.56000000e+02, 3.83653846e+00, 4.90242790e-09],\n",
              "       [1.57000000e+02, 3.83757962e+00, 3.57919867e-09],\n",
              "       [1.58000000e+02, 3.83227848e+00, 5.06503828e-09],\n",
              "       [1.59000000e+02, 3.83962264e+00, 2.59312266e-09],\n",
              "       [1.60000000e+02, 3.84062500e+00, 1.88825401e-09],\n",
              "       [1.61000000e+02, 3.82919255e+00, 6.89862648e-09],\n",
              "       [1.62000000e+02, 3.83024691e+00, 5.08865419e-09],\n",
              "       [1.63000000e+02, 3.83128834e+00, 3.74416511e-09],\n",
              "       [1.64000000e+02, 3.82621951e+00, 5.23409617e-09],\n",
              "       [1.65000000e+02, 3.83333333e+00, 2.71504538e-09],\n",
              "       [1.66000000e+02, 3.83433735e+00, 1.99248563e-09],\n",
              "       [1.67000000e+02, 3.84131737e+00, 1.02165825e-09],\n",
              "       [1.68000000e+02, 3.84523810e+00, 5.98601443e-10],\n",
              "       [1.69000000e+02, 3.85207101e+00, 3.02604651e-10],\n",
              "       [1.70000000e+02, 3.85000000e+00, 2.96678912e-10],\n",
              "       [1.71000000e+02, 3.85087719e+00, 2.14734248e-10],\n",
              "       [1.72000000e+02, 3.84593023e+00, 3.08741192e-10],\n",
              "       [1.73000000e+02, 3.84971098e+00, 1.79178935e-10],\n",
              "       [1.74000000e+02, 3.85057471e+00, 1.29397029e-10],\n",
              "       [1.75000000e+02, 3.85428571e+00, 7.43737530e-11],\n",
              "       [1.76000000e+02, 3.86079545e+00, 3.68536490e-11],\n",
              "       [1.77000000e+02, 3.86723164e+00, 1.81289945e-11],\n",
              "       [1.78000000e+02, 3.87078652e+00, 1.02268841e-11],\n",
              "       [1.79000000e+02, 3.86312849e+00, 2.47640721e-11],\n",
              "       [1.80000000e+02, 3.86388889e+00, 1.77385695e-11],\n",
              "       [1.81000000e+02, 3.87016575e+00, 8.70923302e-12],\n",
              "       [1.82000000e+02, 3.87087912e+00, 6.20188662e-12],\n",
              "       [1.83000000e+02, 3.86612022e+00, 9.18602982e-12],\n",
              "       [1.84000000e+02, 3.86684783e+00, 6.55136516e-12],\n",
              "       [1.85000000e+02, 3.87027027e+00, 3.68848231e-12],\n",
              "       [1.86000000e+02, 3.87634409e+00, 1.78725791e-12],\n",
              "       [1.87000000e+02, 3.88235294e+00, 8.60003783e-13],\n",
              "       [1.88000000e+02, 3.88297872e+00, 6.05615022e-13],\n",
              "       [1.89000000e+02, 3.88359788e+00, 4.25512921e-13],\n",
              "       [1.90000000e+02, 3.88684211e+00, 2.33704240e-13],\n",
              "       [1.91000000e+02, 3.88743455e+00, 1.63269853e-13],\n",
              "       [1.92000000e+02, 3.88802083e+00, 1.13806300e-13],\n",
              "       [1.93000000e+02, 3.88860104e+00, 7.91493424e-14],\n",
              "       [1.94000000e+02, 3.89175258e+00, 4.27825844e-14],\n",
              "       [1.95000000e+02, 3.89230769e+00, 2.95855547e-14],\n",
              "       [1.96000000e+02, 3.88775510e+00, 4.62347615e-14],\n",
              "       [1.97000000e+02, 3.89086294e+00, 2.49328007e-14],\n",
              "       [1.98000000e+02, 3.89393939e+00, 1.33706840e-14],\n",
              "       [1.99000000e+02, 3.89949749e+00, 6.16061375e-15],\n",
              "       [2.00000000e+02, 3.89500000e+00, 9.74907416e-15],\n",
              "       [2.01000000e+02, 3.89552239e+00, 6.71276811e-15],\n",
              "       [2.02000000e+02, 3.89603960e+00, 4.61195201e-15],\n",
              "       [2.03000000e+02, 3.89655172e+00, 3.16164147e-15],\n",
              "       [2.04000000e+02, 3.90196078e+00, 1.44384900e-15],\n",
              "       [2.05000000e+02, 3.89756098e+00, 2.30984574e-15],\n",
              "       [2.06000000e+02, 3.90291262e+00, 1.05559988e-15],\n",
              "       [2.07000000e+02, 3.90821256e+00, 4.79308868e-16],\n",
              "       [2.08000000e+02, 3.90865385e+00, 3.26099104e-16],\n",
              "       [2.09000000e+02, 3.91387560e+00, 1.46669403e-16],\n",
              "       [2.10000000e+02, 3.91428571e+00, 9.92703009e-17],\n",
              "       [2.11000000e+02, 3.91469194e+00, 6.70462575e-17],\n",
              "       [2.12000000e+02, 3.91509434e+00, 4.51861152e-17],\n",
              "       [2.13000000e+02, 3.91549296e+00, 3.03885940e-17],\n",
              "       [2.14000000e+02, 3.92056075e+00, 1.34183252e-17]])"
            ]
          },
          "metadata": {
            "tags": []
          },
          "execution_count": 49
        }
      ]
    },
    {
      "cell_type": "code",
      "metadata": {
        "id": "vCM3_Q07JHKH",
        "colab_type": "code",
        "colab": {
          "base_uri": "https://localhost:8080/",
          "height": 391
        },
        "outputId": "2bc4d3b1-9872-42c4-fc60-225bf3b1b991"
      },
      "source": [
        "plt.figure(figsize=(12,6))\n",
        "plt.plot(valores[:,0], valores[:,1])\n",
        "plt.plot(valores[:,0], valores[:,2])\n",
        "plt.hlines(y = 0.05, xmin = 2, xmax=len(temp), colors='r')"
      ],
      "execution_count": 50,
      "outputs": [
        {
          "output_type": "execute_result",
          "data": {
            "text/plain": [
              "<matplotlib.collections.LineCollection at 0x7f7f8d3aada0>"
            ]
          },
          "metadata": {
            "tags": []
          },
          "execution_count": 50
        },
        {
          "output_type": "display_data",
          "data": {
            "image/png": "[encoded data removed]",
            "text/plain": [
              "<Figure size 864x432 with 1 Axes>"
            ]
          },
          "metadata": {
            "tags": [],
            "needs_background": "light"
          }
        }
      ]
    },
    {
      "cell_type": "markdown",
      "metadata": {
        "id": "d_3NWpOr1Peo",
        "colab_type": "text"
      },
      "source": [
        "## Aula 05: Testes para duas amostras"
      ]
    },
    {
      "cell_type": "code",
      "metadata": {
        "id": "DIr7Uul1JoBl",
        "colab_type": "code",
        "colab": {
          "base_uri": "https://localhost:8080/",
          "height": 408
        },
        "outputId": "939b2f2e-c4c1-4aa1-90b3-80e611d96e74"
      },
      "source": [
        "notas_1.rating, notas.rating"
      ],
      "execution_count": 51,
      "outputs": [
        {
          "output_type": "execute_result",
          "data": {
            "text/plain": [
              "(0        4.0\n",
              " 516      4.0\n",
              " 874      4.5\n",
              " 1434     2.5\n",
              " 1667     4.5\n",
              "         ... \n",
              " 97364    2.5\n",
              " 98479    4.0\n",
              " 98666    2.5\n",
              " 99497    3.0\n",
              " 99534    5.0\n",
              " Name: rating, Length: 215, dtype: float64, 0         4.0\n",
              " 1         4.0\n",
              " 2         4.0\n",
              " 3         5.0\n",
              " 4         5.0\n",
              "          ... \n",
              " 100831    4.0\n",
              " 100832    5.0\n",
              " 100833    5.0\n",
              " 100834    5.0\n",
              " 100835    3.0\n",
              " Name: rating, Length: 100836, dtype: float64)"
            ]
          },
          "metadata": {
            "tags": []
          },
          "execution_count": 51
        }
      ]
    },
    {
      "cell_type": "code",
      "metadata": {
        "id": "ugGfVolA1vd8",
        "colab_type": "code",
        "colab": {
          "base_uri": "https://localhost:8080/",
          "height": 34
        },
        "outputId": "c6f2105b-758b-4987-944a-a7bae77710d4"
      },
      "source": [
        "zconfint(notas_1.rating, notas.rating)"
      ],
      "execution_count": 52,
      "outputs": [
        {
          "output_type": "execute_result",
          "data": {
            "text/plain": [
              "(0.2799245129192442, 0.5588219849631111)"
            ]
          },
          "metadata": {
            "tags": []
          },
          "execution_count": 52
        }
      ]
    },
    {
      "cell_type": "code",
      "metadata": {
        "id": "nRP3g9ht2Bk7",
        "colab_type": "code",
        "colab": {
          "base_uri": "https://localhost:8080/",
          "height": 34
        },
        "outputId": "9279d65b-c7bc-43eb-b0aa-14c677c44c0f"
      },
      "source": [
        "#conferindo se as notas_1 tem uma média maior que a geral\n",
        "print(ztest(notas_1.rating, notas.rating))"
      ],
      "execution_count": 53,
      "outputs": [
        {
          "output_type": "stream",
          "text": [
            "(5.894327101501841, 3.762112778881965e-09)\n"
          ],
          "name": "stdout"
        }
      ]
    },
    {
      "cell_type": "code",
      "metadata": {
        "id": "H9tvl7s22KOi",
        "colab_type": "code",
        "colab": {}
      },
      "source": [
        "#usando o ttest\n",
        "from scipy.stats import ttest_ind"
      ],
      "execution_count": 55,
      "outputs": []
    },
    {
      "cell_type": "code",
      "metadata": {
        "id": "Ao-WvD_c2yvp",
        "colab_type": "code",
        "colab": {
          "base_uri": "https://localhost:8080/",
          "height": 34
        },
        "outputId": "e96a69d1-17e5-4f2e-ab7f-3dbebc8551e6"
      },
      "source": [
        "ttest_ind(notas_1.rating, notas.rating)"
      ],
      "execution_count": 56,
      "outputs": [
        {
          "output_type": "execute_result",
          "data": {
            "text/plain": [
              "Ttest_indResult(statistic=5.894327101501841, pvalue=3.774003138720876e-09)"
            ]
          },
          "metadata": {
            "tags": []
          },
          "execution_count": 56
        }
      ]
    },
    {
      "cell_type": "code",
      "metadata": {
        "id": "rN6IzKTe24c4",
        "colab_type": "code",
        "colab": {}
      },
      "source": [
        "descr_todas_as_notas = DescrStatsW(notas.rating)\n",
        "descr_toystory = DescrStatsW(notas_1.rating)"
      ],
      "execution_count": 58,
      "outputs": []
    },
    {
      "cell_type": "code",
      "metadata": {
        "id": "I0tGanJ74MMR",
        "colab_type": "code",
        "colab": {}
      },
      "source": [
        "#criando uma comparação pra usar o CompareMeans()\n",
        "comparacao = descr_todas_as_notas.get_compare(descr_toystory)"
      ],
      "execution_count": 61,
      "outputs": []
    },
    {
      "cell_type": "code",
      "metadata": {
        "id": "tXlxLMNJ4g_t",
        "colab_type": "code",
        "colab": {
          "base_uri": "https://localhost:8080/",
          "height": 119
        },
        "outputId": "8bcb2fda-e388-40ea-9251-e0523ae698a5"
      },
      "source": [
        "#usando o ztest\n",
        "print(comparacao.summary())\n"
      ],
      "execution_count": 63,
      "outputs": [
        {
          "output_type": "stream",
          "text": [
            "                          Test for equality of means                          \n",
            "==============================================================================\n",
            "                 coef    std err          t      P>|t|      [0.025      0.975]\n",
            "------------------------------------------------------------------------------\n",
            "subset #1     -0.4194      0.071     -5.894      0.000      -0.559      -0.280\n",
            "==============================================================================\n"
          ],
          "name": "stdout"
        }
      ]
    },
    {
      "cell_type": "code",
      "metadata": {
        "id": "mlL7LGuL4vpt",
        "colab_type": "code",
        "colab": {
          "base_uri": "https://localhost:8080/",
          "height": 119
        },
        "outputId": "8ca86704-37ff-4bfc-a16e-55764af9081f"
      },
      "source": [
        "#usando o ttest\n",
        "print(comparacao.summary(use_t=True))"
      ],
      "execution_count": 64,
      "outputs": [
        {
          "output_type": "stream",
          "text": [
            "                          Test for equality of means                          \n",
            "==============================================================================\n",
            "                 coef    std err          t      P>|t|      [0.025      0.975]\n",
            "------------------------------------------------------------------------------\n",
            "subset #1     -0.4194      0.071     -5.894      0.000      -0.559      -0.280\n",
            "==============================================================================\n"
          ],
          "name": "stdout"
        }
      ]
    },
    {
      "cell_type": "markdown",
      "metadata": {
        "id": "8NkduOkk6VlE",
        "colab_type": "text"
      },
      "source": [
        "### Visualização gráfica"
      ]
    },
    {
      "cell_type": "code",
      "metadata": {
        "id": "mjTTRAD86Mu0",
        "colab_type": "code",
        "colab": {
          "base_uri": "https://localhost:8080/",
          "height": 607
        },
        "outputId": "51219913-fec9-4908-a899-15c7381be72c"
      },
      "source": [
        "#Criando um boxplot com os dois dados que estamos comparando\n",
        "plt.figure(figsize=(20,10))\n",
        "plt.boxplot([notas.rating, notas_1.rating], labels=['Todas as Notas', 'Toy Story'])\n",
        "plt.title('Comparativo da distribuição geral de notas e das notas do Toy Story')\n",
        "plt.xticks(np.arange(3), ('Nota','Notas Geral', 'Notas Toy Story'))\n",
        "plt.show()"
      ],
      "execution_count": 76,
      "outputs": [
        {
          "output_type": "display_data",
          "data": {
            "image/png": "[encoded data removed]",
            "text/plain": [
              "<Figure size 1440x720 with 1 Axes>"
            ]
          },
          "metadata": {
            "tags": [],
            "needs_background": "light"
          }
        }
      ]
    },
    {
      "cell_type": "code",
      "metadata": {
        "id": "CpPPTuiX6l4Z",
        "colab_type": "code",
        "colab": {
          "base_uri": "https://localhost:8080/",
          "height": 607
        },
        "outputId": "3f749be3-acb8-4c68-a98d-6a2190672554"
      },
      "source": [
        "#vendo como seria usando um sample menor\n",
        "plt.figure(figsize=(20,10))\n",
        "plt.boxplot([notas.rating, notas_1.rating[3:12]], labels=['Todas as Notas', 'Toy Story'])\n",
        "plt.title('Comparativo da distribuição geral de notas e das notas do Toy Story (amostra)')\n",
        "plt.xticks(np.arange(3), ('Nota','Notas Geral', 'Notas Toy Story(3 a 12)'))\n",
        "plt.show()\n"
      ],
      "execution_count": 77,
      "outputs": [
        {
          "output_type": "display_data",
          "data": {
            "image/png": "[encoded data removed]",
            "text/plain": [
              "<Figure size 1440x720 with 1 Axes>"
            ]
          },
          "metadata": {
            "tags": [],
            "needs_background": "light"
          }
        }
      ]
    },
    {
      "cell_type": "code",
      "metadata": {
        "id": "QW0keqM18hj2",
        "colab_type": "code",
        "colab": {
          "base_uri": "https://localhost:8080/",
          "height": 119
        },
        "outputId": "914d829a-a40a-443c-dd25-ee5a35f7dfbd"
      },
      "source": [
        "#Aplicando os testes para esta amostra menor\n",
        "descr_todas_as_notas = DescrStatsW(notas.rating)\n",
        "descr_toystory = DescrStatsW(notas_1[3:12].rating)\n",
        "comparacao = descr_todas_as_notas.get_compare(descr_toystory)\n",
        "print(comparacao.summary(use_t=True))\n"
      ],
      "execution_count": 78,
      "outputs": [
        {
          "output_type": "stream",
          "text": [
            "                          Test for equality of means                          \n",
            "==============================================================================\n",
            "                 coef    std err          t      P>|t|      [0.025      0.975]\n",
            "------------------------------------------------------------------------------\n",
            "subset #1     -0.0540      0.348     -0.155      0.877      -0.735       0.627\n",
            "==============================================================================\n"
          ],
          "name": "stdout"
        }
      ]
    },
    {
      "cell_type": "markdown",
      "metadata": {
        "id": "iYj8a97m99yp",
        "colab_type": "text"
      },
      "source": [
        "## Aula 06 - Testes não paramétricos"
      ]
    },
    {
      "cell_type": "markdown",
      "metadata": {
        "id": "E_ud-q4o-O3u",
        "colab_type": "text"
      },
      "source": [
        "### Comparando a média de dois filmes"
      ]
    },
    {
      "cell_type": "code",
      "metadata": {
        "id": "dUOOR1X_8_sH",
        "colab_type": "code",
        "colab": {
          "base_uri": "https://localhost:8080/",
          "height": 142
        },
        "outputId": "3ada3c9e-c646-4f78-bc16-436356fc5b2c"
      },
      "source": [
        "filmes.query('movieId in [1, 593,72226]')"
      ],
      "execution_count": 79,
      "outputs": [
        {
          "output_type": "execute_result",
          "data": {
            "text/html": [
              "<div>\n",
              "<style scoped>\n",
              "    .dataframe tbody tr th:only-of-type {\n",
              "        vertical-align: middle;\n",
              "    }\n",
              "\n",
              "    .dataframe tbody tr th {\n",
              "        vertical-align: top;\n",
              "    }\n",
              "\n",
              "    .dataframe thead th {\n",
              "        text-align: right;\n",
              "    }\n",
              "</style>\n",
              "<table border=\"1\" class=\"dataframe\">\n",
              "  <thead>\n",
              "    <tr style=\"text-align: right;\">\n",
              "      <th></th>\n",
              "      <th>movieId</th>\n",
              "      <th>title</th>\n",
              "      <th>genres</th>\n",
              "    </tr>\n",
              "  </thead>\n",
              "  <tbody>\n",
              "    <tr>\n",
              "      <th>0</th>\n",
              "      <td>1</td>\n",
              "      <td>Toy Story (1995)</td>\n",
              "      <td>Adventure|Animation|Children|Comedy|Fantasy</td>\n",
              "    </tr>\n",
              "    <tr>\n",
              "      <th>510</th>\n",
              "      <td>593</td>\n",
              "      <td>Silence of the Lambs, The (1991)</td>\n",
              "      <td>Crime|Horror|Thriller</td>\n",
              "    </tr>\n",
              "    <tr>\n",
              "      <th>7180</th>\n",
              "      <td>72226</td>\n",
              "      <td>Fantastic Mr. Fox (2009)</td>\n",
              "      <td>Adventure|Animation|Children|Comedy|Crime</td>\n",
              "    </tr>\n",
              "  </tbody>\n",
              "</table>\n",
              "</div>"
            ],
            "text/plain": [
              "      movieId  ...                                       genres\n",
              "0           1  ...  Adventure|Animation|Children|Comedy|Fantasy\n",
              "510       593  ...                        Crime|Horror|Thriller\n",
              "7180    72226  ...    Adventure|Animation|Children|Comedy|Crime\n",
              "\n",
              "[3 rows x 3 columns]"
            ]
          },
          "metadata": {
            "tags": []
          },
          "execution_count": 79
        }
      ]
    },
    {
      "cell_type": "code",
      "metadata": {
        "id": "UVWMeYHJ-dsg",
        "colab_type": "code",
        "colab": {}
      },
      "source": [
        ""
      ],
      "execution_count": 80,
      "outputs": []
    },
    {
      "cell_type": "code",
      "metadata": {
        "id": "h4Ga6cYT-lw5",
        "colab_type": "code",
        "colab": {
          "base_uri": "https://localhost:8080/",
          "height": 34
        },
        "outputId": "e2cb7e4b-d826-4eb2-e001-ef613a87949f"
      },
      "source": [
        "#criando as variáveis para os dois outros filmes (já temos a do Toy Story gravada no notas_1)\n",
        "notas_593 = notas.query('movieId == 593')\n",
        "notas_72226 = notas.query('movieId == 72226')\n",
        "print(notas_593.shape, notas_72226.shape)"
      ],
      "execution_count": 83,
      "outputs": [
        {
          "output_type": "stream",
          "text": [
            "(279, 4) (18, 4)\n"
          ],
          "name": "stdout"
        }
      ]
    },
    {
      "cell_type": "code",
      "metadata": {
        "id": "h5ThzwI4-2JY",
        "colab_type": "code",
        "colab": {
          "base_uri": "https://localhost:8080/",
          "height": 607
        },
        "outputId": "b0719f59-2a5f-4287-ced2-8b039e0361b3"
      },
      "source": [
        "#primeiro vamos visualizar os 3 boxplots\n",
        "plt.figure(figsize=(20,10))\n",
        "plt.boxplot([notas_1.rating, notas_593.rating, notas_72226.rating], labels=['Toy Story', 'Silence of the Lambs', 'Fantastic Mr.Fox'])\n",
        "plt.title('Distribuição de notas entre 3 filmes')\n",
        "plt.show()"
      ],
      "execution_count": 85,
      "outputs": [
        {
          "output_type": "display_data",
          "data": {
            "image/png": "[encoded data removed]",
            "text/plain": [
              "<Figure size 1440x720 with 1 Axes>"
            ]
          },
          "metadata": {
            "tags": [],
            "needs_background": "light"
          }
        }
      ]
    },
    {
      "cell_type": "code",
      "metadata": {
        "id": "mXcFXMTq_XqJ",
        "colab_type": "code",
        "colab": {
          "base_uri": "https://localhost:8080/",
          "height": 606
        },
        "outputId": "7251ca86-c94b-468d-999f-cdef597f40ef"
      },
      "source": [
        "#usando o Seaborn não precisamos criar as variáveis\n",
        "plt.figure(figsize=(20,10))\n",
        "sns.boxplot(x = \"movieId\", y=\"rating\", data = notas.query(\"movieId in [1,593,72226]\"))\n",
        "plt.show()"
      ],
      "execution_count": 89,
      "outputs": [
        {
          "output_type": "display_data",
          "data": {
            "image/png": "[encoded data removed]",
            "text/plain": [
              "<Figure size 1440x720 with 1 Axes>"
            ]
          },
          "metadata": {
            "tags": [],
            "needs_background": "light"
          }
        }
      ]
    },
    {
      "cell_type": "markdown",
      "metadata": {
        "id": "iTNat6trEusa",
        "colab_type": "text"
      },
      "source": [
        "### Aplicando testes paramétricos"
      ]
    },
    {
      "cell_type": "code",
      "metadata": {
        "id": "RSKLI7MyA2gu",
        "colab_type": "code",
        "colab": {}
      },
      "source": [
        "#Vamos chamar as estatísticas descritivas destes filmes\n",
        "descr_1 = DescrStatsW(notas_1.rating)\n",
        "descr_593 = DescrStatsW(notas_593.rating)\n",
        "descr_72226 = DescrStatsW(notas_72226.rating)\n",
        "#comparando Silêncio dos Inocentes com a Toy Story\n",
        "comparacao1 = descr_1.get_compare(descr_593)"
      ],
      "execution_count": 95,
      "outputs": []
    },
    {
      "cell_type": "code",
      "metadata": {
        "id": "NuSpoxMhBk-N",
        "colab_type": "code",
        "colab": {
          "base_uri": "https://localhost:8080/",
          "height": 119
        },
        "outputId": "668fd901-db11-450e-ea8b-693411b50c20"
      },
      "source": [
        "print(comparacao1.summary())"
      ],
      "execution_count": 96,
      "outputs": [
        {
          "output_type": "stream",
          "text": [
            "                          Test for equality of means                          \n",
            "==============================================================================\n",
            "                 coef    std err          t      P>|t|      [0.025      0.975]\n",
            "------------------------------------------------------------------------------\n",
            "subset #1     -0.2404      0.077     -3.132      0.002      -0.391      -0.090\n",
            "==============================================================================\n"
          ],
          "name": "stdout"
        }
      ]
    },
    {
      "cell_type": "code",
      "metadata": {
        "id": "quonvdaiBp8q",
        "colab_type": "code",
        "colab": {
          "base_uri": "https://localhost:8080/",
          "height": 119
        },
        "outputId": "0c77909c-0861-4d27-c9e7-8bdd9c1ec5d0"
      },
      "source": [
        "#comparando O Silêncio dos Inocentes com O Fantastico Sr. Fox - Usando T Teste pq a amostra do filme 72226 é muito pequena\n",
        "comparacao2= descr_72226.get_compare(descr_593)\n",
        "print(comparacao2.summary(use_t=True))"
      ],
      "execution_count": 100,
      "outputs": [
        {
          "output_type": "stream",
          "text": [
            "                          Test for equality of means                          \n",
            "==============================================================================\n",
            "                 coef    std err          t      P>|t|      [0.025      0.975]\n",
            "------------------------------------------------------------------------------\n",
            "subset #1     -0.0780      0.208     -0.374      0.708      -0.488       0.332\n",
            "==============================================================================\n"
          ],
          "name": "stdout"
        }
      ]
    },
    {
      "cell_type": "code",
      "metadata": {
        "id": "BzB4yitaCrbD",
        "colab_type": "code",
        "colab": {
          "base_uri": "https://localhost:8080/",
          "height": 119
        },
        "outputId": "96678750-054d-40a7-a774-37f0da5cbdbb"
      },
      "source": [
        "#comparando ToyStory com O Fantastico Sr. Fox - Usando T Teste pq a amostra do filme 72226 é muito pequena \n",
        "comparacao3= descr_1.get_compare(descr_72226)\n",
        "print(comparacao3.summary(use_t=True))"
      ],
      "execution_count": 101,
      "outputs": [
        {
          "output_type": "stream",
          "text": [
            "                          Test for equality of means                          \n",
            "==============================================================================\n",
            "                 coef    std err          t      P>|t|      [0.025      0.975]\n",
            "------------------------------------------------------------------------------\n",
            "subset #1     -0.1624      0.206     -0.788      0.431      -0.568       0.243\n",
            "==============================================================================\n"
          ],
          "name": "stdout"
        }
      ]
    },
    {
      "cell_type": "code",
      "metadata": {
        "id": "FBX6LEA5C8OY",
        "colab_type": "code",
        "colab": {
          "base_uri": "https://localhost:8080/",
          "height": 173
        },
        "outputId": "19a7effb-2f4a-44b8-f04d-788030b4ac30"
      },
      "source": [
        "#agrupando por filme e contando o número de notas\n",
        "notas.query(\"movieId in [1,593,72226]\").groupby('movieId').count()"
      ],
      "execution_count": 99,
      "outputs": [
        {
          "output_type": "execute_result",
          "data": {
            "text/html": [
              "<div>\n",
              "<style scoped>\n",
              "    .dataframe tbody tr th:only-of-type {\n",
              "        vertical-align: middle;\n",
              "    }\n",
              "\n",
              "    .dataframe tbody tr th {\n",
              "        vertical-align: top;\n",
              "    }\n",
              "\n",
              "    .dataframe thead th {\n",
              "        text-align: right;\n",
              "    }\n",
              "</style>\n",
              "<table border=\"1\" class=\"dataframe\">\n",
              "  <thead>\n",
              "    <tr style=\"text-align: right;\">\n",
              "      <th></th>\n",
              "      <th>userId</th>\n",
              "      <th>rating</th>\n",
              "      <th>timestamp</th>\n",
              "    </tr>\n",
              "    <tr>\n",
              "      <th>movieId</th>\n",
              "      <th></th>\n",
              "      <th></th>\n",
              "      <th></th>\n",
              "    </tr>\n",
              "  </thead>\n",
              "  <tbody>\n",
              "    <tr>\n",
              "      <th>1</th>\n",
              "      <td>215</td>\n",
              "      <td>215</td>\n",
              "      <td>215</td>\n",
              "    </tr>\n",
              "    <tr>\n",
              "      <th>593</th>\n",
              "      <td>279</td>\n",
              "      <td>279</td>\n",
              "      <td>279</td>\n",
              "    </tr>\n",
              "    <tr>\n",
              "      <th>72226</th>\n",
              "      <td>18</td>\n",
              "      <td>18</td>\n",
              "      <td>18</td>\n",
              "    </tr>\n",
              "  </tbody>\n",
              "</table>\n",
              "</div>"
            ],
            "text/plain": [
              "         userId  rating  timestamp\n",
              "movieId                           \n",
              "1           215     215        215\n",
              "593         279     279        279\n",
              "72226        18      18         18"
            ]
          },
          "metadata": {
            "tags": []
          },
          "execution_count": 99
        }
      ]
    },
    {
      "cell_type": "markdown",
      "metadata": {
        "id": "fCcarzFTEoOY",
        "colab_type": "text"
      },
      "source": [
        "### Testes não paramétricos"
      ]
    },
    {
      "cell_type": "code",
      "metadata": {
        "id": "eBgf_mAaDP6P",
        "colab_type": "code",
        "colab": {}
      },
      "source": [
        "from scipy.stats import normaltest"
      ],
      "execution_count": 102,
      "outputs": []
    },
    {
      "cell_type": "code",
      "metadata": {
        "id": "1JDu3ERWE8nF",
        "colab_type": "code",
        "colab": {
          "base_uri": "https://localhost:8080/",
          "height": 51
        },
        "outputId": "cb4e0be2-1562-4ccf-f9a1-231b45c5b285"
      },
      "source": [
        "stats, p_valor = normaltest(notas_1.rating)\n",
        "print(stats)\n",
        "print(p_valor)"
      ],
      "execution_count": 105,
      "outputs": [
        {
          "output_type": "stream",
          "text": [
            "18.220369223286593\n",
            "0.00011053430732728716\n"
          ],
          "name": "stdout"
        }
      ]
    },
    {
      "cell_type": "code",
      "metadata": {
        "id": "zO_FKJd0E_N8",
        "colab_type": "code",
        "colab": {
          "base_uri": "https://localhost:8080/",
          "height": 34
        },
        "outputId": "89f22491-e309-4e14-bc18-f8bc75e3fb1b"
      },
      "source": [
        "#Hipótese nula = a distribuição é uma normal (com 5% de significância)\n",
        "p_valor <= 0.05"
      ],
      "execution_count": 106,
      "outputs": [
        {
          "output_type": "execute_result",
          "data": {
            "text/plain": [
              "True"
            ]
          },
          "metadata": {
            "tags": []
          },
          "execution_count": 106
        }
      ]
    },
    {
      "cell_type": "code",
      "metadata": {
        "id": "-LLxQRmaFZjL",
        "colab_type": "code",
        "colab": {
          "base_uri": "https://localhost:8080/",
          "height": 34
        },
        "outputId": "cf668bee-cf27-4db9-88c0-2ee8025096b1"
      },
      "source": [
        "#usando um teste não paramétrico (ou seja, que não exija distribuição normal)\n",
        "#usar um teste de Wilcoxon com ranqueamento\n",
        "#Hipótese nula é que os dois sets vieram de uma mesma distribuição / HIpótese alternativa é a de que os valores de uma amostra são provavelmenmte maiores que os de outra amostra\n",
        "from scipy.stats import ranksums\n",
        "\n",
        "_,p_value = ranksums(notas_1.rating, notas_593.rating)\n",
        "p_value"
      ],
      "execution_count": 107,
      "outputs": [
        {
          "output_type": "execute_result",
          "data": {
            "text/plain": [
              "0.0003267718756440693"
            ]
          },
          "metadata": {
            "tags": []
          },
          "execution_count": 107
        }
      ]
    },
    {
      "cell_type": "code",
      "metadata": {
        "id": "l0jiFoUsGQ2C",
        "colab_type": "code",
        "colab": {}
      },
      "source": [
        ""
      ],
      "execution_count": null,
      "outputs": []
    }
  ]
}
