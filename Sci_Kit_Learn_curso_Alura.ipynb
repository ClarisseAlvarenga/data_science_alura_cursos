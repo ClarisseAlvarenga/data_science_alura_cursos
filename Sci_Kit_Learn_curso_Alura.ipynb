{
  "nbformat": 4,
  "nbformat_minor": 0,
  "metadata": {
    "colab": {
      "name": "Sci-Kit_Learn_curso_Alura.ipynb",
      "provenance": [],
      "toc_visible": true,
      "authorship_tag": "ABX9TyNWxrVvfUTUlmIotNAUgc7C",
      "include_colab_link": true
    },
    "kernelspec": {
      "name": "python3",
      "display_name": "Python 3"
    }
  },
  "cells": [
    {
      "cell_type": "markdown",
      "metadata": {
        "id": "view-in-github",
        "colab_type": "text"
      },
      "source": [
        "<a href=\"https://colab.research.google.com/github/ClarisseAlvarenga/data_science_alura_cursos/blob/master/Sci_Kit_Learn_curso_Alura.ipynb\" target=\"_parent\"><img src=\"https://colab.research.google.com/assets/colab-badge.svg\" alt=\"Open In Colab\"/></a>"
      ]
    },
    {
      "cell_type": "markdown",
      "metadata": {
        "id": "QYENr1Kqzudr",
        "colab_type": "text"
      },
      "source": [
        "# SCI-KIT LEARN - CURSO ALURA"
      ]
    },
    {
      "cell_type": "markdown",
      "metadata": {
        "id": "qs-oxgOvwfsZ",
        "colab_type": "text"
      },
      "source": [
        ""
      ]
    },
    {
      "cell_type": "code",
      "metadata": {
        "id": "nc-5wC6Uz_Jr",
        "colab_type": "code",
        "colab": {}
      },
      "source": [
        "#importando bibliotecas\n",
        "import pandas as pd\n",
        "import numpy as np\n",
        "import matplotlib.pyplot as plt\n",
        "import seaborn as sns\n",
        "import pandas.util.testing as tm\n"
      ],
      "execution_count": 82,
      "outputs": []
    },
    {
      "cell_type": "markdown",
      "metadata": {
        "id": "HxBJeVqIz633",
        "colab_type": "text"
      },
      "source": [
        "## PROBLEMAS DE REGRESSÃO"
      ]
    },
    {
      "cell_type": "code",
      "metadata": {
        "id": "7yvbAW4azH-9",
        "colab_type": "code",
        "colab": {}
      },
      "source": [
        "#buscando os dados\n",
        "passageiros = pd.read_csv('Passageiros.csv')"
      ],
      "execution_count": 83,
      "outputs": []
    },
    {
      "cell_type": "code",
      "metadata": {
        "id": "0FY0jxkQ0W_7",
        "colab_type": "code",
        "colab": {
          "base_uri": "https://localhost:8080/",
          "height": 204
        },
        "outputId": "0c553778-e535-4e53-afb4-268ba11654d1"
      },
      "source": [
        "passageiros.head()"
      ],
      "execution_count": 84,
      "outputs": [
        {
          "output_type": "execute_result",
          "data": {
            "text/html": [
              "<div>\n",
              "<style scoped>\n",
              "    .dataframe tbody tr th:only-of-type {\n",
              "        vertical-align: middle;\n",
              "    }\n",
              "\n",
              "    .dataframe tbody tr th {\n",
              "        vertical-align: top;\n",
              "    }\n",
              "\n",
              "    .dataframe thead th {\n",
              "        text-align: right;\n",
              "    }\n",
              "</style>\n",
              "<table border=\"1\" class=\"dataframe\">\n",
              "  <thead>\n",
              "    <tr style=\"text-align: right;\">\n",
              "      <th></th>\n",
              "      <th>tempo</th>\n",
              "      <th>nPassageiros</th>\n",
              "    </tr>\n",
              "  </thead>\n",
              "  <tbody>\n",
              "    <tr>\n",
              "      <th>0</th>\n",
              "      <td>1949.000000</td>\n",
              "      <td>112</td>\n",
              "    </tr>\n",
              "    <tr>\n",
              "      <th>1</th>\n",
              "      <td>1949.083333</td>\n",
              "      <td>118</td>\n",
              "    </tr>\n",
              "    <tr>\n",
              "      <th>2</th>\n",
              "      <td>1949.166667</td>\n",
              "      <td>132</td>\n",
              "    </tr>\n",
              "    <tr>\n",
              "      <th>3</th>\n",
              "      <td>1949.250000</td>\n",
              "      <td>129</td>\n",
              "    </tr>\n",
              "    <tr>\n",
              "      <th>4</th>\n",
              "      <td>1949.333333</td>\n",
              "      <td>121</td>\n",
              "    </tr>\n",
              "  </tbody>\n",
              "</table>\n",
              "</div>"
            ],
            "text/plain": [
              "         tempo  nPassageiros\n",
              "0  1949.000000           112\n",
              "1  1949.083333           118\n",
              "2  1949.166667           132\n",
              "3  1949.250000           129\n",
              "4  1949.333333           121"
            ]
          },
          "metadata": {
            "tags": []
          },
          "execution_count": 84
        }
      ]
    },
    {
      "cell_type": "code",
      "metadata": {
        "id": "4b4s9So60YUc",
        "colab_type": "code",
        "colab": {
          "base_uri": "https://localhost:8080/",
          "height": 279
        },
        "outputId": "97c7b26b-1c0d-4c2d-a71c-93500307fec7"
      },
      "source": [
        "ax = sns.lineplot(x='tempo', y='nPassageiros', data=passageiros)"
      ],
      "execution_count": 85,
      "outputs": [
        {
          "output_type": "display_data",
          "data": {
            "image/png": "[encoded data removed]",
            "text/plain": [
              "<Figure size 432x288 with 1 Axes>"
            ]
          },
          "metadata": {
            "tags": [],
            "needs_background": "light"
          }
        }
      ]
    },
    {
      "cell_type": "markdown",
      "metadata": {
        "id": "LShZw4tc1Sye",
        "colab_type": "text"
      },
      "source": [
        "### Regressão Linear"
      ]
    },
    {
      "cell_type": "code",
      "metadata": {
        "id": "PetTvkYY0vmb",
        "colab_type": "code",
        "colab": {}
      },
      "source": [
        "#separando as variáveis\n",
        "Tempo = passageiros.iloc[:,:-1].values"
      ],
      "execution_count": 86,
      "outputs": []
    },
    {
      "cell_type": "code",
      "metadata": {
        "id": "htqlWinl1fkA",
        "colab_type": "code",
        "colab": {}
      },
      "source": [
        "nPassageiros = passageiros.iloc[:,1].values"
      ],
      "execution_count": 87,
      "outputs": []
    },
    {
      "cell_type": "code",
      "metadata": {
        "id": "ufiTMtSp1vSo",
        "colab_type": "code",
        "colab": {}
      },
      "source": [
        "#importando o módulo para dividir o dataframe entre dados de teste e de treino\n",
        "from sklearn.model_selection import train_test_split"
      ],
      "execution_count": 88,
      "outputs": []
    },
    {
      "cell_type": "code",
      "metadata": {
        "id": "agkyWUvx2YVx",
        "colab_type": "code",
        "colab": {}
      },
      "source": [
        "#gerando os dados de treino e teste\n",
        "Tempo_treino, Tempo_teste, nPassageiros_treino, nPassageiros_teste = train_test_split(Tempo, nPassageiros, test_size =0.3)"
      ],
      "execution_count": 89,
      "outputs": []
    },
    {
      "cell_type": "code",
      "metadata": {
        "id": "MwkG349r2itv",
        "colab_type": "code",
        "colab": {}
      },
      "source": [
        "#importando o móludo para nossa Regressão\n",
        "from sklearn.linear_model import LinearRegression"
      ],
      "execution_count": 90,
      "outputs": []
    },
    {
      "cell_type": "code",
      "metadata": {
        "id": "zzV2YAYE27_W",
        "colab_type": "code",
        "colab": {}
      },
      "source": [
        "#gerando o regressor\n",
        "regressor = LinearRegression()"
      ],
      "execution_count": 91,
      "outputs": []
    },
    {
      "cell_type": "code",
      "metadata": {
        "id": "VeFx-oSZ2_TW",
        "colab_type": "code",
        "colab": {
          "base_uri": "https://localhost:8080/",
          "height": 34
        },
        "outputId": "e58138b5-5a5c-4ed3-a146-fd8c8a975c02"
      },
      "source": [
        "#criando ajustando os dados ao modelo\n",
        "regressor.fit(Tempo_treino, nPassageiros_treino)"
      ],
      "execution_count": 92,
      "outputs": [
        {
          "output_type": "execute_result",
          "data": {
            "text/plain": [
              "LinearRegression(copy_X=True, fit_intercept=True, n_jobs=None, normalize=False)"
            ]
          },
          "metadata": {
            "tags": []
          },
          "execution_count": 92
        }
      ]
    },
    {
      "cell_type": "code",
      "metadata": {
        "id": "cAU8VmMp3pXF",
        "colab_type": "code",
        "colab": {}
      },
      "source": [
        "#fazendo previsões\n",
        "nPassageiros_predito = regressor.predict(Tempo_teste)"
      ],
      "execution_count": 93,
      "outputs": []
    },
    {
      "cell_type": "code",
      "metadata": {
        "id": "e9kMaUfu30_9",
        "colab_type": "code",
        "colab": {}
      },
      "source": [
        "passageiros_predito = pd.DataFrame({'Tempo': np.ndarray.flatten(Tempo_teste), 'nPassageiros': nPassageiros_predito})"
      ],
      "execution_count": 94,
      "outputs": []
    },
    {
      "cell_type": "code",
      "metadata": {
        "id": "bUfT8yCB4f6j",
        "colab_type": "code",
        "colab": {}
      },
      "source": [
        "passageiros_teste = pd.DataFrame({'Tempo': np.ndarray.flatten(Tempo_teste), 'nPassageiros': nPassageiros_teste})"
      ],
      "execution_count": 95,
      "outputs": []
    },
    {
      "cell_type": "code",
      "metadata": {
        "id": "25oi8a0d4mX7",
        "colab_type": "code",
        "colab": {
          "base_uri": "https://localhost:8080/",
          "height": 296
        },
        "outputId": "446e29fb-0c44-471a-a510-17c6cd4c837f"
      },
      "source": [
        "#plotando os dados reais e as predições da regressão\n",
        "sns.lineplot(x='Tempo', y='nPassageiros', data = passageiros_teste, marker = 'o')\n",
        "sns.lineplot(x='Tempo', y='nPassageiros', data = passageiros_predito)"
      ],
      "execution_count": 96,
      "outputs": [
        {
          "output_type": "execute_result",
          "data": {
            "text/plain": [
              "<matplotlib.axes._subplots.AxesSubplot at 0x7fa1ec7dc320>"
            ]
          },
          "metadata": {
            "tags": []
          },
          "execution_count": 96
        },
        {
          "output_type": "display_data",
          "data": {
            "image/png": "[encoded data removed]",
            "text/plain": [
              "<Figure size 432x288 with 1 Axes>"
            ]
          },
          "metadata": {
            "tags": [],
            "needs_background": "light"
          }
        }
      ]
    },
    {
      "cell_type": "markdown",
      "metadata": {
        "id": "8iy4SiBgUsv5",
        "colab_type": "text"
      },
      "source": [
        "#### Conferindo o coeficiente angular e o coeficiente linear da Regressão\n",
        "\n",
        "Com estes dois pontos podemos calcular a regressão manualmente\n",
        "\n",
        "Cálculo: \n",
        "\n",
        "### **y = ax + b**\n",
        "\n",
        "y = o valor a ser previsto\n",
        "\n",
        "a = coeficiente angular\n",
        "\n",
        "x = variável explicativa\n",
        "\n",
        "b = coeficiente linear"
      ]
    },
    {
      "cell_type": "code",
      "metadata": {
        "id": "dltIj-3n4-QS",
        "colab_type": "code",
        "colab": {
          "base_uri": "https://localhost:8080/",
          "height": 34
        },
        "outputId": "826c67e0-b220-4811-812a-bf2f07f3d52b"
      },
      "source": [
        "#coeficiente angular\n",
        "regressor.coef_"
      ],
      "execution_count": 97,
      "outputs": [
        {
          "output_type": "execute_result",
          "data": {
            "text/plain": [
              "array([32.31749428])"
            ]
          },
          "metadata": {
            "tags": []
          },
          "execution_count": 97
        }
      ]
    },
    {
      "cell_type": "code",
      "metadata": {
        "id": "9n-HuGXKUzNA",
        "colab_type": "code",
        "colab": {
          "base_uri": "https://localhost:8080/",
          "height": 34
        },
        "outputId": "56f1e1cc-8ca4-450b-d7f2-fa6584937192"
      },
      "source": [
        "#coeficiente linear\n",
        "regressor.intercept_"
      ],
      "execution_count": 98,
      "outputs": [
        {
          "output_type": "execute_result",
          "data": {
            "text/plain": [
              "-62894.15930534471"
            ]
          },
          "metadata": {
            "tags": []
          },
          "execution_count": 98
        }
      ]
    },
    {
      "cell_type": "markdown",
      "metadata": {
        "id": "k8N6A4MDVtEo",
        "colab_type": "text"
      },
      "source": [
        "#### O cálculo acima coloca os pontos numa reta, mas a predição tem um erro que é calculado como \n",
        "\n",
        "### **e1 = y1 - y**\n",
        "\n",
        "sendo que o y1 é o valor real e o y o valor previsto\n",
        "\n",
        "o R2 é o coeficiente de determinação, que explica quão bem ajustada está a reta aos dados."
      ]
    },
    {
      "cell_type": "code",
      "metadata": {
        "id": "T7DWV3fQWxN-",
        "colab_type": "code",
        "colab": {}
      },
      "source": [
        "#importando das métricas do sklearn o r2_score\n",
        "from sklearn.metrics import r2_score"
      ],
      "execution_count": 99,
      "outputs": []
    },
    {
      "cell_type": "code",
      "metadata": {
        "id": "LuhjEidZU5MP",
        "colab_type": "code",
        "colab": {
          "base_uri": "https://localhost:8080/",
          "height": 34
        },
        "outputId": "5851825b-364d-41df-c86b-807b8ded433b"
      },
      "source": [
        "#este resultado diz que a reta está bem ajustada aos dados, apesar da sazonalidade (quanto mais próximo de 1, melhor)\n",
        "r2_score(nPassageiros_teste, nPassageiros_predito)"
      ],
      "execution_count": 100,
      "outputs": [
        {
          "output_type": "execute_result",
          "data": {
            "text/plain": [
              "0.8187937794271518"
            ]
          },
          "metadata": {
            "tags": []
          },
          "execution_count": 100
        }
      ]
    },
    {
      "cell_type": "markdown",
      "metadata": {
        "id": "w1OxGOziXHlh",
        "colab_type": "text"
      },
      "source": [
        "### Máquinas de vetores de suporte"
      ]
    },
    {
      "cell_type": "markdown",
      "metadata": {
        "id": "1Ww837RsX0Zr",
        "colab_type": "text"
      },
      "source": [
        "Elas trabalham com uma reta de hiperplano, mas também temos duas retas de borda, com uma área definida entre elas. Dentro, os pontos são chamados de vetores de suporte. Elas estão a uma distância mais ou menos E da reta de hiperplano. Assim, nossa reta é definida por essa equação. Somando ou subtraindo o valor E conseguimos definir a reta de borda.\n",
        "\n",
        "Isso é usado para resolver planos lineares. Porém, os pontos de vetores de suporte nos ajudam a passar para outro domínio, porque estamos trabalhando com um problema não linear, e queremos remapear os dados para um domínio em que enxergamos o problema de forma linear.\n",
        "\n",
        "A função que vamos usar pega um dado em um domínio com poucas dimensões e passa para um domínio com mais dimensões, em que consigamos trabalhar de forma linear. Podemos começar a trabalhar com as SVMs.\n",
        "\n"
      ]
    },
    {
      "cell_type": "code",
      "metadata": {
        "id": "Fa93QiCDYI90",
        "colab_type": "code",
        "colab": {}
      },
      "source": [
        "from sklearn.svm import SVR"
      ],
      "execution_count": 101,
      "outputs": []
    },
    {
      "cell_type": "code",
      "metadata": {
        "id": "xTAs4HxrW7hz",
        "colab_type": "code",
        "colab": {}
      },
      "source": [
        "#usando os parâmetros padrão\n",
        "regressor_svr = SVR()"
      ],
      "execution_count": 102,
      "outputs": []
    },
    {
      "cell_type": "code",
      "metadata": {
        "id": "Ma9pXgOZZFtO",
        "colab_type": "code",
        "colab": {}
      },
      "source": [
        "#alterando atributos\n",
        "#C reduz ruídos\n",
        "regressor_svr = SVR(C=10000000)"
      ],
      "execution_count": 103,
      "outputs": []
    },
    {
      "cell_type": "code",
      "metadata": {
        "id": "GH8_bu4qYMso",
        "colab_type": "code",
        "colab": {
          "base_uri": "https://localhost:8080/",
          "height": 51
        },
        "outputId": "4ef48fb6-c4a1-4ea5-d152-75ee91f211ae"
      },
      "source": [
        "#ajuste dos dados de teste\n",
        "regressor_svr.fit(Tempo_treino, nPassageiros_treino)"
      ],
      "execution_count": 104,
      "outputs": [
        {
          "output_type": "execute_result",
          "data": {
            "text/plain": [
              "SVR(C=10000000, cache_size=200, coef0=0.0, degree=3, epsilon=0.1, gamma='scale',\n",
              "    kernel='rbf', max_iter=-1, shrinking=True, tol=0.001, verbose=False)"
            ]
          },
          "metadata": {
            "tags": []
          },
          "execution_count": 104
        }
      ]
    },
    {
      "cell_type": "code",
      "metadata": {
        "id": "brnw0prSYTzI",
        "colab_type": "code",
        "colab": {}
      },
      "source": [
        "nPassageiros_predito_svr = regressor_svr.predict(Tempo_teste)"
      ],
      "execution_count": 105,
      "outputs": []
    },
    {
      "cell_type": "code",
      "metadata": {
        "id": "-BUbHy6PYp-z",
        "colab_type": "code",
        "colab": {}
      },
      "source": [
        "passageiros_teste_svr = pd.DataFrame({'Tempo': np.ndarray.flatten(Tempo_teste), 'nPassageiros': nPassageiros_teste})\n",
        "passageiros_predito_svr = pd.DataFrame({'Tempo': np.ndarray.flatten(Tempo_teste), 'nPassageiros': nPassageiros_predito_svr})"
      ],
      "execution_count": 106,
      "outputs": []
    },
    {
      "cell_type": "code",
      "metadata": {
        "id": "k0l5IJsBYcxf",
        "colab_type": "code",
        "colab": {
          "base_uri": "https://localhost:8080/",
          "height": 296
        },
        "outputId": "ff68c903-1c03-47a2-bc77-61bfc6b2e2de"
      },
      "source": [
        "#plotando os dados reais e as predições da regressão\n",
        "sns.lineplot(x='Tempo', y='nPassageiros', data = passageiros_teste_svr, marker = 'o')\n",
        "sns.lineplot(x='Tempo', y='nPassageiros', data = passageiros_predito)\n",
        "sns.lineplot(x='Tempo', y='nPassageiros', data = passageiros_predito_svr)"
      ],
      "execution_count": 107,
      "outputs": [
        {
          "output_type": "execute_result",
          "data": {
            "text/plain": [
              "<matplotlib.axes._subplots.AxesSubplot at 0x7fa1ec7c7e10>"
            ]
          },
          "metadata": {
            "tags": []
          },
          "execution_count": 107
        },
        {
          "output_type": "display_data",
          "data": {
            "image/png": "[encoded data removed]",
            "text/plain": [
              "<Figure size 432x288 with 1 Axes>"
            ]
          },
          "metadata": {
            "tags": [],
            "needs_background": "light"
          }
        }
      ]
    },
    {
      "cell_type": "code",
      "metadata": {
        "id": "HKpBlcWKY8BX",
        "colab_type": "code",
        "colab": {
          "base_uri": "https://localhost:8080/",
          "height": 34
        },
        "outputId": "6dc3f5ce-4cb4-4b8e-c8cd-499ea12a664d"
      },
      "source": [
        "r2_score(nPassageiros_teste, nPassageiros_predito_svr)"
      ],
      "execution_count": 108,
      "outputs": [
        {
          "output_type": "execute_result",
          "data": {
            "text/plain": [
              "0.8584734993236788"
            ]
          },
          "metadata": {
            "tags": []
          },
          "execution_count": 108
        }
      ]
    },
    {
      "cell_type": "markdown",
      "metadata": {
        "id": "NEJK7sTPwiX3",
        "colab_type": "text"
      },
      "source": [
        "## PROBLEMAS DE CLASSIFICAÇÃO"
      ]
    },
    {
      "cell_type": "code",
      "metadata": {
        "id": "Jb7UgiemZfh0",
        "colab_type": "code",
        "colab": {}
      },
      "source": [
        "celular = pd.read_csv('Celular.csv', delimiter=\",\")"
      ],
      "execution_count": 112,
      "outputs": []
    },
    {
      "cell_type": "code",
      "metadata": {
        "id": "KlA-6458xhd9",
        "colab_type": "code",
        "colab": {
          "base_uri": "https://localhost:8080/",
          "height": 204
        },
        "outputId": "bce1d265-ac47-42a2-9c33-c03536f30588"
      },
      "source": [
        "celular.head()"
      ],
      "execution_count": 113,
      "outputs": [
        {
          "output_type": "execute_result",
          "data": {
            "text/html": [
              "<div>\n",
              "<style scoped>\n",
              "    .dataframe tbody tr th:only-of-type {\n",
              "        vertical-align: middle;\n",
              "    }\n",
              "\n",
              "    .dataframe tbody tr th {\n",
              "        vertical-align: top;\n",
              "    }\n",
              "\n",
              "    .dataframe thead th {\n",
              "        text-align: right;\n",
              "    }\n",
              "</style>\n",
              "<table border=\"1\" class=\"dataframe\">\n",
              "  <thead>\n",
              "    <tr style=\"text-align: right;\">\n",
              "      <th></th>\n",
              "      <th>salario</th>\n",
              "      <th>economias</th>\n",
              "      <th>idade</th>\n",
              "      <th>dividas</th>\n",
              "      <th>plano</th>\n",
              "    </tr>\n",
              "  </thead>\n",
              "  <tbody>\n",
              "    <tr>\n",
              "      <th>0</th>\n",
              "      <td>5.1</td>\n",
              "      <td>3.5</td>\n",
              "      <td>1.4</td>\n",
              "      <td>0.2</td>\n",
              "      <td>1</td>\n",
              "    </tr>\n",
              "    <tr>\n",
              "      <th>1</th>\n",
              "      <td>4.9</td>\n",
              "      <td>3.0</td>\n",
              "      <td>1.4</td>\n",
              "      <td>0.2</td>\n",
              "      <td>1</td>\n",
              "    </tr>\n",
              "    <tr>\n",
              "      <th>2</th>\n",
              "      <td>4.7</td>\n",
              "      <td>3.2</td>\n",
              "      <td>1.3</td>\n",
              "      <td>0.2</td>\n",
              "      <td>1</td>\n",
              "    </tr>\n",
              "    <tr>\n",
              "      <th>3</th>\n",
              "      <td>4.6</td>\n",
              "      <td>3.1</td>\n",
              "      <td>1.5</td>\n",
              "      <td>0.2</td>\n",
              "      <td>1</td>\n",
              "    </tr>\n",
              "    <tr>\n",
              "      <th>4</th>\n",
              "      <td>5.0</td>\n",
              "      <td>3.6</td>\n",
              "      <td>1.4</td>\n",
              "      <td>0.2</td>\n",
              "      <td>1</td>\n",
              "    </tr>\n",
              "  </tbody>\n",
              "</table>\n",
              "</div>"
            ],
            "text/plain": [
              "   salario  economias  idade  dividas  plano\n",
              "0      5.1        3.5    1.4      0.2      1\n",
              "1      4.9        3.0    1.4      0.2      1\n",
              "2      4.7        3.2    1.3      0.2      1\n",
              "3      4.6        3.1    1.5      0.2      1\n",
              "4      5.0        3.6    1.4      0.2      1"
            ]
          },
          "metadata": {
            "tags": []
          },
          "execution_count": 113
        }
      ]
    },
    {
      "cell_type": "code",
      "metadata": {
        "id": "kfGCYujnxno1",
        "colab_type": "code",
        "colab": {
          "base_uri": "https://localhost:8080/",
          "height": 279
        },
        "outputId": "66c60d11-3d4a-4ddc-8021-4370be6df238"
      },
      "source": [
        "ax = sns.distplot(celular[\"plano\"], bins=30, kde=False)"
      ],
      "execution_count": 116,
      "outputs": [
        {
          "output_type": "display_data",
          "data": {
            "image/png": "[encoded data removed]",
            "text/plain": [
              "<Figure size 432x288 with 1 Axes>"
            ]
          },
          "metadata": {
            "tags": [],
            "needs_background": "light"
          }
        }
      ]
    },
    {
      "cell_type": "markdown",
      "metadata": {
        "id": "iAUvmpukyxnR",
        "colab_type": "text"
      },
      "source": [
        "### Árvores de Decisão"
      ]
    },
    {
      "cell_type": "code",
      "metadata": {
        "id": "p7qLEJvKx7T8",
        "colab_type": "code",
        "colab": {}
      },
      "source": [
        "#variáveis explicativas\n",
        "x = celular.iloc[:,:-1].values"
      ],
      "execution_count": 117,
      "outputs": []
    },
    {
      "cell_type": "code",
      "metadata": {
        "id": "DMG8g4vNy5hh",
        "colab_type": "code",
        "colab": {}
      },
      "source": [
        "#variável dependente\n",
        "y = celular.iloc[:,4].values"
      ],
      "execution_count": 118,
      "outputs": []
    },
    {
      "cell_type": "code",
      "metadata": {
        "id": "HqXF8-CmzBJp",
        "colab_type": "code",
        "colab": {}
      },
      "source": [
        "#criando as bases de treino e teste\n",
        "x_treino, x_teste, y_treino, y_teste = train_test_split(x,y,test_size=0.3)"
      ],
      "execution_count": 119,
      "outputs": []
    },
    {
      "cell_type": "code",
      "metadata": {
        "id": "J8RCnpZCzPGh",
        "colab_type": "code",
        "colab": {}
      },
      "source": [
        "from sklearn import tree"
      ],
      "execution_count": 130,
      "outputs": []
    },
    {
      "cell_type": "code",
      "metadata": {
        "id": "kzQ2cIkMzZRQ",
        "colab_type": "code",
        "colab": {}
      },
      "source": [
        "#criando o modelo\n",
        "classificador_arvore = tree.DecisionTreeClassifier()"
      ],
      "execution_count": 131,
      "outputs": []
    },
    {
      "cell_type": "code",
      "metadata": {
        "id": "GW63Q2AJzeGw",
        "colab_type": "code",
        "colab": {
          "base_uri": "https://localhost:8080/",
          "height": 119
        },
        "outputId": "7cbe454e-21fe-4bbe-8c88-8f26644ccea4"
      },
      "source": [
        "#ajustando os dados ao modelo\n",
        "classificador_arvore.fit(x_treino, y_treino)"
      ],
      "execution_count": 132,
      "outputs": [
        {
          "output_type": "execute_result",
          "data": {
            "text/plain": [
              "DecisionTreeClassifier(ccp_alpha=0.0, class_weight=None, criterion='gini',\n",
              "                       max_depth=None, max_features=None, max_leaf_nodes=None,\n",
              "                       min_impurity_decrease=0.0, min_impurity_split=None,\n",
              "                       min_samples_leaf=1, min_samples_split=2,\n",
              "                       min_weight_fraction_leaf=0.0, presort='deprecated',\n",
              "                       random_state=None, splitter='best')"
            ]
          },
          "metadata": {
            "tags": []
          },
          "execution_count": 132
        }
      ]
    },
    {
      "cell_type": "code",
      "metadata": {
        "id": "DJ4ThluSziah",
        "colab_type": "code",
        "colab": {}
      },
      "source": [
        "import graphviz"
      ],
      "execution_count": 133,
      "outputs": []
    },
    {
      "cell_type": "code",
      "metadata": {
        "id": "D7NivTVZzrTY",
        "colab_type": "code",
        "colab": {}
      },
      "source": [
        "#criando uma visualização para a árvore de decisão\n",
        "dot_data = tree.export_graphviz(classificador_arvore, filled=True, out_file=None)"
      ],
      "execution_count": 134,
      "outputs": []
    },
    {
      "cell_type": "code",
      "metadata": {
        "id": "QRSgvu1bz5lY",
        "colab_type": "code",
        "colab": {}
      },
      "source": [
        "grafico = graphviz.Source(dot_data)"
      ],
      "execution_count": 135,
      "outputs": []
    },
    {
      "cell_type": "code",
      "metadata": {
        "id": "x5UerJyZ0UjY",
        "colab_type": "code",
        "colab": {
          "base_uri": "https://localhost:8080/",
          "height": 657
        },
        "outputId": "ce3d9769-5dd5-4430-95bb-3a5e2ab5691e"
      },
      "source": [
        "#plotando a árvore de decisão\n",
        "grafico"
      ],
      "execution_count": 136,
      "outputs": [
        {
          "output_type": "execute_result",
          "data": {
            "text/plain": [
              "<graphviz.files.Source at 0x7fa1e89af518>"
            ],
            "image/svg+xml": "<?xml version=\"1.0\" encoding=\"UTF-8\" standalone=\"no\"?>\n<!DOCTYPE svg PUBLIC \"-//W3C//DTD SVG 1.1//EN\"\n \"http://www.w3.org/Graphics/SVG/1.1/DTD/svg11.dtd\">\n<!-- Generated by graphviz version 2.40.1 (20161225.0304)\n -->\n<!-- Title: Tree Pages: 1 -->\n<svg width=\"774pt\" height=\"477pt\"\n viewBox=\"0.00 0.00 773.50 477.00\" xmlns=\"http://www.w3.org/2000/svg\" xmlns:xlink=\"http://www.w3.org/1999/xlink\">\n<g id=\"graph0\" class=\"graph\" transform=\"scale(1 1) rotate(0) translate(4 473)\">\n<title>Tree</title>\n<polygon fill=\"#ffffff\" stroke=\"transparent\" points=\"-4,4 -4,-473 769.5,-473 769.5,4 -4,4\"/>\n<!-- 0 -->\n<g id=\"node1\" class=\"node\">\n<title>0</title>\n<polygon fill=\"#fdf4ee\" stroke=\"#000000\" points=\"503,-469 371,-469 371,-401 503,-401 503,-469\"/>\n<text text-anchor=\"middle\" x=\"437\" y=\"-453.8\" font-family=\"Times,serif\" font-size=\"14.00\" fill=\"#000000\">X[3] &lt;= 0.8</text>\n<text text-anchor=\"middle\" x=\"437\" y=\"-438.8\" font-family=\"Times,serif\" font-size=\"14.00\" fill=\"#000000\">gini = 0.663</text>\n<text text-anchor=\"middle\" x=\"437\" y=\"-423.8\" font-family=\"Times,serif\" font-size=\"14.00\" fill=\"#000000\">samples = 105</text>\n<text text-anchor=\"middle\" x=\"437\" y=\"-408.8\" font-family=\"Times,serif\" font-size=\"14.00\" fill=\"#000000\">value = [40, 34, 31]</text>\n</g>\n<!-- 1 -->\n<g id=\"node2\" class=\"node\">\n<title>1</title>\n<polygon fill=\"#e58139\" stroke=\"#000000\" points=\"426.5,-357.5 309.5,-357.5 309.5,-304.5 426.5,-304.5 426.5,-357.5\"/>\n<text text-anchor=\"middle\" x=\"368\" y=\"-342.3\" font-family=\"Times,serif\" font-size=\"14.00\" fill=\"#000000\">gini = 0.0</text>\n<text text-anchor=\"middle\" x=\"368\" y=\"-327.3\" font-family=\"Times,serif\" font-size=\"14.00\" fill=\"#000000\">samples = 40</text>\n<text text-anchor=\"middle\" x=\"368\" y=\"-312.3\" font-family=\"Times,serif\" font-size=\"14.00\" fill=\"#000000\">value = [40, 0, 0]</text>\n</g>\n<!-- 0&#45;&gt;1 -->\n<g id=\"edge1\" class=\"edge\">\n<title>0&#45;&gt;1</title>\n<path fill=\"none\" stroke=\"#000000\" d=\"M414.4068,-400.9465C406.9527,-389.7113 398.6533,-377.2021 391.1577,-365.9043\"/>\n<polygon fill=\"#000000\" stroke=\"#000000\" points=\"394.0547,-363.94 385.6097,-357.5422 388.2218,-367.81 394.0547,-363.94\"/>\n<text text-anchor=\"middle\" x=\"380.6523\" y=\"-378.3457\" font-family=\"Times,serif\" font-size=\"14.00\" fill=\"#000000\">True</text>\n</g>\n<!-- 2 -->\n<g id=\"node3\" class=\"node\">\n<title>2</title>\n<polygon fill=\"#eefdf4\" stroke=\"#000000\" points=\"569.5,-365 444.5,-365 444.5,-297 569.5,-297 569.5,-365\"/>\n<text text-anchor=\"middle\" x=\"507\" y=\"-349.8\" font-family=\"Times,serif\" font-size=\"14.00\" fill=\"#000000\">X[3] &lt;= 1.75</text>\n<text text-anchor=\"middle\" x=\"507\" y=\"-334.8\" font-family=\"Times,serif\" font-size=\"14.00\" fill=\"#000000\">gini = 0.499</text>\n<text text-anchor=\"middle\" x=\"507\" y=\"-319.8\" font-family=\"Times,serif\" font-size=\"14.00\" fill=\"#000000\">samples = 65</text>\n<text text-anchor=\"middle\" x=\"507\" y=\"-304.8\" font-family=\"Times,serif\" font-size=\"14.00\" fill=\"#000000\">value = [0, 34, 31]</text>\n</g>\n<!-- 0&#45;&gt;2 -->\n<g id=\"edge2\" class=\"edge\">\n<title>0&#45;&gt;2</title>\n<path fill=\"none\" stroke=\"#000000\" d=\"M459.9206,-400.9465C465.7826,-392.2373 472.1598,-382.7626 478.273,-373.6801\"/>\n<polygon fill=\"#000000\" stroke=\"#000000\" points=\"481.3476,-375.3802 484.0279,-365.13 475.5405,-371.4716 481.3476,-375.3802\"/>\n<text text-anchor=\"middle\" x=\"488.8223\" y=\"-385.966\" font-family=\"Times,serif\" font-size=\"14.00\" fill=\"#000000\">False</text>\n</g>\n<!-- 3 -->\n<g id=\"node4\" class=\"node\">\n<title>3</title>\n<polygon fill=\"#4be78c\" stroke=\"#000000\" points=\"437.5,-261 320.5,-261 320.5,-193 437.5,-193 437.5,-261\"/>\n<text text-anchor=\"middle\" x=\"379\" y=\"-245.8\" font-family=\"Times,serif\" font-size=\"14.00\" fill=\"#000000\">X[2] &lt;= 5.05</text>\n<text text-anchor=\"middle\" x=\"379\" y=\"-230.8\" font-family=\"Times,serif\" font-size=\"14.00\" fill=\"#000000\">gini = 0.153</text>\n<text text-anchor=\"middle\" x=\"379\" y=\"-215.8\" font-family=\"Times,serif\" font-size=\"14.00\" fill=\"#000000\">samples = 36</text>\n<text text-anchor=\"middle\" x=\"379\" y=\"-200.8\" font-family=\"Times,serif\" font-size=\"14.00\" fill=\"#000000\">value = [0, 33, 3]</text>\n</g>\n<!-- 2&#45;&gt;3 -->\n<g id=\"edge3\" class=\"edge\">\n<title>2&#45;&gt;3</title>\n<path fill=\"none\" stroke=\"#000000\" d=\"M465.088,-296.9465C453.485,-287.519 440.7779,-277.1946 428.7741,-267.4415\"/>\n<polygon fill=\"#000000\" stroke=\"#000000\" points=\"430.9744,-264.7196 421.0061,-261.13 426.5602,-270.1524 430.9744,-264.7196\"/>\n</g>\n<!-- 10 -->\n<g id=\"node11\" class=\"node\">\n<title>10</title>\n<polygon fill=\"#8640e6\" stroke=\"#000000\" points=\"633.5,-261 516.5,-261 516.5,-193 633.5,-193 633.5,-261\"/>\n<text text-anchor=\"middle\" x=\"575\" y=\"-245.8\" font-family=\"Times,serif\" font-size=\"14.00\" fill=\"#000000\">X[2] &lt;= 4.85</text>\n<text text-anchor=\"middle\" x=\"575\" y=\"-230.8\" font-family=\"Times,serif\" font-size=\"14.00\" fill=\"#000000\">gini = 0.067</text>\n<text text-anchor=\"middle\" x=\"575\" y=\"-215.8\" font-family=\"Times,serif\" font-size=\"14.00\" fill=\"#000000\">samples = 29</text>\n<text text-anchor=\"middle\" x=\"575\" y=\"-200.8\" font-family=\"Times,serif\" font-size=\"14.00\" fill=\"#000000\">value = [0, 1, 28]</text>\n</g>\n<!-- 2&#45;&gt;10 -->\n<g id=\"edge10\" class=\"edge\">\n<title>2&#45;&gt;10</title>\n<path fill=\"none\" stroke=\"#000000\" d=\"M529.2657,-296.9465C534.9602,-288.2373 541.1552,-278.7626 547.0938,-269.6801\"/>\n<polygon fill=\"#000000\" stroke=\"#000000\" points=\"550.1411,-271.4151 552.6842,-261.13 544.2823,-267.5843 550.1411,-271.4151\"/>\n</g>\n<!-- 4 -->\n<g id=\"node5\" class=\"node\">\n<title>4</title>\n<polygon fill=\"#3fe685\" stroke=\"#000000\" points=\"245.5,-157 128.5,-157 128.5,-89 245.5,-89 245.5,-157\"/>\n<text text-anchor=\"middle\" x=\"187\" y=\"-141.8\" font-family=\"Times,serif\" font-size=\"14.00\" fill=\"#000000\">X[0] &lt;= 4.95</text>\n<text text-anchor=\"middle\" x=\"187\" y=\"-126.8\" font-family=\"Times,serif\" font-size=\"14.00\" fill=\"#000000\">gini = 0.059</text>\n<text text-anchor=\"middle\" x=\"187\" y=\"-111.8\" font-family=\"Times,serif\" font-size=\"14.00\" fill=\"#000000\">samples = 33</text>\n<text text-anchor=\"middle\" x=\"187\" y=\"-96.8\" font-family=\"Times,serif\" font-size=\"14.00\" fill=\"#000000\">value = [0, 32, 1]</text>\n</g>\n<!-- 3&#45;&gt;4 -->\n<g id=\"edge4\" class=\"edge\">\n<title>3&#45;&gt;4</title>\n<path fill=\"none\" stroke=\"#000000\" d=\"M320.3504,-195.2315C299.6039,-183.9938 276.1001,-171.2625 254.6662,-159.6525\"/>\n<polygon fill=\"#000000\" stroke=\"#000000\" points=\"256.0809,-156.4384 245.621,-154.753 252.7469,-162.5935 256.0809,-156.4384\"/>\n</g>\n<!-- 7 -->\n<g id=\"node8\" class=\"node\">\n<title>7</title>\n<polygon fill=\"#c09cf2\" stroke=\"#000000\" points=\"434,-157 324,-157 324,-89 434,-89 434,-157\"/>\n<text text-anchor=\"middle\" x=\"379\" y=\"-141.8\" font-family=\"Times,serif\" font-size=\"14.00\" fill=\"#000000\">X[1] &lt;= 2.75</text>\n<text text-anchor=\"middle\" x=\"379\" y=\"-126.8\" font-family=\"Times,serif\" font-size=\"14.00\" fill=\"#000000\">gini = 0.444</text>\n<text text-anchor=\"middle\" x=\"379\" y=\"-111.8\" font-family=\"Times,serif\" font-size=\"14.00\" fill=\"#000000\">samples = 3</text>\n<text text-anchor=\"middle\" x=\"379\" y=\"-96.8\" font-family=\"Times,serif\" font-size=\"14.00\" fill=\"#000000\">value = [0, 1, 2]</text>\n</g>\n<!-- 3&#45;&gt;7 -->\n<g id=\"edge7\" class=\"edge\">\n<title>3&#45;&gt;7</title>\n<path fill=\"none\" stroke=\"#000000\" d=\"M379,-192.9465C379,-184.776 379,-175.9318 379,-167.3697\"/>\n<polygon fill=\"#000000\" stroke=\"#000000\" points=\"382.5001,-167.13 379,-157.13 375.5001,-167.13 382.5001,-167.13\"/>\n</g>\n<!-- 5 -->\n<g id=\"node6\" class=\"node\">\n<title>5</title>\n<polygon fill=\"#8139e5\" stroke=\"#000000\" points=\"110,-53 0,-53 0,0 110,0 110,-53\"/>\n<text text-anchor=\"middle\" x=\"55\" y=\"-37.8\" font-family=\"Times,serif\" font-size=\"14.00\" fill=\"#000000\">gini = 0.0</text>\n<text text-anchor=\"middle\" x=\"55\" y=\"-22.8\" font-family=\"Times,serif\" font-size=\"14.00\" fill=\"#000000\">samples = 1</text>\n<text text-anchor=\"middle\" x=\"55\" y=\"-7.8\" font-family=\"Times,serif\" font-size=\"14.00\" fill=\"#000000\">value = [0, 0, 1]</text>\n</g>\n<!-- 4&#45;&gt;5 -->\n<g id=\"edge5\" class=\"edge\">\n<title>4&#45;&gt;5</title>\n<path fill=\"none\" stroke=\"#000000\" d=\"M140.4617,-88.9777C127.3099,-79.3629 113.0257,-68.9203 99.968,-59.3743\"/>\n<polygon fill=\"#000000\" stroke=\"#000000\" points=\"101.727,-56.3247 91.5886,-53.2485 97.5958,-61.9757 101.727,-56.3247\"/>\n</g>\n<!-- 6 -->\n<g id=\"node7\" class=\"node\">\n<title>6</title>\n<polygon fill=\"#39e581\" stroke=\"#000000\" points=\"245.5,-53 128.5,-53 128.5,0 245.5,0 245.5,-53\"/>\n<text text-anchor=\"middle\" x=\"187\" y=\"-37.8\" font-family=\"Times,serif\" font-size=\"14.00\" fill=\"#000000\">gini = 0.0</text>\n<text text-anchor=\"middle\" x=\"187\" y=\"-22.8\" font-family=\"Times,serif\" font-size=\"14.00\" fill=\"#000000\">samples = 32</text>\n<text text-anchor=\"middle\" x=\"187\" y=\"-7.8\" font-family=\"Times,serif\" font-size=\"14.00\" fill=\"#000000\">value = [0, 32, 0]</text>\n</g>\n<!-- 4&#45;&gt;6 -->\n<g id=\"edge6\" class=\"edge\">\n<title>4&#45;&gt;6</title>\n<path fill=\"none\" stroke=\"#000000\" d=\"M187,-88.9777C187,-80.7364 187,-71.887 187,-63.5153\"/>\n<polygon fill=\"#000000\" stroke=\"#000000\" points=\"190.5001,-63.2484 187,-53.2485 183.5001,-63.2485 190.5001,-63.2484\"/>\n</g>\n<!-- 8 -->\n<g id=\"node9\" class=\"node\">\n<title>8</title>\n<polygon fill=\"#39e581\" stroke=\"#000000\" points=\"374,-53 264,-53 264,0 374,0 374,-53\"/>\n<text text-anchor=\"middle\" x=\"319\" y=\"-37.8\" font-family=\"Times,serif\" font-size=\"14.00\" fill=\"#000000\">gini = 0.0</text>\n<text text-anchor=\"middle\" x=\"319\" y=\"-22.8\" font-family=\"Times,serif\" font-size=\"14.00\" fill=\"#000000\">samples = 1</text>\n<text text-anchor=\"middle\" x=\"319\" y=\"-7.8\" font-family=\"Times,serif\" font-size=\"14.00\" fill=\"#000000\">value = [0, 1, 0]</text>\n</g>\n<!-- 7&#45;&gt;8 -->\n<g id=\"edge8\" class=\"edge\">\n<title>7&#45;&gt;8</title>\n<path fill=\"none\" stroke=\"#000000\" d=\"M357.8462,-88.9777C352.3805,-80.187 346.4846,-70.7044 340.9778,-61.8477\"/>\n<polygon fill=\"#000000\" stroke=\"#000000\" points=\"343.8837,-59.8927 335.6312,-53.2485 337.9391,-63.5889 343.8837,-59.8927\"/>\n</g>\n<!-- 9 -->\n<g id=\"node10\" class=\"node\">\n<title>9</title>\n<polygon fill=\"#8139e5\" stroke=\"#000000\" points=\"502,-53 392,-53 392,0 502,0 502,-53\"/>\n<text text-anchor=\"middle\" x=\"447\" y=\"-37.8\" font-family=\"Times,serif\" font-size=\"14.00\" fill=\"#000000\">gini = 0.0</text>\n<text text-anchor=\"middle\" x=\"447\" y=\"-22.8\" font-family=\"Times,serif\" font-size=\"14.00\" fill=\"#000000\">samples = 2</text>\n<text text-anchor=\"middle\" x=\"447\" y=\"-7.8\" font-family=\"Times,serif\" font-size=\"14.00\" fill=\"#000000\">value = [0, 0, 2]</text>\n</g>\n<!-- 7&#45;&gt;9 -->\n<g id=\"edge9\" class=\"edge\">\n<title>7&#45;&gt;9</title>\n<path fill=\"none\" stroke=\"#000000\" d=\"M402.9743,-88.9777C409.2333,-80.0954 415.9901,-70.5067 422.2867,-61.5711\"/>\n<polygon fill=\"#000000\" stroke=\"#000000\" points=\"425.2521,-63.4389 428.1513,-53.2485 419.5301,-59.4068 425.2521,-63.4389\"/>\n</g>\n<!-- 11 -->\n<g id=\"node12\" class=\"node\">\n<title>11</title>\n<polygon fill=\"#c09cf2\" stroke=\"#000000\" points=\"630,-157 520,-157 520,-89 630,-89 630,-157\"/>\n<text text-anchor=\"middle\" x=\"575\" y=\"-141.8\" font-family=\"Times,serif\" font-size=\"14.00\" fill=\"#000000\">X[1] &lt;= 3.1</text>\n<text text-anchor=\"middle\" x=\"575\" y=\"-126.8\" font-family=\"Times,serif\" font-size=\"14.00\" fill=\"#000000\">gini = 0.444</text>\n<text text-anchor=\"middle\" x=\"575\" y=\"-111.8\" font-family=\"Times,serif\" font-size=\"14.00\" fill=\"#000000\">samples = 3</text>\n<text text-anchor=\"middle\" x=\"575\" y=\"-96.8\" font-family=\"Times,serif\" font-size=\"14.00\" fill=\"#000000\">value = [0, 1, 2]</text>\n</g>\n<!-- 10&#45;&gt;11 -->\n<g id=\"edge11\" class=\"edge\">\n<title>10&#45;&gt;11</title>\n<path fill=\"none\" stroke=\"#000000\" d=\"M575,-192.9465C575,-184.776 575,-175.9318 575,-167.3697\"/>\n<polygon fill=\"#000000\" stroke=\"#000000\" points=\"578.5001,-167.13 575,-157.13 571.5001,-167.13 578.5001,-167.13\"/>\n</g>\n<!-- 14 -->\n<g id=\"node15\" class=\"node\">\n<title>14</title>\n<polygon fill=\"#8139e5\" stroke=\"#000000\" points=\"765.5,-149.5 648.5,-149.5 648.5,-96.5 765.5,-96.5 765.5,-149.5\"/>\n<text text-anchor=\"middle\" x=\"707\" y=\"-134.3\" font-family=\"Times,serif\" font-size=\"14.00\" fill=\"#000000\">gini = 0.0</text>\n<text text-anchor=\"middle\" x=\"707\" y=\"-119.3\" font-family=\"Times,serif\" font-size=\"14.00\" fill=\"#000000\">samples = 26</text>\n<text text-anchor=\"middle\" x=\"707\" y=\"-104.3\" font-family=\"Times,serif\" font-size=\"14.00\" fill=\"#000000\">value = [0, 0, 26]</text>\n</g>\n<!-- 10&#45;&gt;14 -->\n<g id=\"edge14\" class=\"edge\">\n<title>10&#45;&gt;14</title>\n<path fill=\"none\" stroke=\"#000000\" d=\"M618.2217,-192.9465C633.3206,-181.0504 650.2324,-167.726 665.2122,-155.9237\"/>\n<polygon fill=\"#000000\" stroke=\"#000000\" points=\"667.623,-158.4802 673.3119,-149.5422 663.2909,-152.9817 667.623,-158.4802\"/>\n</g>\n<!-- 12 -->\n<g id=\"node13\" class=\"node\">\n<title>12</title>\n<polygon fill=\"#8139e5\" stroke=\"#000000\" points=\"630,-53 520,-53 520,0 630,0 630,-53\"/>\n<text text-anchor=\"middle\" x=\"575\" y=\"-37.8\" font-family=\"Times,serif\" font-size=\"14.00\" fill=\"#000000\">gini = 0.0</text>\n<text text-anchor=\"middle\" x=\"575\" y=\"-22.8\" font-family=\"Times,serif\" font-size=\"14.00\" fill=\"#000000\">samples = 2</text>\n<text text-anchor=\"middle\" x=\"575\" y=\"-7.8\" font-family=\"Times,serif\" font-size=\"14.00\" fill=\"#000000\">value = [0, 0, 2]</text>\n</g>\n<!-- 11&#45;&gt;12 -->\n<g id=\"edge12\" class=\"edge\">\n<title>11&#45;&gt;12</title>\n<path fill=\"none\" stroke=\"#000000\" d=\"M575,-88.9777C575,-80.7364 575,-71.887 575,-63.5153\"/>\n<polygon fill=\"#000000\" stroke=\"#000000\" points=\"578.5001,-63.2484 575,-53.2485 571.5001,-63.2485 578.5001,-63.2484\"/>\n</g>\n<!-- 13 -->\n<g id=\"node14\" class=\"node\">\n<title>13</title>\n<polygon fill=\"#39e581\" stroke=\"#000000\" points=\"758,-53 648,-53 648,0 758,0 758,-53\"/>\n<text text-anchor=\"middle\" x=\"703\" y=\"-37.8\" font-family=\"Times,serif\" font-size=\"14.00\" fill=\"#000000\">gini = 0.0</text>\n<text text-anchor=\"middle\" x=\"703\" y=\"-22.8\" font-family=\"Times,serif\" font-size=\"14.00\" fill=\"#000000\">samples = 1</text>\n<text text-anchor=\"middle\" x=\"703\" y=\"-7.8\" font-family=\"Times,serif\" font-size=\"14.00\" fill=\"#000000\">value = [0, 1, 0]</text>\n</g>\n<!-- 11&#45;&gt;13 -->\n<g id=\"edge13\" class=\"edge\">\n<title>11&#45;&gt;13</title>\n<path fill=\"none\" stroke=\"#000000\" d=\"M620.128,-88.9777C632.8813,-79.3629 646.7327,-68.9203 659.3947,-59.3743\"/>\n<polygon fill=\"#000000\" stroke=\"#000000\" points=\"661.6421,-62.0632 667.5202,-53.2485 657.4281,-56.4737 661.6421,-62.0632\"/>\n</g>\n</g>\n</svg>\n"
          },
          "metadata": {
            "tags": []
          },
          "execution_count": 136
        }
      ]
    },
    {
      "cell_type": "code",
      "metadata": {
        "id": "zzvvQAAF0VdO",
        "colab_type": "code",
        "colab": {}
      },
      "source": [
        "#prevendo o plano de celular conforme as variáveis explicativas\n",
        "plano_previsto = classificador_arvore.predict(x_teste)"
      ],
      "execution_count": 137,
      "outputs": []
    },
    {
      "cell_type": "code",
      "metadata": {
        "id": "Ar2nBCr91RV0",
        "colab_type": "code",
        "colab": {
          "base_uri": "https://localhost:8080/",
          "height": 68
        },
        "outputId": "558f4cd0-a6dd-4bd5-dc26-f9b504a2893d"
      },
      "source": [
        "#visualizando as previsões\n",
        "plano_previsto"
      ],
      "execution_count": 138,
      "outputs": [
        {
          "output_type": "execute_result",
          "data": {
            "text/plain": [
              "array([2, 2, 3, 2, 3, 3, 1, 2, 3, 3, 2, 3, 3, 1, 2, 3, 1, 1, 2, 2, 2, 3,\n",
              "       2, 2, 3, 1, 1, 2, 3, 3, 2, 1, 3, 3, 3, 3, 1, 2, 1, 3, 2, 1, 3, 2,\n",
              "       2])"
            ]
          },
          "metadata": {
            "tags": []
          },
          "execution_count": 138
        }
      ]
    },
    {
      "cell_type": "code",
      "metadata": {
        "id": "U2lf-ZxE1SZk",
        "colab_type": "code",
        "colab": {
          "base_uri": "https://localhost:8080/",
          "height": 282
        },
        "outputId": "cf87b755-743d-4923-c787-81886b1102bb"
      },
      "source": [
        "sns.distplot(y_teste, bins=6, kde=False)\n",
        "sns.distplot(plano_previsto, bins=6, kde=False)"
      ],
      "execution_count": 145,
      "outputs": [
        {
          "output_type": "execute_result",
          "data": {
            "text/plain": [
              "<matplotlib.axes._subplots.AxesSubplot at 0x7fa1e87cc2b0>"
            ]
          },
          "metadata": {
            "tags": []
          },
          "execution_count": 145
        },
        {
          "output_type": "display_data",
          "data": {
            "image/png": "[encoded data removed]",
            "text/plain": [
              "<Figure size 432x288 with 1 Axes>"
            ]
          },
          "metadata": {
            "tags": [],
            "needs_background": "light"
          }
        }
      ]
    },
    {
      "cell_type": "code",
      "metadata": {
        "id": "jj6vlXzT1yC0",
        "colab_type": "code",
        "colab": {}
      },
      "source": [
        "from sklearn.metrics import accuracy_score"
      ],
      "execution_count": 143,
      "outputs": []
    },
    {
      "cell_type": "code",
      "metadata": {
        "id": "7oCe_U5C1ewl",
        "colab_type": "code",
        "colab": {
          "base_uri": "https://localhost:8080/",
          "height": 34
        },
        "outputId": "0bb07f3e-e684-4b31-f88a-ada8c763a180"
      },
      "source": [
        "#vendo quanto o classificador acertou usando medidas de acurácia\n",
        "accuracy_score(y_teste, plano_previsto)*100"
      ],
      "execution_count": 144,
      "outputs": [
        {
          "output_type": "execute_result",
          "data": {
            "text/plain": [
              "93.33333333333333"
            ]
          },
          "metadata": {
            "tags": []
          },
          "execution_count": 144
        }
      ]
    },
    {
      "cell_type": "markdown",
      "metadata": {
        "id": "nXvXFRr_2aQX",
        "colab_type": "text"
      },
      "source": [
        "### K vizinhos mais próximos"
      ]
    },
    {
      "cell_type": "markdown",
      "metadata": {
        "id": "R2NmknpH3EDr",
        "colab_type": "text"
      },
      "source": [
        "K não pode ser igual ao número de classes ou múltiplo dos números de classe"
      ]
    },
    {
      "cell_type": "code",
      "metadata": {
        "id": "oUnJXwyx11U0",
        "colab_type": "code",
        "colab": {}
      },
      "source": [
        "from sklearn.neighbors import KNeighborsClassifier"
      ],
      "execution_count": 146,
      "outputs": []
    },
    {
      "cell_type": "code",
      "metadata": {
        "id": "bj-VSlYY3T2Z",
        "colab_type": "code",
        "colab": {}
      },
      "source": [
        "classificador_vizinho = KNeighborsClassifier(5)"
      ],
      "execution_count": 147,
      "outputs": []
    },
    {
      "cell_type": "code",
      "metadata": {
        "id": "PZ0t-58Q3ZVf",
        "colab_type": "code",
        "colab": {
          "base_uri": "https://localhost:8080/",
          "height": 68
        },
        "outputId": "5bc328f1-1339-478f-9dff-0d3b021ba1a5"
      },
      "source": [
        "classificador_vizinho.fit(x_treino, y_treino)"
      ],
      "execution_count": 148,
      "outputs": [
        {
          "output_type": "execute_result",
          "data": {
            "text/plain": [
              "KNeighborsClassifier(algorithm='auto', leaf_size=30, metric='minkowski',\n",
              "                     metric_params=None, n_jobs=None, n_neighbors=5, p=2,\n",
              "                     weights='uniform')"
            ]
          },
          "metadata": {
            "tags": []
          },
          "execution_count": 148
        }
      ]
    },
    {
      "cell_type": "code",
      "metadata": {
        "id": "qIgQg75f3ccY",
        "colab_type": "code",
        "colab": {}
      },
      "source": [
        "plano_previsto_v =  classificador_vizinho.predict(x_teste)"
      ],
      "execution_count": 150,
      "outputs": []
    },
    {
      "cell_type": "code",
      "metadata": {
        "id": "2ick2u1i3mQn",
        "colab_type": "code",
        "colab": {
          "base_uri": "https://localhost:8080/",
          "height": 68
        },
        "outputId": "9eecdcad-d0f6-42de-eacb-6e2f60be17d5"
      },
      "source": [
        "plano_previsto_v"
      ],
      "execution_count": 151,
      "outputs": [
        {
          "output_type": "execute_result",
          "data": {
            "text/plain": [
              "array([2, 2, 3, 2, 3, 3, 1, 2, 3, 3, 2, 3, 3, 1, 2, 3, 1, 1, 2, 2, 3, 3,\n",
              "       2, 2, 2, 1, 1, 2, 3, 3, 2, 1, 3, 3, 3, 3, 1, 3, 1, 3, 2, 1, 3, 2,\n",
              "       2])"
            ]
          },
          "metadata": {
            "tags": []
          },
          "execution_count": 151
        }
      ]
    },
    {
      "cell_type": "code",
      "metadata": {
        "id": "N3-TuGek3rOf",
        "colab_type": "code",
        "colab": {
          "base_uri": "https://localhost:8080/",
          "height": 282
        },
        "outputId": "9e34fa8f-0940-4c78-acbb-22eb41813395"
      },
      "source": [
        "sns.distplot(y_teste, bins=6, kde=False)\n",
        "sns.distplot(plano_previsto_v, bins=6, kde=False)"
      ],
      "execution_count": 152,
      "outputs": [
        {
          "output_type": "execute_result",
          "data": {
            "text/plain": [
              "<matplotlib.axes._subplots.AxesSubplot at 0x7fa1e875a4e0>"
            ]
          },
          "metadata": {
            "tags": []
          },
          "execution_count": 152
        },
        {
          "output_type": "display_data",
          "data": {
            "image/png": "[encoded data removed]",
            "text/plain": [
              "<Figure size 432x288 with 1 Axes>"
            ]
          },
          "metadata": {
            "tags": [],
            "needs_background": "light"
          }
        }
      ]
    },
    {
      "cell_type": "code",
      "metadata": {
        "id": "9RqWm0P-33Sv",
        "colab_type": "code",
        "colab": {
          "base_uri": "https://localhost:8080/",
          "height": 34
        },
        "outputId": "90932c96-f7cd-43d0-f7b2-3a0271cf489a"
      },
      "source": [
        "accuracy_score(y_teste, plano_previsto_v)*100"
      ],
      "execution_count": 153,
      "outputs": [
        {
          "output_type": "execute_result",
          "data": {
            "text/plain": [
              "100.0"
            ]
          },
          "metadata": {
            "tags": []
          },
          "execution_count": 153
        }
      ]
    },
    {
      "cell_type": "code",
      "metadata": {
        "id": "Qv82aNaB37E4",
        "colab_type": "code",
        "colab": {}
      },
      "source": [
        "#usando uma nova forma de dividir os dados de teste e de treino\n",
        "from sklearn.model_selection import RepeatedStratifiedKFold\n"
      ],
      "execution_count": 154,
      "outputs": []
    },
    {
      "cell_type": "code",
      "metadata": {
        "id": "pGU1xtHb5pIN",
        "colab_type": "code",
        "colab": {}
      },
      "source": [
        "skfold = RepeatedStratifiedKFold(n_splits=10, n_repeats=10, random_state=0)"
      ],
      "execution_count": 155,
      "outputs": []
    },
    {
      "cell_type": "code",
      "metadata": {
        "id": "8udhnh-L5plL",
        "colab_type": "code",
        "colab": {}
      },
      "source": [
        "#para percorrer as repetições (Cross Validation)\n",
        "from sklearn.model_selection import GridSearchCV"
      ],
      "execution_count": 156,
      "outputs": []
    },
    {
      "cell_type": "code",
      "metadata": {
        "id": "c440IGvJ6TxD",
        "colab_type": "code",
        "colab": {}
      },
      "source": [
        "params = {'n_neighbors':[5]}"
      ],
      "execution_count": 162,
      "outputs": []
    },
    {
      "cell_type": "code",
      "metadata": {
        "id": "7Qb6f4iE50-H",
        "colab_type": "code",
        "colab": {}
      },
      "source": [
        "#incluindo os parâmetros e as repetições\n",
        "gs = GridSearchCV(estimator=KNeighborsClassifier(), param_grid=params, cv=skfold, verbose=1, scoring=\"accuracy\", return_train_score=True)"
      ],
      "execution_count": 163,
      "outputs": []
    },
    {
      "cell_type": "code",
      "metadata": {
        "id": "3scXAwpG6Ovc",
        "colab_type": "code",
        "colab": {
          "base_uri": "https://localhost:8080/",
          "height": 238
        },
        "outputId": "3ddaa0e2-942a-406e-a9aa-85ad6df6e6f3"
      },
      "source": [
        "#ajustando o modelo aos dados\n",
        "gs.fit(x,y)"
      ],
      "execution_count": 164,
      "outputs": [
        {
          "output_type": "stream",
          "text": [
            "Fitting 100 folds for each of 1 candidates, totalling 100 fits\n"
          ],
          "name": "stdout"
        },
        {
          "output_type": "stream",
          "text": [
            "[Parallel(n_jobs=1)]: Using backend SequentialBackend with 1 concurrent workers.\n",
            "[Parallel(n_jobs=1)]: Done 100 out of 100 | elapsed:    0.7s finished\n"
          ],
          "name": "stderr"
        },
        {
          "output_type": "execute_result",
          "data": {
            "text/plain": [
              "GridSearchCV(cv=RepeatedStratifiedKFold(n_repeats=10, n_splits=10, random_state=0),\n",
              "             error_score=nan,\n",
              "             estimator=KNeighborsClassifier(algorithm='auto', leaf_size=30,\n",
              "                                            metric='minkowski',\n",
              "                                            metric_params=None, n_jobs=None,\n",
              "                                            n_neighbors=5, p=2,\n",
              "                                            weights='uniform'),\n",
              "             iid='deprecated', n_jobs=None, param_grid={'n_neighbors': [5]},\n",
              "             pre_dispatch='2*n_jobs', refit=True, return_train_score=True,\n",
              "             scoring='accuracy', verbose=1)"
            ]
          },
          "metadata": {
            "tags": []
          },
          "execution_count": 164
        }
      ]
    },
    {
      "cell_type": "code",
      "metadata": {
        "id": "wL446VjQ6uZy",
        "colab_type": "code",
        "colab": {
          "base_uri": "https://localhost:8080/",
          "height": 34
        },
        "outputId": "5f53a697-0f21-4e3d-bc56-64bced81ede3"
      },
      "source": [
        "#verificando a acurácia do teste\n",
        "gs.cv_results_['mean_test_score']"
      ],
      "execution_count": 167,
      "outputs": [
        {
          "output_type": "execute_result",
          "data": {
            "text/plain": [
              "array([0.964])"
            ]
          },
          "metadata": {
            "tags": []
          },
          "execution_count": 167
        }
      ]
    },
    {
      "cell_type": "markdown",
      "metadata": {
        "id": "uDHT6rK79yZh",
        "colab_type": "text"
      },
      "source": [
        "## PROBLEMAS DE AGRUPAMENTO"
      ]
    },
    {
      "cell_type": "code",
      "metadata": {
        "id": "mm0OEtSU60Sw",
        "colab_type": "code",
        "colab": {}
      },
      "source": [
        "engajamento = pd.read_csv('Engajamento.csv')"
      ],
      "execution_count": 169,
      "outputs": []
    },
    {
      "cell_type": "code",
      "metadata": {
        "id": "GB1G5rrh9-0J",
        "colab_type": "code",
        "colab": {
          "base_uri": "https://localhost:8080/",
          "height": 204
        },
        "outputId": "9b4905da-a6d9-494e-efd0-f39413a01a85"
      },
      "source": [
        "engajamento.head()"
      ],
      "execution_count": 170,
      "outputs": [
        {
          "output_type": "execute_result",
          "data": {
            "text/html": [
              "<div>\n",
              "<style scoped>\n",
              "    .dataframe tbody tr th:only-of-type {\n",
              "        vertical-align: middle;\n",
              "    }\n",
              "\n",
              "    .dataframe tbody tr th {\n",
              "        vertical-align: top;\n",
              "    }\n",
              "\n",
              "    .dataframe thead th {\n",
              "        text-align: right;\n",
              "    }\n",
              "</style>\n",
              "<table border=\"1\" class=\"dataframe\">\n",
              "  <thead>\n",
              "    <tr style=\"text-align: right;\">\n",
              "      <th></th>\n",
              "      <th>Horas</th>\n",
              "      <th>Taxa de Cliques</th>\n",
              "      <th>Classe</th>\n",
              "    </tr>\n",
              "  </thead>\n",
              "  <tbody>\n",
              "    <tr>\n",
              "      <th>0</th>\n",
              "      <td>1007.084589</td>\n",
              "      <td>1.582099</td>\n",
              "      <td>1</td>\n",
              "    </tr>\n",
              "    <tr>\n",
              "      <th>1</th>\n",
              "      <td>1005.886193</td>\n",
              "      <td>1.524809</td>\n",
              "      <td>1</td>\n",
              "    </tr>\n",
              "    <tr>\n",
              "      <th>2</th>\n",
              "      <td>1005.609471</td>\n",
              "      <td>0.846857</td>\n",
              "      <td>1</td>\n",
              "    </tr>\n",
              "    <tr>\n",
              "      <th>3</th>\n",
              "      <td>989.814354</td>\n",
              "      <td>2.841944</td>\n",
              "      <td>2</td>\n",
              "    </tr>\n",
              "    <tr>\n",
              "      <th>4</th>\n",
              "      <td>995.328807</td>\n",
              "      <td>3.569900</td>\n",
              "      <td>3</td>\n",
              "    </tr>\n",
              "  </tbody>\n",
              "</table>\n",
              "</div>"
            ],
            "text/plain": [
              "         Horas  Taxa de Cliques  Classe\n",
              "0  1007.084589         1.582099       1\n",
              "1  1005.886193         1.524809       1\n",
              "2  1005.609471         0.846857       1\n",
              "3   989.814354         2.841944       2\n",
              "4   995.328807         3.569900       3"
            ]
          },
          "metadata": {
            "tags": []
          },
          "execution_count": 170
        }
      ]
    },
    {
      "cell_type": "code",
      "metadata": {
        "id": "SbSGFo-N-H_y",
        "colab_type": "code",
        "colab": {
          "base_uri": "https://localhost:8080/",
          "height": 419
        },
        "outputId": "a0ed0f44-7318-4ee6-c226-2d3f4404b1c5"
      },
      "source": [
        "#em problemas de clustering não há um alvo\n",
        "x = engajamento.iloc[:,:-1]\n",
        "x"
      ],
      "execution_count": 171,
      "outputs": [
        {
          "output_type": "execute_result",
          "data": {
            "text/html": [
              "<div>\n",
              "<style scoped>\n",
              "    .dataframe tbody tr th:only-of-type {\n",
              "        vertical-align: middle;\n",
              "    }\n",
              "\n",
              "    .dataframe tbody tr th {\n",
              "        vertical-align: top;\n",
              "    }\n",
              "\n",
              "    .dataframe thead th {\n",
              "        text-align: right;\n",
              "    }\n",
              "</style>\n",
              "<table border=\"1\" class=\"dataframe\">\n",
              "  <thead>\n",
              "    <tr style=\"text-align: right;\">\n",
              "      <th></th>\n",
              "      <th>Horas</th>\n",
              "      <th>Taxa de Cliques</th>\n",
              "    </tr>\n",
              "  </thead>\n",
              "  <tbody>\n",
              "    <tr>\n",
              "      <th>0</th>\n",
              "      <td>1007.084589</td>\n",
              "      <td>1.582099</td>\n",
              "    </tr>\n",
              "    <tr>\n",
              "      <th>1</th>\n",
              "      <td>1005.886193</td>\n",
              "      <td>1.524809</td>\n",
              "    </tr>\n",
              "    <tr>\n",
              "      <th>2</th>\n",
              "      <td>1005.609471</td>\n",
              "      <td>0.846857</td>\n",
              "    </tr>\n",
              "    <tr>\n",
              "      <th>3</th>\n",
              "      <td>989.814354</td>\n",
              "      <td>2.841944</td>\n",
              "    </tr>\n",
              "    <tr>\n",
              "      <th>4</th>\n",
              "      <td>995.328807</td>\n",
              "      <td>3.569900</td>\n",
              "    </tr>\n",
              "    <tr>\n",
              "      <th>...</th>\n",
              "      <td>...</td>\n",
              "      <td>...</td>\n",
              "    </tr>\n",
              "    <tr>\n",
              "      <th>4995</th>\n",
              "      <td>991.447007</td>\n",
              "      <td>5.428443</td>\n",
              "    </tr>\n",
              "    <tr>\n",
              "      <th>4996</th>\n",
              "      <td>996.841049</td>\n",
              "      <td>15.504041</td>\n",
              "    </tr>\n",
              "    <tr>\n",
              "      <th>4997</th>\n",
              "      <td>991.723479</td>\n",
              "      <td>4.750185</td>\n",
              "    </tr>\n",
              "    <tr>\n",
              "      <th>4998</th>\n",
              "      <td>996.695706</td>\n",
              "      <td>14.807956</td>\n",
              "    </tr>\n",
              "    <tr>\n",
              "      <th>4999</th>\n",
              "      <td>990.824151</td>\n",
              "      <td>3.633904</td>\n",
              "    </tr>\n",
              "  </tbody>\n",
              "</table>\n",
              "<p>5000 rows × 2 columns</p>\n",
              "</div>"
            ],
            "text/plain": [
              "            Horas  Taxa de Cliques\n",
              "0     1007.084589         1.582099\n",
              "1     1005.886193         1.524809\n",
              "2     1005.609471         0.846857\n",
              "3      989.814354         2.841944\n",
              "4      995.328807         3.569900\n",
              "...           ...              ...\n",
              "4995   991.447007         5.428443\n",
              "4996   996.841049        15.504041\n",
              "4997   991.723479         4.750185\n",
              "4998   996.695706        14.807956\n",
              "4999   990.824151         3.633904\n",
              "\n",
              "[5000 rows x 2 columns]"
            ]
          },
          "metadata": {
            "tags": []
          },
          "execution_count": 171
        }
      ]
    },
    {
      "cell_type": "code",
      "metadata": {
        "id": "UHlZ84VB-Y6x",
        "colab_type": "code",
        "colab": {
          "base_uri": "https://localhost:8080/",
          "height": 296
        },
        "outputId": "25afa375-9118-474c-8d5e-2afb737409c2"
      },
      "source": [
        "#visualizando a base de dados\n",
        "sns.scatterplot(x='Horas', y='Taxa de Cliques', data=x)"
      ],
      "execution_count": 172,
      "outputs": [
        {
          "output_type": "execute_result",
          "data": {
            "text/plain": [
              "<matplotlib.axes._subplots.AxesSubplot at 0x7fa1e85d9eb8>"
            ]
          },
          "metadata": {
            "tags": []
          },
          "execution_count": 172
        },
        {
          "output_type": "display_data",
          "data": {
            "image/png": "[encoded data removed]",
            "text/plain": [
              "<Figure size 432x288 with 1 Axes>"
            ]
          },
          "metadata": {
            "tags": [],
            "needs_background": "light"
          }
        }
      ]
    },
    {
      "cell_type": "markdown",
      "metadata": {
        "id": "Ec8_VZfJ-z5y",
        "colab_type": "text"
      },
      "source": [
        "### KMeans"
      ]
    },
    {
      "cell_type": "code",
      "metadata": {
        "id": "jVfnfgwZ_ucp",
        "colab_type": "code",
        "colab": {}
      },
      "source": [
        "from sklearn.cluster import KMeans"
      ],
      "execution_count": 173,
      "outputs": []
    },
    {
      "cell_type": "code",
      "metadata": {
        "id": "dmxKu1p7-iXJ",
        "colab_type": "code",
        "colab": {}
      },
      "source": [
        "kmeans = KMeans(n_clusters=2, random_state=0)"
      ],
      "execution_count": 174,
      "outputs": []
    },
    {
      "cell_type": "code",
      "metadata": {
        "id": "ory58Wfc_7UO",
        "colab_type": "code",
        "colab": {
          "base_uri": "https://localhost:8080/",
          "height": 68
        },
        "outputId": "c415dbd2-d923-4f91-e685-9c94920faa23"
      },
      "source": [
        "kmeans.fit(x)"
      ],
      "execution_count": 175,
      "outputs": [
        {
          "output_type": "execute_result",
          "data": {
            "text/plain": [
              "KMeans(algorithm='auto', copy_x=True, init='k-means++', max_iter=300,\n",
              "       n_clusters=2, n_init=10, n_jobs=None, precompute_distances='auto',\n",
              "       random_state=0, tol=0.0001, verbose=0)"
            ]
          },
          "metadata": {
            "tags": []
          },
          "execution_count": 175
        }
      ]
    },
    {
      "cell_type": "code",
      "metadata": {
        "id": "AFZoMZk1AAJP",
        "colab_type": "code",
        "colab": {
          "base_uri": "https://localhost:8080/",
          "height": 34
        },
        "outputId": "8851003a-1040-4b47-d082-51396844a078"
      },
      "source": [
        "#visualizando resultado\n",
        "kmeans.labels_"
      ],
      "execution_count": 176,
      "outputs": [
        {
          "output_type": "execute_result",
          "data": {
            "text/plain": [
              "array([1, 1, 1, ..., 0, 0, 0], dtype=int32)"
            ]
          },
          "metadata": {
            "tags": []
          },
          "execution_count": 176
        }
      ]
    },
    {
      "cell_type": "code",
      "metadata": {
        "id": "XlJs0YoqAEJO",
        "colab_type": "code",
        "colab": {
          "base_uri": "https://localhost:8080/",
          "height": 296
        },
        "outputId": "ea4d0819-f3fa-4db6-9b21-f1e608a6accb"
      },
      "source": [
        "sns.scatterplot(x='Horas', y='Taxa de Cliques', data=x, hue=kmeans.labels_, palette='viridis')"
      ],
      "execution_count": 178,
      "outputs": [
        {
          "output_type": "execute_result",
          "data": {
            "text/plain": [
              "<matplotlib.axes._subplots.AxesSubplot at 0x7fa1e4867438>"
            ]
          },
          "metadata": {
            "tags": []
          },
          "execution_count": 178
        },
        {
          "output_type": "display_data",
          "data": {
            "image/png": "[encoded data removed]",
            "text/plain": [
              "<Figure size 432x288 with 1 Axes>"
            ]
          },
          "metadata": {
            "tags": [],
            "needs_background": "light"
          }
        }
      ]
    },
    {
      "cell_type": "code",
      "metadata": {
        "id": "MGgpxD15AS54",
        "colab_type": "code",
        "colab": {}
      },
      "source": [
        "#fazendo 4 grupos\n",
        "kmeans = KMeans(n_clusters=4, random_state=0)"
      ],
      "execution_count": 180,
      "outputs": []
    },
    {
      "cell_type": "code",
      "metadata": {
        "id": "oLcaem5SAg0V",
        "colab_type": "code",
        "colab": {
          "base_uri": "https://localhost:8080/",
          "height": 68
        },
        "outputId": "ed013333-9ace-47ce-aefa-db01f6858618"
      },
      "source": [
        "kmeans.fit(x)"
      ],
      "execution_count": 181,
      "outputs": [
        {
          "output_type": "execute_result",
          "data": {
            "text/plain": [
              "KMeans(algorithm='auto', copy_x=True, init='k-means++', max_iter=300,\n",
              "       n_clusters=4, n_init=10, n_jobs=None, precompute_distances='auto',\n",
              "       random_state=0, tol=0.0001, verbose=0)"
            ]
          },
          "metadata": {
            "tags": []
          },
          "execution_count": 181
        }
      ]
    },
    {
      "cell_type": "code",
      "metadata": {
        "id": "Ml_JPvYGAmNN",
        "colab_type": "code",
        "colab": {
          "base_uri": "https://localhost:8080/",
          "height": 296
        },
        "outputId": "4d2b43d2-b19f-4ecb-cc46-0ebda34b1d35"
      },
      "source": [
        "sns.scatterplot(x='Horas', y='Taxa de Cliques', data=x, hue=kmeans.labels_, palette='viridis')"
      ],
      "execution_count": 182,
      "outputs": [
        {
          "output_type": "execute_result",
          "data": {
            "text/plain": [
              "<matplotlib.axes._subplots.AxesSubplot at 0x7fa1e482f748>"
            ]
          },
          "metadata": {
            "tags": []
          },
          "execution_count": 182
        },
        {
          "output_type": "display_data",
          "data": {
            "image/png": "[encoded data removed]",
            "text/plain": [
              "<Figure size 432x288 with 1 Axes>"
            ]
          },
          "metadata": {
            "tags": [],
            "needs_background": "light"
          }
        }
      ]
    },
    {
      "cell_type": "markdown",
      "metadata": {
        "id": "2ofYtPi9A2Ad",
        "colab_type": "text"
      },
      "source": [
        "### OPTICS"
      ]
    },
    {
      "cell_type": "code",
      "metadata": {
        "id": "zpDNcQE7Aovc",
        "colab_type": "code",
        "colab": {}
      },
      "source": [
        "#ao invés de informar os grupos, informo o mínimo por grupo\n",
        "from sklearn.cluster import OPTICS"
      ],
      "execution_count": 184,
      "outputs": []
    },
    {
      "cell_type": "code",
      "metadata": {
        "id": "79ARZTB9A-N0",
        "colab_type": "code",
        "colab": {}
      },
      "source": [
        "clustering_o = OPTICS(min_samples=800).fit(x)"
      ],
      "execution_count": 189,
      "outputs": []
    },
    {
      "cell_type": "code",
      "metadata": {
        "id": "nHCHJBG9BWmU",
        "colab_type": "code",
        "colab": {
          "base_uri": "https://localhost:8080/",
          "height": 296
        },
        "outputId": "1d50d7b1-b1ee-4cfb-b393-86fccab678ff"
      },
      "source": [
        "sns.scatterplot(x='Horas', y='Taxa de Cliques', data=x, hue=clustering_o.labels_, palette='viridis')"
      ],
      "execution_count": 190,
      "outputs": [
        {
          "output_type": "execute_result",
          "data": {
            "text/plain": [
              "<matplotlib.axes._subplots.AxesSubplot at 0x7fa1ec9c5940>"
            ]
          },
          "metadata": {
            "tags": []
          },
          "execution_count": 190
        },
        {
          "output_type": "display_data",
          "data": {
            "image/png": "[encoded data removed]",
            "text/plain": [
              "<Figure size 432x288 with 1 Axes>"
            ]
          },
          "metadata": {
            "tags": [],
            "needs_background": "light"
          }
        }
      ]
    },
    {
      "cell_type": "markdown",
      "metadata": {
        "id": "W2ZcsehFCNMU",
        "colab_type": "text"
      },
      "source": [
        "### Métodos de Avaliação"
      ]
    },
    {
      "cell_type": "code",
      "metadata": {
        "id": "S-4yr59WBnq7",
        "colab_type": "code",
        "colab": {}
      },
      "source": [
        "#Quando conhecemos as classes\n",
        "from sklearn.metrics import adjusted_rand_score"
      ],
      "execution_count": 192,
      "outputs": []
    },
    {
      "cell_type": "code",
      "metadata": {
        "id": "q_PJzlFNCpMW",
        "colab_type": "code",
        "colab": {}
      },
      "source": [
        "classe_conhecida = engajamento['Classe']"
      ],
      "execution_count": 193,
      "outputs": []
    },
    {
      "cell_type": "code",
      "metadata": {
        "id": "QadwhIVzCttX",
        "colab_type": "code",
        "colab": {}
      },
      "source": [
        "classe_estimada = clustering_o.labels_"
      ],
      "execution_count": 194,
      "outputs": []
    },
    {
      "cell_type": "code",
      "metadata": {
        "id": "rS2eFB8hCysY",
        "colab_type": "code",
        "colab": {
          "base_uri": "https://localhost:8080/",
          "height": 34
        },
        "outputId": "ea8723bd-05bc-4a37-ef35-f442720abb49"
      },
      "source": [
        "adjusted_rand_score(classe_conhecida, classe_estimada)"
      ],
      "execution_count": 195,
      "outputs": [
        {
          "output_type": "execute_result",
          "data": {
            "text/plain": [
              "0.9821047486293407"
            ]
          },
          "metadata": {
            "tags": []
          },
          "execution_count": 195
        }
      ]
    },
    {
      "cell_type": "code",
      "metadata": {
        "id": "FaCryrxHC7hw",
        "colab_type": "code",
        "colab": {}
      },
      "source": [
        "classe_estimada_k = kmeans.labels_"
      ],
      "execution_count": 196,
      "outputs": []
    },
    {
      "cell_type": "code",
      "metadata": {
        "id": "00_MAkKsDAuj",
        "colab_type": "code",
        "colab": {
          "base_uri": "https://localhost:8080/",
          "height": 34
        },
        "outputId": "7101d012-ee2a-44d5-b4ec-9e78f1dbd623"
      },
      "source": [
        "adjusted_rand_score(classe_conhecida, classe_estimada_k)"
      ],
      "execution_count": 197,
      "outputs": [
        {
          "output_type": "execute_result",
          "data": {
            "text/plain": [
              "0.9957444328155858"
            ]
          },
          "metadata": {
            "tags": []
          },
          "execution_count": 197
        }
      ]
    },
    {
      "cell_type": "code",
      "metadata": {
        "id": "_5OTj_JUDDAI",
        "colab_type": "code",
        "colab": {}
      },
      "source": [
        "#Quando não conhecemos os grupos temos uma medida para conferir quão bem definidos estão os grupos. Esta função retorna valores entre -1 e 1, quanto mais próximo de 1, melhor\n",
        "from sklearn.metrics import silhouette_score\n"
      ],
      "execution_count": 201,
      "outputs": []
    },
    {
      "cell_type": "code",
      "metadata": {
        "id": "JV4WOaITDlP6",
        "colab_type": "code",
        "colab": {
          "base_uri": "https://localhost:8080/",
          "height": 34
        },
        "outputId": "1fc2332c-93f4-4c80-abb5-f0ca96c927c6"
      },
      "source": [
        "silhouette_score(x,kmeans.labels_, metric='euclidean')"
      ],
      "execution_count": 202,
      "outputs": [
        {
          "output_type": "execute_result",
          "data": {
            "text/plain": [
              "0.7640009351490763"
            ]
          },
          "metadata": {
            "tags": []
          },
          "execution_count": 202
        }
      ]
    },
    {
      "cell_type": "code",
      "metadata": {
        "id": "jG_qsxGMDwX2",
        "colab_type": "code",
        "colab": {
          "base_uri": "https://localhost:8080/",
          "height": 34
        },
        "outputId": "853970a3-1913-4b0a-f0e1-3db926cbb3ae"
      },
      "source": [
        "silhouette_score(x,clustering_o.labels_, metric='euclidean')"
      ],
      "execution_count": 203,
      "outputs": [
        {
          "output_type": "execute_result",
          "data": {
            "text/plain": [
              "0.7590075270703337"
            ]
          },
          "metadata": {
            "tags": []
          },
          "execution_count": 203
        }
      ]
    },
    {
      "cell_type": "code",
      "metadata": {
        "id": "6IZ5uozmD0-G",
        "colab_type": "code",
        "colab": {}
      },
      "source": [
        ""
      ],
      "execution_count": null,
      "outputs": []
    }
  ]
}