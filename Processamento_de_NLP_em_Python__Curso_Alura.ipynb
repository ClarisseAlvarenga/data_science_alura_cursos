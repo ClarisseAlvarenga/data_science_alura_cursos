{
  "nbformat": 4,
  "nbformat_minor": 0,
  "metadata": {
    "colab": {
      "name": "Processamento de NLP em Python _Curso_Alura.ipynb",
      "provenance": [],
      "authorship_tag": "ABX9TyNwA/ub+oxpXXpqG+SDSGvI",
      "include_colab_link": true
    },
    "kernelspec": {
      "name": "python3",
      "display_name": "Python 3"
    }
  },
  "cells": [
    {
      "cell_type": "markdown",
      "metadata": {
        "id": "view-in-github",
        "colab_type": "text"
      },
      "source": [
        "<a href=\"https://colab.research.google.com/github/ClarisseAlvarenga/data_science_alura_cursos/blob/master/Processamento_de_NLP_em_Python__Curso_Alura.ipynb\" target=\"_parent\"><img src=\"https://colab.research.google.com/assets/colab-badge.svg\" alt=\"Open In Colab\"/></a>"
      ]
    },
    {
      "cell_type": "markdown",
      "metadata": {
        "id": "IpWeAid8TKJq",
        "colab_type": "text"
      },
      "source": [
        "# CRIANDO UM CORRETOR ORTOGRÁFICO PT-BR DO ZERO"
      ]
    },
    {
      "cell_type": "markdown",
      "metadata": {
        "id": "ZCqbkBrQk8Ab",
        "colab_type": "text"
      },
      "source": [
        "## AULA 01 - PRIMEIROS PASSOS"
      ]
    },
    {
      "cell_type": "code",
      "metadata": {
        "id": "YsbpncqmTEGp",
        "colab_type": "code",
        "colab": {
          "base_uri": "https://localhost:8080/",
          "height": 34
        },
        "outputId": "20361e37-84ba-4bdd-e27f-71d39767061c"
      },
      "source": [
        "#Lendo o arquivo diretamente no python\n",
        "open('artigos.txt', mode='r') #assim ele não retorna o texto"
      ],
      "execution_count": 1,
      "outputs": [
        {
          "output_type": "execute_result",
          "data": {
            "text/plain": [
              "<_io.TextIOWrapper name='artigos.txt' mode='r' encoding='UTF-8'>"
            ]
          },
          "metadata": {
            "tags": []
          },
          "execution_count": 1
        }
      ]
    },
    {
      "cell_type": "code",
      "metadata": {
        "id": "8IU6Uu_KkFx4",
        "colab_type": "code",
        "colab": {}
      },
      "source": [
        "#fazendo mostrar o texto usando o with\n",
        "with open('artigos.txt', 'r') as f:\n",
        "  artigos = f.read() #o f quer dizer file(file é palavra protegida do python)\n"
      ],
      "execution_count": 2,
      "outputs": []
    },
    {
      "cell_type": "markdown",
      "metadata": {
        "id": "3K-vD4RxlO1W",
        "colab_type": "text"
      },
      "source": [
        "### Este arquivo será considerado o nosso CORPUS"
      ]
    },
    {
      "cell_type": "code",
      "metadata": {
        "id": "JJzSSJykkvGe",
        "colab_type": "code",
        "colab": {
          "base_uri": "https://localhost:8080/",
          "height": 275
        },
        "outputId": "954e260e-6727-4a72-ddf3-e94b0e68bd2d"
      },
      "source": [
        "#visualizando os primeiros quinhentos caracteres de um texto\n",
        "print(artigos[:500])"
      ],
      "execution_count": 3,
      "outputs": [
        {
          "output_type": "stream",
          "text": [
            "\n",
            "\n",
            "\n",
            "imagem \n",
            "\n",
            "Temos a seguinte classe que representa um usuário no nosso sistema:\n",
            "\n",
            "java\n",
            "\n",
            "Para salvar um novo usuário, várias validações são feitas, como por exemplo: Ver se o nome só contém letras, [**o CPF só números**] e ver se o usuário possui no mínimo 18 anos. Veja o método que faz essa validação:\n",
            "\n",
            "java \n",
            "\n",
            "Suponha agora que eu tenha outra classe, a classe `Produto`, que contém um atributo nome e eu quero fazer a mesma validação que fiz para o nome do usuário: Ver se só contém letras. E aí? Vou\n"
          ],
          "name": "stdout"
        }
      ]
    },
    {
      "cell_type": "code",
      "metadata": {
        "id": "OVir1nFlk3Yc",
        "colab_type": "code",
        "colab": {
          "base_uri": "https://localhost:8080/",
          "height": 34
        },
        "outputId": "43ff3dc0-6681-4006-a9fc-6009ebf80dc9"
      },
      "source": [
        "#olhando o tamanho de todo o arquivo\n",
        "len(artigos) #retornou a quantidade de caracteres"
      ],
      "execution_count": 4,
      "outputs": [
        {
          "output_type": "execute_result",
          "data": {
            "text/plain": [
              "2605046"
            ]
          },
          "metadata": {
            "tags": []
          },
          "execution_count": 4
        }
      ]
    },
    {
      "cell_type": "code",
      "metadata": {
        "id": "GqGj5gtrl4SG",
        "colab_type": "code",
        "colab": {
          "base_uri": "https://localhost:8080/",
          "height": 34
        },
        "outputId": "74812eca-4def-4cca-98cb-af3d09159404"
      },
      "source": [
        "#buscando o len de uma palavra específica\n",
        "len('olá') #ele buscou a quantidade de caracteres "
      ],
      "execution_count": 5,
      "outputs": [
        {
          "output_type": "execute_result",
          "data": {
            "text/plain": [
              "3"
            ]
          },
          "metadata": {
            "tags": []
          },
          "execution_count": 5
        }
      ]
    },
    {
      "cell_type": "code",
      "metadata": {
        "id": "mmJzZh8cl93B",
        "colab_type": "code",
        "colab": {}
      },
      "source": [
        "#criando um texto exemplo\n",
        "texto_exemplo = \"Olá, tudo bem?\""
      ],
      "execution_count": 6,
      "outputs": []
    },
    {
      "cell_type": "code",
      "metadata": {
        "id": "VEF_C3hXmSIQ",
        "colab_type": "code",
        "colab": {
          "base_uri": "https://localhost:8080/",
          "height": 34
        },
        "outputId": "0bbaa62b-8b8d-40c9-8225-68188d15bda8"
      },
      "source": [
        "#usando o método split\n",
        "palavras_separadas = texto_exemplo.split()\n",
        "palavras_separadas #separou as palavras, mas levou a pontuação junto"
      ],
      "execution_count": 7,
      "outputs": [
        {
          "output_type": "execute_result",
          "data": {
            "text/plain": [
              "['Olá,', 'tudo', 'bem?']"
            ]
          },
          "metadata": {
            "tags": []
          },
          "execution_count": 7
        }
      ]
    },
    {
      "cell_type": "code",
      "metadata": {
        "id": "6mCrz6dfmbNo",
        "colab_type": "code",
        "colab": {
          "base_uri": "https://localhost:8080/",
          "height": 34
        },
        "outputId": "8835c89a-ea19-410a-ebd4-1689060b1950"
      },
      "source": [
        "#a separação acima é melhor explicada como token e não como palavras separadas, então vamos realizar o método acima, trocando o nome da variável\n",
        "tokens = texto_exemplo.split()\n",
        "tokens"
      ],
      "execution_count": 8,
      "outputs": [
        {
          "output_type": "execute_result",
          "data": {
            "text/plain": [
              "['Olá,', 'tudo', 'bem?']"
            ]
          },
          "metadata": {
            "tags": []
          },
          "execution_count": 8
        }
      ]
    },
    {
      "cell_type": "markdown",
      "metadata": {
        "id": "hJSpnjsQnsOA",
        "colab_type": "text"
      },
      "source": [
        "## AULA 02 - REFINANDO A TOKENIZAÇÃO"
      ]
    },
    {
      "cell_type": "code",
      "metadata": {
        "id": "aFo5MUUMnQrp",
        "colab_type": "code",
        "colab": {
          "base_uri": "https://localhost:8080/",
          "height": 68
        },
        "outputId": "48f06541-6f63-4e5d-e540-6b131b07390d"
      },
      "source": [
        "#vamos usar o nltk: https://www.nltk.org/\n",
        "import nltk\n",
        "nltk.download('punkt') #incluindo a biblioteca de acordo com o erro dado na questão abaixo"
      ],
      "execution_count": 9,
      "outputs": [
        {
          "output_type": "stream",
          "text": [
            "[nltk_data] Downloading package punkt to /root/nltk_data...\n",
            "[nltk_data]   Package punkt is already up-to-date!\n"
          ],
          "name": "stdout"
        },
        {
          "output_type": "execute_result",
          "data": {
            "text/plain": [
              "True"
            ]
          },
          "metadata": {
            "tags": []
          },
          "execution_count": 9
        }
      ]
    },
    {
      "cell_type": "code",
      "metadata": {
        "id": "5scbsp6QoJKt",
        "colab_type": "code",
        "colab": {}
      },
      "source": [
        "#queremos tokens de palavras e tokens de pontuação\n",
        "#redefinindo o palavras_separadas e testando com o texto exemplo\n",
        "palavras_separadas = nltk.tokenize.word_tokenize(texto_exemplo, language='portuguese')"
      ],
      "execution_count": 10,
      "outputs": []
    },
    {
      "cell_type": "code",
      "metadata": {
        "id": "S4QSBDmiomnc",
        "colab_type": "code",
        "colab": {
          "base_uri": "https://localhost:8080/",
          "height": 34
        },
        "outputId": "d524101b-ee63-4aa5-b3e2-8f5319c4c929"
      },
      "source": [
        "palavras_separadas #separou as palavras, mas entendeu a pontuação como palavras"
      ],
      "execution_count": 11,
      "outputs": [
        {
          "output_type": "execute_result",
          "data": {
            "text/plain": [
              "['Olá', ',', 'tudo', 'bem', '?']"
            ]
          },
          "metadata": {
            "tags": []
          },
          "execution_count": 11
        }
      ]
    },
    {
      "cell_type": "code",
      "metadata": {
        "id": "z0t5fPeYo7W7",
        "colab_type": "code",
        "colab": {
          "base_uri": "https://localhost:8080/",
          "height": 34
        },
        "outputId": "9fd03e31-a2d3-4dfc-de07-c992b5bd19bf"
      },
      "source": [
        "#conferindo o tamanho do array\n",
        "len(palavras_separadas)"
      ],
      "execution_count": 12,
      "outputs": [
        {
          "output_type": "execute_result",
          "data": {
            "text/plain": [
              "5"
            ]
          },
          "metadata": {
            "tags": []
          },
          "execution_count": 12
        }
      ]
    },
    {
      "cell_type": "code",
      "metadata": {
        "id": "NXIXMhnqpz-0",
        "colab_type": "code",
        "colab": {
          "base_uri": "https://localhost:8080/",
          "height": 68
        },
        "outputId": "59364deb-8bab-49de-f819-acd2c7cb8fec"
      },
      "source": [
        "#método para verificar se uma string possui só caracteres alfabéticos\n",
        "print('palavra'.isalpha())\n",
        "print(','.isalpha())\n",
        "print('Café'.isalpha()) #conferindo se ele entende palavras acentuadas"
      ],
      "execution_count": 13,
      "outputs": [
        {
          "output_type": "stream",
          "text": [
            "True\n",
            "False\n",
            "True\n"
          ],
          "name": "stdout"
        }
      ]
    },
    {
      "cell_type": "code",
      "metadata": {
        "id": "xr_nrA8FpZ5i",
        "colab_type": "code",
        "colab": {}
      },
      "source": [
        "#vamos fazer uma função para separar as palavras das pontuações\n",
        "def separa_palavras(lista_tokens):\n",
        "  #criando uma lista de palavras\n",
        "  lista_palavras=[]\n",
        "  #vamos percorrer a lista e perguntar se o token é uma palavra\n",
        "  for token in lista_tokens:\n",
        "    if token.isalpha():\n",
        "      lista_palavras.append(token)\n",
        "  return lista_palavras"
      ],
      "execution_count": 14,
      "outputs": []
    },
    {
      "cell_type": "code",
      "metadata": {
        "id": "ecdHJsY1qcH3",
        "colab_type": "code",
        "colab": {
          "base_uri": "https://localhost:8080/",
          "height": 34
        },
        "outputId": "458d1563-1109-4069-f547-6301c8185d56"
      },
      "source": [
        "#testando com nossos tokens de teste\n",
        "separa_palavras(palavras_separadas)"
      ],
      "execution_count": 15,
      "outputs": [
        {
          "output_type": "execute_result",
          "data": {
            "text/plain": [
              "['Olá', 'tudo', 'bem']"
            ]
          },
          "metadata": {
            "tags": []
          },
          "execution_count": 15
        }
      ]
    },
    {
      "cell_type": "markdown",
      "metadata": {
        "id": "fSCp9elvqucY",
        "colab_type": "text"
      },
      "source": [
        "### Aplicando a tokenização ao CORPUS"
      ]
    },
    {
      "cell_type": "code",
      "metadata": {
        "id": "M5sKnPU_qkkG",
        "colab_type": "code",
        "colab": {}
      },
      "source": [
        "#criando a lista de tokens do artigos\n",
        "lista_tokens = nltk.tokenize.word_tokenize(artigos) #não passaremos o language aqui"
      ],
      "execution_count": 16,
      "outputs": []
    },
    {
      "cell_type": "code",
      "metadata": {
        "id": "h_-dDcmnrAbr",
        "colab_type": "code",
        "colab": {}
      },
      "source": [
        "#criando a lista de palavras\n",
        "lista_palavras = separa_palavras(lista_tokens) #usando a função criada"
      ],
      "execution_count": 17,
      "outputs": []
    },
    {
      "cell_type": "code",
      "metadata": {
        "id": "CWDz7ILdrWNE",
        "colab_type": "code",
        "colab": {
          "base_uri": "https://localhost:8080/",
          "height": 34
        },
        "outputId": "0601870f-b42d-4b11-e15f-a49d97ef1aa3"
      },
      "source": [
        "print(f'O número de palavras é {len(lista_palavras)}')"
      ],
      "execution_count": 18,
      "outputs": [
        {
          "output_type": "stream",
          "text": [
            "O número de palavras é 393914\n"
          ],
          "name": "stdout"
        }
      ]
    },
    {
      "cell_type": "code",
      "metadata": {
        "id": "xVH8mSbWrXwV",
        "colab_type": "code",
        "colab": {
          "base_uri": "https://localhost:8080/",
          "height": 34
        },
        "outputId": "745431bd-b09b-45c6-a709-f960843d69d7"
      },
      "source": [
        "#testando algo aqui fora da aula - vou transformar a lista num set, que não possui elementos duplicados - https://docs.python.org/3/tutorial/datastructures.html#sets\n",
        "palavras_unicas = set(lista_palavras)\n",
        "len(palavras_unicas)"
      ],
      "execution_count": 19,
      "outputs": [
        {
          "output_type": "execute_result",
          "data": {
            "text/plain": [
              "20418"
            ]
          },
          "metadata": {
            "tags": []
          },
          "execution_count": 19
        }
      ]
    },
    {
      "cell_type": "markdown",
      "metadata": {
        "id": "hhcgx68KsZc6",
        "colab_type": "text"
      },
      "source": [
        "### Normalização"
      ]
    },
    {
      "cell_type": "code",
      "metadata": {
        "id": "cQeGiYpZruxt",
        "colab_type": "code",
        "colab": {
          "base_uri": "https://localhost:8080/",
          "height": 34
        },
        "outputId": "7456a8ad-c659-4d63-8b57-797e79c7c530"
      },
      "source": [
        "#printando as cinco primeiras palavras\n",
        "print(lista_palavras[:5])"
      ],
      "execution_count": 20,
      "outputs": [
        {
          "output_type": "stream",
          "text": [
            "['imagem', 'Temos', 'a', 'seguinte', 'classe']\n"
          ],
          "name": "stdout"
        }
      ]
    },
    {
      "cell_type": "code",
      "metadata": {
        "id": "B-tVmCcAtUDp",
        "colab_type": "code",
        "colab": {}
      },
      "source": [
        "#normalizando - ou seja, transformando todas as palavras em letras minúsculas\n",
        "def normalizacao(lista_palavras):\n",
        "  lista_normalizada = []\n",
        "  for palavra in lista_palavras:\n",
        "    lista_normalizada.append(palavra.lower())\n",
        "  return lista_normalizada"
      ],
      "execution_count": 21,
      "outputs": []
    },
    {
      "cell_type": "code",
      "metadata": {
        "id": "73irdsBGt6gG",
        "colab_type": "code",
        "colab": {
          "base_uri": "https://localhost:8080/",
          "height": 34
        },
        "outputId": "159e3d01-491b-418c-a0a4-bb9f6364da2a"
      },
      "source": [
        "#testando com o exemplo\n",
        "normalizacao(palavras_separadas)"
      ],
      "execution_count": 22,
      "outputs": [
        {
          "output_type": "execute_result",
          "data": {
            "text/plain": [
              "['olá', ',', 'tudo', 'bem', '?']"
            ]
          },
          "metadata": {
            "tags": []
          },
          "execution_count": 22
        }
      ]
    },
    {
      "cell_type": "code",
      "metadata": {
        "id": "EUp_2GFSuBgX",
        "colab_type": "code",
        "colab": {}
      },
      "source": [
        "#aplicando  na lista de palavras\n",
        "lista_normalizada = normalizacao(lista_palavras)"
      ],
      "execution_count": 23,
      "outputs": []
    },
    {
      "cell_type": "code",
      "metadata": {
        "id": "OvivjTiTuM5I",
        "colab_type": "code",
        "colab": {
          "base_uri": "https://localhost:8080/",
          "height": 34
        },
        "outputId": "fa0a23cf-8678-4da9-a494-e01434713696"
      },
      "source": [
        "#visualizando\n",
        "print(lista_normalizada[:5])"
      ],
      "execution_count": 24,
      "outputs": [
        {
          "output_type": "stream",
          "text": [
            "['imagem', 'temos', 'a', 'seguinte', 'classe']\n"
          ],
          "name": "stdout"
        }
      ]
    },
    {
      "cell_type": "markdown",
      "metadata": {
        "id": "Mkkg8uvhux5l",
        "colab_type": "text"
      },
      "source": [
        "### Tipos de palavras"
      ]
    },
    {
      "cell_type": "code",
      "metadata": {
        "id": "3jie6dqiuc_G",
        "colab_type": "code",
        "colab": {
          "base_uri": "https://localhost:8080/",
          "height": 34
        },
        "outputId": "ef895d3e-8a7a-40fc-a4b6-46995246aa25"
      },
      "source": [
        "#mostrando o funcionamento do set \n",
        "set([1,2,3,3,3,3,3,3,4,5,5,6])"
      ],
      "execution_count": 25,
      "outputs": [
        {
          "output_type": "execute_result",
          "data": {
            "text/plain": [
              "{1, 2, 3, 4, 5, 6}"
            ]
          },
          "metadata": {
            "tags": []
          },
          "execution_count": 25
        }
      ]
    },
    {
      "cell_type": "code",
      "metadata": {
        "id": "rwvKah__uQQu",
        "colab_type": "code",
        "colab": {
          "base_uri": "https://localhost:8080/",
          "height": 34
        },
        "outputId": "bbc584a3-75db-433e-f290-e018c8ef8f0f"
      },
      "source": [
        "#tratando como set a lista normalizada\n",
        "set_lista_normalizada = set(lista_normalizada)\n",
        "len(set_lista_normalizada)"
      ],
      "execution_count": 26,
      "outputs": [
        {
          "output_type": "execute_result",
          "data": {
            "text/plain": [
              "17652"
            ]
          },
          "metadata": {
            "tags": []
          },
          "execution_count": 26
        }
      ]
    },
    {
      "cell_type": "markdown",
      "metadata": {
        "id": "gd5I7_Ofcmoh",
        "colab_type": "text"
      },
      "source": [
        "## AULA 03 - DESENVOLVENDO E TESTANDO O CORRETOR"
      ]
    },
    {
      "cell_type": "markdown",
      "metadata": {
        "id": "uO9zjmyRc0Wz",
        "colab_type": "text"
      },
      "source": [
        "### Fatiando Strings"
      ]
    },
    {
      "cell_type": "code",
      "metadata": {
        "id": "dHez6TRxgl2m",
        "colab_type": "code",
        "colab": {}
      },
      "source": [
        "#criando uma variável para testar as funções de fatiamento de strings e criação de novas palavras\n",
        "palavra_exemplo = 'lgica'"
      ],
      "execution_count": 27,
      "outputs": []
    },
    {
      "cell_type": "code",
      "metadata": {
        "id": "pn0CeH63g0n6",
        "colab_type": "code",
        "colab": {
          "base_uri": "https://localhost:8080/",
          "height": 34
        },
        "outputId": "ac095c1b-192f-4e30-c952-ec4fa66fdc06"
      },
      "source": [
        "#fatiamento de strings usa uma lógica parecida com a do fatiamento de listas\n",
        "lista = 'lgica'\n",
        "(lista[:1], lista[1:]) #pegando o \"lado direito e o lado esquerdo da palavra\""
      ],
      "execution_count": 28,
      "outputs": [
        {
          "output_type": "execute_result",
          "data": {
            "text/plain": [
              "('l', 'gica')"
            ]
          },
          "metadata": {
            "tags": []
          },
          "execution_count": 28
        }
      ]
    },
    {
      "cell_type": "code",
      "metadata": {
        "id": "VNha5AVigdV7",
        "colab_type": "code",
        "colab": {}
      },
      "source": [
        "#junta as letras a fatias de palavras\n",
        "def insere_letras(fatias):\n",
        "  novas_palavras = []\n",
        "  #criando as letras\n",
        "  letras = 'abcdefghihklmnopqrstuvxyzáâàãéêèẽíîìĩóôõòúûùũñç'\n",
        "  #operação para criar novas palavras\n",
        "  for E,D in fatias:\n",
        "    for letra in letras:\n",
        "      novas_palavras.append(E + letra + D) #concatenando o lado esquerdo, a letra e o lado direito das fatias\n",
        "  return novas_palavras"
      ],
      "execution_count": 29,
      "outputs": []
    },
    {
      "cell_type": "markdown",
      "metadata": {
        "id": "xlKxBgM5k6K_",
        "colab_type": "text"
      },
      "source": [
        "### Criando novas palavras"
      ]
    },
    {
      "cell_type": "code",
      "metadata": {
        "id": "5Ky3MijGvJCc",
        "colab_type": "code",
        "colab": {}
      },
      "source": [
        "#gera as fatias, busca a função anterior e cria novas palavras\n",
        "def gerador_palavras(palavra):\n",
        "  fatias = []\n",
        "  for i in range(len(palavra) +1): #incluimos o um para pegar a palavra completa no lado esquerdo\n",
        "    fatias.append((palavra[:i], palavra[i:])) #adicionando tuplas na lista fatias\n",
        "  palavras_geradas = insere_letras(fatias)\n",
        "  return palavras_geradas\n"
      ],
      "execution_count": 30,
      "outputs": []
    },
    {
      "cell_type": "code",
      "metadata": {
        "id": "EDQaEpUriRR8",
        "colab_type": "code",
        "colab": {
          "base_uri": "https://localhost:8080/",
          "height": 54
        },
        "outputId": "ac01c2a7-20e5-4246-c7f8-29e5f36db7fc"
      },
      "source": [
        "#usando um exemplo\n",
        "palavras_geradas = gerador_palavras(palavra_exemplo)\n",
        "print(palavras_geradas)"
      ],
      "execution_count": 31,
      "outputs": [
        {
          "output_type": "stream",
          "text": [
            "['algica', 'blgica', 'clgica', 'dlgica', 'elgica', 'flgica', 'glgica', 'hlgica', 'ilgica', 'hlgica', 'klgica', 'llgica', 'mlgica', 'nlgica', 'olgica', 'plgica', 'qlgica', 'rlgica', 'slgica', 'tlgica', 'ulgica', 'vlgica', 'xlgica', 'ylgica', 'zlgica', 'álgica', 'âlgica', 'àlgica', 'ãlgica', 'élgica', 'êlgica', 'èlgica', 'ẽlgica', 'ílgica', 'îlgica', 'ìlgica', 'ĩlgica', 'ólgica', 'ôlgica', 'õlgica', 'òlgica', 'úlgica', 'ûlgica', 'ùlgica', 'ũlgica', 'ñlgica', 'çlgica', 'lagica', 'lbgica', 'lcgica', 'ldgica', 'legica', 'lfgica', 'lggica', 'lhgica', 'ligica', 'lhgica', 'lkgica', 'llgica', 'lmgica', 'lngica', 'logica', 'lpgica', 'lqgica', 'lrgica', 'lsgica', 'ltgica', 'lugica', 'lvgica', 'lxgica', 'lygica', 'lzgica', 'lágica', 'lâgica', 'làgica', 'lãgica', 'légica', 'lêgica', 'lègica', 'lẽgica', 'lígica', 'lîgica', 'lìgica', 'lĩgica', 'lógica', 'lôgica', 'lõgica', 'lògica', 'lúgica', 'lûgica', 'lùgica', 'lũgica', 'lñgica', 'lçgica', 'lgaica', 'lgbica', 'lgcica', 'lgdica', 'lgeica', 'lgfica', 'lggica', 'lghica', 'lgiica', 'lghica', 'lgkica', 'lglica', 'lgmica', 'lgnica', 'lgoica', 'lgpica', 'lgqica', 'lgrica', 'lgsica', 'lgtica', 'lguica', 'lgvica', 'lgxica', 'lgyica', 'lgzica', 'lgáica', 'lgâica', 'lgàica', 'lgãica', 'lgéica', 'lgêica', 'lgèica', 'lgẽica', 'lgíica', 'lgîica', 'lgìica', 'lgĩica', 'lgóica', 'lgôica', 'lgõica', 'lgòica', 'lgúica', 'lgûica', 'lgùica', 'lgũica', 'lgñica', 'lgçica', 'lgiaca', 'lgibca', 'lgicca', 'lgidca', 'lgieca', 'lgifca', 'lgigca', 'lgihca', 'lgiica', 'lgihca', 'lgikca', 'lgilca', 'lgimca', 'lginca', 'lgioca', 'lgipca', 'lgiqca', 'lgirca', 'lgisca', 'lgitca', 'lgiuca', 'lgivca', 'lgixca', 'lgiyca', 'lgizca', 'lgiáca', 'lgiâca', 'lgiàca', 'lgiãca', 'lgiéca', 'lgiêca', 'lgièca', 'lgiẽca', 'lgiíca', 'lgiîca', 'lgiìca', 'lgiĩca', 'lgióca', 'lgiôca', 'lgiõca', 'lgiòca', 'lgiúca', 'lgiûca', 'lgiùca', 'lgiũca', 'lgiñca', 'lgiçca', 'lgicaa', 'lgicba', 'lgicca', 'lgicda', 'lgicea', 'lgicfa', 'lgicga', 'lgicha', 'lgicia', 'lgicha', 'lgicka', 'lgicla', 'lgicma', 'lgicna', 'lgicoa', 'lgicpa', 'lgicqa', 'lgicra', 'lgicsa', 'lgicta', 'lgicua', 'lgicva', 'lgicxa', 'lgicya', 'lgicza', 'lgicáa', 'lgicâa', 'lgicàa', 'lgicãa', 'lgicéa', 'lgicêa', 'lgicèa', 'lgicẽa', 'lgicía', 'lgicîa', 'lgicìa', 'lgicĩa', 'lgicóa', 'lgicôa', 'lgicõa', 'lgicòa', 'lgicúa', 'lgicûa', 'lgicùa', 'lgicũa', 'lgicña', 'lgicça', 'lgicaa', 'lgicab', 'lgicac', 'lgicad', 'lgicae', 'lgicaf', 'lgicag', 'lgicah', 'lgicai', 'lgicah', 'lgicak', 'lgical', 'lgicam', 'lgican', 'lgicao', 'lgicap', 'lgicaq', 'lgicar', 'lgicas', 'lgicat', 'lgicau', 'lgicav', 'lgicax', 'lgicay', 'lgicaz', 'lgicaá', 'lgicaâ', 'lgicaà', 'lgicaã', 'lgicaé', 'lgicaê', 'lgicaè', 'lgicaẽ', 'lgicaí', 'lgicaî', 'lgicaì', 'lgicaĩ', 'lgicaó', 'lgicaô', 'lgicaõ', 'lgicaò', 'lgicaú', 'lgicaû', 'lgicaù', 'lgicaũ', 'lgicañ', 'lgicaç']\n"
          ],
          "name": "stdout"
        }
      ]
    },
    {
      "cell_type": "markdown",
      "metadata": {
        "id": "s-fOk2n_k4Br",
        "colab_type": "text"
      },
      "source": [
        "### Construindo a função corretor"
      ]
    },
    {
      "cell_type": "markdown",
      "metadata": {
        "id": "g_3FDQzsnnRt",
        "colab_type": "text"
      },
      "source": [
        "Uma das fases será gerar a probabilidade da palavra ser correta\n",
        "nossa lógica será calcular a frequencia das palavras"
      ]
    },
    {
      "cell_type": "code",
      "metadata": {
        "id": "cM7U4FtLnyxL",
        "colab_type": "code",
        "colab": {
          "base_uri": "https://localhost:8080/",
          "height": 187
        },
        "outputId": "f8d7568f-8e1c-4f2b-af93-ad75fbbb0033"
      },
      "source": [
        "#calculando a frequência das palavras no nosso Corpus\n",
        "frequencia = nltk.FreqDist(lista_normalizada) #buscando a frequencia das palavras\n",
        "frequencia.most_common(10) #verificando as palavras mais comuns"
      ],
      "execution_count": 32,
      "outputs": [
        {
          "output_type": "execute_result",
          "data": {
            "text/plain": [
              "[('de', 15494),\n",
              " ('o', 13966),\n",
              " ('que', 12225),\n",
              " ('a', 11034),\n",
              " ('e', 10478),\n",
              " ('para', 7694),\n",
              " ('um', 6346),\n",
              " ('é', 5881),\n",
              " ('uma', 5202),\n",
              " ('do', 5116)]"
            ]
          },
          "metadata": {
            "tags": []
          },
          "execution_count": 32
        }
      ]
    },
    {
      "cell_type": "code",
      "metadata": {
        "id": "bJHn9-cWn7c5",
        "colab_type": "code",
        "colab": {
          "base_uri": "https://localhost:8080/",
          "height": 34
        },
        "outputId": "1e654450-1139-462f-c689-2329537cb77e"
      },
      "source": [
        "total_palavras = len(lista_normalizada) #definindo o total das palavras no Corpus para o cálculo de probabilidade\n",
        "frequencia['lógica'] #podemos pesquisar com o colchete"
      ],
      "execution_count": 33,
      "outputs": [
        {
          "output_type": "execute_result",
          "data": {
            "text/plain": [
              "87"
            ]
          },
          "metadata": {
            "tags": []
          },
          "execution_count": 33
        }
      ]
    },
    {
      "cell_type": "code",
      "metadata": {
        "id": "jNPC7y0RoYF4",
        "colab_type": "code",
        "colab": {}
      },
      "source": [
        "#definindo a probabilidade de uma palavra estar correta\n",
        "def probabilidade(palavra_gerada):\n",
        "  return frequencia[palavra_gerada] / total_palavras\n"
      ],
      "execution_count": 34,
      "outputs": []
    },
    {
      "cell_type": "markdown",
      "metadata": {
        "id": "ta25ZJvaqb_7",
        "colab_type": "text"
      },
      "source": [
        "Criando o corretor, usando a lista de palavras geradas para buscar a palavra com mais probabilidade de estar correta. Resolve o problema de palavra digitada com uma letra a menos"
      ]
    },
    {
      "cell_type": "code",
      "metadata": {
        "id": "jTzEmrOTiZma",
        "colab_type": "code",
        "colab": {}
      },
      "source": [
        "def corretor(palavra):\n",
        "  palavras_geradas = gerador_palavras(palavra) #busca as palavras criadas\n",
        "  palavra_correta = max(palavras_geradas, key=probabilidade) #retorna a palavra com mais probabilidade de estar correta de acordo com sua frequência no corpus\n",
        "  return palavra_correta"
      ],
      "execution_count": 35,
      "outputs": []
    },
    {
      "cell_type": "code",
      "metadata": {
        "id": "WcY_WdH1pWZ1",
        "colab_type": "code",
        "colab": {
          "base_uri": "https://localhost:8080/",
          "height": 34
        },
        "outputId": "129c9b5b-9afb-4b51-e5c4-73ef34431d70"
      },
      "source": [
        "probabilidade('lagica')"
      ],
      "execution_count": 36,
      "outputs": [
        {
          "output_type": "execute_result",
          "data": {
            "text/plain": [
              "0.0"
            ]
          },
          "metadata": {
            "tags": []
          },
          "execution_count": 36
        }
      ]
    },
    {
      "cell_type": "code",
      "metadata": {
        "id": "j4FbykFupaPd",
        "colab_type": "code",
        "colab": {
          "base_uri": "https://localhost:8080/",
          "height": 35
        },
        "outputId": "5c532283-f47b-496b-b511-421ea9c60ac2"
      },
      "source": [
        "corretor(palavra_exemplo)"
      ],
      "execution_count": 37,
      "outputs": [
        {
          "output_type": "execute_result",
          "data": {
            "application/vnd.google.colaboratory.intrinsic+json": {
              "type": "string"
            },
            "text/plain": [
              "'lógica'"
            ]
          },
          "metadata": {
            "tags": []
          },
          "execution_count": 37
        }
      ]
    },
    {
      "cell_type": "markdown",
      "metadata": {
        "id": "A6dtuRABVjK6",
        "colab_type": "text"
      },
      "source": [
        "## AULA 04 - AVALIANDO A QUALIDADE DO CORRETOR"
      ]
    },
    {
      "cell_type": "markdown",
      "metadata": {
        "id": "RpwoHMvXVpJ9",
        "colab_type": "text"
      },
      "source": [
        "### Preparando os dados de teste"
      ]
    },
    {
      "cell_type": "code",
      "metadata": {
        "id": "vTw99vW4WTF-",
        "colab_type": "code",
        "colab": {}
      },
      "source": [
        "#Criando dados de teste a partir de um arquivo onde os valores corretos e incorretos estão separados por um espaço, um par por linha\n",
        "def cria_dados_teste(nome_arquivo):\n",
        "  lista_palavras_teste = []\n",
        "  f = open(nome_arquivo, \"r\") #abrindo o arquivo para leitura\n",
        "  for linha in f:\n",
        "    correta, errada = linha.split() #separando os valores corretos e incorretos\n",
        "    lista_palavras_teste.append((correta,errada)) #colocando numa lista uma tupla com o valor correto e incorreto\n",
        "  f.close() #fechando o arquivo\n",
        "  return lista_palavras_teste"
      ],
      "execution_count": 38,
      "outputs": []
    },
    {
      "cell_type": "code",
      "metadata": {
        "id": "l_PIIIYTXd0Y",
        "colab_type": "code",
        "colab": {}
      },
      "source": [
        "#Chamando a função na variável\n",
        "lista_teste = cria_dados_teste('palavras.txt')"
      ],
      "execution_count": 39,
      "outputs": []
    },
    {
      "cell_type": "code",
      "metadata": {
        "id": "gbXB0W8LXdH0",
        "colab_type": "code",
        "colab": {
          "base_uri": "https://localhost:8080/",
          "height": 1000
        },
        "outputId": "a3224bfe-ae1c-42aa-c0cb-d1b4a04d322f"
      },
      "source": [
        "#visualizando a variável\n",
        "lista_teste"
      ],
      "execution_count": 40,
      "outputs": [
        {
          "output_type": "execute_result",
          "data": {
            "text/plain": [
              "[('podemos', 'pyodemos'),\n",
              " ('esse', 'esje'),\n",
              " ('já', 'jrá'),\n",
              " ('nosso', 'nossov'),\n",
              " ('são', 'sãêo'),\n",
              " ('dos', 'dosa'),\n",
              " ('muito', 'muifo'),\n",
              " ('imagem', 'iômagem'),\n",
              " ('sua', 'ósua'),\n",
              " ('também', 'tambéùm'),\n",
              " ('ele', 'eme'),\n",
              " ('fazer', 'èazer'),\n",
              " ('temos', 'temfs'),\n",
              " ('essa', 'eàssa'),\n",
              " ('quando', 'quaôdo'),\n",
              " ('vamos', 'vamvos'),\n",
              " ('sobre', 'hsobre'),\n",
              " ('java', 'sjava'),\n",
              " ('das', 'daõs'),\n",
              " ('agora', 'agorah'),\n",
              " ('está', 'eòtá'),\n",
              " ('cada', 'céda'),\n",
              " ('mesmo', 'zmesmo'),\n",
              " ('nos', 'noâ'),\n",
              " ('forma', 'fobma'),\n",
              " ('seja', 'sejéa'),\n",
              " ('então', 'enêão'),\n",
              " ('criar', 'èriar'),\n",
              " ('código', 'cóeigo'),\n",
              " ('caso', 'casío'),\n",
              " ('exemplo', 'áexemplo'),\n",
              " ('tem', 'tĩem'),\n",
              " ('usuário', 'usuárôio'),\n",
              " ('dados', 'dfados'),\n",
              " ('python', 'pgthon'),\n",
              " ('nossa', 'nossah'),\n",
              " ('além', 'alémè'),\n",
              " ('assim', 'asõim'),\n",
              " ('ter', 'teb'),\n",
              " ('até', 'atĩ'),\n",
              " ('bem', 'âem'),\n",
              " ('design', 'desigen'),\n",
              " ('trabalho', 'trabalàho'),\n",
              " ('foi', 'foo'),\n",
              " ('apenas', 'apenaũ'),\n",
              " ('empresa', 'empresà'),\n",
              " ('valor', 'valíor'),\n",
              " ('será', 'serr'),\n",
              " ('entre', 'entke'),\n",
              " ('método', 'méqodo'),\n",
              " ('precisamos', 'precisamops'),\n",
              " ('ainda', 'ainàa'),\n",
              " ('vai', 'van'),\n",
              " ('conteúdo', 'ûconteúdo'),\n",
              " ('seus', 'çeus'),\n",
              " ('eu', 'eû'),\n",
              " ('todos', 'todtos'),\n",
              " ('tempo', 'temeo'),\n",
              " ('sempre', 'semre'),\n",
              " ('qual', 'quakl'),\n",
              " ('ela', 'elaá'),\n",
              " ('só', 'síó'),\n",
              " ('utilizar', 'utiqizar'),\n",
              " ('projeto', 'prhojeto'),\n",
              " ('site', 'siàe'),\n",
              " ('sem', 'seém'),\n",
              " ('pelo', 'peln'),\n",
              " ('alura', 'aléra'),\n",
              " ('dia', 'tdia'),\n",
              " ('tudo', 'tuúo'),\n",
              " ('podemos', 'kpodemos'),\n",
              " ('esse', 'eẽsse'),\n",
              " ('já', 'jé'),\n",
              " ('nosso', 'nçosso'),\n",
              " ('são', 'sãô'),\n",
              " ('dos', 'odos'),\n",
              " ('muito', 'tuito'),\n",
              " ('imagem', 'imõgem'),\n",
              " ('sua', 'siua'),\n",
              " ('também', 'tamvbém'),\n",
              " ('ele', 'elpe'),\n",
              " ('fazer', 'façzer'),\n",
              " ('temos', 'teos'),\n",
              " ('essa', 'eũsa'),\n",
              " ('quando', 'quaìdo'),\n",
              " ('vamos', 'vjmos'),\n",
              " ('sobre', 'sxobre'),\n",
              " ('java', 'jkva'),\n",
              " ('das', 'dms'),\n",
              " ('agora', 'agtora'),\n",
              " ('está', 'esútá'),\n",
              " ('cada', 'cava'),\n",
              " ('mesmo', 'medmo'),\n",
              " ('nos', 'ános'),\n",
              " ('forma', 'forûa'),\n",
              " ('seja', 'smeja'),\n",
              " ('então', 'enjtão'),\n",
              " ('criar', 'criôar'),\n",
              " ('código', 'cóàigo'),\n",
              " ('caso', 'èaso'),\n",
              " ('exemplo', 'exbemplo'),\n",
              " ('tem', 'túem'),\n",
              " ('usuário', 'usuárin'),\n",
              " ('dados', 'daáos'),\n",
              " ('python', 'pythoçn'),\n",
              " ('nossa', 'nossk'),\n",
              " ('além', 'âlém'),\n",
              " ('assim', 'aóssim'),\n",
              " ('ter', 'tãer'),\n",
              " ('até', 'vté'),\n",
              " ('bem', 'búm'),\n",
              " ('design', 'íesign'),\n",
              " ('trabalho', 'trabèalho'),\n",
              " ('foi', 'kfoi'),\n",
              " ('apenas', 'aapenas'),\n",
              " ('empresa', 'pmpresa'),\n",
              " ('valor', 'valoqr'),\n",
              " ('será', 'sçerá'),\n",
              " ('entre', 'entró'),\n",
              " ('método', 'nétodo'),\n",
              " ('precisamos', 'prefcisamos'),\n",
              " ('ainda', 'sainda'),\n",
              " ('vai', 'uai'),\n",
              " ('conteúdo', 'cĩonteúdo'),\n",
              " ('seus', 'sâus'),\n",
              " ('eu', 'ìeu'),\n",
              " ('todos', 'todás'),\n",
              " ('tempo', 'utempo'),\n",
              " ('sempre', 'sempce'),\n",
              " ('qual', 'fual'),\n",
              " ('ela', 'elal'),\n",
              " ('só', 'skó'),\n",
              " ('utilizar', 'utilĩzar'),\n",
              " ('projeto', 'proójeto'),\n",
              " ('site', 'isite'),\n",
              " ('sem', 'secm'),\n",
              " ('pelo', 'pẽlo'),\n",
              " ('alura', 'aluéa'),\n",
              " ('dia', 'dil'),\n",
              " ('tudo', 'tudy'),\n",
              " ('ela', 'qelay'),\n",
              " ('só', 'sód'),\n",
              " ('utilizar', 'dtilizacr'),\n",
              " ('projeto', 'bprojõto'),\n",
              " ('site', 'ysiteo'),\n",
              " ('sem', 'sõêm'),\n",
              " ('pelo', 'peàli'),\n",
              " ('alura', 'asuraó'),\n",
              " ('dia', 'deiìa'),\n",
              " ('tudo', 'tuĩdoì'),\n",
              " ('ela', 'eúaa'),\n",
              " ('só', 'ró'),\n",
              " ('utilizar', 'utilizẽaçr'),\n",
              " ('projeto', 'prêjetó'),\n",
              " ('site', 'sqiqte'),\n",
              " ('sem', 'sũexm'),\n",
              " ('pelo', 'pçlxo'),\n",
              " ('alura', 'uluraa'),\n",
              " ('dia', 'dĩaz'),\n",
              " ('tudo', 'kzudo'),\n",
              " ('corretor', 'correptor'),\n",
              " ('tática', 'trtica'),\n",
              " ('empoderamento', 'ewpoderamento'),\n",
              " ('linux', 'lifux'),\n",
              " ('cachorro', 'cachoçro'),\n",
              " ('gato', 'îgato'),\n",
              " ('cavalo', 'cakvalo'),\n",
              " ('relógio', 'relógiuo'),\n",
              " ('canela', 'canelac'),\n",
              " ('tênis', 'tênisy'),\n",
              " ('ansiosa', 'anciosa'),\n",
              " ('ansiosa', 'ancciosa'),\n",
              " ('ansiosa', 'ansioa'),\n",
              " ('empoderamento', 'empoderamento'),\n",
              " ('asterisco', 'asterístico'),\n",
              " ('gratuito', 'gratuíto'),\n",
              " ('entretido', 'entertido'),\n",
              " ('ritmo', 'ritimo'),\n",
              " ('idiota', 'indiota'),\n",
              " ('tomara', 'tomare'),\n",
              " ('seja', 'seje'),\n",
              " ('prevalecer', 'provalecer'),\n",
              " ('esteja', 'esteje'),\n",
              " ('mendigo', 'mindigo'),\n",
              " ('cérebro', 'célebro'),\n",
              " ('perturbar', 'pertubar')]"
            ]
          },
          "metadata": {
            "tags": []
          },
          "execution_count": 40
        }
      ]
    },
    {
      "cell_type": "markdown",
      "metadata": {
        "id": "ameeRIvAX0ch",
        "colab_type": "text"
      },
      "source": [
        "### Avaliando o corretor"
      ]
    },
    {
      "cell_type": "code",
      "metadata": {
        "id": "cAULZg-rp29k",
        "colab_type": "code",
        "colab": {}
      },
      "source": [
        "#criando uma função para avaliar quantas das palavras da minha lista o corretor em sua situação atual consegue corrigir\n",
        "def avaliador(testes):\n",
        "  numero_palavras = len(testes) #o tamanho da lista de testes\n",
        "  acertou = 0 #um contador, começando com zero\n",
        "  #iterar pela lista aplicando um corretor e comparando com a palavra correta\n",
        "  for correta,errada in testes:\n",
        "    palavra_corrigida = corretor(errada) #aplica o corretor à palavra incorreta\n",
        "    if palavra_corrigida == correta: #compara com a palavra correta\n",
        "      acertou+=1 #acrescenta ao contador\n",
        "  taxa_acerto = round(acertou*100 / numero_palavras, 2) #calcula a taxa de acerto\n",
        "  print(f' O corretor acertou {taxa_acerto}% de {numero_palavras} palavras')"
      ],
      "execution_count": 41,
      "outputs": []
    },
    {
      "cell_type": "code",
      "metadata": {
        "id": "Jet1Pn9AY1t2",
        "colab_type": "code",
        "colab": {
          "base_uri": "https://localhost:8080/",
          "height": 34
        },
        "outputId": "564208cd-1125-4f49-e889-f6aaa2c50487"
      },
      "source": [
        "#neste primeiro momento, o corretor não possui uma boa taxa de acerto\n",
        "avaliador(lista_teste)"
      ],
      "execution_count": 42,
      "outputs": [
        {
          "output_type": "stream",
          "text": [
            " O corretor acertou 1.08% de 186 palavras\n"
          ],
          "name": "stdout"
        }
      ]
    },
    {
      "cell_type": "markdown",
      "metadata": {
        "id": "oCLqIkTcbTIC",
        "colab_type": "text"
      },
      "source": [
        "## AULA 05 - INCREMENTANDO O CORRETOR"
      ]
    },
    {
      "cell_type": "markdown",
      "metadata": {
        "id": "W3kPS5Cwb3t7",
        "colab_type": "text"
      },
      "source": [
        "### Criando uma função para quando digitamos letras a mais"
      ]
    },
    {
      "cell_type": "code",
      "metadata": {
        "id": "GbtWyqxuc0h2",
        "colab_type": "code",
        "colab": {}
      },
      "source": [
        "#esta função deleta caracteres e cria novas palavras sem eles\n",
        "def deletando_caracteres(fatias):\n",
        "  novas_palavras = []\n",
        "  for E,D in fatias:\n",
        "      novas_palavras.append(E + D[1:]) #Esquerdo + Direito[1:] - eliminando o caracter de índice zero\n",
        "  return novas_palavras"
      ],
      "execution_count": 43,
      "outputs": []
    },
    {
      "cell_type": "code",
      "metadata": {
        "id": "du5cvXbBZ3Lb",
        "colab_type": "code",
        "colab": {}
      },
      "source": [
        " #redefinindo a função gerador_palavras\n",
        " def gerador_palavras(palavra):\n",
        "  fatias = []\n",
        "  for i in range(len(palavra) +1): #incluimos o um para pegar a palavra completa no lado esquerdo\n",
        "    fatias.append((palavra[:i], palavra[i:])) #adicionando tuplas na lista fatias\n",
        "  palavras_geradas = insere_letras(fatias) #usando o primeiro algoritmo para implementar\n",
        "  palavras_geradas += deletando_caracteres(fatias) #concatenando a lista com o segundo algoritmo de correção\n",
        "  return palavras_geradas"
      ],
      "execution_count": 44,
      "outputs": []
    },
    {
      "cell_type": "code",
      "metadata": {
        "id": "xBZaL1SggGzm",
        "colab_type": "code",
        "colab": {
          "base_uri": "https://localhost:8080/",
          "height": 54
        },
        "outputId": "bd50f30d-9a51-4a8b-a51d-4b9bed3f00b8"
      },
      "source": [
        "print(gerador_palavras('lóigica'))"
      ],
      "execution_count": 45,
      "outputs": [
        {
          "output_type": "stream",
          "text": [
            "['alóigica', 'blóigica', 'clóigica', 'dlóigica', 'elóigica', 'flóigica', 'glóigica', 'hlóigica', 'ilóigica', 'hlóigica', 'klóigica', 'llóigica', 'mlóigica', 'nlóigica', 'olóigica', 'plóigica', 'qlóigica', 'rlóigica', 'slóigica', 'tlóigica', 'ulóigica', 'vlóigica', 'xlóigica', 'ylóigica', 'zlóigica', 'álóigica', 'âlóigica', 'àlóigica', 'ãlóigica', 'élóigica', 'êlóigica', 'èlóigica', 'ẽlóigica', 'ílóigica', 'îlóigica', 'ìlóigica', 'ĩlóigica', 'ólóigica', 'ôlóigica', 'õlóigica', 'òlóigica', 'úlóigica', 'ûlóigica', 'ùlóigica', 'ũlóigica', 'ñlóigica', 'çlóigica', 'laóigica', 'lbóigica', 'lcóigica', 'ldóigica', 'leóigica', 'lfóigica', 'lgóigica', 'lhóigica', 'lióigica', 'lhóigica', 'lkóigica', 'llóigica', 'lmóigica', 'lnóigica', 'loóigica', 'lpóigica', 'lqóigica', 'lróigica', 'lsóigica', 'ltóigica', 'luóigica', 'lvóigica', 'lxóigica', 'lyóigica', 'lzóigica', 'láóigica', 'lâóigica', 'làóigica', 'lãóigica', 'léóigica', 'lêóigica', 'lèóigica', 'lẽóigica', 'líóigica', 'lîóigica', 'lìóigica', 'lĩóigica', 'lóóigica', 'lôóigica', 'lõóigica', 'lòóigica', 'lúóigica', 'lûóigica', 'lùóigica', 'lũóigica', 'lñóigica', 'lçóigica', 'lóaigica', 'lóbigica', 'lócigica', 'lódigica', 'lóeigica', 'lófigica', 'lógigica', 'lóhigica', 'lóiigica', 'lóhigica', 'lókigica', 'lóligica', 'lómigica', 'lónigica', 'lóoigica', 'lópigica', 'lóqigica', 'lórigica', 'lósigica', 'lótigica', 'lóuigica', 'lóvigica', 'lóxigica', 'lóyigica', 'lózigica', 'lóáigica', 'lóâigica', 'lóàigica', 'lóãigica', 'lóéigica', 'lóêigica', 'lóèigica', 'lóẽigica', 'lóíigica', 'lóîigica', 'lóìigica', 'lóĩigica', 'lóóigica', 'lóôigica', 'lóõigica', 'lóòigica', 'lóúigica', 'lóûigica', 'lóùigica', 'lóũigica', 'lóñigica', 'lóçigica', 'lóiagica', 'lóibgica', 'lóicgica', 'lóidgica', 'lóiegica', 'lóifgica', 'lóiggica', 'lóihgica', 'lóiigica', 'lóihgica', 'lóikgica', 'lóilgica', 'lóimgica', 'lóingica', 'lóiogica', 'lóipgica', 'lóiqgica', 'lóirgica', 'lóisgica', 'lóitgica', 'lóiugica', 'lóivgica', 'lóixgica', 'lóiygica', 'lóizgica', 'lóiágica', 'lóiâgica', 'lóiàgica', 'lóiãgica', 'lóiégica', 'lóiêgica', 'lóiègica', 'lóiẽgica', 'lóiígica', 'lóiîgica', 'lóiìgica', 'lóiĩgica', 'lóiógica', 'lóiôgica', 'lóiõgica', 'lóiògica', 'lóiúgica', 'lóiûgica', 'lóiùgica', 'lóiũgica', 'lóiñgica', 'lóiçgica', 'lóigaica', 'lóigbica', 'lóigcica', 'lóigdica', 'lóigeica', 'lóigfica', 'lóiggica', 'lóighica', 'lóigiica', 'lóighica', 'lóigkica', 'lóiglica', 'lóigmica', 'lóignica', 'lóigoica', 'lóigpica', 'lóigqica', 'lóigrica', 'lóigsica', 'lóigtica', 'lóiguica', 'lóigvica', 'lóigxica', 'lóigyica', 'lóigzica', 'lóigáica', 'lóigâica', 'lóigàica', 'lóigãica', 'lóigéica', 'lóigêica', 'lóigèica', 'lóigẽica', 'lóigíica', 'lóigîica', 'lóigìica', 'lóigĩica', 'lóigóica', 'lóigôica', 'lóigõica', 'lóigòica', 'lóigúica', 'lóigûica', 'lóigùica', 'lóigũica', 'lóigñica', 'lóigçica', 'lóigiaca', 'lóigibca', 'lóigicca', 'lóigidca', 'lóigieca', 'lóigifca', 'lóigigca', 'lóigihca', 'lóigiica', 'lóigihca', 'lóigikca', 'lóigilca', 'lóigimca', 'lóiginca', 'lóigioca', 'lóigipca', 'lóigiqca', 'lóigirca', 'lóigisca', 'lóigitca', 'lóigiuca', 'lóigivca', 'lóigixca', 'lóigiyca', 'lóigizca', 'lóigiáca', 'lóigiâca', 'lóigiàca', 'lóigiãca', 'lóigiéca', 'lóigiêca', 'lóigièca', 'lóigiẽca', 'lóigiíca', 'lóigiîca', 'lóigiìca', 'lóigiĩca', 'lóigióca', 'lóigiôca', 'lóigiõca', 'lóigiòca', 'lóigiúca', 'lóigiûca', 'lóigiùca', 'lóigiũca', 'lóigiñca', 'lóigiçca', 'lóigicaa', 'lóigicba', 'lóigicca', 'lóigicda', 'lóigicea', 'lóigicfa', 'lóigicga', 'lóigicha', 'lóigicia', 'lóigicha', 'lóigicka', 'lóigicla', 'lóigicma', 'lóigicna', 'lóigicoa', 'lóigicpa', 'lóigicqa', 'lóigicra', 'lóigicsa', 'lóigicta', 'lóigicua', 'lóigicva', 'lóigicxa', 'lóigicya', 'lóigicza', 'lóigicáa', 'lóigicâa', 'lóigicàa', 'lóigicãa', 'lóigicéa', 'lóigicêa', 'lóigicèa', 'lóigicẽa', 'lóigicía', 'lóigicîa', 'lóigicìa', 'lóigicĩa', 'lóigicóa', 'lóigicôa', 'lóigicõa', 'lóigicòa', 'lóigicúa', 'lóigicûa', 'lóigicùa', 'lóigicũa', 'lóigicña', 'lóigicça', 'lóigicaa', 'lóigicab', 'lóigicac', 'lóigicad', 'lóigicae', 'lóigicaf', 'lóigicag', 'lóigicah', 'lóigicai', 'lóigicah', 'lóigicak', 'lóigical', 'lóigicam', 'lóigican', 'lóigicao', 'lóigicap', 'lóigicaq', 'lóigicar', 'lóigicas', 'lóigicat', 'lóigicau', 'lóigicav', 'lóigicax', 'lóigicay', 'lóigicaz', 'lóigicaá', 'lóigicaâ', 'lóigicaà', 'lóigicaã', 'lóigicaé', 'lóigicaê', 'lóigicaè', 'lóigicaẽ', 'lóigicaí', 'lóigicaî', 'lóigicaì', 'lóigicaĩ', 'lóigicaó', 'lóigicaô', 'lóigicaõ', 'lóigicaò', 'lóigicaú', 'lóigicaû', 'lóigicaù', 'lóigicaũ', 'lóigicañ', 'lóigicaç', 'óigica', 'ligica', 'lógica', 'lóiica', 'lóigca', 'lóigia', 'lóigic', 'lóigica']\n"
          ],
          "name": "stdout"
        }
      ]
    },
    {
      "cell_type": "code",
      "metadata": {
        "id": "lEin_ZjgdNkC",
        "colab_type": "code",
        "colab": {
          "base_uri": "https://localhost:8080/",
          "height": 35
        },
        "outputId": "daae195d-c9d3-4a0d-92fb-75515b1dcb1a"
      },
      "source": [
        "#a função corretor não precisa ser alterada, pois ele depende da função gerador de palavras para gerar o input\n",
        "corretor('lóigica')"
      ],
      "execution_count": 46,
      "outputs": [
        {
          "output_type": "execute_result",
          "data": {
            "application/vnd.google.colaboratory.intrinsic+json": {
              "type": "string"
            },
            "text/plain": [
              "'lógica'"
            ]
          },
          "metadata": {
            "tags": []
          },
          "execution_count": 46
        }
      ]
    },
    {
      "cell_type": "code",
      "metadata": {
        "id": "Sq2ePihhd_lK",
        "colab_type": "code",
        "colab": {
          "base_uri": "https://localhost:8080/",
          "height": 34
        },
        "outputId": "44b41247-e4bd-44dc-b08e-b7b853c65afa"
      },
      "source": [
        "#testando novamente nosso corretor\n",
        "avaliador(lista_teste)"
      ],
      "execution_count": 47,
      "outputs": [
        {
          "output_type": "stream",
          "text": [
            " O corretor acertou 41.4% de 186 palavras\n"
          ],
          "name": "stdout"
        }
      ]
    },
    {
      "cell_type": "markdown",
      "metadata": {
        "id": "eHR_NT6NhLkD",
        "colab_type": "text"
      },
      "source": [
        "## AULA 06  - CORRIGINDO OS PRINCIPAIS ERROS DE DIGITAÇÃO"
      ]
    },
    {
      "cell_type": "markdown",
      "metadata": {
        "id": "fiOoNHEQnGjV",
        "colab_type": "text"
      },
      "source": [
        "### Trocando letras"
      ]
    },
    {
      "cell_type": "code",
      "metadata": {
        "id": "ItYJ17g1ggEG",
        "colab_type": "code",
        "colab": {}
      },
      "source": [
        "#Nosso algoritmo agora é uma junção entre o insere letra e o deletando caracteres, usando a fórmula abaixo\n",
        "#Esquerdo + letra + Direito[1:]\n",
        "def troca_letras(fatias):\n",
        "  novas_palavras = []\n",
        "  #criando as letras\n",
        "  letras = 'abcdefghihklmnopqrstuvxyzáâàãéêèẽíîìĩóôõòúûùũñç'\n",
        "  #operação para criar novas palavras\n",
        "  for E,D in fatias:\n",
        "    for letra in letras:\n",
        "      novas_palavras.append(E + letra + D[1:]) #concatenando o lado esquerdo, a letra e o lado direito menos a primeira letra das fatias\n",
        "  return novas_palavras"
      ],
      "execution_count": 48,
      "outputs": []
    },
    {
      "cell_type": "code",
      "metadata": {
        "id": "3vFHV_CIiybE",
        "colab_type": "code",
        "colab": {}
      },
      "source": [
        " #redefinindo o gerador_palavras\n",
        " def gerador_palavras(palavra):\n",
        "  fatias = []\n",
        "  for i in range(len(palavra) +1): #incluimos o um para pegar a palavra completa no lado esquerdo\n",
        "    fatias.append((palavra[:i], palavra[i:])) #adicionando tuplas na lista fatias\n",
        "  palavras_geradas = insere_letras(fatias) #usando o primeiro algoritmo para implementar\n",
        "  palavras_geradas += deletando_caracteres(fatias) #concatenando a lista com o segundo algoritmo de correção\n",
        "  palavras_geradas += troca_letras(fatias)\n",
        "  return palavras_geradas"
      ],
      "execution_count": 49,
      "outputs": []
    },
    {
      "cell_type": "code",
      "metadata": {
        "id": "wz3UHRuwi7do",
        "colab_type": "code",
        "colab": {
          "base_uri": "https://localhost:8080/",
          "height": 54
        },
        "outputId": "3a2833fe-0c61-482a-e04d-144a60536197"
      },
      "source": [
        "print(gerador_palavras('ligica'))"
      ],
      "execution_count": 50,
      "outputs": [
        {
          "output_type": "stream",
          "text": [
            "['aligica', 'bligica', 'cligica', 'dligica', 'eligica', 'fligica', 'gligica', 'hligica', 'iligica', 'hligica', 'kligica', 'lligica', 'mligica', 'nligica', 'oligica', 'pligica', 'qligica', 'rligica', 'sligica', 'tligica', 'uligica', 'vligica', 'xligica', 'yligica', 'zligica', 'áligica', 'âligica', 'àligica', 'ãligica', 'éligica', 'êligica', 'èligica', 'ẽligica', 'íligica', 'îligica', 'ìligica', 'ĩligica', 'óligica', 'ôligica', 'õligica', 'òligica', 'úligica', 'ûligica', 'ùligica', 'ũligica', 'ñligica', 'çligica', 'laigica', 'lbigica', 'lcigica', 'ldigica', 'leigica', 'lfigica', 'lgigica', 'lhigica', 'liigica', 'lhigica', 'lkigica', 'lligica', 'lmigica', 'lnigica', 'loigica', 'lpigica', 'lqigica', 'lrigica', 'lsigica', 'ltigica', 'luigica', 'lvigica', 'lxigica', 'lyigica', 'lzigica', 'láigica', 'lâigica', 'làigica', 'lãigica', 'léigica', 'lêigica', 'lèigica', 'lẽigica', 'líigica', 'lîigica', 'lìigica', 'lĩigica', 'lóigica', 'lôigica', 'lõigica', 'lòigica', 'lúigica', 'lûigica', 'lùigica', 'lũigica', 'lñigica', 'lçigica', 'liagica', 'libgica', 'licgica', 'lidgica', 'liegica', 'lifgica', 'liggica', 'lihgica', 'liigica', 'lihgica', 'likgica', 'lilgica', 'limgica', 'lingica', 'liogica', 'lipgica', 'liqgica', 'lirgica', 'lisgica', 'litgica', 'liugica', 'livgica', 'lixgica', 'liygica', 'lizgica', 'liágica', 'liâgica', 'liàgica', 'liãgica', 'liégica', 'liêgica', 'liègica', 'liẽgica', 'liígica', 'liîgica', 'liìgica', 'liĩgica', 'liógica', 'liôgica', 'liõgica', 'liògica', 'liúgica', 'liûgica', 'liùgica', 'liũgica', 'liñgica', 'liçgica', 'ligaica', 'ligbica', 'ligcica', 'ligdica', 'ligeica', 'ligfica', 'liggica', 'lighica', 'ligiica', 'lighica', 'ligkica', 'liglica', 'ligmica', 'lignica', 'ligoica', 'ligpica', 'ligqica', 'ligrica', 'ligsica', 'ligtica', 'liguica', 'ligvica', 'ligxica', 'ligyica', 'ligzica', 'ligáica', 'ligâica', 'ligàica', 'ligãica', 'ligéica', 'ligêica', 'ligèica', 'ligẽica', 'ligíica', 'ligîica', 'ligìica', 'ligĩica', 'ligóica', 'ligôica', 'ligõica', 'ligòica', 'ligúica', 'ligûica', 'ligùica', 'ligũica', 'ligñica', 'ligçica', 'ligiaca', 'ligibca', 'ligicca', 'ligidca', 'ligieca', 'ligifca', 'ligigca', 'ligihca', 'ligiica', 'ligihca', 'ligikca', 'ligilca', 'ligimca', 'liginca', 'ligioca', 'ligipca', 'ligiqca', 'ligirca', 'ligisca', 'ligitca', 'ligiuca', 'ligivca', 'ligixca', 'ligiyca', 'ligizca', 'ligiáca', 'ligiâca', 'ligiàca', 'ligiãca', 'ligiéca', 'ligiêca', 'ligièca', 'ligiẽca', 'ligiíca', 'ligiîca', 'ligiìca', 'ligiĩca', 'ligióca', 'ligiôca', 'ligiõca', 'ligiòca', 'ligiúca', 'ligiûca', 'ligiùca', 'ligiũca', 'ligiñca', 'ligiçca', 'ligicaa', 'ligicba', 'ligicca', 'ligicda', 'ligicea', 'ligicfa', 'ligicga', 'ligicha', 'ligicia', 'ligicha', 'ligicka', 'ligicla', 'ligicma', 'ligicna', 'ligicoa', 'ligicpa', 'ligicqa', 'ligicra', 'ligicsa', 'ligicta', 'ligicua', 'ligicva', 'ligicxa', 'ligicya', 'ligicza', 'ligicáa', 'ligicâa', 'ligicàa', 'ligicãa', 'ligicéa', 'ligicêa', 'ligicèa', 'ligicẽa', 'ligicía', 'ligicîa', 'ligicìa', 'ligicĩa', 'ligicóa', 'ligicôa', 'ligicõa', 'ligicòa', 'ligicúa', 'ligicûa', 'ligicùa', 'ligicũa', 'ligicña', 'ligicça', 'ligicaa', 'ligicab', 'ligicac', 'ligicad', 'ligicae', 'ligicaf', 'ligicag', 'ligicah', 'ligicai', 'ligicah', 'ligicak', 'ligical', 'ligicam', 'ligican', 'ligicao', 'ligicap', 'ligicaq', 'ligicar', 'ligicas', 'ligicat', 'ligicau', 'ligicav', 'ligicax', 'ligicay', 'ligicaz', 'ligicaá', 'ligicaâ', 'ligicaà', 'ligicaã', 'ligicaé', 'ligicaê', 'ligicaè', 'ligicaẽ', 'ligicaí', 'ligicaî', 'ligicaì', 'ligicaĩ', 'ligicaó', 'ligicaô', 'ligicaõ', 'ligicaò', 'ligicaú', 'ligicaû', 'ligicaù', 'ligicaũ', 'ligicañ', 'ligicaç', 'igica', 'lgica', 'liica', 'ligca', 'ligia', 'ligic', 'ligica', 'aigica', 'bigica', 'cigica', 'digica', 'eigica', 'figica', 'gigica', 'higica', 'iigica', 'higica', 'kigica', 'ligica', 'migica', 'nigica', 'oigica', 'pigica', 'qigica', 'rigica', 'sigica', 'tigica', 'uigica', 'vigica', 'xigica', 'yigica', 'zigica', 'áigica', 'âigica', 'àigica', 'ãigica', 'éigica', 'êigica', 'èigica', 'ẽigica', 'íigica', 'îigica', 'ìigica', 'ĩigica', 'óigica', 'ôigica', 'õigica', 'òigica', 'úigica', 'ûigica', 'ùigica', 'ũigica', 'ñigica', 'çigica', 'lagica', 'lbgica', 'lcgica', 'ldgica', 'legica', 'lfgica', 'lggica', 'lhgica', 'ligica', 'lhgica', 'lkgica', 'llgica', 'lmgica', 'lngica', 'logica', 'lpgica', 'lqgica', 'lrgica', 'lsgica', 'ltgica', 'lugica', 'lvgica', 'lxgica', 'lygica', 'lzgica', 'lágica', 'lâgica', 'làgica', 'lãgica', 'légica', 'lêgica', 'lègica', 'lẽgica', 'lígica', 'lîgica', 'lìgica', 'lĩgica', 'lógica', 'lôgica', 'lõgica', 'lògica', 'lúgica', 'lûgica', 'lùgica', 'lũgica', 'lñgica', 'lçgica', 'liaica', 'libica', 'licica', 'lidica', 'lieica', 'lifica', 'ligica', 'lihica', 'liiica', 'lihica', 'likica', 'lilica', 'limica', 'linica', 'lioica', 'lipica', 'liqica', 'lirica', 'lisica', 'litica', 'liuica', 'livica', 'lixica', 'liyica', 'lizica', 'liáica', 'liâica', 'liàica', 'liãica', 'liéica', 'liêica', 'lièica', 'liẽica', 'liíica', 'liîica', 'liìica', 'liĩica', 'lióica', 'liôica', 'liõica', 'liòica', 'liúica', 'liûica', 'liùica', 'liũica', 'liñica', 'liçica', 'ligaca', 'ligbca', 'ligcca', 'ligdca', 'ligeca', 'ligfca', 'liggca', 'lighca', 'ligica', 'lighca', 'ligkca', 'liglca', 'ligmca', 'lignca', 'ligoca', 'ligpca', 'ligqca', 'ligrca', 'ligsca', 'ligtca', 'liguca', 'ligvca', 'ligxca', 'ligyca', 'ligzca', 'ligáca', 'ligâca', 'ligàca', 'ligãca', 'ligéca', 'ligêca', 'ligèca', 'ligẽca', 'ligíca', 'ligîca', 'ligìca', 'ligĩca', 'ligóca', 'ligôca', 'ligõca', 'ligòca', 'ligúca', 'ligûca', 'ligùca', 'ligũca', 'ligñca', 'ligçca', 'ligiaa', 'ligiba', 'ligica', 'ligida', 'ligiea', 'ligifa', 'ligiga', 'ligiha', 'ligiia', 'ligiha', 'ligika', 'ligila', 'ligima', 'ligina', 'ligioa', 'ligipa', 'ligiqa', 'ligira', 'ligisa', 'ligita', 'ligiua', 'ligiva', 'ligixa', 'ligiya', 'ligiza', 'ligiáa', 'ligiâa', 'ligiàa', 'ligiãa', 'ligiéa', 'ligiêa', 'ligièa', 'ligiẽa', 'ligiía', 'ligiîa', 'ligiìa', 'ligiĩa', 'ligióa', 'ligiôa', 'ligiõa', 'ligiòa', 'ligiúa', 'ligiûa', 'ligiùa', 'ligiũa', 'ligiña', 'ligiça', 'ligica', 'ligicb', 'ligicc', 'ligicd', 'ligice', 'ligicf', 'ligicg', 'ligich', 'ligici', 'ligich', 'ligick', 'ligicl', 'ligicm', 'ligicn', 'ligico', 'ligicp', 'ligicq', 'ligicr', 'ligics', 'ligict', 'ligicu', 'ligicv', 'ligicx', 'ligicy', 'ligicz', 'ligicá', 'ligicâ', 'ligicà', 'ligicã', 'ligicé', 'ligicê', 'ligicè', 'ligicẽ', 'ligicí', 'ligicî', 'ligicì', 'ligicĩ', 'ligicó', 'ligicô', 'ligicõ', 'ligicò', 'ligicú', 'ligicû', 'ligicù', 'ligicũ', 'ligicñ', 'ligicç', 'ligicaa', 'ligicab', 'ligicac', 'ligicad', 'ligicae', 'ligicaf', 'ligicag', 'ligicah', 'ligicai', 'ligicah', 'ligicak', 'ligical', 'ligicam', 'ligican', 'ligicao', 'ligicap', 'ligicaq', 'ligicar', 'ligicas', 'ligicat', 'ligicau', 'ligicav', 'ligicax', 'ligicay', 'ligicaz', 'ligicaá', 'ligicaâ', 'ligicaà', 'ligicaã', 'ligicaé', 'ligicaê', 'ligicaè', 'ligicaẽ', 'ligicaí', 'ligicaî', 'ligicaì', 'ligicaĩ', 'ligicaó', 'ligicaô', 'ligicaõ', 'ligicaò', 'ligicaú', 'ligicaû', 'ligicaù', 'ligicaũ', 'ligicañ', 'ligicaç']\n"
          ],
          "name": "stdout"
        }
      ]
    },
    {
      "cell_type": "code",
      "metadata": {
        "id": "R32kK2kojDGn",
        "colab_type": "code",
        "colab": {
          "base_uri": "https://localhost:8080/",
          "height": 35
        },
        "outputId": "b6c73de0-2214-4121-bf7f-27cbdaadbd05"
      },
      "source": [
        "corretor('ligica')"
      ],
      "execution_count": 51,
      "outputs": [
        {
          "output_type": "execute_result",
          "data": {
            "application/vnd.google.colaboratory.intrinsic+json": {
              "type": "string"
            },
            "text/plain": [
              "'lógica'"
            ]
          },
          "metadata": {
            "tags": []
          },
          "execution_count": 51
        }
      ]
    },
    {
      "cell_type": "code",
      "metadata": {
        "id": "zZi_gwzFjMDH",
        "colab_type": "code",
        "colab": {
          "base_uri": "https://localhost:8080/",
          "height": 34
        },
        "outputId": "a65681c2-6627-4a64-fd52-76904868b967"
      },
      "source": [
        "avaliador(lista_teste)"
      ],
      "execution_count": 52,
      "outputs": [
        {
          "output_type": "stream",
          "text": [
            " O corretor acertou 76.88% de 186 palavras\n"
          ],
          "name": "stdout"
        }
      ]
    },
    {
      "cell_type": "markdown",
      "metadata": {
        "id": "DY2avtj7nEuh",
        "colab_type": "text"
      },
      "source": [
        "### Invertendo letras"
      ]
    },
    {
      "cell_type": "code",
      "metadata": {
        "id": "urcAdQsynOhh",
        "colab_type": "code",
        "colab": {}
      },
      "source": [
        "# Esquerdo + D[1:2] + D[:1] +D[2:]\n",
        "def inverte_letras(fatias):\n",
        "  novas_palavras = []\n",
        "  for E,D in fatias:\n",
        "    if len(D) > 1:\n",
        "      novas_palavras.append(E + D[1:2] + D[:1] + D[2:]) #Esquerdo + Direito[1:2] + Direito[:1] +Direito[2:]\n",
        "  return novas_palavras"
      ],
      "execution_count": 53,
      "outputs": []
    },
    {
      "cell_type": "code",
      "metadata": {
        "id": "kgegYK00pK56",
        "colab_type": "code",
        "colab": {}
      },
      "source": [
        " #redefinindo o gerador_palavras\n",
        " def gerador_palavras(palavra):\n",
        "  fatias = []\n",
        "  for i in range(len(palavra) +1): #incluimos o um para pegar a palavra completa no lado esquerdo\n",
        "    fatias.append((palavra[:i], palavra[i:])) #adicionando tuplas na lista fatias\n",
        "  palavras_geradas = insere_letras(fatias) #usando o primeiro algoritmo para implementar\n",
        "  palavras_geradas += deletando_caracteres(fatias) #concatenando a lista com o segundo algoritmo de correção\n",
        "  palavras_geradas += troca_letras(fatias)\n",
        "  palavras_geradas += inverte_letras(fatias)\n",
        "  return palavras_geradas"
      ],
      "execution_count": 54,
      "outputs": []
    },
    {
      "cell_type": "code",
      "metadata": {
        "id": "1R2WzKHatNGw",
        "colab_type": "code",
        "colab": {
          "base_uri": "https://localhost:8080/",
          "height": 54
        },
        "outputId": "c6ab5fca-39e3-4513-c569-6fe05ca359c2"
      },
      "source": [
        "print(gerador_palavras('lgóica'))"
      ],
      "execution_count": 55,
      "outputs": [
        {
          "output_type": "stream",
          "text": [
            "['algóica', 'blgóica', 'clgóica', 'dlgóica', 'elgóica', 'flgóica', 'glgóica', 'hlgóica', 'ilgóica', 'hlgóica', 'klgóica', 'llgóica', 'mlgóica', 'nlgóica', 'olgóica', 'plgóica', 'qlgóica', 'rlgóica', 'slgóica', 'tlgóica', 'ulgóica', 'vlgóica', 'xlgóica', 'ylgóica', 'zlgóica', 'álgóica', 'âlgóica', 'àlgóica', 'ãlgóica', 'élgóica', 'êlgóica', 'èlgóica', 'ẽlgóica', 'ílgóica', 'îlgóica', 'ìlgóica', 'ĩlgóica', 'ólgóica', 'ôlgóica', 'õlgóica', 'òlgóica', 'úlgóica', 'ûlgóica', 'ùlgóica', 'ũlgóica', 'ñlgóica', 'çlgóica', 'lagóica', 'lbgóica', 'lcgóica', 'ldgóica', 'legóica', 'lfgóica', 'lggóica', 'lhgóica', 'ligóica', 'lhgóica', 'lkgóica', 'llgóica', 'lmgóica', 'lngóica', 'logóica', 'lpgóica', 'lqgóica', 'lrgóica', 'lsgóica', 'ltgóica', 'lugóica', 'lvgóica', 'lxgóica', 'lygóica', 'lzgóica', 'lágóica', 'lâgóica', 'làgóica', 'lãgóica', 'légóica', 'lêgóica', 'lègóica', 'lẽgóica', 'lígóica', 'lîgóica', 'lìgóica', 'lĩgóica', 'lógóica', 'lôgóica', 'lõgóica', 'lògóica', 'lúgóica', 'lûgóica', 'lùgóica', 'lũgóica', 'lñgóica', 'lçgóica', 'lgaóica', 'lgbóica', 'lgcóica', 'lgdóica', 'lgeóica', 'lgfóica', 'lggóica', 'lghóica', 'lgióica', 'lghóica', 'lgkóica', 'lglóica', 'lgmóica', 'lgnóica', 'lgoóica', 'lgpóica', 'lgqóica', 'lgróica', 'lgsóica', 'lgtóica', 'lguóica', 'lgvóica', 'lgxóica', 'lgyóica', 'lgzóica', 'lgáóica', 'lgâóica', 'lgàóica', 'lgãóica', 'lgéóica', 'lgêóica', 'lgèóica', 'lgẽóica', 'lgíóica', 'lgîóica', 'lgìóica', 'lgĩóica', 'lgóóica', 'lgôóica', 'lgõóica', 'lgòóica', 'lgúóica', 'lgûóica', 'lgùóica', 'lgũóica', 'lgñóica', 'lgçóica', 'lgóaica', 'lgóbica', 'lgócica', 'lgódica', 'lgóeica', 'lgófica', 'lgógica', 'lgóhica', 'lgóiica', 'lgóhica', 'lgókica', 'lgólica', 'lgómica', 'lgónica', 'lgóoica', 'lgópica', 'lgóqica', 'lgórica', 'lgósica', 'lgótica', 'lgóuica', 'lgóvica', 'lgóxica', 'lgóyica', 'lgózica', 'lgóáica', 'lgóâica', 'lgóàica', 'lgóãica', 'lgóéica', 'lgóêica', 'lgóèica', 'lgóẽica', 'lgóíica', 'lgóîica', 'lgóìica', 'lgóĩica', 'lgóóica', 'lgóôica', 'lgóõica', 'lgóòica', 'lgóúica', 'lgóûica', 'lgóùica', 'lgóũica', 'lgóñica', 'lgóçica', 'lgóiaca', 'lgóibca', 'lgóicca', 'lgóidca', 'lgóieca', 'lgóifca', 'lgóigca', 'lgóihca', 'lgóiica', 'lgóihca', 'lgóikca', 'lgóilca', 'lgóimca', 'lgóinca', 'lgóioca', 'lgóipca', 'lgóiqca', 'lgóirca', 'lgóisca', 'lgóitca', 'lgóiuca', 'lgóivca', 'lgóixca', 'lgóiyca', 'lgóizca', 'lgóiáca', 'lgóiâca', 'lgóiàca', 'lgóiãca', 'lgóiéca', 'lgóiêca', 'lgóièca', 'lgóiẽca', 'lgóiíca', 'lgóiîca', 'lgóiìca', 'lgóiĩca', 'lgóióca', 'lgóiôca', 'lgóiõca', 'lgóiòca', 'lgóiúca', 'lgóiûca', 'lgóiùca', 'lgóiũca', 'lgóiñca', 'lgóiçca', 'lgóicaa', 'lgóicba', 'lgóicca', 'lgóicda', 'lgóicea', 'lgóicfa', 'lgóicga', 'lgóicha', 'lgóicia', 'lgóicha', 'lgóicka', 'lgóicla', 'lgóicma', 'lgóicna', 'lgóicoa', 'lgóicpa', 'lgóicqa', 'lgóicra', 'lgóicsa', 'lgóicta', 'lgóicua', 'lgóicva', 'lgóicxa', 'lgóicya', 'lgóicza', 'lgóicáa', 'lgóicâa', 'lgóicàa', 'lgóicãa', 'lgóicéa', 'lgóicêa', 'lgóicèa', 'lgóicẽa', 'lgóicía', 'lgóicîa', 'lgóicìa', 'lgóicĩa', 'lgóicóa', 'lgóicôa', 'lgóicõa', 'lgóicòa', 'lgóicúa', 'lgóicûa', 'lgóicùa', 'lgóicũa', 'lgóicña', 'lgóicça', 'lgóicaa', 'lgóicab', 'lgóicac', 'lgóicad', 'lgóicae', 'lgóicaf', 'lgóicag', 'lgóicah', 'lgóicai', 'lgóicah', 'lgóicak', 'lgóical', 'lgóicam', 'lgóican', 'lgóicao', 'lgóicap', 'lgóicaq', 'lgóicar', 'lgóicas', 'lgóicat', 'lgóicau', 'lgóicav', 'lgóicax', 'lgóicay', 'lgóicaz', 'lgóicaá', 'lgóicaâ', 'lgóicaà', 'lgóicaã', 'lgóicaé', 'lgóicaê', 'lgóicaè', 'lgóicaẽ', 'lgóicaí', 'lgóicaî', 'lgóicaì', 'lgóicaĩ', 'lgóicaó', 'lgóicaô', 'lgóicaõ', 'lgóicaò', 'lgóicaú', 'lgóicaû', 'lgóicaù', 'lgóicaũ', 'lgóicañ', 'lgóicaç', 'góica', 'lóica', 'lgica', 'lgóca', 'lgóia', 'lgóic', 'lgóica', 'agóica', 'bgóica', 'cgóica', 'dgóica', 'egóica', 'fgóica', 'ggóica', 'hgóica', 'igóica', 'hgóica', 'kgóica', 'lgóica', 'mgóica', 'ngóica', 'ogóica', 'pgóica', 'qgóica', 'rgóica', 'sgóica', 'tgóica', 'ugóica', 'vgóica', 'xgóica', 'ygóica', 'zgóica', 'ágóica', 'âgóica', 'àgóica', 'ãgóica', 'égóica', 'êgóica', 'ègóica', 'ẽgóica', 'ígóica', 'îgóica', 'ìgóica', 'ĩgóica', 'ógóica', 'ôgóica', 'õgóica', 'ògóica', 'úgóica', 'ûgóica', 'ùgóica', 'ũgóica', 'ñgóica', 'çgóica', 'laóica', 'lbóica', 'lcóica', 'ldóica', 'leóica', 'lfóica', 'lgóica', 'lhóica', 'lióica', 'lhóica', 'lkóica', 'llóica', 'lmóica', 'lnóica', 'loóica', 'lpóica', 'lqóica', 'lróica', 'lsóica', 'ltóica', 'luóica', 'lvóica', 'lxóica', 'lyóica', 'lzóica', 'láóica', 'lâóica', 'làóica', 'lãóica', 'léóica', 'lêóica', 'lèóica', 'lẽóica', 'líóica', 'lîóica', 'lìóica', 'lĩóica', 'lóóica', 'lôóica', 'lõóica', 'lòóica', 'lúóica', 'lûóica', 'lùóica', 'lũóica', 'lñóica', 'lçóica', 'lgaica', 'lgbica', 'lgcica', 'lgdica', 'lgeica', 'lgfica', 'lggica', 'lghica', 'lgiica', 'lghica', 'lgkica', 'lglica', 'lgmica', 'lgnica', 'lgoica', 'lgpica', 'lgqica', 'lgrica', 'lgsica', 'lgtica', 'lguica', 'lgvica', 'lgxica', 'lgyica', 'lgzica', 'lgáica', 'lgâica', 'lgàica', 'lgãica', 'lgéica', 'lgêica', 'lgèica', 'lgẽica', 'lgíica', 'lgîica', 'lgìica', 'lgĩica', 'lgóica', 'lgôica', 'lgõica', 'lgòica', 'lgúica', 'lgûica', 'lgùica', 'lgũica', 'lgñica', 'lgçica', 'lgóaca', 'lgóbca', 'lgócca', 'lgódca', 'lgóeca', 'lgófca', 'lgógca', 'lgóhca', 'lgóica', 'lgóhca', 'lgókca', 'lgólca', 'lgómca', 'lgónca', 'lgóoca', 'lgópca', 'lgóqca', 'lgórca', 'lgósca', 'lgótca', 'lgóuca', 'lgóvca', 'lgóxca', 'lgóyca', 'lgózca', 'lgóáca', 'lgóâca', 'lgóàca', 'lgóãca', 'lgóéca', 'lgóêca', 'lgóèca', 'lgóẽca', 'lgóíca', 'lgóîca', 'lgóìca', 'lgóĩca', 'lgóóca', 'lgóôca', 'lgóõca', 'lgóòca', 'lgóúca', 'lgóûca', 'lgóùca', 'lgóũca', 'lgóñca', 'lgóçca', 'lgóiaa', 'lgóiba', 'lgóica', 'lgóida', 'lgóiea', 'lgóifa', 'lgóiga', 'lgóiha', 'lgóiia', 'lgóiha', 'lgóika', 'lgóila', 'lgóima', 'lgóina', 'lgóioa', 'lgóipa', 'lgóiqa', 'lgóira', 'lgóisa', 'lgóita', 'lgóiua', 'lgóiva', 'lgóixa', 'lgóiya', 'lgóiza', 'lgóiáa', 'lgóiâa', 'lgóiàa', 'lgóiãa', 'lgóiéa', 'lgóiêa', 'lgóièa', 'lgóiẽa', 'lgóiía', 'lgóiîa', 'lgóiìa', 'lgóiĩa', 'lgóióa', 'lgóiôa', 'lgóiõa', 'lgóiòa', 'lgóiúa', 'lgóiûa', 'lgóiùa', 'lgóiũa', 'lgóiña', 'lgóiça', 'lgóica', 'lgóicb', 'lgóicc', 'lgóicd', 'lgóice', 'lgóicf', 'lgóicg', 'lgóich', 'lgóici', 'lgóich', 'lgóick', 'lgóicl', 'lgóicm', 'lgóicn', 'lgóico', 'lgóicp', 'lgóicq', 'lgóicr', 'lgóics', 'lgóict', 'lgóicu', 'lgóicv', 'lgóicx', 'lgóicy', 'lgóicz', 'lgóicá', 'lgóicâ', 'lgóicà', 'lgóicã', 'lgóicé', 'lgóicê', 'lgóicè', 'lgóicẽ', 'lgóicí', 'lgóicî', 'lgóicì', 'lgóicĩ', 'lgóicó', 'lgóicô', 'lgóicõ', 'lgóicò', 'lgóicú', 'lgóicû', 'lgóicù', 'lgóicũ', 'lgóicñ', 'lgóicç', 'lgóicaa', 'lgóicab', 'lgóicac', 'lgóicad', 'lgóicae', 'lgóicaf', 'lgóicag', 'lgóicah', 'lgóicai', 'lgóicah', 'lgóicak', 'lgóical', 'lgóicam', 'lgóican', 'lgóicao', 'lgóicap', 'lgóicaq', 'lgóicar', 'lgóicas', 'lgóicat', 'lgóicau', 'lgóicav', 'lgóicax', 'lgóicay', 'lgóicaz', 'lgóicaá', 'lgóicaâ', 'lgóicaà', 'lgóicaã', 'lgóicaé', 'lgóicaê', 'lgóicaè', 'lgóicaẽ', 'lgóicaí', 'lgóicaî', 'lgóicaì', 'lgóicaĩ', 'lgóicaó', 'lgóicaô', 'lgóicaõ', 'lgóicaò', 'lgóicaú', 'lgóicaû', 'lgóicaù', 'lgóicaũ', 'lgóicañ', 'lgóicaç', 'glóica', 'lógica', 'lgióca', 'lgócia', 'lgóiac']\n"
          ],
          "name": "stdout"
        }
      ]
    },
    {
      "cell_type": "code",
      "metadata": {
        "id": "hkDoIt4NpVzH",
        "colab_type": "code",
        "colab": {
          "base_uri": "https://localhost:8080/",
          "height": 35
        },
        "outputId": "da06ff21-8aff-445d-dbcf-1ef77f52ab28"
      },
      "source": [
        "corretor('lgóica')"
      ],
      "execution_count": 56,
      "outputs": [
        {
          "output_type": "execute_result",
          "data": {
            "application/vnd.google.colaboratory.intrinsic+json": {
              "type": "string"
            },
            "text/plain": [
              "'lógica'"
            ]
          },
          "metadata": {
            "tags": []
          },
          "execution_count": 56
        }
      ]
    },
    {
      "cell_type": "code",
      "metadata": {
        "id": "3Gi1TZjyqVjv",
        "colab_type": "code",
        "colab": {
          "base_uri": "https://localhost:8080/",
          "height": 34
        },
        "outputId": "721d5155-2bb4-48b7-f296-5234541ad6fb"
      },
      "source": [
        "avaliador(lista_teste)"
      ],
      "execution_count": 57,
      "outputs": [
        {
          "output_type": "stream",
          "text": [
            " O corretor acertou 76.88% de 186 palavras\n"
          ],
          "name": "stdout"
        }
      ]
    },
    {
      "cell_type": "markdown",
      "metadata": {
        "id": "o5KrcTKe9g1W",
        "colab_type": "text"
      },
      "source": [
        "## AULA 07 - CRIANDO UM CORRETOR TURBINADO"
      ]
    },
    {
      "cell_type": "markdown",
      "metadata": {
        "id": "V7ZavgW9_r54",
        "colab_type": "text"
      },
      "source": [
        "### Alterando o avaliador para calcular a taxa de palavras desconhecidas"
      ]
    },
    {
      "cell_type": "code",
      "metadata": {
        "id": "sQB_N1KE9o9A",
        "colab_type": "code",
        "colab": {}
      },
      "source": [
        "#PRIMEIRO PASSO - VERIFICAR A TAXA DE ERRO ADVINDA DE NÃO TERMOS A PALAVRA ARMAZENADA EM NOSSO VOCABULÁRIO\n",
        "#Avaliando o corretor\n",
        "def avaliador(testes, vocabulario):\n",
        "  numero_palavras = len(testes) #o tamanho da lista de testes\n",
        "  acertou = 0 #um contador, começando com zero\n",
        "  desconhecida = 0 #um contador também\n",
        "  #iterar pela lista aplicando um corretor e comparando com a palavra correta\n",
        "  for correta,errada in testes:\n",
        "    palavra_corrigida = corretor(errada) #aplica o corretor à palavra incorreta\n",
        "    if palavra_corrigida == correta: #compara com a palavra correta\n",
        "      acertou+=1 #acrescenta ao contador\n",
        "    else:      \n",
        "      desconhecida += (correta not in vocabulario) #inclui o número de palavras corretas não reconhecidas em nossa lista de palavras\n",
        "  taxa_acerto = round(acertou*100 / numero_palavras, 2) #calcula a taxa de acerto\n",
        "  taxa_desconhecida = round(desconhecida*100 / numero_palavras, 2) #calcula a taxa de palavras desconhecidas\n",
        "  print(f' O corretor acertou {taxa_acerto}% de {numero_palavras} palavras, e a taxa de palavras desconhecidas é {desconhecida}%')\n"
      ],
      "execution_count": 58,
      "outputs": []
    },
    {
      "cell_type": "code",
      "metadata": {
        "id": "G0sqFGux9pDd",
        "colab_type": "code",
        "colab": {
          "base_uri": "https://localhost:8080/",
          "height": 34
        },
        "outputId": "2e6ffe6b-92d1-4e5e-aa46-e941145479fb"
      },
      "source": [
        "vocabulario = set_lista_normalizada\n",
        "avaliador(lista_teste, set_lista_normalizada)"
      ],
      "execution_count": 65,
      "outputs": [
        {
          "output_type": "stream",
          "text": [
            " O corretor acertou 76.88% de 186 palavras, e a taxa de palavras desconhecidas é 13%\n"
          ],
          "name": "stdout"
        }
      ]
    },
    {
      "cell_type": "markdown",
      "metadata": {
        "id": "PzTnsWB__2q-",
        "colab_type": "text"
      },
      "source": [
        "### Turbinando o gerador de palavras"
      ]
    },
    {
      "cell_type": "code",
      "metadata": {
        "id": "XPwozhR29pGz",
        "colab_type": "code",
        "colab": {
          "base_uri": "https://localhost:8080/",
          "height": 34
        },
        "outputId": "f7470620-8f56-490f-d466-1dff29684af0"
      },
      "source": [
        "#criando um gerador turbinado que gera um novo conjunto de palavros\n",
        "def gerador_turbinado(palavras_geradas):\n",
        "  novas_palavras = []\n",
        "  for palavra in palavras_geradas: #roda novamente o gerador de palavras\n",
        "    novas_palavras += gerador_palavras(palavra)\n",
        "  return novas_palavras\n",
        "palavras_g = gerador_turbinado(gerador_palavras('lóiigica'))\n",
        "\"lógica\" in palavras_g"
      ],
      "execution_count": 66,
      "outputs": [
        {
          "output_type": "execute_result",
          "data": {
            "text/plain": [
              "True"
            ]
          },
          "metadata": {
            "tags": []
          },
          "execution_count": 66
        }
      ]
    },
    {
      "cell_type": "code",
      "metadata": {
        "id": "62q3nkmeBU7q",
        "colab_type": "code",
        "colab": {
          "base_uri": "https://localhost:8080/",
          "height": 34
        },
        "outputId": "4513b33f-4b3e-484f-e166-6f594760f5df"
      },
      "source": [
        "len(palavras_g) #esta quantidade de palavras pode deixar o algoritmo muito lento, portanto temos de melhorar para que ele ignore palavras \"lixo\""
      ],
      "execution_count": 67,
      "outputs": [
        {
          "output_type": "execute_result",
          "data": {
            "text/plain": [
              "787396"
            ]
          },
          "metadata": {
            "tags": []
          },
          "execution_count": 67
        }
      ]
    },
    {
      "cell_type": "markdown",
      "metadata": {
        "id": "zCDT3ATsBueF",
        "colab_type": "text"
      },
      "source": [
        "### Escolhendo os melhores candidatos"
      ]
    },
    {
      "cell_type": "code",
      "metadata": {
        "id": "SMILQ1pv9pCT",
        "colab_type": "code",
        "colab": {}
      },
      "source": [
        "#modificando o corretor\n",
        "#usando uma variável padronizada na chamada da função, para termos uma chamada mais simples para o usuário final\n",
        "def novo_corretor(palavra, vocabulario=set_lista_normalizada): #se não incluirmos o vocabulario na chamada da função, ele terá de estar definido em outro local, motivo pelo qual inclui aqui\n",
        "  palavras_geradas = gerador_palavras(palavra) #busca as palavras criadas\n",
        "  palavras_turbinado = gerador_turbinado(palavras_geradas)\n",
        "  todas_palavras = set(palavras_geradas + palavras_turbinado) #um conjunto só com as palavras únicas geradas pelas duas instâncias do gerador\n",
        "  #reduzindo a quantidade de palavras\n",
        "  candidatos = [palavra]\n",
        "  for palavra in todas_palavras:\n",
        "    if palavra in vocabulario: \n",
        "      candidatos.append(palavra)\n",
        "  #print(len(candidatos))\n",
        "  palavra_correta = max(candidatos, key=probabilidade) #retorna a palavra com mais probabilidade de estar correta de acordo com sua frequência no corpus\n",
        "  return palavra_correta"
      ],
      "execution_count": 73,
      "outputs": []
    },
    {
      "cell_type": "code",
      "metadata": {
        "id": "B1W34NOcDWdh",
        "colab_type": "code",
        "colab": {
          "base_uri": "https://localhost:8080/",
          "height": 35
        },
        "outputId": "4f1daf11-20e3-4a6a-dd3c-f4bacbf5c81d"
      },
      "source": [
        "novo_corretor('lóiigica')"
      ],
      "execution_count": 74,
      "outputs": [
        {
          "output_type": "execute_result",
          "data": {
            "application/vnd.google.colaboratory.intrinsic+json": {
              "type": "string"
            },
            "text/plain": [
              "'lógica'"
            ]
          },
          "metadata": {
            "tags": []
          },
          "execution_count": 74
        }
      ]
    },
    {
      "cell_type": "code",
      "metadata": {
        "id": "gEKm5_pEDzsL",
        "colab_type": "code",
        "colab": {
          "base_uri": "https://localhost:8080/",
          "height": 34
        },
        "outputId": "1411e184-224b-4ff6-dda6-1d42b70b0d0d"
      },
      "source": [
        "avaliador(lista_teste, vocabulario)"
      ],
      "execution_count": 75,
      "outputs": [
        {
          "output_type": "stream",
          "text": [
            " O corretor acertou 76.88% de 186 palavras, e a taxa de palavras desconhecidas é 13%\n"
          ],
          "name": "stdout"
        }
      ]
    },
    {
      "cell_type": "markdown",
      "metadata": {
        "id": "2-P54LarEsrr",
        "colab_type": "text"
      },
      "source": [
        "### Avaliando os dois modelos"
      ]
    },
    {
      "cell_type": "code",
      "metadata": {
        "id": "P765wByAEv53",
        "colab_type": "code",
        "colab": {}
      },
      "source": [
        "def avaliador(testes, vocabulario, corretor): \n",
        "  numero_palavras = len(testes) #o tamanho da lista de testes\n",
        "  acertou = 0 #um contador, começando com zero\n",
        "  desconhecida = 0 #um contador também\n",
        "  #iterar pela lista aplicando um corretor e comparando com a palavra correta\n",
        "  for correta,errada in testes:\n",
        "    palavra_corrigida = corretor(errada) #aplica o corretor à palavra incorreta\n",
        "    desconhecida += (correta not in vocabulario) #inclui o número de palavras corretas não reconhecidas em nossa lista de palavras\n",
        "    if palavra_corrigida == correta: #compara com a palavra correta\n",
        "      acertou+=1 #acrescenta ao contador          \n",
        "  taxa_acerto = round(acertou*100 / numero_palavras, 2) #calcula a taxa de acerto\n",
        "  taxa_desconhecida = round(desconhecida*100 / numero_palavras, 2) #calcula a taxa de palavras desconhecidas\n",
        "  print(f' O corretor acertou {taxa_acerto}% de {numero_palavras} palavras, e a taxa de palavras desconhecidas é {desconhecida}%')"
      ],
      "execution_count": 76,
      "outputs": []
    },
    {
      "cell_type": "code",
      "metadata": {
        "id": "JAjaV6evFAXp",
        "colab_type": "code",
        "colab": {
          "base_uri": "https://localhost:8080/",
          "height": 34
        },
        "outputId": "abb85347-a21e-463d-8a49-b5618c43b82c"
      },
      "source": [
        "#avaliador com o corretor normal\n",
        "avaliador(lista_teste, vocabulario, corretor)"
      ],
      "execution_count": 77,
      "outputs": [
        {
          "output_type": "stream",
          "text": [
            " O corretor acertou 76.88% de 186 palavras, e a taxa de palavras desconhecidas é 13%\n"
          ],
          "name": "stdout"
        }
      ]
    },
    {
      "cell_type": "code",
      "metadata": {
        "id": "bZRwbk9WJ7t0",
        "colab_type": "code",
        "colab": {
          "base_uri": "https://localhost:8080/",
          "height": 34
        },
        "outputId": "b838cd1e-ab87-479a-825f-4709c75a25a0"
      },
      "source": [
        "avaliador(lista_teste, vocabulario, novo_corretor)"
      ],
      "execution_count": 78,
      "outputs": [
        {
          "output_type": "stream",
          "text": [
            " O corretor acertou 55.91% de 186 palavras, e a taxa de palavras desconhecidas é 13%\n"
          ],
          "name": "stdout"
        }
      ]
    },
    {
      "cell_type": "code",
      "metadata": {
        "id": "MKqZCdu6FAb0",
        "colab_type": "code",
        "colab": {}
      },
      "source": [
        "#mudando a função para mostrar o que os dois corretores retornam com o input\n",
        "def avaliador(testes, vocabulario): \n",
        "  numero_palavras = len(testes) #o tamanho da lista de testes\n",
        "  acertou = 0 #um contador, começando com zero\n",
        "  desconhecida = 0 #um contador também\n",
        "  #iterar pela lista aplicando um corretor e comparando com a palavra correta\n",
        "  for correta,errada in testes:\n",
        "    palavra_corrigida = novo_corretor(errada, vocabulario) #aplica o corretor à palavra incorreta\n",
        "    desconhecida += (correta not in vocabulario) #inclui o número de palavras corretas não reconhecidas em nossa lista de palavras\n",
        "    if palavra_corrigida == correta: #compara com a palavra correta\n",
        "      acertou+=1 #acrescenta ao contador \n",
        "    else:\n",
        "      print(errada + \" - \" + corretor(errada) + \" - \" + palavra_corrigida)         \n",
        "  taxa_acerto = round(acertou*100 / numero_palavras, 2) #calcula a taxa de acerto\n",
        "  taxa_desconhecida = round(desconhecida*100 / numero_palavras, 2) #calcula a taxa de palavras desconhecidas\n",
        "  print(f' O corretor acertou {taxa_acerto}% de {numero_palavras} palavras, e a taxa de palavras desconhecidas é {desconhecida}%')"
      ],
      "execution_count": 79,
      "outputs": []
    },
    {
      "cell_type": "code",
      "metadata": {
        "id": "JeP3V3buFqA2",
        "colab_type": "code",
        "colab": {
          "base_uri": "https://localhost:8080/",
          "height": 1000
        },
        "outputId": "1851a404-66ba-4242-d647-dd547213d5d3"
      },
      "source": [
        "#verificando por que o novo corretor funcionou tão pior\n",
        "avaliador(lista_teste, vocabulario)"
      ],
      "execution_count": 80,
      "outputs": [
        {
          "output_type": "stream",
          "text": [
            "esje - esse - se\n",
            "sãêo - são - não\n",
            "dosa - dos - do\n",
            "eme - em - de\n",
            "eàssa - essa - esse\n",
            "daõs - das - da\n",
            "céda - cada - da\n",
            "noâ - no - o\n",
            "enêão - então - não\n",
            "tĩem - tem - em\n",
            "nossah - nossa - nosso\n",
            "teb - tem - de\n",
            "atĩ - até - a\n",
            "âem - em - de\n",
            "foo - foi - o\n",
            "serr - ser - se\n",
            "entke - entre - então\n",
            "van - vai - a\n",
            "çeus - seus - seu\n",
            "eû - e - de\n",
            "temeo - tempo - temos\n",
            "semre - sempre - ser\n",
            "elaá - ela - ele\n",
            "síó - só - se\n",
            "siàe - site - se\n",
            "seém - sem - em\n",
            "peln - pelo - ele\n",
            "aléra - alura - agora\n",
            "tdia - dia - da\n",
            "jé - é - de\n",
            "sãô - são - não\n",
            "odos - dos - do\n",
            "siua - sua - seu\n",
            "elpe - ele - esse\n",
            "teos - temos - os\n",
            "eũsa - essa - esse\n",
            "vjmos - vamos - temos\n",
            "dms - dos - de\n",
            "cava - cada - para\n",
            "ános - nos - no\n",
            "èaso - caso - as\n",
            "túem - tem - em\n",
            "daáos - dados - dos\n",
            "nossk - nosso - nosso\n",
            "tãer - ter - ser\n",
            "vté - até - é\n",
            "búm - bem - um\n",
            "sçerá - será - ser\n",
            "entró - entre - então\n",
            "uai - vai - a\n",
            "sâus - seus - seu\n",
            "ìeu - seu - de\n",
            "fual - qual - sua\n",
            "elal - ela - ele\n",
            "skó - só - se\n",
            "secm - sem - em\n",
            "aluéa - alura - além\n",
            "dil - dia - de\n",
            "sód - só - se\n",
            "eúaa - aeúaa - essa\n",
            "ró - só - de\n",
            "dĩaz - adĩaz - da\n",
            "correptor - corretor - correto\n",
            "trtica - tática - prática\n",
            "ewpoderamento - aewpoderamento - ewpoderamento\n",
            "îgato - gato - fato\n",
            "cakvalo - acakvalo - carvalho\n",
            "canelac - acanelac - canetas\n",
            "tênisy - atênisy - tênisy\n",
            "anciosa - aanciosa - ansioso\n",
            "ancciosa - aancciosa - ancciosa\n",
            "ansioa - aansioa - antiga\n",
            "asterístico - aasterístico - asterístico\n",
            "entertido - aentertido - entendido\n",
            "ritimo - ritmo - ótimo\n",
            "indiota - aindiota - indica\n",
            "tomare - tomar - tomar\n",
            "seje - seja - se\n",
            "provalecer - aprovalecer - prevaleceu\n",
            "esteje - esteja - este\n",
            "mindigo - amindigo - indico\n",
            "pertubar - apertubar - derrubar\n",
            " O corretor acertou 55.91% de 186 palavras, e a taxa de palavras desconhecidas é 13%\n"
          ],
          "name": "stdout"
        }
      ]
    },
    {
      "cell_type": "code",
      "metadata": {
        "id": "e8WW_kZgIE7O",
        "colab_type": "code",
        "colab": {}
      },
      "source": [
        "#recriando o avaliador\n",
        "def avaliador(testes, vocabulario): \n",
        "  numero_palavras = len(testes) #o tamanho da lista de testes\n",
        "  acertou = 0 #um contador, começando com zero\n",
        "  desconhecida = 0 #um contador também\n",
        "  #iterar pela lista aplicando um corretor e comparando com a palavra correta\n",
        "  for correta,errada in testes:\n",
        "    palavra_corrigida = corretor(errada) #aplica o corretor à palavra incorreta\n",
        "    desconhecida += (correta not in vocabulario) #inclui o número de palavras corretas não reconhecidas em nossa lista de palavras\n",
        "    if palavra_corrigida == correta: #compara com a palavra correta\n",
        "      acertou+=1 #acrescenta ao contador \n",
        "    else:\n",
        "      print(errada + \" - \" + corretor(errada) + \" - \" + palavra_corrigida)         \n",
        "  taxa_acerto = round(acertou*100 / numero_palavras, 2) #calcula a taxa de acerto\n",
        "  taxa_desconhecida = round(desconhecida*100 / numero_palavras, 2) #calcula a taxa de palavras desconhecidas\n",
        "  print(f' O corretor acertou {taxa_acerto}% de {numero_palavras} palavras, e a taxa de palavras desconhecidas é {desconhecida}%')"
      ],
      "execution_count": 81,
      "outputs": []
    },
    {
      "cell_type": "markdown",
      "metadata": {
        "id": "1FUNJLh2MSLn",
        "colab_type": "text"
      },
      "source": [
        "# TESTE VOCÊ MESMO O NOSSO CORRETOR"
      ]
    },
    {
      "cell_type": "code",
      "metadata": {
        "id": "UWXJSxMEmD3K",
        "colab_type": "code",
        "colab": {
          "base_uri": "https://localhost:8080/",
          "height": 51
        },
        "outputId": "fbea90e7-516c-4e62-ebdc-e3ee3604266b"
      },
      "source": [
        "palavra = 'corretorpr'\n",
        "print(corretor(palavra))\n",
        "print(novo_corretor(palavra, vocabulario))"
      ],
      "execution_count": 84,
      "outputs": [
        {
          "output_type": "stream",
          "text": [
            "acorretorpr\n",
            "corretor\n"
          ],
          "name": "stdout"
        }
      ]
    },
    {
      "cell_type": "code",
      "metadata": {
        "id": "r53dvGbyIiqp",
        "colab_type": "code",
        "colab": {}
      },
      "source": [
        ""
      ],
      "execution_count": null,
      "outputs": []
    }
  ]
}