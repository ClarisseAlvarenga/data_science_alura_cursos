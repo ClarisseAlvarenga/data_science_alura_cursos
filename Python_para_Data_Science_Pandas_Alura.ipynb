{
  "nbformat": 4,
  "nbformat_minor": 0,
  "metadata": {
    "kernelspec": {
      "display_name": "Python 3",
      "language": "python",
      "name": "python3"
    },
    "language_info": {
      "codemirror_mode": {
        "name": "ipython",
        "version": 3
      },
      "file_extension": ".py",
      "mimetype": "text/x-python",
      "name": "python",
      "nbconvert_exporter": "python",
      "pygments_lexer": "ipython3",
      "version": "3.7.3"
    },
    "colab": {
      "name": "Python_para_Data_Science_Pandas_Alura.ipynb",
      "provenance": [],
      "include_colab_link": true
    }
  },
  "cells": [
    {
      "cell_type": "markdown",
      "metadata": {
        "id": "view-in-github",
        "colab_type": "text"
      },
      "source": [
        "<a href=\"https://colab.research.google.com/github/ClarisseAlvarenga/data_science_alura_cursos/blob/master/Python_para_Data_Science_Pandas_Alura.ipynb\" target=\"_parent\"><img src=\"https://colab.research.google.com/assets/colab-badge.svg\" alt=\"Open In Colab\"/></a>"
      ]
    },
    {
      "cell_type": "markdown",
      "metadata": {
        "id": "W4bTJkJED0-t",
        "colab_type": "text"
      },
      "source": [
        "# <font color=green> PYTHON PARA DATA SCIENCE - PANDAS\n",
        "---"
      ]
    },
    {
      "cell_type": "markdown",
      "metadata": {
        "id": "GOEcCc62D0-x",
        "colab_type": "text"
      },
      "source": [
        "# <font color=green> 1. INTRODUÇÃO AO PYTHON\n",
        "---"
      ]
    },
    {
      "cell_type": "markdown",
      "metadata": {
        "id": "oGvoOJ-XD0-y",
        "colab_type": "text"
      },
      "source": [
        "# 1.1 Introdução"
      ]
    },
    {
      "cell_type": "markdown",
      "metadata": {
        "id": "fam3BM0aD0-z",
        "colab_type": "text"
      },
      "source": [
        "> Python é uma linguagem de programação de alto nível com suporte a múltiplos paradigmas de programação. É um projeto *open source* e desde seu surgimento, em 1991, vem se tornando uma das linguagens de programação interpretadas mais populares. \n",
        ">\n",
        "> Nos últimos anos Python desenvolveu uma comunidade ativa de processamento científico e análise de dados e vem se destacando como uma das linguagens mais relevantes quando o assundo é ciência de dados e machine learning, tanto no ambiente acadêmico como também no mercado."
      ]
    },
    {
      "cell_type": "markdown",
      "metadata": {
        "id": "6kH5DY-vD0-1",
        "colab_type": "text"
      },
      "source": [
        "# 1.2 Instalação e ambiente de desenvolvimento"
      ]
    },
    {
      "cell_type": "markdown",
      "metadata": {
        "id": "BTpm79I2D0-2",
        "colab_type": "text"
      },
      "source": [
        "### Instalação Local\n",
        "\n",
        "### https://www.python.org/downloads/\n",
        "### ou\n",
        "### https://www.anaconda.com/distribution/"
      ]
    },
    {
      "cell_type": "markdown",
      "metadata": {
        "id": "AuPS_XwRD0-3",
        "colab_type": "text"
      },
      "source": [
        "### Google Colaboratory\n",
        "\n",
        "### https://colab.research.google.com"
      ]
    },
    {
      "cell_type": "markdown",
      "metadata": {
        "id": "4rUYsPrXD0-4",
        "colab_type": "text"
      },
      "source": [
        "### Verificando versão"
      ]
    },
    {
      "cell_type": "code",
      "metadata": {
        "id": "PgTCVRB2D0-5",
        "colab_type": "code",
        "colab": {
          "base_uri": "https://localhost:8080/",
          "height": 34
        },
        "outputId": "839bd0f1-5629-4350-94f4-ca4274f7940a"
      },
      "source": [
        "!python -V"
      ],
      "execution_count": 1,
      "outputs": [
        {
          "output_type": "stream",
          "text": [
            "Python 3.6.9\n"
          ],
          "name": "stdout"
        }
      ]
    },
    {
      "cell_type": "markdown",
      "metadata": {
        "id": "lTtI6so4D0-9",
        "colab_type": "text"
      },
      "source": [
        "# 1.3 Trabalhando com dados"
      ]
    },
    {
      "cell_type": "code",
      "metadata": {
        "id": "E_n4FUUWD0-9",
        "colab_type": "code",
        "colab": {}
      },
      "source": [
        "import pandas as pd\n",
        "#para setar o número de linhas visíveis no dataset\n",
        "pd.set_option('display.max_rows', 1000)\n",
        "#para setar o número de colunas visíveis no dataset\n",
        "pd.set_option('display.max_columns', 1000)"
      ],
      "execution_count": 2,
      "outputs": []
    },
    {
      "cell_type": "code",
      "metadata": {
        "id": "Kq-JdRHFD0-_",
        "colab_type": "code",
        "colab": {}
      },
      "source": [
        "dataset = pd.read_csv('db.csv', sep=';')"
      ],
      "execution_count": 3,
      "outputs": []
    },
    {
      "cell_type": "code",
      "metadata": {
        "scrolled": true,
        "id": "mOV1rCA6D0_A",
        "colab_type": "code",
        "colab": {
          "base_uri": "https://localhost:8080/",
          "height": 359
        },
        "outputId": "3bfbd295-fcdf-4d29-e547-957227bf5cee"
      },
      "source": [
        "dataset.head(10)"
      ],
      "execution_count": 4,
      "outputs": [
        {
          "output_type": "execute_result",
          "data": {
            "text/html": [
              "<div>\n",
              "<style scoped>\n",
              "    .dataframe tbody tr th:only-of-type {\n",
              "        vertical-align: middle;\n",
              "    }\n",
              "\n",
              "    .dataframe tbody tr th {\n",
              "        vertical-align: top;\n",
              "    }\n",
              "\n",
              "    .dataframe thead th {\n",
              "        text-align: right;\n",
              "    }\n",
              "</style>\n",
              "<table border=\"1\" class=\"dataframe\">\n",
              "  <thead>\n",
              "    <tr style=\"text-align: right;\">\n",
              "      <th></th>\n",
              "      <th>Nome</th>\n",
              "      <th>Motor</th>\n",
              "      <th>Ano</th>\n",
              "      <th>Quilometragem</th>\n",
              "      <th>Zero_km</th>\n",
              "      <th>Acessórios</th>\n",
              "      <th>Valor</th>\n",
              "    </tr>\n",
              "  </thead>\n",
              "  <tbody>\n",
              "    <tr>\n",
              "      <th>0</th>\n",
              "      <td>Jetta Variant</td>\n",
              "      <td>Motor 4.0 Turbo</td>\n",
              "      <td>2003</td>\n",
              "      <td>44410.0</td>\n",
              "      <td>False</td>\n",
              "      <td>['Rodas de liga', 'Travas elétricas', 'Piloto ...</td>\n",
              "      <td>88078.64</td>\n",
              "    </tr>\n",
              "    <tr>\n",
              "      <th>1</th>\n",
              "      <td>Passat</td>\n",
              "      <td>Motor Diesel</td>\n",
              "      <td>1991</td>\n",
              "      <td>5712.0</td>\n",
              "      <td>False</td>\n",
              "      <td>['Central multimídia', 'Teto panorâmico', 'Fre...</td>\n",
              "      <td>106161.94</td>\n",
              "    </tr>\n",
              "    <tr>\n",
              "      <th>2</th>\n",
              "      <td>Crossfox</td>\n",
              "      <td>Motor Diesel V8</td>\n",
              "      <td>1990</td>\n",
              "      <td>37123.0</td>\n",
              "      <td>False</td>\n",
              "      <td>['Piloto automático', 'Controle de estabilidad...</td>\n",
              "      <td>72832.16</td>\n",
              "    </tr>\n",
              "    <tr>\n",
              "      <th>3</th>\n",
              "      <td>DS5</td>\n",
              "      <td>Motor 2.4 Turbo</td>\n",
              "      <td>2019</td>\n",
              "      <td>NaN</td>\n",
              "      <td>True</td>\n",
              "      <td>['Travas elétricas', '4 X 4', 'Vidros elétrico...</td>\n",
              "      <td>124549.07</td>\n",
              "    </tr>\n",
              "    <tr>\n",
              "      <th>4</th>\n",
              "      <td>Aston Martin DB4</td>\n",
              "      <td>Motor 2.4 Turbo</td>\n",
              "      <td>2006</td>\n",
              "      <td>25757.0</td>\n",
              "      <td>False</td>\n",
              "      <td>['Rodas de liga', '4 X 4', 'Central multimídia...</td>\n",
              "      <td>92612.10</td>\n",
              "    </tr>\n",
              "    <tr>\n",
              "      <th>5</th>\n",
              "      <td>Palio Weekend</td>\n",
              "      <td>Motor 1.8 16v</td>\n",
              "      <td>2012</td>\n",
              "      <td>10728.0</td>\n",
              "      <td>False</td>\n",
              "      <td>['Sensor de estacionamento', 'Teto panorâmico'...</td>\n",
              "      <td>97497.73</td>\n",
              "    </tr>\n",
              "    <tr>\n",
              "      <th>6</th>\n",
              "      <td>A5</td>\n",
              "      <td>Motor 4.0 Turbo</td>\n",
              "      <td>2019</td>\n",
              "      <td>NaN</td>\n",
              "      <td>True</td>\n",
              "      <td>['Câmbio automático', 'Câmera de estacionament...</td>\n",
              "      <td>56445.20</td>\n",
              "    </tr>\n",
              "    <tr>\n",
              "      <th>7</th>\n",
              "      <td>Série 3 Cabrio</td>\n",
              "      <td>Motor 1.0 8v</td>\n",
              "      <td>2009</td>\n",
              "      <td>77599.0</td>\n",
              "      <td>False</td>\n",
              "      <td>['Controle de estabilidade', 'Sensor crepuscul...</td>\n",
              "      <td>112310.44</td>\n",
              "    </tr>\n",
              "    <tr>\n",
              "      <th>8</th>\n",
              "      <td>Dodge Jorney</td>\n",
              "      <td>Motor 3.0 32v</td>\n",
              "      <td>2010</td>\n",
              "      <td>99197.0</td>\n",
              "      <td>False</td>\n",
              "      <td>['Vidros elétricos', 'Piloto automático', 'Tet...</td>\n",
              "      <td>120716.27</td>\n",
              "    </tr>\n",
              "    <tr>\n",
              "      <th>9</th>\n",
              "      <td>Carens</td>\n",
              "      <td>Motor 5.0 V8 Bi-Turbo</td>\n",
              "      <td>2011</td>\n",
              "      <td>37978.0</td>\n",
              "      <td>False</td>\n",
              "      <td>['Ar condicionado', 'Painel digital', 'Central...</td>\n",
              "      <td>76566.49</td>\n",
              "    </tr>\n",
              "  </tbody>\n",
              "</table>\n",
              "</div>"
            ],
            "text/plain": [
              "               Nome                  Motor   Ano  Quilometragem  Zero_km  \\\n",
              "0     Jetta Variant        Motor 4.0 Turbo  2003        44410.0    False   \n",
              "1            Passat           Motor Diesel  1991         5712.0    False   \n",
              "2          Crossfox        Motor Diesel V8  1990        37123.0    False   \n",
              "3               DS5        Motor 2.4 Turbo  2019            NaN     True   \n",
              "4  Aston Martin DB4        Motor 2.4 Turbo  2006        25757.0    False   \n",
              "5     Palio Weekend          Motor 1.8 16v  2012        10728.0    False   \n",
              "6                A5        Motor 4.0 Turbo  2019            NaN     True   \n",
              "7    Série 3 Cabrio           Motor 1.0 8v  2009        77599.0    False   \n",
              "8      Dodge Jorney          Motor 3.0 32v  2010        99197.0    False   \n",
              "9            Carens  Motor 5.0 V8 Bi-Turbo  2011        37978.0    False   \n",
              "\n",
              "                                          Acessórios      Valor  \n",
              "0  ['Rodas de liga', 'Travas elétricas', 'Piloto ...   88078.64  \n",
              "1  ['Central multimídia', 'Teto panorâmico', 'Fre...  106161.94  \n",
              "2  ['Piloto automático', 'Controle de estabilidad...   72832.16  \n",
              "3  ['Travas elétricas', '4 X 4', 'Vidros elétrico...  124549.07  \n",
              "4  ['Rodas de liga', '4 X 4', 'Central multimídia...   92612.10  \n",
              "5  ['Sensor de estacionamento', 'Teto panorâmico'...   97497.73  \n",
              "6  ['Câmbio automático', 'Câmera de estacionament...   56445.20  \n",
              "7  ['Controle de estabilidade', 'Sensor crepuscul...  112310.44  \n",
              "8  ['Vidros elétricos', 'Piloto automático', 'Tet...  120716.27  \n",
              "9  ['Ar condicionado', 'Painel digital', 'Central...   76566.49  "
            ]
          },
          "metadata": {
            "tags": []
          },
          "execution_count": 4
        }
      ]
    },
    {
      "cell_type": "code",
      "metadata": {
        "id": "5D739PzJD0_B",
        "colab_type": "code",
        "colab": {
          "base_uri": "https://localhost:8080/",
          "height": 153
        },
        "outputId": "5cbaee4f-2aeb-467c-eff1-b9c0cd4541f7"
      },
      "source": [
        "#atributo para verificar os tipos de variáveis\n",
        "dataset.dtypes"
      ],
      "execution_count": 5,
      "outputs": [
        {
          "output_type": "execute_result",
          "data": {
            "text/plain": [
              "Nome              object\n",
              "Motor             object\n",
              "Ano                int64\n",
              "Quilometragem    float64\n",
              "Zero_km             bool\n",
              "Acessórios        object\n",
              "Valor            float64\n",
              "dtype: object"
            ]
          },
          "metadata": {
            "tags": []
          },
          "execution_count": 5
        }
      ]
    },
    {
      "cell_type": "code",
      "metadata": {
        "id": "r_qUf16LD0_D",
        "colab_type": "code",
        "colab": {
          "base_uri": "https://localhost:8080/",
          "height": 297
        },
        "outputId": "1c632620-9487-45a5-d9ff-9e7cbe69bf07"
      },
      "source": [
        "#visualizando estatísticas descritivas das colunas escolhidas\n",
        "dataset[['Quilometragem', 'Valor']].describe()"
      ],
      "execution_count": 6,
      "outputs": [
        {
          "output_type": "execute_result",
          "data": {
            "text/html": [
              "<div>\n",
              "<style scoped>\n",
              "    .dataframe tbody tr th:only-of-type {\n",
              "        vertical-align: middle;\n",
              "    }\n",
              "\n",
              "    .dataframe tbody tr th {\n",
              "        vertical-align: top;\n",
              "    }\n",
              "\n",
              "    .dataframe thead th {\n",
              "        text-align: right;\n",
              "    }\n",
              "</style>\n",
              "<table border=\"1\" class=\"dataframe\">\n",
              "  <thead>\n",
              "    <tr style=\"text-align: right;\">\n",
              "      <th></th>\n",
              "      <th>Quilometragem</th>\n",
              "      <th>Valor</th>\n",
              "    </tr>\n",
              "  </thead>\n",
              "  <tbody>\n",
              "    <tr>\n",
              "      <th>count</th>\n",
              "      <td>197.000000</td>\n",
              "      <td>258.000000</td>\n",
              "    </tr>\n",
              "    <tr>\n",
              "      <th>mean</th>\n",
              "      <td>58278.421320</td>\n",
              "      <td>98960.513101</td>\n",
              "    </tr>\n",
              "    <tr>\n",
              "      <th>std</th>\n",
              "      <td>35836.733259</td>\n",
              "      <td>29811.932305</td>\n",
              "    </tr>\n",
              "    <tr>\n",
              "      <th>min</th>\n",
              "      <td>107.000000</td>\n",
              "      <td>50742.100000</td>\n",
              "    </tr>\n",
              "    <tr>\n",
              "      <th>25%</th>\n",
              "      <td>27505.000000</td>\n",
              "      <td>70743.512500</td>\n",
              "    </tr>\n",
              "    <tr>\n",
              "      <th>50%</th>\n",
              "      <td>55083.000000</td>\n",
              "      <td>97724.380000</td>\n",
              "    </tr>\n",
              "    <tr>\n",
              "      <th>75%</th>\n",
              "      <td>90495.000000</td>\n",
              "      <td>124633.302500</td>\n",
              "    </tr>\n",
              "    <tr>\n",
              "      <th>max</th>\n",
              "      <td>119945.000000</td>\n",
              "      <td>149489.920000</td>\n",
              "    </tr>\n",
              "  </tbody>\n",
              "</table>\n",
              "</div>"
            ],
            "text/plain": [
              "       Quilometragem          Valor\n",
              "count     197.000000     258.000000\n",
              "mean    58278.421320   98960.513101\n",
              "std     35836.733259   29811.932305\n",
              "min       107.000000   50742.100000\n",
              "25%     27505.000000   70743.512500\n",
              "50%     55083.000000   97724.380000\n",
              "75%     90495.000000  124633.302500\n",
              "max    119945.000000  149489.920000"
            ]
          },
          "metadata": {
            "tags": []
          },
          "execution_count": 6
        }
      ]
    },
    {
      "cell_type": "code",
      "metadata": {
        "id": "0R-_7PH5D0_E",
        "colab_type": "code",
        "colab": {
          "base_uri": "https://localhost:8080/",
          "height": 255
        },
        "outputId": "4046bc66-f8f8-4fc3-adac-a3849968bb90"
      },
      "source": [
        "#conferindo dados no dataset (quantidade de nulos, tipos de variável, nome das colunas)\n",
        "dataset.info()"
      ],
      "execution_count": 7,
      "outputs": [
        {
          "output_type": "stream",
          "text": [
            "<class 'pandas.core.frame.DataFrame'>\n",
            "RangeIndex: 258 entries, 0 to 257\n",
            "Data columns (total 7 columns):\n",
            " #   Column         Non-Null Count  Dtype  \n",
            "---  ------         --------------  -----  \n",
            " 0   Nome           258 non-null    object \n",
            " 1   Motor          258 non-null    object \n",
            " 2   Ano            258 non-null    int64  \n",
            " 3   Quilometragem  197 non-null    float64\n",
            " 4   Zero_km        258 non-null    bool   \n",
            " 5   Acessórios     258 non-null    object \n",
            " 6   Valor          258 non-null    float64\n",
            "dtypes: bool(1), float64(2), int64(1), object(3)\n",
            "memory usage: 12.5+ KB\n"
          ],
          "name": "stdout"
        }
      ]
    },
    {
      "cell_type": "markdown",
      "metadata": {
        "id": "htjoBLwiD0_F",
        "colab_type": "text"
      },
      "source": [
        "# <font color=green> 2. TRABALHANDO COM TUPLAS\n",
        "---"
      ]
    },
    {
      "cell_type": "markdown",
      "metadata": {
        "id": "MZH5_QnYD0_G",
        "colab_type": "text"
      },
      "source": [
        "# 2.1 Criando tuplas\n",
        "\n",
        "Tuplas são sequências imutáveis que são utilizadas para armazenar coleções de itens, geralmente heterogêneos. Podem ser construídas de várias formas:\n",
        "```\n",
        "- Utilizando um par de parênteses: ( )\n",
        "- Utilizando uma vírgula à direita: x,\n",
        "- Utilizando um par de parênteses com itens separados por vírgulas: ( x, y, z )\n",
        "- Utilizando: tuple() ou tuple(iterador)\n",
        "```"
      ]
    },
    {
      "cell_type": "code",
      "metadata": {
        "id": "xzcs9fzeD0_G",
        "colab_type": "code",
        "colab": {
          "base_uri": "https://localhost:8080/",
          "height": 0
        },
        "outputId": "639e4430-ead2-4536-86a1-9ba6e31ea9f8"
      },
      "source": [
        "#uma tupla é representada pelos parênteses\n",
        "()"
      ],
      "execution_count": 8,
      "outputs": [
        {
          "output_type": "execute_result",
          "data": {
            "text/plain": [
              "()"
            ]
          },
          "metadata": {
            "tags": []
          },
          "execution_count": 8
        }
      ]
    },
    {
      "cell_type": "code",
      "metadata": {
        "id": "qJq7a2qTD0_I",
        "colab_type": "code",
        "colab": {
          "base_uri": "https://localhost:8080/",
          "height": 0
        },
        "outputId": "324f981e-8b66-4292-f2a6-1aa98a8bce57"
      },
      "source": [
        "#criando tuplas\n",
        "1,2,3"
      ],
      "execution_count": 9,
      "outputs": [
        {
          "output_type": "execute_result",
          "data": {
            "text/plain": [
              "(1, 2, 3)"
            ]
          },
          "metadata": {
            "tags": []
          },
          "execution_count": 9
        }
      ]
    },
    {
      "cell_type": "code",
      "metadata": {
        "id": "sg7LdvptD0_J",
        "colab_type": "code",
        "colab": {
          "base_uri": "https://localhost:8080/",
          "height": 0
        },
        "outputId": "ea0e8d0f-5fa9-403d-ee23-54c47c48cd81"
      },
      "source": [
        "# A tupla aceita vários tipos de variáveis\n",
        "nome = 'Passat'\n",
        "valor = 153000\n",
        "(nome,valor)"
      ],
      "execution_count": 10,
      "outputs": [
        {
          "output_type": "execute_result",
          "data": {
            "text/plain": [
              "('Passat', 153000)"
            ]
          },
          "metadata": {
            "tags": []
          },
          "execution_count": 10
        }
      ]
    },
    {
      "cell_type": "code",
      "metadata": {
        "id": "XSSMebXjD0_K",
        "colab_type": "code",
        "colab": {
          "base_uri": "https://localhost:8080/",
          "height": 0
        },
        "outputId": "2355e47c-ce1a-4617-a2dd-c4badf3db1ec"
      },
      "source": [
        "#criando uma tupla a partir de uma lista\n",
        "nomes_carros = tuple(['Jetta Variant', 'Passat', 'Crossfox', 'DS5'])\n",
        "nomes_carros"
      ],
      "execution_count": 11,
      "outputs": [
        {
          "output_type": "execute_result",
          "data": {
            "text/plain": [
              "('Jetta Variant', 'Passat', 'Crossfox', 'DS5')"
            ]
          },
          "metadata": {
            "tags": []
          },
          "execution_count": 11
        }
      ]
    },
    {
      "cell_type": "code",
      "metadata": {
        "id": "dpkdzrzRD0_M",
        "colab_type": "code",
        "colab": {
          "base_uri": "https://localhost:8080/",
          "height": 0
        },
        "outputId": "291fbe88-3a66-43ac-b949-66e9bfdfaff1"
      },
      "source": [
        "type(nomes_carros)"
      ],
      "execution_count": 12,
      "outputs": [
        {
          "output_type": "execute_result",
          "data": {
            "text/plain": [
              "tuple"
            ]
          },
          "metadata": {
            "tags": []
          },
          "execution_count": 12
        }
      ]
    },
    {
      "cell_type": "markdown",
      "metadata": {
        "id": "iKUY2DOUD0_N",
        "colab_type": "text"
      },
      "source": [
        "# 2.2 Seleções em tuplas"
      ]
    },
    {
      "cell_type": "code",
      "metadata": {
        "id": "hBEeAM7_D0_N",
        "colab_type": "code",
        "colab": {
          "base_uri": "https://localhost:8080/",
          "height": 0
        },
        "outputId": "b5d0caf9-7104-4707-e0e8-bbfb2919eb73"
      },
      "source": [
        "#a seleção é semelhante à da lista\n",
        "nomes_carros[0]"
      ],
      "execution_count": 13,
      "outputs": [
        {
          "output_type": "execute_result",
          "data": {
            "application/vnd.google.colaboratory.intrinsic": {
              "type": "string"
            },
            "text/plain": [
              "'Jetta Variant'"
            ]
          },
          "metadata": {
            "tags": []
          },
          "execution_count": 13
        }
      ]
    },
    {
      "cell_type": "code",
      "metadata": {
        "id": "-mx_1E_tD0_P",
        "colab_type": "code",
        "colab": {
          "base_uri": "https://localhost:8080/",
          "height": 0
        },
        "outputId": "51b1902c-dc88-46ad-aef7-db971289ca06"
      },
      "source": [
        "nomes_carros[-1]"
      ],
      "execution_count": 14,
      "outputs": [
        {
          "output_type": "execute_result",
          "data": {
            "application/vnd.google.colaboratory.intrinsic": {
              "type": "string"
            },
            "text/plain": [
              "'DS5'"
            ]
          },
          "metadata": {
            "tags": []
          },
          "execution_count": 14
        }
      ]
    },
    {
      "cell_type": "code",
      "metadata": {
        "id": "LMhyqnFID0_Q",
        "colab_type": "code",
        "colab": {
          "base_uri": "https://localhost:8080/",
          "height": 0
        },
        "outputId": "009f8725-6eaf-4b9f-96e2-e63fe3fd4c47"
      },
      "source": [
        "#por slices. como na lista, o índice final não aparece na seleção\n",
        "nomes_carros[1:3]"
      ],
      "execution_count": 15,
      "outputs": [
        {
          "output_type": "execute_result",
          "data": {
            "text/plain": [
              "('Passat', 'Crossfox')"
            ]
          },
          "metadata": {
            "tags": []
          },
          "execution_count": 15
        }
      ]
    },
    {
      "cell_type": "code",
      "metadata": {
        "id": "zvrWYkkeD0_W",
        "colab_type": "code",
        "colab": {
          "base_uri": "https://localhost:8080/",
          "height": 0
        },
        "outputId": "8e9a103c-90ba-4593-e2bf-98875ca66547"
      },
      "source": [
        "#buscando dentro de uma tupla encapsulada\n",
        "nomes_carros = ('Jetta Variant', 'Passat', 'Crossfox', 'DS5', ('Fusca', 'Gol', 'C4'))\n",
        "nomes_carros"
      ],
      "execution_count": 16,
      "outputs": [
        {
          "output_type": "execute_result",
          "data": {
            "text/plain": [
              "('Jetta Variant', 'Passat', 'Crossfox', 'DS5', ('Fusca', 'Gol', 'C4'))"
            ]
          },
          "metadata": {
            "tags": []
          },
          "execution_count": 16
        }
      ]
    },
    {
      "cell_type": "code",
      "metadata": {
        "id": "Dw7tbM2ED0_Z",
        "colab_type": "code",
        "colab": {
          "base_uri": "https://localhost:8080/",
          "height": 0
        },
        "outputId": "2cd08581-fb19-4f41-81b0-84ab6cce4219"
      },
      "source": [
        "nomes_carros[-1]"
      ],
      "execution_count": 17,
      "outputs": [
        {
          "output_type": "execute_result",
          "data": {
            "text/plain": [
              "('Fusca', 'Gol', 'C4')"
            ]
          },
          "metadata": {
            "tags": []
          },
          "execution_count": 17
        }
      ]
    },
    {
      "cell_type": "code",
      "metadata": {
        "id": "SAMD3BtXD0_b",
        "colab_type": "code",
        "colab": {
          "base_uri": "https://localhost:8080/",
          "height": 0
        },
        "outputId": "74bab373-dbf3-427c-8d96-5e1acb678a75"
      },
      "source": [
        "nomes_carros[-1][1]"
      ],
      "execution_count": 18,
      "outputs": [
        {
          "output_type": "execute_result",
          "data": {
            "application/vnd.google.colaboratory.intrinsic": {
              "type": "string"
            },
            "text/plain": [
              "'Gol'"
            ]
          },
          "metadata": {
            "tags": []
          },
          "execution_count": 18
        }
      ]
    },
    {
      "cell_type": "markdown",
      "metadata": {
        "id": "R3VXxpUCVEPN",
        "colab_type": "text"
      },
      "source": [
        "**Exercício**"
      ]
    },
    {
      "cell_type": "code",
      "metadata": {
        "id": "dpXjW6bbVDwh",
        "colab_type": "code",
        "colab": {}
      },
      "source": [
        "carros = (\n",
        "    (\n",
        "        'Jetta Variant',\n",
        "        'Motor 4.0 Turbo',\n",
        "        2003,\n",
        "        False,\n",
        "        ('Rodas de liga', 'Travas elétricas', 'Piloto automático')\n",
        "    ),\n",
        "    (\n",
        "        'Passat',\n",
        "        'Motor Diesel',\n",
        "        1991,\n",
        "        True,\n",
        "        ('Central multimídia', 'Teto panorâmico', 'Freios ABS')\n",
        "    )\n",
        ")"
      ],
      "execution_count": 19,
      "outputs": []
    },
    {
      "cell_type": "code",
      "metadata": {
        "id": "VbsvPMzCVK1O",
        "colab_type": "code",
        "colab": {
          "base_uri": "https://localhost:8080/",
          "height": 0
        },
        "outputId": "b6aa8b1b-3fb4-409b-82e7-b979526d845f"
      },
      "source": [
        "carros[0][3]"
      ],
      "execution_count": 20,
      "outputs": [
        {
          "output_type": "execute_result",
          "data": {
            "text/plain": [
              "False"
            ]
          },
          "metadata": {
            "tags": []
          },
          "execution_count": 20
        }
      ]
    },
    {
      "cell_type": "code",
      "metadata": {
        "id": "6mBPLoeAVK8_",
        "colab_type": "code",
        "colab": {
          "base_uri": "https://localhost:8080/",
          "height": 0
        },
        "outputId": "d1f1cbe6-61c1-4a6b-e0eb-c0188867907a"
      },
      "source": [
        "carros[-1][-1][-1]"
      ],
      "execution_count": 21,
      "outputs": [
        {
          "output_type": "execute_result",
          "data": {
            "application/vnd.google.colaboratory.intrinsic": {
              "type": "string"
            },
            "text/plain": [
              "'Freios ABS'"
            ]
          },
          "metadata": {
            "tags": []
          },
          "execution_count": 21
        }
      ]
    },
    {
      "cell_type": "code",
      "metadata": {
        "id": "T2OfmvjFVLCM",
        "colab_type": "code",
        "colab": {
          "base_uri": "https://localhost:8080/",
          "height": 0
        },
        "outputId": "3b0d3f14-1275-47fc-dc4d-1ebc22e47965"
      },
      "source": [
        "carros[0][-1][:2]"
      ],
      "execution_count": 22,
      "outputs": [
        {
          "output_type": "execute_result",
          "data": {
            "text/plain": [
              "('Rodas de liga', 'Travas elétricas')"
            ]
          },
          "metadata": {
            "tags": []
          },
          "execution_count": 22
        }
      ]
    },
    {
      "cell_type": "markdown",
      "metadata": {
        "id": "KLMxh4-0D0_c",
        "colab_type": "text"
      },
      "source": [
        "# 2.3 Iterando em tuplas"
      ]
    },
    {
      "cell_type": "code",
      "metadata": {
        "id": "K53elKsYD0_c",
        "colab_type": "code",
        "colab": {
          "base_uri": "https://localhost:8080/",
          "height": 0
        },
        "outputId": "169e2e01-7c71-4504-e645-4f2dd1aedec7"
      },
      "source": [
        "nomes_carros = ('Jetta Variant', 'Passat', 'Crossfox', 'DS5')\n",
        "nomes_carros"
      ],
      "execution_count": 23,
      "outputs": [
        {
          "output_type": "execute_result",
          "data": {
            "text/plain": [
              "('Jetta Variant', 'Passat', 'Crossfox', 'DS5')"
            ]
          },
          "metadata": {
            "tags": []
          },
          "execution_count": 23
        }
      ]
    },
    {
      "cell_type": "code",
      "metadata": {
        "id": "igZhZ5zdD0_d",
        "colab_type": "code",
        "colab": {
          "base_uri": "https://localhost:8080/",
          "height": 0
        },
        "outputId": "1df77d04-5936-4adb-d4f5-c863c2d73ade"
      },
      "source": [
        "for item in nomes_carros:\n",
        "  print(item)"
      ],
      "execution_count": 24,
      "outputs": [
        {
          "output_type": "stream",
          "text": [
            "Jetta Variant\n",
            "Passat\n",
            "Crossfox\n",
            "DS5\n"
          ],
          "name": "stdout"
        }
      ]
    },
    {
      "cell_type": "markdown",
      "metadata": {
        "id": "AOBjxBk8D0_f",
        "colab_type": "text"
      },
      "source": [
        "### Desempacotamento de tuplas"
      ]
    },
    {
      "cell_type": "code",
      "metadata": {
        "id": "UoEFnumhD0_f",
        "colab_type": "code",
        "colab": {}
      },
      "source": [
        "#atribuindo cada item da tupla em variáveis diferentes\n",
        "carro_1, carro_2, carro_3, carro_4 = nomes_carros"
      ],
      "execution_count": 25,
      "outputs": []
    },
    {
      "cell_type": "code",
      "metadata": {
        "id": "AaCLcNYTD0_g",
        "colab_type": "code",
        "colab": {
          "base_uri": "https://localhost:8080/",
          "height": 0
        },
        "outputId": "bc2b8526-5bd8-4e11-b221-9b9da1f7a6e6"
      },
      "source": [
        "carro_1"
      ],
      "execution_count": 26,
      "outputs": [
        {
          "output_type": "execute_result",
          "data": {
            "application/vnd.google.colaboratory.intrinsic": {
              "type": "string"
            },
            "text/plain": [
              "'Jetta Variant'"
            ]
          },
          "metadata": {
            "tags": []
          },
          "execution_count": 26
        }
      ]
    },
    {
      "cell_type": "code",
      "metadata": {
        "id": "TA71S9egD0_h",
        "colab_type": "code",
        "colab": {
          "base_uri": "https://localhost:8080/",
          "height": 0
        },
        "outputId": "2a1d728b-ccdc-43b3-e7a6-0ebe44de6df4"
      },
      "source": [
        "carro_2"
      ],
      "execution_count": 27,
      "outputs": [
        {
          "output_type": "execute_result",
          "data": {
            "application/vnd.google.colaboratory.intrinsic": {
              "type": "string"
            },
            "text/plain": [
              "'Passat'"
            ]
          },
          "metadata": {
            "tags": []
          },
          "execution_count": 27
        }
      ]
    },
    {
      "cell_type": "code",
      "metadata": {
        "id": "CHoJ034MD0_i",
        "colab_type": "code",
        "colab": {
          "base_uri": "https://localhost:8080/",
          "height": 0
        },
        "outputId": "e240dc6e-c940-43ac-9b59-0f70cc13e319"
      },
      "source": [
        "carro_3"
      ],
      "execution_count": 28,
      "outputs": [
        {
          "output_type": "execute_result",
          "data": {
            "application/vnd.google.colaboratory.intrinsic": {
              "type": "string"
            },
            "text/plain": [
              "'Crossfox'"
            ]
          },
          "metadata": {
            "tags": []
          },
          "execution_count": 28
        }
      ]
    },
    {
      "cell_type": "code",
      "metadata": {
        "id": "oxJrOuCSD0_j",
        "colab_type": "code",
        "colab": {
          "base_uri": "https://localhost:8080/",
          "height": 0
        },
        "outputId": "8641a92d-4c0f-49c0-af8d-d30d76bb242e"
      },
      "source": [
        "carro_4"
      ],
      "execution_count": 29,
      "outputs": [
        {
          "output_type": "execute_result",
          "data": {
            "application/vnd.google.colaboratory.intrinsic": {
              "type": "string"
            },
            "text/plain": [
              "'DS5'"
            ]
          },
          "metadata": {
            "tags": []
          },
          "execution_count": 29
        }
      ]
    },
    {
      "cell_type": "code",
      "metadata": {
        "id": "BbR9sB4BD0_k",
        "colab_type": "code",
        "colab": {}
      },
      "source": [
        "#quando não precisamos de todos os valores (usando o underscore)\n",
        "_, A, _, B = nomes_carros"
      ],
      "execution_count": 30,
      "outputs": []
    },
    {
      "cell_type": "code",
      "metadata": {
        "id": "aZvokrjPD0_m",
        "colab_type": "code",
        "colab": {
          "base_uri": "https://localhost:8080/",
          "height": 0
        },
        "outputId": "e9b4e05f-5589-4b91-d8b5-6320dc1ac33b"
      },
      "source": [
        "_"
      ],
      "execution_count": 31,
      "outputs": [
        {
          "output_type": "execute_result",
          "data": {
            "application/vnd.google.colaboratory.intrinsic": {
              "type": "string"
            },
            "text/plain": [
              "'Crossfox'"
            ]
          },
          "metadata": {
            "tags": []
          },
          "execution_count": 31
        }
      ]
    },
    {
      "cell_type": "code",
      "metadata": {
        "id": "aWgDMBXiD0_p",
        "colab_type": "code",
        "colab": {
          "base_uri": "https://localhost:8080/",
          "height": 0
        },
        "outputId": "84381a7f-b333-499a-861e-87ce8bba5cb2"
      },
      "source": [
        "A"
      ],
      "execution_count": 32,
      "outputs": [
        {
          "output_type": "execute_result",
          "data": {
            "application/vnd.google.colaboratory.intrinsic": {
              "type": "string"
            },
            "text/plain": [
              "'Passat'"
            ]
          },
          "metadata": {
            "tags": []
          },
          "execution_count": 32
        }
      ]
    },
    {
      "cell_type": "code",
      "metadata": {
        "id": "OdpgNh-ND0_q",
        "colab_type": "code",
        "colab": {
          "base_uri": "https://localhost:8080/",
          "height": 0
        },
        "outputId": "8406b104-4d53-4842-c849-611c87b6dd88"
      },
      "source": [
        "B"
      ],
      "execution_count": 33,
      "outputs": [
        {
          "output_type": "execute_result",
          "data": {
            "application/vnd.google.colaboratory.intrinsic": {
              "type": "string"
            },
            "text/plain": [
              "'DS5'"
            ]
          },
          "metadata": {
            "tags": []
          },
          "execution_count": 33
        }
      ]
    },
    {
      "cell_type": "code",
      "metadata": {
        "id": "upVYFnMdD0_r",
        "colab_type": "code",
        "colab": {}
      },
      "source": [
        "#quando só queremos um dos valores da tupla (o *_ ignora todos os demais itens da tupla)\n",
        "_,C,*_ = nomes_carros"
      ],
      "execution_count": 34,
      "outputs": []
    },
    {
      "cell_type": "code",
      "metadata": {
        "id": "L283U8SrX3jR",
        "colab_type": "code",
        "colab": {
          "base_uri": "https://localhost:8080/",
          "height": 0
        },
        "outputId": "0608882d-61df-4273-9ccc-d3fa92543022"
      },
      "source": [
        "C"
      ],
      "execution_count": 35,
      "outputs": [
        {
          "output_type": "execute_result",
          "data": {
            "application/vnd.google.colaboratory.intrinsic": {
              "type": "string"
            },
            "text/plain": [
              "'Passat'"
            ]
          },
          "metadata": {
            "tags": []
          },
          "execution_count": 35
        }
      ]
    },
    {
      "cell_type": "markdown",
      "metadata": {
        "id": "u85Aou8WD0_s",
        "colab_type": "text"
      },
      "source": [
        "## *zip()*\n",
        "\n",
        "https://docs.python.org/3.6/library/functions.html#zip"
      ]
    },
    {
      "cell_type": "code",
      "metadata": {
        "id": "PaC2oXGED0_t",
        "colab_type": "code",
        "colab": {
          "base_uri": "https://localhost:8080/",
          "height": 0
        },
        "outputId": "11dae908-fc79-466c-aca0-a424a14adf94"
      },
      "source": [
        "carros = ['Jetta Variant', 'Passat', 'Crossfox', 'DS5']\n",
        "carros"
      ],
      "execution_count": 36,
      "outputs": [
        {
          "output_type": "execute_result",
          "data": {
            "text/plain": [
              "['Jetta Variant', 'Passat', 'Crossfox', 'DS5']"
            ]
          },
          "metadata": {
            "tags": []
          },
          "execution_count": 36
        }
      ]
    },
    {
      "cell_type": "code",
      "metadata": {
        "id": "_02O1VnHD0_u",
        "colab_type": "code",
        "colab": {
          "base_uri": "https://localhost:8080/",
          "height": 0
        },
        "outputId": "c51d24d0-c83d-4f56-f5f6-cc9eadd60d04"
      },
      "source": [
        "valores = [88078.64, 106161.94, 72832.16, 124549.07]\n",
        "valores"
      ],
      "execution_count": 37,
      "outputs": [
        {
          "output_type": "execute_result",
          "data": {
            "text/plain": [
              "[88078.64, 106161.94, 72832.16, 124549.07]"
            ]
          },
          "metadata": {
            "tags": []
          },
          "execution_count": 37
        }
      ]
    },
    {
      "cell_type": "code",
      "metadata": {
        "id": "roQK5nYRD0_v",
        "colab_type": "code",
        "colab": {
          "base_uri": "https://localhost:8080/",
          "height": 0
        },
        "outputId": "94f94287-534a-40a5-a493-c9fb1abf0f64"
      },
      "source": [
        "#esta função é um iterador de tuplas\n",
        "zip(carros, valores)"
      ],
      "execution_count": 38,
      "outputs": [
        {
          "output_type": "execute_result",
          "data": {
            "text/plain": [
              "<zip at 0x7f255862df08>"
            ]
          },
          "metadata": {
            "tags": []
          },
          "execution_count": 38
        }
      ]
    },
    {
      "cell_type": "code",
      "metadata": {
        "id": "_WRxIRHrD0_w",
        "colab_type": "code",
        "colab": {
          "base_uri": "https://localhost:8080/",
          "height": 0
        },
        "outputId": "a2285502-409f-4bc4-da48-0b072cf8334a"
      },
      "source": [
        "#vendo o resultado do zip\n",
        "list(zip(carros,valores))"
      ],
      "execution_count": 39,
      "outputs": [
        {
          "output_type": "execute_result",
          "data": {
            "text/plain": [
              "[('Jetta Variant', 88078.64),\n",
              " ('Passat', 106161.94),\n",
              " ('Crossfox', 72832.16),\n",
              " ('DS5', 124549.07)]"
            ]
          },
          "metadata": {
            "tags": []
          },
          "execution_count": 39
        }
      ]
    },
    {
      "cell_type": "code",
      "metadata": {
        "id": "2zIuhIILD0_x",
        "colab_type": "code",
        "colab": {
          "base_uri": "https://localhost:8080/",
          "height": 0
        },
        "outputId": "53b7cca9-d991-43be-850b-2fd297860b2e"
      },
      "source": [
        "#iterando com zip\n",
        "for item in zip(carros,valores):\n",
        "  print(item)"
      ],
      "execution_count": 40,
      "outputs": [
        {
          "output_type": "stream",
          "text": [
            "('Jetta Variant', 88078.64)\n",
            "('Passat', 106161.94)\n",
            "('Crossfox', 72832.16)\n",
            "('DS5', 124549.07)\n"
          ],
          "name": "stdout"
        }
      ]
    },
    {
      "cell_type": "code",
      "metadata": {
        "id": "ZJaL62IpD0_y",
        "colab_type": "code",
        "colab": {
          "base_uri": "https://localhost:8080/",
          "height": 0
        },
        "outputId": "d60ca09c-debe-44af-95d4-aef10ac07407"
      },
      "source": [
        "#iterando com zip e usando o desempacotamento de tuplas\n",
        "for carro, valor in zip(carros,valores):\n",
        "  print(carro, valor)\n"
      ],
      "execution_count": 41,
      "outputs": [
        {
          "output_type": "stream",
          "text": [
            "Jetta Variant 88078.64\n",
            "Passat 106161.94\n",
            "Crossfox 72832.16\n",
            "DS5 124549.07\n"
          ],
          "name": "stdout"
        }
      ]
    },
    {
      "cell_type": "code",
      "metadata": {
        "id": "haL30KDaYkS6",
        "colab_type": "code",
        "colab": {
          "base_uri": "https://localhost:8080/",
          "height": 0
        },
        "outputId": "599667ad-5857-4185-a3db-94b83681a7d5"
      },
      "source": [
        "for carro, valor in zip(carros,valores):\n",
        "  if(valor > 100000):\n",
        "      print(carro)"
      ],
      "execution_count": 42,
      "outputs": [
        {
          "output_type": "stream",
          "text": [
            "Passat\n",
            "DS5\n"
          ],
          "name": "stdout"
        }
      ]
    },
    {
      "cell_type": "markdown",
      "metadata": {
        "id": "g8jGT26SZCjn",
        "colab_type": "text"
      },
      "source": [
        "**Exercícios**"
      ]
    },
    {
      "cell_type": "markdown",
      "metadata": {
        "id": "buI5XMuzZGdT",
        "colab_type": "text"
      },
      "source": [
        "O procedimento de iteração em tuplas é o mesmo que aprendemos com listas, no treinamento anterior. Utilizamos a tupla como iterador de um laço for simples, ou aninhado, e conseguimos acesso a cada item individualmente.\n",
        "\n",
        "Para responder esta questão, considere a mesma tupla da atividade anterior:"
      ]
    },
    {
      "cell_type": "code",
      "metadata": {
        "id": "R3hCy7WYZJV2",
        "colab_type": "code",
        "colab": {}
      },
      "source": [
        "carros = (\n",
        "    (\n",
        "        'Jetta Variant',\n",
        "        'Motor 4.0 Turbo',\n",
        "        2003,\n",
        "        False,\n",
        "        ('Rodas de liga', 'Travas elétricas', 'Piloto automático')\n",
        "    ),\n",
        "    (\n",
        "        'Passat',\n",
        "        'Motor Diesel',\n",
        "        1991,\n",
        "        True,\n",
        "        ('Central multimídia', 'Teto panorâmico', 'Freios ABS')\n",
        "    )\n",
        ")"
      ],
      "execution_count": 43,
      "outputs": []
    },
    {
      "cell_type": "markdown",
      "metadata": {
        "id": "wU0CozOHZMNl",
        "colab_type": "text"
      },
      "source": [
        "Observe que se trata de uma tupla (1º nível) com duas tuplas, que representam um conjunto de dados de dois veículos (2º nível), e que uma destas informações (acessórios) vêm também dentro de uma tupla (3º nível). O que precisamos é iterar na tupla carros e imprimir todos os acessórios que aparecem. O resultado desejado é o seguinte:"
      ]
    },
    {
      "cell_type": "markdown",
      "metadata": {
        "id": "DZYZ8VqUZSN6",
        "colab_type": "text"
      },
      "source": [
        "Rodas de liga\n",
        "\n",
        "Travas elétricas\n",
        "\n",
        "Piloto automático\n",
        "\n",
        "Central multimídia\n",
        "\n",
        "Teto panorâmico\n",
        "\n",
        "Freios ABS"
      ]
    },
    {
      "cell_type": "code",
      "metadata": {
        "id": "_uXSb3wRZO7X",
        "colab_type": "code",
        "colab": {
          "base_uri": "https://localhost:8080/",
          "height": 0
        },
        "outputId": "51814164-5d41-4b8d-ca7c-21d73f433d68"
      },
      "source": [
        "for tupla in carros:\n",
        "    for item in tupla[-1]:\n",
        "        print(item)"
      ],
      "execution_count": 44,
      "outputs": [
        {
          "output_type": "stream",
          "text": [
            "Rodas de liga\n",
            "Travas elétricas\n",
            "Piloto automático\n",
            "Central multimídia\n",
            "Teto panorâmico\n",
            "Freios ABS\n"
          ],
          "name": "stdout"
        }
      ]
    },
    {
      "cell_type": "markdown",
      "metadata": {
        "id": "q1H_ARWvZl6W",
        "colab_type": "text"
      },
      "source": [
        "**Exercício 2**\n",
        "Considerando as duas listas abaixo E utilizando o ferramental apresentado acima, marque a alternativa com o código que possibilita a impressão dos nomes dos veículos com quilometragem abaixo de 20.000 km.\n",
        "\n"
      ]
    },
    {
      "cell_type": "code",
      "metadata": {
        "id": "cPs4-llhZr-S",
        "colab_type": "code",
        "colab": {}
      },
      "source": [
        "nomes = ['Passat', 'Crossfox', 'DS5', 'C4', 'Jetta']\n",
        "kms = [15000, 12000, 32000, 8000, 50000]\n"
      ],
      "execution_count": 45,
      "outputs": []
    },
    {
      "cell_type": "code",
      "metadata": {
        "id": "kZNn3IfyZ8Sd",
        "colab_type": "code",
        "colab": {
          "base_uri": "https://localhost:8080/",
          "height": 0
        },
        "outputId": "95d6091d-8ba0-4808-a37c-14094bc74543"
      },
      "source": [
        "for nome, km in zip(nomes, kms):\n",
        "    if(km < 20000):\n",
        "        print(nome)"
      ],
      "execution_count": 46,
      "outputs": [
        {
          "output_type": "stream",
          "text": [
            "Passat\n",
            "Crossfox\n",
            "C4\n"
          ],
          "name": "stdout"
        }
      ]
    },
    {
      "cell_type": "markdown",
      "metadata": {
        "id": "xo76nR8rD0_0",
        "colab_type": "text"
      },
      "source": [
        "# <font color=green> 3. TRABALHANDO COM DICIONÁRIOS\n",
        "---"
      ]
    },
    {
      "cell_type": "markdown",
      "metadata": {
        "id": "wfWzOuztD0_0",
        "colab_type": "text"
      },
      "source": [
        "# 3.1 Criando dicionários\n",
        "\n",
        "Listas são coleções sequenciais, isto é, os itens destas sequências estão ordenados e utilizam índices (números inteiros) para acessar os valores.\n",
        "\n",
        "Os dicionários são coleções um pouco diferentes. São estruturas de dados que representam um tipo de mapeamento. Mapeamentos são coleções de associações entre pares de valores onde o primeiro elemento do par é conhecido como chave (*key*) e o segundo como valor (*value*).\n",
        "\n",
        "```\n",
        "dicionario = {key_1: value_1, key_2: value_2, ..., key_n: value_n}\n",
        "```\n",
        "\n",
        "https://docs.python.org/3.6/library/stdtypes.html#typesmapping"
      ]
    },
    {
      "cell_type": "code",
      "metadata": {
        "id": "YIFVkWT6D0_1",
        "colab_type": "code",
        "colab": {
          "base_uri": "https://localhost:8080/",
          "height": 0
        },
        "outputId": "ddf1fe1a-a3ae-4179-e95f-d3b5c675d207"
      },
      "source": [
        "carros = ['Jetta Variant', 'Passat', 'Crossfox']\n",
        "carros"
      ],
      "execution_count": 47,
      "outputs": [
        {
          "output_type": "execute_result",
          "data": {
            "text/plain": [
              "['Jetta Variant', 'Passat', 'Crossfox']"
            ]
          },
          "metadata": {
            "tags": []
          },
          "execution_count": 47
        }
      ]
    },
    {
      "cell_type": "code",
      "metadata": {
        "id": "2LHiBn3-D0_2",
        "colab_type": "code",
        "colab": {
          "base_uri": "https://localhost:8080/",
          "height": 0
        },
        "outputId": "419d7b7a-78bc-4120-9776-a0b596d99c0f"
      },
      "source": [
        "valores = [88078.64, 106161.94, 72832.16]\n",
        "valores"
      ],
      "execution_count": 48,
      "outputs": [
        {
          "output_type": "execute_result",
          "data": {
            "text/plain": [
              "[88078.64, 106161.94, 72832.16]"
            ]
          },
          "metadata": {
            "tags": []
          },
          "execution_count": 48
        }
      ]
    },
    {
      "cell_type": "code",
      "metadata": {
        "id": "YxLAx_sqD0_4",
        "colab_type": "code",
        "colab": {
          "base_uri": "https://localhost:8080/",
          "height": 0
        },
        "outputId": "80879cef-bfc8-46b8-a37d-1406879cf383"
      },
      "source": [
        "#buscando o índice em uma lista usando o valor\n",
        "carros.index('Passat')"
      ],
      "execution_count": 49,
      "outputs": [
        {
          "output_type": "execute_result",
          "data": {
            "text/plain": [
              "1"
            ]
          },
          "metadata": {
            "tags": []
          },
          "execution_count": 49
        }
      ]
    },
    {
      "cell_type": "code",
      "metadata": {
        "id": "WITNWExID0_7",
        "colab_type": "code",
        "colab": {
          "base_uri": "https://localhost:8080/",
          "height": 0
        },
        "outputId": "82e8351a-a557-4f53-e863-e2dd88092c07"
      },
      "source": [
        "#buscando na lista de valores o valor com o mesmo índice do Passat em carros\n",
        "valores[carros.index('Passat')]"
      ],
      "execution_count": 50,
      "outputs": [
        {
          "output_type": "execute_result",
          "data": {
            "text/plain": [
              "106161.94"
            ]
          },
          "metadata": {
            "tags": []
          },
          "execution_count": 50
        }
      ]
    },
    {
      "cell_type": "code",
      "metadata": {
        "id": "bHNqoDbTD0_8",
        "colab_type": "code",
        "colab": {
          "base_uri": "https://localhost:8080/",
          "height": 0
        },
        "outputId": "277a8fea-92c5-49c7-9c07-e7754702f0b1"
      },
      "source": [
        "#dicionários são coleções não ordenadas\n",
        "dados = {'Jetta Variant': 88078.64, 'Passat': 106161.94, 'Crossfox': 72832.16}\n",
        "dados"
      ],
      "execution_count": 51,
      "outputs": [
        {
          "output_type": "execute_result",
          "data": {
            "text/plain": [
              "{'Crossfox': 72832.16, 'Jetta Variant': 88078.64, 'Passat': 106161.94}"
            ]
          },
          "metadata": {
            "tags": []
          },
          "execution_count": 51
        }
      ]
    },
    {
      "cell_type": "code",
      "metadata": {
        "id": "OBgtiHf52lnB",
        "colab_type": "code",
        "colab": {
          "base_uri": "https://localhost:8080/",
          "height": 0
        },
        "outputId": "6d5bbd00-5212-41bd-cbee-d66443ccc935"
      },
      "source": [
        "type(dados)"
      ],
      "execution_count": 52,
      "outputs": [
        {
          "output_type": "execute_result",
          "data": {
            "text/plain": [
              "dict"
            ]
          },
          "metadata": {
            "tags": []
          },
          "execution_count": 52
        }
      ]
    },
    {
      "cell_type": "markdown",
      "metadata": {
        "id": "PQg-MLkGD0_-",
        "colab_type": "text"
      },
      "source": [
        "### Criando dicionários com *zip()*"
      ]
    },
    {
      "cell_type": "code",
      "metadata": {
        "id": "iB4Q_gbND0__",
        "colab_type": "code",
        "colab": {
          "base_uri": "https://localhost:8080/",
          "height": 0
        },
        "outputId": "150d4ada-418a-4a54-89c9-57237f024a6b"
      },
      "source": [
        "list(zip(carros,valores))"
      ],
      "execution_count": 53,
      "outputs": [
        {
          "output_type": "execute_result",
          "data": {
            "text/plain": [
              "[('Jetta Variant', 88078.64), ('Passat', 106161.94), ('Crossfox', 72832.16)]"
            ]
          },
          "metadata": {
            "tags": []
          },
          "execution_count": 53
        }
      ]
    },
    {
      "cell_type": "code",
      "metadata": {
        "id": "mIgZqdKKD1AA",
        "colab_type": "code",
        "colab": {
          "base_uri": "https://localhost:8080/",
          "height": 0
        },
        "outputId": "c2cbbcc7-e7bf-41ed-b1a2-d910cf0f300f"
      },
      "source": [
        "#criando um dicionário a partir de duas listas, usando a função zip\n",
        "dados = dict(zip(carros,valores))\n",
        "dados"
      ],
      "execution_count": 54,
      "outputs": [
        {
          "output_type": "execute_result",
          "data": {
            "text/plain": [
              "{'Crossfox': 72832.16, 'Jetta Variant': 88078.64, 'Passat': 106161.94}"
            ]
          },
          "metadata": {
            "tags": []
          },
          "execution_count": 54
        }
      ]
    },
    {
      "cell_type": "markdown",
      "metadata": {
        "id": "KYeRqavFD1AD",
        "colab_type": "text"
      },
      "source": [
        "# 3.2 Operações com dicionários"
      ]
    },
    {
      "cell_type": "markdown",
      "metadata": {
        "id": "KzmWbEltD1AD",
        "colab_type": "text"
      },
      "source": [
        "## *dict[ key ]*\n",
        "\n",
        "Retorna o valor correspondente à chave (*key*) no dicionário."
      ]
    },
    {
      "cell_type": "code",
      "metadata": {
        "id": "hFFDz6wKD1AD",
        "colab_type": "code",
        "colab": {
          "base_uri": "https://localhost:8080/",
          "height": 0
        },
        "outputId": "90c215bb-6623-4e05-c9bd-2ef3890ca663"
      },
      "source": [
        "dados['Jetta Variant']"
      ],
      "execution_count": 55,
      "outputs": [
        {
          "output_type": "execute_result",
          "data": {
            "text/plain": [
              "88078.64"
            ]
          },
          "metadata": {
            "tags": []
          },
          "execution_count": 55
        }
      ]
    },
    {
      "cell_type": "markdown",
      "metadata": {
        "id": "SWlE6VTBD1AE",
        "colab_type": "text"
      },
      "source": [
        "## *key in dict*\n",
        "\n",
        "Retorna **True** se a chave (*key*) for encontrada no dicionário."
      ]
    },
    {
      "cell_type": "code",
      "metadata": {
        "id": "Iy88SxBtD1AE",
        "colab_type": "code",
        "colab": {
          "base_uri": "https://localhost:8080/",
          "height": 0
        },
        "outputId": "b42d990a-a47d-4c79-98dd-9e84cc7bef25"
      },
      "source": [
        "'Passat' in dados"
      ],
      "execution_count": 56,
      "outputs": [
        {
          "output_type": "execute_result",
          "data": {
            "text/plain": [
              "True"
            ]
          },
          "metadata": {
            "tags": []
          },
          "execution_count": 56
        }
      ]
    },
    {
      "cell_type": "code",
      "metadata": {
        "id": "Oma56NkAD1AF",
        "colab_type": "code",
        "colab": {
          "base_uri": "https://localhost:8080/",
          "height": 0
        },
        "outputId": "dd989fde-ad5c-4cc6-8421-302f94fc8800"
      },
      "source": [
        "'Fusca' in dados"
      ],
      "execution_count": 57,
      "outputs": [
        {
          "output_type": "execute_result",
          "data": {
            "text/plain": [
              "False"
            ]
          },
          "metadata": {
            "tags": []
          },
          "execution_count": 57
        }
      ]
    },
    {
      "cell_type": "code",
      "metadata": {
        "id": "yS2U-_8gD1AG",
        "colab_type": "code",
        "colab": {
          "base_uri": "https://localhost:8080/",
          "height": 0
        },
        "outputId": "388855d3-0ddf-4fb8-839c-f1483832a925"
      },
      "source": [
        "'Fusca' not in dados"
      ],
      "execution_count": 58,
      "outputs": [
        {
          "output_type": "execute_result",
          "data": {
            "text/plain": [
              "True"
            ]
          },
          "metadata": {
            "tags": []
          },
          "execution_count": 58
        }
      ]
    },
    {
      "cell_type": "markdown",
      "metadata": {
        "id": "oWbWyDd0D1AI",
        "colab_type": "text"
      },
      "source": [
        "## *len(dict)*\n",
        "\n",
        "Retorna o número de itens do dicionário."
      ]
    },
    {
      "cell_type": "code",
      "metadata": {
        "id": "k08YkCc1D1AJ",
        "colab_type": "code",
        "colab": {
          "base_uri": "https://localhost:8080/",
          "height": 0
        },
        "outputId": "7d5ebb23-9e21-4b56-b9f8-57364d978b18"
      },
      "source": [
        "#retorna os pares de chave/valor\n",
        "len(dados)"
      ],
      "execution_count": 59,
      "outputs": [
        {
          "output_type": "execute_result",
          "data": {
            "text/plain": [
              "3"
            ]
          },
          "metadata": {
            "tags": []
          },
          "execution_count": 59
        }
      ]
    },
    {
      "cell_type": "markdown",
      "metadata": {
        "id": "yYNqIHJBD1AK",
        "colab_type": "text"
      },
      "source": [
        "## *dict[ key ] = value*\n",
        "\n",
        "Inclui um item ao dicionário."
      ]
    },
    {
      "cell_type": "code",
      "metadata": {
        "id": "5jj3i52bD1AK",
        "colab_type": "code",
        "colab": {}
      },
      "source": [
        "dados['DS5'] = 124549.07"
      ],
      "execution_count": 60,
      "outputs": []
    },
    {
      "cell_type": "code",
      "metadata": {
        "id": "y6rso5hLD1AL",
        "colab_type": "code",
        "colab": {
          "base_uri": "https://localhost:8080/",
          "height": 0
        },
        "outputId": "104625e2-da4d-4dcd-9cd3-620cb481767b"
      },
      "source": [
        "dados"
      ],
      "execution_count": 61,
      "outputs": [
        {
          "output_type": "execute_result",
          "data": {
            "text/plain": [
              "{'Crossfox': 72832.16,\n",
              " 'DS5': 124549.07,\n",
              " 'Jetta Variant': 88078.64,\n",
              " 'Passat': 106161.94}"
            ]
          },
          "metadata": {
            "tags": []
          },
          "execution_count": 61
        }
      ]
    },
    {
      "cell_type": "markdown",
      "metadata": {
        "id": "_z0JySuqD1AL",
        "colab_type": "text"
      },
      "source": [
        "## *del dict[ key ]*\n",
        "\n",
        "Remove o item de chave (*key*) do dicionário."
      ]
    },
    {
      "cell_type": "code",
      "metadata": {
        "id": "PPfh6sfID1AM",
        "colab_type": "code",
        "colab": {}
      },
      "source": [
        "del dados['Passat']"
      ],
      "execution_count": 62,
      "outputs": []
    },
    {
      "cell_type": "code",
      "metadata": {
        "id": "BtjGpXtGD1AN",
        "colab_type": "code",
        "colab": {
          "base_uri": "https://localhost:8080/",
          "height": 0
        },
        "outputId": "8c58d8b8-cf33-4293-ff8a-fceb8bcfc971"
      },
      "source": [
        "dados"
      ],
      "execution_count": 63,
      "outputs": [
        {
          "output_type": "execute_result",
          "data": {
            "text/plain": [
              "{'Crossfox': 72832.16, 'DS5': 124549.07, 'Jetta Variant': 88078.64}"
            ]
          },
          "metadata": {
            "tags": []
          },
          "execution_count": 63
        }
      ]
    },
    {
      "cell_type": "markdown",
      "metadata": {
        "id": "xwVX0cpc4stj",
        "colab_type": "text"
      },
      "source": [
        "**Exercício**"
      ]
    },
    {
      "cell_type": "code",
      "metadata": {
        "id": "z-h27ibX4vz4",
        "colab_type": "code",
        "colab": {}
      },
      "source": [
        "dados = {\n",
        "    'Passat': {\n",
        "        'ano': 2012,\n",
        "        'km': 50000,\n",
        "        'valor': 75000,\n",
        "        'acessorios': ['Airbag', 'ABS']\n",
        "    }, \n",
        "    'Crossfox': {\n",
        "        'ano': 2015,\n",
        "        'km': 35000,\n",
        "        'valor': 25000\n",
        "    }\n",
        "}"
      ],
      "execution_count": 64,
      "outputs": []
    },
    {
      "cell_type": "markdown",
      "metadata": {
        "id": "GiYqEeLH4xtS",
        "colab_type": "text"
      },
      "source": [
        "Note que dados tem dois itens, onde a chave (key) é o nome do veículo e o valor (value) é um dicionário com informações sobre este veículo (ano, quilometragem, valor e acessórios). Nossa tarefa nesta atividade é aprender como acessar as informações de um dicionário dentro de outro dicionário.\n",
        "\n",
        "Queremos o seguinte:\n",
        "\n",
        "1) Testar se a chave acessorios existe no dicionário de informações do carro Crossfox (Resposta: False)\n",
        "\n",
        "2) Testar se a chave acessorios existe no dicionário de informações do carro Passat (Resposta: True)\n",
        "\n",
        "3) Obter o valor do carro Crossfox (Resposta: 25000)\n",
        "\n",
        "4) Acessar o último acessório do carro Passat (Resposta: 'ABS')\n",
        "\n",
        "Assinale a alternativa que mostra os códigos corretos para retornar e acessar as informações acima (Dica: utilize um notebook para verificar os códigos desta atividade):"
      ]
    },
    {
      "cell_type": "code",
      "metadata": {
        "id": "gZiY1cyV46M_",
        "colab_type": "code",
        "colab": {
          "base_uri": "https://localhost:8080/",
          "height": 0
        },
        "outputId": "00026c34-250a-4eae-e1cc-ac6ecaca2e20"
      },
      "source": [
        "'acessorios' in dados['Crossfox']"
      ],
      "execution_count": 65,
      "outputs": [
        {
          "output_type": "execute_result",
          "data": {
            "text/plain": [
              "False"
            ]
          },
          "metadata": {
            "tags": []
          },
          "execution_count": 65
        }
      ]
    },
    {
      "cell_type": "code",
      "metadata": {
        "id": "Xi7iFShQ46RJ",
        "colab_type": "code",
        "colab": {
          "base_uri": "https://localhost:8080/",
          "height": 0
        },
        "outputId": "32e4b350-6d9b-4ae8-fcd1-08ba55cfd476"
      },
      "source": [
        "'acessorios' in dados['Passat']"
      ],
      "execution_count": 66,
      "outputs": [
        {
          "output_type": "execute_result",
          "data": {
            "text/plain": [
              "True"
            ]
          },
          "metadata": {
            "tags": []
          },
          "execution_count": 66
        }
      ]
    },
    {
      "cell_type": "code",
      "metadata": {
        "id": "2qSj49KL46WH",
        "colab_type": "code",
        "colab": {
          "base_uri": "https://localhost:8080/",
          "height": 0
        },
        "outputId": "2aa536f2-e5ac-463c-b6bd-723b78f01196"
      },
      "source": [
        "dados['Crossfox']['valor']"
      ],
      "execution_count": 67,
      "outputs": [
        {
          "output_type": "execute_result",
          "data": {
            "text/plain": [
              "25000"
            ]
          },
          "metadata": {
            "tags": []
          },
          "execution_count": 67
        }
      ]
    },
    {
      "cell_type": "code",
      "metadata": {
        "id": "7CVuK7e95q5_",
        "colab_type": "code",
        "colab": {
          "base_uri": "https://localhost:8080/",
          "height": 0
        },
        "outputId": "e6433a11-79e3-4de9-8a99-4c9fc372ba81"
      },
      "source": [
        "dados['Passat']['acessorios'][-1]"
      ],
      "execution_count": 68,
      "outputs": [
        {
          "output_type": "execute_result",
          "data": {
            "application/vnd.google.colaboratory.intrinsic": {
              "type": "string"
            },
            "text/plain": [
              "'ABS'"
            ]
          },
          "metadata": {
            "tags": []
          },
          "execution_count": 68
        }
      ]
    },
    {
      "cell_type": "markdown",
      "metadata": {
        "id": "FodJVx5sD1AP",
        "colab_type": "text"
      },
      "source": [
        "# 3.3 Métodos de dicionários"
      ]
    },
    {
      "cell_type": "markdown",
      "metadata": {
        "id": "7pqdPOkYD1AP",
        "colab_type": "text"
      },
      "source": [
        "## *dict.update()*\n",
        "\n",
        "Atualiza o dicionário."
      ]
    },
    {
      "cell_type": "code",
      "metadata": {
        "id": "DUySYxKQD1AQ",
        "colab_type": "code",
        "colab": {
          "base_uri": "https://localhost:8080/",
          "height": 0
        },
        "outputId": "156fe25c-9dd7-4c61-d768-d3c89059a166"
      },
      "source": [
        "#gerando os dados novamente pq mudei completamente o dados anteriormente\n",
        "dados = dict(zip(carros,valores))\n",
        "dados"
      ],
      "execution_count": 69,
      "outputs": [
        {
          "output_type": "execute_result",
          "data": {
            "text/plain": [
              "{'Crossfox': 72832.16, 'Jetta Variant': 88078.64, 'Passat': 106161.94}"
            ]
          },
          "metadata": {
            "tags": []
          },
          "execution_count": 69
        }
      ]
    },
    {
      "cell_type": "code",
      "metadata": {
        "id": "DLsqp71cD1AR",
        "colab_type": "code",
        "colab": {
          "base_uri": "https://localhost:8080/",
          "height": 0
        },
        "outputId": "1e9cc8ee-a5b1-4520-95b2-7635f011536d"
      },
      "source": [
        "dados.update({'DS5': 124549.07})\n",
        "dados"
      ],
      "execution_count": 70,
      "outputs": [
        {
          "output_type": "execute_result",
          "data": {
            "text/plain": [
              "{'Crossfox': 72832.16,\n",
              " 'DS5': 124549.07,\n",
              " 'Jetta Variant': 88078.64,\n",
              " 'Passat': 106161.94}"
            ]
          },
          "metadata": {
            "tags": []
          },
          "execution_count": 70
        }
      ]
    },
    {
      "cell_type": "code",
      "metadata": {
        "id": "bKnq488x5-xu",
        "colab_type": "code",
        "colab": {
          "base_uri": "https://localhost:8080/",
          "height": 0
        },
        "outputId": "b6a170da-92c0-49ca-895e-b5c72b147418"
      },
      "source": [
        "#podemos usar o método para atualizar um valor existente bem como incluir novos valores\n",
        "dados.update({'Passat':106161.95, 'Fusca':150000})\n",
        "dados"
      ],
      "execution_count": 71,
      "outputs": [
        {
          "output_type": "execute_result",
          "data": {
            "text/plain": [
              "{'Crossfox': 72832.16,\n",
              " 'DS5': 124549.07,\n",
              " 'Fusca': 150000,\n",
              " 'Jetta Variant': 88078.64,\n",
              " 'Passat': 106161.95}"
            ]
          },
          "metadata": {
            "tags": []
          },
          "execution_count": 71
        }
      ]
    },
    {
      "cell_type": "markdown",
      "metadata": {
        "id": "JLs5c0DeD1AR",
        "colab_type": "text"
      },
      "source": [
        "## *dict.copy()*\n",
        "\n",
        "Cria uma cópia do dicionário."
      ]
    },
    {
      "cell_type": "code",
      "metadata": {
        "id": "X9F7OB3eD1AS",
        "colab_type": "code",
        "colab": {}
      },
      "source": [
        "dados_copy = dados.copy()"
      ],
      "execution_count": 72,
      "outputs": []
    },
    {
      "cell_type": "code",
      "metadata": {
        "id": "v0rL0bveD1AS",
        "colab_type": "code",
        "colab": {
          "base_uri": "https://localhost:8080/",
          "height": 0
        },
        "outputId": "800a981a-636d-48cf-cf08-3ee90d3de2ac"
      },
      "source": [
        "dados_copy"
      ],
      "execution_count": 73,
      "outputs": [
        {
          "output_type": "execute_result",
          "data": {
            "text/plain": [
              "{'Crossfox': 72832.16,\n",
              " 'DS5': 124549.07,\n",
              " 'Fusca': 150000,\n",
              " 'Jetta Variant': 88078.64,\n",
              " 'Passat': 106161.95}"
            ]
          },
          "metadata": {
            "tags": []
          },
          "execution_count": 73
        }
      ]
    },
    {
      "cell_type": "code",
      "metadata": {
        "id": "M-abRGGrD1AT",
        "colab_type": "code",
        "colab": {}
      },
      "source": [
        "del dados_copy['Fusca']"
      ],
      "execution_count": 74,
      "outputs": []
    },
    {
      "cell_type": "code",
      "metadata": {
        "id": "ETBD0TkND1AU",
        "colab_type": "code",
        "colab": {
          "base_uri": "https://localhost:8080/",
          "height": 0
        },
        "outputId": "508842ad-bc0f-46b8-9302-d160504bbb3f"
      },
      "source": [
        "dados_copy"
      ],
      "execution_count": 75,
      "outputs": [
        {
          "output_type": "execute_result",
          "data": {
            "text/plain": [
              "{'Crossfox': 72832.16,\n",
              " 'DS5': 124549.07,\n",
              " 'Jetta Variant': 88078.64,\n",
              " 'Passat': 106161.95}"
            ]
          },
          "metadata": {
            "tags": []
          },
          "execution_count": 75
        }
      ]
    },
    {
      "cell_type": "code",
      "metadata": {
        "id": "vvrrbqkF7CbR",
        "colab_type": "code",
        "colab": {
          "base_uri": "https://localhost:8080/",
          "height": 0
        },
        "outputId": "8e7e911d-21cb-4f5c-90a5-460d94414ea1"
      },
      "source": [
        "dados"
      ],
      "execution_count": 76,
      "outputs": [
        {
          "output_type": "execute_result",
          "data": {
            "text/plain": [
              "{'Crossfox': 72832.16,\n",
              " 'DS5': 124549.07,\n",
              " 'Fusca': 150000,\n",
              " 'Jetta Variant': 88078.64,\n",
              " 'Passat': 106161.95}"
            ]
          },
          "metadata": {
            "tags": []
          },
          "execution_count": 76
        }
      ]
    },
    {
      "cell_type": "markdown",
      "metadata": {
        "id": "mNODkmHCD1AV",
        "colab_type": "text"
      },
      "source": [
        "## *dict.pop(key[, default ])*\n",
        "\n",
        "Se a chave for encontrada no dicionário, o item é removido e seu valor é retornado. Caso contrário, o valor especificado como *default* é retornado. Se o valor *default* não for fornecido e a chave não for encontrada no dicionário um erro será gerado."
      ]
    },
    {
      "cell_type": "code",
      "metadata": {
        "id": "_4QEPwScD1AW",
        "colab_type": "code",
        "colab": {
          "base_uri": "https://localhost:8080/",
          "height": 0
        },
        "outputId": "5ec3e05e-17cd-4974-bd26-0c34f6780732"
      },
      "source": [
        "dados_copy"
      ],
      "execution_count": 77,
      "outputs": [
        {
          "output_type": "execute_result",
          "data": {
            "text/plain": [
              "{'Crossfox': 72832.16,\n",
              " 'DS5': 124549.07,\n",
              " 'Jetta Variant': 88078.64,\n",
              " 'Passat': 106161.95}"
            ]
          },
          "metadata": {
            "tags": []
          },
          "execution_count": 77
        }
      ]
    },
    {
      "cell_type": "code",
      "metadata": {
        "id": "Hjh0MuymD1AX",
        "colab_type": "code",
        "colab": {
          "base_uri": "https://localhost:8080/",
          "height": 0
        },
        "outputId": "903bfd6c-8ebe-4035-a0dc-19ffdb866bcb"
      },
      "source": [
        "dados_copy.pop('Passat')"
      ],
      "execution_count": 78,
      "outputs": [
        {
          "output_type": "execute_result",
          "data": {
            "text/plain": [
              "106161.95"
            ]
          },
          "metadata": {
            "tags": []
          },
          "execution_count": 78
        }
      ]
    },
    {
      "cell_type": "code",
      "metadata": {
        "id": "f51rKjkuD1AX",
        "colab_type": "code",
        "colab": {
          "base_uri": "https://localhost:8080/",
          "height": 0
        },
        "outputId": "b3445035-9625-4810-ac2f-f90c04cf373f"
      },
      "source": [
        "dados_copy"
      ],
      "execution_count": 79,
      "outputs": [
        {
          "output_type": "execute_result",
          "data": {
            "text/plain": [
              "{'Crossfox': 72832.16, 'DS5': 124549.07, 'Jetta Variant': 88078.64}"
            ]
          },
          "metadata": {
            "tags": []
          },
          "execution_count": 79
        }
      ]
    },
    {
      "cell_type": "code",
      "metadata": {
        "id": "Ah4sZ7axD1AZ",
        "colab_type": "code",
        "colab": {}
      },
      "source": [
        "#dados_copy.pop('Passat')"
      ],
      "execution_count": 80,
      "outputs": []
    },
    {
      "cell_type": "code",
      "metadata": {
        "id": "SJATRY8RD1Aa",
        "colab_type": "code",
        "colab": {
          "base_uri": "https://localhost:8080/",
          "height": 0
        },
        "outputId": "517065ea-57ae-412a-fe78-46aedee977e4"
      },
      "source": [
        "#podemos colocar uma mensagem de erro caso não localize o item no dicionário\n",
        "dados_copy.pop('Passat', 'Chave não encontrada')"
      ],
      "execution_count": 81,
      "outputs": [
        {
          "output_type": "execute_result",
          "data": {
            "application/vnd.google.colaboratory.intrinsic": {
              "type": "string"
            },
            "text/plain": [
              "'Chave não encontrada'"
            ]
          },
          "metadata": {
            "tags": []
          },
          "execution_count": 81
        }
      ]
    },
    {
      "cell_type": "code",
      "metadata": {
        "id": "V36wHdzmD1Ab",
        "colab_type": "code",
        "colab": {
          "base_uri": "https://localhost:8080/",
          "height": 0
        },
        "outputId": "f0f961c4-912d-4b25-c611-321677775064"
      },
      "source": [
        "dados_copy"
      ],
      "execution_count": 82,
      "outputs": [
        {
          "output_type": "execute_result",
          "data": {
            "text/plain": [
              "{'Crossfox': 72832.16, 'DS5': 124549.07, 'Jetta Variant': 88078.64}"
            ]
          },
          "metadata": {
            "tags": []
          },
          "execution_count": 82
        }
      ]
    },
    {
      "cell_type": "markdown",
      "metadata": {
        "id": "Q5J0R7d3D1Ag",
        "colab_type": "text"
      },
      "source": [
        "## *dict.clear()*\n",
        "\n",
        "Remove todos os itens do dicionário."
      ]
    },
    {
      "cell_type": "code",
      "metadata": {
        "id": "AvkP_8mND1Ag",
        "colab_type": "code",
        "colab": {}
      },
      "source": [
        "dados_copy.clear()"
      ],
      "execution_count": 83,
      "outputs": []
    },
    {
      "cell_type": "code",
      "metadata": {
        "id": "S69pMYboD1Ah",
        "colab_type": "code",
        "colab": {
          "base_uri": "https://localhost:8080/",
          "height": 0
        },
        "outputId": "57e5e851-4f96-4c81-958e-d27db405af1c"
      },
      "source": [
        "dados_copy"
      ],
      "execution_count": 84,
      "outputs": [
        {
          "output_type": "execute_result",
          "data": {
            "text/plain": [
              "{}"
            ]
          },
          "metadata": {
            "tags": []
          },
          "execution_count": 84
        }
      ]
    },
    {
      "cell_type": "markdown",
      "metadata": {
        "id": "QhoSRfPsD1Ai",
        "colab_type": "text"
      },
      "source": [
        "# 3.4 Iterando em dicionários"
      ]
    },
    {
      "cell_type": "markdown",
      "metadata": {
        "id": "E-agaqakD1Ai",
        "colab_type": "text"
      },
      "source": [
        "## *dict.keys()*\n",
        "\n",
        "Retorna uma lista contendo as chaves (*keys*) do dicionário."
      ]
    },
    {
      "cell_type": "code",
      "metadata": {
        "id": "qFADEYmBD1Aj",
        "colab_type": "code",
        "colab": {
          "base_uri": "https://localhost:8080/",
          "height": 0
        },
        "outputId": "de9748ee-f512-409d-825c-9ee7e4cae180"
      },
      "source": [
        "dados"
      ],
      "execution_count": 85,
      "outputs": [
        {
          "output_type": "execute_result",
          "data": {
            "text/plain": [
              "{'Crossfox': 72832.16,\n",
              " 'DS5': 124549.07,\n",
              " 'Fusca': 150000,\n",
              " 'Jetta Variant': 88078.64,\n",
              " 'Passat': 106161.95}"
            ]
          },
          "metadata": {
            "tags": []
          },
          "execution_count": 85
        }
      ]
    },
    {
      "cell_type": "code",
      "metadata": {
        "id": "niwh9AgDD1Aj",
        "colab_type": "code",
        "colab": {
          "base_uri": "https://localhost:8080/",
          "height": 0
        },
        "outputId": "f0ede0a2-4378-4400-bba5-0f1b149cf4cf"
      },
      "source": [
        "dados.keys()"
      ],
      "execution_count": 86,
      "outputs": [
        {
          "output_type": "execute_result",
          "data": {
            "text/plain": [
              "dict_keys(['Jetta Variant', 'Passat', 'Crossfox', 'DS5', 'Fusca'])"
            ]
          },
          "metadata": {
            "tags": []
          },
          "execution_count": 86
        }
      ]
    },
    {
      "cell_type": "code",
      "metadata": {
        "id": "sD7V8nH28gne",
        "colab_type": "code",
        "colab": {
          "base_uri": "https://localhost:8080/",
          "height": 0
        },
        "outputId": "7e526933-38b5-42b2-8c54-bc2f1625aadb"
      },
      "source": [
        "#usando o método keys como um iterados\n",
        "for key in dados.keys():\n",
        "  print(dados[key])"
      ],
      "execution_count": 87,
      "outputs": [
        {
          "output_type": "stream",
          "text": [
            "88078.64\n",
            "106161.95\n",
            "72832.16\n",
            "124549.07\n",
            "150000\n"
          ],
          "name": "stdout"
        }
      ]
    },
    {
      "cell_type": "markdown",
      "metadata": {
        "id": "qFj6Cc7dD1Ak",
        "colab_type": "text"
      },
      "source": [
        "## *dict.values()*\n",
        "\n",
        "Retorna uma lista com todos os valores (*values*) do dicionário."
      ]
    },
    {
      "cell_type": "code",
      "metadata": {
        "id": "nfpLxrQVD1Al",
        "colab_type": "code",
        "colab": {
          "base_uri": "https://localhost:8080/",
          "height": 0
        },
        "outputId": "66417d04-a233-4fc5-dcdc-c9e79a05bbcb"
      },
      "source": [
        "dados.values()"
      ],
      "execution_count": 88,
      "outputs": [
        {
          "output_type": "execute_result",
          "data": {
            "text/plain": [
              "dict_values([88078.64, 106161.95, 72832.16, 124549.07, 150000])"
            ]
          },
          "metadata": {
            "tags": []
          },
          "execution_count": 88
        }
      ]
    },
    {
      "cell_type": "markdown",
      "metadata": {
        "id": "-NGRwX0AD1Al",
        "colab_type": "text"
      },
      "source": [
        "## *dict.items()*\n",
        "\n",
        "Retorna uma lista contendo uma tupla para cada par chave-valor (*key-value*) do dicionário."
      ]
    },
    {
      "cell_type": "code",
      "metadata": {
        "id": "Q2I9_6YvD1Am",
        "colab_type": "code",
        "colab": {
          "base_uri": "https://localhost:8080/",
          "height": 0
        },
        "outputId": "593a6c34-9d41-4775-bca1-62e2b817b272"
      },
      "source": [
        "dados.items()"
      ],
      "execution_count": 89,
      "outputs": [
        {
          "output_type": "execute_result",
          "data": {
            "text/plain": [
              "dict_items([('Jetta Variant', 88078.64), ('Passat', 106161.95), ('Crossfox', 72832.16), ('DS5', 124549.07), ('Fusca', 150000)])"
            ]
          },
          "metadata": {
            "tags": []
          },
          "execution_count": 89
        }
      ]
    },
    {
      "cell_type": "code",
      "metadata": {
        "id": "0j41ZqgQD1Am",
        "colab_type": "code",
        "colab": {
          "base_uri": "https://localhost:8080/",
          "height": 0
        },
        "outputId": "c0b2de8b-9317-4a8c-f737-35c614b6556e"
      },
      "source": [
        "for item in dados.items():\n",
        "  print(item)"
      ],
      "execution_count": 90,
      "outputs": [
        {
          "output_type": "stream",
          "text": [
            "('Jetta Variant', 88078.64)\n",
            "('Passat', 106161.95)\n",
            "('Crossfox', 72832.16)\n",
            "('DS5', 124549.07)\n",
            "('Fusca', 150000)\n"
          ],
          "name": "stdout"
        }
      ]
    },
    {
      "cell_type": "code",
      "metadata": {
        "id": "OVY9rIwFD1An",
        "colab_type": "code",
        "colab": {
          "base_uri": "https://localhost:8080/",
          "height": 0
        },
        "outputId": "74eaacef-161b-4723-c02d-c19d94d6da99"
      },
      "source": [
        "for key,value in dados.items():\n",
        "  print(key,value)"
      ],
      "execution_count": 91,
      "outputs": [
        {
          "output_type": "stream",
          "text": [
            "Jetta Variant 88078.64\n",
            "Passat 106161.95\n",
            "Crossfox 72832.16\n",
            "DS5 124549.07\n",
            "Fusca 150000\n"
          ],
          "name": "stdout"
        }
      ]
    },
    {
      "cell_type": "code",
      "metadata": {
        "id": "ma2Ol8vcD1Ap",
        "colab_type": "code",
        "colab": {
          "base_uri": "https://localhost:8080/",
          "height": 0
        },
        "outputId": "7e660c32-d2fa-411e-d953-2b1a24728825"
      },
      "source": [
        "#usando com desempacotamento de tuplas\n",
        "for key,value in dados.items():\n",
        "  if(value >100000):\n",
        "    print(key)"
      ],
      "execution_count": 92,
      "outputs": [
        {
          "output_type": "stream",
          "text": [
            "Passat\n",
            "DS5\n",
            "Fusca\n"
          ],
          "name": "stdout"
        }
      ]
    },
    {
      "cell_type": "markdown",
      "metadata": {
        "id": "BDfr12Jy9drn",
        "colab_type": "text"
      },
      "source": [
        "**Exercício**"
      ]
    },
    {
      "cell_type": "code",
      "metadata": {
        "id": "NuVRJZTe9gmU",
        "colab_type": "code",
        "colab": {}
      },
      "source": [
        "dados = {\n",
        "    'Crossfox': {'valor': 72000, 'ano': 2005}, \n",
        "    'DS5': {'valor': 125000, 'ano': 2015}, \n",
        "    'Fusca': {'valor': 150000, 'ano': 1976}, \n",
        "    'Jetta': {'valor': 88000, 'ano': 2010}, \n",
        "    'Passat': {'valor': 106000, 'ano': 1998}\n",
        "}"
      ],
      "execution_count": 93,
      "outputs": []
    },
    {
      "cell_type": "markdown",
      "metadata": {
        "id": "Sxtrcg2r9kN3",
        "colab_type": "text"
      },
      "source": [
        "Selecione a alternativa que apresenta o código que imprime somente os nomes dos veículos com ano de fabricação maior ou igual a 2000."
      ]
    },
    {
      "cell_type": "code",
      "metadata": {
        "id": "s28n_tDE9nHD",
        "colab_type": "code",
        "colab": {
          "base_uri": "https://localhost:8080/",
          "height": 0
        },
        "outputId": "7eb97d9a-343a-4ba7-fa17-162d307c1d01"
      },
      "source": [
        "for item in dados.items():\n",
        "    if(item[1]['ano'] >= 2000):\n",
        "        print(item[0])"
      ],
      "execution_count": 94,
      "outputs": [
        {
          "output_type": "stream",
          "text": [
            "Crossfox\n",
            "DS5\n",
            "Jetta\n"
          ],
          "name": "stdout"
        }
      ]
    },
    {
      "cell_type": "markdown",
      "metadata": {
        "id": "-q3AlSg3D1Aq",
        "colab_type": "text"
      },
      "source": [
        "# <font color=green> 4. FUNÇÕES E PACOTES\n",
        "---\n",
        "    \n",
        "Funções são unidades de código reutilizáveis que realizam uma tarefa específica, podem receber alguma entrada e também podem retornar alguma resultado."
      ]
    },
    {
      "cell_type": "markdown",
      "metadata": {
        "id": "5CfEcU58D1Aq",
        "colab_type": "text"
      },
      "source": [
        "# 4.1 Built-in function\n",
        "\n",
        "A linguagem Python possui várias funções integradas que estão sempre acessíveis. Algumas já utilizamos em nosso treinamento: type(), print(), zip(), len(), set() etc.\n",
        "\n",
        "https://docs.python.org/3.6/library/functions.html"
      ]
    },
    {
      "cell_type": "code",
      "metadata": {
        "id": "DP7cmY7xD1Aq",
        "colab_type": "code",
        "colab": {
          "base_uri": "https://localhost:8080/",
          "height": 0
        },
        "outputId": "84347aef-8fbc-4ef7-96ab-e5778457d4ca"
      },
      "source": [
        "dados = {'Jetta Variant': 88078.64, 'Passat': 106161.94, 'Crossfox': 72832.16}\n",
        "dados"
      ],
      "execution_count": 95,
      "outputs": [
        {
          "output_type": "execute_result",
          "data": {
            "text/plain": [
              "{'Crossfox': 72832.16, 'Jetta Variant': 88078.64, 'Passat': 106161.94}"
            ]
          },
          "metadata": {
            "tags": []
          },
          "execution_count": 95
        }
      ]
    },
    {
      "cell_type": "code",
      "metadata": {
        "id": "5zAcGSCbD1Ar",
        "colab_type": "code",
        "colab": {
          "base_uri": "https://localhost:8080/",
          "height": 0
        },
        "outputId": "9ad6e186-04df-42f7-925d-56e63e185f08"
      },
      "source": [
        "valores = []\n",
        "for valor in dados.values():\n",
        "  valores.append(valor)\n",
        "valores"
      ],
      "execution_count": 96,
      "outputs": [
        {
          "output_type": "execute_result",
          "data": {
            "text/plain": [
              "[88078.64, 106161.94, 72832.16]"
            ]
          },
          "metadata": {
            "tags": []
          },
          "execution_count": 96
        }
      ]
    },
    {
      "cell_type": "code",
      "metadata": {
        "id": "zG9_jU_1D1At",
        "colab_type": "code",
        "colab": {
          "base_uri": "https://localhost:8080/",
          "height": 0
        },
        "outputId": "29d3fafd-708c-45b7-8c3c-2a62794524e6"
      },
      "source": [
        "soma = 0\n",
        "for valor in dados.values():\n",
        "  soma += valor\n",
        "soma"
      ],
      "execution_count": 97,
      "outputs": [
        {
          "output_type": "execute_result",
          "data": {
            "text/plain": [
              "267072.74"
            ]
          },
          "metadata": {
            "tags": []
          },
          "execution_count": 97
        }
      ]
    },
    {
      "cell_type": "code",
      "metadata": {
        "id": "jn0O3uXZD1Au",
        "colab_type": "code",
        "colab": {
          "base_uri": "https://localhost:8080/",
          "height": 0
        },
        "outputId": "baf978eb-d23a-4554-9d70-29a7330ad3cf"
      },
      "source": [
        "list(dados.values())"
      ],
      "execution_count": 98,
      "outputs": [
        {
          "output_type": "execute_result",
          "data": {
            "text/plain": [
              "[88078.64, 106161.94, 72832.16]"
            ]
          },
          "metadata": {
            "tags": []
          },
          "execution_count": 98
        }
      ]
    },
    {
      "cell_type": "code",
      "metadata": {
        "id": "lnUjKVnoD1Aw",
        "colab_type": "code",
        "colab": {
          "base_uri": "https://localhost:8080/",
          "height": 0
        },
        "outputId": "168ff729-0e5b-435c-b8b9-d513186fb1ef"
      },
      "source": [
        "sum(dados.values())"
      ],
      "execution_count": 99,
      "outputs": [
        {
          "output_type": "execute_result",
          "data": {
            "text/plain": [
              "267072.74"
            ]
          },
          "metadata": {
            "tags": []
          },
          "execution_count": 99
        }
      ]
    },
    {
      "cell_type": "code",
      "metadata": {
        "scrolled": false,
        "id": "WdEuYXe2D1Ay",
        "colab_type": "code",
        "colab": {
          "base_uri": "https://localhost:8080/",
          "height": 0
        },
        "outputId": "b74ec567-c98f-43ed-decb-a97a067fd54a"
      },
      "source": [
        "#usando a função de ajuda\n",
        "help(print)"
      ],
      "execution_count": 100,
      "outputs": [
        {
          "output_type": "stream",
          "text": [
            "Help on built-in function print in module builtins:\n",
            "\n",
            "print(...)\n",
            "    print(value, ..., sep=' ', end='\\n', file=sys.stdout, flush=False)\n",
            "    \n",
            "    Prints the values to a stream, or to sys.stdout by default.\n",
            "    Optional keyword arguments:\n",
            "    file:  a file-like object (stream); defaults to the current sys.stdout.\n",
            "    sep:   string inserted between values, default a space.\n",
            "    end:   string appended after the last value, default a newline.\n",
            "    flush: whether to forcibly flush the stream.\n",
            "\n"
          ],
          "name": "stdout"
        }
      ]
    },
    {
      "cell_type": "code",
      "metadata": {
        "id": "hIA29O3tD1Az",
        "colab_type": "code",
        "colab": {}
      },
      "source": [
        "#outro jeito de acessar a função de ajuda\n",
        "print?"
      ],
      "execution_count": 101,
      "outputs": []
    },
    {
      "cell_type": "markdown",
      "metadata": {
        "id": "6w62Sl5ZD1A0",
        "colab_type": "text"
      },
      "source": [
        "# 4.2 Definindo funções sem e com parâmetros"
      ]
    },
    {
      "cell_type": "markdown",
      "metadata": {
        "id": "OADZiBP2D1A0",
        "colab_type": "text"
      },
      "source": [
        "### Funções sem parâmetros\n",
        "\n",
        "#### Formato padrão\n",
        "\n",
        "```\n",
        "def <nome>():\n",
        "    <instruções>\n",
        "```"
      ]
    },
    {
      "cell_type": "code",
      "metadata": {
        "id": "uCkplEpQD1A0",
        "colab_type": "code",
        "colab": {}
      },
      "source": [
        "def media():\n",
        "  valor = (1 + 2 + 3)/3\n",
        "  print(valor)"
      ],
      "execution_count": 102,
      "outputs": []
    },
    {
      "cell_type": "code",
      "metadata": {
        "id": "fOCEGq5VD1A1",
        "colab_type": "code",
        "colab": {
          "base_uri": "https://localhost:8080/",
          "height": 0
        },
        "outputId": "16356b23-887c-442c-f31d-289691e6a38e"
      },
      "source": [
        "media()"
      ],
      "execution_count": 103,
      "outputs": [
        {
          "output_type": "stream",
          "text": [
            "2.0\n"
          ],
          "name": "stdout"
        }
      ]
    },
    {
      "cell_type": "markdown",
      "metadata": {
        "id": "PwSlYSVAD1A2",
        "colab_type": "text"
      },
      "source": [
        "### Funções com parâmetros\n",
        "\n",
        "#### Formato padrão\n",
        "\n",
        "```\n",
        "def <nome>(<param_1>, <param_2>, ..., <param_n>):\n",
        "    <instruções>\n",
        "```"
      ]
    },
    {
      "cell_type": "code",
      "metadata": {
        "id": "A3YnBUduD1A3",
        "colab_type": "code",
        "colab": {}
      },
      "source": [
        "def media(number_1, number_2, number_3):\n",
        "  valor = (number_1 + number_2+ number_3)/3\n",
        "  print(valor)"
      ],
      "execution_count": 104,
      "outputs": []
    },
    {
      "cell_type": "code",
      "metadata": {
        "id": "rGUZbRERD1A3",
        "colab_type": "code",
        "colab": {
          "base_uri": "https://localhost:8080/",
          "height": 0
        },
        "outputId": "6d5fac70-124d-4b4e-cf8e-b1919d7896cc"
      },
      "source": [
        "media(10,20,30)"
      ],
      "execution_count": 105,
      "outputs": [
        {
          "output_type": "stream",
          "text": [
            "20.0\n"
          ],
          "name": "stdout"
        }
      ]
    },
    {
      "cell_type": "code",
      "metadata": {
        "id": "B9WDlRE7D1A5",
        "colab_type": "code",
        "colab": {}
      },
      "source": [
        "def media(lista):\n",
        "  valor = sum(lista)/len(lista)\n",
        "  print(valor)"
      ],
      "execution_count": 106,
      "outputs": []
    },
    {
      "cell_type": "code",
      "metadata": {
        "id": "1HAy8OK_D1A6",
        "colab_type": "code",
        "colab": {
          "base_uri": "https://localhost:8080/",
          "height": 0
        },
        "outputId": "443e25cc-f21f-4c47-b1cb-e2cca50cf7a3"
      },
      "source": [
        "resultado = media([1,2,3,4,5,6,7,8,9])"
      ],
      "execution_count": 107,
      "outputs": [
        {
          "output_type": "stream",
          "text": [
            "5.0\n"
          ],
          "name": "stdout"
        }
      ]
    },
    {
      "cell_type": "code",
      "metadata": {
        "id": "_CDa4oOfD1A6",
        "colab_type": "code",
        "colab": {}
      },
      "source": [
        "#como a função não retorna o valor, chamar esta variável não gera output\n",
        "resultado"
      ],
      "execution_count": 108,
      "outputs": []
    },
    {
      "cell_type": "markdown",
      "metadata": {
        "id": "8zNYrmFbD1A9",
        "colab_type": "text"
      },
      "source": [
        "# 4.3 Definindo funções que retornam valores"
      ]
    },
    {
      "cell_type": "markdown",
      "metadata": {
        "id": "J44K-dMOD1A9",
        "colab_type": "text"
      },
      "source": [
        "### Funções que retornam um valor\n",
        "\n",
        "#### Formato padrão\n",
        "\n",
        "```\n",
        "def <nome>(<param_1>, <param_2>, ..., <param_n>):\n",
        "    <instruções>\n",
        "    return <resultado>\n",
        "```"
      ]
    },
    {
      "cell_type": "code",
      "metadata": {
        "id": "-UG42RQJD1A9",
        "colab_type": "code",
        "colab": {}
      },
      "source": [
        "def media(lista):\n",
        "  valor = sum(lista)/len(lista)\n",
        "  return valor"
      ],
      "execution_count": 109,
      "outputs": []
    },
    {
      "cell_type": "code",
      "metadata": {
        "id": "VJwdvoT5D1A-",
        "colab_type": "code",
        "colab": {
          "base_uri": "https://localhost:8080/",
          "height": 0
        },
        "outputId": "a8cf4580-4ccd-4609-a003-6e01b440a95f"
      },
      "source": [
        "media([1,2,3,4,5,6,7,8])"
      ],
      "execution_count": 110,
      "outputs": [
        {
          "output_type": "execute_result",
          "data": {
            "text/plain": [
              "4.5"
            ]
          },
          "metadata": {
            "tags": []
          },
          "execution_count": 110
        }
      ]
    },
    {
      "cell_type": "code",
      "metadata": {
        "id": "AgAeJkpND1A-",
        "colab_type": "code",
        "colab": {}
      },
      "source": [
        "resultado = media([1,2,3,4,5,6,7,8])"
      ],
      "execution_count": 111,
      "outputs": []
    },
    {
      "cell_type": "code",
      "metadata": {
        "id": "_r616TevD1A_",
        "colab_type": "code",
        "colab": {
          "base_uri": "https://localhost:8080/",
          "height": 0
        },
        "outputId": "3424d3d1-5915-4f65-b754-8f880124dbaa"
      },
      "source": [
        "#como usamos o return, a função agora retorna um resultado\n",
        "resultado"
      ],
      "execution_count": 112,
      "outputs": [
        {
          "output_type": "execute_result",
          "data": {
            "text/plain": [
              "4.5"
            ]
          },
          "metadata": {
            "tags": []
          },
          "execution_count": 112
        }
      ]
    },
    {
      "cell_type": "markdown",
      "metadata": {
        "id": "MQaK8GV5D1BA",
        "colab_type": "text"
      },
      "source": [
        "### Funções que retornam mais de um valor\n",
        "\n",
        "#### Formato padrão\n",
        "\n",
        "```\n",
        "def <nome>(<param_1>, <param_2>, ..., <param_n>):\n",
        "    <instruções>\n",
        "    return (<resultado_1>, <resultado_2>, ..., <resultado_n>)\n",
        "```"
      ]
    },
    {
      "cell_type": "code",
      "metadata": {
        "id": "v0PUMegVD1BA",
        "colab_type": "code",
        "colab": {}
      },
      "source": [
        "def media(lista):\n",
        "  valor = sum(lista)/len(lista)\n",
        "  return (valor, len(lista))"
      ],
      "execution_count": 113,
      "outputs": []
    },
    {
      "cell_type": "code",
      "metadata": {
        "id": "Ys-etom8D1BA",
        "colab_type": "code",
        "colab": {
          "base_uri": "https://localhost:8080/",
          "height": 0
        },
        "outputId": "6a3458a1-f753-4169-9bb0-1de9eec30d20"
      },
      "source": [
        "media([1,2,3,4,5,6,7,8])"
      ],
      "execution_count": 114,
      "outputs": [
        {
          "output_type": "execute_result",
          "data": {
            "text/plain": [
              "(4.5, 8)"
            ]
          },
          "metadata": {
            "tags": []
          },
          "execution_count": 114
        }
      ]
    },
    {
      "cell_type": "code",
      "metadata": {
        "id": "LERrvkMHD1BC",
        "colab_type": "code",
        "colab": {}
      },
      "source": [
        "#podemos atribuir a variáveis\n",
        "resultado, n = media([1,2,3,4,5,6,7,8,9])"
      ],
      "execution_count": 115,
      "outputs": []
    },
    {
      "cell_type": "code",
      "metadata": {
        "id": "sqoFOWSsD1BC",
        "colab_type": "code",
        "colab": {
          "base_uri": "https://localhost:8080/",
          "height": 0
        },
        "outputId": "81890031-6ff3-4cbb-adbc-4106f54b5d99"
      },
      "source": [
        "resultado"
      ],
      "execution_count": 116,
      "outputs": [
        {
          "output_type": "execute_result",
          "data": {
            "text/plain": [
              "5.0"
            ]
          },
          "metadata": {
            "tags": []
          },
          "execution_count": 116
        }
      ]
    },
    {
      "cell_type": "code",
      "metadata": {
        "id": "NdB_Jyw_D1BD",
        "colab_type": "code",
        "colab": {
          "base_uri": "https://localhost:8080/",
          "height": 0
        },
        "outputId": "9ff5b382-4c4a-4db2-8b36-65142562b458"
      },
      "source": [
        "n"
      ],
      "execution_count": 117,
      "outputs": [
        {
          "output_type": "execute_result",
          "data": {
            "text/plain": [
              "9"
            ]
          },
          "metadata": {
            "tags": []
          },
          "execution_count": 117
        }
      ]
    },
    {
      "cell_type": "markdown",
      "metadata": {
        "id": "zwsYEmgovmt1",
        "colab_type": "text"
      },
      "source": [
        "**Exercício**"
      ]
    },
    {
      "cell_type": "code",
      "metadata": {
        "id": "HChUC2Z1vpfe",
        "colab_type": "code",
        "colab": {}
      },
      "source": [
        "dados = {\n",
        "    'Crossfox': {'km': 35000, 'ano': 2005}, \n",
        "    'DS5': {'km': 17000, 'ano': 2015}, \n",
        "    'Fusca': {'km': 130000, 'ano': 1979}, \n",
        "    'Jetta': {'km': 56000, 'ano': 2011}, \n",
        "    'Passat': {'km': 62000, 'ano': 1999}\n",
        "}"
      ],
      "execution_count": 118,
      "outputs": []
    },
    {
      "cell_type": "markdown",
      "metadata": {
        "id": "_GLEYkkvvsTX",
        "colab_type": "text"
      },
      "source": [
        " A estrutura a seguir é a definição de uma função que calcula as quilometragens médias anuais de cada veículo e retorna um dicionário com os nomes dos veículos como chaves e as quilometragens médias como valores:"
      ]
    },
    {
      "cell_type": "code",
      "metadata": {
        "id": "aO5pRbALvwDA",
        "colab_type": "code",
        "colab": {}
      },
      "source": [
        "def km_media(dataset, ano_atual):\n",
        "    result = {}\n",
        "    for item in dataset.items():\n",
        "        media = item[1]['km'] / (ano_atual - item[1]['ano'])\n",
        "        result.update({ item[0]: media })\n",
        "    return result"
      ],
      "execution_count": 119,
      "outputs": []
    },
    {
      "cell_type": "code",
      "metadata": {
        "id": "52Nlw2JowGne",
        "colab_type": "code",
        "colab": {
          "base_uri": "https://localhost:8080/",
          "height": 0
        },
        "outputId": "30397578-1e4d-4f66-cd30-41af5503c9b0"
      },
      "source": [
        "km_media(dados,2019)"
      ],
      "execution_count": 120,
      "outputs": [
        {
          "output_type": "execute_result",
          "data": {
            "text/plain": [
              "{'Crossfox': 2500.0,\n",
              " 'DS5': 4250.0,\n",
              " 'Fusca': 3250.0,\n",
              " 'Jetta': 7000.0,\n",
              " 'Passat': 3100.0}"
            ]
          },
          "metadata": {
            "tags": []
          },
          "execution_count": 120
        }
      ]
    },
    {
      "cell_type": "code",
      "metadata": {
        "id": "10TeyYUtw9H3",
        "colab_type": "code",
        "colab": {}
      },
      "source": [
        "#mudando a função para constar o valor da km_media em uma outra chave do dicionario\n",
        "\n",
        "def km_media(dataset, ano_atual):\n",
        "    result = {}\n",
        "    for item in dataset.items():\n",
        "        media = item[1]['km'] / (ano_atual - item[1]['ano'])\n",
        "        item[1].update({ 'km_media': media })\n",
        "        result.update({ item[0]: item[1] })\n",
        "    return result"
      ],
      "execution_count": 121,
      "outputs": []
    },
    {
      "cell_type": "code",
      "metadata": {
        "id": "JgYaI_nGxGd-",
        "colab_type": "code",
        "colab": {
          "base_uri": "https://localhost:8080/",
          "height": 0
        },
        "outputId": "76409adb-be18-4909-a6a4-e363f9772cda"
      },
      "source": [
        "km_media(dados,2019)"
      ],
      "execution_count": 122,
      "outputs": [
        {
          "output_type": "execute_result",
          "data": {
            "text/plain": [
              "{'Crossfox': {'ano': 2005, 'km': 35000, 'km_media': 2500.0},\n",
              " 'DS5': {'ano': 2015, 'km': 17000, 'km_media': 4250.0},\n",
              " 'Fusca': {'ano': 1979, 'km': 130000, 'km_media': 3250.0},\n",
              " 'Jetta': {'ano': 2011, 'km': 56000, 'km_media': 7000.0},\n",
              " 'Passat': {'ano': 1999, 'km': 62000, 'km_media': 3100.0}}"
            ]
          },
          "metadata": {
            "tags": []
          },
          "execution_count": 122
        }
      ]
    },
    {
      "cell_type": "markdown",
      "metadata": {
        "id": "uQ5lNnKrD1BD",
        "colab_type": "text"
      },
      "source": [
        "# <font color=green> 5. PANDAS BÁSICO\n",
        "---\n",
        "\n",
        "**versão: 0.25.2**\n",
        "  \n",
        "Pandas é uma ferramenta de manipulação de dados de alto nível, construída com base no pacote Numpy. O pacote pandas possui estruturas de dados bastante interessantes para manipulação de dados e por isso é muito utilizado por cientistas de dados.\n",
        "\n",
        "\n",
        "## Estruturas de Dados\n",
        "\n",
        "### Series\n",
        "\n",
        "Series são arrays unidimensionais rotulados capazes de armazenar qualquer tipo de dado. Os rótulos das linhas são chamados de **index**. A forma básica de criação de uma Series é a seguinte:\n",
        "\n",
        "\n",
        "```\n",
        "    s = pd.Series(dados, index = index)\n",
        "```\n",
        "\n",
        "O argumento *dados* pode ser um dicionário, uma lista, um array Numpy ou uma constante.\n",
        "\n",
        "### DataFrames\n",
        "\n",
        "DataFrame é uma estrutura de dados tabular bidimensional com rótulos nas linha e colunas. Como a Series, os DataFrames são capazes de armazenar qualquer tipo de dados.\n",
        "\n",
        "\n",
        "```\n",
        "    df = pd.DataFrame(dados, index = index, columns = columns)\n",
        "```\n",
        "\n",
        "O argumento *dados* pode ser um dicionário, uma lista, um array Numpy, uma Series e outro DataFrame.\n",
        "\n",
        "**Documentação:** https://pandas.pydata.org/pandas-docs/version/0.25/"
      ]
    },
    {
      "cell_type": "markdown",
      "metadata": {
        "id": "2qa7RC03D1BD",
        "colab_type": "text"
      },
      "source": [
        "# 5.1 Estruturas de dados"
      ]
    },
    {
      "cell_type": "code",
      "metadata": {
        "id": "4QyFDeS4D1BD",
        "colab_type": "code",
        "colab": {}
      },
      "source": [
        "#importando a biblioteca\n",
        "import pandas as pd"
      ],
      "execution_count": 123,
      "outputs": []
    },
    {
      "cell_type": "markdown",
      "metadata": {
        "id": "kIey8_OcD1BF",
        "colab_type": "text"
      },
      "source": [
        "### Criando uma Series a partir de uma lista"
      ]
    },
    {
      "cell_type": "code",
      "metadata": {
        "id": "yEZR6DWiD1BF",
        "colab_type": "code",
        "colab": {
          "base_uri": "https://localhost:8080/",
          "height": 34
        },
        "outputId": "16b36167-ada4-4a15-8e27-2327c98f377c"
      },
      "source": [
        "carros = ['Jetta Variant', 'Passat', 'Crossfox']\n",
        "carros"
      ],
      "execution_count": 124,
      "outputs": [
        {
          "output_type": "execute_result",
          "data": {
            "text/plain": [
              "['Jetta Variant', 'Passat', 'Crossfox']"
            ]
          },
          "metadata": {
            "tags": []
          },
          "execution_count": 124
        }
      ]
    },
    {
      "cell_type": "code",
      "metadata": {
        "id": "rLudWKZ_D1BF",
        "colab_type": "code",
        "colab": {
          "base_uri": "https://localhost:8080/",
          "height": 85
        },
        "outputId": "ea68b8f9-0f91-448a-8dde-d7139e2b6efe"
      },
      "source": [
        "s = pd.Series(carros)\n",
        "s"
      ],
      "execution_count": 125,
      "outputs": [
        {
          "output_type": "execute_result",
          "data": {
            "text/plain": [
              "0    Jetta Variant\n",
              "1           Passat\n",
              "2         Crossfox\n",
              "dtype: object"
            ]
          },
          "metadata": {
            "tags": []
          },
          "execution_count": 125
        }
      ]
    },
    {
      "cell_type": "markdown",
      "metadata": {
        "id": "VYVIKd1-D1BG",
        "colab_type": "text"
      },
      "source": [
        "### Criando um DataFrame a partir de uma lista de dicionários"
      ]
    },
    {
      "cell_type": "code",
      "metadata": {
        "id": "QFNS9PckD1BG",
        "colab_type": "code",
        "colab": {}
      },
      "source": [
        "dados = [\n",
        "    {'Nome': 'Jetta Variant', 'Motor': 'Motor 4.0 Turbo', 'Ano': 2003, 'Quilometragem': 44410.0, 'Zero_km': False, 'Valor': 88078.64},\n",
        "    {'Nome': 'Passat', 'Motor': 'Motor Diesel', 'Ano': 1991, 'Quilometragem': 5712.0, 'Zero_km': False, 'Valor': 106161.94},\n",
        "    {'Nome': 'Crossfox', 'Motor': 'Motor Diesel V8', 'Ano': 1990, 'Quilometragem': 37123.0, 'Zero_km': False, 'Valor': 72832.16}\n",
        "]"
      ],
      "execution_count": 126,
      "outputs": []
    },
    {
      "cell_type": "code",
      "metadata": {
        "id": "WDQb9AnKD1BH",
        "colab_type": "code",
        "colab": {
          "base_uri": "https://localhost:8080/",
          "height": 142
        },
        "outputId": "e74204b3-0053-45fa-e347-6fe39ff5fa9b"
      },
      "source": [
        "#quando criamos um dataframe a partir de um dicionário, as chaves viram os rótulos das colunas\n",
        "dataset = pd.DataFrame(dados)\n",
        "dataset"
      ],
      "execution_count": 127,
      "outputs": [
        {
          "output_type": "execute_result",
          "data": {
            "text/html": [
              "<div>\n",
              "<style scoped>\n",
              "    .dataframe tbody tr th:only-of-type {\n",
              "        vertical-align: middle;\n",
              "    }\n",
              "\n",
              "    .dataframe tbody tr th {\n",
              "        vertical-align: top;\n",
              "    }\n",
              "\n",
              "    .dataframe thead th {\n",
              "        text-align: right;\n",
              "    }\n",
              "</style>\n",
              "<table border=\"1\" class=\"dataframe\">\n",
              "  <thead>\n",
              "    <tr style=\"text-align: right;\">\n",
              "      <th></th>\n",
              "      <th>Nome</th>\n",
              "      <th>Motor</th>\n",
              "      <th>Ano</th>\n",
              "      <th>Quilometragem</th>\n",
              "      <th>Zero_km</th>\n",
              "      <th>Valor</th>\n",
              "    </tr>\n",
              "  </thead>\n",
              "  <tbody>\n",
              "    <tr>\n",
              "      <th>0</th>\n",
              "      <td>Jetta Variant</td>\n",
              "      <td>Motor 4.0 Turbo</td>\n",
              "      <td>2003</td>\n",
              "      <td>44410.0</td>\n",
              "      <td>False</td>\n",
              "      <td>88078.64</td>\n",
              "    </tr>\n",
              "    <tr>\n",
              "      <th>1</th>\n",
              "      <td>Passat</td>\n",
              "      <td>Motor Diesel</td>\n",
              "      <td>1991</td>\n",
              "      <td>5712.0</td>\n",
              "      <td>False</td>\n",
              "      <td>106161.94</td>\n",
              "    </tr>\n",
              "    <tr>\n",
              "      <th>2</th>\n",
              "      <td>Crossfox</td>\n",
              "      <td>Motor Diesel V8</td>\n",
              "      <td>1990</td>\n",
              "      <td>37123.0</td>\n",
              "      <td>False</td>\n",
              "      <td>72832.16</td>\n",
              "    </tr>\n",
              "  </tbody>\n",
              "</table>\n",
              "</div>"
            ],
            "text/plain": [
              "            Nome            Motor   Ano  Quilometragem  Zero_km      Valor\n",
              "0  Jetta Variant  Motor 4.0 Turbo  2003        44410.0    False   88078.64\n",
              "1         Passat     Motor Diesel  1991         5712.0    False  106161.94\n",
              "2       Crossfox  Motor Diesel V8  1990        37123.0    False   72832.16"
            ]
          },
          "metadata": {
            "tags": []
          },
          "execution_count": 127
        }
      ]
    },
    {
      "cell_type": "code",
      "metadata": {
        "id": "-2-jGvmGD1BI",
        "colab_type": "code",
        "colab": {
          "base_uri": "https://localhost:8080/",
          "height": 142
        },
        "outputId": "74ceda30-c018-4e28-f5dc-da3a62f47372"
      },
      "source": [
        "#mudando a ordem das colunas\n",
        "dataset[['Nome', 'Ano', 'Zero_km', 'Quilometragem', 'Motor', 'Valor']]"
      ],
      "execution_count": 128,
      "outputs": [
        {
          "output_type": "execute_result",
          "data": {
            "text/html": [
              "<div>\n",
              "<style scoped>\n",
              "    .dataframe tbody tr th:only-of-type {\n",
              "        vertical-align: middle;\n",
              "    }\n",
              "\n",
              "    .dataframe tbody tr th {\n",
              "        vertical-align: top;\n",
              "    }\n",
              "\n",
              "    .dataframe thead th {\n",
              "        text-align: right;\n",
              "    }\n",
              "</style>\n",
              "<table border=\"1\" class=\"dataframe\">\n",
              "  <thead>\n",
              "    <tr style=\"text-align: right;\">\n",
              "      <th></th>\n",
              "      <th>Nome</th>\n",
              "      <th>Ano</th>\n",
              "      <th>Zero_km</th>\n",
              "      <th>Quilometragem</th>\n",
              "      <th>Motor</th>\n",
              "      <th>Valor</th>\n",
              "    </tr>\n",
              "  </thead>\n",
              "  <tbody>\n",
              "    <tr>\n",
              "      <th>0</th>\n",
              "      <td>Jetta Variant</td>\n",
              "      <td>2003</td>\n",
              "      <td>False</td>\n",
              "      <td>44410.0</td>\n",
              "      <td>Motor 4.0 Turbo</td>\n",
              "      <td>88078.64</td>\n",
              "    </tr>\n",
              "    <tr>\n",
              "      <th>1</th>\n",
              "      <td>Passat</td>\n",
              "      <td>1991</td>\n",
              "      <td>False</td>\n",
              "      <td>5712.0</td>\n",
              "      <td>Motor Diesel</td>\n",
              "      <td>106161.94</td>\n",
              "    </tr>\n",
              "    <tr>\n",
              "      <th>2</th>\n",
              "      <td>Crossfox</td>\n",
              "      <td>1990</td>\n",
              "      <td>False</td>\n",
              "      <td>37123.0</td>\n",
              "      <td>Motor Diesel V8</td>\n",
              "      <td>72832.16</td>\n",
              "    </tr>\n",
              "  </tbody>\n",
              "</table>\n",
              "</div>"
            ],
            "text/plain": [
              "            Nome   Ano  Zero_km  Quilometragem            Motor      Valor\n",
              "0  Jetta Variant  2003    False        44410.0  Motor 4.0 Turbo   88078.64\n",
              "1         Passat  1991    False         5712.0     Motor Diesel  106161.94\n",
              "2       Crossfox  1990    False        37123.0  Motor Diesel V8   72832.16"
            ]
          },
          "metadata": {
            "tags": []
          },
          "execution_count": 128
        }
      ]
    },
    {
      "cell_type": "markdown",
      "metadata": {
        "id": "pJK2tQgYD1BK",
        "colab_type": "text"
      },
      "source": [
        "### Criando um DataFrame a partir de um dicionário"
      ]
    },
    {
      "cell_type": "code",
      "metadata": {
        "id": "WKNQwKucD1BK",
        "colab_type": "code",
        "colab": {}
      },
      "source": [
        "dados = {\n",
        "    'Nome': ['Jetta Variant', 'Passat', 'Crossfox'], \n",
        "    'Motor': ['Motor 4.0 Turbo', 'Motor Diesel', 'Motor Diesel V8'],\n",
        "    'Ano': [2003, 1991, 1990],\n",
        "    'Quilometragem': [44410.0, 5712.0, 37123.0],\n",
        "    'Zero_km': [False, False, False],\n",
        "    'Valor': [88078.64, 106161.94, 72832.16]\n",
        "}"
      ],
      "execution_count": 129,
      "outputs": []
    },
    {
      "cell_type": "code",
      "metadata": {
        "id": "lKnuZfzcD1BK",
        "colab_type": "code",
        "colab": {}
      },
      "source": [
        "#criando o dataset a partir de outra forma de dicionário\n",
        "dataset = pd.DataFrame(dados)"
      ],
      "execution_count": 130,
      "outputs": []
    },
    {
      "cell_type": "code",
      "metadata": {
        "id": "PNqTytC-D1BL",
        "colab_type": "code",
        "colab": {
          "base_uri": "https://localhost:8080/",
          "height": 142
        },
        "outputId": "48943693-8350-4cff-aa1c-b0a185921cd0"
      },
      "source": [
        "dataset"
      ],
      "execution_count": 131,
      "outputs": [
        {
          "output_type": "execute_result",
          "data": {
            "text/html": [
              "<div>\n",
              "<style scoped>\n",
              "    .dataframe tbody tr th:only-of-type {\n",
              "        vertical-align: middle;\n",
              "    }\n",
              "\n",
              "    .dataframe tbody tr th {\n",
              "        vertical-align: top;\n",
              "    }\n",
              "\n",
              "    .dataframe thead th {\n",
              "        text-align: right;\n",
              "    }\n",
              "</style>\n",
              "<table border=\"1\" class=\"dataframe\">\n",
              "  <thead>\n",
              "    <tr style=\"text-align: right;\">\n",
              "      <th></th>\n",
              "      <th>Nome</th>\n",
              "      <th>Motor</th>\n",
              "      <th>Ano</th>\n",
              "      <th>Quilometragem</th>\n",
              "      <th>Zero_km</th>\n",
              "      <th>Valor</th>\n",
              "    </tr>\n",
              "  </thead>\n",
              "  <tbody>\n",
              "    <tr>\n",
              "      <th>0</th>\n",
              "      <td>Jetta Variant</td>\n",
              "      <td>Motor 4.0 Turbo</td>\n",
              "      <td>2003</td>\n",
              "      <td>44410.0</td>\n",
              "      <td>False</td>\n",
              "      <td>88078.64</td>\n",
              "    </tr>\n",
              "    <tr>\n",
              "      <th>1</th>\n",
              "      <td>Passat</td>\n",
              "      <td>Motor Diesel</td>\n",
              "      <td>1991</td>\n",
              "      <td>5712.0</td>\n",
              "      <td>False</td>\n",
              "      <td>106161.94</td>\n",
              "    </tr>\n",
              "    <tr>\n",
              "      <th>2</th>\n",
              "      <td>Crossfox</td>\n",
              "      <td>Motor Diesel V8</td>\n",
              "      <td>1990</td>\n",
              "      <td>37123.0</td>\n",
              "      <td>False</td>\n",
              "      <td>72832.16</td>\n",
              "    </tr>\n",
              "  </tbody>\n",
              "</table>\n",
              "</div>"
            ],
            "text/plain": [
              "            Nome            Motor   Ano  Quilometragem  Zero_km      Valor\n",
              "0  Jetta Variant  Motor 4.0 Turbo  2003        44410.0    False   88078.64\n",
              "1         Passat     Motor Diesel  1991         5712.0    False  106161.94\n",
              "2       Crossfox  Motor Diesel V8  1990        37123.0    False   72832.16"
            ]
          },
          "metadata": {
            "tags": []
          },
          "execution_count": 131
        }
      ]
    },
    {
      "cell_type": "markdown",
      "metadata": {
        "id": "fCCXs0reD1BL",
        "colab_type": "text"
      },
      "source": [
        "### Criando um DataFrame a partir de uma arquivo externo"
      ]
    },
    {
      "cell_type": "code",
      "metadata": {
        "id": "78PRHGeZD1BL",
        "colab_type": "code",
        "colab": {
          "base_uri": "https://localhost:8080/",
          "height": 235
        },
        "outputId": "cb828e95-2e1f-4e7b-8514-611f378111af"
      },
      "source": [
        "#criando o DF usando o arquivo do curso, assumindo o índice como a primeira coluna do arquivo\n",
        "dataset = pd.read_csv('db.csv', sep=';', index_col=0)\n",
        "dataset.head()"
      ],
      "execution_count": 158,
      "outputs": [
        {
          "output_type": "execute_result",
          "data": {
            "text/html": [
              "<div>\n",
              "<style scoped>\n",
              "    .dataframe tbody tr th:only-of-type {\n",
              "        vertical-align: middle;\n",
              "    }\n",
              "\n",
              "    .dataframe tbody tr th {\n",
              "        vertical-align: top;\n",
              "    }\n",
              "\n",
              "    .dataframe thead th {\n",
              "        text-align: right;\n",
              "    }\n",
              "</style>\n",
              "<table border=\"1\" class=\"dataframe\">\n",
              "  <thead>\n",
              "    <tr style=\"text-align: right;\">\n",
              "      <th></th>\n",
              "      <th>Motor</th>\n",
              "      <th>Ano</th>\n",
              "      <th>Quilometragem</th>\n",
              "      <th>Zero_km</th>\n",
              "      <th>Acessórios</th>\n",
              "      <th>Valor</th>\n",
              "    </tr>\n",
              "    <tr>\n",
              "      <th>Nome</th>\n",
              "      <th></th>\n",
              "      <th></th>\n",
              "      <th></th>\n",
              "      <th></th>\n",
              "      <th></th>\n",
              "      <th></th>\n",
              "    </tr>\n",
              "  </thead>\n",
              "  <tbody>\n",
              "    <tr>\n",
              "      <th>Jetta Variant</th>\n",
              "      <td>Motor 4.0 Turbo</td>\n",
              "      <td>2003</td>\n",
              "      <td>44410.0</td>\n",
              "      <td>False</td>\n",
              "      <td>['Rodas de liga', 'Travas elétricas', 'Piloto ...</td>\n",
              "      <td>88078.64</td>\n",
              "    </tr>\n",
              "    <tr>\n",
              "      <th>Passat</th>\n",
              "      <td>Motor Diesel</td>\n",
              "      <td>1991</td>\n",
              "      <td>5712.0</td>\n",
              "      <td>False</td>\n",
              "      <td>['Central multimídia', 'Teto panorâmico', 'Fre...</td>\n",
              "      <td>106161.94</td>\n",
              "    </tr>\n",
              "    <tr>\n",
              "      <th>Crossfox</th>\n",
              "      <td>Motor Diesel V8</td>\n",
              "      <td>1990</td>\n",
              "      <td>37123.0</td>\n",
              "      <td>False</td>\n",
              "      <td>['Piloto automático', 'Controle de estabilidad...</td>\n",
              "      <td>72832.16</td>\n",
              "    </tr>\n",
              "    <tr>\n",
              "      <th>DS5</th>\n",
              "      <td>Motor 2.4 Turbo</td>\n",
              "      <td>2019</td>\n",
              "      <td>NaN</td>\n",
              "      <td>True</td>\n",
              "      <td>['Travas elétricas', '4 X 4', 'Vidros elétrico...</td>\n",
              "      <td>124549.07</td>\n",
              "    </tr>\n",
              "    <tr>\n",
              "      <th>Aston Martin DB4</th>\n",
              "      <td>Motor 2.4 Turbo</td>\n",
              "      <td>2006</td>\n",
              "      <td>25757.0</td>\n",
              "      <td>False</td>\n",
              "      <td>['Rodas de liga', '4 X 4', 'Central multimídia...</td>\n",
              "      <td>92612.10</td>\n",
              "    </tr>\n",
              "  </tbody>\n",
              "</table>\n",
              "</div>"
            ],
            "text/plain": [
              "                            Motor   Ano  Quilometragem  Zero_km  \\\n",
              "Nome                                                              \n",
              "Jetta Variant     Motor 4.0 Turbo  2003        44410.0    False   \n",
              "Passat               Motor Diesel  1991         5712.0    False   \n",
              "Crossfox          Motor Diesel V8  1990        37123.0    False   \n",
              "DS5               Motor 2.4 Turbo  2019            NaN     True   \n",
              "Aston Martin DB4  Motor 2.4 Turbo  2006        25757.0    False   \n",
              "\n",
              "                                                         Acessórios      Valor  \n",
              "Nome                                                                            \n",
              "Jetta Variant     ['Rodas de liga', 'Travas elétricas', 'Piloto ...   88078.64  \n",
              "Passat            ['Central multimídia', 'Teto panorâmico', 'Fre...  106161.94  \n",
              "Crossfox          ['Piloto automático', 'Controle de estabilidad...   72832.16  \n",
              "DS5               ['Travas elétricas', '4 X 4', 'Vidros elétrico...  124549.07  \n",
              "Aston Martin DB4  ['Rodas de liga', '4 X 4', 'Central multimídia...   92612.10  "
            ]
          },
          "metadata": {
            "tags": []
          },
          "execution_count": 158
        }
      ]
    },
    {
      "cell_type": "markdown",
      "metadata": {
        "id": "mWXuwYUz1mYh",
        "colab_type": "text"
      },
      "source": [
        "**Exercício**"
      ]
    },
    {
      "cell_type": "code",
      "metadata": {
        "id": "6mAAT9Pq1pi6",
        "colab_type": "code",
        "colab": {}
      },
      "source": [
        "dados = {\n",
        "    'Crossfox': {'km': 35000, 'ano': 2005}, \n",
        "    'DS5': {'km': 17000, 'ano': 2015}, \n",
        "    'Fusca': {'km': 130000, 'ano': 1979}, \n",
        "    'Jetta': {'km': 56000, 'ano': 2011}, \n",
        "    'Passat': {'km': 62000, 'ano': 1999}\n",
        "}"
      ],
      "execution_count": 159,
      "outputs": []
    },
    {
      "cell_type": "code",
      "metadata": {
        "id": "BZFejIVc1tfe",
        "colab_type": "code",
        "colab": {}
      },
      "source": [
        "def km_media(dataset, ano_atual):\n",
        "    result = {}\n",
        "    for item in dataset.items():\n",
        "        media = item[1]['km'] / (ano_atual - item[1]['ano'])\n",
        "        item[1].update({ 'km_media': media })\n",
        "        result.update({ item[0]: item[1] })\n",
        "\n",
        "    return result"
      ],
      "execution_count": 160,
      "outputs": []
    },
    {
      "cell_type": "code",
      "metadata": {
        "id": "mOqzfJkS1wZF",
        "colab_type": "code",
        "colab": {
          "base_uri": "https://localhost:8080/",
          "height": 204
        },
        "outputId": "e4997da2-a2d6-4100-bf5e-84937a56c29b"
      },
      "source": [
        "#A propriedade T é uma forma de acessar o método transpose() do DataFrame.\n",
        "carros = pd.DataFrame(km_media(dados, 2019)).T\n",
        "carros"
      ],
      "execution_count": 161,
      "outputs": [
        {
          "output_type": "execute_result",
          "data": {
            "text/html": [
              "<div>\n",
              "<style scoped>\n",
              "    .dataframe tbody tr th:only-of-type {\n",
              "        vertical-align: middle;\n",
              "    }\n",
              "\n",
              "    .dataframe tbody tr th {\n",
              "        vertical-align: top;\n",
              "    }\n",
              "\n",
              "    .dataframe thead th {\n",
              "        text-align: right;\n",
              "    }\n",
              "</style>\n",
              "<table border=\"1\" class=\"dataframe\">\n",
              "  <thead>\n",
              "    <tr style=\"text-align: right;\">\n",
              "      <th></th>\n",
              "      <th>km</th>\n",
              "      <th>ano</th>\n",
              "      <th>km_media</th>\n",
              "    </tr>\n",
              "  </thead>\n",
              "  <tbody>\n",
              "    <tr>\n",
              "      <th>Crossfox</th>\n",
              "      <td>35000.0</td>\n",
              "      <td>2005.0</td>\n",
              "      <td>2500.0</td>\n",
              "    </tr>\n",
              "    <tr>\n",
              "      <th>DS5</th>\n",
              "      <td>17000.0</td>\n",
              "      <td>2015.0</td>\n",
              "      <td>4250.0</td>\n",
              "    </tr>\n",
              "    <tr>\n",
              "      <th>Fusca</th>\n",
              "      <td>130000.0</td>\n",
              "      <td>1979.0</td>\n",
              "      <td>3250.0</td>\n",
              "    </tr>\n",
              "    <tr>\n",
              "      <th>Jetta</th>\n",
              "      <td>56000.0</td>\n",
              "      <td>2011.0</td>\n",
              "      <td>7000.0</td>\n",
              "    </tr>\n",
              "    <tr>\n",
              "      <th>Passat</th>\n",
              "      <td>62000.0</td>\n",
              "      <td>1999.0</td>\n",
              "      <td>3100.0</td>\n",
              "    </tr>\n",
              "  </tbody>\n",
              "</table>\n",
              "</div>"
            ],
            "text/plain": [
              "                km     ano  km_media\n",
              "Crossfox   35000.0  2005.0    2500.0\n",
              "DS5        17000.0  2015.0    4250.0\n",
              "Fusca     130000.0  1979.0    3250.0\n",
              "Jetta      56000.0  2011.0    7000.0\n",
              "Passat     62000.0  1999.0    3100.0"
            ]
          },
          "metadata": {
            "tags": []
          },
          "execution_count": 161
        }
      ]
    },
    {
      "cell_type": "markdown",
      "metadata": {
        "id": "y5V-1AK-D1BN",
        "colab_type": "text"
      },
      "source": [
        "# 5.2 Seleções com DataFrames"
      ]
    },
    {
      "cell_type": "markdown",
      "metadata": {
        "id": "wZjqlHe9D1BN",
        "colab_type": "text"
      },
      "source": [
        "### Selecionando colunas"
      ]
    },
    {
      "cell_type": "code",
      "metadata": {
        "scrolled": true,
        "id": "gM3LbtzlD1BN",
        "colab_type": "code",
        "colab": {
          "base_uri": "https://localhost:8080/",
          "height": 136
        },
        "outputId": "db6361dc-f5df-490b-b8b1-0354b3464343"
      },
      "source": [
        "dataset['Valor'].head()"
      ],
      "execution_count": 162,
      "outputs": [
        {
          "output_type": "execute_result",
          "data": {
            "text/plain": [
              "Nome\n",
              "Jetta Variant        88078.64\n",
              "Passat              106161.94\n",
              "Crossfox             72832.16\n",
              "DS5                 124549.07\n",
              "Aston Martin DB4     92612.10\n",
              "Name: Valor, dtype: float64"
            ]
          },
          "metadata": {
            "tags": []
          },
          "execution_count": 162
        }
      ]
    },
    {
      "cell_type": "code",
      "metadata": {
        "id": "R2FWgCM_D1BO",
        "colab_type": "code",
        "colab": {
          "base_uri": "https://localhost:8080/",
          "height": 34
        },
        "outputId": "7819ab57-bc9d-4bc6-8f12-8c0fedfb5895"
      },
      "source": [
        "#um dataframe é um conjunto de Series\n",
        "type(dataset['Valor'])"
      ],
      "execution_count": 163,
      "outputs": [
        {
          "output_type": "execute_result",
          "data": {
            "text/plain": [
              "pandas.core.series.Series"
            ]
          },
          "metadata": {
            "tags": []
          },
          "execution_count": 163
        }
      ]
    },
    {
      "cell_type": "code",
      "metadata": {
        "scrolled": true,
        "id": "lCCumsxsD1BP",
        "colab_type": "code",
        "colab": {
          "base_uri": "https://localhost:8080/",
          "height": 235
        },
        "outputId": "9d02ae16-a257-47bb-84cc-89496e3c4c6b"
      },
      "source": [
        "#transformando uma series num dataframe, acrescentamos o segundo colchete\n",
        "dataset[['Valor']].head()"
      ],
      "execution_count": 164,
      "outputs": [
        {
          "output_type": "execute_result",
          "data": {
            "text/html": [
              "<div>\n",
              "<style scoped>\n",
              "    .dataframe tbody tr th:only-of-type {\n",
              "        vertical-align: middle;\n",
              "    }\n",
              "\n",
              "    .dataframe tbody tr th {\n",
              "        vertical-align: top;\n",
              "    }\n",
              "\n",
              "    .dataframe thead th {\n",
              "        text-align: right;\n",
              "    }\n",
              "</style>\n",
              "<table border=\"1\" class=\"dataframe\">\n",
              "  <thead>\n",
              "    <tr style=\"text-align: right;\">\n",
              "      <th></th>\n",
              "      <th>Valor</th>\n",
              "    </tr>\n",
              "    <tr>\n",
              "      <th>Nome</th>\n",
              "      <th></th>\n",
              "    </tr>\n",
              "  </thead>\n",
              "  <tbody>\n",
              "    <tr>\n",
              "      <th>Jetta Variant</th>\n",
              "      <td>88078.64</td>\n",
              "    </tr>\n",
              "    <tr>\n",
              "      <th>Passat</th>\n",
              "      <td>106161.94</td>\n",
              "    </tr>\n",
              "    <tr>\n",
              "      <th>Crossfox</th>\n",
              "      <td>72832.16</td>\n",
              "    </tr>\n",
              "    <tr>\n",
              "      <th>DS5</th>\n",
              "      <td>124549.07</td>\n",
              "    </tr>\n",
              "    <tr>\n",
              "      <th>Aston Martin DB4</th>\n",
              "      <td>92612.10</td>\n",
              "    </tr>\n",
              "  </tbody>\n",
              "</table>\n",
              "</div>"
            ],
            "text/plain": [
              "                      Valor\n",
              "Nome                       \n",
              "Jetta Variant      88078.64\n",
              "Passat            106161.94\n",
              "Crossfox           72832.16\n",
              "DS5               124549.07\n",
              "Aston Martin DB4   92612.10"
            ]
          },
          "metadata": {
            "tags": []
          },
          "execution_count": 164
        }
      ]
    },
    {
      "cell_type": "code",
      "metadata": {
        "id": "zxlyC3B8D1BP",
        "colab_type": "code",
        "colab": {
          "base_uri": "https://localhost:8080/",
          "height": 34
        },
        "outputId": "7a51c13e-8716-443c-d137-9454c3f34089"
      },
      "source": [
        "type(dataset[['Valor']].head())"
      ],
      "execution_count": 165,
      "outputs": [
        {
          "output_type": "execute_result",
          "data": {
            "text/plain": [
              "pandas.core.frame.DataFrame"
            ]
          },
          "metadata": {
            "tags": []
          },
          "execution_count": 165
        }
      ]
    },
    {
      "cell_type": "markdown",
      "metadata": {
        "id": "7RPXPm1XD1BQ",
        "colab_type": "text"
      },
      "source": [
        "### Selecionando linhas - [ i : j ] \n",
        "\n",
        "<font color=red>**Observação:**</font> A indexação tem origem no zero e nos fatiamentos (*slices*) a linha com índice i é **incluída** e a linha com índice j **não é incluída** no resultado."
      ]
    },
    {
      "cell_type": "code",
      "metadata": {
        "id": "PdDUwPw3D1BQ",
        "colab_type": "code",
        "colab": {
          "base_uri": "https://localhost:8080/",
          "height": 204
        },
        "outputId": "6309c6e8-069b-4372-936e-5bc21a5193b0"
      },
      "source": [
        "dataset[0:4]"
      ],
      "execution_count": 166,
      "outputs": [
        {
          "output_type": "execute_result",
          "data": {
            "text/html": [
              "<div>\n",
              "<style scoped>\n",
              "    .dataframe tbody tr th:only-of-type {\n",
              "        vertical-align: middle;\n",
              "    }\n",
              "\n",
              "    .dataframe tbody tr th {\n",
              "        vertical-align: top;\n",
              "    }\n",
              "\n",
              "    .dataframe thead th {\n",
              "        text-align: right;\n",
              "    }\n",
              "</style>\n",
              "<table border=\"1\" class=\"dataframe\">\n",
              "  <thead>\n",
              "    <tr style=\"text-align: right;\">\n",
              "      <th></th>\n",
              "      <th>Motor</th>\n",
              "      <th>Ano</th>\n",
              "      <th>Quilometragem</th>\n",
              "      <th>Zero_km</th>\n",
              "      <th>Acessórios</th>\n",
              "      <th>Valor</th>\n",
              "    </tr>\n",
              "    <tr>\n",
              "      <th>Nome</th>\n",
              "      <th></th>\n",
              "      <th></th>\n",
              "      <th></th>\n",
              "      <th></th>\n",
              "      <th></th>\n",
              "      <th></th>\n",
              "    </tr>\n",
              "  </thead>\n",
              "  <tbody>\n",
              "    <tr>\n",
              "      <th>Jetta Variant</th>\n",
              "      <td>Motor 4.0 Turbo</td>\n",
              "      <td>2003</td>\n",
              "      <td>44410.0</td>\n",
              "      <td>False</td>\n",
              "      <td>['Rodas de liga', 'Travas elétricas', 'Piloto ...</td>\n",
              "      <td>88078.64</td>\n",
              "    </tr>\n",
              "    <tr>\n",
              "      <th>Passat</th>\n",
              "      <td>Motor Diesel</td>\n",
              "      <td>1991</td>\n",
              "      <td>5712.0</td>\n",
              "      <td>False</td>\n",
              "      <td>['Central multimídia', 'Teto panorâmico', 'Fre...</td>\n",
              "      <td>106161.94</td>\n",
              "    </tr>\n",
              "    <tr>\n",
              "      <th>Crossfox</th>\n",
              "      <td>Motor Diesel V8</td>\n",
              "      <td>1990</td>\n",
              "      <td>37123.0</td>\n",
              "      <td>False</td>\n",
              "      <td>['Piloto automático', 'Controle de estabilidad...</td>\n",
              "      <td>72832.16</td>\n",
              "    </tr>\n",
              "    <tr>\n",
              "      <th>DS5</th>\n",
              "      <td>Motor 2.4 Turbo</td>\n",
              "      <td>2019</td>\n",
              "      <td>NaN</td>\n",
              "      <td>True</td>\n",
              "      <td>['Travas elétricas', '4 X 4', 'Vidros elétrico...</td>\n",
              "      <td>124549.07</td>\n",
              "    </tr>\n",
              "  </tbody>\n",
              "</table>\n",
              "</div>"
            ],
            "text/plain": [
              "                         Motor   Ano  Quilometragem  Zero_km  \\\n",
              "Nome                                                           \n",
              "Jetta Variant  Motor 4.0 Turbo  2003        44410.0    False   \n",
              "Passat            Motor Diesel  1991         5712.0    False   \n",
              "Crossfox       Motor Diesel V8  1990        37123.0    False   \n",
              "DS5            Motor 2.4 Turbo  2019            NaN     True   \n",
              "\n",
              "                                                      Acessórios      Valor  \n",
              "Nome                                                                         \n",
              "Jetta Variant  ['Rodas de liga', 'Travas elétricas', 'Piloto ...   88078.64  \n",
              "Passat         ['Central multimídia', 'Teto panorâmico', 'Fre...  106161.94  \n",
              "Crossfox       ['Piloto automático', 'Controle de estabilidad...   72832.16  \n",
              "DS5            ['Travas elétricas', '4 X 4', 'Vidros elétrico...  124549.07  "
            ]
          },
          "metadata": {
            "tags": []
          },
          "execution_count": 166
        }
      ]
    },
    {
      "cell_type": "markdown",
      "metadata": {
        "id": "G3DMSk97D1BR",
        "colab_type": "text"
      },
      "source": [
        "### Utilizando .loc para seleções\n",
        "\n",
        "<font color=red>**Observação:**</font> Seleciona um grupo de linhas e colunas segundo os rótulos ou uma matriz booleana."
      ]
    },
    {
      "cell_type": "code",
      "metadata": {
        "id": "Ftg-hNOoD1BR",
        "colab_type": "code",
        "colab": {
          "base_uri": "https://localhost:8080/",
          "height": 136
        },
        "outputId": "910ebf28-47f3-4969-a748-5093f344b3a0"
      },
      "source": [
        "dataset.loc['Passat']"
      ],
      "execution_count": 167,
      "outputs": [
        {
          "output_type": "execute_result",
          "data": {
            "text/plain": [
              "Motor                                                 Motor Diesel\n",
              "Ano                                                           1991\n",
              "Quilometragem                                                 5712\n",
              "Zero_km                                                      False\n",
              "Acessórios       ['Central multimídia', 'Teto panorâmico', 'Fre...\n",
              "Valor                                                       106162\n",
              "Name: Passat, dtype: object"
            ]
          },
          "metadata": {
            "tags": []
          },
          "execution_count": 167
        }
      ]
    },
    {
      "cell_type": "code",
      "metadata": {
        "id": "xdxkDrHvD1BS",
        "colab_type": "code",
        "colab": {
          "base_uri": "https://localhost:8080/",
          "height": 142
        },
        "outputId": "bad23be0-74a4-4c30-9bd3-298972ff1fea"
      },
      "source": [
        "#retornando mais de uma informação - precisamos da estrutura de Dataframe\n",
        "dataset.loc[['Passat', 'DS5']]"
      ],
      "execution_count": 168,
      "outputs": [
        {
          "output_type": "execute_result",
          "data": {
            "text/html": [
              "<div>\n",
              "<style scoped>\n",
              "    .dataframe tbody tr th:only-of-type {\n",
              "        vertical-align: middle;\n",
              "    }\n",
              "\n",
              "    .dataframe tbody tr th {\n",
              "        vertical-align: top;\n",
              "    }\n",
              "\n",
              "    .dataframe thead th {\n",
              "        text-align: right;\n",
              "    }\n",
              "</style>\n",
              "<table border=\"1\" class=\"dataframe\">\n",
              "  <thead>\n",
              "    <tr style=\"text-align: right;\">\n",
              "      <th></th>\n",
              "      <th>Motor</th>\n",
              "      <th>Ano</th>\n",
              "      <th>Quilometragem</th>\n",
              "      <th>Zero_km</th>\n",
              "      <th>Acessórios</th>\n",
              "      <th>Valor</th>\n",
              "    </tr>\n",
              "    <tr>\n",
              "      <th>Nome</th>\n",
              "      <th></th>\n",
              "      <th></th>\n",
              "      <th></th>\n",
              "      <th></th>\n",
              "      <th></th>\n",
              "      <th></th>\n",
              "    </tr>\n",
              "  </thead>\n",
              "  <tbody>\n",
              "    <tr>\n",
              "      <th>Passat</th>\n",
              "      <td>Motor Diesel</td>\n",
              "      <td>1991</td>\n",
              "      <td>5712.0</td>\n",
              "      <td>False</td>\n",
              "      <td>['Central multimídia', 'Teto panorâmico', 'Fre...</td>\n",
              "      <td>106161.94</td>\n",
              "    </tr>\n",
              "    <tr>\n",
              "      <th>DS5</th>\n",
              "      <td>Motor 2.4 Turbo</td>\n",
              "      <td>2019</td>\n",
              "      <td>NaN</td>\n",
              "      <td>True</td>\n",
              "      <td>['Travas elétricas', '4 X 4', 'Vidros elétrico...</td>\n",
              "      <td>124549.07</td>\n",
              "    </tr>\n",
              "  </tbody>\n",
              "</table>\n",
              "</div>"
            ],
            "text/plain": [
              "                  Motor   Ano  Quilometragem  Zero_km  \\\n",
              "Nome                                                    \n",
              "Passat     Motor Diesel  1991         5712.0    False   \n",
              "DS5     Motor 2.4 Turbo  2019            NaN     True   \n",
              "\n",
              "                                               Acessórios      Valor  \n",
              "Nome                                                                  \n",
              "Passat  ['Central multimídia', 'Teto panorâmico', 'Fre...  106161.94  \n",
              "DS5     ['Travas elétricas', '4 X 4', 'Vidros elétrico...  124549.07  "
            ]
          },
          "metadata": {
            "tags": []
          },
          "execution_count": 168
        }
      ]
    },
    {
      "cell_type": "code",
      "metadata": {
        "id": "pMN3U1KjD1BS",
        "colab_type": "code",
        "colab": {
          "base_uri": "https://localhost:8080/",
          "height": 142
        },
        "outputId": "952fbb42-895d-4864-bfb0-46a246207916"
      },
      "source": [
        "#selecionando por linhas e colunas (usamos os rótulos para isso)\n",
        "dataset.loc[['Passat', 'DS5'], ['Motor', 'Valor']] #primeiro linha, depois coluna"
      ],
      "execution_count": 169,
      "outputs": [
        {
          "output_type": "execute_result",
          "data": {
            "text/html": [
              "<div>\n",
              "<style scoped>\n",
              "    .dataframe tbody tr th:only-of-type {\n",
              "        vertical-align: middle;\n",
              "    }\n",
              "\n",
              "    .dataframe tbody tr th {\n",
              "        vertical-align: top;\n",
              "    }\n",
              "\n",
              "    .dataframe thead th {\n",
              "        text-align: right;\n",
              "    }\n",
              "</style>\n",
              "<table border=\"1\" class=\"dataframe\">\n",
              "  <thead>\n",
              "    <tr style=\"text-align: right;\">\n",
              "      <th></th>\n",
              "      <th>Motor</th>\n",
              "      <th>Valor</th>\n",
              "    </tr>\n",
              "    <tr>\n",
              "      <th>Nome</th>\n",
              "      <th></th>\n",
              "      <th></th>\n",
              "    </tr>\n",
              "  </thead>\n",
              "  <tbody>\n",
              "    <tr>\n",
              "      <th>Passat</th>\n",
              "      <td>Motor Diesel</td>\n",
              "      <td>106161.94</td>\n",
              "    </tr>\n",
              "    <tr>\n",
              "      <th>DS5</th>\n",
              "      <td>Motor 2.4 Turbo</td>\n",
              "      <td>124549.07</td>\n",
              "    </tr>\n",
              "  </tbody>\n",
              "</table>\n",
              "</div>"
            ],
            "text/plain": [
              "                  Motor      Valor\n",
              "Nome                              \n",
              "Passat     Motor Diesel  106161.94\n",
              "DS5     Motor 2.4 Turbo  124549.07"
            ]
          },
          "metadata": {
            "tags": []
          },
          "execution_count": 169
        }
      ]
    },
    {
      "cell_type": "code",
      "metadata": {
        "scrolled": true,
        "id": "oOEO72uZD1BT",
        "colab_type": "code",
        "colab": {
          "base_uri": "https://localhost:8080/",
          "height": 1000
        },
        "outputId": "544faef2-66d1-4919-bcce-15d543dd4160"
      },
      "source": [
        "#vendo todas as linhas\n",
        "dataset.loc[:,['Motor', 'Valor']]"
      ],
      "execution_count": 170,
      "outputs": [
        {
          "output_type": "execute_result",
          "data": {
            "text/html": [
              "<div>\n",
              "<style scoped>\n",
              "    .dataframe tbody tr th:only-of-type {\n",
              "        vertical-align: middle;\n",
              "    }\n",
              "\n",
              "    .dataframe tbody tr th {\n",
              "        vertical-align: top;\n",
              "    }\n",
              "\n",
              "    .dataframe thead th {\n",
              "        text-align: right;\n",
              "    }\n",
              "</style>\n",
              "<table border=\"1\" class=\"dataframe\">\n",
              "  <thead>\n",
              "    <tr style=\"text-align: right;\">\n",
              "      <th></th>\n",
              "      <th>Motor</th>\n",
              "      <th>Valor</th>\n",
              "    </tr>\n",
              "    <tr>\n",
              "      <th>Nome</th>\n",
              "      <th></th>\n",
              "      <th></th>\n",
              "    </tr>\n",
              "  </thead>\n",
              "  <tbody>\n",
              "    <tr>\n",
              "      <th>Jetta Variant</th>\n",
              "      <td>Motor 4.0 Turbo</td>\n",
              "      <td>88078.64</td>\n",
              "    </tr>\n",
              "    <tr>\n",
              "      <th>Passat</th>\n",
              "      <td>Motor Diesel</td>\n",
              "      <td>106161.94</td>\n",
              "    </tr>\n",
              "    <tr>\n",
              "      <th>Crossfox</th>\n",
              "      <td>Motor Diesel V8</td>\n",
              "      <td>72832.16</td>\n",
              "    </tr>\n",
              "    <tr>\n",
              "      <th>DS5</th>\n",
              "      <td>Motor 2.4 Turbo</td>\n",
              "      <td>124549.07</td>\n",
              "    </tr>\n",
              "    <tr>\n",
              "      <th>Aston Martin DB4</th>\n",
              "      <td>Motor 2.4 Turbo</td>\n",
              "      <td>92612.10</td>\n",
              "    </tr>\n",
              "    <tr>\n",
              "      <th>Palio Weekend</th>\n",
              "      <td>Motor 1.8 16v</td>\n",
              "      <td>97497.73</td>\n",
              "    </tr>\n",
              "    <tr>\n",
              "      <th>A5</th>\n",
              "      <td>Motor 4.0 Turbo</td>\n",
              "      <td>56445.20</td>\n",
              "    </tr>\n",
              "    <tr>\n",
              "      <th>Série 3 Cabrio</th>\n",
              "      <td>Motor 1.0 8v</td>\n",
              "      <td>112310.44</td>\n",
              "    </tr>\n",
              "    <tr>\n",
              "      <th>Dodge Jorney</th>\n",
              "      <td>Motor 3.0 32v</td>\n",
              "      <td>120716.27</td>\n",
              "    </tr>\n",
              "    <tr>\n",
              "      <th>Carens</th>\n",
              "      <td>Motor 5.0 V8 Bi-Turbo</td>\n",
              "      <td>76566.49</td>\n",
              "    </tr>\n",
              "    <tr>\n",
              "      <th>Ford Edge</th>\n",
              "      <td>Motor Diesel V6</td>\n",
              "      <td>71647.59</td>\n",
              "    </tr>\n",
              "    <tr>\n",
              "      <th>Courier</th>\n",
              "      <td>Motor Diesel V8</td>\n",
              "      <td>73919.53</td>\n",
              "    </tr>\n",
              "    <tr>\n",
              "      <th>S-18</th>\n",
              "      <td>Motor V6</td>\n",
              "      <td>112732.99</td>\n",
              "    </tr>\n",
              "    <tr>\n",
              "      <th>J5</th>\n",
              "      <td>Motor V6</td>\n",
              "      <td>53183.38</td>\n",
              "    </tr>\n",
              "    <tr>\n",
              "      <th>F-Type Coupé</th>\n",
              "      <td>Motor 5.0 V8 Bi-Turbo</td>\n",
              "      <td>127488.42</td>\n",
              "    </tr>\n",
              "    <tr>\n",
              "      <th>RAM</th>\n",
              "      <td>Motor Diesel V8</td>\n",
              "      <td>59910.40</td>\n",
              "    </tr>\n",
              "    <tr>\n",
              "      <th>Série 1</th>\n",
              "      <td>Motor 3.0 32v</td>\n",
              "      <td>61118.59</td>\n",
              "    </tr>\n",
              "    <tr>\n",
              "      <th>A3</th>\n",
              "      <td>Motor 1.0 8v</td>\n",
              "      <td>88552.39</td>\n",
              "    </tr>\n",
              "    <tr>\n",
              "      <th>XC90</th>\n",
              "      <td>Motor 1.0 8v</td>\n",
              "      <td>62696.69</td>\n",
              "    </tr>\n",
              "    <tr>\n",
              "      <th>RS 3 Sportback</th>\n",
              "      <td>Motor 3.0 32v</td>\n",
              "      <td>101726.30</td>\n",
              "    </tr>\n",
              "    <tr>\n",
              "      <th>Pajero Sport</th>\n",
              "      <td>Motor 1.0 8v</td>\n",
              "      <td>106147.38</td>\n",
              "    </tr>\n",
              "    <tr>\n",
              "      <th>Série 1 M</th>\n",
              "      <td>Motor V8</td>\n",
              "      <td>94564.40</td>\n",
              "    </tr>\n",
              "    <tr>\n",
              "      <th>Lamborghini Obvious</th>\n",
              "      <td>Motor Diesel V6</td>\n",
              "      <td>133529.84</td>\n",
              "    </tr>\n",
              "    <tr>\n",
              "      <th>Effa Hafei Picape Baú</th>\n",
              "      <td>Motor Diesel</td>\n",
              "      <td>125684.65</td>\n",
              "    </tr>\n",
              "    <tr>\n",
              "      <th>Lamborghini Murciélago</th>\n",
              "      <td>Motor 5.0 V8 Bi-Turbo</td>\n",
              "      <td>121596.21</td>\n",
              "    </tr>\n",
              "    <tr>\n",
              "      <th>Up!</th>\n",
              "      <td>Motor Diesel V6</td>\n",
              "      <td>71367.10</td>\n",
              "    </tr>\n",
              "    <tr>\n",
              "      <th>Fiesta Rocam Sedan</th>\n",
              "      <td>Motor 4.0 Turbo</td>\n",
              "      <td>95347.75</td>\n",
              "    </tr>\n",
              "    <tr>\n",
              "      <th>Sandero Stepway</th>\n",
              "      <td>Motor 3.0 32v</td>\n",
              "      <td>105432.84</td>\n",
              "    </tr>\n",
              "    <tr>\n",
              "      <th>Cayman S</th>\n",
              "      <td>Motor 3.0 32v</td>\n",
              "      <td>57045.27</td>\n",
              "    </tr>\n",
              "    <tr>\n",
              "      <th>V40</th>\n",
              "      <td>Motor 4.0 Turbo</td>\n",
              "      <td>120432.70</td>\n",
              "    </tr>\n",
              "    <tr>\n",
              "      <th>Classe SLS AMG</th>\n",
              "      <td>Motor 1.0 8v</td>\n",
              "      <td>70707.20</td>\n",
              "    </tr>\n",
              "    <tr>\n",
              "      <th>Gol G4</th>\n",
              "      <td>Motor 2.0 16v</td>\n",
              "      <td>69105.18</td>\n",
              "    </tr>\n",
              "    <tr>\n",
              "      <th>Linea</th>\n",
              "      <td>Motor 1.0 8v</td>\n",
              "      <td>59358.69</td>\n",
              "    </tr>\n",
              "    <tr>\n",
              "      <th>Ford F100</th>\n",
              "      <td>Motor 2.0 16v</td>\n",
              "      <td>65955.40</td>\n",
              "    </tr>\n",
              "    <tr>\n",
              "      <th>J2</th>\n",
              "      <td>Motor V8</td>\n",
              "      <td>60017.03</td>\n",
              "    </tr>\n",
              "    <tr>\n",
              "      <th>Aston Martin DBS</th>\n",
              "      <td>Motor V8</td>\n",
              "      <td>118909.52</td>\n",
              "    </tr>\n",
              "    <tr>\n",
              "      <th>Pajero TR4</th>\n",
              "      <td>Motor 2.4 Turbo</td>\n",
              "      <td>51606.59</td>\n",
              "    </tr>\n",
              "    <tr>\n",
              "      <th>Polo Sedan</th>\n",
              "      <td>Motor V6</td>\n",
              "      <td>123281.87</td>\n",
              "    </tr>\n",
              "    <tr>\n",
              "      <th>California</th>\n",
              "      <td>Motor 1.0 8v</td>\n",
              "      <td>69770.18</td>\n",
              "    </tr>\n",
              "    <tr>\n",
              "      <th>S60</th>\n",
              "      <td>Motor 2.4 Turbo</td>\n",
              "      <td>102609.54</td>\n",
              "    </tr>\n",
              "    <tr>\n",
              "      <th>Tucson</th>\n",
              "      <td>Motor 2.0 16v</td>\n",
              "      <td>67997.19</td>\n",
              "    </tr>\n",
              "    <tr>\n",
              "      <th>HB20</th>\n",
              "      <td>Motor V6</td>\n",
              "      <td>135235.29</td>\n",
              "    </tr>\n",
              "    <tr>\n",
              "      <th>Optima</th>\n",
              "      <td>Motor 1.8 16v</td>\n",
              "      <td>86641.34</td>\n",
              "    </tr>\n",
              "    <tr>\n",
              "      <th>Logan</th>\n",
              "      <td>Motor 4.0 Turbo</td>\n",
              "      <td>136818.39</td>\n",
              "    </tr>\n",
              "    <tr>\n",
              "      <th>Range Rover Vogue</th>\n",
              "      <td>Motor 1.0 8v</td>\n",
              "      <td>117626.73</td>\n",
              "    </tr>\n",
              "    <tr>\n",
              "      <th>Sonata</th>\n",
              "      <td>Motor 5.0 V8 Bi-Turbo</td>\n",
              "      <td>56208.70</td>\n",
              "    </tr>\n",
              "    <tr>\n",
              "      <th>Ford New Fiesta Sedan</th>\n",
              "      <td>Motor 3.0 32v</td>\n",
              "      <td>84222.65</td>\n",
              "    </tr>\n",
              "    <tr>\n",
              "      <th>Série 5 Gran Turismo</th>\n",
              "      <td>Motor 4.0 Turbo</td>\n",
              "      <td>90781.65</td>\n",
              "    </tr>\n",
              "    <tr>\n",
              "      <th>CR-V</th>\n",
              "      <td>Motor Diesel V8</td>\n",
              "      <td>64701.10</td>\n",
              "    </tr>\n",
              "    <tr>\n",
              "      <th>Ford EcoSport</th>\n",
              "      <td>Motor 1.0 8v</td>\n",
              "      <td>126350.49</td>\n",
              "    </tr>\n",
              "    <tr>\n",
              "      <th>Versa</th>\n",
              "      <td>Motor 3.0 32v</td>\n",
              "      <td>148152.89</td>\n",
              "    </tr>\n",
              "    <tr>\n",
              "      <th>Classe E</th>\n",
              "      <td>Motor 1.0 8v</td>\n",
              "      <td>132298.83</td>\n",
              "    </tr>\n",
              "    <tr>\n",
              "      <th>Carnival</th>\n",
              "      <td>Motor V8</td>\n",
              "      <td>137627.63</td>\n",
              "    </tr>\n",
              "    <tr>\n",
              "      <th>Aston Martin V8 Vantage Roadster</th>\n",
              "      <td>Motor 2.4 Turbo</td>\n",
              "      <td>80422.71</td>\n",
              "    </tr>\n",
              "    <tr>\n",
              "      <th>Hoggar</th>\n",
              "      <td>Motor 5.0 V8 Bi-Turbo</td>\n",
              "      <td>56373.99</td>\n",
              "    </tr>\n",
              "    <tr>\n",
              "      <th>A1</th>\n",
              "      <td>Motor 5.0 V8 Bi-Turbo</td>\n",
              "      <td>70846.03</td>\n",
              "    </tr>\n",
              "    <tr>\n",
              "      <th>Aston Martin DB7 Vantage</th>\n",
              "      <td>Motor V6</td>\n",
              "      <td>128694.23</td>\n",
              "    </tr>\n",
              "    <tr>\n",
              "      <th>CLA</th>\n",
              "      <td>Motor 1.0 8v</td>\n",
              "      <td>133329.19</td>\n",
              "    </tr>\n",
              "    <tr>\n",
              "      <th>Accord</th>\n",
              "      <td>Motor V8</td>\n",
              "      <td>131961.43</td>\n",
              "    </tr>\n",
              "    <tr>\n",
              "      <th>EXTRA 103EX</th>\n",
              "      <td>Motor 2.0 16v</td>\n",
              "      <td>112033.27</td>\n",
              "    </tr>\n",
              "    <tr>\n",
              "      <th>Sorento</th>\n",
              "      <td>Motor Diesel</td>\n",
              "      <td>81399.35</td>\n",
              "    </tr>\n",
              "    <tr>\n",
              "      <th>Tiggo</th>\n",
              "      <td>Motor 3.0 32v</td>\n",
              "      <td>97163.10</td>\n",
              "    </tr>\n",
              "    <tr>\n",
              "      <th>New Fiesta Hatch</th>\n",
              "      <td>Motor Diesel</td>\n",
              "      <td>66007.16</td>\n",
              "    </tr>\n",
              "    <tr>\n",
              "      <th>Jeep Renegade</th>\n",
              "      <td>Motor 5.0 V8 Bi-Turbo</td>\n",
              "      <td>128776.22</td>\n",
              "    </tr>\n",
              "    <tr>\n",
              "      <th>Lamborghini Ankonian</th>\n",
              "      <td>Motor 2.0 16v</td>\n",
              "      <td>142623.02</td>\n",
              "    </tr>\n",
              "    <tr>\n",
              "      <th>Space Cross</th>\n",
              "      <td>Motor 5.0 V8 Bi-Turbo</td>\n",
              "      <td>136930.13</td>\n",
              "    </tr>\n",
              "    <tr>\n",
              "      <th>Touareg</th>\n",
              "      <td>Motor V8</td>\n",
              "      <td>66526.61</td>\n",
              "    </tr>\n",
              "    <tr>\n",
              "      <th>Classe M</th>\n",
              "      <td>Motor 1.0 8v</td>\n",
              "      <td>114154.87</td>\n",
              "    </tr>\n",
              "    <tr>\n",
              "      <th>Lancer Evolution X</th>\n",
              "      <td>Motor Diesel V6</td>\n",
              "      <td>142392.75</td>\n",
              "    </tr>\n",
              "    <tr>\n",
              "      <th>Kangoo Express</th>\n",
              "      <td>Motor Diesel</td>\n",
              "      <td>146716.91</td>\n",
              "    </tr>\n",
              "    <tr>\n",
              "      <th>SW4</th>\n",
              "      <td>Motor Diesel V6</td>\n",
              "      <td>122485.68</td>\n",
              "    </tr>\n",
              "    <tr>\n",
              "      <th>Cadillac ELR</th>\n",
              "      <td>Motor 1.0 8v</td>\n",
              "      <td>97951.03</td>\n",
              "    </tr>\n",
              "    <tr>\n",
              "      <th>Doblò</th>\n",
              "      <td>Motor 1.8 16v</td>\n",
              "      <td>78283.49</td>\n",
              "    </tr>\n",
              "    <tr>\n",
              "      <th>Lamborghini Egoista</th>\n",
              "      <td>Motor 3.0 32v</td>\n",
              "      <td>83434.04</td>\n",
              "    </tr>\n",
              "    <tr>\n",
              "      <th>Fit</th>\n",
              "      <td>Motor Diesel</td>\n",
              "      <td>77836.23</td>\n",
              "    </tr>\n",
              "    <tr>\n",
              "      <th>C5</th>\n",
              "      <td>Motor 2.0 16v</td>\n",
              "      <td>60813.92</td>\n",
              "    </tr>\n",
              "    <tr>\n",
              "      <th>Celer Hatch</th>\n",
              "      <td>Motor V8</td>\n",
              "      <td>91353.86</td>\n",
              "    </tr>\n",
              "    <tr>\n",
              "      <th>HB20S</th>\n",
              "      <td>Motor V8</td>\n",
              "      <td>116281.21</td>\n",
              "    </tr>\n",
              "    <tr>\n",
              "      <th>Cielo Hatch</th>\n",
              "      <td>Motor Diesel</td>\n",
              "      <td>145197.70</td>\n",
              "    </tr>\n",
              "    <tr>\n",
              "      <th>Livina</th>\n",
              "      <td>Motor 2.0 16v</td>\n",
              "      <td>50742.10</td>\n",
              "    </tr>\n",
              "    <tr>\n",
              "      <th>Ducato</th>\n",
              "      <td>Motor 5.0 V8 Bi-Turbo</td>\n",
              "      <td>73033.53</td>\n",
              "    </tr>\n",
              "    <tr>\n",
              "      <th>March</th>\n",
              "      <td>Motor V6</td>\n",
              "      <td>54332.87</td>\n",
              "    </tr>\n",
              "    <tr>\n",
              "      <th>Cadillac XTS sedan</th>\n",
              "      <td>Motor Diesel V6</td>\n",
              "      <td>52207.45</td>\n",
              "    </tr>\n",
              "    <tr>\n",
              "      <th>Lamborghini Centenario</th>\n",
              "      <td>Motor V6</td>\n",
              "      <td>63578.50</td>\n",
              "    </tr>\n",
              "    <tr>\n",
              "      <th>Hilux</th>\n",
              "      <td>Motor 5.0 V8 Bi-Turbo</td>\n",
              "      <td>64507.72</td>\n",
              "    </tr>\n",
              "    <tr>\n",
              "      <th>Grand Siena</th>\n",
              "      <td>Motor Diesel V8</td>\n",
              "      <td>115075.59</td>\n",
              "    </tr>\n",
              "    <tr>\n",
              "      <th>Symbol</th>\n",
              "      <td>Motor Diesel</td>\n",
              "      <td>133030.60</td>\n",
              "    </tr>\n",
              "    <tr>\n",
              "      <th>Aston Martin V12 GT Zagato</th>\n",
              "      <td>Motor 4.0 Turbo</td>\n",
              "      <td>141591.86</td>\n",
              "    </tr>\n",
              "    <tr>\n",
              "      <th>Fusion</th>\n",
              "      <td>Motor 1.8 16v</td>\n",
              "      <td>100380.28</td>\n",
              "    </tr>\n",
              "    <tr>\n",
              "      <th>A4 Sedan</th>\n",
              "      <td>Motor Diesel</td>\n",
              "      <td>96369.04</td>\n",
              "    </tr>\n",
              "    <tr>\n",
              "      <th>Xsara Picasso</th>\n",
              "      <td>Motor 2.0 16v</td>\n",
              "      <td>142603.84</td>\n",
              "    </tr>\n",
              "    <tr>\n",
              "      <th>207 SW</th>\n",
              "      <td>Motor 3.0 32v</td>\n",
              "      <td>117709.67</td>\n",
              "    </tr>\n",
              "    <tr>\n",
              "      <th>Star</th>\n",
              "      <td>Motor V6</td>\n",
              "      <td>102241.54</td>\n",
              "    </tr>\n",
              "    <tr>\n",
              "      <th>Doblò Cargo</th>\n",
              "      <td>Motor 3.0 32v</td>\n",
              "      <td>96065.38</td>\n",
              "    </tr>\n",
              "    <tr>\n",
              "      <th>Cadillac CTS</th>\n",
              "      <td>Motor 1.8 16v</td>\n",
              "      <td>53894.61</td>\n",
              "    </tr>\n",
              "    <tr>\n",
              "      <th>Cayenne</th>\n",
              "      <td>Motor 1.0 8v</td>\n",
              "      <td>123911.78</td>\n",
              "    </tr>\n",
              "    <tr>\n",
              "      <th>Fox</th>\n",
              "      <td>Motor 4.0 Turbo</td>\n",
              "      <td>101996.35</td>\n",
              "    </tr>\n",
              "    <tr>\n",
              "      <th>Tiida Hatch</th>\n",
              "      <td>Motor Diesel V6</td>\n",
              "      <td>83431.66</td>\n",
              "    </tr>\n",
              "    <tr>\n",
              "      <th>Dodge Charger</th>\n",
              "      <td>Motor 2.4 Turbo</td>\n",
              "      <td>122975.63</td>\n",
              "    </tr>\n",
              "    <tr>\n",
              "      <th>Face</th>\n",
              "      <td>Motor V8</td>\n",
              "      <td>93227.73</td>\n",
              "    </tr>\n",
              "    <tr>\n",
              "      <th>Prius</th>\n",
              "      <td>Motor 3.0 32v</td>\n",
              "      <td>58762.65</td>\n",
              "    </tr>\n",
              "    <tr>\n",
              "      <th>Idea</th>\n",
              "      <td>Motor V6</td>\n",
              "      <td>139549.67</td>\n",
              "    </tr>\n",
              "    <tr>\n",
              "      <th>A8</th>\n",
              "      <td>Motor 2.0 16v</td>\n",
              "      <td>122016.42</td>\n",
              "    </tr>\n",
              "    <tr>\n",
              "      <th>Série 1 Cabrio</th>\n",
              "      <td>Motor 3.0 32v</td>\n",
              "      <td>72731.98</td>\n",
              "    </tr>\n",
              "    <tr>\n",
              "      <th>Edge</th>\n",
              "      <td>Motor V6</td>\n",
              "      <td>88416.54</td>\n",
              "    </tr>\n",
              "    <tr>\n",
              "      <th>Cadillac ATS sedan</th>\n",
              "      <td>Motor 1.8 16v</td>\n",
              "      <td>73873.42</td>\n",
              "    </tr>\n",
              "    <tr>\n",
              "      <th>Lamborghini Asterion LPI 910-4</th>\n",
              "      <td>Motor 5.0 V8 Bi-Turbo</td>\n",
              "      <td>70709.34</td>\n",
              "    </tr>\n",
              "    <tr>\n",
              "      <th>Frontier</th>\n",
              "      <td>Motor V8</td>\n",
              "      <td>115306.50</td>\n",
              "    </tr>\n",
              "    <tr>\n",
              "      <th>Série 3 Sedã</th>\n",
              "      <td>Motor 3.0 32v</td>\n",
              "      <td>55924.63</td>\n",
              "    </tr>\n",
              "    <tr>\n",
              "      <th>Lamborghini LM002</th>\n",
              "      <td>Motor 1.8 16v</td>\n",
              "      <td>85052.26</td>\n",
              "    </tr>\n",
              "    <tr>\n",
              "      <th>Cadillac XLR</th>\n",
              "      <td>Motor Diesel V8</td>\n",
              "      <td>56646.34</td>\n",
              "    </tr>\n",
              "    <tr>\n",
              "      <th>A4 Avant</th>\n",
              "      <td>Motor Diesel</td>\n",
              "      <td>138946.88</td>\n",
              "    </tr>\n",
              "    <tr>\n",
              "      <th>EcoSport</th>\n",
              "      <td>Motor 4.0 Turbo</td>\n",
              "      <td>108256.72</td>\n",
              "    </tr>\n",
              "    <tr>\n",
              "      <th>J3</th>\n",
              "      <td>Motor 1.8 16v</td>\n",
              "      <td>58979.30</td>\n",
              "    </tr>\n",
              "    <tr>\n",
              "      <th>Q3</th>\n",
              "      <td>Motor 3.0 32v</td>\n",
              "      <td>114727.68</td>\n",
              "    </tr>\n",
              "    <tr>\n",
              "      <th>Aston Martin V8 Vantage</th>\n",
              "      <td>Motor V8</td>\n",
              "      <td>139661.48</td>\n",
              "    </tr>\n",
              "    <tr>\n",
              "      <th>Z4 Roadster</th>\n",
              "      <td>Motor 3.0 32v</td>\n",
              "      <td>80382.24</td>\n",
              "    </tr>\n",
              "    <tr>\n",
              "      <th>Lamborghini Ferruccio</th>\n",
              "      <td>Motor 3.0 32v</td>\n",
              "      <td>149157.17</td>\n",
              "    </tr>\n",
              "    <tr>\n",
              "      <th>Ford Ka+</th>\n",
              "      <td>Motor 1.8 16v</td>\n",
              "      <td>87830.41</td>\n",
              "    </tr>\n",
              "    <tr>\n",
              "      <th>Silver Shadow</th>\n",
              "      <td>Motor Diesel</td>\n",
              "      <td>143568.22</td>\n",
              "    </tr>\n",
              "    <tr>\n",
              "      <th>Classe C 63 AMG Touring</th>\n",
              "      <td>Motor Diesel V8</td>\n",
              "      <td>138171.85</td>\n",
              "    </tr>\n",
              "    <tr>\n",
              "      <th>Discovery 4</th>\n",
              "      <td>Motor 4.0 Turbo</td>\n",
              "      <td>115784.95</td>\n",
              "    </tr>\n",
              "    <tr>\n",
              "      <th>Veloster</th>\n",
              "      <td>Motor Diesel V8</td>\n",
              "      <td>146508.99</td>\n",
              "    </tr>\n",
              "    <tr>\n",
              "      <th>Classe C</th>\n",
              "      <td>Motor Diesel V6</td>\n",
              "      <td>137670.23</td>\n",
              "    </tr>\n",
              "    <tr>\n",
              "      <th>Camry</th>\n",
              "      <td>Motor Diesel</td>\n",
              "      <td>138597.27</td>\n",
              "    </tr>\n",
              "    <tr>\n",
              "      <th>C5 Tourer</th>\n",
              "      <td>Motor Diesel V6</td>\n",
              "      <td>147627.81</td>\n",
              "    </tr>\n",
              "    <tr>\n",
              "      <th>R8 GT</th>\n",
              "      <td>Motor 4.0 Turbo</td>\n",
              "      <td>62999.02</td>\n",
              "    </tr>\n",
              "    <tr>\n",
              "      <th>Bongo</th>\n",
              "      <td>Motor Diesel V8</td>\n",
              "      <td>91242.44</td>\n",
              "    </tr>\n",
              "    <tr>\n",
              "      <th>ASX</th>\n",
              "      <td>Motor Diesel V8</td>\n",
              "      <td>149489.92</td>\n",
              "    </tr>\n",
              "    <tr>\n",
              "      <th>Cadillac SRX</th>\n",
              "      <td>Motor 5.0 V8 Bi-Turbo</td>\n",
              "      <td>63529.95</td>\n",
              "    </tr>\n",
              "    <tr>\n",
              "      <th>Classe CL</th>\n",
              "      <td>Motor V8</td>\n",
              "      <td>58525.41</td>\n",
              "    </tr>\n",
              "    <tr>\n",
              "      <th>500 Abarth</th>\n",
              "      <td>Motor V6</td>\n",
              "      <td>90345.05</td>\n",
              "    </tr>\n",
              "    <tr>\n",
              "      <th>Aston Martin Cygnet</th>\n",
              "      <td>Motor 5.0 V8 Bi-Turbo</td>\n",
              "      <td>147770.87</td>\n",
              "    </tr>\n",
              "    <tr>\n",
              "      <th>Cadillac STS</th>\n",
              "      <td>Motor 4.0 Turbo</td>\n",
              "      <td>106617.71</td>\n",
              "    </tr>\n",
              "    <tr>\n",
              "      <th>Aston Martin DB9</th>\n",
              "      <td>Motor 1.8 16v</td>\n",
              "      <td>104929.88</td>\n",
              "    </tr>\n",
              "    <tr>\n",
              "      <th>NX 200t</th>\n",
              "      <td>Motor 2.4 Turbo</td>\n",
              "      <td>100712.45</td>\n",
              "    </tr>\n",
              "    <tr>\n",
              "      <th>Aston Martin One-77</th>\n",
              "      <td>Motor V6</td>\n",
              "      <td>141982.93</td>\n",
              "    </tr>\n",
              "    <tr>\n",
              "      <th>Lamborghini Veneno</th>\n",
              "      <td>Motor 3.0 32v</td>\n",
              "      <td>104038.79</td>\n",
              "    </tr>\n",
              "    <tr>\n",
              "      <th>Sentra</th>\n",
              "      <td>Motor 2.0 16v</td>\n",
              "      <td>88501.54</td>\n",
              "    </tr>\n",
              "    <tr>\n",
              "      <th>Jumper</th>\n",
              "      <td>Motor 2.4 Turbo</td>\n",
              "      <td>79782.02</td>\n",
              "    </tr>\n",
              "    <tr>\n",
              "      <th>i30</th>\n",
              "      <td>Motor 1.8 16v</td>\n",
              "      <td>86224.10</td>\n",
              "    </tr>\n",
              "    <tr>\n",
              "      <th>X6</th>\n",
              "      <td>Motor Diesel V6</td>\n",
              "      <td>103596.18</td>\n",
              "    </tr>\n",
              "    <tr>\n",
              "      <th>Voyage</th>\n",
              "      <td>Motor 5.0 V8 Bi-Turbo</td>\n",
              "      <td>148996.47</td>\n",
              "    </tr>\n",
              "    <tr>\n",
              "      <th>Phantom I Phantom II</th>\n",
              "      <td>Motor 1.8 16v</td>\n",
              "      <td>60948.01</td>\n",
              "    </tr>\n",
              "    <tr>\n",
              "      <th>Passat Variant</th>\n",
              "      <td>Motor 1.0 8v</td>\n",
              "      <td>69535.44</td>\n",
              "    </tr>\n",
              "    <tr>\n",
              "      <th>Clio</th>\n",
              "      <td>Motor Diesel</td>\n",
              "      <td>111130.33</td>\n",
              "    </tr>\n",
              "    <tr>\n",
              "      <th>Classe G</th>\n",
              "      <td>Motor Diesel V6</td>\n",
              "      <td>65847.69</td>\n",
              "    </tr>\n",
              "    <tr>\n",
              "      <th>Silver Ghost</th>\n",
              "      <td>Motor 1.8 16v</td>\n",
              "      <td>78096.06</td>\n",
              "    </tr>\n",
              "    <tr>\n",
              "      <th>Série 3 M3 Coupé</th>\n",
              "      <td>Motor Diesel</td>\n",
              "      <td>69219.89</td>\n",
              "    </tr>\n",
              "    <tr>\n",
              "      <th>Gallardo LP 560 – 4</th>\n",
              "      <td>Motor Diesel</td>\n",
              "      <td>144118.91</td>\n",
              "    </tr>\n",
              "    <tr>\n",
              "      <th>Freelander 2</th>\n",
              "      <td>Motor Diesel V6</td>\n",
              "      <td>77397.05</td>\n",
              "    </tr>\n",
              "    <tr>\n",
              "      <th>Grand Cherokee</th>\n",
              "      <td>Motor 5.0 V8 Bi-Turbo</td>\n",
              "      <td>68974.25</td>\n",
              "    </tr>\n",
              "    <tr>\n",
              "      <th>Aston Martin DBR9</th>\n",
              "      <td>Motor 4.0 Turbo</td>\n",
              "      <td>125231.30</td>\n",
              "    </tr>\n",
              "    <tr>\n",
              "      <th>Soul</th>\n",
              "      <td>Motor 5.0 V8 Bi-Turbo</td>\n",
              "      <td>85501.12</td>\n",
              "    </tr>\n",
              "    <tr>\n",
              "      <th>Cadillac BLS</th>\n",
              "      <td>Motor V8</td>\n",
              "      <td>137116.21</td>\n",
              "    </tr>\n",
              "    <tr>\n",
              "      <th>RX 350</th>\n",
              "      <td>Motor V6</td>\n",
              "      <td>138823.81</td>\n",
              "    </tr>\n",
              "    <tr>\n",
              "      <th>Cayman</th>\n",
              "      <td>Motor 3.0 32v</td>\n",
              "      <td>117961.95</td>\n",
              "    </tr>\n",
              "    <tr>\n",
              "      <th>Chana Utility</th>\n",
              "      <td>Motor Diesel</td>\n",
              "      <td>132662.32</td>\n",
              "    </tr>\n",
              "    <tr>\n",
              "      <th>308 CC</th>\n",
              "      <td>Motor 4.0 Turbo</td>\n",
              "      <td>146405.79</td>\n",
              "    </tr>\n",
              "    <tr>\n",
              "      <th>L200 Triton</th>\n",
              "      <td>Motor Diesel V8</td>\n",
              "      <td>81999.21</td>\n",
              "    </tr>\n",
              "    <tr>\n",
              "      <th>Jetta</th>\n",
              "      <td>Motor 5.0 V8 Bi-Turbo</td>\n",
              "      <td>140934.60</td>\n",
              "    </tr>\n",
              "    <tr>\n",
              "      <th>C4 Lounge</th>\n",
              "      <td>Motor V8</td>\n",
              "      <td>82366.81</td>\n",
              "    </tr>\n",
              "    <tr>\n",
              "      <th>C4 Pallas</th>\n",
              "      <td>Motor 1.0 8v</td>\n",
              "      <td>70424.11</td>\n",
              "    </tr>\n",
              "    <tr>\n",
              "      <th>Equus</th>\n",
              "      <td>Motor 3.0 32v</td>\n",
              "      <td>53620.31</td>\n",
              "    </tr>\n",
              "    <tr>\n",
              "      <th>Classe GL</th>\n",
              "      <td>Motor 3.0 32v</td>\n",
              "      <td>73389.18</td>\n",
              "    </tr>\n",
              "    <tr>\n",
              "      <th>Range Rover Evoque</th>\n",
              "      <td>Motor 2.0 16v</td>\n",
              "      <td>111618.12</td>\n",
              "    </tr>\n",
              "    <tr>\n",
              "      <th>Cherokee</th>\n",
              "      <td>Motor 4.0 Turbo</td>\n",
              "      <td>112187.37</td>\n",
              "    </tr>\n",
              "    <tr>\n",
              "      <th>Punto</th>\n",
              "      <td>Motor 4.0 Turbo</td>\n",
              "      <td>120812.57</td>\n",
              "    </tr>\n",
              "    <tr>\n",
              "      <th>Grand Tour</th>\n",
              "      <td>Motor 3.0 32v</td>\n",
              "      <td>116031.04</td>\n",
              "    </tr>\n",
              "    <tr>\n",
              "      <th>Fluence</th>\n",
              "      <td>Motor Diesel V6</td>\n",
              "      <td>125398.11</td>\n",
              "    </tr>\n",
              "    <tr>\n",
              "      <th>Effa Hafei Picape Cabine Simples</th>\n",
              "      <td>Motor 1.0 8v</td>\n",
              "      <td>76101.47</td>\n",
              "    </tr>\n",
              "    <tr>\n",
              "      <th>Durango</th>\n",
              "      <td>Motor 2.0 16v</td>\n",
              "      <td>75263.24</td>\n",
              "    </tr>\n",
              "    <tr>\n",
              "      <th>Boxster</th>\n",
              "      <td>Motor Diesel V8</td>\n",
              "      <td>147387.76</td>\n",
              "    </tr>\n",
              "    <tr>\n",
              "      <th>TT Roadster</th>\n",
              "      <td>Motor Diesel</td>\n",
              "      <td>85311.40</td>\n",
              "    </tr>\n",
              "    <tr>\n",
              "      <th>Lamborghini Jalpa</th>\n",
              "      <td>Motor 1.8 16v</td>\n",
              "      <td>54388.11</td>\n",
              "    </tr>\n",
              "    <tr>\n",
              "      <th>Classe SLK</th>\n",
              "      <td>Motor 4.0 Turbo</td>\n",
              "      <td>124156.65</td>\n",
              "    </tr>\n",
              "    <tr>\n",
              "      <th>Golf</th>\n",
              "      <td>Motor 1.0 8v</td>\n",
              "      <td>146203.34</td>\n",
              "    </tr>\n",
              "    <tr>\n",
              "      <th>C3 Picasso</th>\n",
              "      <td>Motor 3.0 32v</td>\n",
              "      <td>56453.94</td>\n",
              "    </tr>\n",
              "    <tr>\n",
              "      <th>V50</th>\n",
              "      <td>Motor 2.0 16v</td>\n",
              "      <td>68873.79</td>\n",
              "    </tr>\n",
              "    <tr>\n",
              "      <th>Picanto</th>\n",
              "      <td>Motor 4.0 Turbo</td>\n",
              "      <td>91667.61</td>\n",
              "    </tr>\n",
              "    <tr>\n",
              "      <th>Cadenza</th>\n",
              "      <td>Motor Diesel V6</td>\n",
              "      <td>93776.52</td>\n",
              "    </tr>\n",
              "    <tr>\n",
              "      <th>Etios Sedã</th>\n",
              "      <td>Motor 5.0 V8 Bi-Turbo</td>\n",
              "      <td>66433.82</td>\n",
              "    </tr>\n",
              "    <tr>\n",
              "      <th>Alsvin</th>\n",
              "      <td>Motor Diesel V8</td>\n",
              "      <td>109059.27</td>\n",
              "    </tr>\n",
              "    <tr>\n",
              "      <th>Cadillac ATS</th>\n",
              "      <td>Motor Diesel V6</td>\n",
              "      <td>122069.97</td>\n",
              "    </tr>\n",
              "    <tr>\n",
              "      <th>Série 3 M3 Sedã</th>\n",
              "      <td>Motor Diesel V6</td>\n",
              "      <td>113090.32</td>\n",
              "    </tr>\n",
              "    <tr>\n",
              "      <th>Classe S</th>\n",
              "      <td>Motor 3.0 32v</td>\n",
              "      <td>89401.10</td>\n",
              "    </tr>\n",
              "    <tr>\n",
              "      <th>T6</th>\n",
              "      <td>Motor 3.0 32v</td>\n",
              "      <td>56842.79</td>\n",
              "    </tr>\n",
              "    <tr>\n",
              "      <th>Aston Martin DB7</th>\n",
              "      <td>Motor Diesel V8</td>\n",
              "      <td>146676.71</td>\n",
              "    </tr>\n",
              "    <tr>\n",
              "      <th>207 Sedan</th>\n",
              "      <td>Motor 4.0 Turbo</td>\n",
              "      <td>89511.96</td>\n",
              "    </tr>\n",
              "    <tr>\n",
              "      <th>Aston Martin Virage</th>\n",
              "      <td>Motor Diesel</td>\n",
              "      <td>97290.18</td>\n",
              "    </tr>\n",
              "    <tr>\n",
              "      <th>Azera</th>\n",
              "      <td>Motor 1.8 16v</td>\n",
              "      <td>120673.56</td>\n",
              "    </tr>\n",
              "    <tr>\n",
              "      <th>Vantage Volante</th>\n",
              "      <td>Motor Diesel V8</td>\n",
              "      <td>114434.94</td>\n",
              "    </tr>\n",
              "    <tr>\n",
              "      <th>Siena EL</th>\n",
              "      <td>Motor V8</td>\n",
              "      <td>139546.69</td>\n",
              "    </tr>\n",
              "    <tr>\n",
              "      <th>Palio Adventure</th>\n",
              "      <td>Motor Diesel V8</td>\n",
              "      <td>95078.16</td>\n",
              "    </tr>\n",
              "    <tr>\n",
              "      <th>HB20X</th>\n",
              "      <td>Motor V8</td>\n",
              "      <td>68091.77</td>\n",
              "    </tr>\n",
              "    <tr>\n",
              "      <th>HR</th>\n",
              "      <td>Motor 5.0 V8 Bi-Turbo</td>\n",
              "      <td>61496.97</td>\n",
              "    </tr>\n",
              "    <tr>\n",
              "      <th>Cadillac STS V-Series</th>\n",
              "      <td>Motor 2.0 16v</td>\n",
              "      <td>139669.30</td>\n",
              "    </tr>\n",
              "    <tr>\n",
              "      <th>Série 1 Coupé</th>\n",
              "      <td>Motor 1.0 8v</td>\n",
              "      <td>80661.39</td>\n",
              "    </tr>\n",
              "    <tr>\n",
              "      <th>SpaceFox</th>\n",
              "      <td>Motor V8</td>\n",
              "      <td>61783.65</td>\n",
              "    </tr>\n",
              "    <tr>\n",
              "      <th>C30</th>\n",
              "      <td>Motor 1.0 8v</td>\n",
              "      <td>52805.91</td>\n",
              "    </tr>\n",
              "    <tr>\n",
              "      <th>J3 Turin</th>\n",
              "      <td>Motor V6</td>\n",
              "      <td>127024.75</td>\n",
              "    </tr>\n",
              "    <tr>\n",
              "      <th>Classe B</th>\n",
              "      <td>Motor Diesel V8</td>\n",
              "      <td>135543.00</td>\n",
              "    </tr>\n",
              "    <tr>\n",
              "      <th>Parati</th>\n",
              "      <td>Motor Diesel V8</td>\n",
              "      <td>121708.73</td>\n",
              "    </tr>\n",
              "    <tr>\n",
              "      <th>Cadillac CTS V-Series</th>\n",
              "      <td>Motor 4.0 Turbo</td>\n",
              "      <td>107342.68</td>\n",
              "    </tr>\n",
              "    <tr>\n",
              "      <th>Sedan</th>\n",
              "      <td>Motor V8</td>\n",
              "      <td>57888.10</td>\n",
              "    </tr>\n",
              "    <tr>\n",
              "      <th>Classe CLS 63 AMG</th>\n",
              "      <td>Motor Diesel V6</td>\n",
              "      <td>118161.48</td>\n",
              "    </tr>\n",
              "    <tr>\n",
              "      <th>Aircross</th>\n",
              "      <td>Motor 1.0 8v</td>\n",
              "      <td>142499.06</td>\n",
              "    </tr>\n",
              "    <tr>\n",
              "      <th>Aston Martin V12 Vantage</th>\n",
              "      <td>Motor V8</td>\n",
              "      <td>128396.11</td>\n",
              "    </tr>\n",
              "    <tr>\n",
              "      <th>Sandero</th>\n",
              "      <td>Motor Diesel</td>\n",
              "      <td>112350.61</td>\n",
              "    </tr>\n",
              "    <tr>\n",
              "      <th>New Fiesta</th>\n",
              "      <td>Motor 5.0 V8 Bi-Turbo</td>\n",
              "      <td>124661.38</td>\n",
              "    </tr>\n",
              "    <tr>\n",
              "      <th>XKR</th>\n",
              "      <td>Motor Diesel</td>\n",
              "      <td>54263.16</td>\n",
              "    </tr>\n",
              "    <tr>\n",
              "      <th>X5</th>\n",
              "      <td>Motor Diesel</td>\n",
              "      <td>62041.32</td>\n",
              "    </tr>\n",
              "    <tr>\n",
              "      <th>Cadillac DTS</th>\n",
              "      <td>Motor 1.8 16v</td>\n",
              "      <td>129296.11</td>\n",
              "    </tr>\n",
              "    <tr>\n",
              "      <th>Pajero Dakar</th>\n",
              "      <td>Motor 4.0 Turbo</td>\n",
              "      <td>60998.33</td>\n",
              "    </tr>\n",
              "    <tr>\n",
              "      <th>Classe A</th>\n",
              "      <td>Motor 1.0 8v</td>\n",
              "      <td>58008.50</td>\n",
              "    </tr>\n",
              "    <tr>\n",
              "      <th>Ford Focus Fastback</th>\n",
              "      <td>Motor 4.0 Turbo</td>\n",
              "      <td>82304.19</td>\n",
              "    </tr>\n",
              "    <tr>\n",
              "      <th>Partner</th>\n",
              "      <td>Motor 2.4 Turbo</td>\n",
              "      <td>114531.74</td>\n",
              "    </tr>\n",
              "    <tr>\n",
              "      <th>R8</th>\n",
              "      <td>Motor V6</td>\n",
              "      <td>128565.61</td>\n",
              "    </tr>\n",
              "    <tr>\n",
              "      <th>Aston Martin DBS Volante</th>\n",
              "      <td>Motor 4.0 Turbo</td>\n",
              "      <td>126488.26</td>\n",
              "    </tr>\n",
              "    <tr>\n",
              "      <th>Mohave</th>\n",
              "      <td>Motor Diesel V6</td>\n",
              "      <td>119074.55</td>\n",
              "    </tr>\n",
              "    <tr>\n",
              "      <th>Fusca</th>\n",
              "      <td>Motor 3.0 32v</td>\n",
              "      <td>130238.04</td>\n",
              "    </tr>\n",
              "    <tr>\n",
              "      <th>Chana Family</th>\n",
              "      <td>Motor V8</td>\n",
              "      <td>115760.17</td>\n",
              "    </tr>\n",
              "    <tr>\n",
              "      <th>XC40</th>\n",
              "      <td>Motor 2.4 Turbo</td>\n",
              "      <td>121248.00</td>\n",
              "    </tr>\n",
              "    <tr>\n",
              "      <th>Phantom I Jonckheere Aerodynamic Coupe</th>\n",
              "      <td>Motor 1.8 16v</td>\n",
              "      <td>98156.35</td>\n",
              "    </tr>\n",
              "    <tr>\n",
              "      <th>Boxer</th>\n",
              "      <td>Motor V6</td>\n",
              "      <td>112146.80</td>\n",
              "    </tr>\n",
              "    <tr>\n",
              "      <th>Chana Cargo</th>\n",
              "      <td>Motor 2.0 16v</td>\n",
              "      <td>102729.63</td>\n",
              "    </tr>\n",
              "    <tr>\n",
              "      <th>Dodge Dakota</th>\n",
              "      <td>Motor Diesel</td>\n",
              "      <td>141083.35</td>\n",
              "    </tr>\n",
              "    <tr>\n",
              "      <th>X1</th>\n",
              "      <td>Motor Diesel V8</td>\n",
              "      <td>102968.76</td>\n",
              "    </tr>\n",
              "    <tr>\n",
              "      <th>GLA</th>\n",
              "      <td>Motor 1.0 8v</td>\n",
              "      <td>76310.01</td>\n",
              "    </tr>\n",
              "    <tr>\n",
              "      <th>Range Rover Sport</th>\n",
              "      <td>Motor 1.0 8v</td>\n",
              "      <td>120481.74</td>\n",
              "    </tr>\n",
              "    <tr>\n",
              "      <th>DS3</th>\n",
              "      <td>Motor 1.8 16v</td>\n",
              "      <td>54559.18</td>\n",
              "    </tr>\n",
              "    <tr>\n",
              "      <th>Veracruz</th>\n",
              "      <td>Motor Diesel V8</td>\n",
              "      <td>92957.64</td>\n",
              "    </tr>\n",
              "    <tr>\n",
              "      <th>Cadillac CTS coupe, sedan, and wagon</th>\n",
              "      <td>Motor V8</td>\n",
              "      <td>127810.06</td>\n",
              "    </tr>\n",
              "    <tr>\n",
              "      <th>i30 CW</th>\n",
              "      <td>Motor Diesel</td>\n",
              "      <td>73311.75</td>\n",
              "    </tr>\n",
              "    <tr>\n",
              "      <th>Phantom III</th>\n",
              "      <td>Motor Diesel V6</td>\n",
              "      <td>65138.03</td>\n",
              "    </tr>\n",
              "    <tr>\n",
              "      <th>A3 Sedan</th>\n",
              "      <td>Motor V6</td>\n",
              "      <td>90141.47</td>\n",
              "    </tr>\n",
              "    <tr>\n",
              "      <th>Aston Martin DB9 Volante</th>\n",
              "      <td>Motor 2.0 16v</td>\n",
              "      <td>71160.36</td>\n",
              "    </tr>\n",
              "    <tr>\n",
              "      <th>Série 7 Sedã</th>\n",
              "      <td>Motor Diesel</td>\n",
              "      <td>67539.79</td>\n",
              "    </tr>\n",
              "    <tr>\n",
              "      <th>Lamborghini Reventón</th>\n",
              "      <td>Motor 4.0 Turbo</td>\n",
              "      <td>67664.86</td>\n",
              "    </tr>\n",
              "    <tr>\n",
              "      <th>Grand Livina</th>\n",
              "      <td>Motor 2.0 16v</td>\n",
              "      <td>68652.16</td>\n",
              "    </tr>\n",
              "    <tr>\n",
              "      <th>V60</th>\n",
              "      <td>Motor Diesel</td>\n",
              "      <td>114728.74</td>\n",
              "    </tr>\n",
              "    <tr>\n",
              "      <th>Effa Hafei Picape Cabine Dupla</th>\n",
              "      <td>Motor V6</td>\n",
              "      <td>141645.08</td>\n",
              "    </tr>\n",
              "    <tr>\n",
              "      <th>Benni Mini</th>\n",
              "      <td>Motor V8</td>\n",
              "      <td>126247.84</td>\n",
              "    </tr>\n",
              "    <tr>\n",
              "      <th>Uno</th>\n",
              "      <td>Motor Diesel V6</td>\n",
              "      <td>128852.21</td>\n",
              "    </tr>\n",
              "    <tr>\n",
              "      <th>L200 Savana</th>\n",
              "      <td>Motor 2.0 16v</td>\n",
              "      <td>132384.76</td>\n",
              "    </tr>\n",
              "    <tr>\n",
              "      <th>Santa Fe</th>\n",
              "      <td>Motor 3.0 32v</td>\n",
              "      <td>129415.33</td>\n",
              "    </tr>\n",
              "    <tr>\n",
              "      <th>RS5</th>\n",
              "      <td>Motor V6</td>\n",
              "      <td>89536.82</td>\n",
              "    </tr>\n",
              "    <tr>\n",
              "      <th>Cerato</th>\n",
              "      <td>Motor V6</td>\n",
              "      <td>87975.30</td>\n",
              "    </tr>\n",
              "    <tr>\n",
              "      <th>XC60</th>\n",
              "      <td>Motor 4.0 Turbo</td>\n",
              "      <td>77675.79</td>\n",
              "    </tr>\n",
              "    <tr>\n",
              "      <th>LS 460L</th>\n",
              "      <td>Motor Diesel V8</td>\n",
              "      <td>58881.67</td>\n",
              "    </tr>\n",
              "    <tr>\n",
              "      <th>Lamborghini Sesto Elemento</th>\n",
              "      <td>Motor V8</td>\n",
              "      <td>55081.99</td>\n",
              "    </tr>\n",
              "    <tr>\n",
              "      <th>Lamborghini Huracán</th>\n",
              "      <td>Motor V8</td>\n",
              "      <td>118826.44</td>\n",
              "    </tr>\n",
              "    <tr>\n",
              "      <th>A7</th>\n",
              "      <td>Motor 1.0 8v</td>\n",
              "      <td>137627.62</td>\n",
              "    </tr>\n",
              "    <tr>\n",
              "      <th>Phantom 2013</th>\n",
              "      <td>Motor V8</td>\n",
              "      <td>51759.58</td>\n",
              "    </tr>\n",
              "    <tr>\n",
              "      <th>Cadillac Ciel concept</th>\n",
              "      <td>Motor V8</td>\n",
              "      <td>51667.06</td>\n",
              "    </tr>\n",
              "    <tr>\n",
              "      <th>Classe GLK</th>\n",
              "      <td>Motor 5.0 V8 Bi-Turbo</td>\n",
              "      <td>68934.03</td>\n",
              "    </tr>\n",
              "    <tr>\n",
              "      <th>Aston Martin DB5</th>\n",
              "      <td>Motor Diesel</td>\n",
              "      <td>122110.90</td>\n",
              "    </tr>\n",
              "    <tr>\n",
              "      <th>Macan</th>\n",
              "      <td>Motor Diesel V6</td>\n",
              "      <td>90381.47</td>\n",
              "    </tr>\n",
              "  </tbody>\n",
              "</table>\n",
              "</div>"
            ],
            "text/plain": [
              "                                                        Motor      Valor\n",
              "Nome                                                                    \n",
              "Jetta Variant                                 Motor 4.0 Turbo   88078.64\n",
              "Passat                                           Motor Diesel  106161.94\n",
              "Crossfox                                      Motor Diesel V8   72832.16\n",
              "DS5                                           Motor 2.4 Turbo  124549.07\n",
              "Aston Martin DB4                              Motor 2.4 Turbo   92612.10\n",
              "Palio Weekend                                   Motor 1.8 16v   97497.73\n",
              "A5                                            Motor 4.0 Turbo   56445.20\n",
              "Série 3 Cabrio                                   Motor 1.0 8v  112310.44\n",
              "Dodge Jorney                                    Motor 3.0 32v  120716.27\n",
              "Carens                                  Motor 5.0 V8 Bi-Turbo   76566.49\n",
              "Ford Edge                                     Motor Diesel V6   71647.59\n",
              "Courier                                       Motor Diesel V8   73919.53\n",
              "S-18                                                 Motor V6  112732.99\n",
              "J5                                                   Motor V6   53183.38\n",
              "F-Type Coupé                            Motor 5.0 V8 Bi-Turbo  127488.42\n",
              "RAM                                           Motor Diesel V8   59910.40\n",
              "Série 1                                         Motor 3.0 32v   61118.59\n",
              "A3                                               Motor 1.0 8v   88552.39\n",
              "XC90                                             Motor 1.0 8v   62696.69\n",
              "RS 3 Sportback                                  Motor 3.0 32v  101726.30\n",
              "Pajero Sport                                     Motor 1.0 8v  106147.38\n",
              "Série 1 M                                            Motor V8   94564.40\n",
              "Lamborghini Obvious                           Motor Diesel V6  133529.84\n",
              "Effa Hafei Picape Baú                            Motor Diesel  125684.65\n",
              "Lamborghini Murciélago                  Motor 5.0 V8 Bi-Turbo  121596.21\n",
              "Up!                                           Motor Diesel V6   71367.10\n",
              "Fiesta Rocam Sedan                            Motor 4.0 Turbo   95347.75\n",
              "Sandero Stepway                                 Motor 3.0 32v  105432.84\n",
              "Cayman S                                        Motor 3.0 32v   57045.27\n",
              "V40                                           Motor 4.0 Turbo  120432.70\n",
              "Classe SLS AMG                                   Motor 1.0 8v   70707.20\n",
              "Gol G4                                          Motor 2.0 16v   69105.18\n",
              "Linea                                            Motor 1.0 8v   59358.69\n",
              "Ford F100                                       Motor 2.0 16v   65955.40\n",
              "J2                                                   Motor V8   60017.03\n",
              "Aston Martin DBS                                     Motor V8  118909.52\n",
              "Pajero TR4                                    Motor 2.4 Turbo   51606.59\n",
              "Polo Sedan                                           Motor V6  123281.87\n",
              "California                                       Motor 1.0 8v   69770.18\n",
              "S60                                           Motor 2.4 Turbo  102609.54\n",
              "Tucson                                          Motor 2.0 16v   67997.19\n",
              "HB20                                                 Motor V6  135235.29\n",
              "Optima                                          Motor 1.8 16v   86641.34\n",
              "Logan                                         Motor 4.0 Turbo  136818.39\n",
              "Range Rover Vogue                                Motor 1.0 8v  117626.73\n",
              "Sonata                                  Motor 5.0 V8 Bi-Turbo   56208.70\n",
              "Ford New Fiesta Sedan                           Motor 3.0 32v   84222.65\n",
              "Série 5 Gran Turismo                          Motor 4.0 Turbo   90781.65\n",
              "CR-V                                          Motor Diesel V8   64701.10\n",
              "Ford EcoSport                                    Motor 1.0 8v  126350.49\n",
              "Versa                                           Motor 3.0 32v  148152.89\n",
              "Classe E                                         Motor 1.0 8v  132298.83\n",
              "Carnival                                             Motor V8  137627.63\n",
              "Aston Martin V8 Vantage Roadster              Motor 2.4 Turbo   80422.71\n",
              "Hoggar                                  Motor 5.0 V8 Bi-Turbo   56373.99\n",
              "A1                                      Motor 5.0 V8 Bi-Turbo   70846.03\n",
              "Aston Martin DB7 Vantage                             Motor V6  128694.23\n",
              "CLA                                              Motor 1.0 8v  133329.19\n",
              "Accord                                               Motor V8  131961.43\n",
              "EXTRA 103EX                                     Motor 2.0 16v  112033.27\n",
              "Sorento                                          Motor Diesel   81399.35\n",
              "Tiggo                                           Motor 3.0 32v   97163.10\n",
              "New Fiesta Hatch                                 Motor Diesel   66007.16\n",
              "Jeep Renegade                           Motor 5.0 V8 Bi-Turbo  128776.22\n",
              "Lamborghini Ankonian                            Motor 2.0 16v  142623.02\n",
              "Space Cross                             Motor 5.0 V8 Bi-Turbo  136930.13\n",
              "Touareg                                              Motor V8   66526.61\n",
              "Classe M                                         Motor 1.0 8v  114154.87\n",
              "Lancer Evolution X                            Motor Diesel V6  142392.75\n",
              "Kangoo Express                                   Motor Diesel  146716.91\n",
              "SW4                                           Motor Diesel V6  122485.68\n",
              "Cadillac ELR                                     Motor 1.0 8v   97951.03\n",
              "Doblò                                           Motor 1.8 16v   78283.49\n",
              "Lamborghini Egoista                             Motor 3.0 32v   83434.04\n",
              "Fit                                              Motor Diesel   77836.23\n",
              "C5                                              Motor 2.0 16v   60813.92\n",
              "Celer Hatch                                          Motor V8   91353.86\n",
              "HB20S                                                Motor V8  116281.21\n",
              "Cielo Hatch                                      Motor Diesel  145197.70\n",
              "Livina                                          Motor 2.0 16v   50742.10\n",
              "Ducato                                  Motor 5.0 V8 Bi-Turbo   73033.53\n",
              "March                                                Motor V6   54332.87\n",
              "Cadillac XTS sedan                            Motor Diesel V6   52207.45\n",
              "Lamborghini Centenario                               Motor V6   63578.50\n",
              "Hilux                                   Motor 5.0 V8 Bi-Turbo   64507.72\n",
              "Grand Siena                                   Motor Diesel V8  115075.59\n",
              "Symbol                                           Motor Diesel  133030.60\n",
              "Aston Martin V12 GT Zagato                    Motor 4.0 Turbo  141591.86\n",
              "Fusion                                          Motor 1.8 16v  100380.28\n",
              "A4 Sedan                                         Motor Diesel   96369.04\n",
              "Xsara Picasso                                   Motor 2.0 16v  142603.84\n",
              "207 SW                                          Motor 3.0 32v  117709.67\n",
              "Star                                                 Motor V6  102241.54\n",
              "Doblò Cargo                                     Motor 3.0 32v   96065.38\n",
              "Cadillac CTS                                    Motor 1.8 16v   53894.61\n",
              "Cayenne                                          Motor 1.0 8v  123911.78\n",
              "Fox                                           Motor 4.0 Turbo  101996.35\n",
              "Tiida Hatch                                   Motor Diesel V6   83431.66\n",
              "Dodge Charger                                 Motor 2.4 Turbo  122975.63\n",
              "Face                                                 Motor V8   93227.73\n",
              "Prius                                           Motor 3.0 32v   58762.65\n",
              "Idea                                                 Motor V6  139549.67\n",
              "A8                                              Motor 2.0 16v  122016.42\n",
              "Série 1 Cabrio                                  Motor 3.0 32v   72731.98\n",
              "Edge                                                 Motor V6   88416.54\n",
              "Cadillac ATS sedan                              Motor 1.8 16v   73873.42\n",
              "Lamborghini Asterion LPI 910-4          Motor 5.0 V8 Bi-Turbo   70709.34\n",
              "Frontier                                             Motor V8  115306.50\n",
              "Série 3 Sedã                                    Motor 3.0 32v   55924.63\n",
              "Lamborghini LM002                               Motor 1.8 16v   85052.26\n",
              "Cadillac XLR                                  Motor Diesel V8   56646.34\n",
              "A4 Avant                                         Motor Diesel  138946.88\n",
              "EcoSport                                      Motor 4.0 Turbo  108256.72\n",
              "J3                                              Motor 1.8 16v   58979.30\n",
              "Q3                                              Motor 3.0 32v  114727.68\n",
              "Aston Martin V8 Vantage                              Motor V8  139661.48\n",
              "Z4 Roadster                                     Motor 3.0 32v   80382.24\n",
              "Lamborghini Ferruccio                           Motor 3.0 32v  149157.17\n",
              "Ford Ka+                                        Motor 1.8 16v   87830.41\n",
              "Silver Shadow                                    Motor Diesel  143568.22\n",
              "Classe C 63 AMG Touring                       Motor Diesel V8  138171.85\n",
              "Discovery 4                                   Motor 4.0 Turbo  115784.95\n",
              "Veloster                                      Motor Diesel V8  146508.99\n",
              "Classe C                                      Motor Diesel V6  137670.23\n",
              "Camry                                            Motor Diesel  138597.27\n",
              "C5 Tourer                                     Motor Diesel V6  147627.81\n",
              "R8 GT                                         Motor 4.0 Turbo   62999.02\n",
              "Bongo                                         Motor Diesel V8   91242.44\n",
              "ASX                                           Motor Diesel V8  149489.92\n",
              "Cadillac SRX                            Motor 5.0 V8 Bi-Turbo   63529.95\n",
              "Classe CL                                            Motor V8   58525.41\n",
              "500 Abarth                                           Motor V6   90345.05\n",
              "Aston Martin Cygnet                     Motor 5.0 V8 Bi-Turbo  147770.87\n",
              "Cadillac STS                                  Motor 4.0 Turbo  106617.71\n",
              "Aston Martin DB9                                Motor 1.8 16v  104929.88\n",
              "NX 200t                                       Motor 2.4 Turbo  100712.45\n",
              "Aston Martin One-77                                  Motor V6  141982.93\n",
              "Lamborghini Veneno                              Motor 3.0 32v  104038.79\n",
              "Sentra                                          Motor 2.0 16v   88501.54\n",
              "Jumper                                        Motor 2.4 Turbo   79782.02\n",
              "i30                                             Motor 1.8 16v   86224.10\n",
              "X6                                            Motor Diesel V6  103596.18\n",
              "Voyage                                  Motor 5.0 V8 Bi-Turbo  148996.47\n",
              "Phantom I Phantom II                            Motor 1.8 16v   60948.01\n",
              "Passat Variant                                   Motor 1.0 8v   69535.44\n",
              "Clio                                             Motor Diesel  111130.33\n",
              "Classe G                                      Motor Diesel V6   65847.69\n",
              "Silver Ghost                                    Motor 1.8 16v   78096.06\n",
              "Série 3 M3 Coupé                                 Motor Diesel   69219.89\n",
              "Gallardo LP 560 – 4                              Motor Diesel  144118.91\n",
              "Freelander 2                                  Motor Diesel V6   77397.05\n",
              "Grand Cherokee                          Motor 5.0 V8 Bi-Turbo   68974.25\n",
              "Aston Martin DBR9                             Motor 4.0 Turbo  125231.30\n",
              "Soul                                    Motor 5.0 V8 Bi-Turbo   85501.12\n",
              "Cadillac BLS                                         Motor V8  137116.21\n",
              "RX 350                                               Motor V6  138823.81\n",
              "Cayman                                          Motor 3.0 32v  117961.95\n",
              "Chana Utility                                    Motor Diesel  132662.32\n",
              "308 CC                                        Motor 4.0 Turbo  146405.79\n",
              "L200 Triton                                   Motor Diesel V8   81999.21\n",
              "Jetta                                   Motor 5.0 V8 Bi-Turbo  140934.60\n",
              "C4 Lounge                                            Motor V8   82366.81\n",
              "C4 Pallas                                        Motor 1.0 8v   70424.11\n",
              "Equus                                           Motor 3.0 32v   53620.31\n",
              "Classe GL                                       Motor 3.0 32v   73389.18\n",
              "Range Rover Evoque                              Motor 2.0 16v  111618.12\n",
              "Cherokee                                      Motor 4.0 Turbo  112187.37\n",
              "Punto                                         Motor 4.0 Turbo  120812.57\n",
              "Grand Tour                                      Motor 3.0 32v  116031.04\n",
              "Fluence                                       Motor Diesel V6  125398.11\n",
              "Effa Hafei Picape Cabine Simples                 Motor 1.0 8v   76101.47\n",
              "Durango                                         Motor 2.0 16v   75263.24\n",
              "Boxster                                       Motor Diesel V8  147387.76\n",
              "TT Roadster                                      Motor Diesel   85311.40\n",
              "Lamborghini Jalpa                               Motor 1.8 16v   54388.11\n",
              "Classe SLK                                    Motor 4.0 Turbo  124156.65\n",
              "Golf                                             Motor 1.0 8v  146203.34\n",
              "C3 Picasso                                      Motor 3.0 32v   56453.94\n",
              "V50                                             Motor 2.0 16v   68873.79\n",
              "Picanto                                       Motor 4.0 Turbo   91667.61\n",
              "Cadenza                                       Motor Diesel V6   93776.52\n",
              "Etios Sedã                              Motor 5.0 V8 Bi-Turbo   66433.82\n",
              "Alsvin                                        Motor Diesel V8  109059.27\n",
              "Cadillac ATS                                  Motor Diesel V6  122069.97\n",
              "Série 3 M3 Sedã                               Motor Diesel V6  113090.32\n",
              "Classe S                                        Motor 3.0 32v   89401.10\n",
              "T6                                              Motor 3.0 32v   56842.79\n",
              "Aston Martin DB7                              Motor Diesel V8  146676.71\n",
              "207 Sedan                                     Motor 4.0 Turbo   89511.96\n",
              "Aston Martin Virage                              Motor Diesel   97290.18\n",
              "Azera                                           Motor 1.8 16v  120673.56\n",
              "Vantage Volante                               Motor Diesel V8  114434.94\n",
              "Siena EL                                             Motor V8  139546.69\n",
              "Palio Adventure                               Motor Diesel V8   95078.16\n",
              "HB20X                                                Motor V8   68091.77\n",
              "HR                                      Motor 5.0 V8 Bi-Turbo   61496.97\n",
              "Cadillac STS V-Series                           Motor 2.0 16v  139669.30\n",
              "Série 1 Coupé                                    Motor 1.0 8v   80661.39\n",
              "SpaceFox                                             Motor V8   61783.65\n",
              "C30                                              Motor 1.0 8v   52805.91\n",
              "J3 Turin                                             Motor V6  127024.75\n",
              "Classe B                                      Motor Diesel V8  135543.00\n",
              "Parati                                        Motor Diesel V8  121708.73\n",
              "Cadillac CTS V-Series                         Motor 4.0 Turbo  107342.68\n",
              "Sedan                                                Motor V8   57888.10\n",
              "Classe CLS 63 AMG                             Motor Diesel V6  118161.48\n",
              "Aircross                                         Motor 1.0 8v  142499.06\n",
              "Aston Martin V12 Vantage                             Motor V8  128396.11\n",
              "Sandero                                          Motor Diesel  112350.61\n",
              "New Fiesta                              Motor 5.0 V8 Bi-Turbo  124661.38\n",
              "XKR                                              Motor Diesel   54263.16\n",
              "X5                                               Motor Diesel   62041.32\n",
              "Cadillac DTS                                    Motor 1.8 16v  129296.11\n",
              "Pajero Dakar                                  Motor 4.0 Turbo   60998.33\n",
              "Classe A                                         Motor 1.0 8v   58008.50\n",
              "Ford Focus Fastback                           Motor 4.0 Turbo   82304.19\n",
              "Partner                                       Motor 2.4 Turbo  114531.74\n",
              "R8                                                   Motor V6  128565.61\n",
              "Aston Martin DBS Volante                      Motor 4.0 Turbo  126488.26\n",
              "Mohave                                        Motor Diesel V6  119074.55\n",
              "Fusca                                           Motor 3.0 32v  130238.04\n",
              "Chana Family                                         Motor V8  115760.17\n",
              "XC40                                          Motor 2.4 Turbo  121248.00\n",
              "Phantom I Jonckheere Aerodynamic Coupe          Motor 1.8 16v   98156.35\n",
              "Boxer                                                Motor V6  112146.80\n",
              "Chana Cargo                                     Motor 2.0 16v  102729.63\n",
              "Dodge Dakota                                     Motor Diesel  141083.35\n",
              "X1                                            Motor Diesel V8  102968.76\n",
              "GLA                                              Motor 1.0 8v   76310.01\n",
              "Range Rover Sport                                Motor 1.0 8v  120481.74\n",
              "DS3                                             Motor 1.8 16v   54559.18\n",
              "Veracruz                                      Motor Diesel V8   92957.64\n",
              "Cadillac CTS coupe, sedan, and wagon                 Motor V8  127810.06\n",
              "i30 CW                                           Motor Diesel   73311.75\n",
              "Phantom III                                   Motor Diesel V6   65138.03\n",
              "A3 Sedan                                             Motor V6   90141.47\n",
              "Aston Martin DB9 Volante                        Motor 2.0 16v   71160.36\n",
              "Série 7 Sedã                                     Motor Diesel   67539.79\n",
              "Lamborghini Reventón                          Motor 4.0 Turbo   67664.86\n",
              "Grand Livina                                    Motor 2.0 16v   68652.16\n",
              "V60                                              Motor Diesel  114728.74\n",
              "Effa Hafei Picape Cabine Dupla                       Motor V6  141645.08\n",
              "Benni Mini                                           Motor V8  126247.84\n",
              "Uno                                           Motor Diesel V6  128852.21\n",
              "L200 Savana                                     Motor 2.0 16v  132384.76\n",
              "Santa Fe                                        Motor 3.0 32v  129415.33\n",
              "RS5                                                  Motor V6   89536.82\n",
              "Cerato                                               Motor V6   87975.30\n",
              "XC60                                          Motor 4.0 Turbo   77675.79\n",
              "LS 460L                                       Motor Diesel V8   58881.67\n",
              "Lamborghini Sesto Elemento                           Motor V8   55081.99\n",
              "Lamborghini Huracán                                  Motor V8  118826.44\n",
              "A7                                               Motor 1.0 8v  137627.62\n",
              "Phantom 2013                                         Motor V8   51759.58\n",
              "Cadillac Ciel concept                                Motor V8   51667.06\n",
              "Classe GLK                              Motor 5.0 V8 Bi-Turbo   68934.03\n",
              "Aston Martin DB5                                 Motor Diesel  122110.90\n",
              "Macan                                         Motor Diesel V6   90381.47"
            ]
          },
          "metadata": {
            "tags": []
          },
          "execution_count": 170
        }
      ]
    },
    {
      "cell_type": "markdown",
      "metadata": {
        "id": "SYKEe3vCD1BT",
        "colab_type": "text"
      },
      "source": [
        "### Utilizando .iloc para seleções\n",
        "\n",
        "<font color=red>**Observação:**</font> Seleciona com base nos índices, ou seja, se baseia na posição das informações."
      ]
    },
    {
      "cell_type": "code",
      "metadata": {
        "id": "U4Bru90bD1BT",
        "colab_type": "code",
        "colab": {
          "base_uri": "https://localhost:8080/",
          "height": 136
        },
        "outputId": "47b623e5-ff4b-4a75-f947-b923fbd36edd"
      },
      "source": [
        "dataset.iloc[1]"
      ],
      "execution_count": 171,
      "outputs": [
        {
          "output_type": "execute_result",
          "data": {
            "text/plain": [
              "Motor                                                 Motor Diesel\n",
              "Ano                                                           1991\n",
              "Quilometragem                                                 5712\n",
              "Zero_km                                                      False\n",
              "Acessórios       ['Central multimídia', 'Teto panorâmico', 'Fre...\n",
              "Valor                                                       106162\n",
              "Name: Passat, dtype: object"
            ]
          },
          "metadata": {
            "tags": []
          },
          "execution_count": 171
        }
      ]
    },
    {
      "cell_type": "code",
      "metadata": {
        "id": "iLKUyrzND1BU",
        "colab_type": "code",
        "colab": {
          "base_uri": "https://localhost:8080/",
          "height": 111
        },
        "outputId": "ada96030-255b-4ae5-cfdf-cd5db43446b1"
      },
      "source": [
        "#retornando como Dataframe\n",
        "dataset.iloc[[1]]"
      ],
      "execution_count": 172,
      "outputs": [
        {
          "output_type": "execute_result",
          "data": {
            "text/html": [
              "<div>\n",
              "<style scoped>\n",
              "    .dataframe tbody tr th:only-of-type {\n",
              "        vertical-align: middle;\n",
              "    }\n",
              "\n",
              "    .dataframe tbody tr th {\n",
              "        vertical-align: top;\n",
              "    }\n",
              "\n",
              "    .dataframe thead th {\n",
              "        text-align: right;\n",
              "    }\n",
              "</style>\n",
              "<table border=\"1\" class=\"dataframe\">\n",
              "  <thead>\n",
              "    <tr style=\"text-align: right;\">\n",
              "      <th></th>\n",
              "      <th>Motor</th>\n",
              "      <th>Ano</th>\n",
              "      <th>Quilometragem</th>\n",
              "      <th>Zero_km</th>\n",
              "      <th>Acessórios</th>\n",
              "      <th>Valor</th>\n",
              "    </tr>\n",
              "    <tr>\n",
              "      <th>Nome</th>\n",
              "      <th></th>\n",
              "      <th></th>\n",
              "      <th></th>\n",
              "      <th></th>\n",
              "      <th></th>\n",
              "      <th></th>\n",
              "    </tr>\n",
              "  </thead>\n",
              "  <tbody>\n",
              "    <tr>\n",
              "      <th>Passat</th>\n",
              "      <td>Motor Diesel</td>\n",
              "      <td>1991</td>\n",
              "      <td>5712.0</td>\n",
              "      <td>False</td>\n",
              "      <td>['Central multimídia', 'Teto panorâmico', 'Fre...</td>\n",
              "      <td>106161.94</td>\n",
              "    </tr>\n",
              "  </tbody>\n",
              "</table>\n",
              "</div>"
            ],
            "text/plain": [
              "               Motor   Ano  Quilometragem  Zero_km  \\\n",
              "Nome                                                 \n",
              "Passat  Motor Diesel  1991         5712.0    False   \n",
              "\n",
              "                                               Acessórios      Valor  \n",
              "Nome                                                                  \n",
              "Passat  ['Central multimídia', 'Teto panorâmico', 'Fre...  106161.94  "
            ]
          },
          "metadata": {
            "tags": []
          },
          "execution_count": 172
        }
      ]
    },
    {
      "cell_type": "code",
      "metadata": {
        "id": "KGZpixYUD1BU",
        "colab_type": "code",
        "colab": {
          "base_uri": "https://localhost:8080/",
          "height": 173
        },
        "outputId": "d0c28f04-b96d-4ea2-e3d0-8e1ba9f2e998"
      },
      "source": [
        "#funciona como seleção em listas, o último índice não é mostrado no output\n",
        "dataset.iloc[1:4]"
      ],
      "execution_count": 173,
      "outputs": [
        {
          "output_type": "execute_result",
          "data": {
            "text/html": [
              "<div>\n",
              "<style scoped>\n",
              "    .dataframe tbody tr th:only-of-type {\n",
              "        vertical-align: middle;\n",
              "    }\n",
              "\n",
              "    .dataframe tbody tr th {\n",
              "        vertical-align: top;\n",
              "    }\n",
              "\n",
              "    .dataframe thead th {\n",
              "        text-align: right;\n",
              "    }\n",
              "</style>\n",
              "<table border=\"1\" class=\"dataframe\">\n",
              "  <thead>\n",
              "    <tr style=\"text-align: right;\">\n",
              "      <th></th>\n",
              "      <th>Motor</th>\n",
              "      <th>Ano</th>\n",
              "      <th>Quilometragem</th>\n",
              "      <th>Zero_km</th>\n",
              "      <th>Acessórios</th>\n",
              "      <th>Valor</th>\n",
              "    </tr>\n",
              "    <tr>\n",
              "      <th>Nome</th>\n",
              "      <th></th>\n",
              "      <th></th>\n",
              "      <th></th>\n",
              "      <th></th>\n",
              "      <th></th>\n",
              "      <th></th>\n",
              "    </tr>\n",
              "  </thead>\n",
              "  <tbody>\n",
              "    <tr>\n",
              "      <th>Passat</th>\n",
              "      <td>Motor Diesel</td>\n",
              "      <td>1991</td>\n",
              "      <td>5712.0</td>\n",
              "      <td>False</td>\n",
              "      <td>['Central multimídia', 'Teto panorâmico', 'Fre...</td>\n",
              "      <td>106161.94</td>\n",
              "    </tr>\n",
              "    <tr>\n",
              "      <th>Crossfox</th>\n",
              "      <td>Motor Diesel V8</td>\n",
              "      <td>1990</td>\n",
              "      <td>37123.0</td>\n",
              "      <td>False</td>\n",
              "      <td>['Piloto automático', 'Controle de estabilidad...</td>\n",
              "      <td>72832.16</td>\n",
              "    </tr>\n",
              "    <tr>\n",
              "      <th>DS5</th>\n",
              "      <td>Motor 2.4 Turbo</td>\n",
              "      <td>2019</td>\n",
              "      <td>NaN</td>\n",
              "      <td>True</td>\n",
              "      <td>['Travas elétricas', '4 X 4', 'Vidros elétrico...</td>\n",
              "      <td>124549.07</td>\n",
              "    </tr>\n",
              "  </tbody>\n",
              "</table>\n",
              "</div>"
            ],
            "text/plain": [
              "                    Motor   Ano  Quilometragem  Zero_km  \\\n",
              "Nome                                                      \n",
              "Passat       Motor Diesel  1991         5712.0    False   \n",
              "Crossfox  Motor Diesel V8  1990        37123.0    False   \n",
              "DS5       Motor 2.4 Turbo  2019            NaN     True   \n",
              "\n",
              "                                                 Acessórios      Valor  \n",
              "Nome                                                                    \n",
              "Passat    ['Central multimídia', 'Teto panorâmico', 'Fre...  106161.94  \n",
              "Crossfox  ['Piloto automático', 'Controle de estabilidad...   72832.16  \n",
              "DS5       ['Travas elétricas', '4 X 4', 'Vidros elétrico...  124549.07  "
            ]
          },
          "metadata": {
            "tags": []
          },
          "execution_count": 173
        }
      ]
    },
    {
      "cell_type": "code",
      "metadata": {
        "id": "GxdqIz4LD1BV",
        "colab_type": "code",
        "colab": {
          "base_uri": "https://localhost:8080/",
          "height": 173
        },
        "outputId": "3ae78277-c5bb-4eea-aa62-3f3510ce750a"
      },
      "source": [
        "#definindo algumas colunas (não precisa ser na ordem correta) para mostrar as linhas\n",
        "dataset.iloc[1:4, [0,5,2]]"
      ],
      "execution_count": 174,
      "outputs": [
        {
          "output_type": "execute_result",
          "data": {
            "text/html": [
              "<div>\n",
              "<style scoped>\n",
              "    .dataframe tbody tr th:only-of-type {\n",
              "        vertical-align: middle;\n",
              "    }\n",
              "\n",
              "    .dataframe tbody tr th {\n",
              "        vertical-align: top;\n",
              "    }\n",
              "\n",
              "    .dataframe thead th {\n",
              "        text-align: right;\n",
              "    }\n",
              "</style>\n",
              "<table border=\"1\" class=\"dataframe\">\n",
              "  <thead>\n",
              "    <tr style=\"text-align: right;\">\n",
              "      <th></th>\n",
              "      <th>Motor</th>\n",
              "      <th>Valor</th>\n",
              "      <th>Quilometragem</th>\n",
              "    </tr>\n",
              "    <tr>\n",
              "      <th>Nome</th>\n",
              "      <th></th>\n",
              "      <th></th>\n",
              "      <th></th>\n",
              "    </tr>\n",
              "  </thead>\n",
              "  <tbody>\n",
              "    <tr>\n",
              "      <th>Passat</th>\n",
              "      <td>Motor Diesel</td>\n",
              "      <td>106161.94</td>\n",
              "      <td>5712.0</td>\n",
              "    </tr>\n",
              "    <tr>\n",
              "      <th>Crossfox</th>\n",
              "      <td>Motor Diesel V8</td>\n",
              "      <td>72832.16</td>\n",
              "      <td>37123.0</td>\n",
              "    </tr>\n",
              "    <tr>\n",
              "      <th>DS5</th>\n",
              "      <td>Motor 2.4 Turbo</td>\n",
              "      <td>124549.07</td>\n",
              "      <td>NaN</td>\n",
              "    </tr>\n",
              "  </tbody>\n",
              "</table>\n",
              "</div>"
            ],
            "text/plain": [
              "                    Motor      Valor  Quilometragem\n",
              "Nome                                               \n",
              "Passat       Motor Diesel  106161.94         5712.0\n",
              "Crossfox  Motor Diesel V8   72832.16        37123.0\n",
              "DS5       Motor 2.4 Turbo  124549.07            NaN"
            ]
          },
          "metadata": {
            "tags": []
          },
          "execution_count": 174
        }
      ]
    },
    {
      "cell_type": "markdown",
      "metadata": {
        "id": "51YckXrgv9TG",
        "colab_type": "text"
      },
      "source": [
        "**Exercício**"
      ]
    },
    {
      "cell_type": "code",
      "metadata": {
        "scrolled": true,
        "id": "AVIhs7uLD1BW",
        "colab_type": "code",
        "colab": {}
      },
      "source": [
        "dados = {\n",
        "    'Nome': ['Jetta', 'Passat', 'Crossfox', 'DS5', 'Fusca'], \n",
        "    'Motor': ['Motor 4.0 Turbo', 'Motor Diesel', 'Motor Diesel V8', 'Motor 2.0', 'Motor 1.6'],\n",
        "    'Ano': [2019, 2003, 1991, 2019, 1990],\n",
        "    'Quilometragem': [0.0, 5712.0, 37123.0, 0.0, 120000.0],\n",
        "    'Zero_km': [True, False, False, True, False],\n",
        "    'Valor': [88000.0, 106000.0, 72000.0, 89000.0, 32000.0]\n",
        "}\n",
        "\n",
        "dados = pd.DataFrame(dados)"
      ],
      "execution_count": 175,
      "outputs": []
    },
    {
      "cell_type": "markdown",
      "metadata": {
        "id": "ttr_onHJwDih",
        "colab_type": "text"
      },
      "source": [
        "Assinale a alternativa que contenha o código que seleciona somente as informações de Nome, Ano, Quilometragem e Valor dos carros Passat e Crossfox."
      ]
    },
    {
      "cell_type": "code",
      "metadata": {
        "id": "v5wSZhQ9wGoS",
        "colab_type": "code",
        "colab": {
          "base_uri": "https://localhost:8080/",
          "height": 204
        },
        "outputId": "88e84a25-d479-40fa-9e7c-74148b23b762"
      },
      "source": [
        "dados.head()"
      ],
      "execution_count": 176,
      "outputs": [
        {
          "output_type": "execute_result",
          "data": {
            "text/html": [
              "<div>\n",
              "<style scoped>\n",
              "    .dataframe tbody tr th:only-of-type {\n",
              "        vertical-align: middle;\n",
              "    }\n",
              "\n",
              "    .dataframe tbody tr th {\n",
              "        vertical-align: top;\n",
              "    }\n",
              "\n",
              "    .dataframe thead th {\n",
              "        text-align: right;\n",
              "    }\n",
              "</style>\n",
              "<table border=\"1\" class=\"dataframe\">\n",
              "  <thead>\n",
              "    <tr style=\"text-align: right;\">\n",
              "      <th></th>\n",
              "      <th>Nome</th>\n",
              "      <th>Motor</th>\n",
              "      <th>Ano</th>\n",
              "      <th>Quilometragem</th>\n",
              "      <th>Zero_km</th>\n",
              "      <th>Valor</th>\n",
              "    </tr>\n",
              "  </thead>\n",
              "  <tbody>\n",
              "    <tr>\n",
              "      <th>0</th>\n",
              "      <td>Jetta</td>\n",
              "      <td>Motor 4.0 Turbo</td>\n",
              "      <td>2019</td>\n",
              "      <td>0.0</td>\n",
              "      <td>True</td>\n",
              "      <td>88000.0</td>\n",
              "    </tr>\n",
              "    <tr>\n",
              "      <th>1</th>\n",
              "      <td>Passat</td>\n",
              "      <td>Motor Diesel</td>\n",
              "      <td>2003</td>\n",
              "      <td>5712.0</td>\n",
              "      <td>False</td>\n",
              "      <td>106000.0</td>\n",
              "    </tr>\n",
              "    <tr>\n",
              "      <th>2</th>\n",
              "      <td>Crossfox</td>\n",
              "      <td>Motor Diesel V8</td>\n",
              "      <td>1991</td>\n",
              "      <td>37123.0</td>\n",
              "      <td>False</td>\n",
              "      <td>72000.0</td>\n",
              "    </tr>\n",
              "    <tr>\n",
              "      <th>3</th>\n",
              "      <td>DS5</td>\n",
              "      <td>Motor 2.0</td>\n",
              "      <td>2019</td>\n",
              "      <td>0.0</td>\n",
              "      <td>True</td>\n",
              "      <td>89000.0</td>\n",
              "    </tr>\n",
              "    <tr>\n",
              "      <th>4</th>\n",
              "      <td>Fusca</td>\n",
              "      <td>Motor 1.6</td>\n",
              "      <td>1990</td>\n",
              "      <td>120000.0</td>\n",
              "      <td>False</td>\n",
              "      <td>32000.0</td>\n",
              "    </tr>\n",
              "  </tbody>\n",
              "</table>\n",
              "</div>"
            ],
            "text/plain": [
              "       Nome            Motor   Ano  Quilometragem  Zero_km     Valor\n",
              "0     Jetta  Motor 4.0 Turbo  2019            0.0     True   88000.0\n",
              "1    Passat     Motor Diesel  2003         5712.0    False  106000.0\n",
              "2  Crossfox  Motor Diesel V8  1991        37123.0    False   72000.0\n",
              "3       DS5        Motor 2.0  2019            0.0     True   89000.0\n",
              "4     Fusca        Motor 1.6  1990       120000.0    False   32000.0"
            ]
          },
          "metadata": {
            "tags": []
          },
          "execution_count": 176
        }
      ]
    },
    {
      "cell_type": "code",
      "metadata": {
        "id": "xYLztUlNwGv5",
        "colab_type": "code",
        "colab": {
          "base_uri": "https://localhost:8080/",
          "height": 111
        },
        "outputId": "129fc8dd-7db5-4a9e-b679-268d46d5beb0"
      },
      "source": [
        "dados.loc[[1,2], ['Nome', 'Ano', 'Quilometragem', 'Valor']]"
      ],
      "execution_count": 177,
      "outputs": [
        {
          "output_type": "execute_result",
          "data": {
            "text/html": [
              "<div>\n",
              "<style scoped>\n",
              "    .dataframe tbody tr th:only-of-type {\n",
              "        vertical-align: middle;\n",
              "    }\n",
              "\n",
              "    .dataframe tbody tr th {\n",
              "        vertical-align: top;\n",
              "    }\n",
              "\n",
              "    .dataframe thead th {\n",
              "        text-align: right;\n",
              "    }\n",
              "</style>\n",
              "<table border=\"1\" class=\"dataframe\">\n",
              "  <thead>\n",
              "    <tr style=\"text-align: right;\">\n",
              "      <th></th>\n",
              "      <th>Nome</th>\n",
              "      <th>Ano</th>\n",
              "      <th>Quilometragem</th>\n",
              "      <th>Valor</th>\n",
              "    </tr>\n",
              "  </thead>\n",
              "  <tbody>\n",
              "    <tr>\n",
              "      <th>1</th>\n",
              "      <td>Passat</td>\n",
              "      <td>2003</td>\n",
              "      <td>5712.0</td>\n",
              "      <td>106000.0</td>\n",
              "    </tr>\n",
              "    <tr>\n",
              "      <th>2</th>\n",
              "      <td>Crossfox</td>\n",
              "      <td>1991</td>\n",
              "      <td>37123.0</td>\n",
              "      <td>72000.0</td>\n",
              "    </tr>\n",
              "  </tbody>\n",
              "</table>\n",
              "</div>"
            ],
            "text/plain": [
              "       Nome   Ano  Quilometragem     Valor\n",
              "1    Passat  2003         5712.0  106000.0\n",
              "2  Crossfox  1991        37123.0   72000.0"
            ]
          },
          "metadata": {
            "tags": []
          },
          "execution_count": 177
        }
      ]
    },
    {
      "cell_type": "code",
      "metadata": {
        "id": "lYH7ezo6wG3L",
        "colab_type": "code",
        "colab": {
          "base_uri": "https://localhost:8080/",
          "height": 111
        },
        "outputId": "f0ca6e2d-c7d6-4f3b-8a1c-c0e8a36c4acf"
      },
      "source": [
        "dados[['Nome', 'Ano', 'Quilometragem', 'Valor']][1:3]"
      ],
      "execution_count": 180,
      "outputs": [
        {
          "output_type": "execute_result",
          "data": {
            "text/html": [
              "<div>\n",
              "<style scoped>\n",
              "    .dataframe tbody tr th:only-of-type {\n",
              "        vertical-align: middle;\n",
              "    }\n",
              "\n",
              "    .dataframe tbody tr th {\n",
              "        vertical-align: top;\n",
              "    }\n",
              "\n",
              "    .dataframe thead th {\n",
              "        text-align: right;\n",
              "    }\n",
              "</style>\n",
              "<table border=\"1\" class=\"dataframe\">\n",
              "  <thead>\n",
              "    <tr style=\"text-align: right;\">\n",
              "      <th></th>\n",
              "      <th>Nome</th>\n",
              "      <th>Ano</th>\n",
              "      <th>Quilometragem</th>\n",
              "      <th>Valor</th>\n",
              "    </tr>\n",
              "  </thead>\n",
              "  <tbody>\n",
              "    <tr>\n",
              "      <th>1</th>\n",
              "      <td>Passat</td>\n",
              "      <td>2003</td>\n",
              "      <td>5712.0</td>\n",
              "      <td>106000.0</td>\n",
              "    </tr>\n",
              "    <tr>\n",
              "      <th>2</th>\n",
              "      <td>Crossfox</td>\n",
              "      <td>1991</td>\n",
              "      <td>37123.0</td>\n",
              "      <td>72000.0</td>\n",
              "    </tr>\n",
              "  </tbody>\n",
              "</table>\n",
              "</div>"
            ],
            "text/plain": [
              "       Nome   Ano  Quilometragem     Valor\n",
              "1    Passat  2003         5712.0  106000.0\n",
              "2  Crossfox  1991        37123.0   72000.0"
            ]
          },
          "metadata": {
            "tags": []
          },
          "execution_count": 180
        }
      ]
    },
    {
      "cell_type": "markdown",
      "metadata": {
        "id": "_xH8h8D7xCHq",
        "colab_type": "text"
      },
      "source": [
        "**Exercício**\n",
        "Note que utilizamos os nomes dos veículos como índice do DataFrame. Selecione as alternativas corretas que têm como resultado o seguinte DataFrame:\n",
        "\n",
        "Out [1]:\n",
        "\n",
        "||Motor|\tValor|\n",
        "|---|---|---|\n",
        "|Passat|\tMotor Diesel|\t106000.0|\n",
        "|DS5|\tMotor 2.0\t|89000.0|\n"
      ]
    },
    {
      "cell_type": "code",
      "metadata": {
        "id": "y4xj3rqUxE0G",
        "colab_type": "code",
        "colab": {}
      },
      "source": [
        "dados = {\n",
        "    'Motor': ['Motor 4.0 Turbo', 'Motor Diesel', 'Motor Diesel V8', 'Motor 2.0', 'Motor 1.6'],\n",
        "    'Ano': [2019, 2003, 1991, 2019, 1990],\n",
        "    'Quilometragem': [0.0, 5712.0, 37123.0, 0.0, 120000.0],\n",
        "    'Zero_km': [True, False, False, True, False],\n",
        "    'Valor': [88000.0, 106000.0, 72000.0, 89000.0, 32000.0]\n",
        "}\n",
        "\n",
        "dados = pd.DataFrame(dados, index = ['Jetta', 'Passat', 'Crossfox', 'DS5', 'Fusca'])"
      ],
      "execution_count": 181,
      "outputs": []
    },
    {
      "cell_type": "code",
      "metadata": {
        "id": "bFNfEbk2xE3O",
        "colab_type": "code",
        "colab": {
          "base_uri": "https://localhost:8080/",
          "height": 204
        },
        "outputId": "ba4a9743-f570-4bc3-a512-0e156f42165a"
      },
      "source": [
        "dados.head()"
      ],
      "execution_count": 182,
      "outputs": [
        {
          "output_type": "execute_result",
          "data": {
            "text/html": [
              "<div>\n",
              "<style scoped>\n",
              "    .dataframe tbody tr th:only-of-type {\n",
              "        vertical-align: middle;\n",
              "    }\n",
              "\n",
              "    .dataframe tbody tr th {\n",
              "        vertical-align: top;\n",
              "    }\n",
              "\n",
              "    .dataframe thead th {\n",
              "        text-align: right;\n",
              "    }\n",
              "</style>\n",
              "<table border=\"1\" class=\"dataframe\">\n",
              "  <thead>\n",
              "    <tr style=\"text-align: right;\">\n",
              "      <th></th>\n",
              "      <th>Motor</th>\n",
              "      <th>Ano</th>\n",
              "      <th>Quilometragem</th>\n",
              "      <th>Zero_km</th>\n",
              "      <th>Valor</th>\n",
              "    </tr>\n",
              "  </thead>\n",
              "  <tbody>\n",
              "    <tr>\n",
              "      <th>Jetta</th>\n",
              "      <td>Motor 4.0 Turbo</td>\n",
              "      <td>2019</td>\n",
              "      <td>0.0</td>\n",
              "      <td>True</td>\n",
              "      <td>88000.0</td>\n",
              "    </tr>\n",
              "    <tr>\n",
              "      <th>Passat</th>\n",
              "      <td>Motor Diesel</td>\n",
              "      <td>2003</td>\n",
              "      <td>5712.0</td>\n",
              "      <td>False</td>\n",
              "      <td>106000.0</td>\n",
              "    </tr>\n",
              "    <tr>\n",
              "      <th>Crossfox</th>\n",
              "      <td>Motor Diesel V8</td>\n",
              "      <td>1991</td>\n",
              "      <td>37123.0</td>\n",
              "      <td>False</td>\n",
              "      <td>72000.0</td>\n",
              "    </tr>\n",
              "    <tr>\n",
              "      <th>DS5</th>\n",
              "      <td>Motor 2.0</td>\n",
              "      <td>2019</td>\n",
              "      <td>0.0</td>\n",
              "      <td>True</td>\n",
              "      <td>89000.0</td>\n",
              "    </tr>\n",
              "    <tr>\n",
              "      <th>Fusca</th>\n",
              "      <td>Motor 1.6</td>\n",
              "      <td>1990</td>\n",
              "      <td>120000.0</td>\n",
              "      <td>False</td>\n",
              "      <td>32000.0</td>\n",
              "    </tr>\n",
              "  </tbody>\n",
              "</table>\n",
              "</div>"
            ],
            "text/plain": [
              "                    Motor   Ano  Quilometragem  Zero_km     Valor\n",
              "Jetta     Motor 4.0 Turbo  2019            0.0     True   88000.0\n",
              "Passat       Motor Diesel  2003         5712.0    False  106000.0\n",
              "Crossfox  Motor Diesel V8  1991        37123.0    False   72000.0\n",
              "DS5             Motor 2.0  2019            0.0     True   89000.0\n",
              "Fusca           Motor 1.6  1990       120000.0    False   32000.0"
            ]
          },
          "metadata": {
            "tags": []
          },
          "execution_count": 182
        }
      ]
    },
    {
      "cell_type": "code",
      "metadata": {
        "id": "f1xpQo36xE6W",
        "colab_type": "code",
        "colab": {
          "base_uri": "https://localhost:8080/",
          "height": 111
        },
        "outputId": "b68199cc-96e6-4a05-99e3-dfa8c0d311ad"
      },
      "source": [
        "#com o .loc passamos os rótulos\n",
        "dados.loc[['Passat', 'DS5'], ['Motor', 'Valor']]"
      ],
      "execution_count": 183,
      "outputs": [
        {
          "output_type": "execute_result",
          "data": {
            "text/html": [
              "<div>\n",
              "<style scoped>\n",
              "    .dataframe tbody tr th:only-of-type {\n",
              "        vertical-align: middle;\n",
              "    }\n",
              "\n",
              "    .dataframe tbody tr th {\n",
              "        vertical-align: top;\n",
              "    }\n",
              "\n",
              "    .dataframe thead th {\n",
              "        text-align: right;\n",
              "    }\n",
              "</style>\n",
              "<table border=\"1\" class=\"dataframe\">\n",
              "  <thead>\n",
              "    <tr style=\"text-align: right;\">\n",
              "      <th></th>\n",
              "      <th>Motor</th>\n",
              "      <th>Valor</th>\n",
              "    </tr>\n",
              "  </thead>\n",
              "  <tbody>\n",
              "    <tr>\n",
              "      <th>Passat</th>\n",
              "      <td>Motor Diesel</td>\n",
              "      <td>106000.0</td>\n",
              "    </tr>\n",
              "    <tr>\n",
              "      <th>DS5</th>\n",
              "      <td>Motor 2.0</td>\n",
              "      <td>89000.0</td>\n",
              "    </tr>\n",
              "  </tbody>\n",
              "</table>\n",
              "</div>"
            ],
            "text/plain": [
              "               Motor     Valor\n",
              "Passat  Motor Diesel  106000.0\n",
              "DS5        Motor 2.0   89000.0"
            ]
          },
          "metadata": {
            "tags": []
          },
          "execution_count": 183
        }
      ]
    },
    {
      "cell_type": "code",
      "metadata": {
        "id": "lvc17uFQxE-M",
        "colab_type": "code",
        "colab": {
          "base_uri": "https://localhost:8080/",
          "height": 111
        },
        "outputId": "00282986-723f-47bf-a6eb-fb17b2257191"
      },
      "source": [
        "#com o iloc usamos os índices\n",
        "dados.iloc[[1, 3], [0, -1]]"
      ],
      "execution_count": 185,
      "outputs": [
        {
          "output_type": "execute_result",
          "data": {
            "text/html": [
              "<div>\n",
              "<style scoped>\n",
              "    .dataframe tbody tr th:only-of-type {\n",
              "        vertical-align: middle;\n",
              "    }\n",
              "\n",
              "    .dataframe tbody tr th {\n",
              "        vertical-align: top;\n",
              "    }\n",
              "\n",
              "    .dataframe thead th {\n",
              "        text-align: right;\n",
              "    }\n",
              "</style>\n",
              "<table border=\"1\" class=\"dataframe\">\n",
              "  <thead>\n",
              "    <tr style=\"text-align: right;\">\n",
              "      <th></th>\n",
              "      <th>Motor</th>\n",
              "      <th>Valor</th>\n",
              "    </tr>\n",
              "  </thead>\n",
              "  <tbody>\n",
              "    <tr>\n",
              "      <th>Passat</th>\n",
              "      <td>Motor Diesel</td>\n",
              "      <td>106000.0</td>\n",
              "    </tr>\n",
              "    <tr>\n",
              "      <th>DS5</th>\n",
              "      <td>Motor 2.0</td>\n",
              "      <td>89000.0</td>\n",
              "    </tr>\n",
              "  </tbody>\n",
              "</table>\n",
              "</div>"
            ],
            "text/plain": [
              "               Motor     Valor\n",
              "Passat  Motor Diesel  106000.0\n",
              "DS5        Motor 2.0   89000.0"
            ]
          },
          "metadata": {
            "tags": []
          },
          "execution_count": 185
        }
      ]
    },
    {
      "cell_type": "markdown",
      "metadata": {
        "id": "eAbwq1oLD1BW",
        "colab_type": "text"
      },
      "source": [
        "# 5.3 Queries com DataFrames"
      ]
    },
    {
      "cell_type": "code",
      "metadata": {
        "scrolled": true,
        "id": "AOZTWzehD1BW",
        "colab_type": "code",
        "colab": {
          "base_uri": "https://localhost:8080/",
          "height": 235
        },
        "outputId": "0b6e4426-2072-4f7a-87f4-7e7b83a15830"
      },
      "source": [
        "dataset.head()"
      ],
      "execution_count": 186,
      "outputs": [
        {
          "output_type": "execute_result",
          "data": {
            "text/html": [
              "<div>\n",
              "<style scoped>\n",
              "    .dataframe tbody tr th:only-of-type {\n",
              "        vertical-align: middle;\n",
              "    }\n",
              "\n",
              "    .dataframe tbody tr th {\n",
              "        vertical-align: top;\n",
              "    }\n",
              "\n",
              "    .dataframe thead th {\n",
              "        text-align: right;\n",
              "    }\n",
              "</style>\n",
              "<table border=\"1\" class=\"dataframe\">\n",
              "  <thead>\n",
              "    <tr style=\"text-align: right;\">\n",
              "      <th></th>\n",
              "      <th>Motor</th>\n",
              "      <th>Ano</th>\n",
              "      <th>Quilometragem</th>\n",
              "      <th>Zero_km</th>\n",
              "      <th>Acessórios</th>\n",
              "      <th>Valor</th>\n",
              "    </tr>\n",
              "    <tr>\n",
              "      <th>Nome</th>\n",
              "      <th></th>\n",
              "      <th></th>\n",
              "      <th></th>\n",
              "      <th></th>\n",
              "      <th></th>\n",
              "      <th></th>\n",
              "    </tr>\n",
              "  </thead>\n",
              "  <tbody>\n",
              "    <tr>\n",
              "      <th>Jetta Variant</th>\n",
              "      <td>Motor 4.0 Turbo</td>\n",
              "      <td>2003</td>\n",
              "      <td>44410.0</td>\n",
              "      <td>False</td>\n",
              "      <td>['Rodas de liga', 'Travas elétricas', 'Piloto ...</td>\n",
              "      <td>88078.64</td>\n",
              "    </tr>\n",
              "    <tr>\n",
              "      <th>Passat</th>\n",
              "      <td>Motor Diesel</td>\n",
              "      <td>1991</td>\n",
              "      <td>5712.0</td>\n",
              "      <td>False</td>\n",
              "      <td>['Central multimídia', 'Teto panorâmico', 'Fre...</td>\n",
              "      <td>106161.94</td>\n",
              "    </tr>\n",
              "    <tr>\n",
              "      <th>Crossfox</th>\n",
              "      <td>Motor Diesel V8</td>\n",
              "      <td>1990</td>\n",
              "      <td>37123.0</td>\n",
              "      <td>False</td>\n",
              "      <td>['Piloto automático', 'Controle de estabilidad...</td>\n",
              "      <td>72832.16</td>\n",
              "    </tr>\n",
              "    <tr>\n",
              "      <th>DS5</th>\n",
              "      <td>Motor 2.4 Turbo</td>\n",
              "      <td>2019</td>\n",
              "      <td>NaN</td>\n",
              "      <td>True</td>\n",
              "      <td>['Travas elétricas', '4 X 4', 'Vidros elétrico...</td>\n",
              "      <td>124549.07</td>\n",
              "    </tr>\n",
              "    <tr>\n",
              "      <th>Aston Martin DB4</th>\n",
              "      <td>Motor 2.4 Turbo</td>\n",
              "      <td>2006</td>\n",
              "      <td>25757.0</td>\n",
              "      <td>False</td>\n",
              "      <td>['Rodas de liga', '4 X 4', 'Central multimídia...</td>\n",
              "      <td>92612.10</td>\n",
              "    </tr>\n",
              "  </tbody>\n",
              "</table>\n",
              "</div>"
            ],
            "text/plain": [
              "                            Motor   Ano  Quilometragem  Zero_km  \\\n",
              "Nome                                                              \n",
              "Jetta Variant     Motor 4.0 Turbo  2003        44410.0    False   \n",
              "Passat               Motor Diesel  1991         5712.0    False   \n",
              "Crossfox          Motor Diesel V8  1990        37123.0    False   \n",
              "DS5               Motor 2.4 Turbo  2019            NaN     True   \n",
              "Aston Martin DB4  Motor 2.4 Turbo  2006        25757.0    False   \n",
              "\n",
              "                                                         Acessórios      Valor  \n",
              "Nome                                                                            \n",
              "Jetta Variant     ['Rodas de liga', 'Travas elétricas', 'Piloto ...   88078.64  \n",
              "Passat            ['Central multimídia', 'Teto panorâmico', 'Fre...  106161.94  \n",
              "Crossfox          ['Piloto automático', 'Controle de estabilidad...   72832.16  \n",
              "DS5               ['Travas elétricas', '4 X 4', 'Vidros elétrico...  124549.07  \n",
              "Aston Martin DB4  ['Rodas de liga', '4 X 4', 'Central multimídia...   92612.10  "
            ]
          },
          "metadata": {
            "tags": []
          },
          "execution_count": 186
        }
      ]
    },
    {
      "cell_type": "code",
      "metadata": {
        "scrolled": true,
        "id": "rO5T4h94D1BX",
        "colab_type": "code",
        "colab": {}
      },
      "source": [
        "#consulta que traga todos os registros com um tipo específico de Motor - retorna uma series booleana\n",
        "select = dataset.Motor == 'Motor Diesel'"
      ],
      "execution_count": 190,
      "outputs": []
    },
    {
      "cell_type": "code",
      "metadata": {
        "id": "STZ-l8oaD1BX",
        "colab_type": "code",
        "colab": {
          "base_uri": "https://localhost:8080/",
          "height": 34
        },
        "outputId": "f1459db0-0650-4058-9999-a2ed6e4e6b1e"
      },
      "source": [
        "type(select)"
      ],
      "execution_count": 191,
      "outputs": [
        {
          "output_type": "execute_result",
          "data": {
            "text/plain": [
              "pandas.core.series.Series"
            ]
          },
          "metadata": {
            "tags": []
          },
          "execution_count": 191
        }
      ]
    },
    {
      "cell_type": "code",
      "metadata": {
        "id": "OZC8NAn6D1BX",
        "colab_type": "code",
        "colab": {
          "base_uri": "https://localhost:8080/",
          "height": 886
        },
        "outputId": "4564ffe6-b663-4019-ec50-4916b3c8c029"
      },
      "source": [
        "#usando a condição numa variável\n",
        "dataset[select]"
      ],
      "execution_count": 193,
      "outputs": [
        {
          "output_type": "execute_result",
          "data": {
            "text/html": [
              "<div>\n",
              "<style scoped>\n",
              "    .dataframe tbody tr th:only-of-type {\n",
              "        vertical-align: middle;\n",
              "    }\n",
              "\n",
              "    .dataframe tbody tr th {\n",
              "        vertical-align: top;\n",
              "    }\n",
              "\n",
              "    .dataframe thead th {\n",
              "        text-align: right;\n",
              "    }\n",
              "</style>\n",
              "<table border=\"1\" class=\"dataframe\">\n",
              "  <thead>\n",
              "    <tr style=\"text-align: right;\">\n",
              "      <th></th>\n",
              "      <th>Motor</th>\n",
              "      <th>Ano</th>\n",
              "      <th>Quilometragem</th>\n",
              "      <th>Zero_km</th>\n",
              "      <th>Acessórios</th>\n",
              "      <th>Valor</th>\n",
              "    </tr>\n",
              "    <tr>\n",
              "      <th>Nome</th>\n",
              "      <th></th>\n",
              "      <th></th>\n",
              "      <th></th>\n",
              "      <th></th>\n",
              "      <th></th>\n",
              "      <th></th>\n",
              "    </tr>\n",
              "  </thead>\n",
              "  <tbody>\n",
              "    <tr>\n",
              "      <th>Passat</th>\n",
              "      <td>Motor Diesel</td>\n",
              "      <td>1991</td>\n",
              "      <td>5712.0</td>\n",
              "      <td>False</td>\n",
              "      <td>['Central multimídia', 'Teto panorâmico', 'Fre...</td>\n",
              "      <td>106161.94</td>\n",
              "    </tr>\n",
              "    <tr>\n",
              "      <th>Effa Hafei Picape Baú</th>\n",
              "      <td>Motor Diesel</td>\n",
              "      <td>1991</td>\n",
              "      <td>102959.0</td>\n",
              "      <td>False</td>\n",
              "      <td>['Controle de estabilidade', 'Painel digital',...</td>\n",
              "      <td>125684.65</td>\n",
              "    </tr>\n",
              "    <tr>\n",
              "      <th>Sorento</th>\n",
              "      <td>Motor Diesel</td>\n",
              "      <td>2019</td>\n",
              "      <td>NaN</td>\n",
              "      <td>True</td>\n",
              "      <td>['Sensor de chuva', 'Câmera de estacionamento'...</td>\n",
              "      <td>81399.35</td>\n",
              "    </tr>\n",
              "    <tr>\n",
              "      <th>New Fiesta Hatch</th>\n",
              "      <td>Motor Diesel</td>\n",
              "      <td>2017</td>\n",
              "      <td>118895.0</td>\n",
              "      <td>False</td>\n",
              "      <td>['Sensor de estacionamento', 'Travas elétricas...</td>\n",
              "      <td>66007.16</td>\n",
              "    </tr>\n",
              "    <tr>\n",
              "      <th>Kangoo Express</th>\n",
              "      <td>Motor Diesel</td>\n",
              "      <td>2007</td>\n",
              "      <td>29132.0</td>\n",
              "      <td>False</td>\n",
              "      <td>['Bancos de couro', 'Câmbio automático', 'Pilo...</td>\n",
              "      <td>146716.91</td>\n",
              "    </tr>\n",
              "    <tr>\n",
              "      <th>Fit</th>\n",
              "      <td>Motor Diesel</td>\n",
              "      <td>2013</td>\n",
              "      <td>44329.0</td>\n",
              "      <td>False</td>\n",
              "      <td>['Freios ABS', 'Câmera de estacionamento', 'Câ...</td>\n",
              "      <td>77836.23</td>\n",
              "    </tr>\n",
              "    <tr>\n",
              "      <th>Cielo Hatch</th>\n",
              "      <td>Motor Diesel</td>\n",
              "      <td>2019</td>\n",
              "      <td>NaN</td>\n",
              "      <td>True</td>\n",
              "      <td>['Painel digital', 'Central multimídia', 'Câme...</td>\n",
              "      <td>145197.70</td>\n",
              "    </tr>\n",
              "    <tr>\n",
              "      <th>Symbol</th>\n",
              "      <td>Motor Diesel</td>\n",
              "      <td>2016</td>\n",
              "      <td>117714.0</td>\n",
              "      <td>False</td>\n",
              "      <td>['4 X 4', 'Piloto automático', 'Sensor crepusc...</td>\n",
              "      <td>133030.60</td>\n",
              "    </tr>\n",
              "    <tr>\n",
              "      <th>A4 Sedan</th>\n",
              "      <td>Motor Diesel</td>\n",
              "      <td>2002</td>\n",
              "      <td>30511.0</td>\n",
              "      <td>False</td>\n",
              "      <td>['Câmera de estacionamento', '4 X 4', 'Travas ...</td>\n",
              "      <td>96369.04</td>\n",
              "    </tr>\n",
              "    <tr>\n",
              "      <th>A4 Avant</th>\n",
              "      <td>Motor Diesel</td>\n",
              "      <td>2014</td>\n",
              "      <td>17357.0</td>\n",
              "      <td>False</td>\n",
              "      <td>['Teto panorâmico', '4 X 4', 'Bancos de couro'...</td>\n",
              "      <td>138946.88</td>\n",
              "    </tr>\n",
              "    <tr>\n",
              "      <th>Silver Shadow</th>\n",
              "      <td>Motor Diesel</td>\n",
              "      <td>2015</td>\n",
              "      <td>99052.0</td>\n",
              "      <td>False</td>\n",
              "      <td>['4 X 4', 'Central multimídia', 'Ar condiciona...</td>\n",
              "      <td>143568.22</td>\n",
              "    </tr>\n",
              "    <tr>\n",
              "      <th>Camry</th>\n",
              "      <td>Motor Diesel</td>\n",
              "      <td>2019</td>\n",
              "      <td>NaN</td>\n",
              "      <td>True</td>\n",
              "      <td>['Travas elétricas', 'Rodas de liga', 'Sensor ...</td>\n",
              "      <td>138597.27</td>\n",
              "    </tr>\n",
              "    <tr>\n",
              "      <th>Clio</th>\n",
              "      <td>Motor Diesel</td>\n",
              "      <td>1990</td>\n",
              "      <td>66437.0</td>\n",
              "      <td>False</td>\n",
              "      <td>['4 X 4', 'Câmbio automático', 'Freios ABS', '...</td>\n",
              "      <td>111130.33</td>\n",
              "    </tr>\n",
              "    <tr>\n",
              "      <th>Série 3 M3 Coupé</th>\n",
              "      <td>Motor Diesel</td>\n",
              "      <td>2013</td>\n",
              "      <td>19896.0</td>\n",
              "      <td>False</td>\n",
              "      <td>['Bancos de couro', 'Sensor de chuva', 'Ar con...</td>\n",
              "      <td>69219.89</td>\n",
              "    </tr>\n",
              "    <tr>\n",
              "      <th>Gallardo LP 560 – 4</th>\n",
              "      <td>Motor Diesel</td>\n",
              "      <td>2000</td>\n",
              "      <td>113045.0</td>\n",
              "      <td>False</td>\n",
              "      <td>['Freios ABS', 'Teto panorâmico', 'Central mul...</td>\n",
              "      <td>144118.91</td>\n",
              "    </tr>\n",
              "    <tr>\n",
              "      <th>Chana Utility</th>\n",
              "      <td>Motor Diesel</td>\n",
              "      <td>2009</td>\n",
              "      <td>52034.0</td>\n",
              "      <td>False</td>\n",
              "      <td>['Ar condicionado', 'Sensor de estacionamento'...</td>\n",
              "      <td>132662.32</td>\n",
              "    </tr>\n",
              "    <tr>\n",
              "      <th>TT Roadster</th>\n",
              "      <td>Motor Diesel</td>\n",
              "      <td>1998</td>\n",
              "      <td>107392.0</td>\n",
              "      <td>False</td>\n",
              "      <td>['Ar condicionado', 'Sensor de estacionamento'...</td>\n",
              "      <td>85311.40</td>\n",
              "    </tr>\n",
              "    <tr>\n",
              "      <th>Aston Martin Virage</th>\n",
              "      <td>Motor Diesel</td>\n",
              "      <td>2019</td>\n",
              "      <td>NaN</td>\n",
              "      <td>True</td>\n",
              "      <td>['Travas elétricas', 'Controle de tração', 'Câ...</td>\n",
              "      <td>97290.18</td>\n",
              "    </tr>\n",
              "    <tr>\n",
              "      <th>Sandero</th>\n",
              "      <td>Motor Diesel</td>\n",
              "      <td>2015</td>\n",
              "      <td>34783.0</td>\n",
              "      <td>False</td>\n",
              "      <td>['Piloto automático', 'Teto panorâmico', 'Câmb...</td>\n",
              "      <td>112350.61</td>\n",
              "    </tr>\n",
              "    <tr>\n",
              "      <th>XKR</th>\n",
              "      <td>Motor Diesel</td>\n",
              "      <td>1996</td>\n",
              "      <td>85127.0</td>\n",
              "      <td>False</td>\n",
              "      <td>['Controle de tração', 'Ar condicionado', 'Tra...</td>\n",
              "      <td>54263.16</td>\n",
              "    </tr>\n",
              "    <tr>\n",
              "      <th>X5</th>\n",
              "      <td>Motor Diesel</td>\n",
              "      <td>2002</td>\n",
              "      <td>13606.0</td>\n",
              "      <td>False</td>\n",
              "      <td>['Controle de tração', 'Piloto automático', 'T...</td>\n",
              "      <td>62041.32</td>\n",
              "    </tr>\n",
              "    <tr>\n",
              "      <th>Dodge Dakota</th>\n",
              "      <td>Motor Diesel</td>\n",
              "      <td>1993</td>\n",
              "      <td>71544.0</td>\n",
              "      <td>False</td>\n",
              "      <td>['Controle de tração', 'Sensor de estacionamen...</td>\n",
              "      <td>141083.35</td>\n",
              "    </tr>\n",
              "    <tr>\n",
              "      <th>i30 CW</th>\n",
              "      <td>Motor Diesel</td>\n",
              "      <td>2015</td>\n",
              "      <td>8497.0</td>\n",
              "      <td>False</td>\n",
              "      <td>['Sensor de chuva', 'Vidros elétricos', 'Contr...</td>\n",
              "      <td>73311.75</td>\n",
              "    </tr>\n",
              "    <tr>\n",
              "      <th>Série 7 Sedã</th>\n",
              "      <td>Motor Diesel</td>\n",
              "      <td>2019</td>\n",
              "      <td>NaN</td>\n",
              "      <td>True</td>\n",
              "      <td>['Vidros elétricos', 'Travas elétricas', 'Roda...</td>\n",
              "      <td>67539.79</td>\n",
              "    </tr>\n",
              "    <tr>\n",
              "      <th>V60</th>\n",
              "      <td>Motor Diesel</td>\n",
              "      <td>2004</td>\n",
              "      <td>91840.0</td>\n",
              "      <td>False</td>\n",
              "      <td>['Rodas de liga', 'Sensor crepuscular', 'Ar co...</td>\n",
              "      <td>114728.74</td>\n",
              "    </tr>\n",
              "    <tr>\n",
              "      <th>Aston Martin DB5</th>\n",
              "      <td>Motor Diesel</td>\n",
              "      <td>1996</td>\n",
              "      <td>7685.0</td>\n",
              "      <td>False</td>\n",
              "      <td>['Ar condicionado', '4 X 4', 'Câmbio automátic...</td>\n",
              "      <td>122110.90</td>\n",
              "    </tr>\n",
              "  </tbody>\n",
              "</table>\n",
              "</div>"
            ],
            "text/plain": [
              "                              Motor   Ano  Quilometragem  Zero_km  \\\n",
              "Nome                                                                \n",
              "Passat                 Motor Diesel  1991         5712.0    False   \n",
              "Effa Hafei Picape Baú  Motor Diesel  1991       102959.0    False   \n",
              "Sorento                Motor Diesel  2019            NaN     True   \n",
              "New Fiesta Hatch       Motor Diesel  2017       118895.0    False   \n",
              "Kangoo Express         Motor Diesel  2007        29132.0    False   \n",
              "Fit                    Motor Diesel  2013        44329.0    False   \n",
              "Cielo Hatch            Motor Diesel  2019            NaN     True   \n",
              "Symbol                 Motor Diesel  2016       117714.0    False   \n",
              "A4 Sedan               Motor Diesel  2002        30511.0    False   \n",
              "A4 Avant               Motor Diesel  2014        17357.0    False   \n",
              "Silver Shadow          Motor Diesel  2015        99052.0    False   \n",
              "Camry                  Motor Diesel  2019            NaN     True   \n",
              "Clio                   Motor Diesel  1990        66437.0    False   \n",
              "Série 3 M3 Coupé       Motor Diesel  2013        19896.0    False   \n",
              "Gallardo LP 560 – 4    Motor Diesel  2000       113045.0    False   \n",
              "Chana Utility          Motor Diesel  2009        52034.0    False   \n",
              "TT Roadster            Motor Diesel  1998       107392.0    False   \n",
              "Aston Martin Virage    Motor Diesel  2019            NaN     True   \n",
              "Sandero                Motor Diesel  2015        34783.0    False   \n",
              "XKR                    Motor Diesel  1996        85127.0    False   \n",
              "X5                     Motor Diesel  2002        13606.0    False   \n",
              "Dodge Dakota           Motor Diesel  1993        71544.0    False   \n",
              "i30 CW                 Motor Diesel  2015         8497.0    False   \n",
              "Série 7 Sedã           Motor Diesel  2019            NaN     True   \n",
              "V60                    Motor Diesel  2004        91840.0    False   \n",
              "Aston Martin DB5       Motor Diesel  1996         7685.0    False   \n",
              "\n",
              "                                                              Acessórios  \\\n",
              "Nome                                                                       \n",
              "Passat                 ['Central multimídia', 'Teto panorâmico', 'Fre...   \n",
              "Effa Hafei Picape Baú  ['Controle de estabilidade', 'Painel digital',...   \n",
              "Sorento                ['Sensor de chuva', 'Câmera de estacionamento'...   \n",
              "New Fiesta Hatch       ['Sensor de estacionamento', 'Travas elétricas...   \n",
              "Kangoo Express         ['Bancos de couro', 'Câmbio automático', 'Pilo...   \n",
              "Fit                    ['Freios ABS', 'Câmera de estacionamento', 'Câ...   \n",
              "Cielo Hatch            ['Painel digital', 'Central multimídia', 'Câme...   \n",
              "Symbol                 ['4 X 4', 'Piloto automático', 'Sensor crepusc...   \n",
              "A4 Sedan               ['Câmera de estacionamento', '4 X 4', 'Travas ...   \n",
              "A4 Avant               ['Teto panorâmico', '4 X 4', 'Bancos de couro'...   \n",
              "Silver Shadow          ['4 X 4', 'Central multimídia', 'Ar condiciona...   \n",
              "Camry                  ['Travas elétricas', 'Rodas de liga', 'Sensor ...   \n",
              "Clio                   ['4 X 4', 'Câmbio automático', 'Freios ABS', '...   \n",
              "Série 3 M3 Coupé       ['Bancos de couro', 'Sensor de chuva', 'Ar con...   \n",
              "Gallardo LP 560 – 4    ['Freios ABS', 'Teto panorâmico', 'Central mul...   \n",
              "Chana Utility          ['Ar condicionado', 'Sensor de estacionamento'...   \n",
              "TT Roadster            ['Ar condicionado', 'Sensor de estacionamento'...   \n",
              "Aston Martin Virage    ['Travas elétricas', 'Controle de tração', 'Câ...   \n",
              "Sandero                ['Piloto automático', 'Teto panorâmico', 'Câmb...   \n",
              "XKR                    ['Controle de tração', 'Ar condicionado', 'Tra...   \n",
              "X5                     ['Controle de tração', 'Piloto automático', 'T...   \n",
              "Dodge Dakota           ['Controle de tração', 'Sensor de estacionamen...   \n",
              "i30 CW                 ['Sensor de chuva', 'Vidros elétricos', 'Contr...   \n",
              "Série 7 Sedã           ['Vidros elétricos', 'Travas elétricas', 'Roda...   \n",
              "V60                    ['Rodas de liga', 'Sensor crepuscular', 'Ar co...   \n",
              "Aston Martin DB5       ['Ar condicionado', '4 X 4', 'Câmbio automátic...   \n",
              "\n",
              "                           Valor  \n",
              "Nome                              \n",
              "Passat                 106161.94  \n",
              "Effa Hafei Picape Baú  125684.65  \n",
              "Sorento                 81399.35  \n",
              "New Fiesta Hatch        66007.16  \n",
              "Kangoo Express         146716.91  \n",
              "Fit                     77836.23  \n",
              "Cielo Hatch            145197.70  \n",
              "Symbol                 133030.60  \n",
              "A4 Sedan                96369.04  \n",
              "A4 Avant               138946.88  \n",
              "Silver Shadow          143568.22  \n",
              "Camry                  138597.27  \n",
              "Clio                   111130.33  \n",
              "Série 3 M3 Coupé        69219.89  \n",
              "Gallardo LP 560 – 4    144118.91  \n",
              "Chana Utility          132662.32  \n",
              "TT Roadster             85311.40  \n",
              "Aston Martin Virage     97290.18  \n",
              "Sandero                112350.61  \n",
              "XKR                     54263.16  \n",
              "X5                      62041.32  \n",
              "Dodge Dakota           141083.35  \n",
              "i30 CW                  73311.75  \n",
              "Série 7 Sedã            67539.79  \n",
              "V60                    114728.74  \n",
              "Aston Martin DB5       122110.90  "
            ]
          },
          "metadata": {
            "tags": []
          },
          "execution_count": 193
        }
      ]
    },
    {
      "cell_type": "code",
      "metadata": {
        "scrolled": true,
        "id": "OzXC2M40D1BY",
        "colab_type": "code",
        "colab": {
          "base_uri": "https://localhost:8080/",
          "height": 235
        },
        "outputId": "e6d821ac-3178-4247-b084-e8b165326957"
      },
      "source": [
        "#o & comercial funciona como o and. Podemos fazer várias queries da mesma maneira. As queries retornam series booleanas\n",
        "#o | indicaria o or\n",
        "dataset[(dataset.Motor == 'Motor Diesel') & (dataset.Zero_km == True)]"
      ],
      "execution_count": 194,
      "outputs": [
        {
          "output_type": "execute_result",
          "data": {
            "text/html": [
              "<div>\n",
              "<style scoped>\n",
              "    .dataframe tbody tr th:only-of-type {\n",
              "        vertical-align: middle;\n",
              "    }\n",
              "\n",
              "    .dataframe tbody tr th {\n",
              "        vertical-align: top;\n",
              "    }\n",
              "\n",
              "    .dataframe thead th {\n",
              "        text-align: right;\n",
              "    }\n",
              "</style>\n",
              "<table border=\"1\" class=\"dataframe\">\n",
              "  <thead>\n",
              "    <tr style=\"text-align: right;\">\n",
              "      <th></th>\n",
              "      <th>Motor</th>\n",
              "      <th>Ano</th>\n",
              "      <th>Quilometragem</th>\n",
              "      <th>Zero_km</th>\n",
              "      <th>Acessórios</th>\n",
              "      <th>Valor</th>\n",
              "    </tr>\n",
              "    <tr>\n",
              "      <th>Nome</th>\n",
              "      <th></th>\n",
              "      <th></th>\n",
              "      <th></th>\n",
              "      <th></th>\n",
              "      <th></th>\n",
              "      <th></th>\n",
              "    </tr>\n",
              "  </thead>\n",
              "  <tbody>\n",
              "    <tr>\n",
              "      <th>Sorento</th>\n",
              "      <td>Motor Diesel</td>\n",
              "      <td>2019</td>\n",
              "      <td>NaN</td>\n",
              "      <td>True</td>\n",
              "      <td>['Sensor de chuva', 'Câmera de estacionamento'...</td>\n",
              "      <td>81399.35</td>\n",
              "    </tr>\n",
              "    <tr>\n",
              "      <th>Cielo Hatch</th>\n",
              "      <td>Motor Diesel</td>\n",
              "      <td>2019</td>\n",
              "      <td>NaN</td>\n",
              "      <td>True</td>\n",
              "      <td>['Painel digital', 'Central multimídia', 'Câme...</td>\n",
              "      <td>145197.70</td>\n",
              "    </tr>\n",
              "    <tr>\n",
              "      <th>Camry</th>\n",
              "      <td>Motor Diesel</td>\n",
              "      <td>2019</td>\n",
              "      <td>NaN</td>\n",
              "      <td>True</td>\n",
              "      <td>['Travas elétricas', 'Rodas de liga', 'Sensor ...</td>\n",
              "      <td>138597.27</td>\n",
              "    </tr>\n",
              "    <tr>\n",
              "      <th>Aston Martin Virage</th>\n",
              "      <td>Motor Diesel</td>\n",
              "      <td>2019</td>\n",
              "      <td>NaN</td>\n",
              "      <td>True</td>\n",
              "      <td>['Travas elétricas', 'Controle de tração', 'Câ...</td>\n",
              "      <td>97290.18</td>\n",
              "    </tr>\n",
              "    <tr>\n",
              "      <th>Série 7 Sedã</th>\n",
              "      <td>Motor Diesel</td>\n",
              "      <td>2019</td>\n",
              "      <td>NaN</td>\n",
              "      <td>True</td>\n",
              "      <td>['Vidros elétricos', 'Travas elétricas', 'Roda...</td>\n",
              "      <td>67539.79</td>\n",
              "    </tr>\n",
              "  </tbody>\n",
              "</table>\n",
              "</div>"
            ],
            "text/plain": [
              "                            Motor   Ano  Quilometragem  Zero_km  \\\n",
              "Nome                                                              \n",
              "Sorento              Motor Diesel  2019            NaN     True   \n",
              "Cielo Hatch          Motor Diesel  2019            NaN     True   \n",
              "Camry                Motor Diesel  2019            NaN     True   \n",
              "Aston Martin Virage  Motor Diesel  2019            NaN     True   \n",
              "Série 7 Sedã         Motor Diesel  2019            NaN     True   \n",
              "\n",
              "                                                            Acessórios  \\\n",
              "Nome                                                                     \n",
              "Sorento              ['Sensor de chuva', 'Câmera de estacionamento'...   \n",
              "Cielo Hatch          ['Painel digital', 'Central multimídia', 'Câme...   \n",
              "Camry                ['Travas elétricas', 'Rodas de liga', 'Sensor ...   \n",
              "Aston Martin Virage  ['Travas elétricas', 'Controle de tração', 'Câ...   \n",
              "Série 7 Sedã         ['Vidros elétricos', 'Travas elétricas', 'Roda...   \n",
              "\n",
              "                         Valor  \n",
              "Nome                            \n",
              "Sorento               81399.35  \n",
              "Cielo Hatch          145197.70  \n",
              "Camry                138597.27  \n",
              "Aston Martin Virage   97290.18  \n",
              "Série 7 Sedã          67539.79  "
            ]
          },
          "metadata": {
            "tags": []
          },
          "execution_count": 194
        }
      ]
    },
    {
      "cell_type": "markdown",
      "metadata": {
        "id": "_XKXcWO-D1BY",
        "colab_type": "text"
      },
      "source": [
        "### Utilizando o método query"
      ]
    },
    {
      "cell_type": "markdown",
      "metadata": {
        "id": "PsnHfI5c2TAQ",
        "colab_type": "text"
      },
      "source": [
        "O método query() aceita as duas formas de utilização dos operadores lógicos. No caso do operador lógico OU, temos o or e o caractere |. Para o operador lógico E, temos o and e o caractere &."
      ]
    },
    {
      "cell_type": "code",
      "metadata": {
        "id": "AB9JirSoD1BY",
        "colab_type": "code",
        "colab": {
          "base_uri": "https://localhost:8080/",
          "height": 235
        },
        "outputId": "d47d7b34-8310-41dc-8f17-2c758e2929a0"
      },
      "source": [
        "dataset.query('Motor == \"Motor Diesel\" and Zero_km == True')"
      ],
      "execution_count": 196,
      "outputs": [
        {
          "output_type": "execute_result",
          "data": {
            "text/html": [
              "<div>\n",
              "<style scoped>\n",
              "    .dataframe tbody tr th:only-of-type {\n",
              "        vertical-align: middle;\n",
              "    }\n",
              "\n",
              "    .dataframe tbody tr th {\n",
              "        vertical-align: top;\n",
              "    }\n",
              "\n",
              "    .dataframe thead th {\n",
              "        text-align: right;\n",
              "    }\n",
              "</style>\n",
              "<table border=\"1\" class=\"dataframe\">\n",
              "  <thead>\n",
              "    <tr style=\"text-align: right;\">\n",
              "      <th></th>\n",
              "      <th>Motor</th>\n",
              "      <th>Ano</th>\n",
              "      <th>Quilometragem</th>\n",
              "      <th>Zero_km</th>\n",
              "      <th>Acessórios</th>\n",
              "      <th>Valor</th>\n",
              "    </tr>\n",
              "    <tr>\n",
              "      <th>Nome</th>\n",
              "      <th></th>\n",
              "      <th></th>\n",
              "      <th></th>\n",
              "      <th></th>\n",
              "      <th></th>\n",
              "      <th></th>\n",
              "    </tr>\n",
              "  </thead>\n",
              "  <tbody>\n",
              "    <tr>\n",
              "      <th>Sorento</th>\n",
              "      <td>Motor Diesel</td>\n",
              "      <td>2019</td>\n",
              "      <td>NaN</td>\n",
              "      <td>True</td>\n",
              "      <td>['Sensor de chuva', 'Câmera de estacionamento'...</td>\n",
              "      <td>81399.35</td>\n",
              "    </tr>\n",
              "    <tr>\n",
              "      <th>Cielo Hatch</th>\n",
              "      <td>Motor Diesel</td>\n",
              "      <td>2019</td>\n",
              "      <td>NaN</td>\n",
              "      <td>True</td>\n",
              "      <td>['Painel digital', 'Central multimídia', 'Câme...</td>\n",
              "      <td>145197.70</td>\n",
              "    </tr>\n",
              "    <tr>\n",
              "      <th>Camry</th>\n",
              "      <td>Motor Diesel</td>\n",
              "      <td>2019</td>\n",
              "      <td>NaN</td>\n",
              "      <td>True</td>\n",
              "      <td>['Travas elétricas', 'Rodas de liga', 'Sensor ...</td>\n",
              "      <td>138597.27</td>\n",
              "    </tr>\n",
              "    <tr>\n",
              "      <th>Aston Martin Virage</th>\n",
              "      <td>Motor Diesel</td>\n",
              "      <td>2019</td>\n",
              "      <td>NaN</td>\n",
              "      <td>True</td>\n",
              "      <td>['Travas elétricas', 'Controle de tração', 'Câ...</td>\n",
              "      <td>97290.18</td>\n",
              "    </tr>\n",
              "    <tr>\n",
              "      <th>Série 7 Sedã</th>\n",
              "      <td>Motor Diesel</td>\n",
              "      <td>2019</td>\n",
              "      <td>NaN</td>\n",
              "      <td>True</td>\n",
              "      <td>['Vidros elétricos', 'Travas elétricas', 'Roda...</td>\n",
              "      <td>67539.79</td>\n",
              "    </tr>\n",
              "  </tbody>\n",
              "</table>\n",
              "</div>"
            ],
            "text/plain": [
              "                            Motor   Ano  Quilometragem  Zero_km  \\\n",
              "Nome                                                              \n",
              "Sorento              Motor Diesel  2019            NaN     True   \n",
              "Cielo Hatch          Motor Diesel  2019            NaN     True   \n",
              "Camry                Motor Diesel  2019            NaN     True   \n",
              "Aston Martin Virage  Motor Diesel  2019            NaN     True   \n",
              "Série 7 Sedã         Motor Diesel  2019            NaN     True   \n",
              "\n",
              "                                                            Acessórios  \\\n",
              "Nome                                                                     \n",
              "Sorento              ['Sensor de chuva', 'Câmera de estacionamento'...   \n",
              "Cielo Hatch          ['Painel digital', 'Central multimídia', 'Câme...   \n",
              "Camry                ['Travas elétricas', 'Rodas de liga', 'Sensor ...   \n",
              "Aston Martin Virage  ['Travas elétricas', 'Controle de tração', 'Câ...   \n",
              "Série 7 Sedã         ['Vidros elétricos', 'Travas elétricas', 'Roda...   \n",
              "\n",
              "                         Valor  \n",
              "Nome                            \n",
              "Sorento               81399.35  \n",
              "Cielo Hatch          145197.70  \n",
              "Camry                138597.27  \n",
              "Aston Martin Virage   97290.18  \n",
              "Série 7 Sedã          67539.79  "
            ]
          },
          "metadata": {
            "tags": []
          },
          "execution_count": 196
        }
      ]
    },
    {
      "cell_type": "markdown",
      "metadata": {
        "id": "br90i31c01Rd",
        "colab_type": "text"
      },
      "source": [
        "**Exercício**"
      ]
    },
    {
      "cell_type": "markdown",
      "metadata": {
        "id": "nth-Ijhb04Nf",
        "colab_type": "text"
      },
      "source": [
        "Queremos retornar o DataFrame abaixo:\n",
        "\n",
        "Out [1]:\n",
        "\n",
        "||Motor\t|Ano|\tQuilometragem|\tZero_km|\tValor|\n",
        "|---|---|---|---|---|---|\n",
        "|Jetta|\tMotor 4.0 Turbo|\t2019|\t0.0|\tTrue|\t88000.0|\n",
        "|Passat|\tMotor Diesel|\t2003|\t5712.0|\tFalse|\t106000.0|\n",
        "|DS5|\tMotor Diesel|\t2019|\t0.0\t|True|\t89000.0|\n"
      ]
    },
    {
      "cell_type": "code",
      "metadata": {
        "id": "92nXCzyI1aep",
        "colab_type": "code",
        "colab": {}
      },
      "source": [
        "dados = {\n",
        "    'Motor': ['Motor 4.0 Turbo', 'Motor Diesel', 'Motor Diesel V8', 'Motor Diesel', 'Motor 1.6'],\n",
        "    'Ano': [2019, 2003, 1991, 2019, 1990],\n",
        "    'Quilometragem': [0.0, 5712.0, 37123.0, 0.0, 120000.0],\n",
        "    'Zero_km': [True, False, False, True, False],\n",
        "    'Valor': [88000.0, 106000.0, 72000.0, 89000.0, 32000.0]\n",
        "}\n",
        "\n",
        "dados = pd.DataFrame(dados, index = ['Jetta', 'Passat', 'Crossfox', 'DS5', 'Fusca'])"
      ],
      "execution_count": 197,
      "outputs": []
    },
    {
      "cell_type": "code",
      "metadata": {
        "id": "MYJCaVIe1ame",
        "colab_type": "code",
        "colab": {
          "base_uri": "https://localhost:8080/",
          "height": 142
        },
        "outputId": "39d29ebf-d493-4364-b846-c8810aa7a266"
      },
      "source": [
        "dados.query('Motor == \"Motor 4.0 Turbo\" or Motor == \"Motor Diesel\"')"
      ],
      "execution_count": 198,
      "outputs": [
        {
          "output_type": "execute_result",
          "data": {
            "text/html": [
              "<div>\n",
              "<style scoped>\n",
              "    .dataframe tbody tr th:only-of-type {\n",
              "        vertical-align: middle;\n",
              "    }\n",
              "\n",
              "    .dataframe tbody tr th {\n",
              "        vertical-align: top;\n",
              "    }\n",
              "\n",
              "    .dataframe thead th {\n",
              "        text-align: right;\n",
              "    }\n",
              "</style>\n",
              "<table border=\"1\" class=\"dataframe\">\n",
              "  <thead>\n",
              "    <tr style=\"text-align: right;\">\n",
              "      <th></th>\n",
              "      <th>Motor</th>\n",
              "      <th>Ano</th>\n",
              "      <th>Quilometragem</th>\n",
              "      <th>Zero_km</th>\n",
              "      <th>Valor</th>\n",
              "    </tr>\n",
              "  </thead>\n",
              "  <tbody>\n",
              "    <tr>\n",
              "      <th>Jetta</th>\n",
              "      <td>Motor 4.0 Turbo</td>\n",
              "      <td>2019</td>\n",
              "      <td>0.0</td>\n",
              "      <td>True</td>\n",
              "      <td>88000.0</td>\n",
              "    </tr>\n",
              "    <tr>\n",
              "      <th>Passat</th>\n",
              "      <td>Motor Diesel</td>\n",
              "      <td>2003</td>\n",
              "      <td>5712.0</td>\n",
              "      <td>False</td>\n",
              "      <td>106000.0</td>\n",
              "    </tr>\n",
              "    <tr>\n",
              "      <th>DS5</th>\n",
              "      <td>Motor Diesel</td>\n",
              "      <td>2019</td>\n",
              "      <td>0.0</td>\n",
              "      <td>True</td>\n",
              "      <td>89000.0</td>\n",
              "    </tr>\n",
              "  </tbody>\n",
              "</table>\n",
              "</div>"
            ],
            "text/plain": [
              "                  Motor   Ano  Quilometragem  Zero_km     Valor\n",
              "Jetta   Motor 4.0 Turbo  2019            0.0     True   88000.0\n",
              "Passat     Motor Diesel  2003         5712.0    False  106000.0\n",
              "DS5        Motor Diesel  2019            0.0     True   89000.0"
            ]
          },
          "metadata": {
            "tags": []
          },
          "execution_count": 198
        }
      ]
    },
    {
      "cell_type": "code",
      "metadata": {
        "id": "K9Hz4KFy1a1t",
        "colab_type": "code",
        "colab": {
          "base_uri": "https://localhost:8080/",
          "height": 142
        },
        "outputId": "ee26b184-6148-4b4a-d7cc-c94dc79ca37f"
      },
      "source": [
        "dados.query('Motor == \"Motor Diesel\" or Zero_km == True')"
      ],
      "execution_count": 200,
      "outputs": [
        {
          "output_type": "execute_result",
          "data": {
            "text/html": [
              "<div>\n",
              "<style scoped>\n",
              "    .dataframe tbody tr th:only-of-type {\n",
              "        vertical-align: middle;\n",
              "    }\n",
              "\n",
              "    .dataframe tbody tr th {\n",
              "        vertical-align: top;\n",
              "    }\n",
              "\n",
              "    .dataframe thead th {\n",
              "        text-align: right;\n",
              "    }\n",
              "</style>\n",
              "<table border=\"1\" class=\"dataframe\">\n",
              "  <thead>\n",
              "    <tr style=\"text-align: right;\">\n",
              "      <th></th>\n",
              "      <th>Motor</th>\n",
              "      <th>Ano</th>\n",
              "      <th>Quilometragem</th>\n",
              "      <th>Zero_km</th>\n",
              "      <th>Valor</th>\n",
              "    </tr>\n",
              "  </thead>\n",
              "  <tbody>\n",
              "    <tr>\n",
              "      <th>Jetta</th>\n",
              "      <td>Motor 4.0 Turbo</td>\n",
              "      <td>2019</td>\n",
              "      <td>0.0</td>\n",
              "      <td>True</td>\n",
              "      <td>88000.0</td>\n",
              "    </tr>\n",
              "    <tr>\n",
              "      <th>Passat</th>\n",
              "      <td>Motor Diesel</td>\n",
              "      <td>2003</td>\n",
              "      <td>5712.0</td>\n",
              "      <td>False</td>\n",
              "      <td>106000.0</td>\n",
              "    </tr>\n",
              "    <tr>\n",
              "      <th>DS5</th>\n",
              "      <td>Motor Diesel</td>\n",
              "      <td>2019</td>\n",
              "      <td>0.0</td>\n",
              "      <td>True</td>\n",
              "      <td>89000.0</td>\n",
              "    </tr>\n",
              "  </tbody>\n",
              "</table>\n",
              "</div>"
            ],
            "text/plain": [
              "                  Motor   Ano  Quilometragem  Zero_km     Valor\n",
              "Jetta   Motor 4.0 Turbo  2019            0.0     True   88000.0\n",
              "Passat     Motor Diesel  2003         5712.0    False  106000.0\n",
              "DS5        Motor Diesel  2019            0.0     True   89000.0"
            ]
          },
          "metadata": {
            "tags": []
          },
          "execution_count": 200
        }
      ]
    },
    {
      "cell_type": "markdown",
      "metadata": {
        "id": "ciJ4dw_FD1BZ",
        "colab_type": "text"
      },
      "source": [
        "# 5.4 Iterando com DataFrames"
      ]
    },
    {
      "cell_type": "code",
      "metadata": {
        "id": "TKAB-g5KD1BZ",
        "colab_type": "code",
        "colab": {
          "base_uri": "https://localhost:8080/",
          "height": 119
        },
        "outputId": "0f149de5-91dd-42b8-ddbc-1b3845dfa49e"
      },
      "source": [
        "for item in dataset:\n",
        "  print(item)"
      ],
      "execution_count": 201,
      "outputs": [
        {
          "output_type": "stream",
          "text": [
            "Motor\n",
            "Ano\n",
            "Quilometragem\n",
            "Zero_km\n",
            "Acessórios\n",
            "Valor\n"
          ],
          "name": "stdout"
        }
      ]
    },
    {
      "cell_type": "code",
      "metadata": {
        "id": "eFTNtPRWD1Ba",
        "colab_type": "code",
        "colab": {
          "base_uri": "https://localhost:8080/",
          "height": 235
        },
        "outputId": "4a4c177f-a1ba-4adf-d1f1-9e7a05487a40"
      },
      "source": [
        "#método iterrows (itera linhas)\n",
        "#funciona como um zip\n",
        "#usando o método para incluir uma coluna com a quilometragem média\n",
        "for index, row in dataset.iterrows():\n",
        "  if(2019 - row['Ano'] != 0):\n",
        "    dataset.loc[index, 'Km_media'] = row['Quilometragem']/ (2019 - row['Ano']) #criando a coluna durante o FOR\n",
        "  else:\n",
        "    dataset.loc[index, 'Km_media'] = 0\n",
        "dataset.head()\n"
      ],
      "execution_count": 204,
      "outputs": [
        {
          "output_type": "execute_result",
          "data": {
            "text/html": [
              "<div>\n",
              "<style scoped>\n",
              "    .dataframe tbody tr th:only-of-type {\n",
              "        vertical-align: middle;\n",
              "    }\n",
              "\n",
              "    .dataframe tbody tr th {\n",
              "        vertical-align: top;\n",
              "    }\n",
              "\n",
              "    .dataframe thead th {\n",
              "        text-align: right;\n",
              "    }\n",
              "</style>\n",
              "<table border=\"1\" class=\"dataframe\">\n",
              "  <thead>\n",
              "    <tr style=\"text-align: right;\">\n",
              "      <th></th>\n",
              "      <th>Motor</th>\n",
              "      <th>Ano</th>\n",
              "      <th>Quilometragem</th>\n",
              "      <th>Zero_km</th>\n",
              "      <th>Acessórios</th>\n",
              "      <th>Valor</th>\n",
              "      <th>Km_media</th>\n",
              "    </tr>\n",
              "    <tr>\n",
              "      <th>Nome</th>\n",
              "      <th></th>\n",
              "      <th></th>\n",
              "      <th></th>\n",
              "      <th></th>\n",
              "      <th></th>\n",
              "      <th></th>\n",
              "      <th></th>\n",
              "    </tr>\n",
              "  </thead>\n",
              "  <tbody>\n",
              "    <tr>\n",
              "      <th>Jetta Variant</th>\n",
              "      <td>Motor 4.0 Turbo</td>\n",
              "      <td>2003</td>\n",
              "      <td>44410.0</td>\n",
              "      <td>False</td>\n",
              "      <td>['Rodas de liga', 'Travas elétricas', 'Piloto ...</td>\n",
              "      <td>88078.64</td>\n",
              "      <td>2775.625000</td>\n",
              "    </tr>\n",
              "    <tr>\n",
              "      <th>Passat</th>\n",
              "      <td>Motor Diesel</td>\n",
              "      <td>1991</td>\n",
              "      <td>5712.0</td>\n",
              "      <td>False</td>\n",
              "      <td>['Central multimídia', 'Teto panorâmico', 'Fre...</td>\n",
              "      <td>106161.94</td>\n",
              "      <td>204.000000</td>\n",
              "    </tr>\n",
              "    <tr>\n",
              "      <th>Crossfox</th>\n",
              "      <td>Motor Diesel V8</td>\n",
              "      <td>1990</td>\n",
              "      <td>37123.0</td>\n",
              "      <td>False</td>\n",
              "      <td>['Piloto automático', 'Controle de estabilidad...</td>\n",
              "      <td>72832.16</td>\n",
              "      <td>1280.103448</td>\n",
              "    </tr>\n",
              "    <tr>\n",
              "      <th>DS5</th>\n",
              "      <td>Motor 2.4 Turbo</td>\n",
              "      <td>2019</td>\n",
              "      <td>NaN</td>\n",
              "      <td>True</td>\n",
              "      <td>['Travas elétricas', '4 X 4', 'Vidros elétrico...</td>\n",
              "      <td>124549.07</td>\n",
              "      <td>0.000000</td>\n",
              "    </tr>\n",
              "    <tr>\n",
              "      <th>Aston Martin DB4</th>\n",
              "      <td>Motor 2.4 Turbo</td>\n",
              "      <td>2006</td>\n",
              "      <td>25757.0</td>\n",
              "      <td>False</td>\n",
              "      <td>['Rodas de liga', '4 X 4', 'Central multimídia...</td>\n",
              "      <td>92612.10</td>\n",
              "      <td>1981.307692</td>\n",
              "    </tr>\n",
              "  </tbody>\n",
              "</table>\n",
              "</div>"
            ],
            "text/plain": [
              "                            Motor   Ano  Quilometragem  Zero_km  \\\n",
              "Nome                                                              \n",
              "Jetta Variant     Motor 4.0 Turbo  2003        44410.0    False   \n",
              "Passat               Motor Diesel  1991         5712.0    False   \n",
              "Crossfox          Motor Diesel V8  1990        37123.0    False   \n",
              "DS5               Motor 2.4 Turbo  2019            NaN     True   \n",
              "Aston Martin DB4  Motor 2.4 Turbo  2006        25757.0    False   \n",
              "\n",
              "                                                         Acessórios  \\\n",
              "Nome                                                                  \n",
              "Jetta Variant     ['Rodas de liga', 'Travas elétricas', 'Piloto ...   \n",
              "Passat            ['Central multimídia', 'Teto panorâmico', 'Fre...   \n",
              "Crossfox          ['Piloto automático', 'Controle de estabilidad...   \n",
              "DS5               ['Travas elétricas', '4 X 4', 'Vidros elétrico...   \n",
              "Aston Martin DB4  ['Rodas de liga', '4 X 4', 'Central multimídia...   \n",
              "\n",
              "                      Valor     Km_media  \n",
              "Nome                                      \n",
              "Jetta Variant      88078.64  2775.625000  \n",
              "Passat            106161.94   204.000000  \n",
              "Crossfox           72832.16  1280.103448  \n",
              "DS5               124549.07     0.000000  \n",
              "Aston Martin DB4   92612.10  1981.307692  "
            ]
          },
          "metadata": {
            "tags": []
          },
          "execution_count": 204
        }
      ]
    },
    {
      "cell_type": "markdown",
      "metadata": {
        "id": "gdjFR1I24uTO",
        "colab_type": "text"
      },
      "source": [
        "###  Há também os métodos **items ()** que Itera pelas colunas do DataFrame, utilizando uma tupla, onde o primeiro item é o nome da coluna e o segundo é uma Series, com todo o conteúdo da coluna e o método **itertuples()** que itera pelas linhas do DataFrame, utilizando um tipo de tupla nomeada com o conteúdo de cada linha do DataFrame. \n"
      ]
    },
    {
      "cell_type": "markdown",
      "metadata": {
        "id": "HnUzHFQPD1Ba",
        "colab_type": "text"
      },
      "source": [
        "# 5.5 Tratamento de dados"
      ]
    },
    {
      "cell_type": "code",
      "metadata": {
        "id": "FRxBWoBGD1Ba",
        "colab_type": "code",
        "colab": {
          "base_uri": "https://localhost:8080/",
          "height": 235
        },
        "outputId": "590b1e31-7f4f-4e0e-984c-9f3bd3b2fe48"
      },
      "source": [
        "dataset.head()"
      ],
      "execution_count": 205,
      "outputs": [
        {
          "output_type": "execute_result",
          "data": {
            "text/html": [
              "<div>\n",
              "<style scoped>\n",
              "    .dataframe tbody tr th:only-of-type {\n",
              "        vertical-align: middle;\n",
              "    }\n",
              "\n",
              "    .dataframe tbody tr th {\n",
              "        vertical-align: top;\n",
              "    }\n",
              "\n",
              "    .dataframe thead th {\n",
              "        text-align: right;\n",
              "    }\n",
              "</style>\n",
              "<table border=\"1\" class=\"dataframe\">\n",
              "  <thead>\n",
              "    <tr style=\"text-align: right;\">\n",
              "      <th></th>\n",
              "      <th>Motor</th>\n",
              "      <th>Ano</th>\n",
              "      <th>Quilometragem</th>\n",
              "      <th>Zero_km</th>\n",
              "      <th>Acessórios</th>\n",
              "      <th>Valor</th>\n",
              "      <th>Km_media</th>\n",
              "    </tr>\n",
              "    <tr>\n",
              "      <th>Nome</th>\n",
              "      <th></th>\n",
              "      <th></th>\n",
              "      <th></th>\n",
              "      <th></th>\n",
              "      <th></th>\n",
              "      <th></th>\n",
              "      <th></th>\n",
              "    </tr>\n",
              "  </thead>\n",
              "  <tbody>\n",
              "    <tr>\n",
              "      <th>Jetta Variant</th>\n",
              "      <td>Motor 4.0 Turbo</td>\n",
              "      <td>2003</td>\n",
              "      <td>44410.0</td>\n",
              "      <td>False</td>\n",
              "      <td>['Rodas de liga', 'Travas elétricas', 'Piloto ...</td>\n",
              "      <td>88078.64</td>\n",
              "      <td>2775.625000</td>\n",
              "    </tr>\n",
              "    <tr>\n",
              "      <th>Passat</th>\n",
              "      <td>Motor Diesel</td>\n",
              "      <td>1991</td>\n",
              "      <td>5712.0</td>\n",
              "      <td>False</td>\n",
              "      <td>['Central multimídia', 'Teto panorâmico', 'Fre...</td>\n",
              "      <td>106161.94</td>\n",
              "      <td>204.000000</td>\n",
              "    </tr>\n",
              "    <tr>\n",
              "      <th>Crossfox</th>\n",
              "      <td>Motor Diesel V8</td>\n",
              "      <td>1990</td>\n",
              "      <td>37123.0</td>\n",
              "      <td>False</td>\n",
              "      <td>['Piloto automático', 'Controle de estabilidad...</td>\n",
              "      <td>72832.16</td>\n",
              "      <td>1280.103448</td>\n",
              "    </tr>\n",
              "    <tr>\n",
              "      <th>DS5</th>\n",
              "      <td>Motor 2.4 Turbo</td>\n",
              "      <td>2019</td>\n",
              "      <td>NaN</td>\n",
              "      <td>True</td>\n",
              "      <td>['Travas elétricas', '4 X 4', 'Vidros elétrico...</td>\n",
              "      <td>124549.07</td>\n",
              "      <td>0.000000</td>\n",
              "    </tr>\n",
              "    <tr>\n",
              "      <th>Aston Martin DB4</th>\n",
              "      <td>Motor 2.4 Turbo</td>\n",
              "      <td>2006</td>\n",
              "      <td>25757.0</td>\n",
              "      <td>False</td>\n",
              "      <td>['Rodas de liga', '4 X 4', 'Central multimídia...</td>\n",
              "      <td>92612.10</td>\n",
              "      <td>1981.307692</td>\n",
              "    </tr>\n",
              "  </tbody>\n",
              "</table>\n",
              "</div>"
            ],
            "text/plain": [
              "                            Motor   Ano  Quilometragem  Zero_km  \\\n",
              "Nome                                                              \n",
              "Jetta Variant     Motor 4.0 Turbo  2003        44410.0    False   \n",
              "Passat               Motor Diesel  1991         5712.0    False   \n",
              "Crossfox          Motor Diesel V8  1990        37123.0    False   \n",
              "DS5               Motor 2.4 Turbo  2019            NaN     True   \n",
              "Aston Martin DB4  Motor 2.4 Turbo  2006        25757.0    False   \n",
              "\n",
              "                                                         Acessórios  \\\n",
              "Nome                                                                  \n",
              "Jetta Variant     ['Rodas de liga', 'Travas elétricas', 'Piloto ...   \n",
              "Passat            ['Central multimídia', 'Teto panorâmico', 'Fre...   \n",
              "Crossfox          ['Piloto automático', 'Controle de estabilidad...   \n",
              "DS5               ['Travas elétricas', '4 X 4', 'Vidros elétrico...   \n",
              "Aston Martin DB4  ['Rodas de liga', '4 X 4', 'Central multimídia...   \n",
              "\n",
              "                      Valor     Km_media  \n",
              "Nome                                      \n",
              "Jetta Variant      88078.64  2775.625000  \n",
              "Passat            106161.94   204.000000  \n",
              "Crossfox           72832.16  1280.103448  \n",
              "DS5               124549.07     0.000000  \n",
              "Aston Martin DB4   92612.10  1981.307692  "
            ]
          },
          "metadata": {
            "tags": []
          },
          "execution_count": 205
        }
      ]
    },
    {
      "cell_type": "code",
      "metadata": {
        "id": "HHSwH0ZaD1Bc",
        "colab_type": "code",
        "colab": {
          "base_uri": "https://localhost:8080/",
          "height": 255
        },
        "outputId": "d642befc-2aa5-40d0-a11b-5b392654b7bd"
      },
      "source": [
        "dataset.info()"
      ],
      "execution_count": 206,
      "outputs": [
        {
          "output_type": "stream",
          "text": [
            "<class 'pandas.core.frame.DataFrame'>\n",
            "Index: 258 entries, Jetta Variant to Macan\n",
            "Data columns (total 7 columns):\n",
            " #   Column         Non-Null Count  Dtype  \n",
            "---  ------         --------------  -----  \n",
            " 0   Motor          258 non-null    object \n",
            " 1   Ano            258 non-null    int64  \n",
            " 2   Quilometragem  197 non-null    float64\n",
            " 3   Zero_km        258 non-null    bool   \n",
            " 4   Acessórios     258 non-null    object \n",
            " 5   Valor          258 non-null    float64\n",
            " 6   Km_media       258 non-null    float64\n",
            "dtypes: bool(1), float64(3), int64(1), object(2)\n",
            "memory usage: 24.4+ KB\n"
          ],
          "name": "stdout"
        }
      ]
    },
    {
      "cell_type": "code",
      "metadata": {
        "scrolled": true,
        "id": "G27pxgZ5D1Bd",
        "colab_type": "code",
        "colab": {
          "base_uri": "https://localhost:8080/",
          "height": 1000
        },
        "outputId": "56f8ee48-f7c8-43aa-ec57-e3cb6e16dab8"
      },
      "source": [
        "#selecionar informações nulas\n",
        "dataset[dataset.Quilometragem.isna()]"
      ],
      "execution_count": 208,
      "outputs": [
        {
          "output_type": "execute_result",
          "data": {
            "text/html": [
              "<div>\n",
              "<style scoped>\n",
              "    .dataframe tbody tr th:only-of-type {\n",
              "        vertical-align: middle;\n",
              "    }\n",
              "\n",
              "    .dataframe tbody tr th {\n",
              "        vertical-align: top;\n",
              "    }\n",
              "\n",
              "    .dataframe thead th {\n",
              "        text-align: right;\n",
              "    }\n",
              "</style>\n",
              "<table border=\"1\" class=\"dataframe\">\n",
              "  <thead>\n",
              "    <tr style=\"text-align: right;\">\n",
              "      <th></th>\n",
              "      <th>Motor</th>\n",
              "      <th>Ano</th>\n",
              "      <th>Quilometragem</th>\n",
              "      <th>Zero_km</th>\n",
              "      <th>Acessórios</th>\n",
              "      <th>Valor</th>\n",
              "      <th>Km_media</th>\n",
              "    </tr>\n",
              "    <tr>\n",
              "      <th>Nome</th>\n",
              "      <th></th>\n",
              "      <th></th>\n",
              "      <th></th>\n",
              "      <th></th>\n",
              "      <th></th>\n",
              "      <th></th>\n",
              "      <th></th>\n",
              "    </tr>\n",
              "  </thead>\n",
              "  <tbody>\n",
              "    <tr>\n",
              "      <th>DS5</th>\n",
              "      <td>Motor 2.4 Turbo</td>\n",
              "      <td>2019</td>\n",
              "      <td>NaN</td>\n",
              "      <td>True</td>\n",
              "      <td>['Travas elétricas', '4 X 4', 'Vidros elétrico...</td>\n",
              "      <td>124549.07</td>\n",
              "      <td>0.0</td>\n",
              "    </tr>\n",
              "    <tr>\n",
              "      <th>A5</th>\n",
              "      <td>Motor 4.0 Turbo</td>\n",
              "      <td>2019</td>\n",
              "      <td>NaN</td>\n",
              "      <td>True</td>\n",
              "      <td>['Câmbio automático', 'Câmera de estacionament...</td>\n",
              "      <td>56445.20</td>\n",
              "      <td>0.0</td>\n",
              "    </tr>\n",
              "    <tr>\n",
              "      <th>J5</th>\n",
              "      <td>Motor V6</td>\n",
              "      <td>2019</td>\n",
              "      <td>NaN</td>\n",
              "      <td>True</td>\n",
              "      <td>['Sensor crepuscular', 'Painel digital', 'Roda...</td>\n",
              "      <td>53183.38</td>\n",
              "      <td>0.0</td>\n",
              "    </tr>\n",
              "    <tr>\n",
              "      <th>A3</th>\n",
              "      <td>Motor 1.0 8v</td>\n",
              "      <td>2019</td>\n",
              "      <td>NaN</td>\n",
              "      <td>True</td>\n",
              "      <td>['4 X 4', 'Piloto automático', 'Central multim...</td>\n",
              "      <td>88552.39</td>\n",
              "      <td>0.0</td>\n",
              "    </tr>\n",
              "    <tr>\n",
              "      <th>Série 1 M</th>\n",
              "      <td>Motor V8</td>\n",
              "      <td>2019</td>\n",
              "      <td>NaN</td>\n",
              "      <td>True</td>\n",
              "      <td>['Controle de estabilidade', 'Central multimíd...</td>\n",
              "      <td>94564.40</td>\n",
              "      <td>0.0</td>\n",
              "    </tr>\n",
              "    <tr>\n",
              "      <th>Lamborghini Murciélago</th>\n",
              "      <td>Motor 5.0 V8 Bi-Turbo</td>\n",
              "      <td>2019</td>\n",
              "      <td>NaN</td>\n",
              "      <td>True</td>\n",
              "      <td>['Freios ABS', 'Câmbio automático', 'Ar condic...</td>\n",
              "      <td>121596.21</td>\n",
              "      <td>0.0</td>\n",
              "    </tr>\n",
              "    <tr>\n",
              "      <th>Up!</th>\n",
              "      <td>Motor Diesel V6</td>\n",
              "      <td>2019</td>\n",
              "      <td>NaN</td>\n",
              "      <td>True</td>\n",
              "      <td>['Sensor de estacionamento', 'Vidros elétricos...</td>\n",
              "      <td>71367.10</td>\n",
              "      <td>0.0</td>\n",
              "    </tr>\n",
              "    <tr>\n",
              "      <th>Sandero Stepway</th>\n",
              "      <td>Motor 3.0 32v</td>\n",
              "      <td>2019</td>\n",
              "      <td>NaN</td>\n",
              "      <td>True</td>\n",
              "      <td>['Freios ABS', 'Ar condicionado', 'Teto panorâ...</td>\n",
              "      <td>105432.84</td>\n",
              "      <td>0.0</td>\n",
              "    </tr>\n",
              "    <tr>\n",
              "      <th>Pajero TR4</th>\n",
              "      <td>Motor 2.4 Turbo</td>\n",
              "      <td>2019</td>\n",
              "      <td>NaN</td>\n",
              "      <td>True</td>\n",
              "      <td>['Controle de tração', 'Bancos de couro', 'Câm...</td>\n",
              "      <td>51606.59</td>\n",
              "      <td>0.0</td>\n",
              "    </tr>\n",
              "    <tr>\n",
              "      <th>Polo Sedan</th>\n",
              "      <td>Motor V6</td>\n",
              "      <td>2019</td>\n",
              "      <td>NaN</td>\n",
              "      <td>True</td>\n",
              "      <td>['Sensor de chuva', 'Sensor crepuscular', 'Ar ...</td>\n",
              "      <td>123281.87</td>\n",
              "      <td>0.0</td>\n",
              "    </tr>\n",
              "    <tr>\n",
              "      <th>S60</th>\n",
              "      <td>Motor 2.4 Turbo</td>\n",
              "      <td>2019</td>\n",
              "      <td>NaN</td>\n",
              "      <td>True</td>\n",
              "      <td>['Teto panorâmico', 'Freios ABS', '4 X 4', 'Ar...</td>\n",
              "      <td>102609.54</td>\n",
              "      <td>0.0</td>\n",
              "    </tr>\n",
              "    <tr>\n",
              "      <th>Optima</th>\n",
              "      <td>Motor 1.8 16v</td>\n",
              "      <td>2019</td>\n",
              "      <td>NaN</td>\n",
              "      <td>True</td>\n",
              "      <td>['Central multimídia', 'Ar condicionado', 'Tet...</td>\n",
              "      <td>86641.34</td>\n",
              "      <td>0.0</td>\n",
              "    </tr>\n",
              "    <tr>\n",
              "      <th>Range Rover Vogue</th>\n",
              "      <td>Motor 1.0 8v</td>\n",
              "      <td>2019</td>\n",
              "      <td>NaN</td>\n",
              "      <td>True</td>\n",
              "      <td>['4 X 4', 'Vidros elétricos', 'Rodas de liga',...</td>\n",
              "      <td>117626.73</td>\n",
              "      <td>0.0</td>\n",
              "    </tr>\n",
              "    <tr>\n",
              "      <th>CR-V</th>\n",
              "      <td>Motor Diesel V8</td>\n",
              "      <td>2019</td>\n",
              "      <td>NaN</td>\n",
              "      <td>True</td>\n",
              "      <td>['Câmbio automático', 'Central multimídia', 'V...</td>\n",
              "      <td>64701.10</td>\n",
              "      <td>0.0</td>\n",
              "    </tr>\n",
              "    <tr>\n",
              "      <th>CLA</th>\n",
              "      <td>Motor 1.0 8v</td>\n",
              "      <td>2019</td>\n",
              "      <td>NaN</td>\n",
              "      <td>True</td>\n",
              "      <td>['Central multimídia', 'Sensor de chuva', 'Con...</td>\n",
              "      <td>133329.19</td>\n",
              "      <td>0.0</td>\n",
              "    </tr>\n",
              "    <tr>\n",
              "      <th>Accord</th>\n",
              "      <td>Motor V8</td>\n",
              "      <td>2019</td>\n",
              "      <td>NaN</td>\n",
              "      <td>True</td>\n",
              "      <td>['Sensor de estacionamento', 'Ar condicionado'...</td>\n",
              "      <td>131961.43</td>\n",
              "      <td>0.0</td>\n",
              "    </tr>\n",
              "    <tr>\n",
              "      <th>EXTRA 103EX</th>\n",
              "      <td>Motor 2.0 16v</td>\n",
              "      <td>2019</td>\n",
              "      <td>NaN</td>\n",
              "      <td>True</td>\n",
              "      <td>['Sensor de estacionamento', 'Central multimíd...</td>\n",
              "      <td>112033.27</td>\n",
              "      <td>0.0</td>\n",
              "    </tr>\n",
              "    <tr>\n",
              "      <th>Sorento</th>\n",
              "      <td>Motor Diesel</td>\n",
              "      <td>2019</td>\n",
              "      <td>NaN</td>\n",
              "      <td>True</td>\n",
              "      <td>['Sensor de chuva', 'Câmera de estacionamento'...</td>\n",
              "      <td>81399.35</td>\n",
              "      <td>0.0</td>\n",
              "    </tr>\n",
              "    <tr>\n",
              "      <th>Tiggo</th>\n",
              "      <td>Motor 3.0 32v</td>\n",
              "      <td>2019</td>\n",
              "      <td>NaN</td>\n",
              "      <td>True</td>\n",
              "      <td>['Câmera de estacionamento', 'Freios ABS', 'Pi...</td>\n",
              "      <td>97163.10</td>\n",
              "      <td>0.0</td>\n",
              "    </tr>\n",
              "    <tr>\n",
              "      <th>Touareg</th>\n",
              "      <td>Motor V8</td>\n",
              "      <td>2019</td>\n",
              "      <td>NaN</td>\n",
              "      <td>True</td>\n",
              "      <td>['Controle de estabilidade', 'Piloto automátic...</td>\n",
              "      <td>66526.61</td>\n",
              "      <td>0.0</td>\n",
              "    </tr>\n",
              "    <tr>\n",
              "      <th>Lancer Evolution X</th>\n",
              "      <td>Motor Diesel V6</td>\n",
              "      <td>2019</td>\n",
              "      <td>NaN</td>\n",
              "      <td>True</td>\n",
              "      <td>['Vidros elétricos', 'Câmbio automático', 'Con...</td>\n",
              "      <td>142392.75</td>\n",
              "      <td>0.0</td>\n",
              "    </tr>\n",
              "    <tr>\n",
              "      <th>Cielo Hatch</th>\n",
              "      <td>Motor Diesel</td>\n",
              "      <td>2019</td>\n",
              "      <td>NaN</td>\n",
              "      <td>True</td>\n",
              "      <td>['Painel digital', 'Central multimídia', 'Câme...</td>\n",
              "      <td>145197.70</td>\n",
              "      <td>0.0</td>\n",
              "    </tr>\n",
              "    <tr>\n",
              "      <th>Livina</th>\n",
              "      <td>Motor 2.0 16v</td>\n",
              "      <td>2019</td>\n",
              "      <td>NaN</td>\n",
              "      <td>True</td>\n",
              "      <td>['Sensor crepuscular', 'Câmera de estacionamen...</td>\n",
              "      <td>50742.10</td>\n",
              "      <td>0.0</td>\n",
              "    </tr>\n",
              "    <tr>\n",
              "      <th>Hilux</th>\n",
              "      <td>Motor 5.0 V8 Bi-Turbo</td>\n",
              "      <td>2019</td>\n",
              "      <td>NaN</td>\n",
              "      <td>True</td>\n",
              "      <td>['4 X 4', 'Piloto automático', 'Teto panorâmic...</td>\n",
              "      <td>64507.72</td>\n",
              "      <td>0.0</td>\n",
              "    </tr>\n",
              "    <tr>\n",
              "      <th>Grand Siena</th>\n",
              "      <td>Motor Diesel V8</td>\n",
              "      <td>2019</td>\n",
              "      <td>NaN</td>\n",
              "      <td>True</td>\n",
              "      <td>['Bancos de couro', 'Painel digital', 'Sensor ...</td>\n",
              "      <td>115075.59</td>\n",
              "      <td>0.0</td>\n",
              "    </tr>\n",
              "    <tr>\n",
              "      <th>Fusion</th>\n",
              "      <td>Motor 1.8 16v</td>\n",
              "      <td>2019</td>\n",
              "      <td>NaN</td>\n",
              "      <td>True</td>\n",
              "      <td>['Controle de tração', 'Câmbio automático', 'F...</td>\n",
              "      <td>100380.28</td>\n",
              "      <td>0.0</td>\n",
              "    </tr>\n",
              "    <tr>\n",
              "      <th>Face</th>\n",
              "      <td>Motor V8</td>\n",
              "      <td>2019</td>\n",
              "      <td>NaN</td>\n",
              "      <td>True</td>\n",
              "      <td>['Controle de estabilidade', 'Vidros elétricos...</td>\n",
              "      <td>93227.73</td>\n",
              "      <td>0.0</td>\n",
              "    </tr>\n",
              "    <tr>\n",
              "      <th>A8</th>\n",
              "      <td>Motor 2.0 16v</td>\n",
              "      <td>2019</td>\n",
              "      <td>NaN</td>\n",
              "      <td>True</td>\n",
              "      <td>['Painel digital', 'Teto panorâmico', 'Piloto ...</td>\n",
              "      <td>122016.42</td>\n",
              "      <td>0.0</td>\n",
              "    </tr>\n",
              "    <tr>\n",
              "      <th>Q3</th>\n",
              "      <td>Motor 3.0 32v</td>\n",
              "      <td>2019</td>\n",
              "      <td>NaN</td>\n",
              "      <td>True</td>\n",
              "      <td>['Controle de estabilidade', 'Bancos de couro'...</td>\n",
              "      <td>114727.68</td>\n",
              "      <td>0.0</td>\n",
              "    </tr>\n",
              "    <tr>\n",
              "      <th>Z4 Roadster</th>\n",
              "      <td>Motor 3.0 32v</td>\n",
              "      <td>2019</td>\n",
              "      <td>NaN</td>\n",
              "      <td>True</td>\n",
              "      <td>['Central multimídia', 'Câmbio automático', 'T...</td>\n",
              "      <td>80382.24</td>\n",
              "      <td>0.0</td>\n",
              "    </tr>\n",
              "    <tr>\n",
              "      <th>Lamborghini Ferruccio</th>\n",
              "      <td>Motor 3.0 32v</td>\n",
              "      <td>2019</td>\n",
              "      <td>NaN</td>\n",
              "      <td>True</td>\n",
              "      <td>['Vidros elétricos', 'Piloto automático', 'Tet...</td>\n",
              "      <td>149157.17</td>\n",
              "      <td>0.0</td>\n",
              "    </tr>\n",
              "    <tr>\n",
              "      <th>Camry</th>\n",
              "      <td>Motor Diesel</td>\n",
              "      <td>2019</td>\n",
              "      <td>NaN</td>\n",
              "      <td>True</td>\n",
              "      <td>['Travas elétricas', 'Rodas de liga', 'Sensor ...</td>\n",
              "      <td>138597.27</td>\n",
              "      <td>0.0</td>\n",
              "    </tr>\n",
              "    <tr>\n",
              "      <th>R8 GT</th>\n",
              "      <td>Motor 4.0 Turbo</td>\n",
              "      <td>2019</td>\n",
              "      <td>NaN</td>\n",
              "      <td>True</td>\n",
              "      <td>['Rodas de liga', 'Câmbio automático', 'Sensor...</td>\n",
              "      <td>62999.02</td>\n",
              "      <td>0.0</td>\n",
              "    </tr>\n",
              "    <tr>\n",
              "      <th>Classe CL</th>\n",
              "      <td>Motor V8</td>\n",
              "      <td>2019</td>\n",
              "      <td>NaN</td>\n",
              "      <td>True</td>\n",
              "      <td>['Central multimídia', 'Câmbio automático', '4...</td>\n",
              "      <td>58525.41</td>\n",
              "      <td>0.0</td>\n",
              "    </tr>\n",
              "    <tr>\n",
              "      <th>Aston Martin Cygnet</th>\n",
              "      <td>Motor 5.0 V8 Bi-Turbo</td>\n",
              "      <td>2019</td>\n",
              "      <td>NaN</td>\n",
              "      <td>True</td>\n",
              "      <td>['Painel digital', 'Ar condicionado', 'Sensor ...</td>\n",
              "      <td>147770.87</td>\n",
              "      <td>0.0</td>\n",
              "    </tr>\n",
              "    <tr>\n",
              "      <th>Lamborghini Veneno</th>\n",
              "      <td>Motor 3.0 32v</td>\n",
              "      <td>2019</td>\n",
              "      <td>NaN</td>\n",
              "      <td>True</td>\n",
              "      <td>['4 X 4', 'Sensor de estacionamento', 'Câmbio ...</td>\n",
              "      <td>104038.79</td>\n",
              "      <td>0.0</td>\n",
              "    </tr>\n",
              "    <tr>\n",
              "      <th>i30</th>\n",
              "      <td>Motor 1.8 16v</td>\n",
              "      <td>2019</td>\n",
              "      <td>NaN</td>\n",
              "      <td>True</td>\n",
              "      <td>['Câmbio automático', 'Controle de estabilidad...</td>\n",
              "      <td>86224.10</td>\n",
              "      <td>0.0</td>\n",
              "    </tr>\n",
              "    <tr>\n",
              "      <th>Voyage</th>\n",
              "      <td>Motor 5.0 V8 Bi-Turbo</td>\n",
              "      <td>2019</td>\n",
              "      <td>NaN</td>\n",
              "      <td>True</td>\n",
              "      <td>['Ar condicionado', 'Sensor de estacionamento'...</td>\n",
              "      <td>148996.47</td>\n",
              "      <td>0.0</td>\n",
              "    </tr>\n",
              "    <tr>\n",
              "      <th>Phantom I Phantom II</th>\n",
              "      <td>Motor 1.8 16v</td>\n",
              "      <td>2019</td>\n",
              "      <td>NaN</td>\n",
              "      <td>True</td>\n",
              "      <td>['Piloto automático', 'Freios ABS', 'Painel di...</td>\n",
              "      <td>60948.01</td>\n",
              "      <td>0.0</td>\n",
              "    </tr>\n",
              "    <tr>\n",
              "      <th>308 CC</th>\n",
              "      <td>Motor 4.0 Turbo</td>\n",
              "      <td>2019</td>\n",
              "      <td>NaN</td>\n",
              "      <td>True</td>\n",
              "      <td>['Câmera de estacionamento', 'Bancos de couro'...</td>\n",
              "      <td>146405.79</td>\n",
              "      <td>0.0</td>\n",
              "    </tr>\n",
              "    <tr>\n",
              "      <th>L200 Triton</th>\n",
              "      <td>Motor Diesel V8</td>\n",
              "      <td>2019</td>\n",
              "      <td>NaN</td>\n",
              "      <td>True</td>\n",
              "      <td>['Vidros elétricos', 'Ar condicionado', 'Paine...</td>\n",
              "      <td>81999.21</td>\n",
              "      <td>0.0</td>\n",
              "    </tr>\n",
              "    <tr>\n",
              "      <th>Classe SLK</th>\n",
              "      <td>Motor 4.0 Turbo</td>\n",
              "      <td>2019</td>\n",
              "      <td>NaN</td>\n",
              "      <td>True</td>\n",
              "      <td>['4 X 4', 'Sensor de estacionamento', 'Control...</td>\n",
              "      <td>124156.65</td>\n",
              "      <td>0.0</td>\n",
              "    </tr>\n",
              "    <tr>\n",
              "      <th>C3 Picasso</th>\n",
              "      <td>Motor 3.0 32v</td>\n",
              "      <td>2019</td>\n",
              "      <td>NaN</td>\n",
              "      <td>True</td>\n",
              "      <td>['Teto panorâmico', 'Sensor crepuscular', 'Sen...</td>\n",
              "      <td>56453.94</td>\n",
              "      <td>0.0</td>\n",
              "    </tr>\n",
              "    <tr>\n",
              "      <th>Classe S</th>\n",
              "      <td>Motor 3.0 32v</td>\n",
              "      <td>2019</td>\n",
              "      <td>NaN</td>\n",
              "      <td>True</td>\n",
              "      <td>['Controle de tração', 'Teto panorâmico', 'Câm...</td>\n",
              "      <td>89401.10</td>\n",
              "      <td>0.0</td>\n",
              "    </tr>\n",
              "    <tr>\n",
              "      <th>T6</th>\n",
              "      <td>Motor 3.0 32v</td>\n",
              "      <td>2019</td>\n",
              "      <td>NaN</td>\n",
              "      <td>True</td>\n",
              "      <td>['Sensor de chuva', 'Câmera de estacionamento'...</td>\n",
              "      <td>56842.79</td>\n",
              "      <td>0.0</td>\n",
              "    </tr>\n",
              "    <tr>\n",
              "      <th>Aston Martin Virage</th>\n",
              "      <td>Motor Diesel</td>\n",
              "      <td>2019</td>\n",
              "      <td>NaN</td>\n",
              "      <td>True</td>\n",
              "      <td>['Travas elétricas', 'Controle de tração', 'Câ...</td>\n",
              "      <td>97290.18</td>\n",
              "      <td>0.0</td>\n",
              "    </tr>\n",
              "    <tr>\n",
              "      <th>Vantage Volante</th>\n",
              "      <td>Motor Diesel V8</td>\n",
              "      <td>2019</td>\n",
              "      <td>NaN</td>\n",
              "      <td>True</td>\n",
              "      <td>['Freios ABS', 'Controle de tração', 'Central ...</td>\n",
              "      <td>114434.94</td>\n",
              "      <td>0.0</td>\n",
              "    </tr>\n",
              "    <tr>\n",
              "      <th>J3 Turin</th>\n",
              "      <td>Motor V6</td>\n",
              "      <td>2019</td>\n",
              "      <td>NaN</td>\n",
              "      <td>True</td>\n",
              "      <td>['Sensor crepuscular', 'Câmera de estacionamen...</td>\n",
              "      <td>127024.75</td>\n",
              "      <td>0.0</td>\n",
              "    </tr>\n",
              "    <tr>\n",
              "      <th>Classe B</th>\n",
              "      <td>Motor Diesel V8</td>\n",
              "      <td>2019</td>\n",
              "      <td>NaN</td>\n",
              "      <td>True</td>\n",
              "      <td>['4 X 4', 'Bancos de couro', 'Sensor crepuscul...</td>\n",
              "      <td>135543.00</td>\n",
              "      <td>0.0</td>\n",
              "    </tr>\n",
              "    <tr>\n",
              "      <th>Parati</th>\n",
              "      <td>Motor Diesel V8</td>\n",
              "      <td>2019</td>\n",
              "      <td>NaN</td>\n",
              "      <td>True</td>\n",
              "      <td>['Sensor de estacionamento', 'Piloto automátic...</td>\n",
              "      <td>121708.73</td>\n",
              "      <td>0.0</td>\n",
              "    </tr>\n",
              "    <tr>\n",
              "      <th>Sedan</th>\n",
              "      <td>Motor V8</td>\n",
              "      <td>2019</td>\n",
              "      <td>NaN</td>\n",
              "      <td>True</td>\n",
              "      <td>['Bancos de couro', 'Central multimídia', 'Fre...</td>\n",
              "      <td>57888.10</td>\n",
              "      <td>0.0</td>\n",
              "    </tr>\n",
              "    <tr>\n",
              "      <th>Aston Martin V12 Vantage</th>\n",
              "      <td>Motor V8</td>\n",
              "      <td>2019</td>\n",
              "      <td>NaN</td>\n",
              "      <td>True</td>\n",
              "      <td>['Bancos de couro', 'Central multimídia', 'Con...</td>\n",
              "      <td>128396.11</td>\n",
              "      <td>0.0</td>\n",
              "    </tr>\n",
              "    <tr>\n",
              "      <th>Partner</th>\n",
              "      <td>Motor 2.4 Turbo</td>\n",
              "      <td>2019</td>\n",
              "      <td>NaN</td>\n",
              "      <td>True</td>\n",
              "      <td>['Central multimídia', 'Controle de tração', '...</td>\n",
              "      <td>114531.74</td>\n",
              "      <td>0.0</td>\n",
              "    </tr>\n",
              "    <tr>\n",
              "      <th>Chana Family</th>\n",
              "      <td>Motor V8</td>\n",
              "      <td>2019</td>\n",
              "      <td>NaN</td>\n",
              "      <td>True</td>\n",
              "      <td>['Piloto automático', 'Teto panorâmico', 'Sens...</td>\n",
              "      <td>115760.17</td>\n",
              "      <td>0.0</td>\n",
              "    </tr>\n",
              "    <tr>\n",
              "      <th>A3 Sedan</th>\n",
              "      <td>Motor V6</td>\n",
              "      <td>2019</td>\n",
              "      <td>NaN</td>\n",
              "      <td>True</td>\n",
              "      <td>['Ar condicionado', 'Sensor de chuva', 'Travas...</td>\n",
              "      <td>90141.47</td>\n",
              "      <td>0.0</td>\n",
              "    </tr>\n",
              "    <tr>\n",
              "      <th>Série 7 Sedã</th>\n",
              "      <td>Motor Diesel</td>\n",
              "      <td>2019</td>\n",
              "      <td>NaN</td>\n",
              "      <td>True</td>\n",
              "      <td>['Vidros elétricos', 'Travas elétricas', 'Roda...</td>\n",
              "      <td>67539.79</td>\n",
              "      <td>0.0</td>\n",
              "    </tr>\n",
              "    <tr>\n",
              "      <th>Lamborghini Reventón</th>\n",
              "      <td>Motor 4.0 Turbo</td>\n",
              "      <td>2019</td>\n",
              "      <td>NaN</td>\n",
              "      <td>True</td>\n",
              "      <td>['Controle de tração', 'Ar condicionado', 'Cen...</td>\n",
              "      <td>67664.86</td>\n",
              "      <td>0.0</td>\n",
              "    </tr>\n",
              "    <tr>\n",
              "      <th>Benni Mini</th>\n",
              "      <td>Motor V8</td>\n",
              "      <td>2019</td>\n",
              "      <td>NaN</td>\n",
              "      <td>True</td>\n",
              "      <td>['Sensor crepuscular', 'Câmbio automático', 'C...</td>\n",
              "      <td>126247.84</td>\n",
              "      <td>0.0</td>\n",
              "    </tr>\n",
              "    <tr>\n",
              "      <th>Uno</th>\n",
              "      <td>Motor Diesel V6</td>\n",
              "      <td>2019</td>\n",
              "      <td>NaN</td>\n",
              "      <td>True</td>\n",
              "      <td>['Central multimídia', 'Sensor crepuscular', '...</td>\n",
              "      <td>128852.21</td>\n",
              "      <td>0.0</td>\n",
              "    </tr>\n",
              "    <tr>\n",
              "      <th>Santa Fe</th>\n",
              "      <td>Motor 3.0 32v</td>\n",
              "      <td>2019</td>\n",
              "      <td>NaN</td>\n",
              "      <td>True</td>\n",
              "      <td>['Travas elétricas', 'Ar condicionado', '4 X 4...</td>\n",
              "      <td>129415.33</td>\n",
              "      <td>0.0</td>\n",
              "    </tr>\n",
              "    <tr>\n",
              "      <th>XC60</th>\n",
              "      <td>Motor 4.0 Turbo</td>\n",
              "      <td>2019</td>\n",
              "      <td>NaN</td>\n",
              "      <td>True</td>\n",
              "      <td>['Painel digital', 'Piloto automático', 'Centr...</td>\n",
              "      <td>77675.79</td>\n",
              "      <td>0.0</td>\n",
              "    </tr>\n",
              "  </tbody>\n",
              "</table>\n",
              "</div>"
            ],
            "text/plain": [
              "                                          Motor   Ano  Quilometragem  Zero_km  \\\n",
              "Nome                                                                            \n",
              "DS5                             Motor 2.4 Turbo  2019            NaN     True   \n",
              "A5                              Motor 4.0 Turbo  2019            NaN     True   \n",
              "J5                                     Motor V6  2019            NaN     True   \n",
              "A3                                 Motor 1.0 8v  2019            NaN     True   \n",
              "Série 1 M                              Motor V8  2019            NaN     True   \n",
              "Lamborghini Murciélago    Motor 5.0 V8 Bi-Turbo  2019            NaN     True   \n",
              "Up!                             Motor Diesel V6  2019            NaN     True   \n",
              "Sandero Stepway                   Motor 3.0 32v  2019            NaN     True   \n",
              "Pajero TR4                      Motor 2.4 Turbo  2019            NaN     True   \n",
              "Polo Sedan                             Motor V6  2019            NaN     True   \n",
              "S60                             Motor 2.4 Turbo  2019            NaN     True   \n",
              "Optima                            Motor 1.8 16v  2019            NaN     True   \n",
              "Range Rover Vogue                  Motor 1.0 8v  2019            NaN     True   \n",
              "CR-V                            Motor Diesel V8  2019            NaN     True   \n",
              "CLA                                Motor 1.0 8v  2019            NaN     True   \n",
              "Accord                                 Motor V8  2019            NaN     True   \n",
              "EXTRA 103EX                       Motor 2.0 16v  2019            NaN     True   \n",
              "Sorento                            Motor Diesel  2019            NaN     True   \n",
              "Tiggo                             Motor 3.0 32v  2019            NaN     True   \n",
              "Touareg                                Motor V8  2019            NaN     True   \n",
              "Lancer Evolution X              Motor Diesel V6  2019            NaN     True   \n",
              "Cielo Hatch                        Motor Diesel  2019            NaN     True   \n",
              "Livina                            Motor 2.0 16v  2019            NaN     True   \n",
              "Hilux                     Motor 5.0 V8 Bi-Turbo  2019            NaN     True   \n",
              "Grand Siena                     Motor Diesel V8  2019            NaN     True   \n",
              "Fusion                            Motor 1.8 16v  2019            NaN     True   \n",
              "Face                                   Motor V8  2019            NaN     True   \n",
              "A8                                Motor 2.0 16v  2019            NaN     True   \n",
              "Q3                                Motor 3.0 32v  2019            NaN     True   \n",
              "Z4 Roadster                       Motor 3.0 32v  2019            NaN     True   \n",
              "Lamborghini Ferruccio             Motor 3.0 32v  2019            NaN     True   \n",
              "Camry                              Motor Diesel  2019            NaN     True   \n",
              "R8 GT                           Motor 4.0 Turbo  2019            NaN     True   \n",
              "Classe CL                              Motor V8  2019            NaN     True   \n",
              "Aston Martin Cygnet       Motor 5.0 V8 Bi-Turbo  2019            NaN     True   \n",
              "Lamborghini Veneno                Motor 3.0 32v  2019            NaN     True   \n",
              "i30                               Motor 1.8 16v  2019            NaN     True   \n",
              "Voyage                    Motor 5.0 V8 Bi-Turbo  2019            NaN     True   \n",
              "Phantom I Phantom II              Motor 1.8 16v  2019            NaN     True   \n",
              "308 CC                          Motor 4.0 Turbo  2019            NaN     True   \n",
              "L200 Triton                     Motor Diesel V8  2019            NaN     True   \n",
              "Classe SLK                      Motor 4.0 Turbo  2019            NaN     True   \n",
              "C3 Picasso                        Motor 3.0 32v  2019            NaN     True   \n",
              "Classe S                          Motor 3.0 32v  2019            NaN     True   \n",
              "T6                                Motor 3.0 32v  2019            NaN     True   \n",
              "Aston Martin Virage                Motor Diesel  2019            NaN     True   \n",
              "Vantage Volante                 Motor Diesel V8  2019            NaN     True   \n",
              "J3 Turin                               Motor V6  2019            NaN     True   \n",
              "Classe B                        Motor Diesel V8  2019            NaN     True   \n",
              "Parati                          Motor Diesel V8  2019            NaN     True   \n",
              "Sedan                                  Motor V8  2019            NaN     True   \n",
              "Aston Martin V12 Vantage               Motor V8  2019            NaN     True   \n",
              "Partner                         Motor 2.4 Turbo  2019            NaN     True   \n",
              "Chana Family                           Motor V8  2019            NaN     True   \n",
              "A3 Sedan                               Motor V6  2019            NaN     True   \n",
              "Série 7 Sedã                       Motor Diesel  2019            NaN     True   \n",
              "Lamborghini Reventón            Motor 4.0 Turbo  2019            NaN     True   \n",
              "Benni Mini                             Motor V8  2019            NaN     True   \n",
              "Uno                             Motor Diesel V6  2019            NaN     True   \n",
              "Santa Fe                          Motor 3.0 32v  2019            NaN     True   \n",
              "XC60                            Motor 4.0 Turbo  2019            NaN     True   \n",
              "\n",
              "                                                                 Acessórios  \\\n",
              "Nome                                                                          \n",
              "DS5                       ['Travas elétricas', '4 X 4', 'Vidros elétrico...   \n",
              "A5                        ['Câmbio automático', 'Câmera de estacionament...   \n",
              "J5                        ['Sensor crepuscular', 'Painel digital', 'Roda...   \n",
              "A3                        ['4 X 4', 'Piloto automático', 'Central multim...   \n",
              "Série 1 M                 ['Controle de estabilidade', 'Central multimíd...   \n",
              "Lamborghini Murciélago    ['Freios ABS', 'Câmbio automático', 'Ar condic...   \n",
              "Up!                       ['Sensor de estacionamento', 'Vidros elétricos...   \n",
              "Sandero Stepway           ['Freios ABS', 'Ar condicionado', 'Teto panorâ...   \n",
              "Pajero TR4                ['Controle de tração', 'Bancos de couro', 'Câm...   \n",
              "Polo Sedan                ['Sensor de chuva', 'Sensor crepuscular', 'Ar ...   \n",
              "S60                       ['Teto panorâmico', 'Freios ABS', '4 X 4', 'Ar...   \n",
              "Optima                    ['Central multimídia', 'Ar condicionado', 'Tet...   \n",
              "Range Rover Vogue         ['4 X 4', 'Vidros elétricos', 'Rodas de liga',...   \n",
              "CR-V                      ['Câmbio automático', 'Central multimídia', 'V...   \n",
              "CLA                       ['Central multimídia', 'Sensor de chuva', 'Con...   \n",
              "Accord                    ['Sensor de estacionamento', 'Ar condicionado'...   \n",
              "EXTRA 103EX               ['Sensor de estacionamento', 'Central multimíd...   \n",
              "Sorento                   ['Sensor de chuva', 'Câmera de estacionamento'...   \n",
              "Tiggo                     ['Câmera de estacionamento', 'Freios ABS', 'Pi...   \n",
              "Touareg                   ['Controle de estabilidade', 'Piloto automátic...   \n",
              "Lancer Evolution X        ['Vidros elétricos', 'Câmbio automático', 'Con...   \n",
              "Cielo Hatch               ['Painel digital', 'Central multimídia', 'Câme...   \n",
              "Livina                    ['Sensor crepuscular', 'Câmera de estacionamen...   \n",
              "Hilux                     ['4 X 4', 'Piloto automático', 'Teto panorâmic...   \n",
              "Grand Siena               ['Bancos de couro', 'Painel digital', 'Sensor ...   \n",
              "Fusion                    ['Controle de tração', 'Câmbio automático', 'F...   \n",
              "Face                      ['Controle de estabilidade', 'Vidros elétricos...   \n",
              "A8                        ['Painel digital', 'Teto panorâmico', 'Piloto ...   \n",
              "Q3                        ['Controle de estabilidade', 'Bancos de couro'...   \n",
              "Z4 Roadster               ['Central multimídia', 'Câmbio automático', 'T...   \n",
              "Lamborghini Ferruccio     ['Vidros elétricos', 'Piloto automático', 'Tet...   \n",
              "Camry                     ['Travas elétricas', 'Rodas de liga', 'Sensor ...   \n",
              "R8 GT                     ['Rodas de liga', 'Câmbio automático', 'Sensor...   \n",
              "Classe CL                 ['Central multimídia', 'Câmbio automático', '4...   \n",
              "Aston Martin Cygnet       ['Painel digital', 'Ar condicionado', 'Sensor ...   \n",
              "Lamborghini Veneno        ['4 X 4', 'Sensor de estacionamento', 'Câmbio ...   \n",
              "i30                       ['Câmbio automático', 'Controle de estabilidad...   \n",
              "Voyage                    ['Ar condicionado', 'Sensor de estacionamento'...   \n",
              "Phantom I Phantom II      ['Piloto automático', 'Freios ABS', 'Painel di...   \n",
              "308 CC                    ['Câmera de estacionamento', 'Bancos de couro'...   \n",
              "L200 Triton               ['Vidros elétricos', 'Ar condicionado', 'Paine...   \n",
              "Classe SLK                ['4 X 4', 'Sensor de estacionamento', 'Control...   \n",
              "C3 Picasso                ['Teto panorâmico', 'Sensor crepuscular', 'Sen...   \n",
              "Classe S                  ['Controle de tração', 'Teto panorâmico', 'Câm...   \n",
              "T6                        ['Sensor de chuva', 'Câmera de estacionamento'...   \n",
              "Aston Martin Virage       ['Travas elétricas', 'Controle de tração', 'Câ...   \n",
              "Vantage Volante           ['Freios ABS', 'Controle de tração', 'Central ...   \n",
              "J3 Turin                  ['Sensor crepuscular', 'Câmera de estacionamen...   \n",
              "Classe B                  ['4 X 4', 'Bancos de couro', 'Sensor crepuscul...   \n",
              "Parati                    ['Sensor de estacionamento', 'Piloto automátic...   \n",
              "Sedan                     ['Bancos de couro', 'Central multimídia', 'Fre...   \n",
              "Aston Martin V12 Vantage  ['Bancos de couro', 'Central multimídia', 'Con...   \n",
              "Partner                   ['Central multimídia', 'Controle de tração', '...   \n",
              "Chana Family              ['Piloto automático', 'Teto panorâmico', 'Sens...   \n",
              "A3 Sedan                  ['Ar condicionado', 'Sensor de chuva', 'Travas...   \n",
              "Série 7 Sedã              ['Vidros elétricos', 'Travas elétricas', 'Roda...   \n",
              "Lamborghini Reventón      ['Controle de tração', 'Ar condicionado', 'Cen...   \n",
              "Benni Mini                ['Sensor crepuscular', 'Câmbio automático', 'C...   \n",
              "Uno                       ['Central multimídia', 'Sensor crepuscular', '...   \n",
              "Santa Fe                  ['Travas elétricas', 'Ar condicionado', '4 X 4...   \n",
              "XC60                      ['Painel digital', 'Piloto automático', 'Centr...   \n",
              "\n",
              "                              Valor  Km_media  \n",
              "Nome                                           \n",
              "DS5                       124549.07       0.0  \n",
              "A5                         56445.20       0.0  \n",
              "J5                         53183.38       0.0  \n",
              "A3                         88552.39       0.0  \n",
              "Série 1 M                  94564.40       0.0  \n",
              "Lamborghini Murciélago    121596.21       0.0  \n",
              "Up!                        71367.10       0.0  \n",
              "Sandero Stepway           105432.84       0.0  \n",
              "Pajero TR4                 51606.59       0.0  \n",
              "Polo Sedan                123281.87       0.0  \n",
              "S60                       102609.54       0.0  \n",
              "Optima                     86641.34       0.0  \n",
              "Range Rover Vogue         117626.73       0.0  \n",
              "CR-V                       64701.10       0.0  \n",
              "CLA                       133329.19       0.0  \n",
              "Accord                    131961.43       0.0  \n",
              "EXTRA 103EX               112033.27       0.0  \n",
              "Sorento                    81399.35       0.0  \n",
              "Tiggo                      97163.10       0.0  \n",
              "Touareg                    66526.61       0.0  \n",
              "Lancer Evolution X        142392.75       0.0  \n",
              "Cielo Hatch               145197.70       0.0  \n",
              "Livina                     50742.10       0.0  \n",
              "Hilux                      64507.72       0.0  \n",
              "Grand Siena               115075.59       0.0  \n",
              "Fusion                    100380.28       0.0  \n",
              "Face                       93227.73       0.0  \n",
              "A8                        122016.42       0.0  \n",
              "Q3                        114727.68       0.0  \n",
              "Z4 Roadster                80382.24       0.0  \n",
              "Lamborghini Ferruccio     149157.17       0.0  \n",
              "Camry                     138597.27       0.0  \n",
              "R8 GT                      62999.02       0.0  \n",
              "Classe CL                  58525.41       0.0  \n",
              "Aston Martin Cygnet       147770.87       0.0  \n",
              "Lamborghini Veneno        104038.79       0.0  \n",
              "i30                        86224.10       0.0  \n",
              "Voyage                    148996.47       0.0  \n",
              "Phantom I Phantom II       60948.01       0.0  \n",
              "308 CC                    146405.79       0.0  \n",
              "L200 Triton                81999.21       0.0  \n",
              "Classe SLK                124156.65       0.0  \n",
              "C3 Picasso                 56453.94       0.0  \n",
              "Classe S                   89401.10       0.0  \n",
              "T6                         56842.79       0.0  \n",
              "Aston Martin Virage        97290.18       0.0  \n",
              "Vantage Volante           114434.94       0.0  \n",
              "J3 Turin                  127024.75       0.0  \n",
              "Classe B                  135543.00       0.0  \n",
              "Parati                    121708.73       0.0  \n",
              "Sedan                      57888.10       0.0  \n",
              "Aston Martin V12 Vantage  128396.11       0.0  \n",
              "Partner                   114531.74       0.0  \n",
              "Chana Family              115760.17       0.0  \n",
              "A3 Sedan                   90141.47       0.0  \n",
              "Série 7 Sedã               67539.79       0.0  \n",
              "Lamborghini Reventón       67664.86       0.0  \n",
              "Benni Mini                126247.84       0.0  \n",
              "Uno                       128852.21       0.0  \n",
              "Santa Fe                  129415.33       0.0  \n",
              "XC60                       77675.79       0.0  "
            ]
          },
          "metadata": {
            "tags": []
          },
          "execution_count": 208
        }
      ]
    },
    {
      "cell_type": "code",
      "metadata": {
        "scrolled": true,
        "id": "DhlRbxy2D1Bd",
        "colab_type": "code",
        "colab": {}
      },
      "source": [
        "#substituindo nulos\n",
        "dataset.fillna(0, inplace=True)"
      ],
      "execution_count": 209,
      "outputs": []
    },
    {
      "cell_type": "code",
      "metadata": {
        "id": "OL04QU5RD1Be",
        "colab_type": "code",
        "colab": {
          "base_uri": "https://localhost:8080/",
          "height": 235
        },
        "outputId": "429d0db4-7e32-4d1d-a05a-6625595ff660"
      },
      "source": [
        "dataset.head()"
      ],
      "execution_count": 211,
      "outputs": [
        {
          "output_type": "execute_result",
          "data": {
            "text/html": [
              "<div>\n",
              "<style scoped>\n",
              "    .dataframe tbody tr th:only-of-type {\n",
              "        vertical-align: middle;\n",
              "    }\n",
              "\n",
              "    .dataframe tbody tr th {\n",
              "        vertical-align: top;\n",
              "    }\n",
              "\n",
              "    .dataframe thead th {\n",
              "        text-align: right;\n",
              "    }\n",
              "</style>\n",
              "<table border=\"1\" class=\"dataframe\">\n",
              "  <thead>\n",
              "    <tr style=\"text-align: right;\">\n",
              "      <th></th>\n",
              "      <th>Motor</th>\n",
              "      <th>Ano</th>\n",
              "      <th>Quilometragem</th>\n",
              "      <th>Zero_km</th>\n",
              "      <th>Acessórios</th>\n",
              "      <th>Valor</th>\n",
              "      <th>Km_media</th>\n",
              "    </tr>\n",
              "    <tr>\n",
              "      <th>Nome</th>\n",
              "      <th></th>\n",
              "      <th></th>\n",
              "      <th></th>\n",
              "      <th></th>\n",
              "      <th></th>\n",
              "      <th></th>\n",
              "      <th></th>\n",
              "    </tr>\n",
              "  </thead>\n",
              "  <tbody>\n",
              "    <tr>\n",
              "      <th>Jetta Variant</th>\n",
              "      <td>Motor 4.0 Turbo</td>\n",
              "      <td>2003</td>\n",
              "      <td>44410.0</td>\n",
              "      <td>False</td>\n",
              "      <td>['Rodas de liga', 'Travas elétricas', 'Piloto ...</td>\n",
              "      <td>88078.64</td>\n",
              "      <td>2775.625000</td>\n",
              "    </tr>\n",
              "    <tr>\n",
              "      <th>Passat</th>\n",
              "      <td>Motor Diesel</td>\n",
              "      <td>1991</td>\n",
              "      <td>5712.0</td>\n",
              "      <td>False</td>\n",
              "      <td>['Central multimídia', 'Teto panorâmico', 'Fre...</td>\n",
              "      <td>106161.94</td>\n",
              "      <td>204.000000</td>\n",
              "    </tr>\n",
              "    <tr>\n",
              "      <th>Crossfox</th>\n",
              "      <td>Motor Diesel V8</td>\n",
              "      <td>1990</td>\n",
              "      <td>37123.0</td>\n",
              "      <td>False</td>\n",
              "      <td>['Piloto automático', 'Controle de estabilidad...</td>\n",
              "      <td>72832.16</td>\n",
              "      <td>1280.103448</td>\n",
              "    </tr>\n",
              "    <tr>\n",
              "      <th>DS5</th>\n",
              "      <td>Motor 2.4 Turbo</td>\n",
              "      <td>2019</td>\n",
              "      <td>0.0</td>\n",
              "      <td>True</td>\n",
              "      <td>['Travas elétricas', '4 X 4', 'Vidros elétrico...</td>\n",
              "      <td>124549.07</td>\n",
              "      <td>0.000000</td>\n",
              "    </tr>\n",
              "    <tr>\n",
              "      <th>Aston Martin DB4</th>\n",
              "      <td>Motor 2.4 Turbo</td>\n",
              "      <td>2006</td>\n",
              "      <td>25757.0</td>\n",
              "      <td>False</td>\n",
              "      <td>['Rodas de liga', '4 X 4', 'Central multimídia...</td>\n",
              "      <td>92612.10</td>\n",
              "      <td>1981.307692</td>\n",
              "    </tr>\n",
              "  </tbody>\n",
              "</table>\n",
              "</div>"
            ],
            "text/plain": [
              "                            Motor   Ano  Quilometragem  Zero_km  \\\n",
              "Nome                                                              \n",
              "Jetta Variant     Motor 4.0 Turbo  2003        44410.0    False   \n",
              "Passat               Motor Diesel  1991         5712.0    False   \n",
              "Crossfox          Motor Diesel V8  1990        37123.0    False   \n",
              "DS5               Motor 2.4 Turbo  2019            0.0     True   \n",
              "Aston Martin DB4  Motor 2.4 Turbo  2006        25757.0    False   \n",
              "\n",
              "                                                         Acessórios  \\\n",
              "Nome                                                                  \n",
              "Jetta Variant     ['Rodas de liga', 'Travas elétricas', 'Piloto ...   \n",
              "Passat            ['Central multimídia', 'Teto panorâmico', 'Fre...   \n",
              "Crossfox          ['Piloto automático', 'Controle de estabilidad...   \n",
              "DS5               ['Travas elétricas', '4 X 4', 'Vidros elétrico...   \n",
              "Aston Martin DB4  ['Rodas de liga', '4 X 4', 'Central multimídia...   \n",
              "\n",
              "                      Valor     Km_media  \n",
              "Nome                                      \n",
              "Jetta Variant      88078.64  2775.625000  \n",
              "Passat            106161.94   204.000000  \n",
              "Crossfox           72832.16  1280.103448  \n",
              "DS5               124549.07     0.000000  \n",
              "Aston Martin DB4   92612.10  1981.307692  "
            ]
          },
          "metadata": {
            "tags": []
          },
          "execution_count": 211
        }
      ]
    },
    {
      "cell_type": "code",
      "metadata": {
        "scrolled": true,
        "id": "fTH2JkGDD1Bf",
        "colab_type": "code",
        "colab": {
          "base_uri": "https://localhost:8080/",
          "height": 1000
        },
        "outputId": "dcf4e3c3-4a6d-4660-f448-f34b1ac2e9ed"
      },
      "source": [
        "dataset.query('Zero_km == True')"
      ],
      "execution_count": 212,
      "outputs": [
        {
          "output_type": "execute_result",
          "data": {
            "text/html": [
              "<div>\n",
              "<style scoped>\n",
              "    .dataframe tbody tr th:only-of-type {\n",
              "        vertical-align: middle;\n",
              "    }\n",
              "\n",
              "    .dataframe tbody tr th {\n",
              "        vertical-align: top;\n",
              "    }\n",
              "\n",
              "    .dataframe thead th {\n",
              "        text-align: right;\n",
              "    }\n",
              "</style>\n",
              "<table border=\"1\" class=\"dataframe\">\n",
              "  <thead>\n",
              "    <tr style=\"text-align: right;\">\n",
              "      <th></th>\n",
              "      <th>Motor</th>\n",
              "      <th>Ano</th>\n",
              "      <th>Quilometragem</th>\n",
              "      <th>Zero_km</th>\n",
              "      <th>Acessórios</th>\n",
              "      <th>Valor</th>\n",
              "      <th>Km_media</th>\n",
              "    </tr>\n",
              "    <tr>\n",
              "      <th>Nome</th>\n",
              "      <th></th>\n",
              "      <th></th>\n",
              "      <th></th>\n",
              "      <th></th>\n",
              "      <th></th>\n",
              "      <th></th>\n",
              "      <th></th>\n",
              "    </tr>\n",
              "  </thead>\n",
              "  <tbody>\n",
              "    <tr>\n",
              "      <th>DS5</th>\n",
              "      <td>Motor 2.4 Turbo</td>\n",
              "      <td>2019</td>\n",
              "      <td>0.0</td>\n",
              "      <td>True</td>\n",
              "      <td>['Travas elétricas', '4 X 4', 'Vidros elétrico...</td>\n",
              "      <td>124549.07</td>\n",
              "      <td>0.0</td>\n",
              "    </tr>\n",
              "    <tr>\n",
              "      <th>A5</th>\n",
              "      <td>Motor 4.0 Turbo</td>\n",
              "      <td>2019</td>\n",
              "      <td>0.0</td>\n",
              "      <td>True</td>\n",
              "      <td>['Câmbio automático', 'Câmera de estacionament...</td>\n",
              "      <td>56445.20</td>\n",
              "      <td>0.0</td>\n",
              "    </tr>\n",
              "    <tr>\n",
              "      <th>J5</th>\n",
              "      <td>Motor V6</td>\n",
              "      <td>2019</td>\n",
              "      <td>0.0</td>\n",
              "      <td>True</td>\n",
              "      <td>['Sensor crepuscular', 'Painel digital', 'Roda...</td>\n",
              "      <td>53183.38</td>\n",
              "      <td>0.0</td>\n",
              "    </tr>\n",
              "    <tr>\n",
              "      <th>A3</th>\n",
              "      <td>Motor 1.0 8v</td>\n",
              "      <td>2019</td>\n",
              "      <td>0.0</td>\n",
              "      <td>True</td>\n",
              "      <td>['4 X 4', 'Piloto automático', 'Central multim...</td>\n",
              "      <td>88552.39</td>\n",
              "      <td>0.0</td>\n",
              "    </tr>\n",
              "    <tr>\n",
              "      <th>Série 1 M</th>\n",
              "      <td>Motor V8</td>\n",
              "      <td>2019</td>\n",
              "      <td>0.0</td>\n",
              "      <td>True</td>\n",
              "      <td>['Controle de estabilidade', 'Central multimíd...</td>\n",
              "      <td>94564.40</td>\n",
              "      <td>0.0</td>\n",
              "    </tr>\n",
              "    <tr>\n",
              "      <th>Lamborghini Murciélago</th>\n",
              "      <td>Motor 5.0 V8 Bi-Turbo</td>\n",
              "      <td>2019</td>\n",
              "      <td>0.0</td>\n",
              "      <td>True</td>\n",
              "      <td>['Freios ABS', 'Câmbio automático', 'Ar condic...</td>\n",
              "      <td>121596.21</td>\n",
              "      <td>0.0</td>\n",
              "    </tr>\n",
              "    <tr>\n",
              "      <th>Up!</th>\n",
              "      <td>Motor Diesel V6</td>\n",
              "      <td>2019</td>\n",
              "      <td>0.0</td>\n",
              "      <td>True</td>\n",
              "      <td>['Sensor de estacionamento', 'Vidros elétricos...</td>\n",
              "      <td>71367.10</td>\n",
              "      <td>0.0</td>\n",
              "    </tr>\n",
              "    <tr>\n",
              "      <th>Sandero Stepway</th>\n",
              "      <td>Motor 3.0 32v</td>\n",
              "      <td>2019</td>\n",
              "      <td>0.0</td>\n",
              "      <td>True</td>\n",
              "      <td>['Freios ABS', 'Ar condicionado', 'Teto panorâ...</td>\n",
              "      <td>105432.84</td>\n",
              "      <td>0.0</td>\n",
              "    </tr>\n",
              "    <tr>\n",
              "      <th>Pajero TR4</th>\n",
              "      <td>Motor 2.4 Turbo</td>\n",
              "      <td>2019</td>\n",
              "      <td>0.0</td>\n",
              "      <td>True</td>\n",
              "      <td>['Controle de tração', 'Bancos de couro', 'Câm...</td>\n",
              "      <td>51606.59</td>\n",
              "      <td>0.0</td>\n",
              "    </tr>\n",
              "    <tr>\n",
              "      <th>Polo Sedan</th>\n",
              "      <td>Motor V6</td>\n",
              "      <td>2019</td>\n",
              "      <td>0.0</td>\n",
              "      <td>True</td>\n",
              "      <td>['Sensor de chuva', 'Sensor crepuscular', 'Ar ...</td>\n",
              "      <td>123281.87</td>\n",
              "      <td>0.0</td>\n",
              "    </tr>\n",
              "    <tr>\n",
              "      <th>S60</th>\n",
              "      <td>Motor 2.4 Turbo</td>\n",
              "      <td>2019</td>\n",
              "      <td>0.0</td>\n",
              "      <td>True</td>\n",
              "      <td>['Teto panorâmico', 'Freios ABS', '4 X 4', 'Ar...</td>\n",
              "      <td>102609.54</td>\n",
              "      <td>0.0</td>\n",
              "    </tr>\n",
              "    <tr>\n",
              "      <th>Optima</th>\n",
              "      <td>Motor 1.8 16v</td>\n",
              "      <td>2019</td>\n",
              "      <td>0.0</td>\n",
              "      <td>True</td>\n",
              "      <td>['Central multimídia', 'Ar condicionado', 'Tet...</td>\n",
              "      <td>86641.34</td>\n",
              "      <td>0.0</td>\n",
              "    </tr>\n",
              "    <tr>\n",
              "      <th>Range Rover Vogue</th>\n",
              "      <td>Motor 1.0 8v</td>\n",
              "      <td>2019</td>\n",
              "      <td>0.0</td>\n",
              "      <td>True</td>\n",
              "      <td>['4 X 4', 'Vidros elétricos', 'Rodas de liga',...</td>\n",
              "      <td>117626.73</td>\n",
              "      <td>0.0</td>\n",
              "    </tr>\n",
              "    <tr>\n",
              "      <th>CR-V</th>\n",
              "      <td>Motor Diesel V8</td>\n",
              "      <td>2019</td>\n",
              "      <td>0.0</td>\n",
              "      <td>True</td>\n",
              "      <td>['Câmbio automático', 'Central multimídia', 'V...</td>\n",
              "      <td>64701.10</td>\n",
              "      <td>0.0</td>\n",
              "    </tr>\n",
              "    <tr>\n",
              "      <th>CLA</th>\n",
              "      <td>Motor 1.0 8v</td>\n",
              "      <td>2019</td>\n",
              "      <td>0.0</td>\n",
              "      <td>True</td>\n",
              "      <td>['Central multimídia', 'Sensor de chuva', 'Con...</td>\n",
              "      <td>133329.19</td>\n",
              "      <td>0.0</td>\n",
              "    </tr>\n",
              "    <tr>\n",
              "      <th>Accord</th>\n",
              "      <td>Motor V8</td>\n",
              "      <td>2019</td>\n",
              "      <td>0.0</td>\n",
              "      <td>True</td>\n",
              "      <td>['Sensor de estacionamento', 'Ar condicionado'...</td>\n",
              "      <td>131961.43</td>\n",
              "      <td>0.0</td>\n",
              "    </tr>\n",
              "    <tr>\n",
              "      <th>EXTRA 103EX</th>\n",
              "      <td>Motor 2.0 16v</td>\n",
              "      <td>2019</td>\n",
              "      <td>0.0</td>\n",
              "      <td>True</td>\n",
              "      <td>['Sensor de estacionamento', 'Central multimíd...</td>\n",
              "      <td>112033.27</td>\n",
              "      <td>0.0</td>\n",
              "    </tr>\n",
              "    <tr>\n",
              "      <th>Sorento</th>\n",
              "      <td>Motor Diesel</td>\n",
              "      <td>2019</td>\n",
              "      <td>0.0</td>\n",
              "      <td>True</td>\n",
              "      <td>['Sensor de chuva', 'Câmera de estacionamento'...</td>\n",
              "      <td>81399.35</td>\n",
              "      <td>0.0</td>\n",
              "    </tr>\n",
              "    <tr>\n",
              "      <th>Tiggo</th>\n",
              "      <td>Motor 3.0 32v</td>\n",
              "      <td>2019</td>\n",
              "      <td>0.0</td>\n",
              "      <td>True</td>\n",
              "      <td>['Câmera de estacionamento', 'Freios ABS', 'Pi...</td>\n",
              "      <td>97163.10</td>\n",
              "      <td>0.0</td>\n",
              "    </tr>\n",
              "    <tr>\n",
              "      <th>Touareg</th>\n",
              "      <td>Motor V8</td>\n",
              "      <td>2019</td>\n",
              "      <td>0.0</td>\n",
              "      <td>True</td>\n",
              "      <td>['Controle de estabilidade', 'Piloto automátic...</td>\n",
              "      <td>66526.61</td>\n",
              "      <td>0.0</td>\n",
              "    </tr>\n",
              "    <tr>\n",
              "      <th>Lancer Evolution X</th>\n",
              "      <td>Motor Diesel V6</td>\n",
              "      <td>2019</td>\n",
              "      <td>0.0</td>\n",
              "      <td>True</td>\n",
              "      <td>['Vidros elétricos', 'Câmbio automático', 'Con...</td>\n",
              "      <td>142392.75</td>\n",
              "      <td>0.0</td>\n",
              "    </tr>\n",
              "    <tr>\n",
              "      <th>Cielo Hatch</th>\n",
              "      <td>Motor Diesel</td>\n",
              "      <td>2019</td>\n",
              "      <td>0.0</td>\n",
              "      <td>True</td>\n",
              "      <td>['Painel digital', 'Central multimídia', 'Câme...</td>\n",
              "      <td>145197.70</td>\n",
              "      <td>0.0</td>\n",
              "    </tr>\n",
              "    <tr>\n",
              "      <th>Livina</th>\n",
              "      <td>Motor 2.0 16v</td>\n",
              "      <td>2019</td>\n",
              "      <td>0.0</td>\n",
              "      <td>True</td>\n",
              "      <td>['Sensor crepuscular', 'Câmera de estacionamen...</td>\n",
              "      <td>50742.10</td>\n",
              "      <td>0.0</td>\n",
              "    </tr>\n",
              "    <tr>\n",
              "      <th>Hilux</th>\n",
              "      <td>Motor 5.0 V8 Bi-Turbo</td>\n",
              "      <td>2019</td>\n",
              "      <td>0.0</td>\n",
              "      <td>True</td>\n",
              "      <td>['4 X 4', 'Piloto automático', 'Teto panorâmic...</td>\n",
              "      <td>64507.72</td>\n",
              "      <td>0.0</td>\n",
              "    </tr>\n",
              "    <tr>\n",
              "      <th>Grand Siena</th>\n",
              "      <td>Motor Diesel V8</td>\n",
              "      <td>2019</td>\n",
              "      <td>0.0</td>\n",
              "      <td>True</td>\n",
              "      <td>['Bancos de couro', 'Painel digital', 'Sensor ...</td>\n",
              "      <td>115075.59</td>\n",
              "      <td>0.0</td>\n",
              "    </tr>\n",
              "    <tr>\n",
              "      <th>Fusion</th>\n",
              "      <td>Motor 1.8 16v</td>\n",
              "      <td>2019</td>\n",
              "      <td>0.0</td>\n",
              "      <td>True</td>\n",
              "      <td>['Controle de tração', 'Câmbio automático', 'F...</td>\n",
              "      <td>100380.28</td>\n",
              "      <td>0.0</td>\n",
              "    </tr>\n",
              "    <tr>\n",
              "      <th>Face</th>\n",
              "      <td>Motor V8</td>\n",
              "      <td>2019</td>\n",
              "      <td>0.0</td>\n",
              "      <td>True</td>\n",
              "      <td>['Controle de estabilidade', 'Vidros elétricos...</td>\n",
              "      <td>93227.73</td>\n",
              "      <td>0.0</td>\n",
              "    </tr>\n",
              "    <tr>\n",
              "      <th>A8</th>\n",
              "      <td>Motor 2.0 16v</td>\n",
              "      <td>2019</td>\n",
              "      <td>0.0</td>\n",
              "      <td>True</td>\n",
              "      <td>['Painel digital', 'Teto panorâmico', 'Piloto ...</td>\n",
              "      <td>122016.42</td>\n",
              "      <td>0.0</td>\n",
              "    </tr>\n",
              "    <tr>\n",
              "      <th>Q3</th>\n",
              "      <td>Motor 3.0 32v</td>\n",
              "      <td>2019</td>\n",
              "      <td>0.0</td>\n",
              "      <td>True</td>\n",
              "      <td>['Controle de estabilidade', 'Bancos de couro'...</td>\n",
              "      <td>114727.68</td>\n",
              "      <td>0.0</td>\n",
              "    </tr>\n",
              "    <tr>\n",
              "      <th>Z4 Roadster</th>\n",
              "      <td>Motor 3.0 32v</td>\n",
              "      <td>2019</td>\n",
              "      <td>0.0</td>\n",
              "      <td>True</td>\n",
              "      <td>['Central multimídia', 'Câmbio automático', 'T...</td>\n",
              "      <td>80382.24</td>\n",
              "      <td>0.0</td>\n",
              "    </tr>\n",
              "    <tr>\n",
              "      <th>Lamborghini Ferruccio</th>\n",
              "      <td>Motor 3.0 32v</td>\n",
              "      <td>2019</td>\n",
              "      <td>0.0</td>\n",
              "      <td>True</td>\n",
              "      <td>['Vidros elétricos', 'Piloto automático', 'Tet...</td>\n",
              "      <td>149157.17</td>\n",
              "      <td>0.0</td>\n",
              "    </tr>\n",
              "    <tr>\n",
              "      <th>Camry</th>\n",
              "      <td>Motor Diesel</td>\n",
              "      <td>2019</td>\n",
              "      <td>0.0</td>\n",
              "      <td>True</td>\n",
              "      <td>['Travas elétricas', 'Rodas de liga', 'Sensor ...</td>\n",
              "      <td>138597.27</td>\n",
              "      <td>0.0</td>\n",
              "    </tr>\n",
              "    <tr>\n",
              "      <th>R8 GT</th>\n",
              "      <td>Motor 4.0 Turbo</td>\n",
              "      <td>2019</td>\n",
              "      <td>0.0</td>\n",
              "      <td>True</td>\n",
              "      <td>['Rodas de liga', 'Câmbio automático', 'Sensor...</td>\n",
              "      <td>62999.02</td>\n",
              "      <td>0.0</td>\n",
              "    </tr>\n",
              "    <tr>\n",
              "      <th>Classe CL</th>\n",
              "      <td>Motor V8</td>\n",
              "      <td>2019</td>\n",
              "      <td>0.0</td>\n",
              "      <td>True</td>\n",
              "      <td>['Central multimídia', 'Câmbio automático', '4...</td>\n",
              "      <td>58525.41</td>\n",
              "      <td>0.0</td>\n",
              "    </tr>\n",
              "    <tr>\n",
              "      <th>Aston Martin Cygnet</th>\n",
              "      <td>Motor 5.0 V8 Bi-Turbo</td>\n",
              "      <td>2019</td>\n",
              "      <td>0.0</td>\n",
              "      <td>True</td>\n",
              "      <td>['Painel digital', 'Ar condicionado', 'Sensor ...</td>\n",
              "      <td>147770.87</td>\n",
              "      <td>0.0</td>\n",
              "    </tr>\n",
              "    <tr>\n",
              "      <th>Lamborghini Veneno</th>\n",
              "      <td>Motor 3.0 32v</td>\n",
              "      <td>2019</td>\n",
              "      <td>0.0</td>\n",
              "      <td>True</td>\n",
              "      <td>['4 X 4', 'Sensor de estacionamento', 'Câmbio ...</td>\n",
              "      <td>104038.79</td>\n",
              "      <td>0.0</td>\n",
              "    </tr>\n",
              "    <tr>\n",
              "      <th>i30</th>\n",
              "      <td>Motor 1.8 16v</td>\n",
              "      <td>2019</td>\n",
              "      <td>0.0</td>\n",
              "      <td>True</td>\n",
              "      <td>['Câmbio automático', 'Controle de estabilidad...</td>\n",
              "      <td>86224.10</td>\n",
              "      <td>0.0</td>\n",
              "    </tr>\n",
              "    <tr>\n",
              "      <th>Voyage</th>\n",
              "      <td>Motor 5.0 V8 Bi-Turbo</td>\n",
              "      <td>2019</td>\n",
              "      <td>0.0</td>\n",
              "      <td>True</td>\n",
              "      <td>['Ar condicionado', 'Sensor de estacionamento'...</td>\n",
              "      <td>148996.47</td>\n",
              "      <td>0.0</td>\n",
              "    </tr>\n",
              "    <tr>\n",
              "      <th>Phantom I Phantom II</th>\n",
              "      <td>Motor 1.8 16v</td>\n",
              "      <td>2019</td>\n",
              "      <td>0.0</td>\n",
              "      <td>True</td>\n",
              "      <td>['Piloto automático', 'Freios ABS', 'Painel di...</td>\n",
              "      <td>60948.01</td>\n",
              "      <td>0.0</td>\n",
              "    </tr>\n",
              "    <tr>\n",
              "      <th>308 CC</th>\n",
              "      <td>Motor 4.0 Turbo</td>\n",
              "      <td>2019</td>\n",
              "      <td>0.0</td>\n",
              "      <td>True</td>\n",
              "      <td>['Câmera de estacionamento', 'Bancos de couro'...</td>\n",
              "      <td>146405.79</td>\n",
              "      <td>0.0</td>\n",
              "    </tr>\n",
              "    <tr>\n",
              "      <th>L200 Triton</th>\n",
              "      <td>Motor Diesel V8</td>\n",
              "      <td>2019</td>\n",
              "      <td>0.0</td>\n",
              "      <td>True</td>\n",
              "      <td>['Vidros elétricos', 'Ar condicionado', 'Paine...</td>\n",
              "      <td>81999.21</td>\n",
              "      <td>0.0</td>\n",
              "    </tr>\n",
              "    <tr>\n",
              "      <th>Classe SLK</th>\n",
              "      <td>Motor 4.0 Turbo</td>\n",
              "      <td>2019</td>\n",
              "      <td>0.0</td>\n",
              "      <td>True</td>\n",
              "      <td>['4 X 4', 'Sensor de estacionamento', 'Control...</td>\n",
              "      <td>124156.65</td>\n",
              "      <td>0.0</td>\n",
              "    </tr>\n",
              "    <tr>\n",
              "      <th>C3 Picasso</th>\n",
              "      <td>Motor 3.0 32v</td>\n",
              "      <td>2019</td>\n",
              "      <td>0.0</td>\n",
              "      <td>True</td>\n",
              "      <td>['Teto panorâmico', 'Sensor crepuscular', 'Sen...</td>\n",
              "      <td>56453.94</td>\n",
              "      <td>0.0</td>\n",
              "    </tr>\n",
              "    <tr>\n",
              "      <th>Classe S</th>\n",
              "      <td>Motor 3.0 32v</td>\n",
              "      <td>2019</td>\n",
              "      <td>0.0</td>\n",
              "      <td>True</td>\n",
              "      <td>['Controle de tração', 'Teto panorâmico', 'Câm...</td>\n",
              "      <td>89401.10</td>\n",
              "      <td>0.0</td>\n",
              "    </tr>\n",
              "    <tr>\n",
              "      <th>T6</th>\n",
              "      <td>Motor 3.0 32v</td>\n",
              "      <td>2019</td>\n",
              "      <td>0.0</td>\n",
              "      <td>True</td>\n",
              "      <td>['Sensor de chuva', 'Câmera de estacionamento'...</td>\n",
              "      <td>56842.79</td>\n",
              "      <td>0.0</td>\n",
              "    </tr>\n",
              "    <tr>\n",
              "      <th>Aston Martin Virage</th>\n",
              "      <td>Motor Diesel</td>\n",
              "      <td>2019</td>\n",
              "      <td>0.0</td>\n",
              "      <td>True</td>\n",
              "      <td>['Travas elétricas', 'Controle de tração', 'Câ...</td>\n",
              "      <td>97290.18</td>\n",
              "      <td>0.0</td>\n",
              "    </tr>\n",
              "    <tr>\n",
              "      <th>Vantage Volante</th>\n",
              "      <td>Motor Diesel V8</td>\n",
              "      <td>2019</td>\n",
              "      <td>0.0</td>\n",
              "      <td>True</td>\n",
              "      <td>['Freios ABS', 'Controle de tração', 'Central ...</td>\n",
              "      <td>114434.94</td>\n",
              "      <td>0.0</td>\n",
              "    </tr>\n",
              "    <tr>\n",
              "      <th>J3 Turin</th>\n",
              "      <td>Motor V6</td>\n",
              "      <td>2019</td>\n",
              "      <td>0.0</td>\n",
              "      <td>True</td>\n",
              "      <td>['Sensor crepuscular', 'Câmera de estacionamen...</td>\n",
              "      <td>127024.75</td>\n",
              "      <td>0.0</td>\n",
              "    </tr>\n",
              "    <tr>\n",
              "      <th>Classe B</th>\n",
              "      <td>Motor Diesel V8</td>\n",
              "      <td>2019</td>\n",
              "      <td>0.0</td>\n",
              "      <td>True</td>\n",
              "      <td>['4 X 4', 'Bancos de couro', 'Sensor crepuscul...</td>\n",
              "      <td>135543.00</td>\n",
              "      <td>0.0</td>\n",
              "    </tr>\n",
              "    <tr>\n",
              "      <th>Parati</th>\n",
              "      <td>Motor Diesel V8</td>\n",
              "      <td>2019</td>\n",
              "      <td>0.0</td>\n",
              "      <td>True</td>\n",
              "      <td>['Sensor de estacionamento', 'Piloto automátic...</td>\n",
              "      <td>121708.73</td>\n",
              "      <td>0.0</td>\n",
              "    </tr>\n",
              "    <tr>\n",
              "      <th>Sedan</th>\n",
              "      <td>Motor V8</td>\n",
              "      <td>2019</td>\n",
              "      <td>0.0</td>\n",
              "      <td>True</td>\n",
              "      <td>['Bancos de couro', 'Central multimídia', 'Fre...</td>\n",
              "      <td>57888.10</td>\n",
              "      <td>0.0</td>\n",
              "    </tr>\n",
              "    <tr>\n",
              "      <th>Aston Martin V12 Vantage</th>\n",
              "      <td>Motor V8</td>\n",
              "      <td>2019</td>\n",
              "      <td>0.0</td>\n",
              "      <td>True</td>\n",
              "      <td>['Bancos de couro', 'Central multimídia', 'Con...</td>\n",
              "      <td>128396.11</td>\n",
              "      <td>0.0</td>\n",
              "    </tr>\n",
              "    <tr>\n",
              "      <th>Partner</th>\n",
              "      <td>Motor 2.4 Turbo</td>\n",
              "      <td>2019</td>\n",
              "      <td>0.0</td>\n",
              "      <td>True</td>\n",
              "      <td>['Central multimídia', 'Controle de tração', '...</td>\n",
              "      <td>114531.74</td>\n",
              "      <td>0.0</td>\n",
              "    </tr>\n",
              "    <tr>\n",
              "      <th>Chana Family</th>\n",
              "      <td>Motor V8</td>\n",
              "      <td>2019</td>\n",
              "      <td>0.0</td>\n",
              "      <td>True</td>\n",
              "      <td>['Piloto automático', 'Teto panorâmico', 'Sens...</td>\n",
              "      <td>115760.17</td>\n",
              "      <td>0.0</td>\n",
              "    </tr>\n",
              "    <tr>\n",
              "      <th>A3 Sedan</th>\n",
              "      <td>Motor V6</td>\n",
              "      <td>2019</td>\n",
              "      <td>0.0</td>\n",
              "      <td>True</td>\n",
              "      <td>['Ar condicionado', 'Sensor de chuva', 'Travas...</td>\n",
              "      <td>90141.47</td>\n",
              "      <td>0.0</td>\n",
              "    </tr>\n",
              "    <tr>\n",
              "      <th>Série 7 Sedã</th>\n",
              "      <td>Motor Diesel</td>\n",
              "      <td>2019</td>\n",
              "      <td>0.0</td>\n",
              "      <td>True</td>\n",
              "      <td>['Vidros elétricos', 'Travas elétricas', 'Roda...</td>\n",
              "      <td>67539.79</td>\n",
              "      <td>0.0</td>\n",
              "    </tr>\n",
              "    <tr>\n",
              "      <th>Lamborghini Reventón</th>\n",
              "      <td>Motor 4.0 Turbo</td>\n",
              "      <td>2019</td>\n",
              "      <td>0.0</td>\n",
              "      <td>True</td>\n",
              "      <td>['Controle de tração', 'Ar condicionado', 'Cen...</td>\n",
              "      <td>67664.86</td>\n",
              "      <td>0.0</td>\n",
              "    </tr>\n",
              "    <tr>\n",
              "      <th>Benni Mini</th>\n",
              "      <td>Motor V8</td>\n",
              "      <td>2019</td>\n",
              "      <td>0.0</td>\n",
              "      <td>True</td>\n",
              "      <td>['Sensor crepuscular', 'Câmbio automático', 'C...</td>\n",
              "      <td>126247.84</td>\n",
              "      <td>0.0</td>\n",
              "    </tr>\n",
              "    <tr>\n",
              "      <th>Uno</th>\n",
              "      <td>Motor Diesel V6</td>\n",
              "      <td>2019</td>\n",
              "      <td>0.0</td>\n",
              "      <td>True</td>\n",
              "      <td>['Central multimídia', 'Sensor crepuscular', '...</td>\n",
              "      <td>128852.21</td>\n",
              "      <td>0.0</td>\n",
              "    </tr>\n",
              "    <tr>\n",
              "      <th>Santa Fe</th>\n",
              "      <td>Motor 3.0 32v</td>\n",
              "      <td>2019</td>\n",
              "      <td>0.0</td>\n",
              "      <td>True</td>\n",
              "      <td>['Travas elétricas', 'Ar condicionado', '4 X 4...</td>\n",
              "      <td>129415.33</td>\n",
              "      <td>0.0</td>\n",
              "    </tr>\n",
              "    <tr>\n",
              "      <th>XC60</th>\n",
              "      <td>Motor 4.0 Turbo</td>\n",
              "      <td>2019</td>\n",
              "      <td>0.0</td>\n",
              "      <td>True</td>\n",
              "      <td>['Painel digital', 'Piloto automático', 'Centr...</td>\n",
              "      <td>77675.79</td>\n",
              "      <td>0.0</td>\n",
              "    </tr>\n",
              "  </tbody>\n",
              "</table>\n",
              "</div>"
            ],
            "text/plain": [
              "                                          Motor   Ano  Quilometragem  Zero_km  \\\n",
              "Nome                                                                            \n",
              "DS5                             Motor 2.4 Turbo  2019            0.0     True   \n",
              "A5                              Motor 4.0 Turbo  2019            0.0     True   \n",
              "J5                                     Motor V6  2019            0.0     True   \n",
              "A3                                 Motor 1.0 8v  2019            0.0     True   \n",
              "Série 1 M                              Motor V8  2019            0.0     True   \n",
              "Lamborghini Murciélago    Motor 5.0 V8 Bi-Turbo  2019            0.0     True   \n",
              "Up!                             Motor Diesel V6  2019            0.0     True   \n",
              "Sandero Stepway                   Motor 3.0 32v  2019            0.0     True   \n",
              "Pajero TR4                      Motor 2.4 Turbo  2019            0.0     True   \n",
              "Polo Sedan                             Motor V6  2019            0.0     True   \n",
              "S60                             Motor 2.4 Turbo  2019            0.0     True   \n",
              "Optima                            Motor 1.8 16v  2019            0.0     True   \n",
              "Range Rover Vogue                  Motor 1.0 8v  2019            0.0     True   \n",
              "CR-V                            Motor Diesel V8  2019            0.0     True   \n",
              "CLA                                Motor 1.0 8v  2019            0.0     True   \n",
              "Accord                                 Motor V8  2019            0.0     True   \n",
              "EXTRA 103EX                       Motor 2.0 16v  2019            0.0     True   \n",
              "Sorento                            Motor Diesel  2019            0.0     True   \n",
              "Tiggo                             Motor 3.0 32v  2019            0.0     True   \n",
              "Touareg                                Motor V8  2019            0.0     True   \n",
              "Lancer Evolution X              Motor Diesel V6  2019            0.0     True   \n",
              "Cielo Hatch                        Motor Diesel  2019            0.0     True   \n",
              "Livina                            Motor 2.0 16v  2019            0.0     True   \n",
              "Hilux                     Motor 5.0 V8 Bi-Turbo  2019            0.0     True   \n",
              "Grand Siena                     Motor Diesel V8  2019            0.0     True   \n",
              "Fusion                            Motor 1.8 16v  2019            0.0     True   \n",
              "Face                                   Motor V8  2019            0.0     True   \n",
              "A8                                Motor 2.0 16v  2019            0.0     True   \n",
              "Q3                                Motor 3.0 32v  2019            0.0     True   \n",
              "Z4 Roadster                       Motor 3.0 32v  2019            0.0     True   \n",
              "Lamborghini Ferruccio             Motor 3.0 32v  2019            0.0     True   \n",
              "Camry                              Motor Diesel  2019            0.0     True   \n",
              "R8 GT                           Motor 4.0 Turbo  2019            0.0     True   \n",
              "Classe CL                              Motor V8  2019            0.0     True   \n",
              "Aston Martin Cygnet       Motor 5.0 V8 Bi-Turbo  2019            0.0     True   \n",
              "Lamborghini Veneno                Motor 3.0 32v  2019            0.0     True   \n",
              "i30                               Motor 1.8 16v  2019            0.0     True   \n",
              "Voyage                    Motor 5.0 V8 Bi-Turbo  2019            0.0     True   \n",
              "Phantom I Phantom II              Motor 1.8 16v  2019            0.0     True   \n",
              "308 CC                          Motor 4.0 Turbo  2019            0.0     True   \n",
              "L200 Triton                     Motor Diesel V8  2019            0.0     True   \n",
              "Classe SLK                      Motor 4.0 Turbo  2019            0.0     True   \n",
              "C3 Picasso                        Motor 3.0 32v  2019            0.0     True   \n",
              "Classe S                          Motor 3.0 32v  2019            0.0     True   \n",
              "T6                                Motor 3.0 32v  2019            0.0     True   \n",
              "Aston Martin Virage                Motor Diesel  2019            0.0     True   \n",
              "Vantage Volante                 Motor Diesel V8  2019            0.0     True   \n",
              "J3 Turin                               Motor V6  2019            0.0     True   \n",
              "Classe B                        Motor Diesel V8  2019            0.0     True   \n",
              "Parati                          Motor Diesel V8  2019            0.0     True   \n",
              "Sedan                                  Motor V8  2019            0.0     True   \n",
              "Aston Martin V12 Vantage               Motor V8  2019            0.0     True   \n",
              "Partner                         Motor 2.4 Turbo  2019            0.0     True   \n",
              "Chana Family                           Motor V8  2019            0.0     True   \n",
              "A3 Sedan                               Motor V6  2019            0.0     True   \n",
              "Série 7 Sedã                       Motor Diesel  2019            0.0     True   \n",
              "Lamborghini Reventón            Motor 4.0 Turbo  2019            0.0     True   \n",
              "Benni Mini                             Motor V8  2019            0.0     True   \n",
              "Uno                             Motor Diesel V6  2019            0.0     True   \n",
              "Santa Fe                          Motor 3.0 32v  2019            0.0     True   \n",
              "XC60                            Motor 4.0 Turbo  2019            0.0     True   \n",
              "\n",
              "                                                                 Acessórios  \\\n",
              "Nome                                                                          \n",
              "DS5                       ['Travas elétricas', '4 X 4', 'Vidros elétrico...   \n",
              "A5                        ['Câmbio automático', 'Câmera de estacionament...   \n",
              "J5                        ['Sensor crepuscular', 'Painel digital', 'Roda...   \n",
              "A3                        ['4 X 4', 'Piloto automático', 'Central multim...   \n",
              "Série 1 M                 ['Controle de estabilidade', 'Central multimíd...   \n",
              "Lamborghini Murciélago    ['Freios ABS', 'Câmbio automático', 'Ar condic...   \n",
              "Up!                       ['Sensor de estacionamento', 'Vidros elétricos...   \n",
              "Sandero Stepway           ['Freios ABS', 'Ar condicionado', 'Teto panorâ...   \n",
              "Pajero TR4                ['Controle de tração', 'Bancos de couro', 'Câm...   \n",
              "Polo Sedan                ['Sensor de chuva', 'Sensor crepuscular', 'Ar ...   \n",
              "S60                       ['Teto panorâmico', 'Freios ABS', '4 X 4', 'Ar...   \n",
              "Optima                    ['Central multimídia', 'Ar condicionado', 'Tet...   \n",
              "Range Rover Vogue         ['4 X 4', 'Vidros elétricos', 'Rodas de liga',...   \n",
              "CR-V                      ['Câmbio automático', 'Central multimídia', 'V...   \n",
              "CLA                       ['Central multimídia', 'Sensor de chuva', 'Con...   \n",
              "Accord                    ['Sensor de estacionamento', 'Ar condicionado'...   \n",
              "EXTRA 103EX               ['Sensor de estacionamento', 'Central multimíd...   \n",
              "Sorento                   ['Sensor de chuva', 'Câmera de estacionamento'...   \n",
              "Tiggo                     ['Câmera de estacionamento', 'Freios ABS', 'Pi...   \n",
              "Touareg                   ['Controle de estabilidade', 'Piloto automátic...   \n",
              "Lancer Evolution X        ['Vidros elétricos', 'Câmbio automático', 'Con...   \n",
              "Cielo Hatch               ['Painel digital', 'Central multimídia', 'Câme...   \n",
              "Livina                    ['Sensor crepuscular', 'Câmera de estacionamen...   \n",
              "Hilux                     ['4 X 4', 'Piloto automático', 'Teto panorâmic...   \n",
              "Grand Siena               ['Bancos de couro', 'Painel digital', 'Sensor ...   \n",
              "Fusion                    ['Controle de tração', 'Câmbio automático', 'F...   \n",
              "Face                      ['Controle de estabilidade', 'Vidros elétricos...   \n",
              "A8                        ['Painel digital', 'Teto panorâmico', 'Piloto ...   \n",
              "Q3                        ['Controle de estabilidade', 'Bancos de couro'...   \n",
              "Z4 Roadster               ['Central multimídia', 'Câmbio automático', 'T...   \n",
              "Lamborghini Ferruccio     ['Vidros elétricos', 'Piloto automático', 'Tet...   \n",
              "Camry                     ['Travas elétricas', 'Rodas de liga', 'Sensor ...   \n",
              "R8 GT                     ['Rodas de liga', 'Câmbio automático', 'Sensor...   \n",
              "Classe CL                 ['Central multimídia', 'Câmbio automático', '4...   \n",
              "Aston Martin Cygnet       ['Painel digital', 'Ar condicionado', 'Sensor ...   \n",
              "Lamborghini Veneno        ['4 X 4', 'Sensor de estacionamento', 'Câmbio ...   \n",
              "i30                       ['Câmbio automático', 'Controle de estabilidad...   \n",
              "Voyage                    ['Ar condicionado', 'Sensor de estacionamento'...   \n",
              "Phantom I Phantom II      ['Piloto automático', 'Freios ABS', 'Painel di...   \n",
              "308 CC                    ['Câmera de estacionamento', 'Bancos de couro'...   \n",
              "L200 Triton               ['Vidros elétricos', 'Ar condicionado', 'Paine...   \n",
              "Classe SLK                ['4 X 4', 'Sensor de estacionamento', 'Control...   \n",
              "C3 Picasso                ['Teto panorâmico', 'Sensor crepuscular', 'Sen...   \n",
              "Classe S                  ['Controle de tração', 'Teto panorâmico', 'Câm...   \n",
              "T6                        ['Sensor de chuva', 'Câmera de estacionamento'...   \n",
              "Aston Martin Virage       ['Travas elétricas', 'Controle de tração', 'Câ...   \n",
              "Vantage Volante           ['Freios ABS', 'Controle de tração', 'Central ...   \n",
              "J3 Turin                  ['Sensor crepuscular', 'Câmera de estacionamen...   \n",
              "Classe B                  ['4 X 4', 'Bancos de couro', 'Sensor crepuscul...   \n",
              "Parati                    ['Sensor de estacionamento', 'Piloto automátic...   \n",
              "Sedan                     ['Bancos de couro', 'Central multimídia', 'Fre...   \n",
              "Aston Martin V12 Vantage  ['Bancos de couro', 'Central multimídia', 'Con...   \n",
              "Partner                   ['Central multimídia', 'Controle de tração', '...   \n",
              "Chana Family              ['Piloto automático', 'Teto panorâmico', 'Sens...   \n",
              "A3 Sedan                  ['Ar condicionado', 'Sensor de chuva', 'Travas...   \n",
              "Série 7 Sedã              ['Vidros elétricos', 'Travas elétricas', 'Roda...   \n",
              "Lamborghini Reventón      ['Controle de tração', 'Ar condicionado', 'Cen...   \n",
              "Benni Mini                ['Sensor crepuscular', 'Câmbio automático', 'C...   \n",
              "Uno                       ['Central multimídia', 'Sensor crepuscular', '...   \n",
              "Santa Fe                  ['Travas elétricas', 'Ar condicionado', '4 X 4...   \n",
              "XC60                      ['Painel digital', 'Piloto automático', 'Centr...   \n",
              "\n",
              "                              Valor  Km_media  \n",
              "Nome                                           \n",
              "DS5                       124549.07       0.0  \n",
              "A5                         56445.20       0.0  \n",
              "J5                         53183.38       0.0  \n",
              "A3                         88552.39       0.0  \n",
              "Série 1 M                  94564.40       0.0  \n",
              "Lamborghini Murciélago    121596.21       0.0  \n",
              "Up!                        71367.10       0.0  \n",
              "Sandero Stepway           105432.84       0.0  \n",
              "Pajero TR4                 51606.59       0.0  \n",
              "Polo Sedan                123281.87       0.0  \n",
              "S60                       102609.54       0.0  \n",
              "Optima                     86641.34       0.0  \n",
              "Range Rover Vogue         117626.73       0.0  \n",
              "CR-V                       64701.10       0.0  \n",
              "CLA                       133329.19       0.0  \n",
              "Accord                    131961.43       0.0  \n",
              "EXTRA 103EX               112033.27       0.0  \n",
              "Sorento                    81399.35       0.0  \n",
              "Tiggo                      97163.10       0.0  \n",
              "Touareg                    66526.61       0.0  \n",
              "Lancer Evolution X        142392.75       0.0  \n",
              "Cielo Hatch               145197.70       0.0  \n",
              "Livina                     50742.10       0.0  \n",
              "Hilux                      64507.72       0.0  \n",
              "Grand Siena               115075.59       0.0  \n",
              "Fusion                    100380.28       0.0  \n",
              "Face                       93227.73       0.0  \n",
              "A8                        122016.42       0.0  \n",
              "Q3                        114727.68       0.0  \n",
              "Z4 Roadster                80382.24       0.0  \n",
              "Lamborghini Ferruccio     149157.17       0.0  \n",
              "Camry                     138597.27       0.0  \n",
              "R8 GT                      62999.02       0.0  \n",
              "Classe CL                  58525.41       0.0  \n",
              "Aston Martin Cygnet       147770.87       0.0  \n",
              "Lamborghini Veneno        104038.79       0.0  \n",
              "i30                        86224.10       0.0  \n",
              "Voyage                    148996.47       0.0  \n",
              "Phantom I Phantom II       60948.01       0.0  \n",
              "308 CC                    146405.79       0.0  \n",
              "L200 Triton                81999.21       0.0  \n",
              "Classe SLK                124156.65       0.0  \n",
              "C3 Picasso                 56453.94       0.0  \n",
              "Classe S                   89401.10       0.0  \n",
              "T6                         56842.79       0.0  \n",
              "Aston Martin Virage        97290.18       0.0  \n",
              "Vantage Volante           114434.94       0.0  \n",
              "J3 Turin                  127024.75       0.0  \n",
              "Classe B                  135543.00       0.0  \n",
              "Parati                    121708.73       0.0  \n",
              "Sedan                      57888.10       0.0  \n",
              "Aston Martin V12 Vantage  128396.11       0.0  \n",
              "Partner                   114531.74       0.0  \n",
              "Chana Family              115760.17       0.0  \n",
              "A3 Sedan                   90141.47       0.0  \n",
              "Série 7 Sedã               67539.79       0.0  \n",
              "Lamborghini Reventón       67664.86       0.0  \n",
              "Benni Mini                126247.84       0.0  \n",
              "Uno                       128852.21       0.0  \n",
              "Santa Fe                  129415.33       0.0  \n",
              "XC60                       77675.79       0.0  "
            ]
          },
          "metadata": {
            "tags": []
          },
          "execution_count": 212
        }
      ]
    },
    {
      "cell_type": "code",
      "metadata": {
        "id": "lure2GvpD1Bg",
        "colab_type": "code",
        "colab": {}
      },
      "source": [
        "#refazendo o dataset\n",
        "dataset = pd.read_csv('db.csv', sep=';')"
      ],
      "execution_count": 214,
      "outputs": []
    },
    {
      "cell_type": "code",
      "metadata": {
        "id": "4-ZvhXjvD1Bj",
        "colab_type": "code",
        "colab": {}
      },
      "source": [
        "#caso eu quisesse excluir os registros faltantes\n",
        "dataset.dropna(subset = ['Quilometragem'], inplace=True)"
      ],
      "execution_count": 216,
      "outputs": []
    },
    {
      "cell_type": "code",
      "metadata": {
        "scrolled": true,
        "id": "MQUw7i1OD1Bk",
        "colab_type": "code",
        "colab": {
          "base_uri": "https://localhost:8080/",
          "height": 204
        },
        "outputId": "f9aa505b-363e-4f3b-df68-db1219ccb4a8"
      },
      "source": [
        "dataset.head()"
      ],
      "execution_count": 217,
      "outputs": [
        {
          "output_type": "execute_result",
          "data": {
            "text/html": [
              "<div>\n",
              "<style scoped>\n",
              "    .dataframe tbody tr th:only-of-type {\n",
              "        vertical-align: middle;\n",
              "    }\n",
              "\n",
              "    .dataframe tbody tr th {\n",
              "        vertical-align: top;\n",
              "    }\n",
              "\n",
              "    .dataframe thead th {\n",
              "        text-align: right;\n",
              "    }\n",
              "</style>\n",
              "<table border=\"1\" class=\"dataframe\">\n",
              "  <thead>\n",
              "    <tr style=\"text-align: right;\">\n",
              "      <th></th>\n",
              "      <th>Nome</th>\n",
              "      <th>Motor</th>\n",
              "      <th>Ano</th>\n",
              "      <th>Quilometragem</th>\n",
              "      <th>Zero_km</th>\n",
              "      <th>Acessórios</th>\n",
              "      <th>Valor</th>\n",
              "    </tr>\n",
              "  </thead>\n",
              "  <tbody>\n",
              "    <tr>\n",
              "      <th>0</th>\n",
              "      <td>Jetta Variant</td>\n",
              "      <td>Motor 4.0 Turbo</td>\n",
              "      <td>2003</td>\n",
              "      <td>44410.0</td>\n",
              "      <td>False</td>\n",
              "      <td>['Rodas de liga', 'Travas elétricas', 'Piloto ...</td>\n",
              "      <td>88078.64</td>\n",
              "    </tr>\n",
              "    <tr>\n",
              "      <th>1</th>\n",
              "      <td>Passat</td>\n",
              "      <td>Motor Diesel</td>\n",
              "      <td>1991</td>\n",
              "      <td>5712.0</td>\n",
              "      <td>False</td>\n",
              "      <td>['Central multimídia', 'Teto panorâmico', 'Fre...</td>\n",
              "      <td>106161.94</td>\n",
              "    </tr>\n",
              "    <tr>\n",
              "      <th>2</th>\n",
              "      <td>Crossfox</td>\n",
              "      <td>Motor Diesel V8</td>\n",
              "      <td>1990</td>\n",
              "      <td>37123.0</td>\n",
              "      <td>False</td>\n",
              "      <td>['Piloto automático', 'Controle de estabilidad...</td>\n",
              "      <td>72832.16</td>\n",
              "    </tr>\n",
              "    <tr>\n",
              "      <th>4</th>\n",
              "      <td>Aston Martin DB4</td>\n",
              "      <td>Motor 2.4 Turbo</td>\n",
              "      <td>2006</td>\n",
              "      <td>25757.0</td>\n",
              "      <td>False</td>\n",
              "      <td>['Rodas de liga', '4 X 4', 'Central multimídia...</td>\n",
              "      <td>92612.10</td>\n",
              "    </tr>\n",
              "    <tr>\n",
              "      <th>5</th>\n",
              "      <td>Palio Weekend</td>\n",
              "      <td>Motor 1.8 16v</td>\n",
              "      <td>2012</td>\n",
              "      <td>10728.0</td>\n",
              "      <td>False</td>\n",
              "      <td>['Sensor de estacionamento', 'Teto panorâmico'...</td>\n",
              "      <td>97497.73</td>\n",
              "    </tr>\n",
              "  </tbody>\n",
              "</table>\n",
              "</div>"
            ],
            "text/plain": [
              "               Nome            Motor   Ano  Quilometragem  Zero_km  \\\n",
              "0     Jetta Variant  Motor 4.0 Turbo  2003        44410.0    False   \n",
              "1            Passat     Motor Diesel  1991         5712.0    False   \n",
              "2          Crossfox  Motor Diesel V8  1990        37123.0    False   \n",
              "4  Aston Martin DB4  Motor 2.4 Turbo  2006        25757.0    False   \n",
              "5     Palio Weekend    Motor 1.8 16v  2012        10728.0    False   \n",
              "\n",
              "                                          Acessórios      Valor  \n",
              "0  ['Rodas de liga', 'Travas elétricas', 'Piloto ...   88078.64  \n",
              "1  ['Central multimídia', 'Teto panorâmico', 'Fre...  106161.94  \n",
              "2  ['Piloto automático', 'Controle de estabilidad...   72832.16  \n",
              "4  ['Rodas de liga', '4 X 4', 'Central multimídia...   92612.10  \n",
              "5  ['Sensor de estacionamento', 'Teto panorâmico'...   97497.73  "
            ]
          },
          "metadata": {
            "tags": []
          },
          "execution_count": 217
        }
      ]
    },
    {
      "cell_type": "code",
      "metadata": {
        "id": "U4Cse7miD1Bl",
        "colab_type": "code",
        "colab": {}
      },
      "source": [
        ""
      ],
      "execution_count": 135,
      "outputs": []
    },
    {
      "cell_type": "code",
      "metadata": {
        "scrolled": true,
        "id": "8L4wum05D1Bl",
        "colab_type": "code",
        "colab": {}
      },
      "source": [
        ""
      ],
      "execution_count": 135,
      "outputs": []
    },
    {
      "cell_type": "code",
      "metadata": {
        "id": "8iLOc-U3D1Bm",
        "colab_type": "code",
        "colab": {}
      },
      "source": [
        ""
      ],
      "execution_count": 135,
      "outputs": []
    }
  ]
}