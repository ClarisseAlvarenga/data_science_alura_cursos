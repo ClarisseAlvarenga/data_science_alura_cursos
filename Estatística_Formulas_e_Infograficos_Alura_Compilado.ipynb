{
  "nbformat": 4,
  "nbformat_minor": 0,
  "metadata": {
    "colab": {
      "name": "Estatística_Formulas_e_Infograficos_Alura_Compilado.ipynb",
      "provenance": []
    },
    "kernelspec": {
      "name": "python3",
      "display_name": "Python 3"
    }
  },
  "cells": [
    {
      "cell_type": "code",
      "metadata": {
        "id": "DdrhwroU6NpV",
        "colab_type": "code",
        "colab": {}
      },
      "source": [
        ""
      ],
      "execution_count": 0,
      "outputs": []
    },
    {
      "cell_type": "markdown",
      "metadata": {
        "id": "KsgpELED6ZMf",
        "colab_type": "text"
      },
      "source": [
        ""
      ]
    },
    {
      "cell_type": "markdown",
      "metadata": {
        "id": "oOPZgON76ZQr",
        "colab_type": "text"
      },
      "source": [
        ""
      ]
    },
    {
      "cell_type": "markdown",
      "metadata": {
        "id": "Uzc4SKmp6ZTx",
        "colab_type": "text"
      },
      "source": [
        ""
      ]
    },
    {
      "cell_type": "markdown",
      "metadata": {
        "id": "FLc44wkC6ZW-",
        "colab_type": "text"
      },
      "source": [
        ""
      ]
    },
    {
      "cell_type": "markdown",
      "metadata": {
        "id": "WoA-_8Gq6ZaT",
        "colab_type": "text"
      },
      "source": [
        ""
      ]
    },
    {
      "cell_type": "markdown",
      "metadata": {
        "id": "rkxN_rWQ6Zdz",
        "colab_type": "text"
      },
      "source": [
        "# TESTES DE HIPÓTESE"
      ]
    },
    {
      "cell_type": "markdown",
      "metadata": {
        "id": "YiATpFeC7XWM",
        "colab_type": "text"
      },
      "source": [
        "### **Passo 1** - formulação das hipóteses $H_0$ e $H_1$;\n",
        "\n",
        "> ### <font color='red'>Pontos importantes</font>\n",
        "> - De maneira geral, o alvo do estudo deve ser formulado como a hipótese alternativa $H_1$.\n",
        "> - A hipótese nula sempre afirma uma igualdade ou propriedade populacional, e $H_1$ a desigualdade que nega $H_0$.\n",
        "> - No caso da hipótese nula $H_0$ a igualdade pode ser representada por uma igualdade simples \"$=$\" ou por \"$\\geq$\" e \"$\\leq$\". Sempre complementar ao estabelecido pela hipótese alternativa.\n",
        "> - A hipótese alternativa $H_1$ deve definir uma desigualdade que pode ser uma diferença simples \"$\\neq$\" ou dos tipos \"$>$\" e \"$<$\".\n",
        "\n",
        "\n",
        "### **Passo 2** - escolha da distribuição amostral adequada;\n",
        "\n",
        "> ### <font color='red'>Pontos importantes</font>\n",
        "> - Quando o tamanho da amostra tiver 30 elementos ou mais, deve-se utilizar a distribuição normal, como estabelecido pelo **teorema do limite central**.\n",
        "> - Para um tamanho de amostra menor que 30 elementos, e se pudermos afirmar que a população se distribui aproximadamente como uma normal e o desvio padrão populacional for conhecido, deve-se utilizar a distribuição normal.\n",
        "> - Para um tamanho de amostra menor que 30 elementos, e se pudermos afirmar que a população se distribui aproximadamente como uma normal e o desvio padrão populacional for desconhecido, deve-se utilizar a distribuição t de Student.\n",
        "\n",
        "<img src='https://caelum-online-public.s3.amazonaws.com/1229-estatistica-parte3/01/img003.png' width=70%>\n",
        "\n",
        "### **Passo 3** - fixação da significância do teste ($\\alpha$), que define as regiões de aceitação e rejeição das hipóteses (os valores mais freqüentes são 10%, 5% e 1%);\n",
        "\n",
        "> ### <font color='red'>Pontos importantes</font>\n",
        "> - O **nível de confiança** ($1 - \\alpha$) representa a probabilidade de acerto da estimativa. De forma complementar o **nível de significância** ($\\alpha$) expressa a probabilidade de erro da estimativa.\n",
        ">\n",
        "> ![Níveis de Confiança e significância](https://caelum-online-public.s3.amazonaws.com/1229-estatistica-parte3/01/img001.png)\n",
        ">\n",
        "> - O **nível de confiança** representa o grau de confiabilidade do resultado da estimativa estar dentro de determinado intervalo. Quando fixamos em uma pesquisa um **nível de confiança** de 95%, por exemplo, estamos assumindo que existe uma probabilidade de 95% dos resultados da pesquisa representarem bem a realidade, ou seja, estarem corretos.\n",
        ">\n",
        "> ![Áreas de Aceitação e Rejeição](https://caelum-online-public.s3.amazonaws.com/1229-estatistica-parte3/01/img002.png)\n",
        "\n",
        "### **Passo 4** - cálculo da estatística-teste e verificação desse valor com as áreas de aceitação e rejeição do teste;\n",
        "\n",
        "> ### <font color='red'>Pontos importantes</font>\n",
        "> - Nos testes paramétricos, distância relativa entre a estatística amostral e o valor alegado como provável.\n",
        "> - Neste passo são obtidas as estatísticas amostrais necessárias à execução do teste (média, desvio-padrão, graus de liberdade etc.)\n",
        "\n",
        "\n",
        "### **Passo 5** - Aceitação ou rejeição da hipótese nula.\n",
        "\n",
        "> ### <font color='red'>Pontos importantes</font>\n",
        "> - No caso de o intervalo de aceitação conter a estatística-teste, aceita-se $H_0$ como estatisticamente válido e rejeita-se $H_1$ como tal.\n",
        "> - No caso de o intervalo de aceitação não conter a estatística-teste, rejeita-se $H_0$ e aceita-se $H_1$ como provavelmente verdadeira. \n",
        "> - A aceitação também se verifica com a probabilidade de cauda (p-valor): se maior que $\\alpha$, aceita-se $H_0$."
      ]
    },
    {
      "cell_type": "markdown",
      "metadata": {
        "id": "YCZbxmK58rPT",
        "colab_type": "text"
      },
      "source": [
        "#TESTES PARAMÉTRICOS"
      ]
    },
    {
      "cell_type": "markdown",
      "metadata": {
        "id": "eT2rApBg8SoN",
        "colab_type": "text"
      },
      "source": [
        "## Estatísticas de Teste para Uma Amostra"
      ]
    },
    {
      "cell_type": "markdown",
      "metadata": {
        "id": "RACxIU_Y7uu5",
        "colab_type": "text"
      },
      "source": [
        "<img src='https://caelum-online-public.s3.amazonaws.com/1229-estatistica-parte3/01/img013.png' width=90%>"
      ]
    },
    {
      "cell_type": "markdown",
      "metadata": {
        "id": "nvUt24xQ8YcY",
        "colab_type": "text"
      },
      "source": [
        "## Estatísticas de Teste para duas amostras"
      ]
    },
    {
      "cell_type": "markdown",
      "metadata": {
        "id": "pY8_8ta78dSI",
        "colab_type": "text"
      },
      "source": [
        "<img src='https://caelum-online-public.s3.amazonaws.com/1229-estatistica-parte3/01/img014.png' width=90%>"
      ]
    },
    {
      "cell_type": "markdown",
      "metadata": {
        "id": "AqzRuIP78uwV",
        "colab_type": "text"
      },
      "source": [
        "# TESTES NÃO PARAMÉTRICOS"
      ]
    },
    {
      "cell_type": "markdown",
      "metadata": {
        "id": "Xw8viwy_8xfJ",
        "colab_type": "text"
      },
      "source": [
        "### TESTE DO QUI QUADRADO\n",
        "Também conhecido como teste de adequação ao ajustamento, seu nome se deve ao fato de utilizar uma variável estatística padronizada, representada pela letra grega qui ( $\\chi$) elevada ao quadrado. A tabela com os valores padronizados e como obtê-la podem ser vistos logo abaixo.\n",
        "\n",
        "O teste do $\\chi^2$ testa a hipótese nula de não haver diferença entre as frequências observadas de um determinado evento e as frequências que são realmente esperadas para este evento.\n",
        "\n",
        "Os passos de aplicação do teste são bem parecidos aos vistos para os testes paramétricos.\n",
        "\n",
        "![Região de Aceitação](https://caelum-online-public.s3.amazonaws.com/1229-estatistica-parte3/01/img017.png)"
      ]
    },
    {
      "cell_type": "markdown",
      "metadata": {
        "id": "tax9pwRj9FNf",
        "colab_type": "text"
      },
      "source": [
        "#### cálculo da estatística-teste e verificação desse valor com as áreas de aceitação e rejeição do teste\n",
        "\n",
        "# $$\\chi^2 = \\sum_{i=1}^{k}{\\frac{(F_{i}^{Obs} - F_{i}^{Esp})^2}{F_{i}^{Esp}}}$$\n",
        "\n",
        "Onde\n",
        "\n",
        "$F_{i}^{Obs}$ = frequência observada para o evento $i$\n",
        "\n",
        "$F_{i}^{Esp}$ = frequência esperada para o evento $i$\n",
        "\n",
        "$k$ = total de eventos possíveis"
      ]
    },
    {
      "cell_type": "markdown",
      "metadata": {
        "id": "s7WbM9LU9NnY",
        "colab_type": "text"
      },
      "source": [
        "<img src='https://caelum-online-public.s3.amazonaws.com/1229-estatistica-parte3/01/img020.png' width=80%>"
      ]
    },
    {
      "cell_type": "markdown",
      "metadata": {
        "id": "6tgHsQStAS92",
        "colab_type": "text"
      },
      "source": [
        "### TESTE DE WILCOXON\n",
        "\n",
        "#### Comparação de duas populações - amostras dependentes\n",
        "\n",
        "Empregado quando se deseja comparar duas amostras relacionadas, amostras emparelhadas. Pode ser aplicado quando se deseja testar a diferença de duas condições, isto é, quando um mesmo elemento é submetido a duas medidas."
      ]
    },
    {
      "cell_type": "markdown",
      "metadata": {
        "id": "IwtiOE5TAZZk",
        "colab_type": "text"
      },
      "source": [
        "\n",
        "# $$Z = \\frac{T - \\mu_T}{\\sigma_T}$$\n",
        "\n",
        "Onde\n",
        "\n",
        "## $T$ = menor das somas de postos de mesmo sinal\n",
        "\n",
        "# $$\\mu_T = \\frac{n(n+1)}{4}$$\n",
        "# $$\\sigma_T = \\sqrt{\\frac{n(n + 1)(2n + 1)}{24}}$$"
      ]
    },
    {
      "cell_type": "markdown",
      "metadata": {
        "id": "1RNQ-sl2rUTQ",
        "colab_type": "text"
      },
      "source": [
        "<img src='https://caelum-online-public.s3.amazonaws.com/1229-estatistica-parte3/01/img022.png' width='80%'>"
      ]
    },
    {
      "cell_type": "markdown",
      "metadata": {
        "id": "hELNB-FCrX3y",
        "colab_type": "text"
      },
      "source": [
        "### TESTE DE MANN-WHITNEY\n",
        "#### Comparação de duas populações - amostras independentes\n",
        "Mann-Whitney é um teste não paramétrico utilizado para verificar se duas amostras independentes foram selecionadas a partir de populações que têm a mesma média. Por ser um teste não paramétrico, Mann-Whitney torna-se uma alternativa ao teste paramétrico de comparação de médias."
      ]
    },
    {
      "cell_type": "markdown",
      "metadata": {
        "id": "Q4CBKdexrt-3",
        "colab_type": "text"
      },
      "source": [
        "####Cálculo da estatística-teste e verificação desse valor com as áreas de aceitação e rejeição do teste\n",
        "## 1. Definir os n's:\n",
        "### $n_1$ = nº de elementos do menor grupo\n",
        "### $n_2$ = nº de elementos do maior grupo\n",
        "---\n",
        "## 2. Obter a soma dos postos\n",
        "### $R_1$ = soma dos postos do grupo $n_1$\n",
        "### $R_2$ = soma dos postos do grupo $n_2$\n",
        "---\n",
        "## 3. Obter as estatísticas\n",
        "# $$u_1 = n_1 \\times n_2 + \\frac{n_1 \\times (n_1 + 1)}{2} - R_1$$\n",
        "# $$u_2 = n_1 \\times n_2 + \\frac{n_2 \\times (n_2 + 1)}{2} - R_2$$\n",
        "---\n",
        "## 4. Selecionar o menor U\n",
        "# $$u = min(u_1, u_2)$$\n",
        "---\n",
        "## 5. Obter a estatística de teste\n",
        "# $$Z = \\frac{u - \\mu{(u)}}{\\sigma{(u)}}$$\n",
        "\n",
        "Onde\n",
        "\n",
        "# $$\\mu{(u)} = \\frac{n_1 \\times n_2}{2}$$\n",
        "# $$\\sigma{(u)} = \\sqrt{\\frac{n_1 \\times n_2 \\times (n_1 + n_2 + 1)}{12}}$$"
      ]
    },
    {
      "cell_type": "markdown",
      "metadata": {
        "id": "PjVsdcKfrzK5",
        "colab_type": "text"
      },
      "source": [
        "<img src='https://caelum-online-public.s3.amazonaws.com/1229-estatistica-parte3/01/img025.png' width='80%'>"
      ]
    },
    {
      "cell_type": "markdown",
      "metadata": {
        "id": "BjipXNs36ZpX",
        "colab_type": "text"
      },
      "source": [
        "# LISTA DE BIBLIOTECAS\n"
      ]
    },
    {
      "cell_type": "code",
      "metadata": {
        "id": "OjSmoULr6okM",
        "colab_type": "code",
        "colab": {}
      },
      "source": [
        "#facilita a análise dos dados\n",
        "import pandas as pd\n",
        "\n",
        "#facilita operações matemáticas\n",
        "import numpy as np\n",
        "\n",
        "#TESTA A HIPÓTESE NULA DE QUE É UMA DISTRIBUIÇÃO NORMAL\n",
        "from scipy.stats import normaltest \n",
        "\n",
        "#para definir z_alpha/2 numa distribuição normal usamos a função ppf (norm.ppf(probabilidade))\n",
        "from scipy.stats import norm\n",
        "\n",
        "#biblioteca para fazer o teste z (input x1=amostra, value = media buscada - output z_test, p_value)\n",
        "from statsmodels.stats.weightstats import ztest\n",
        "\n",
        "#estatísticas descritivas (recebe amostra como parâmetro para criar um objeto de teste, \n",
        "#usamos o ztest_mean para achar Z e o p_value, e o ttest para achar o t ao invés do z (também retorna p_value))\n",
        "from statsmodels.stats.weightstats import DescrStatsW\n",
        "\n",
        "#para calcular o t_student (para obter o t_alpha usamos t_student.ppf(confianca,graus de liberdade))\n",
        "from scipy.stats import t as t_student\n",
        "\n",
        "#usamos o Compareemeans para um teste paramétrico com duas amostras (retorna z e p_value)\n",
        "from statsmodels.stats.weightstats import CompareMeans\n",
        "\n",
        "#Para cálculo de qui-quadrado (teste não paramétrico com uma única amostra)\n",
        "from scipy.stats import chi\n",
        "from scipy.stats import chisquare\n",
        "\n",
        "#Para um teste de hipótese não paramétrico com amostras dependentes\n",
        "from scipy.stats import wilcoxon\n",
        "\n",
        "#Para um teste de hipótese não paramétrico com amostras independentes\n",
        "from scipy.stats import mannwhitneyu\n",
        "\n"
      ],
      "execution_count": 0,
      "outputs": []
    },
    {
      "cell_type": "markdown",
      "metadata": {
        "id": "4dzhJoAPtqGq",
        "colab_type": "text"
      },
      "source": [
        "#DOCUMENTAÇÕES"
      ]
    },
    {
      "cell_type": "markdown",
      "metadata": {
        "id": "SIKGdnGptspj",
        "colab_type": "text"
      },
      "source": [
        "https://docs.scipy.org/doc/scipy/reference/generated/scipy.stats.norm.html\n",
        "https://www.statsmodels.org/stable/generated/statsmodels.stats.weightstats.ztest.html\n",
        "https://www.statsmodels.org/dev/generated/statsmodels.stats.weightstats.DescrStatsW.html\n",
        "https://www.statsmodels.org/dev/generated/statsmodels.stats.weightstats.CompareMeans.ttest_ind.html\n",
        "https://docs.scipy.org/doc/scipy/reference/generated/scipy.stats.chi.html\n",
        "https://docs.scipy.org/doc/scipy/reference/generated/scipy.stats.chisquare.html\n",
        "https://docs.scipy.org/doc/scipy/reference/generated/scipy.stats.wilcoxon.html\n",
        "https://docs.scipy.org/doc/scipy/reference/generated/scipy.stats.mannwhitneyu.html"
      ]
    },
    {
      "cell_type": "code",
      "metadata": {
        "id": "NmbfBsTQ6ugj",
        "colab_type": "code",
        "colab": {}
      },
      "source": [
        ""
      ],
      "execution_count": 0,
      "outputs": []
    }
  ]
}