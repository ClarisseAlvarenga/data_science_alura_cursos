{
  "nbformat": 4,
  "nbformat_minor": 0,
  "metadata": {
    "colab": {
      "name": "Python_para_Data_Science_Alura - Primeiros Passos.ipynb",
      "provenance": [],
      "collapsed_sections": [
        "HF5JbSSUvrKH",
        "pX7i8leRMNZc",
        "nSrQ3viITqZE"
      ],
      "authorship_tag": "ABX9TyP/4g9U5j7siDU29zSGcqf9",
      "include_colab_link": true
    },
    "kernelspec": {
      "name": "python3",
      "display_name": "Python 3"
    }
  },
  "cells": [
    {
      "cell_type": "markdown",
      "metadata": {
        "id": "view-in-github",
        "colab_type": "text"
      },
      "source": [
        "<a href=\"https://colab.research.google.com/github/ClarisseAlvarenga/data_science_alura_cursos/blob/master/Python_para_Data_Science_Alura_Primeiros_Passos.ipynb\" target=\"_parent\"><img src=\"https://colab.research.google.com/assets/colab-badge.svg\" alt=\"Open In Colab\"/></a>"
      ]
    },
    {
      "cell_type": "markdown",
      "metadata": {
        "id": "HF5JbSSUvrKH",
        "colab_type": "text"
      },
      "source": [
        "#Aula 01 - Variáveis, Funções e Linguagem de Alto Nível"
      ]
    },
    {
      "cell_type": "markdown",
      "metadata": {
        "id": "-hERxrM1w1sQ",
        "colab_type": "text"
      },
      "source": [
        "A comunidade do Python convencionou que para strings se usa comumente as aspas simples"
      ]
    },
    {
      "cell_type": "code",
      "metadata": {
        "id": "7l0bsD1uvYgP",
        "colab_type": "code",
        "colab": {}
      },
      "source": [
        "#Criando uma variável\n",
        "nome = 'Clarisse'\n",
        "idade = 39"
      ],
      "execution_count": null,
      "outputs": []
    },
    {
      "cell_type": "code",
      "metadata": {
        "id": "Be4_aEyewrKs",
        "colab_type": "code",
        "colab": {
          "base_uri": "https://localhost:8080/",
          "height": 34
        },
        "outputId": "92e32cba-d3d3-45f0-bccf-d8f3d1df8eab"
      },
      "source": [
        "#executando uma função nativa do python\n",
        "#usando o f\n",
        "print(f'O nome é {nome} e a idade é {idade} anos')"
      ],
      "execution_count": null,
      "outputs": [
        {
          "output_type": "stream",
          "text": [
            "O nome é Clarisse e a idade é 39 anos\n"
          ],
          "name": "stdout"
        }
      ]
    },
    {
      "cell_type": "markdown",
      "metadata": {
        "id": "B_iqupoEI1dh",
        "colab_type": "text"
      },
      "source": [
        "## Criando uma função"
      ]
    },
    {
      "cell_type": "code",
      "metadata": {
        "id": "6SnUoSYFxGOx",
        "colab_type": "code",
        "colab": {}
      },
      "source": [
        "#criando uma função\n",
        "def saudacao():\n",
        "  nome = input('Qual é o seu nome? ')\n",
        "  print(f'Olá {nome}')\n",
        "\n"
      ],
      "execution_count": null,
      "outputs": []
    },
    {
      "cell_type": "code",
      "metadata": {
        "id": "rwd38W1nJcUI",
        "colab_type": "code",
        "colab": {
          "base_uri": "https://localhost:8080/",
          "height": 51
        },
        "outputId": "9d1e0505-fb65-4aec-ba6a-84916b56732d"
      },
      "source": [
        "#executando a função\n",
        "saudacao()"
      ],
      "execution_count": null,
      "outputs": [
        {
          "output_type": "stream",
          "text": [
            "Qual é o seu nome? Clarisse\n",
            "Olá Clarisse\n"
          ],
          "name": "stdout"
        }
      ]
    },
    {
      "cell_type": "markdown",
      "metadata": {
        "id": "jtxCTPxmJ3tU",
        "colab_type": "text"
      },
      "source": [
        "## Linguagem de alto nível"
      ]
    },
    {
      "cell_type": "markdown",
      "metadata": {
        "id": "_JAYuX-5J82G",
        "colab_type": "text"
      },
      "source": [
        "Linguagem de alto nível se assemelham à linguagem humana. As de baixo nível são mais parecidas com \"linguagem de máquina\"\n",
        "\n",
        "**Vantagens**\n",
        "\n",
        "|Alto Nível|Baixo Nível|\n",
        "|---|---|\n",
        "|Mais fácil de aprender|Melhor aproveitamento e desempenho da máquina|\n",
        "\n",
        "**Desvantagens**\n",
        "\n",
        "|Alto Nível|Baixo Nível|\n",
        "|---|---|\n",
        "|Precisa de um Interpretador|Mais difícil de aprender|\n",
        "\n",
        "\n"
      ]
    },
    {
      "cell_type": "markdown",
      "metadata": {
        "id": "oiP4mINVLveL",
        "colab_type": "text"
      },
      "source": [
        "Python é uma linguagem de programação interpretada, orientada a objetos, de alto nível e com semântica dinâmica.\n",
        "\n",
        "A simplicidade do Python reduz a manutenção de um programa. Python suporta módulos e pacotes(conteúdo que veremos ao longo do curso), que encoraja a programação modularizada e reuso de códigos.\n",
        "\n",
        "É uma das linguagens que mais tem crescido devido sua compatibilidade (roda na maioria dos sistemas operacionais) e capacidade de auxiliar outras linguagens. Programas como Dropbox, Reddit e Instagram são escritos em Python.\n",
        "\n",
        "Python também é a linguagem mais popular para análise de dados e conquistou a comunidade científica."
      ]
    },
    {
      "cell_type": "markdown",
      "metadata": {
        "id": "6VNeKluELbj4",
        "colab_type": "text"
      },
      "source": [
        "###Exercício"
      ]
    },
    {
      "cell_type": "code",
      "metadata": {
        "id": "OfAgqrFLJdmh",
        "colab_type": "code",
        "colab": {
          "base_uri": "https://localhost:8080/",
          "height": 68
        },
        "outputId": "c6b43ee4-373b-4694-d069-d57b5666c71e"
      },
      "source": [
        "def nome_completo():\n",
        " primeiro_nome = input('Qual seu primeiro nome? ')\n",
        " sobrenome = input('Qual seu sobrenome? ')\n",
        " nome_inteiro = primeiro_nome + ' ' + sobrenome\n",
        " print(nome_inteiro)\n",
        "\n",
        "nome_completo()"
      ],
      "execution_count": null,
      "outputs": [
        {
          "output_type": "stream",
          "text": [
            "Qual seu primeiro nome? Clarisse\n",
            "Qual seu sobrenome? Alvarenga\n",
            "Clarisse Alvarenga\n"
          ],
          "name": "stdout"
        }
      ]
    },
    {
      "cell_type": "markdown",
      "metadata": {
        "id": "pX7i8leRMNZc",
        "colab_type": "text"
      },
      "source": [
        "# Aula 02 - Parâmetros, condicionais e conversão de tipos"
      ]
    },
    {
      "cell_type": "markdown",
      "metadata": {
        "id": "QmSOtMZ-NI3a",
        "colab_type": "text"
      },
      "source": [
        "##Parâmetros"
      ]
    },
    {
      "cell_type": "code",
      "metadata": {
        "id": "SQ9untKHLdLX",
        "colab_type": "code",
        "colab": {}
      },
      "source": [
        "#incluindo um parâmetro na função - neste caso o nome_da_pessoa\n",
        "nome = 'Clarisse'\n",
        "def saudacao_com_parametro(nome_da_pessoa):\n",
        "  print(f'Olá {nome_da_pessoa}')\n",
        "  "
      ],
      "execution_count": null,
      "outputs": []
    },
    {
      "cell_type": "code",
      "metadata": {
        "id": "IONi-pQVMuNc",
        "colab_type": "code",
        "colab": {
          "base_uri": "https://localhost:8080/",
          "height": 34
        },
        "outputId": "ea88bd98-f42b-4c0e-bd1a-98ae45908f9c"
      },
      "source": [
        "#chamando a função com o parâmetro criado\n",
        "saudacao_com_parametro(nome)"
      ],
      "execution_count": null,
      "outputs": [
        {
          "output_type": "stream",
          "text": [
            "Olá Clarisse\n"
          ],
          "name": "stdout"
        }
      ]
    },
    {
      "cell_type": "code",
      "metadata": {
        "id": "XdIJaNtAMyX7",
        "colab_type": "code",
        "colab": {
          "base_uri": "https://localhost:8080/",
          "height": 34
        },
        "outputId": "6d77c97c-728f-435b-c190-87328b8b3c85"
      },
      "source": [
        "nome = 'João'\n",
        "saudacao_com_parametro(nome)"
      ],
      "execution_count": null,
      "outputs": [
        {
          "output_type": "stream",
          "text": [
            "Olá João\n"
          ],
          "name": "stdout"
        }
      ]
    },
    {
      "cell_type": "markdown",
      "metadata": {
        "id": "Qnb_l4MhNLNO",
        "colab_type": "text"
      },
      "source": [
        "## Condicionais"
      ]
    },
    {
      "cell_type": "code",
      "metadata": {
        "id": "-G3mxdJlM6PL",
        "colab_type": "code",
        "colab": {}
      },
      "source": [
        "#usando o if\n",
        "idade = 20\n",
        "def verifica_se_pode_dirigir(idade):\n",
        "  if idade >= 18:\n",
        "    print('Tem idade para dirigir')\n",
        "  else:\n",
        "    print('Não possui idade para dirigir')\n"
      ],
      "execution_count": null,
      "outputs": []
    },
    {
      "cell_type": "code",
      "metadata": {
        "id": "mOZ8NFaZNx2x",
        "colab_type": "code",
        "colab": {
          "base_uri": "https://localhost:8080/",
          "height": 34
        },
        "outputId": "2859df53-7511-40aa-9a13-1c3d271a804a"
      },
      "source": [
        "verifica_se_pode_dirigir(idade)"
      ],
      "execution_count": null,
      "outputs": [
        {
          "output_type": "stream",
          "text": [
            "Tem idade para dirigir\n"
          ],
          "name": "stdout"
        }
      ]
    },
    {
      "cell_type": "code",
      "metadata": {
        "id": "eOg3_OO8N0Ka",
        "colab_type": "code",
        "colab": {
          "base_uri": "https://localhost:8080/",
          "height": 34
        },
        "outputId": "911cce5b-20c1-4032-fb4e-3337bb5f552e"
      },
      "source": [
        "idade = 15\n",
        "verifica_se_pode_dirigir(idade)"
      ],
      "execution_count": null,
      "outputs": [
        {
          "output_type": "stream",
          "text": [
            "Não possui idade para dirigir\n"
          ],
          "name": "stdout"
        }
      ]
    },
    {
      "cell_type": "markdown",
      "metadata": {
        "id": "ZvgTLAyoOKvo",
        "colab_type": "text"
      },
      "source": [
        "## Conversão de tipos"
      ]
    },
    {
      "cell_type": "code",
      "metadata": {
        "id": "M15MuaLnN3IK",
        "colab_type": "code",
        "colab": {}
      },
      "source": [
        "def verifica_se_pode_dirigir_sem_parametros():\n",
        "  idade = int(input('Qual a sua idade? ')) #convertendo o input para um número inteiro\n",
        "  if idade >= 18:\n",
        "    print('Tem idade para dirigir')\n",
        "  else:\n",
        "    print('Não possui idade para dirigir')\n"
      ],
      "execution_count": null,
      "outputs": []
    },
    {
      "cell_type": "code",
      "metadata": {
        "id": "xGnksIBpQYpl",
        "colab_type": "code",
        "colab": {
          "base_uri": "https://localhost:8080/",
          "height": 51
        },
        "outputId": "6bc88b9f-628c-4cd8-946b-bb1c68421409"
      },
      "source": [
        "verifica_se_pode_dirigir_sem_parametros()"
      ],
      "execution_count": null,
      "outputs": [
        {
          "output_type": "stream",
          "text": [
            "Qual a sua idade? 39\n",
            "Tem idade para dirigir\n"
          ],
          "name": "stdout"
        }
      ]
    },
    {
      "cell_type": "code",
      "metadata": {
        "id": "PoS9D3OuQaqM",
        "colab_type": "code",
        "colab": {}
      },
      "source": [
        ""
      ],
      "execution_count": null,
      "outputs": []
    },
    {
      "cell_type": "markdown",
      "metadata": {
        "id": "3mAN8dkyR7cA",
        "colab_type": "text"
      },
      "source": [
        "### Exercício: Criar uma função para verificar a velocidade"
      ]
    },
    {
      "cell_type": "code",
      "metadata": {
        "id": "yC0HFnaHSBkQ",
        "colab_type": "code",
        "colab": {}
      },
      "source": [
        "def calcula_velocidade(espaco_em_metros,tempo_em_segundos):\n",
        "  print(f'Velocidade: {int(espaco_em_metros/tempo_em_segundos)}m/s')"
      ],
      "execution_count": null,
      "outputs": []
    },
    {
      "cell_type": "code",
      "metadata": {
        "id": "1JGjW__kSOfw",
        "colab_type": "code",
        "colab": {
          "base_uri": "https://localhost:8080/",
          "height": 34
        },
        "outputId": "2a9dcc0d-24fe-4af6-f268-a612a035e9c6"
      },
      "source": [
        "calcula_velocidade(100,20)"
      ],
      "execution_count": null,
      "outputs": [
        {
          "output_type": "stream",
          "text": [
            "Velocidade: 5m/s\n"
          ],
          "name": "stdout"
        }
      ]
    },
    {
      "cell_type": "markdown",
      "metadata": {
        "id": "xPPL1ok1S1o1",
        "colab_type": "text"
      },
      "source": [
        "### Operadores em Python\n",
        "\n",
        "\n",
        "|Operador|Descrição|\n",
        "|---|---|\n",
        "|a == b|\ta igual a b|\n",
        "|a != b|\ta diferente de b|\n",
        "|a < b|\ta menor do que b|\n",
        "|a > b|\ta maior do que b|\n",
        "|a <= b|\ta menor ou igual a b|\n",
        "|a >= b|\ta maior ou igual a b|\n"
      ]
    },
    {
      "cell_type": "markdown",
      "metadata": {
        "id": "nSrQ3viITqZE",
        "colab_type": "text"
      },
      "source": [
        "# Aula 03: Listas, repetições e tipo booleano"
      ]
    },
    {
      "cell_type": "markdown",
      "metadata": {
        "id": "9SYnBp44T046",
        "colab_type": "text"
      },
      "source": [
        "## Lista"
      ]
    },
    {
      "cell_type": "code",
      "metadata": {
        "id": "mmAbO5HfSQ8p",
        "colab_type": "code",
        "colab": {
          "base_uri": "https://localhost:8080/",
          "height": 34
        },
        "outputId": "9fe30aab-bb2e-4704-cdfc-c3fd5f4f5731"
      },
      "source": [
        "#verificando o tipo de uma variável\n",
        "#inteiro\n",
        "idade = 39\n",
        "type(idade)"
      ],
      "execution_count": null,
      "outputs": [
        {
          "output_type": "execute_result",
          "data": {
            "text/plain": [
              "int"
            ]
          },
          "metadata": {
            "tags": []
          },
          "execution_count": 39
        }
      ]
    },
    {
      "cell_type": "code",
      "metadata": {
        "id": "kH5npYs5T6_W",
        "colab_type": "code",
        "colab": {
          "base_uri": "https://localhost:8080/",
          "height": 34
        },
        "outputId": "b43176fc-6314-4b3f-c350-fc49bc8f1352"
      },
      "source": [
        "#string\n",
        "nome = 'Clarisse'\n",
        "type(nome)"
      ],
      "execution_count": null,
      "outputs": [
        {
          "output_type": "execute_result",
          "data": {
            "text/plain": [
              "str"
            ]
          },
          "metadata": {
            "tags": []
          },
          "execution_count": 40
        }
      ]
    },
    {
      "cell_type": "code",
      "metadata": {
        "id": "4nIsYHJOUDZG",
        "colab_type": "code",
        "colab": {
          "base_uri": "https://localhost:8080/",
          "height": 34
        },
        "outputId": "8f0c3071-1880-4690-f041-d47a0b251ac7"
      },
      "source": [
        "#lista\n",
        "idades = [18,22,15,50]\n",
        "#indices: 0,1,2,3 \n",
        "#ou: 0, -3, -2, -1\n",
        "type(idades)"
      ],
      "execution_count": null,
      "outputs": [
        {
          "output_type": "execute_result",
          "data": {
            "text/plain": [
              "list"
            ]
          },
          "metadata": {
            "tags": []
          },
          "execution_count": 60
        }
      ]
    },
    {
      "cell_type": "code",
      "metadata": {
        "id": "BUulLg16UI3N",
        "colab_type": "code",
        "colab": {
          "base_uri": "https://localhost:8080/",
          "height": 34
        },
        "outputId": "c1d8f6ed-85a4-4828-9dc0-3bcf8105942a"
      },
      "source": [
        "#buscando uma idade específica em idades\n",
        "idades[1] #busca-se por índice, a contagem inicia do 0, ou seja, uma lista com 4 elementos possui índices 0,1,2 e 3."
      ],
      "execution_count": null,
      "outputs": [
        {
          "output_type": "execute_result",
          "data": {
            "text/plain": [
              "22"
            ]
          },
          "metadata": {
            "tags": []
          },
          "execution_count": 61
        }
      ]
    },
    {
      "cell_type": "code",
      "metadata": {
        "id": "Aqqd3H7ZUTb1",
        "colab_type": "code",
        "colab": {
          "base_uri": "https://localhost:8080/",
          "height": 34
        },
        "outputId": "c71c0dd6-9b01-4c49-f62c-9b2eb7e99b93"
      },
      "source": [
        "#buscando um grupo dentro da lista\n",
        "#exclui o elemento do segundo índice\n",
        "idades[0:3]"
      ],
      "execution_count": null,
      "outputs": [
        {
          "output_type": "execute_result",
          "data": {
            "text/plain": [
              "[18, 22, 15]"
            ]
          },
          "metadata": {
            "tags": []
          },
          "execution_count": 62
        }
      ]
    },
    {
      "cell_type": "code",
      "metadata": {
        "id": "mG-r3an7Ul0V",
        "colab_type": "code",
        "colab": {
          "base_uri": "https://localhost:8080/",
          "height": 34
        },
        "outputId": "b9f087ae-6c8c-4696-ca50-d43d41e43d05"
      },
      "source": [
        "#indo até o final, a partir de um índice específico\n",
        "idades[1:]\n"
      ],
      "execution_count": null,
      "outputs": [
        {
          "output_type": "execute_result",
          "data": {
            "text/plain": [
              "[22, 15, 50]"
            ]
          },
          "metadata": {
            "tags": []
          },
          "execution_count": 63
        }
      ]
    },
    {
      "cell_type": "code",
      "metadata": {
        "id": "l4-lNtx8U4qU",
        "colab_type": "code",
        "colab": {
          "base_uri": "https://localhost:8080/",
          "height": 34
        },
        "outputId": "ce656df7-8dcd-4960-f0a8-a987706d2600"
      },
      "source": [
        "#buscando apenas o último índice\n",
        "idades[-1] #o índice pode ser negativo, ou seja, a lista é circular"
      ],
      "execution_count": null,
      "outputs": [
        {
          "output_type": "execute_result",
          "data": {
            "text/plain": [
              "50"
            ]
          },
          "metadata": {
            "tags": []
          },
          "execution_count": 64
        }
      ]
    },
    {
      "cell_type": "markdown",
      "metadata": {
        "id": "l9MfV3lEVlh-",
        "colab_type": "text"
      },
      "source": [
        "## Repetições (Iterações) - Laços e Loops"
      ]
    },
    {
      "cell_type": "code",
      "metadata": {
        "id": "6JM8I0JDU-k8",
        "colab_type": "code",
        "colab": {}
      },
      "source": [
        "def verifica_se_pode_dirigir(idade):\n",
        "  if idade >= 18:\n",
        "    print(f'{idade} anos de idade. TEM idade para dirigir')\n",
        "  else:\n",
        "    print(f'{idade} anos de idade. NÃO TEM idade para dirigir')"
      ],
      "execution_count": null,
      "outputs": []
    },
    {
      "cell_type": "code",
      "metadata": {
        "id": "Rtt2P0WXVvza",
        "colab_type": "code",
        "colab": {
          "base_uri": "https://localhost:8080/",
          "height": 85
        },
        "outputId": "7deba84d-79da-4f69-d09f-aca6f9e244bd"
      },
      "source": [
        "#usando o for fora da função\n",
        "for idade in idades:\n",
        "  verifica_se_pode_dirigir(idade)"
      ],
      "execution_count": null,
      "outputs": [
        {
          "output_type": "stream",
          "text": [
            "18 anos de idade. TEM idade para dirigir\n",
            "22 anos de idade. TEM idade para dirigir\n",
            "15 anos de idade. NÃO TEM idade para dirigir\n",
            "50 anos de idade. TEM idade para dirigir\n"
          ],
          "name": "stdout"
        }
      ]
    },
    {
      "cell_type": "code",
      "metadata": {
        "id": "qjP1ENJxWKna",
        "colab_type": "code",
        "colab": {}
      },
      "source": [
        "#incluindo o for na função\n",
        "def verifica_se_pode_dirigir_lista(idades):\n",
        "  for idade in idades:\n",
        "    if idade>=18:\n",
        "      print(f'{idade} anos de idade. TEM idade para dirigir')\n",
        "    else:\n",
        "      print(f'{idade} anos de idade. NÃO TEM idade para dirigir')"
      ],
      "execution_count": null,
      "outputs": []
    },
    {
      "cell_type": "code",
      "metadata": {
        "id": "VdoTwHOIWyl6",
        "colab_type": "code",
        "colab": {
          "base_uri": "https://localhost:8080/",
          "height": 85
        },
        "outputId": "e5e73452-4973-4c77-b71e-951036ab0d14"
      },
      "source": [
        "verifica_se_pode_dirigir_lista(idades)"
      ],
      "execution_count": null,
      "outputs": [
        {
          "output_type": "stream",
          "text": [
            "18 anos de idade. TEM idade para dirigir\n",
            "22 anos de idade. TEM idade para dirigir\n",
            "15 anos de idade. NÃO TEM idade para dirigir\n",
            "50 anos de idade. TEM idade para dirigir\n"
          ],
          "name": "stdout"
        }
      ]
    },
    {
      "cell_type": "markdown",
      "metadata": {
        "id": "Q00FNt_SXC_U",
        "colab_type": "text"
      },
      "source": [
        "## Boolean"
      ]
    },
    {
      "cell_type": "code",
      "metadata": {
        "id": "2kpoHztZW0XI",
        "colab_type": "code",
        "colab": {
          "base_uri": "https://localhost:8080/",
          "height": 34
        },
        "outputId": "2791cfd3-7d8a-4f15-9389-78ce7a83b980"
      },
      "source": [
        "idade = 18\n",
        "idade >= 18"
      ],
      "execution_count": null,
      "outputs": [
        {
          "output_type": "execute_result",
          "data": {
            "text/plain": [
              "True"
            ]
          },
          "metadata": {
            "tags": []
          },
          "execution_count": 69
        }
      ]
    },
    {
      "cell_type": "code",
      "metadata": {
        "id": "-hmd6Qi_XNvo",
        "colab_type": "code",
        "colab": {
          "base_uri": "https://localhost:8080/",
          "height": 34
        },
        "outputId": "39905de3-af4f-4e32-e123-8e99070c8f73"
      },
      "source": [
        "idade <18"
      ],
      "execution_count": null,
      "outputs": [
        {
          "output_type": "execute_result",
          "data": {
            "text/plain": [
              "False"
            ]
          },
          "metadata": {
            "tags": []
          },
          "execution_count": 71
        }
      ]
    },
    {
      "cell_type": "code",
      "metadata": {
        "id": "mNVQQRQVXRKX",
        "colab_type": "code",
        "colab": {}
      },
      "source": [
        "#criando uma lista vazia\n",
        "permissoes = []"
      ],
      "execution_count": null,
      "outputs": []
    },
    {
      "cell_type": "code",
      "metadata": {
        "id": "LaFOXvEQXc9P",
        "colab_type": "code",
        "colab": {}
      },
      "source": [
        "idades = [20,14,40]"
      ],
      "execution_count": null,
      "outputs": []
    },
    {
      "cell_type": "code",
      "metadata": {
        "id": "Z9dxmrZnXfdm",
        "colab_type": "code",
        "colab": {}
      },
      "source": [
        "def verifica_se_pode_dirigir_boolean(idades, permissoes):\n",
        "  for idade in idades:\n",
        "    if idade >= 18:\n",
        "      permissoes.append(True)\n",
        "    else:\n",
        "      permissoes.append(False)"
      ],
      "execution_count": null,
      "outputs": []
    },
    {
      "cell_type": "code",
      "metadata": {
        "id": "870_wjojXytu",
        "colab_type": "code",
        "colab": {}
      },
      "source": [
        "#executando a função\n",
        "verifica_se_pode_dirigir_boolean(idades,permissoes)"
      ],
      "execution_count": null,
      "outputs": []
    },
    {
      "cell_type": "code",
      "metadata": {
        "id": "kIT3rboOX1O-",
        "colab_type": "code",
        "colab": {
          "base_uri": "https://localhost:8080/",
          "height": 34
        },
        "outputId": "bd9a7379-18f3-4298-a4d3-34396e208f4e"
      },
      "source": [
        "#vendo a lista\n",
        "permissoes"
      ],
      "execution_count": null,
      "outputs": [
        {
          "output_type": "execute_result",
          "data": {
            "text/plain": [
              "[True, False, True]"
            ]
          },
          "metadata": {
            "tags": []
          },
          "execution_count": 77
        }
      ]
    },
    {
      "cell_type": "code",
      "metadata": {
        "id": "yWE0VSdqX2TH",
        "colab_type": "code",
        "colab": {
          "base_uri": "https://localhost:8080/",
          "height": 68
        },
        "outputId": "1c44f2c5-47b4-4887-c532-e78e052a5ceb"
      },
      "source": [
        "#trabalhando com uma lista booleana\n",
        "for permissao in permissoes:\n",
        "  if permissao == True:\n",
        "    print('TEM idade para dirigir')\n",
        "  else:\n",
        "    print('NÃO tEM idade para dirigir')\n"
      ],
      "execution_count": null,
      "outputs": [
        {
          "output_type": "stream",
          "text": [
            "TEM idade para dirigir\n",
            "NÃO tEM idade para dirigir\n",
            "TEM idade para dirigir\n"
          ],
          "name": "stdout"
        }
      ]
    },
    {
      "cell_type": "markdown",
      "metadata": {
        "id": "lpIIdB6SYif5",
        "colab_type": "text"
      },
      "source": [
        "### Exercício - vou colocar todas as respostas\n",
        "\n",
        "Assim que acessamos a página da alura, vemos o seguinte slogan:\n",
        "\n",
        "Cursos de Tecnologia e Negócios Digitais\n",
        "\n",
        "Sabendo disso observe o código abaixo com todas as palavras em uma lista fora de ordem:\n",
        "\n",
        "frase_alura = [' Digitais', 'e ', 'Negócios ', 'de ', 'Tecnologia ', 'Cursos ']\n",
        "\n",
        "\n",
        "Sabendo disso, analise as alternativas abaixo e marque aquela que exibe o slogan de forma correta:"
      ]
    },
    {
      "cell_type": "code",
      "metadata": {
        "id": "-9sXVlGpYJjm",
        "colab_type": "code",
        "colab": {}
      },
      "source": [
        "#Variável: \n",
        "frase_alura = [' Digitais', 'e ', 'Negócios ', 'de ', 'Tecnologia ', 'Cursos ']"
      ],
      "execution_count": null,
      "outputs": []
    },
    {
      "cell_type": "code",
      "metadata": {
        "id": "K2D2o0LiYxyt",
        "colab_type": "code",
        "colab": {
          "base_uri": "https://localhost:8080/",
          "height": 35
        },
        "outputId": "430419e4-888a-406f-e853-17e16c8beec3"
      },
      "source": [
        "#Minha resposta\n",
        "frase_alura[-1] + frase_alura[-3] +frase_alura[-2] + frase_alura[1] +frase_alura[2] + frase_alura[0]"
      ],
      "execution_count": null,
      "outputs": [
        {
          "output_type": "execute_result",
          "data": {
            "application/vnd.google.colaboratory.intrinsic": {
              "type": "string"
            },
            "text/plain": [
              "'Cursos de Tecnologia e Negócios  Digitais'"
            ]
          },
          "metadata": {
            "tags": []
          },
          "execution_count": 82
        }
      ]
    },
    {
      "cell_type": "code",
      "metadata": {
        "id": "waEEI9HaZJ0c",
        "colab_type": "code",
        "colab": {
          "base_uri": "https://localhost:8080/",
          "height": 35
        },
        "outputId": "960af5c5-23f8-4785-f9f3-1b6b824c7f50"
      },
      "source": [
        "#resposta A\n",
        "frase_alura[-1] + frase_alura[-3] + frase_alura[-2] + frase_alura[-5] + frase_alura[-6] + frase_alura[-4]"
      ],
      "execution_count": null,
      "outputs": [
        {
          "output_type": "execute_result",
          "data": {
            "application/vnd.google.colaboratory.intrinsic": {
              "type": "string"
            },
            "text/plain": [
              "'Cursos de Tecnologia e  DigitaisNegócios '"
            ]
          },
          "metadata": {
            "tags": []
          },
          "execution_count": 83
        }
      ]
    },
    {
      "cell_type": "code",
      "metadata": {
        "id": "OUFO0MP4ZP-7",
        "colab_type": "code",
        "colab": {
          "base_uri": "https://localhost:8080/",
          "height": 35
        },
        "outputId": "51192504-01af-4fcf-9641-2120919771b1"
      },
      "source": [
        "#resposta B\n",
        "frase_alura[-1] + frase_alura[4] + frase_alura[5] + frase_alura[2] + frase_alura[3] + frase_alura[1]"
      ],
      "execution_count": null,
      "outputs": [
        {
          "output_type": "execute_result",
          "data": {
            "application/vnd.google.colaboratory.intrinsic": {
              "type": "string"
            },
            "text/plain": [
              "'Cursos Tecnologia Cursos Negócios de e '"
            ]
          },
          "metadata": {
            "tags": []
          },
          "execution_count": 84
        }
      ]
    },
    {
      "cell_type": "code",
      "metadata": {
        "id": "c8qJMv4BZVI7",
        "colab_type": "code",
        "colab": {
          "base_uri": "https://localhost:8080/",
          "height": 35
        },
        "outputId": "244d03b4-0332-415a-d239-622fd3e961a8"
      },
      "source": [
        "#resposta C\n",
        "frase_alura[-1] + frase_alura[3] + frase_alura[-2] + frase_alura[1] + frase_alura[2] + frase_alura[0]"
      ],
      "execution_count": null,
      "outputs": [
        {
          "output_type": "execute_result",
          "data": {
            "application/vnd.google.colaboratory.intrinsic": {
              "type": "string"
            },
            "text/plain": [
              "'Cursos de Tecnologia e Negócios  Digitais'"
            ]
          },
          "metadata": {
            "tags": []
          },
          "execution_count": 85
        }
      ]
    },
    {
      "cell_type": "code",
      "metadata": {
        "id": "LLx15-ngZYFD",
        "colab_type": "code",
        "colab": {
          "base_uri": "https://localhost:8080/",
          "height": 35
        },
        "outputId": "b5110a2b-71c1-46bc-b34f-b65d7b258fde"
      },
      "source": [
        "#resposta D\n",
        "frase_alura[5] + frase_alura[3] + frase_alura[4] + frase_alura[1] + frase_alura[2] + frase_alura[1]"
      ],
      "execution_count": null,
      "outputs": [
        {
          "output_type": "execute_result",
          "data": {
            "application/vnd.google.colaboratory.intrinsic": {
              "type": "string"
            },
            "text/plain": [
              "'Cursos de Tecnologia e Negócios e '"
            ]
          },
          "metadata": {
            "tags": []
          },
          "execution_count": 86
        }
      ]
    },
    {
      "cell_type": "markdown",
      "metadata": {
        "id": "fFbqKqxPZipM",
        "colab_type": "text"
      },
      "source": [
        "A condicional if é uma estrutura condicional que executa um trecho de código, caso a afirmação seja verdadeira. Se for falsa, executa as afirmações dentro de else.\n",
        "\n",
        "Sabendo disso, observe o seguinte código:\n",
        "\n",
        "a=2\n",
        "\n",
        "if a < 2:\n",
        " a = a + 1\n",
        "else:\n",
        " a = a + 2\n",
        "if a < 4:\n",
        " a = a - 4\n",
        "else:\n",
        " a = a + 6\n",
        "\n",
        "a\n",
        "Analisando o código acima, podemos afirmar que:"
      ]
    },
    {
      "cell_type": "code",
      "metadata": {
        "id": "Cb7to3bwZcTr",
        "colab_type": "code",
        "colab": {
          "base_uri": "https://localhost:8080/",
          "height": 34
        },
        "outputId": "ab67817e-df72-48ba-a644-643c00f320c9"
      },
      "source": [
        "a=2\n",
        "\n",
        "if a < 2:\n",
        " a = a + 1\n",
        "else:\n",
        " a = a + 2\n",
        "if a < 4:\n",
        " a = a - 4\n",
        "else:\n",
        " a = a + 6\n",
        "\n",
        "a"
      ],
      "execution_count": null,
      "outputs": [
        {
          "output_type": "execute_result",
          "data": {
            "text/plain": [
              "10"
            ]
          },
          "metadata": {
            "tags": []
          },
          "execution_count": 87
        }
      ]
    },
    {
      "cell_type": "markdown",
      "metadata": {
        "id": "0s40eZeyZ1Tr",
        "colab_type": "text"
      },
      "source": [
        "### Para saber mais:\n",
        "**Variáveis, float e nomes das variáveis**\n",
        "\n",
        "Podemos pedir para o Python lembrar de um valor que queiramos utilizar. O Python vai guardar este valor em uma variável.\n",
        "\n",
        "Variável é um nome que faz referência a um valor. É como uma etiqueta que colocamos naquele valor e quando precisarmos usar, chamamos pelo nome que foi dado na etiqueta.\n",
        "\n",
        "Um comando de atribuição (o sinal de igualdade =) cria uma nova variável e atribui um valor a ela, conforme vimos em aula.\n",
        "\n",
        "**Float**\n",
        "\n",
        "Além dos tipos vistos em aula, existe um tipo para armazenar um valor decimal, conforme ilustra o exemplo abaixo:\n",
        "\n",
        "pi = 3.14\n",
        "type(pi)\n",
        "Ao executar esses códigos, observe que a saída será:\n",
        "\n",
        "float\n",
        "\n",
        "Observe que no lugar de separar o valor com virgula( 3,14 ) usamos um ponto( 3.14 ).\n",
        "\n",
        "**Nome das variáveis**\n",
        "\n",
        "Programadores escolhem nomes para variáveis que sejam semânticos. Esses nomes podem ser bem longos, podem conter letras e números.\n",
        "\n",
        "É uma convenção entre os programadores Python começar a variável com letras minúsculas e utilizar o underscore (_) para separar palavras como:  **meunome, numero_de_cadastro, telefone_residencial.** Esse padrão é chamado de **snake case**.\n"
      ]
    },
    {
      "cell_type": "code",
      "metadata": {
        "id": "Mx7_kMXfZuzD",
        "colab_type": "code",
        "colab": {}
      },
      "source": [
        ""
      ],
      "execution_count": null,
      "outputs": []
    },
    {
      "cell_type": "markdown",
      "metadata": {
        "id": "9cHoLAbSabQO",
        "colab_type": "text"
      },
      "source": [
        "# Aula 04 - O sistema de Imports"
      ]
    },
    {
      "cell_type": "markdown",
      "metadata": {
        "id": "sJXg0DQNapMh",
        "colab_type": "text"
      },
      "source": [
        "## Tipos em uma lista"
      ]
    },
    {
      "cell_type": "code",
      "metadata": {
        "id": "Rc2A-f3gaevR",
        "colab_type": "code",
        "colab": {}
      },
      "source": [
        "lista = ['Guilherme', 28, True, '18', 3.14]"
      ],
      "execution_count": null,
      "outputs": []
    },
    {
      "cell_type": "code",
      "metadata": {
        "id": "6lq_rnPvazln",
        "colab_type": "code",
        "colab": {
          "base_uri": "https://localhost:8080/",
          "height": 102
        },
        "outputId": "cbb04cb1-d8a2-4c7c-a516-92d7e1103cde"
      },
      "source": [
        "for item in lista:\n",
        "  print(f'O elemento {item} é do tipo: ', type(item))"
      ],
      "execution_count": null,
      "outputs": [
        {
          "output_type": "stream",
          "text": [
            "O elemento Guilherme é do tipo:  <class 'str'>\n",
            "O elemento 28 é do tipo:  <class 'int'>\n",
            "O elemento True é do tipo:  <class 'bool'>\n",
            "O elemento 18 é do tipo:  <class 'str'>\n",
            "O elemento 3.14 é do tipo:  <class 'float'>\n"
          ],
          "name": "stdout"
        }
      ]
    },
    {
      "cell_type": "markdown",
      "metadata": {
        "id": "95srBs_4bjQ8",
        "colab_type": "text"
      },
      "source": [
        "## Imports"
      ]
    },
    {
      "cell_type": "code",
      "metadata": {
        "id": "-kD6lK0ZbF1I",
        "colab_type": "code",
        "colab": {}
      },
      "source": [
        "#importando a lib RANDOM\n",
        "import random"
      ],
      "execution_count": null,
      "outputs": []
    },
    {
      "cell_type": "markdown",
      "metadata": {
        "id": "y4CREwHrdorE",
        "colab_type": "text"
      },
      "source": [
        "**Informação importante**: Para garantir que os valores das notas sejam os mesmos, ao definir o valor inicial do seed com valor 11 e testar uma única vez exibindo a nota 7, a próxima execução deve ser feita no loop atribuindo os valores das notas na lista notas_matematica."
      ]
    },
    {
      "cell_type": "code",
      "metadata": {
        "id": "Qj5LGv7zbssf",
        "colab_type": "code",
        "colab": {
          "base_uri": "https://localhost:8080/",
          "height": 34
        },
        "outputId": "09fa827c-e3c1-45a6-d9ca-d3e2d8742595"
      },
      "source": [
        "#importando direto a função\n",
        "from random import randrange, seed\n",
        "#criando números inteiros usando a função randranges da lib\n",
        "#mesma coisa que buscar na lista, ele exclui o final\n",
        "randrange(0,11,1)"
      ],
      "execution_count": null,
      "outputs": [
        {
          "output_type": "execute_result",
          "data": {
            "text/plain": [
              "8"
            ]
          },
          "metadata": {
            "tags": []
          },
          "execution_count": 117
        }
      ]
    },
    {
      "cell_type": "code",
      "metadata": {
        "id": "TtXdk1Tlb6tn",
        "colab_type": "code",
        "colab": {}
      },
      "source": [
        "notas_matematica = []\n",
        "for notas in range(8): #definindo quantas vezes a função vai rodar\n",
        "  notas_matematica.append(randrange(0,11))"
      ],
      "execution_count": null,
      "outputs": []
    },
    {
      "cell_type": "code",
      "metadata": {
        "id": "t5HNHPf5cy09",
        "colab_type": "code",
        "colab": {
          "base_uri": "https://localhost:8080/",
          "height": 34
        },
        "outputId": "04ebe7ef-6b2c-4471-96b0-b86048c898fa"
      },
      "source": [
        "notas_matematica"
      ],
      "execution_count": null,
      "outputs": [
        {
          "output_type": "execute_result",
          "data": {
            "text/plain": [
              "[7, 10, 9, 2, 1, 7, 4, 2]"
            ]
          },
          "metadata": {
            "tags": []
          },
          "execution_count": 119
        }
      ]
    },
    {
      "cell_type": "code",
      "metadata": {
        "id": "AAhlnDDkcz_1",
        "colab_type": "code",
        "colab": {
          "base_uri": "https://localhost:8080/",
          "height": 34
        },
        "outputId": "ca1a968f-6ae9-48df-8023-ab926855afbe"
      },
      "source": [
        "#verificando o tamanho da lista\n",
        "len(notas_matematica)"
      ],
      "execution_count": null,
      "outputs": [
        {
          "output_type": "execute_result",
          "data": {
            "text/plain": [
              "8"
            ]
          },
          "metadata": {
            "tags": []
          },
          "execution_count": 120
        }
      ]
    },
    {
      "cell_type": "code",
      "metadata": {
        "id": "E_Ciis4Kc4MV",
        "colab_type": "code",
        "colab": {}
      },
      "source": [
        "#definindo um número base para que todas as vezes que a função for rodada trazer o mesmo resultado\n",
        "seed(11)\n",
        "notas_matematica = []\n",
        "for notas in range(8): #definindo quantas vezes a função vai rodar\n",
        "  notas_matematica.append(randrange(0,11))"
      ],
      "execution_count": null,
      "outputs": []
    },
    {
      "cell_type": "code",
      "metadata": {
        "id": "SrNsUnOfdL0d",
        "colab_type": "code",
        "colab": {
          "base_uri": "https://localhost:8080/",
          "height": 34
        },
        "outputId": "e8854057-5926-4c89-b8c5-9126b87decb3"
      },
      "source": [
        "notas_matematica"
      ],
      "execution_count": null,
      "outputs": [
        {
          "output_type": "execute_result",
          "data": {
            "text/plain": [
              "[7, 8, 7, 7, 8, 9, 3, 2]"
            ]
          },
          "metadata": {
            "tags": []
          },
          "execution_count": 146
        }
      ]
    },
    {
      "cell_type": "markdown",
      "metadata": {
        "id": "zUHOx_OVecCT",
        "colab_type": "text"
      },
      "source": [
        "#Aula 05 - Plotando um Gráfico"
      ]
    },
    {
      "cell_type": "code",
      "metadata": {
        "id": "s6A_izh4dO5b",
        "colab_type": "code",
        "colab": {}
      },
      "source": [
        "import matplotlib.pyplot as plt\n"
      ],
      "execution_count": null,
      "outputs": []
    },
    {
      "cell_type": "code",
      "metadata": {
        "id": "iq_3UTLTekD5",
        "colab_type": "code",
        "colab": {
          "base_uri": "https://localhost:8080/",
          "height": 51
        },
        "outputId": "64779d1e-950f-4c53-9712-94c2c52c59a7"
      },
      "source": [
        "#criando os eixos\n",
        "x = list(range(1,9))\n",
        "y = notas_matematica\n",
        "print(x)\n",
        "print(y)\n"
      ],
      "execution_count": null,
      "outputs": [
        {
          "output_type": "stream",
          "text": [
            "[1, 2, 3, 4, 5, 6, 7, 8]\n",
            "[7, 8, 7, 7, 8, 9, 3, 2]\n"
          ],
          "name": "stdout"
        }
      ]
    },
    {
      "cell_type": "code",
      "metadata": {
        "id": "w-L7qwIMhZzX",
        "colab_type": "code",
        "colab": {
          "base_uri": "https://localhost:8080/",
          "height": 404
        },
        "outputId": "dcd182e4-6385-4712-ed6e-579a80b859ea"
      },
      "source": [
        "#plotando o gráfico\n",
        "plt.figure(figsize=(12,6))\n",
        "plt.plot(x,y, marker = 'o')\n",
        "plt.title('Notas de Matemática')\n",
        "plt.xlabel('Provas')\n",
        "plt.ylabel('Notas')\n",
        "plt.show()\n",
        "\n"
      ],
      "execution_count": null,
      "outputs": [
        {
          "output_type": "display_data",
          "data": {
            "image/png": "[encoded data removed]",
            "text/plain": [
              "<Figure size 864x432 with 1 Axes>"
            ]
          },
          "metadata": {
            "tags": [],
            "needs_background": "light"
          }
        }
      ]
    },
    {
      "cell_type": "code",
      "metadata": {
        "id": "ANQCQ9Pehdz8",
        "colab_type": "code",
        "colab": {}
      },
      "source": [
        "notas_matematica = ['Matemática',8,7,6,6,7,7,8,10]\n",
        "notas_portugues = ['Português',9,9,9,8,5,6,8,5]\n",
        "notas_geografia = ['Geografia',10,10,6,7,7,7,8,7]\n",
        "\n",
        "notas = [notas_matematica, notas_portugues, notas_geografia]"
      ],
      "execution_count": null,
      "outputs": []
    },
    {
      "cell_type": "code",
      "metadata": {
        "id": "YqZWMIl0jtL8",
        "colab_type": "code",
        "colab": {
          "base_uri": "https://localhost:8080/",
          "height": 851
        },
        "outputId": "fa9f2149-df93-4459-ccf0-5af0702c6c57"
      },
      "source": [
        "for nota in notas:\n",
        " x = list(range(1, 9))\n",
        " y = nota[1:]\n",
        " plt.plot(x, y, marker='o')\n",
        " plt.xlabel('Provas')\n",
        " plt.ylabel('Notas')\n",
        " plt.title(nota[0])\n",
        " plt.show()"
      ],
      "execution_count": null,
      "outputs": [
        {
          "output_type": "display_data",
          "data": {
            "image/png": "[encoded data removed]",
            "text/plain": [
              "<Figure size 432x288 with 1 Axes>"
            ]
          },
          "metadata": {
            "tags": [],
            "needs_background": "light"
          }
        },
        {
          "output_type": "display_data",
          "data": {
            "image/png": "[encoded data removed]",
            "text/plain": [
              "<Figure size 432x288 with 1 Axes>"
            ]
          },
          "metadata": {
            "tags": [],
            "needs_background": "light"
          }
        },
        {
          "output_type": "display_data",
          "data": {
            "image/png": "[encoded data removed]",
            "text/plain": [
              "<Figure size 432x288 with 1 Axes>"
            ]
          },
          "metadata": {
            "tags": [],
            "needs_background": "light"
          }
        }
      ]
    },
    {
      "cell_type": "code",
      "metadata": {
        "id": "hviXi79Dj21v",
        "colab_type": "code",
        "colab": {}
      },
      "source": [
        ""
      ],
      "execution_count": null,
      "outputs": []
    }
  ]
}