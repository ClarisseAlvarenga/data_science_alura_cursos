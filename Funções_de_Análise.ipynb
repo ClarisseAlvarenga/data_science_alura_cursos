{
  "nbformat": 4,
  "nbformat_minor": 0,
  "metadata": {
    "colab": {
      "name": "Funções de Análise.ipynb",
      "provenance": [],
      "authorship_tag": "ABX9TyOnnOTTGj17zQ8kTByw/ZaR",
      "include_colab_link": true
    },
    "kernelspec": {
      "name": "python3",
      "display_name": "Python 3"
    }
  },
  "cells": [
    {
      "cell_type": "markdown",
      "metadata": {
        "id": "view-in-github",
        "colab_type": "text"
      },
      "source": [
        "<a href=\"https://colab.research.google.com/github/ClarisseAlvarenga/data_science_alura_cursos/blob/master/Fun%C3%A7%C3%B5es_de_An%C3%A1lise.ipynb\" target=\"_parent\"><img src=\"https://colab.research.google.com/assets/colab-badge.svg\" alt=\"Open In Colab\"/></a>"
      ]
    },
    {
      "cell_type": "markdown",
      "metadata": {
        "id": "eIzdehHasxbr",
        "colab_type": "text"
      },
      "source": [
        "#BIBLIOTECAS USADAS NAS FUNÇÕES"
      ]
    },
    {
      "cell_type": "code",
      "metadata": {
        "id": "Gw48rFjDDD4_",
        "colab_type": "code",
        "outputId": "882e6d79-9d07-4012-b490-111ff3b8c18c",
        "colab": {
          "base_uri": "https://localhost:8080/",
          "height": 51
        }
      },
      "source": [
        "import pandas as pd\n",
        "import seaborn as sns\n",
        "import matplotlib.pyplot as plt\n",
        "import numpy as np\n",
        "from scipy.stats import norm"
      ],
      "execution_count": 0,
      "outputs": [
        {
          "output_type": "stream",
          "text": [
            "/usr/local/lib/python3.6/dist-packages/statsmodels/tools/_testing.py:19: FutureWarning: pandas.util.testing is deprecated. Use the functions in the public API at pandas.testing instead.\n",
            "  import pandas.util.testing as tm\n"
          ],
          "name": "stderr"
        }
      ]
    },
    {
      "cell_type": "markdown",
      "metadata": {
        "id": "wmwarwUQsrKq",
        "colab_type": "text"
      },
      "source": [
        "# FUNÇÕES PARA SÉRIES TEMPORAIS"
      ]
    },
    {
      "cell_type": "markdown",
      "metadata": {
        "id": "GZelliQJs16X",
        "colab_type": "text"
      },
      "source": [
        "## Gráfico de Série Temporal"
      ]
    },
    {
      "cell_type": "code",
      "metadata": {
        "id": "2VUs37TcDNWM",
        "colab_type": "code",
        "colab": {}
      },
      "source": [
        "#criando uma função para gerar Gráfico de linha de tempo\n",
        "def plotar(titulo, labelx, labely, x, y, dataset):\n",
        "  sns.set_palette('Accent') #cores\n",
        "  sns.set_style('darkgrid') #estilo das linhas de grade\n",
        "  #atribuir o gráfico a uma variável - tira as informações do objeto da visualização além de facilitar a customização\n",
        "  ax = sns.lineplot(x=x, y=y, data = dataset) #define o tipo do gráfico e das variáveis\n",
        "  ax.figure.set_size_inches(12,6) #configura o tamanho\n",
        "  ax.set_title(titulo,loc='left', fontsize=18) #configura o título\n",
        "  ax.set_xlabel(labelx, fontsize=14) #configura o rótulo do eixo X\n",
        "  ax.set_ylabel(labely, fontsize=14) # configura o rótulo do eixo Y\n",
        "  ax=ax"
      ],
      "execution_count": 0,
      "outputs": []
    },
    {
      "cell_type": "markdown",
      "metadata": {
        "id": "WbGTQdPOtYok",
        "colab_type": "text"
      },
      "source": [
        "## Plot Comparativo entre valor/aumento e aceleração"
      ]
    },
    {
      "cell_type": "code",
      "metadata": {
        "id": "q-YNXQ5GDT9a",
        "colab_type": "code",
        "colab": {}
      },
      "source": [
        "#criando uma função de plot comparativo entre valor/aumento e aceleração\n",
        "def plot_comparacao(x, y1, y2,y3, dataset,titulo):\n",
        "  plt.figure(figsize=(16,12))\n",
        "  ax = plt.subplot(3,1,1) #3 linhas, um gráfico por linha\n",
        "  ax.set_title(titulo, fontsize=18, loc='left')\n",
        "  sns.lineplot(x=x, y=y1, data = dataset)\n",
        "  plt.subplot(3,1,2)\n",
        "  sns.lineplot(x=x, y=y2, data = dataset)\n",
        "  plt.subplot(3,1,3)\n",
        "  sns.lineplot(x=x, y=y3, data = dataset)\n",
        "  ax=ax"
      ],
      "execution_count": 0,
      "outputs": []
    },
    {
      "cell_type": "markdown",
      "metadata": {
        "id": "HmbUpTSltd0j",
        "colab_type": "text"
      },
      "source": [
        "## Criar aumento e aceleração num DF com base em uma coluna de valor"
      ]
    },
    {
      "cell_type": "code",
      "metadata": {
        "id": "mxdt5RnREEvD",
        "colab_type": "code",
        "colab": {}
      },
      "source": [
        "#função para criar aumento e aceleração\n",
        "def criar_colunas_aumento_aceleracao(dataset, coluna):\n",
        "  dataset['aumento'] = dataset[coluna].diff()\n",
        "  dataset['aceleracao'] = dataset['aumento'].diff()"
      ],
      "execution_count": 0,
      "outputs": []
    },
    {
      "cell_type": "markdown",
      "metadata": {
        "id": "YgpryLVGsl5z",
        "colab_type": "text"
      },
      "source": [
        "# FUNÇÕES PARA CÁLCULOS ESTATÍSTICOS (Considerando sempre a distribuição normal dos dados)"
      ]
    },
    {
      "cell_type": "markdown",
      "metadata": {
        "id": "PUT4-LgJtlAe",
        "colab_type": "text"
      },
      "source": [
        "## Calcular Z numa distribuição normal, tendo média e desvio padrão de uma variável normal"
      ]
    },
    {
      "cell_type": "markdown",
      "metadata": {
        "id": "UH-HgCorGjuY",
        "colab_type": "text"
      },
      "source": [
        "As tabelas padronizadas foram criadas para facilitar a obtenção dos valores das áreas sob a curva normal e eliminar a necessidade de solucionar integrais definidas.\n",
        "\n",
        "Para consultarmos os valores em uma tabela padronizada basta transformarmos nossa variável em uma variável padronizada  Z .\n",
        "\n",
        "Esta variável  Z  representa o afastamento em desvios padrões de um valor da variável original em relação à média."
      ]
    },
    {
      "cell_type": "markdown",
      "metadata": {
        "id": "mj68AuPbGy3N",
        "colab_type": "text"
      },
      "source": [
        "# $$Z = \\frac{x-\\mu}{\\sigma}$$\n",
        "\n",
        "Onde:\n",
        "\n",
        "$x$ = variável normal com média $\\mu$ e desvio padrão $\\sigma$\n",
        "\n",
        "$\\sigma$ = desvio padrão\n",
        "\n",
        "$\\mu$ = média"
      ]
    },
    {
      "cell_type": "code",
      "metadata": {
        "id": "R-6q4N85GYU5",
        "colab_type": "code",
        "colab": {}
      },
      "source": [
        "#criar uma função para calcular Z em uma distribuição normal\n",
        "def calcula_z(x, media,desvio_padrao):\n",
        "  return (x-media)/desvio_padrao\n",
        "\n",
        " "
      ],
      "execution_count": 0,
      "outputs": []
    },
    {
      "cell_type": "markdown",
      "metadata": {
        "id": "iUapUH6jt1dl",
        "colab_type": "text"
      },
      "source": [
        "## Calcular a área entre dois limites usando o Z superior e inferior (Calculado com a função de cima)"
      ]
    },
    {
      "cell_type": "markdown",
      "metadata": {
        "id": "ZBOe-JAmG_Ts",
        "colab_type": "text"
      },
      "source": [
        "<img style='float: left' src='https://caelum-online-public.s3.amazonaws.com/1178-estatistica-parte2/01/img005.png' width='350px'>\n",
        "\n",
        "A função abaixo calcula a área entre dois limites, usando o Z calculado com a função de cima, retorna a área de um gráfico como o da figura acima, por exemplo"
      ]
    },
    {
      "cell_type": "code",
      "metadata": {
        "id": "frEUa_7DGt38",
        "colab_type": "code",
        "colab": {}
      },
      "source": [
        "\n",
        "#cria uma função para criar probabilidade  entre dois valores numa distribuição normal\n",
        "#usar o limite superior e o limite inferior que você quer calcular(pensa nos pontos no gráfico de distribuição normal)\n",
        "def calcula_probabilidade_entre_Zs(Z_superior,Z_inferior): \n",
        "  return norm.cdf(Z_superior) - norm.cdf(Z_inferior)"
      ],
      "execution_count": 0,
      "outputs": []
    },
    {
      "cell_type": "markdown",
      "metadata": {
        "id": "xOX6EuGquHfN",
        "colab_type": "text"
      },
      "source": [
        "## Calculando erro inferencial e sigma"
      ]
    },
    {
      "cell_type": "markdown",
      "metadata": {
        "id": "2tdUrJajaVG2",
        "colab_type": "text"
      },
      "source": [
        "O erro inferencial é definido pelo desvio padrão das médias amostrais σx¯ e pelo nível de confiança determinado para o processo.\n",
        "\n"
      ]
    },
    {
      "cell_type": "markdown",
      "metadata": {
        "id": "KFIEG1gDaZnb",
        "colab_type": "text"
      },
      "source": [
        "# $$e = z \\frac{\\sigma}{\\sqrt{n}}$$"
      ]
    },
    {
      "cell_type": "code",
      "metadata": {
        "id": "KtVP28eOHCQc",
        "colab_type": "code",
        "colab": {}
      },
      "source": [
        "#depende do numpy\n",
        "#uma função para calcular erro inferencial, já calculando o sigma. O n é o tamanho da amostra, o Z é definido pelo intervalo de confiança (tabelado)\n",
        "#o desvio padrão e o erro são devolvidos na mesma medida da variável da amostra (reais, gramas, anos, etc)\n",
        "def calcula_erro_inferencial(z, desvio_padrao, n):\n",
        "  sigma = desvio_padrao /np.sqrt(n)\n",
        "  return  z * sigma\n",
        "\n",
        "  "
      ],
      "execution_count": 0,
      "outputs": []
    },
    {
      "cell_type": "code",
      "metadata": {
        "id": "UoNeapU0akB6",
        "colab_type": "code",
        "colab": {}
      },
      "source": [
        "#depende do numpy\n",
        "#uma função separada para calcular o sigma\n",
        "#sigma = desvio_padrao /np.sqrt(n)\n",
        "def calcula_sigma(desvio_padrao, n):\n",
        "  return desvio_padrao /np.sqrt(n)\n",
        "\n"
      ],
      "execution_count": 0,
      "outputs": []
    },
    {
      "cell_type": "markdown",
      "metadata": {
        "id": "nhOE8LIauOv3",
        "colab_type": "text"
      },
      "source": [
        "## Calculando o n de uma amostra com população FINITA"
      ]
    },
    {
      "cell_type": "markdown",
      "metadata": {
        "id": "6WyeuiDerXC3",
        "colab_type": "text"
      },
      "source": [
        "#### Com desvio padrão conhecido\n",
        "\n",
        "## $$n = \\frac{z^2 \\sigma^2 N}{z^2 \\sigma^2 + e^2(N-1)}$$\n",
        "\n",
        "#### Com desvio padrão desconhecido\n",
        "\n",
        "## $$n = \\frac{z^2 s^2 N}{z^2 s^2 + e^2(N-1)}$$\n",
        "\n",
        "Onde:\n",
        "\n",
        "$N$ = tamanho da população\n",
        "\n",
        "$z$ = variável normal padronizada\n",
        "\n",
        "$\\sigma$ = desvio padrão populacional\n",
        "\n",
        "$s$ = desvio padrão amostral\n",
        "\n",
        "$e$ = erro inferencial"
      ]
    },
    {
      "cell_type": "code",
      "metadata": {
        "id": "YgH4i1Blem6C",
        "colab_type": "code",
        "colab": {}
      },
      "source": [
        "#depende do norm do scipy\n",
        "#função para calcular o n mínimo para uma população FINITA, dados o tamanho da população, a variável normal padronizada, o desvio padrão amostral e o erro inferencial desejado)\n",
        "#informar s para desvio padrão amostral ou sigma para desvio padrão populacional no lugar do s na função\n",
        "\n",
        "def calcula_n_populacao_finita(z, s, N, erro):\n",
        "  return (((z**2)*(s**2)* (N))/ (((z**2)*(s**2)) + ((erro**2 )* (N-1)))).round()"
      ],
      "execution_count": 0,
      "outputs": []
    },
    {
      "cell_type": "markdown",
      "metadata": {
        "id": "Of2kaiHDzz0J",
        "colab_type": "text"
      },
      "source": [
        "## Calculando n de uma amostra com população infinita"
      ]
    },
    {
      "cell_type": "markdown",
      "metadata": {
        "id": "wxFvvo7U0RVB",
        "colab_type": "text"
      },
      "source": [
        "#### Com desvio padrão conhecido\n",
        "\n",
        "## $$n = \\left(z\\frac{\\sigma}{e}\\right)^2$$\n",
        "\n",
        "#### Com desvio padrão desconhecido\n",
        "\n",
        "## $$n = \\left(z\\frac{s}{e}\\right)^2$$\n",
        "\n",
        "Onde:\n",
        "\n",
        "$z$ = variável normal padronizada\n",
        "\n",
        "$\\sigma$ = desvio padrão populacional\n",
        "\n",
        "$s$ = desvio padrão amostral\n",
        "\n",
        "$e$ = erro inferencial"
      ]
    },
    {
      "cell_type": "code",
      "metadata": {
        "id": "UVtuY7-4z4rF",
        "colab_type": "code",
        "colab": {}
      },
      "source": [
        "def calcula_n_populacao_infinita(z, sigma,erro):\n",
        "  return (z * (sigma/erro))**2\n"
      ],
      "execution_count": 0,
      "outputs": []
    },
    {
      "cell_type": "markdown",
      "metadata": {
        "id": "sAzXXs2EuiF_",
        "colab_type": "text"
      },
      "source": [
        "## Calculando Z usando o nível de confiança desejado (distribuição normal)\n"
      ]
    },
    {
      "cell_type": "code",
      "metadata": {
        "id": "R6wJDYxYr1Jy",
        "colab_type": "code",
        "colab": {}
      },
      "source": [
        "#distribuição normal\n",
        "#depende do norm\n",
        "#o nível de confiança é o percentual de acerto desejado, deve ser informado entre 0 e 1 (exemplo comum, 95% de confiança = 0.95)\n",
        "def calcula_z_pelo_nivel_de_confianca(confianca):\n",
        "  probabilidade = (0.5 + (confianca/2))\n",
        "  return norm.ppf(probabilidade)\n"
      ],
      "execution_count": 0,
      "outputs": []
    },
    {
      "cell_type": "code",
      "metadata": {
        "id": "1KYi2OMou588",
        "colab_type": "code",
        "colab": {}
      },
      "source": [
        ""
      ],
      "execution_count": 0,
      "outputs": []
    }
  ]
}