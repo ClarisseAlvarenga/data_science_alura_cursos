{
  "nbformat": 4,
  "nbformat_minor": 0,
  "metadata": {
    "colab": {
      "name": "Funções de Análise.ipynb",
      "provenance": [],
      "authorship_tag": "ABX9TyPUFBH53mgjWjuLXYbQxcid",
      "include_colab_link": true
    },
    "kernelspec": {
      "name": "python3",
      "display_name": "Python 3"
    }
  },
  "cells": [
    {
      "cell_type": "markdown",
      "metadata": {
        "id": "view-in-github",
        "colab_type": "text"
      },
      "source": [
        "<a href=\"https://colab.research.google.com/github/ClarisseAlvarenga/data_science_alura_cursos/blob/master/Fun%C3%A7%C3%B5es_de_An%C3%A1lise.ipynb\" target=\"_parent\"><img src=\"https://colab.research.google.com/assets/colab-badge.svg\" alt=\"Open In Colab\"/></a>"
      ]
    },
    {
      "cell_type": "code",
      "metadata": {
        "id": "Gw48rFjDDD4_",
        "colab_type": "code",
        "outputId": "882e6d79-9d07-4012-b490-111ff3b8c18c",
        "colab": {
          "base_uri": "https://localhost:8080/",
          "height": 51
        }
      },
      "source": [
        "import pandas as pd\n",
        "import seaborn as sns\n",
        "import matplotlib.pyplot as plt\n",
        "import numpy as np\n",
        "from scipy.stats import norm"
      ],
      "execution_count": 1,
      "outputs": [
        {
          "output_type": "stream",
          "text": [
            "/usr/local/lib/python3.6/dist-packages/statsmodels/tools/_testing.py:19: FutureWarning: pandas.util.testing is deprecated. Use the functions in the public API at pandas.testing instead.\n",
            "  import pandas.util.testing as tm\n"
          ],
          "name": "stderr"
        }
      ]
    },
    {
      "cell_type": "code",
      "metadata": {
        "id": "2VUs37TcDNWM",
        "colab_type": "code",
        "colab": {}
      },
      "source": [
        "#criando uma função para gerar Gráfico de linha de tempo\n",
        "def plotar(titulo, labelx, labely, x, y, dataset):\n",
        "  sns.set_palette('Accent') #cores\n",
        "  sns.set_style('darkgrid') #estilo das linhas de grade\n",
        "  #atribuir o gráfico a uma variável - tira as informações do objeto da visualização além de facilitar a customização\n",
        "  ax = sns.lineplot(x=x, y=y, data = dataset) #define o tipo do gráfico e das variáveis\n",
        "  ax.figure.set_size_inches(12,6) #configura o tamanho\n",
        "  ax.set_title(titulo,loc='left', fontsize=18) #configura o título\n",
        "  ax.set_xlabel(labelx, fontsize=14) #configura o rótulo do eixo X\n",
        "  ax.set_ylabel(labely, fontsize=14) # configura o rótulo do eixo Y\n",
        "  ax=ax"
      ],
      "execution_count": 0,
      "outputs": []
    },
    {
      "cell_type": "code",
      "metadata": {
        "id": "q-YNXQ5GDT9a",
        "colab_type": "code",
        "colab": {}
      },
      "source": [
        "#criando uma função de plot comparativo entre valor/aumento e aceleração\n",
        "def plot_comparacao(x, y1, y2,y3, dataset,titulo):\n",
        "  plt.figure(figsize=(16,12))\n",
        "  ax = plt.subplot(3,1,1) #3 linhas, um gráfico por linha\n",
        "  ax.set_title(titulo, fontsize=18, loc='left')\n",
        "  sns.lineplot(x=x, y=y1, data = dataset)\n",
        "  plt.subplot(3,1,2)\n",
        "  sns.lineplot(x=x, y=y2, data = dataset)\n",
        "  plt.subplot(3,1,3)\n",
        "  sns.lineplot(x=x, y=y3, data = dataset)\n",
        "  ax=ax"
      ],
      "execution_count": 0,
      "outputs": []
    },
    {
      "cell_type": "code",
      "metadata": {
        "id": "mxdt5RnREEvD",
        "colab_type": "code",
        "colab": {}
      },
      "source": [
        "#função para criar aumento e aceleração\n",
        "def criar_colunas_aumento_aceleracao(dataset, coluna):\n",
        "  dataset['aumento'] = dataset[coluna].diff()\n",
        "  dataset['aceleracao'] = dataset['aumento'].diff()"
      ],
      "execution_count": 0,
      "outputs": []
    },
    {
      "cell_type": "markdown",
      "metadata": {
        "id": "UH-HgCorGjuY",
        "colab_type": "text"
      },
      "source": [
        "As tabelas padronizadas foram criadas para facilitar a obtenção dos valores das áreas sob a curva normal e eliminar a necessidade de solucionar integrais definidas.\n",
        "\n",
        "Para consultarmos os valores em uma tabela padronizada basta transformarmos nossa variável em uma variável padronizada  Z .\n",
        "\n",
        "Esta variável  Z  representa o afastamento em desvios padrões de um valor da variável original em relação à média."
      ]
    },
    {
      "cell_type": "markdown",
      "metadata": {
        "id": "mj68AuPbGy3N",
        "colab_type": "text"
      },
      "source": [
        "# $$Z = \\frac{x-\\mu}{\\sigma}$$\n",
        "\n",
        "Onde:\n",
        "\n",
        "$x$ = variável normal com média $\\mu$ e desvio padrão $\\sigma$\n",
        "\n",
        "$\\sigma$ = desvio padrão\n",
        "\n",
        "$\\mu$ = média"
      ]
    },
    {
      "cell_type": "code",
      "metadata": {
        "id": "R-6q4N85GYU5",
        "colab_type": "code",
        "colab": {}
      },
      "source": [
        "#criar uma função para calcular Z em uma distribuição normal\n",
        "def calcula_z(x, media,desvio_padrao):\n",
        "  return (x-media)/desvio_padrao\n",
        "\n",
        " "
      ],
      "execution_count": 0,
      "outputs": []
    },
    {
      "cell_type": "markdown",
      "metadata": {
        "id": "ZBOe-JAmG_Ts",
        "colab_type": "text"
      },
      "source": [
        "<img style='float: left' src='https://caelum-online-public.s3.amazonaws.com/1178-estatistica-parte2/01/img005.png' width='350px'>\n",
        "\n",
        "A função abaixo calcula a área entre dois limites, usando o Z calculado com a função de cima, retorna a área de um gráfico como o da figura acima, por exemplo"
      ]
    },
    {
      "cell_type": "code",
      "metadata": {
        "id": "frEUa_7DGt38",
        "colab_type": "code",
        "colab": {}
      },
      "source": [
        "\n",
        "#cria uma função para criar probabilidade  entre dois valores numa distribuição normal\n",
        "#usar o limite superior e o limite inferior que você quer calcular(pensa nos pontos no gráfico de distribuição normal)\n",
        "def calcula_probabilidade_entre_Zs(Z_superior,Z_inferior): \n",
        "  return norm.cdf(Z_superior) - norm.cdf(Z_inferior)"
      ],
      "execution_count": 0,
      "outputs": []
    },
    {
      "cell_type": "code",
      "metadata": {
        "id": "KtVP28eOHCQc",
        "colab_type": "code",
        "colab": {}
      },
      "source": [
        ""
      ],
      "execution_count": 0,
      "outputs": []
    }
  ]
}